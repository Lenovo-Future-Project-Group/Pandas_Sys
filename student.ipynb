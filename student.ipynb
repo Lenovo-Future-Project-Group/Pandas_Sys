{
 "cells": [
  {
   "cell_type": "code",
   "execution_count": 27,
   "metadata": {
    "collapsed": true,
    "pycharm": {
     "name": "#%%\n"
    }
   },
   "outputs": [],
   "source": [
    "import random\n",
    "import pandas as pd"
   ]
  },
  {
   "cell_type": "markdown",
   "source": [],
   "metadata": {
    "collapsed": false,
    "pycharm": {
     "name": "#%% md\n"
    }
   }
  },
  {
   "cell_type": "code",
   "execution_count": 28,
   "outputs": [],
   "source": [
    "def random_email(email_ws):\n",
    "    num_info = ''.join(str(i) for i in random.sample(range(0, email_ws), email_ws))\n",
    "    # sample(seq, n) 从序列seq中选择n个随机且独立的元素；randrange([start], stop[, step]) 从指定范围内，按指定基数递增的集合中 获取一个随机数\n",
    "    data = num_info + '@qq.com'\n",
    "    # n个随机且独立的元素；\n",
    "    return data"
   ],
   "metadata": {
    "collapsed": false,
    "pycharm": {
     "name": "#%%\n"
    }
   }
  },
  {
   "cell_type": "code",
   "execution_count": 29,
   "outputs": [],
   "source": [
    "def csv_to_df(csv_file):\n",
    "    csv_data = pd.read_csv(csv_file, low_memory=False)  #防止弹出警告\n",
    "    data = pd.DataFrame(csv_data)\n",
    "    return data"
   ],
   "metadata": {
    "collapsed": false,
    "pycharm": {
     "name": "#%%\n"
    }
   }
  },
  {
   "cell_type": "code",
   "execution_count": 30,
   "outputs": [],
   "source": [
    "df = csv_to_df('data/students.csv')\n",
    "df['邮箱'] = [random_email(9) for v in df.index]\n",
    "df.to_csv('data/students.csv', index=False)"
   ],
   "metadata": {
    "collapsed": false,
    "pycharm": {
     "name": "#%%\n"
    }
   }
  },
  {
   "cell_type": "code",
   "execution_count": 48,
   "outputs": [
    {
     "data": {
      "text/plain": "{0: {'姓名': '崔昊元', '性别': '女', '年龄': 18, '邮箱': '873410562@qq.com'},\n 1: {'姓名': '贾靖程', '性别': '女', '年龄': 18, '邮箱': '782043516@qq.com'},\n 2: {'姓名': '吴俊岳', '性别': '男', '年龄': 18, '邮箱': '524106783@qq.com'},\n 3: {'姓名': '王浩羽', '性别': '男', '年龄': 18, '邮箱': '867025341@qq.com'},\n 4: {'姓名': '吕梦丽', '性别': '女', '年龄': 18, '邮箱': '721548063@qq.com'},\n 5: {'姓名': '牛皓冬', '性别': '男', '年龄': 18, '邮箱': '146827503@qq.com'},\n 6: {'姓名': '张阔', '性别': '男', '年龄': 18, '邮箱': '641307285@qq.com'},\n 7: {'姓名': '孙佳奇', '性别': '男', '年龄': 18, '邮箱': '576238104@qq.com'},\n 8: {'姓名': '郑佳睦', '性别': '男', '年龄': 18, '邮箱': '051643728@qq.com'},\n 9: {'姓名': '王孝天', '性别': '男', '年龄': 18, '邮箱': '365174802@qq.com'},\n 10: {'姓名': '付一鸣', '性别': '男', '年龄': 18, '邮箱': '358170246@qq.com'},\n 11: {'姓名': '李蓉轩', '性别': '女', '年龄': 18, '邮箱': '478123065@qq.com'},\n 12: {'姓名': '陈观绅', '性别': '男', '年龄': 18, '邮箱': '350127648@qq.com'},\n 13: {'姓名': '赵鑫博', '性别': '男', '年龄': 18, '邮箱': '437601285@qq.com'},\n 14: {'姓名': '张子豪', '性别': '男', '年龄': 18, '邮箱': '325016874@qq.com'},\n 15: {'姓名': '叶平', '性别': '男', '年龄': 18, '邮箱': '467125308@qq.com'}}"
     },
     "execution_count": 48,
     "metadata": {},
     "output_type": "execute_result"
    }
   ],
   "source": [
    "dff = df[['学号', '姓名', '性别', '年龄', '邮箱']]\n",
    "dff.set_index(keys='学号', inplace=True)\n",
    "dff = dff.T\n",
    "dic = dff.to_dict()\n",
    "dic\n"
   ],
   "metadata": {
    "collapsed": false,
    "pycharm": {
     "name": "#%%\n"
    }
   }
  }
 ],
 "metadata": {
  "kernelspec": {
   "display_name": "Python 3",
   "language": "python",
   "name": "python3"
  },
  "language_info": {
   "codemirror_mode": {
    "name": "ipython",
    "version": 2
   },
   "file_extension": ".py",
   "mimetype": "text/x-python",
   "name": "python",
   "nbconvert_exporter": "python",
   "pygments_lexer": "ipython2",
   "version": "2.7.6"
  }
 },
 "nbformat": 4,
 "nbformat_minor": 0
}