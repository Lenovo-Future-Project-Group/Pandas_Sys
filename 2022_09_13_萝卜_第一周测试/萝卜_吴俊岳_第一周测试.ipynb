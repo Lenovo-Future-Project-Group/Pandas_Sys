{
 "cells": [
  {
   "cell_type": "code",
   "execution_count": null,
   "id": "a43b2c42",
   "metadata": {
    "pycharm": {
     "name": "#%%\n"
    }
   },
   "outputs": [],
   "source": [
    "import pandas as pd\n",
    "import numpy as np"
   ]
  },
  {
   "cell_type": "code",
   "execution_count": null,
   "id": "7c107ed6",
   "metadata": {
    "pycharm": {
     "name": "#%%\n"
    }
   },
   "outputs": [],
   "source": [
    "#一\n",
    "#1,创建一个series命名为s1,它的值为\"一组\",\"二组\",\"三组\",\"四组\"，它的索引1,2,3,4\n",
    "#2,打印s1的所有的值和索引\n",
    "#3,将索引为1和3的值打印出来\n",
    "#4,将1-4组的值分别改成组名\n",
    "#5,打印出s1的维度\n",
    "#二\n",
    "#1,读取student.csv文件创建DataFrame命名为def,输出def的前五行和后七行数据\n"
   ]
  }
 ],
 "metadata": {
  "kernelspec": {
   "display_name": "Python 3 (ipykernel)",
   "language": "python",
   "name": "python3"
  },
  "language_info": {
   "codemirror_mode": {
    "name": "ipython",
    "version": 3
   },
   "file_extension": ".py",
   "mimetype": "text/x-python",
   "name": "python",
   "nbconvert_exporter": "python",
   "pygments_lexer": "ipython3",
   "version": "3.9.12"
  }
 },
 "nbformat": 4,
 "nbformat_minor": 5
}