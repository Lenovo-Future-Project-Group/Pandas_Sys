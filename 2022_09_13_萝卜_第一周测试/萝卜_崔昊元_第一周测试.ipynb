{
 "cells": [
  {
   "cell_type": "code",
   "execution_count": 6,
   "metadata": {
    "collapsed": true,
    "pycharm": {
     "name": "#%%\n"
    }
   },
   "outputs": [],
   "source": [
    "import pandas as pd\n",
    "import numpy as np"
   ]
  },
  {
   "cell_type": "code",
   "execution_count": 17,
   "outputs": [
    {
     "name": "stdout",
     "output_type": "stream",
     "text": [
      "1    一组\n",
      "2    二组\n",
      "3    三组\n",
      "4    四组\n",
      "dtype: object\n",
      "一组\n",
      "三组\n"
     ]
    }
   ],
   "source": [
    "# 一\n",
    "# 1、创建一的series索引是一组二组三组四组\n",
    "data = np.array([\"一组\",\"二组\",\"三组\",\"四组\"])\n",
    "s1 = pd.Series(data, index=[1,2,3,4])\n",
    "\n",
    "# 2、打印所有s1的值和索引\n",
    "print(s1)\n",
    "\n",
    "# 3、将索引为1，3的值打印出来\n",
    "print(s1[1])\n",
    "print(s1[3])\n",
    "\n",
    "# 4、把一到四组的值改成叶原枫，琼玉，styls，黑马\n",
    "s1[1] = \"叶原枫\"\n",
    "s1[2] = \"琼玉\"\n",
    "s1[3] = \"styls\"\n",
    "s1[4] = \"黑马\"\n",
    "\n",
    "# 5、打印s1的维度\n",
    "print(s1)\n"
   ],
   "metadata": {
    "collapsed": false,
    "pycharm": {
     "name": "#%%\n"
    }
   }
  },
  {
   "cell_type": "code",
   "execution_count": 8,
   "outputs": [],
   "source": [
    "# 二\n",
    "# 6、读取csv文件，创建dataframe命名为df\n",
    "\n",
    "# 7、输出df的前五行和后七行数据"
   ],
   "metadata": {
    "collapsed": false,
    "pycharm": {
     "name": "#%%\n"
    }
   }
  },
  {
   "cell_type": "code",
   "execution_count": 9,
   "outputs": [],
   "source": [],
   "metadata": {
    "collapsed": false,
    "pycharm": {
     "name": "#%%\n"
    }
   }
  },
  {
   "cell_type": "code",
   "execution_count": null,
   "outputs": [],
   "source": [],
   "metadata": {
    "collapsed": false,
    "pycharm": {
     "name": "#%%\n"
    }
   }
  }
 ],
 "metadata": {
  "kernelspec": {
   "display_name": "Python 3",
   "language": "python",
   "name": "python3"
  },
  "language_info": {
   "codemirror_mode": {
    "name": "ipython",
    "version": 2
   },
   "file_extension": ".py",
   "mimetype": "text/x-python",
   "name": "python",
   "nbconvert_exporter": "python",
   "pygments_lexer": "ipython2",
   "version": "2.7.6"
  }
 },
 "nbformat": 4,
 "nbformat_minor": 0
}