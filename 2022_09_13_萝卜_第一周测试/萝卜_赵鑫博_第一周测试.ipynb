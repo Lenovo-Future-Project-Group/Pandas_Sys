{
 "cells": [
  {
   "cell_type": "code",
   "execution_count": 2,
   "metadata": {
    "collapsed": true,
    "pycharm": {
     "name": "#%%\n"
    }
   },
   "outputs": [],
   "source": [
    "import pandas as pd"
   ]
  },
  {
   "cell_type": "code",
   "execution_count": 7,
   "outputs": [],
   "source": [
    "# 1创建series，命名s1，它的值：一组、二组、三组、四组，它的索引是：1.2.3.4\n",
    "s1 = pd.Series(['一组','二组','三组','四组'],index=(1,2,3,4))"
   ],
   "metadata": {
    "collapsed": false,
    "pycharm": {
     "name": "#%%\n"
    }
   }
  },
  {
   "cell_type": "code",
   "execution_count": 9,
   "outputs": [
    {
     "data": {
      "text/plain": "1    一组\n2    二组\n3    三组\n4    四组\ndtype: object"
     },
     "execution_count": 9,
     "metadata": {},
     "output_type": "execute_result"
    }
   ],
   "source": [
    "# 2打印s1的所有值和索引\n",
    "s1"
   ],
   "metadata": {
    "collapsed": false,
    "pycharm": {
     "name": "#%%\n"
    }
   }
  },
  {
   "cell_type": "code",
   "execution_count": null,
   "outputs": [],
   "source": [
    "#3把索引为1和3的值打印出来\n"
   ],
   "metadata": {
    "collapsed": false,
    "pycharm": {
     "name": "#%%\n"
    }
   }
  },
  {
   "cell_type": "code",
   "execution_count": null,
   "outputs": [],
   "source": [
    "# 4将一到四组的值改为各组的名字\n"
   ],
   "metadata": {
    "collapsed": false,
    "pycharm": {
     "name": "#%%\n"
    }
   }
  },
  {
   "cell_type": "code",
   "execution_count": null,
   "outputs": [],
   "source": [
    "# 5打印s1的维度\n"
   ],
   "metadata": {
    "collapsed": false,
    "pycharm": {
     "name": "#%%\n"
    }
   }
  },
  {
   "cell_type": "code",
   "execution_count": 4,
   "outputs": [
    {
     "data": {
      "text/plain": "    序号   姓名 性别  年龄            邮箱\n0    1  崔昊元  女  17  11111@qq.com\n1    2  贾靖程  女  17  11112@qq.com\n2    3  吴俊岳  男  17  11113@qq.com\n3    4  王浩羽  男  17  11114@qq.com\n4    5  吕梦丽  女  17  11115@qq.com\n5    6  牛皓冬  男  17  11116@qq.com\n6    7   张阔  男  17  11117@qq.com\n7    8  孙佳奇  男  17  11118@qq.com\n8    9  郑佳睦  男  17  11119@qq.com\n9   10  王孝天  男  17  11120@qq.com\n10  11  付一鸣  男  17  11121@qq.com\n11  12  李蓉轩  女  17  11122@qq.com\n12  13  陈观绅  男  17  11123@qq.com\n13  14  赵鑫博  男  17  11124@qq.com\n14  15  张子豪  男  17  11125@qq.com\n15  16   叶平  男  17  11126@qq.com",
      "text/html": "<div>\n<style scoped>\n    .dataframe tbody tr th:only-of-type {\n        vertical-align: middle;\n    }\n\n    .dataframe tbody tr th {\n        vertical-align: top;\n    }\n\n    .dataframe thead th {\n        text-align: right;\n    }\n</style>\n<table border=\"1\" class=\"dataframe\">\n  <thead>\n    <tr style=\"text-align: right;\">\n      <th></th>\n      <th>序号</th>\n      <th>姓名</th>\n      <th>性别</th>\n      <th>年龄</th>\n      <th>邮箱</th>\n    </tr>\n  </thead>\n  <tbody>\n    <tr>\n      <th>0</th>\n      <td>1</td>\n      <td>崔昊元</td>\n      <td>女</td>\n      <td>17</td>\n      <td>11111@qq.com</td>\n    </tr>\n    <tr>\n      <th>1</th>\n      <td>2</td>\n      <td>贾靖程</td>\n      <td>女</td>\n      <td>17</td>\n      <td>11112@qq.com</td>\n    </tr>\n    <tr>\n      <th>2</th>\n      <td>3</td>\n      <td>吴俊岳</td>\n      <td>男</td>\n      <td>17</td>\n      <td>11113@qq.com</td>\n    </tr>\n    <tr>\n      <th>3</th>\n      <td>4</td>\n      <td>王浩羽</td>\n      <td>男</td>\n      <td>17</td>\n      <td>11114@qq.com</td>\n    </tr>\n    <tr>\n      <th>4</th>\n      <td>5</td>\n      <td>吕梦丽</td>\n      <td>女</td>\n      <td>17</td>\n      <td>11115@qq.com</td>\n    </tr>\n    <tr>\n      <th>5</th>\n      <td>6</td>\n      <td>牛皓冬</td>\n      <td>男</td>\n      <td>17</td>\n      <td>11116@qq.com</td>\n    </tr>\n    <tr>\n      <th>6</th>\n      <td>7</td>\n      <td>张阔</td>\n      <td>男</td>\n      <td>17</td>\n      <td>11117@qq.com</td>\n    </tr>\n    <tr>\n      <th>7</th>\n      <td>8</td>\n      <td>孙佳奇</td>\n      <td>男</td>\n      <td>17</td>\n      <td>11118@qq.com</td>\n    </tr>\n    <tr>\n      <th>8</th>\n      <td>9</td>\n      <td>郑佳睦</td>\n      <td>男</td>\n      <td>17</td>\n      <td>11119@qq.com</td>\n    </tr>\n    <tr>\n      <th>9</th>\n      <td>10</td>\n      <td>王孝天</td>\n      <td>男</td>\n      <td>17</td>\n      <td>11120@qq.com</td>\n    </tr>\n    <tr>\n      <th>10</th>\n      <td>11</td>\n      <td>付一鸣</td>\n      <td>男</td>\n      <td>17</td>\n      <td>11121@qq.com</td>\n    </tr>\n    <tr>\n      <th>11</th>\n      <td>12</td>\n      <td>李蓉轩</td>\n      <td>女</td>\n      <td>17</td>\n      <td>11122@qq.com</td>\n    </tr>\n    <tr>\n      <th>12</th>\n      <td>13</td>\n      <td>陈观绅</td>\n      <td>男</td>\n      <td>17</td>\n      <td>11123@qq.com</td>\n    </tr>\n    <tr>\n      <th>13</th>\n      <td>14</td>\n      <td>赵鑫博</td>\n      <td>男</td>\n      <td>17</td>\n      <td>11124@qq.com</td>\n    </tr>\n    <tr>\n      <th>14</th>\n      <td>15</td>\n      <td>张子豪</td>\n      <td>男</td>\n      <td>17</td>\n      <td>11125@qq.com</td>\n    </tr>\n    <tr>\n      <th>15</th>\n      <td>16</td>\n      <td>叶平</td>\n      <td>男</td>\n      <td>17</td>\n      <td>11126@qq.com</td>\n    </tr>\n  </tbody>\n</table>\n</div>"
     },
     "execution_count": 4,
     "metadata": {},
     "output_type": "execute_result"
    }
   ],
   "source": [
    "# 6读取sutdent.csv文件,创建dataframe,命名为df\n",
    "op = pd.read_csv('student.csv')\n",
    "op"
   ],
   "metadata": {
    "collapsed": false,
    "pycharm": {
     "name": "#%%\n"
    }
   }
  },
  {
   "cell_type": "code",
   "execution_count": null,
   "outputs": [],
   "source": [
    "# 7输出df的前五行和后七行\n"
   ],
   "metadata": {
    "collapsed": false,
    "pycharm": {
     "name": "#%%\n"
    }
   }
  },
  {
   "cell_type": "code",
   "execution_count": null,
   "outputs": [],
   "source": [],
   "metadata": {
    "collapsed": false,
    "pycharm": {
     "name": "#%%\n"
    }
   }
  }
 ],
 "metadata": {
  "kernelspec": {
   "display_name": "Python 3",
   "language": "python",
   "name": "python3"
  },
  "language_info": {
   "codemirror_mode": {
    "name": "ipython",
    "version": 2
   },
   "file_extension": ".py",
   "mimetype": "text/x-python",
   "name": "python",
   "nbconvert_exporter": "python",
   "pygments_lexer": "ipython2",
   "version": "2.7.6"
  }
 },
 "nbformat": 4,
 "nbformat_minor": 0
}