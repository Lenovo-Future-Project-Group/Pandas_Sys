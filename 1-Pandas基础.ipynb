{
 "cells": [
  {
   "cell_type": "markdown",
   "metadata": {
    "pycharm": {
     "name": "#%% md\n"
    }
   },
   "source": [
    "# 第1章 Pandas基础"
   ]
  },
  {
   "cell_type": "code",
   "execution_count": 242,
   "metadata": {
    "pycharm": {
     "name": "#%%\n"
    }
   },
   "outputs": [],
   "source": [
    "# 导包\n",
    "import pandas as pd\n",
    "import numpy as np"
   ]
  },
  {
   "cell_type": "markdown",
   "metadata": {
    "pycharm": {
     "name": "#%% md\n"
    }
   },
   "source": [
    "#### 查看Pandas版本"
   ]
  },
  {
   "cell_type": "code",
   "execution_count": 243,
   "metadata": {
    "pycharm": {
     "name": "#%%\n"
    }
   },
   "outputs": [
    {
     "data": {
      "text/plain": "'1.4.4'"
     },
     "execution_count": 243,
     "metadata": {},
     "output_type": "execute_result"
    }
   ],
   "source": [
    "pd.__version__"
   ]
  },
  {
   "cell_type": "markdown",
   "metadata": {
    "pycharm": {
     "name": "#%% md\n"
    }
   },
   "source": [
    "## 一、文件读取与写入\n",
    "### 1. 读取\n",
    "#### （a）csv格式"
   ]
  },
  {
   "cell_type": "code",
   "execution_count": 244,
   "metadata": {
    "pycharm": {
     "name": "#%%\n"
    }
   },
   "outputs": [],
   "source": [
    "# df = pd.read_csv('data/students.csv')\n",
    "# df.head()"
   ]
  },
  {
   "cell_type": "markdown",
   "metadata": {
    "pycharm": {
     "name": "#%% md\n"
    }
   },
   "source": [
    "#### （b）txt格式"
   ]
  },
  {
   "cell_type": "code",
   "execution_count": 245,
   "metadata": {
    "pycharm": {
     "name": "#%%\n"
    }
   },
   "outputs": [],
   "source": [
    "# df_txt = pd.read_table('data/table.txt') #可设置sep分隔符参数\n",
    "# df_txt"
   ]
  },
  {
   "cell_type": "markdown",
   "metadata": {
    "pycharm": {
     "name": "#%% md\n"
    }
   },
   "source": [
    "#### （c）xls或xlsx格式"
   ]
  },
  {
   "cell_type": "code",
   "execution_count": 246,
   "metadata": {
    "pycharm": {
     "name": "#%%\n"
    }
   },
   "outputs": [],
   "source": [
    "#需要安装xlrd包\n",
    "# df_excel = pd.read_excel('data/table.xlsx')\n",
    "# df_excel.head()"
   ]
  },
  {
   "cell_type": "markdown",
   "metadata": {
    "pycharm": {
     "name": "#%% md\n"
    }
   },
   "source": [
    "### 2. 写入"
   ]
  },
  {
   "cell_type": "markdown",
   "metadata": {
    "pycharm": {
     "name": "#%% md\n"
    }
   },
   "source": [
    "#### （a）csv格式"
   ]
  },
  {
   "cell_type": "code",
   "execution_count": 247,
   "metadata": {
    "pycharm": {
     "name": "#%%\n"
    }
   },
   "outputs": [],
   "source": [
    "# df.to_csv('data/new_table.csv')\n",
    "#df.to_csv('data/new_table.csv', index=False) #保存时除去行索引"
   ]
  },
  {
   "cell_type": "markdown",
   "metadata": {
    "pycharm": {
     "name": "#%% md\n"
    }
   },
   "source": [
    "#### （b）xls或xlsx格式"
   ]
  },
  {
   "cell_type": "code",
   "execution_count": 248,
   "metadata": {
    "pycharm": {
     "name": "#%%\n"
    }
   },
   "outputs": [],
   "source": [
    "#需要安装openpyxl\n",
    "# df.to_excel('data/new_table2.xlsx', sheet_name='Sheet1')"
   ]
  },
  {
   "cell_type": "markdown",
   "metadata": {
    "pycharm": {
     "name": "#%% md\n"
    }
   },
   "source": [
    "## 二、基本数据结构\n",
    "### 1. Series\n",
    "#### （a）创建一个Series"
   ]
  },
  {
   "cell_type": "markdown",
   "metadata": {
    "pycharm": {
     "name": "#%% md\n"
    }
   },
   "source": [
    "#### 对于一个Series，其中最常用的属性为值（values），索引（index），名字（name），类型（dtype）"
   ]
  },
  {
   "cell_type": "code",
   "execution_count": 249,
   "metadata": {
    "pycharm": {
     "name": "#%%\n"
    }
   },
   "outputs": [
    {
     "data": {
      "text/plain": "a   -0.540242\nb   -1.635258\nc    1.045247\nd    1.332556\ne    1.584932\nName: Series1, dtype: float64"
     },
     "execution_count": 249,
     "metadata": {},
     "output_type": "execute_result"
    }
   ],
   "source": [
    "s = pd.Series(np.random.randn(5),index=['a','b','c','d','e'],name='Series1',dtype='float64')\n",
    "s"
   ]
  },
  {
   "cell_type": "markdown",
   "metadata": {
    "pycharm": {
     "name": "#%% md\n"
    }
   },
   "source": [
    "#### （b）访问Series属性"
   ]
  },
  {
   "cell_type": "code",
   "execution_count": 250,
   "metadata": {
    "pycharm": {
     "name": "#%%\n"
    }
   },
   "outputs": [
    {
     "data": {
      "text/plain": "array([-0.54024173, -1.63525837,  1.0452474 ,  1.332556  ,  1.58493235])"
     },
     "execution_count": 250,
     "metadata": {},
     "output_type": "execute_result"
    }
   ],
   "source": [
    "s.values"
   ]
  },
  {
   "cell_type": "code",
   "execution_count": 251,
   "metadata": {
    "pycharm": {
     "name": "#%%\n"
    }
   },
   "outputs": [
    {
     "data": {
      "text/plain": "'Series1'"
     },
     "execution_count": 251,
     "metadata": {},
     "output_type": "execute_result"
    }
   ],
   "source": [
    "s.name"
   ]
  },
  {
   "cell_type": "code",
   "execution_count": 252,
   "metadata": {
    "pycharm": {
     "name": "#%%\n"
    }
   },
   "outputs": [
    {
     "data": {
      "text/plain": "Index(['a', 'b', 'c', 'd', 'e'], dtype='object')"
     },
     "execution_count": 252,
     "metadata": {},
     "output_type": "execute_result"
    }
   ],
   "source": [
    "s.index"
   ]
  },
  {
   "cell_type": "code",
   "execution_count": 253,
   "metadata": {
    "pycharm": {
     "name": "#%%\n"
    }
   },
   "outputs": [
    {
     "data": {
      "text/plain": "dtype('float64')"
     },
     "execution_count": 253,
     "metadata": {},
     "output_type": "execute_result"
    }
   ],
   "source": [
    "s.dtype"
   ]
  },
  {
   "cell_type": "markdown",
   "metadata": {
    "pycharm": {
     "name": "#%% md\n"
    }
   },
   "source": [
    "#### （c）取出某一个元素\n",
    "#### 将在第2章详细讨论索引的应用，这里先大致了解"
   ]
  },
  {
   "cell_type": "code",
   "execution_count": 254,
   "metadata": {
    "pycharm": {
     "name": "#%%\n"
    }
   },
   "outputs": [
    {
     "data": {
      "text/plain": "a   -0.540242\nb   -1.635258\nc    1.045247\nd    1.332556\ne    1.584932\nName: Series1, dtype: float64"
     },
     "execution_count": 254,
     "metadata": {},
     "output_type": "execute_result"
    }
   ],
   "source": [
    "# s['a']\n",
    "s[0:9]"
   ]
  },
  {
   "cell_type": "markdown",
   "metadata": {
    "pycharm": {
     "name": "#%% md\n"
    }
   },
   "source": [
    "#### （d）调用方法"
   ]
  },
  {
   "cell_type": "code",
   "execution_count": 255,
   "metadata": {
    "pycharm": {
     "name": "#%%\n"
    }
   },
   "outputs": [
    {
     "data": {
      "text/plain": "0.3574471286981595"
     },
     "execution_count": 255,
     "metadata": {},
     "output_type": "execute_result"
    }
   ],
   "source": [
    "s.mean() # 平均值"
   ]
  },
  {
   "cell_type": "code",
   "execution_count": 256,
   "metadata": {
    "pycharm": {
     "name": "#%%\n"
    }
   },
   "outputs": [
    {
     "data": {
      "text/plain": "['T',\n '_AXIS_LEN',\n '_AXIS_ORDERS',\n '_AXIS_TO_AXIS_NUMBER',\n '_HANDLED_TYPES',\n '__abs__',\n '__add__',\n '__and__',\n '__annotations__',\n '__array__',\n '__array_priority__',\n '__array_ufunc__',\n '__array_wrap__',\n '__bool__',\n '__class__',\n '__contains__',\n '__copy__',\n '__deepcopy__',\n '__delattr__',\n '__delitem__',\n '__dict__',\n '__dir__',\n '__divmod__',\n '__doc__',\n '__eq__',\n '__finalize__',\n '__float__',\n '__floordiv__',\n '__format__',\n '__ge__',\n '__getattr__',\n '__getattribute__',\n '__getitem__',\n '__getstate__',\n '__gt__',\n '__hash__',\n '__iadd__',\n '__iand__',\n '__ifloordiv__',\n '__imod__',\n '__imul__',\n '__init__',\n '__init_subclass__',\n '__int__',\n '__invert__',\n '__ior__',\n '__ipow__',\n '__isub__',\n '__iter__',\n '__itruediv__',\n '__ixor__',\n '__le__',\n '__len__',\n '__long__',\n '__lt__',\n '__matmul__',\n '__mod__',\n '__module__',\n '__mul__',\n '__ne__',\n '__neg__',\n '__new__',\n '__nonzero__',\n '__or__',\n '__pos__',\n '__pow__',\n '__radd__',\n '__rand__',\n '__rdivmod__',\n '__reduce__',\n '__reduce_ex__',\n '__repr__',\n '__rfloordiv__',\n '__rmatmul__',\n '__rmod__',\n '__rmul__',\n '__ror__',\n '__round__',\n '__rpow__',\n '__rsub__',\n '__rtruediv__',\n '__rxor__',\n '__setattr__',\n '__setitem__',\n '__setstate__',\n '__sizeof__',\n '__str__',\n '__sub__',\n '__subclasshook__',\n '__truediv__',\n '__weakref__',\n '__xor__',\n '_accessors',\n '_accum_func',\n '_add_numeric_operations',\n '_agg_by_level',\n '_agg_examples_doc',\n '_agg_see_also_doc',\n '_align_frame',\n '_align_series',\n '_append',\n '_arith_method',\n '_as_manager',\n '_attrs',\n '_binop',\n '_can_hold_na',\n '_check_inplace_and_allows_duplicate_labels',\n '_check_inplace_setting',\n '_check_is_chained_assignment_possible',\n '_check_label_or_level_ambiguity',\n '_check_setitem_copy',\n '_clear_item_cache',\n '_clip_with_one_bound',\n '_clip_with_scalar',\n '_cmp_method',\n '_consolidate',\n '_consolidate_inplace',\n '_construct_axes_dict',\n '_construct_axes_from_arguments',\n '_construct_result',\n '_constructor',\n '_constructor_expanddim',\n '_convert',\n '_convert_dtypes',\n '_data',\n '_dir_additions',\n '_dir_deletions',\n '_drop_axis',\n '_drop_labels_or_levels',\n '_duplicated',\n '_find_valid_index',\n '_flags',\n '_from_mgr',\n '_get_axis',\n '_get_axis_name',\n '_get_axis_number',\n '_get_axis_resolvers',\n '_get_block_manager_axis',\n '_get_bool_data',\n '_get_cacher',\n '_get_cleaned_column_resolvers',\n '_get_index_resolvers',\n '_get_label_or_level_values',\n '_get_numeric_data',\n '_get_value',\n '_get_values',\n '_get_values_tuple',\n '_get_with',\n '_gotitem',\n '_hidden_attrs',\n '_indexed_same',\n '_info_axis',\n '_info_axis_name',\n '_info_axis_number',\n '_init_dict',\n '_init_mgr',\n '_inplace_method',\n '_internal_names',\n '_internal_names_set',\n '_is_cached',\n '_is_copy',\n '_is_label_or_level_reference',\n '_is_label_reference',\n '_is_level_reference',\n '_is_mixed_type',\n '_is_view',\n '_item_cache',\n '_ixs',\n '_logical_func',\n '_logical_method',\n '_map_values',\n '_maybe_update_cacher',\n '_memory_usage',\n '_metadata',\n '_mgr',\n '_min_count_stat_function',\n '_name',\n '_needs_reindex_multi',\n '_protect_consolidate',\n '_reduce',\n '_reindex_axes',\n '_reindex_indexer',\n '_reindex_multi',\n '_reindex_with_indexers',\n '_rename',\n '_replace_single',\n '_repr_data_resource_',\n '_repr_latex_',\n '_reset_cache',\n '_reset_cacher',\n '_set_as_cached',\n '_set_axis',\n '_set_axis_name',\n '_set_axis_nocheck',\n '_set_is_copy',\n '_set_labels',\n '_set_name',\n '_set_value',\n '_set_values',\n '_set_with',\n '_set_with_engine',\n '_slice',\n '_stat_axis',\n '_stat_axis_name',\n '_stat_axis_number',\n '_stat_function',\n '_stat_function_ddof',\n '_take_with_is_copy',\n '_typ',\n '_update_inplace',\n '_validate_dtype',\n '_values',\n '_where',\n 'a',\n 'abs',\n 'add',\n 'add_prefix',\n 'add_suffix',\n 'agg',\n 'aggregate',\n 'align',\n 'all',\n 'any',\n 'append',\n 'apply',\n 'argmax',\n 'argmin',\n 'argsort',\n 'array',\n 'asfreq',\n 'asof',\n 'astype',\n 'at',\n 'at_time',\n 'attrs',\n 'autocorr',\n 'axes',\n 'b',\n 'backfill',\n 'between',\n 'between_time',\n 'bfill',\n 'bool',\n 'c',\n 'clip',\n 'combine',\n 'combine_first',\n 'compare',\n 'convert_dtypes',\n 'copy',\n 'corr',\n 'count',\n 'cov',\n 'cummax',\n 'cummin',\n 'cumprod',\n 'cumsum',\n 'd',\n 'describe',\n 'diff',\n 'div',\n 'divide',\n 'divmod',\n 'dot',\n 'drop',\n 'drop_duplicates',\n 'droplevel',\n 'dropna',\n 'dtype',\n 'dtypes',\n 'duplicated',\n 'e',\n 'empty',\n 'eq',\n 'equals',\n 'ewm',\n 'expanding',\n 'explode',\n 'factorize',\n 'ffill',\n 'fillna',\n 'filter',\n 'first',\n 'first_valid_index',\n 'flags',\n 'floordiv',\n 'ge',\n 'get',\n 'groupby',\n 'gt',\n 'hasnans',\n 'head',\n 'hist',\n 'iat',\n 'idxmax',\n 'idxmin',\n 'iloc',\n 'index',\n 'infer_objects',\n 'info',\n 'interpolate',\n 'is_monotonic',\n 'is_monotonic_decreasing',\n 'is_monotonic_increasing',\n 'is_unique',\n 'isin',\n 'isna',\n 'isnull',\n 'item',\n 'items',\n 'iteritems',\n 'keys',\n 'kurt',\n 'kurtosis',\n 'last',\n 'last_valid_index',\n 'le',\n 'loc',\n 'lt',\n 'mad',\n 'map',\n 'mask',\n 'max',\n 'mean',\n 'median',\n 'memory_usage',\n 'min',\n 'mod',\n 'mode',\n 'mul',\n 'multiply',\n 'name',\n 'nbytes',\n 'ndim',\n 'ne',\n 'nlargest',\n 'notna',\n 'notnull',\n 'nsmallest',\n 'nunique',\n 'pad',\n 'pct_change',\n 'pipe',\n 'plot',\n 'pop',\n 'pow',\n 'prod',\n 'product',\n 'quantile',\n 'radd',\n 'rank',\n 'ravel',\n 'rdiv',\n 'rdivmod',\n 'reindex',\n 'reindex_like',\n 'rename',\n 'rename_axis',\n 'reorder_levels',\n 'repeat',\n 'replace',\n 'resample',\n 'reset_index',\n 'rfloordiv',\n 'rmod',\n 'rmul',\n 'rolling',\n 'round',\n 'rpow',\n 'rsub',\n 'rtruediv',\n 'sample',\n 'searchsorted',\n 'sem',\n 'set_axis',\n 'set_flags',\n 'shape',\n 'shift',\n 'size',\n 'skew',\n 'slice_shift',\n 'sort_index',\n 'sort_values',\n 'squeeze',\n 'std',\n 'sub',\n 'subtract',\n 'sum',\n 'swapaxes',\n 'swaplevel',\n 'tail',\n 'take',\n 'to_clipboard',\n 'to_csv',\n 'to_dict',\n 'to_excel',\n 'to_frame',\n 'to_hdf',\n 'to_json',\n 'to_latex',\n 'to_list',\n 'to_markdown',\n 'to_numpy',\n 'to_period',\n 'to_pickle',\n 'to_sql',\n 'to_string',\n 'to_timestamp',\n 'to_xarray',\n 'transform',\n 'transpose',\n 'truediv',\n 'truncate',\n 'tz_convert',\n 'tz_localize',\n 'unique',\n 'unstack',\n 'update',\n 'value_counts',\n 'values',\n 'var',\n 'view',\n 'where',\n 'xs']"
     },
     "execution_count": 256,
     "metadata": {},
     "output_type": "execute_result"
    }
   ],
   "source": [
    "dir(s)"
   ]
  },
  {
   "cell_type": "markdown",
   "metadata": {
    "pycharm": {
     "name": "#%% md\n"
    }
   },
   "source": [
    "#### Series有相当多的方法可以调用："
   ]
  },
  {
   "cell_type": "code",
   "execution_count": 257,
   "metadata": {
    "pycharm": {
     "name": "#%%\n"
    }
   },
   "outputs": [
    {
     "name": "stdout",
     "output_type": "stream",
     "text": [
      "['T', 'a', 'abs', 'add', 'add_prefix', 'add_suffix', 'agg', 'aggregate', 'align', 'all', 'any', 'append', 'apply', 'argmax', 'argmin', 'argsort', 'array', 'asfreq', 'asof', 'astype', 'at', 'at_time', 'attrs', 'autocorr', 'axes', 'b', 'backfill', 'between', 'between_time', 'bfill', 'bool', 'c', 'clip', 'combine', 'combine_first', 'compare', 'convert_dtypes', 'copy', 'corr', 'count', 'cov', 'cummax', 'cummin', 'cumprod', 'cumsum', 'd', 'describe', 'diff', 'div', 'divide', 'divmod', 'dot', 'drop', 'drop_duplicates', 'droplevel', 'dropna', 'dtype', 'dtypes', 'duplicated', 'e', 'empty', 'eq', 'equals', 'ewm', 'expanding', 'explode', 'factorize', 'ffill', 'fillna', 'filter', 'first', 'first_valid_index', 'flags', 'floordiv', 'ge', 'get', 'groupby', 'gt', 'hasnans', 'head', 'hist', 'iat', 'idxmax', 'idxmin', 'iloc', 'index', 'infer_objects', 'info', 'interpolate', 'is_monotonic', 'is_monotonic_decreasing', 'is_monotonic_increasing', 'is_unique', 'isin', 'isna', 'isnull', 'item', 'items', 'iteritems', 'keys', 'kurt', 'kurtosis', 'last', 'last_valid_index', 'le', 'loc', 'lt', 'mad', 'map', 'mask', 'max', 'mean', 'median', 'memory_usage', 'min', 'mod', 'mode', 'mul', 'multiply', 'name', 'nbytes', 'ndim', 'ne', 'nlargest', 'notna', 'notnull', 'nsmallest', 'nunique', 'pad', 'pct_change', 'pipe', 'plot', 'pop', 'pow', 'prod', 'product', 'quantile', 'radd', 'rank', 'ravel', 'rdiv', 'rdivmod', 'reindex', 'reindex_like', 'rename', 'rename_axis', 'reorder_levels', 'repeat', 'replace', 'resample', 'reset_index', 'rfloordiv', 'rmod', 'rmul', 'rolling', 'round', 'rpow', 'rsub', 'rtruediv', 'sample', 'searchsorted', 'sem', 'set_axis', 'set_flags', 'shape', 'shift', 'size', 'skew', 'slice_shift', 'sort_index', 'sort_values', 'squeeze', 'std', 'sub', 'subtract', 'sum', 'swapaxes', 'swaplevel', 'tail', 'take', 'to_clipboard', 'to_csv', 'to_dict', 'to_excel', 'to_frame', 'to_hdf', 'to_json', 'to_latex', 'to_list', 'to_markdown', 'to_numpy', 'to_period', 'to_pickle', 'to_sql', 'to_string', 'to_timestamp', 'to_xarray', 'transform', 'transpose', 'truediv', 'truncate', 'tz_convert', 'tz_localize', 'unique', 'unstack', 'update', 'value_counts', 'values', 'var', 'view', 'where', 'xs']\n"
     ]
    }
   ],
   "source": [
    "print([attr for attr in dir(s) if not attr.startswith('_')])"
   ]
  },
  {
   "cell_type": "markdown",
   "metadata": {
    "pycharm": {
     "name": "#%% md\n"
    }
   },
   "source": [
    "### 2. DataFrame\n",
    "#### （a）创建一个DataFrame"
   ]
  },
  {
   "cell_type": "code",
   "execution_count": 258,
   "metadata": {
    "pycharm": {
     "name": "#%%\n"
    }
   },
   "outputs": [
    {
     "data": {
      "text/plain": "  col1  col2  col3\n一    a     5   1.3\n二    b     6   2.5\n三    c     7   3.6\n四    d     8   4.6\n五    e     9   5.8",
      "text/html": "<div>\n<style scoped>\n    .dataframe tbody tr th:only-of-type {\n        vertical-align: middle;\n    }\n\n    .dataframe tbody tr th {\n        vertical-align: top;\n    }\n\n    .dataframe thead th {\n        text-align: right;\n    }\n</style>\n<table border=\"1\" class=\"dataframe\">\n  <thead>\n    <tr style=\"text-align: right;\">\n      <th></th>\n      <th>col1</th>\n      <th>col2</th>\n      <th>col3</th>\n    </tr>\n  </thead>\n  <tbody>\n    <tr>\n      <th>一</th>\n      <td>a</td>\n      <td>5</td>\n      <td>1.3</td>\n    </tr>\n    <tr>\n      <th>二</th>\n      <td>b</td>\n      <td>6</td>\n      <td>2.5</td>\n    </tr>\n    <tr>\n      <th>三</th>\n      <td>c</td>\n      <td>7</td>\n      <td>3.6</td>\n    </tr>\n    <tr>\n      <th>四</th>\n      <td>d</td>\n      <td>8</td>\n      <td>4.6</td>\n    </tr>\n    <tr>\n      <th>五</th>\n      <td>e</td>\n      <td>9</td>\n      <td>5.8</td>\n    </tr>\n  </tbody>\n</table>\n</div>"
     },
     "execution_count": 258,
     "metadata": {},
     "output_type": "execute_result"
    }
   ],
   "source": [
    "dic = {'col1':list('abcde'),'col2':range(5,10),'col3':[1.3,2.5,3.6,4.6,5.8]}\n",
    "df = pd.DataFrame(dic,index=list('一二三四五'))\n",
    "df"
   ]
  },
  {
   "cell_type": "markdown",
   "metadata": {
    "pycharm": {
     "name": "#%% md\n"
    }
   },
   "source": [
    "#### （b）从DataFrame取出一列为Series"
   ]
  },
  {
   "cell_type": "code",
   "execution_count": 259,
   "metadata": {
    "pycharm": {
     "name": "#%%\n"
    }
   },
   "outputs": [
    {
     "data": {
      "text/plain": "一    a\n二    b\n三    c\n四    d\n五    e\nName: col1, dtype: object"
     },
     "execution_count": 259,
     "metadata": {},
     "output_type": "execute_result"
    }
   ],
   "source": [
    "df['col1']"
   ]
  },
  {
   "cell_type": "code",
   "execution_count": 260,
   "metadata": {
    "pycharm": {
     "name": "#%%\n"
    }
   },
   "outputs": [
    {
     "data": {
      "text/plain": "pandas.core.frame.DataFrame"
     },
     "execution_count": 260,
     "metadata": {},
     "output_type": "execute_result"
    }
   ],
   "source": [
    "type(df)"
   ]
  },
  {
   "cell_type": "code",
   "execution_count": 261,
   "metadata": {
    "pycharm": {
     "name": "#%%\n"
    }
   },
   "outputs": [
    {
     "data": {
      "text/plain": "pandas.core.series.Series"
     },
     "execution_count": 261,
     "metadata": {},
     "output_type": "execute_result"
    }
   ],
   "source": [
    "type(df['col1'])"
   ]
  },
  {
   "cell_type": "markdown",
   "metadata": {
    "pycharm": {
     "name": "#%% md\n"
    }
   },
   "source": [
    "#### （c）修改行或列名"
   ]
  },
  {
   "cell_type": "code",
   "execution_count": 262,
   "metadata": {
    "pycharm": {
     "name": "#%%\n"
    }
   },
   "outputs": [
    {
     "data": {
      "text/plain": "    new_col1  col2  col3\none        a     5   1.3\n二          b     6   2.5\n三          c     7   3.6\n四          d     8   4.6\n五          e     9   5.8",
      "text/html": "<div>\n<style scoped>\n    .dataframe tbody tr th:only-of-type {\n        vertical-align: middle;\n    }\n\n    .dataframe tbody tr th {\n        vertical-align: top;\n    }\n\n    .dataframe thead th {\n        text-align: right;\n    }\n</style>\n<table border=\"1\" class=\"dataframe\">\n  <thead>\n    <tr style=\"text-align: right;\">\n      <th></th>\n      <th>new_col1</th>\n      <th>col2</th>\n      <th>col3</th>\n    </tr>\n  </thead>\n  <tbody>\n    <tr>\n      <th>one</th>\n      <td>a</td>\n      <td>5</td>\n      <td>1.3</td>\n    </tr>\n    <tr>\n      <th>二</th>\n      <td>b</td>\n      <td>6</td>\n      <td>2.5</td>\n    </tr>\n    <tr>\n      <th>三</th>\n      <td>c</td>\n      <td>7</td>\n      <td>3.6</td>\n    </tr>\n    <tr>\n      <th>四</th>\n      <td>d</td>\n      <td>8</td>\n      <td>4.6</td>\n    </tr>\n    <tr>\n      <th>五</th>\n      <td>e</td>\n      <td>9</td>\n      <td>5.8</td>\n    </tr>\n  </tbody>\n</table>\n</div>"
     },
     "execution_count": 262,
     "metadata": {},
     "output_type": "execute_result"
    }
   ],
   "source": [
    "df.rename(index={'一':'one'},columns={'col1':'new_col1'})"
   ]
  },
  {
   "cell_type": "markdown",
   "metadata": {
    "pycharm": {
     "name": "#%% md\n"
    }
   },
   "source": [
    "#### （d）调用属性和方法"
   ]
  },
  {
   "cell_type": "code",
   "execution_count": 263,
   "metadata": {
    "pycharm": {
     "name": "#%%\n"
    }
   },
   "outputs": [
    {
     "data": {
      "text/plain": "Index(['一', '二', '三', '四', '五'], dtype='object')"
     },
     "execution_count": 263,
     "metadata": {},
     "output_type": "execute_result"
    }
   ],
   "source": [
    "df.index"
   ]
  },
  {
   "cell_type": "code",
   "execution_count": 264,
   "metadata": {
    "pycharm": {
     "name": "#%%\n"
    }
   },
   "outputs": [
    {
     "data": {
      "text/plain": "Index(['col1', 'col2', 'col3'], dtype='object')"
     },
     "execution_count": 264,
     "metadata": {},
     "output_type": "execute_result"
    }
   ],
   "source": [
    "df.columns"
   ]
  },
  {
   "cell_type": "code",
   "execution_count": 265,
   "metadata": {
    "pycharm": {
     "name": "#%%\n"
    }
   },
   "outputs": [
    {
     "data": {
      "text/plain": "array([['a', 5, 1.3],\n       ['b', 6, 2.5],\n       ['c', 7, 3.6],\n       ['d', 8, 4.6],\n       ['e', 9, 5.8]], dtype=object)"
     },
     "execution_count": 265,
     "metadata": {},
     "output_type": "execute_result"
    }
   ],
   "source": [
    "df.values"
   ]
  },
  {
   "cell_type": "code",
   "execution_count": 266,
   "metadata": {
    "pycharm": {
     "name": "#%%\n"
    }
   },
   "outputs": [
    {
     "data": {
      "text/plain": "(5, 3)"
     },
     "execution_count": 266,
     "metadata": {},
     "output_type": "execute_result"
    }
   ],
   "source": [
    "df.shape"
   ]
  },
  {
   "cell_type": "code",
   "execution_count": 267,
   "metadata": {
    "pycharm": {
     "name": "#%%\n"
    }
   },
   "outputs": [
    {
     "name": "stderr",
     "output_type": "stream",
     "text": [
      "C:\\Users\\Bing_John\\AppData\\Local\\Temp\\ipykernel_65156\\3918985483.py:1: FutureWarning: Dropping of nuisance columns in DataFrame reductions (with 'numeric_only=None') is deprecated; in a future version this will raise TypeError.  Select only valid columns before calling the reduction.\n",
      "  df.mean()  # 求平均值\n"
     ]
    },
    {
     "data": {
      "text/plain": "col2    7.00\ncol3    3.56\ndtype: float64"
     },
     "execution_count": 267,
     "metadata": {},
     "output_type": "execute_result"
    }
   ],
   "source": [
    "df.mean()  # 求平均值"
   ]
  },
  {
   "cell_type": "markdown",
   "metadata": {
    "pycharm": {
     "name": "#%% md\n"
    }
   },
   "source": [
    "#### （e）索引对齐特性\n",
    "#### 这是Pandas中非常强大的特性，简单理解就是“索引相同的元素进行操作”"
   ]
  },
  {
   "cell_type": "code",
   "execution_count": 268,
   "metadata": {
    "pycharm": {
     "name": "#%%\n"
    }
   },
   "outputs": [
    {
     "name": "stdout",
     "output_type": "stream",
     "text": [
      "   A\n",
      "1 -3\n",
      "2 -3\n",
      "3 -3\n"
     ]
    },
    {
     "data": {
      "text/plain": "   A\n1  5\n2  3\n3  1",
      "text/html": "<div>\n<style scoped>\n    .dataframe tbody tr th:only-of-type {\n        vertical-align: middle;\n    }\n\n    .dataframe tbody tr th {\n        vertical-align: top;\n    }\n\n    .dataframe thead th {\n        text-align: right;\n    }\n</style>\n<table border=\"1\" class=\"dataframe\">\n  <thead>\n    <tr style=\"text-align: right;\">\n      <th></th>\n      <th>A</th>\n    </tr>\n  </thead>\n  <tbody>\n    <tr>\n      <th>1</th>\n      <td>5</td>\n    </tr>\n    <tr>\n      <th>2</th>\n      <td>3</td>\n    </tr>\n    <tr>\n      <th>3</th>\n      <td>1</td>\n    </tr>\n  </tbody>\n</table>\n</div>"
     },
     "execution_count": 268,
     "metadata": {},
     "output_type": "execute_result"
    }
   ],
   "source": [
    "# 索引相同的元素进行操作\n",
    "df1 = pd.DataFrame({\"A\":[1,2,3]},index=[1,2,3])\n",
    "df2 = pd.DataFrame({\"A\":[4,5,6]},index=[1,2,3])\n",
    "print(df1-df2)\n",
    "\n",
    "df3 = pd.DataFrame({\"A\":[4,5,6]},index=[3,2,1])\n",
    "df3-df1\n"
   ]
  },
  {
   "cell_type": "markdown",
   "metadata": {
    "pycharm": {
     "name": "#%% md\n"
    }
   },
   "source": [
    "#### （f）列的删除与添加\n",
    "#### 对于删除而言，可以使用drop函数或del或pop"
   ]
  },
  {
   "cell_type": "code",
   "execution_count": 269,
   "metadata": {
    "pycharm": {
     "name": "#%%\n"
    }
   },
   "outputs": [
    {
     "data": {
      "text/plain": "  col1  col2  col3\n一    a     5   1.3\n二    b     6   2.5\n三    c     7   3.6\n四    d     8   4.6\n五    e     9   5.8",
      "text/html": "<div>\n<style scoped>\n    .dataframe tbody tr th:only-of-type {\n        vertical-align: middle;\n    }\n\n    .dataframe tbody tr th {\n        vertical-align: top;\n    }\n\n    .dataframe thead th {\n        text-align: right;\n    }\n</style>\n<table border=\"1\" class=\"dataframe\">\n  <thead>\n    <tr style=\"text-align: right;\">\n      <th></th>\n      <th>col1</th>\n      <th>col2</th>\n      <th>col3</th>\n    </tr>\n  </thead>\n  <tbody>\n    <tr>\n      <th>一</th>\n      <td>a</td>\n      <td>5</td>\n      <td>1.3</td>\n    </tr>\n    <tr>\n      <th>二</th>\n      <td>b</td>\n      <td>6</td>\n      <td>2.5</td>\n    </tr>\n    <tr>\n      <th>三</th>\n      <td>c</td>\n      <td>7</td>\n      <td>3.6</td>\n    </tr>\n    <tr>\n      <th>四</th>\n      <td>d</td>\n      <td>8</td>\n      <td>4.6</td>\n    </tr>\n    <tr>\n      <th>五</th>\n      <td>e</td>\n      <td>9</td>\n      <td>5.8</td>\n    </tr>\n  </tbody>\n</table>\n</div>"
     },
     "execution_count": 269,
     "metadata": {},
     "output_type": "execute_result"
    }
   ],
   "source": [
    "df"
   ]
  },
  {
   "cell_type": "code",
   "execution_count": 270,
   "metadata": {
    "pycharm": {
     "name": "#%%\n"
    }
   },
   "outputs": [
    {
     "data": {
      "text/plain": "  col1  col2  col3\n一    a     5   1.3\n二    b     6   2.5\n三    c     7   3.6\n四    d     8   4.6",
      "text/html": "<div>\n<style scoped>\n    .dataframe tbody tr th:only-of-type {\n        vertical-align: middle;\n    }\n\n    .dataframe tbody tr th {\n        vertical-align: top;\n    }\n\n    .dataframe thead th {\n        text-align: right;\n    }\n</style>\n<table border=\"1\" class=\"dataframe\">\n  <thead>\n    <tr style=\"text-align: right;\">\n      <th></th>\n      <th>col1</th>\n      <th>col2</th>\n      <th>col3</th>\n    </tr>\n  </thead>\n  <tbody>\n    <tr>\n      <th>一</th>\n      <td>a</td>\n      <td>5</td>\n      <td>1.3</td>\n    </tr>\n    <tr>\n      <th>二</th>\n      <td>b</td>\n      <td>6</td>\n      <td>2.5</td>\n    </tr>\n    <tr>\n      <th>三</th>\n      <td>c</td>\n      <td>7</td>\n      <td>3.6</td>\n    </tr>\n    <tr>\n      <th>四</th>\n      <td>d</td>\n      <td>8</td>\n      <td>4.6</td>\n    </tr>\n  </tbody>\n</table>\n</div>"
     },
     "execution_count": 270,
     "metadata": {},
     "output_type": "execute_result"
    }
   ],
   "source": [
    "df.drop(index='五') #删除第五行，设置inplace=True后会直接在原DataFrame中改动"
   ]
  },
  {
   "cell_type": "code",
   "execution_count": 271,
   "metadata": {
    "pycharm": {
     "name": "#%%\n"
    }
   },
   "outputs": [
    {
     "data": {
      "text/plain": "  col1  col2  col3\n一    a     5   1.3\n二    b     6   2.5\n三    c     7   3.6\n四    d     8   4.6\n五    e     9   5.8",
      "text/html": "<div>\n<style scoped>\n    .dataframe tbody tr th:only-of-type {\n        vertical-align: middle;\n    }\n\n    .dataframe tbody tr th {\n        vertical-align: top;\n    }\n\n    .dataframe thead th {\n        text-align: right;\n    }\n</style>\n<table border=\"1\" class=\"dataframe\">\n  <thead>\n    <tr style=\"text-align: right;\">\n      <th></th>\n      <th>col1</th>\n      <th>col2</th>\n      <th>col3</th>\n    </tr>\n  </thead>\n  <tbody>\n    <tr>\n      <th>一</th>\n      <td>a</td>\n      <td>5</td>\n      <td>1.3</td>\n    </tr>\n    <tr>\n      <th>二</th>\n      <td>b</td>\n      <td>6</td>\n      <td>2.5</td>\n    </tr>\n    <tr>\n      <th>三</th>\n      <td>c</td>\n      <td>7</td>\n      <td>3.6</td>\n    </tr>\n    <tr>\n      <th>四</th>\n      <td>d</td>\n      <td>8</td>\n      <td>4.6</td>\n    </tr>\n    <tr>\n      <th>五</th>\n      <td>e</td>\n      <td>9</td>\n      <td>5.8</td>\n    </tr>\n  </tbody>\n</table>\n</div>"
     },
     "execution_count": 271,
     "metadata": {},
     "output_type": "execute_result"
    }
   ],
   "source": [
    "df"
   ]
  },
  {
   "cell_type": "code",
   "execution_count": 272,
   "metadata": {
    "pycharm": {
     "name": "#%%\n"
    }
   },
   "outputs": [
    {
     "data": {
      "text/plain": "   col2  col3\n一     5   1.3\n二     6   2.5\n三     7   3.6\n四     8   4.6\n五     9   5.8",
      "text/html": "<div>\n<style scoped>\n    .dataframe tbody tr th:only-of-type {\n        vertical-align: middle;\n    }\n\n    .dataframe tbody tr th {\n        vertical-align: top;\n    }\n\n    .dataframe thead th {\n        text-align: right;\n    }\n</style>\n<table border=\"1\" class=\"dataframe\">\n  <thead>\n    <tr style=\"text-align: right;\">\n      <th></th>\n      <th>col2</th>\n      <th>col3</th>\n    </tr>\n  </thead>\n  <tbody>\n    <tr>\n      <th>一</th>\n      <td>5</td>\n      <td>1.3</td>\n    </tr>\n    <tr>\n      <th>二</th>\n      <td>6</td>\n      <td>2.5</td>\n    </tr>\n    <tr>\n      <th>三</th>\n      <td>7</td>\n      <td>3.6</td>\n    </tr>\n    <tr>\n      <th>四</th>\n      <td>8</td>\n      <td>4.6</td>\n    </tr>\n    <tr>\n      <th>五</th>\n      <td>9</td>\n      <td>5.8</td>\n    </tr>\n  </tbody>\n</table>\n</div>"
     },
     "execution_count": 272,
     "metadata": {},
     "output_type": "execute_result"
    }
   ],
   "source": [
    "df.drop(columns='col1') # 删除第1列"
   ]
  },
  {
   "cell_type": "code",
   "execution_count": 273,
   "metadata": {
    "pycharm": {
     "name": "#%%\n"
    }
   },
   "outputs": [
    {
     "data": {
      "text/plain": "  col1  col3\n二    b   2.5\n三    c   3.6\n四    d   4.6\n五    e   5.8",
      "text/html": "<div>\n<style scoped>\n    .dataframe tbody tr th:only-of-type {\n        vertical-align: middle;\n    }\n\n    .dataframe tbody tr th {\n        vertical-align: top;\n    }\n\n    .dataframe thead th {\n        text-align: right;\n    }\n</style>\n<table border=\"1\" class=\"dataframe\">\n  <thead>\n    <tr style=\"text-align: right;\">\n      <th></th>\n      <th>col1</th>\n      <th>col3</th>\n    </tr>\n  </thead>\n  <tbody>\n    <tr>\n      <th>二</th>\n      <td>b</td>\n      <td>2.5</td>\n    </tr>\n    <tr>\n      <th>三</th>\n      <td>c</td>\n      <td>3.6</td>\n    </tr>\n    <tr>\n      <th>四</th>\n      <td>d</td>\n      <td>4.6</td>\n    </tr>\n    <tr>\n      <th>五</th>\n      <td>e</td>\n      <td>5.8</td>\n    </tr>\n  </tbody>\n</table>\n</div>"
     },
     "execution_count": 273,
     "metadata": {},
     "output_type": "execute_result"
    }
   ],
   "source": [
    "df.drop(index='一',columns='col2')  # 删除第一行和第2列"
   ]
  },
  {
   "cell_type": "code",
   "execution_count": 274,
   "metadata": {
    "pycharm": {
     "name": "#%%\n"
    }
   },
   "outputs": [
    {
     "data": {
      "text/plain": "   col2  col3\n一     5   1.3\n二     6   2.5\n三     7   3.6\n四     8   4.6\n五     9   5.8",
      "text/html": "<div>\n<style scoped>\n    .dataframe tbody tr th:only-of-type {\n        vertical-align: middle;\n    }\n\n    .dataframe tbody tr th {\n        vertical-align: top;\n    }\n\n    .dataframe thead th {\n        text-align: right;\n    }\n</style>\n<table border=\"1\" class=\"dataframe\">\n  <thead>\n    <tr style=\"text-align: right;\">\n      <th></th>\n      <th>col2</th>\n      <th>col3</th>\n    </tr>\n  </thead>\n  <tbody>\n    <tr>\n      <th>一</th>\n      <td>5</td>\n      <td>1.3</td>\n    </tr>\n    <tr>\n      <th>二</th>\n      <td>6</td>\n      <td>2.5</td>\n    </tr>\n    <tr>\n      <th>三</th>\n      <td>7</td>\n      <td>3.6</td>\n    </tr>\n    <tr>\n      <th>四</th>\n      <td>8</td>\n      <td>4.6</td>\n    </tr>\n    <tr>\n      <th>五</th>\n      <td>9</td>\n      <td>5.8</td>\n    </tr>\n  </tbody>\n</table>\n</div>"
     },
     "execution_count": 274,
     "metadata": {},
     "output_type": "execute_result"
    }
   ],
   "source": [
    "df['col1']=[1,2,3,4,5]\n",
    "del df['col1']\n",
    "df"
   ]
  },
  {
   "cell_type": "code",
   "execution_count": 275,
   "metadata": {
    "pycharm": {
     "name": "#%%\n"
    }
   },
   "outputs": [
    {
     "name": "stdout",
     "output_type": "stream",
     "text": [
      "1\n"
     ]
    }
   ],
   "source": [
    "a = 1\n",
    "print(a)\n",
    "del a\n",
    "# print(a)"
   ]
  },
  {
   "cell_type": "markdown",
   "metadata": {
    "pycharm": {
     "name": "#%% md\n"
    }
   },
   "source": [
    "#### pop方法直接在原来的DataFrame上操作，且返回被删除的列，与python中的pop函数类似"
   ]
  },
  {
   "cell_type": "code",
   "execution_count": 276,
   "metadata": {
    "pycharm": {
     "name": "#%%\n"
    }
   },
   "outputs": [
    {
     "data": {
      "text/plain": "一    2\n二    3\n三    4\n四    5\n五    6\nName: col1, dtype: int64"
     },
     "execution_count": 276,
     "metadata": {},
     "output_type": "execute_result"
    }
   ],
   "source": [
    "df['col1']=[2,3,4,5,6]\n",
    "df.pop('col1')"
   ]
  },
  {
   "cell_type": "code",
   "execution_count": 277,
   "metadata": {
    "pycharm": {
     "name": "#%%\n"
    }
   },
   "outputs": [
    {
     "data": {
      "text/plain": "   col2  col3\n一     5   1.3\n二     6   2.5\n三     7   3.6\n四     8   4.6\n五     9   5.8",
      "text/html": "<div>\n<style scoped>\n    .dataframe tbody tr th:only-of-type {\n        vertical-align: middle;\n    }\n\n    .dataframe tbody tr th {\n        vertical-align: top;\n    }\n\n    .dataframe thead th {\n        text-align: right;\n    }\n</style>\n<table border=\"1\" class=\"dataframe\">\n  <thead>\n    <tr style=\"text-align: right;\">\n      <th></th>\n      <th>col2</th>\n      <th>col3</th>\n    </tr>\n  </thead>\n  <tbody>\n    <tr>\n      <th>一</th>\n      <td>5</td>\n      <td>1.3</td>\n    </tr>\n    <tr>\n      <th>二</th>\n      <td>6</td>\n      <td>2.5</td>\n    </tr>\n    <tr>\n      <th>三</th>\n      <td>7</td>\n      <td>3.6</td>\n    </tr>\n    <tr>\n      <th>四</th>\n      <td>8</td>\n      <td>4.6</td>\n    </tr>\n    <tr>\n      <th>五</th>\n      <td>9</td>\n      <td>5.8</td>\n    </tr>\n  </tbody>\n</table>\n</div>"
     },
     "execution_count": 277,
     "metadata": {},
     "output_type": "execute_result"
    }
   ],
   "source": [
    "df"
   ]
  },
  {
   "cell_type": "code",
   "execution_count": 278,
   "metadata": {
    "pycharm": {
     "name": "#%%\n"
    }
   },
   "outputs": [
    {
     "data": {
      "text/plain": "   A\n1  1\n2  2\n3  3",
      "text/html": "<div>\n<style scoped>\n    .dataframe tbody tr th:only-of-type {\n        vertical-align: middle;\n    }\n\n    .dataframe tbody tr th {\n        vertical-align: top;\n    }\n\n    .dataframe thead th {\n        text-align: right;\n    }\n</style>\n<table border=\"1\" class=\"dataframe\">\n  <thead>\n    <tr style=\"text-align: right;\">\n      <th></th>\n      <th>A</th>\n    </tr>\n  </thead>\n  <tbody>\n    <tr>\n      <th>1</th>\n      <td>1</td>\n    </tr>\n    <tr>\n      <th>2</th>\n      <td>2</td>\n    </tr>\n    <tr>\n      <th>3</th>\n      <td>3</td>\n    </tr>\n  </tbody>\n</table>\n</div>"
     },
     "execution_count": 278,
     "metadata": {},
     "output_type": "execute_result"
    }
   ],
   "source": [
    "import pandas as pd\n",
    "df1=pd.DataFrame([1,2,3], columns=['A'],index=[1,2,3])\n",
    "df1"
   ]
  },
  {
   "cell_type": "markdown",
   "metadata": {
    "pycharm": {
     "name": "#%% md\n"
    }
   },
   "source": [
    "#### 可以直接增加新的列，也可以使用assign方法"
   ]
  },
  {
   "cell_type": "code",
   "execution_count": 279,
   "metadata": {
    "pycharm": {
     "name": "#%%\n"
    }
   },
   "outputs": [
    {
     "data": {
      "text/plain": "   A  B\n1  1  a\n2  2  b\n3  3  c",
      "text/html": "<div>\n<style scoped>\n    .dataframe tbody tr th:only-of-type {\n        vertical-align: middle;\n    }\n\n    .dataframe tbody tr th {\n        vertical-align: top;\n    }\n\n    .dataframe thead th {\n        text-align: right;\n    }\n</style>\n<table border=\"1\" class=\"dataframe\">\n  <thead>\n    <tr style=\"text-align: right;\">\n      <th></th>\n      <th>A</th>\n      <th>B</th>\n    </tr>\n  </thead>\n  <tbody>\n    <tr>\n      <th>1</th>\n      <td>1</td>\n      <td>a</td>\n    </tr>\n    <tr>\n      <th>2</th>\n      <td>2</td>\n      <td>b</td>\n    </tr>\n    <tr>\n      <th>3</th>\n      <td>3</td>\n      <td>c</td>\n    </tr>\n  </tbody>\n</table>\n</div>"
     },
     "execution_count": 279,
     "metadata": {},
     "output_type": "execute_result"
    }
   ],
   "source": [
    "df1['B']=['a','b','c']\n",
    "df1"
   ]
  },
  {
   "cell_type": "code",
   "execution_count": 280,
   "metadata": {
    "pycharm": {
     "name": "#%%\n"
    }
   },
   "outputs": [
    {
     "data": {
      "text/plain": "   A  B  C\n1  1  a  d\n2  2  b  e\n3  3  c  f",
      "text/html": "<div>\n<style scoped>\n    .dataframe tbody tr th:only-of-type {\n        vertical-align: middle;\n    }\n\n    .dataframe tbody tr th {\n        vertical-align: top;\n    }\n\n    .dataframe thead th {\n        text-align: right;\n    }\n</style>\n<table border=\"1\" class=\"dataframe\">\n  <thead>\n    <tr style=\"text-align: right;\">\n      <th></th>\n      <th>A</th>\n      <th>B</th>\n      <th>C</th>\n    </tr>\n  </thead>\n  <tbody>\n    <tr>\n      <th>1</th>\n      <td>1</td>\n      <td>a</td>\n      <td>d</td>\n    </tr>\n    <tr>\n      <th>2</th>\n      <td>2</td>\n      <td>b</td>\n      <td>e</td>\n    </tr>\n    <tr>\n      <th>3</th>\n      <td>3</td>\n      <td>c</td>\n      <td>f</td>\n    </tr>\n  </tbody>\n</table>\n</div>"
     },
     "execution_count": 280,
     "metadata": {},
     "output_type": "execute_result"
    }
   ],
   "source": [
    "import pandas as pd\n",
    "# assign:分配，指派\n",
    "df1.assign(C=['d','e','f'])\n",
    "# 思考：为什么会出现NaN？"
   ]
  },
  {
   "cell_type": "code",
   "execution_count": 281,
   "metadata": {
    "pycharm": {
     "name": "#%%\n"
    }
   },
   "outputs": [
    {
     "data": {
      "text/plain": "   A\n1  1\n2  2\n3  3",
      "text/html": "<div>\n<style scoped>\n    .dataframe tbody tr th:only-of-type {\n        vertical-align: middle;\n    }\n\n    .dataframe tbody tr th {\n        vertical-align: top;\n    }\n\n    .dataframe thead th {\n        text-align: right;\n    }\n</style>\n<table border=\"1\" class=\"dataframe\">\n  <thead>\n    <tr style=\"text-align: right;\">\n      <th></th>\n      <th>A</th>\n    </tr>\n  </thead>\n  <tbody>\n    <tr>\n      <th>1</th>\n      <td>1</td>\n    </tr>\n    <tr>\n      <th>2</th>\n      <td>2</td>\n    </tr>\n    <tr>\n      <th>3</th>\n      <td>3</td>\n    </tr>\n  </tbody>\n</table>\n</div>"
     },
     "execution_count": 281,
     "metadata": {},
     "output_type": "execute_result"
    }
   ],
   "source": [
    "# df3 = pd.DataFrame({\"a\":[1,2,3]},index=[0,1,2])\n",
    "df3 = pd.DataFrame({\"A\":[1,2,3]},index=[1,2,3])\n",
    "df3"
   ]
  },
  {
   "cell_type": "code",
   "execution_count": 282,
   "metadata": {
    "pycharm": {
     "name": "#%%\n"
    }
   },
   "outputs": [
    {
     "data": {
      "text/plain": "   A  B\n1  1  a\n2  2  b\n3  3  c",
      "text/html": "<div>\n<style scoped>\n    .dataframe tbody tr th:only-of-type {\n        vertical-align: middle;\n    }\n\n    .dataframe tbody tr th {\n        vertical-align: top;\n    }\n\n    .dataframe thead th {\n        text-align: right;\n    }\n</style>\n<table border=\"1\" class=\"dataframe\">\n  <thead>\n    <tr style=\"text-align: right;\">\n      <th></th>\n      <th>A</th>\n      <th>B</th>\n    </tr>\n  </thead>\n  <tbody>\n    <tr>\n      <th>1</th>\n      <td>1</td>\n      <td>a</td>\n    </tr>\n    <tr>\n      <th>2</th>\n      <td>2</td>\n      <td>b</td>\n    </tr>\n    <tr>\n      <th>3</th>\n      <td>3</td>\n      <td>c</td>\n    </tr>\n  </tbody>\n</table>\n</div>"
     },
     "execution_count": 282,
     "metadata": {},
     "output_type": "execute_result"
    }
   ],
   "source": [
    "# df3.assign(B=pd.Series(['a','b','c']))  # a的索引是0，b的索引是1，c的索引是2\n",
    "df3.assign(B=['a','b','c'])"
   ]
  },
  {
   "cell_type": "markdown",
   "metadata": {
    "pycharm": {
     "name": "#%% md\n"
    }
   },
   "source": [
    "#### （g）根据类型选择列"
   ]
  },
  {
   "cell_type": "code",
   "execution_count": 283,
   "metadata": {
    "pycharm": {
     "name": "#%%\n"
    }
   },
   "outputs": [
    {
     "data": {
      "text/plain": "   col2  col3\n一     5   1.3\n二     6   2.5\n三     7   3.6\n四     8   4.6\n五     9   5.8",
      "text/html": "<div>\n<style scoped>\n    .dataframe tbody tr th:only-of-type {\n        vertical-align: middle;\n    }\n\n    .dataframe tbody tr th {\n        vertical-align: top;\n    }\n\n    .dataframe thead th {\n        text-align: right;\n    }\n</style>\n<table border=\"1\" class=\"dataframe\">\n  <thead>\n    <tr style=\"text-align: right;\">\n      <th></th>\n      <th>col2</th>\n      <th>col3</th>\n    </tr>\n  </thead>\n  <tbody>\n    <tr>\n      <th>一</th>\n      <td>5</td>\n      <td>1.3</td>\n    </tr>\n    <tr>\n      <th>二</th>\n      <td>6</td>\n      <td>2.5</td>\n    </tr>\n    <tr>\n      <th>三</th>\n      <td>7</td>\n      <td>3.6</td>\n    </tr>\n    <tr>\n      <th>四</th>\n      <td>8</td>\n      <td>4.6</td>\n    </tr>\n    <tr>\n      <th>五</th>\n      <td>9</td>\n      <td>5.8</td>\n    </tr>\n  </tbody>\n</table>\n</div>"
     },
     "execution_count": 283,
     "metadata": {},
     "output_type": "execute_result"
    }
   ],
   "source": [
    "df"
   ]
  },
  {
   "cell_type": "code",
   "execution_count": 284,
   "metadata": {
    "pycharm": {
     "name": "#%%\n"
    }
   },
   "outputs": [
    {
     "data": {
      "text/plain": "   col2  col3\n一     5   1.3\n二     6   2.5\n三     7   3.6\n四     8   4.6\n五     9   5.8",
      "text/html": "<div>\n<style scoped>\n    .dataframe tbody tr th:only-of-type {\n        vertical-align: middle;\n    }\n\n    .dataframe tbody tr th {\n        vertical-align: top;\n    }\n\n    .dataframe thead th {\n        text-align: right;\n    }\n</style>\n<table border=\"1\" class=\"dataframe\">\n  <thead>\n    <tr style=\"text-align: right;\">\n      <th></th>\n      <th>col2</th>\n      <th>col3</th>\n    </tr>\n  </thead>\n  <tbody>\n    <tr>\n      <th>一</th>\n      <td>5</td>\n      <td>1.3</td>\n    </tr>\n    <tr>\n      <th>二</th>\n      <td>6</td>\n      <td>2.5</td>\n    </tr>\n    <tr>\n      <th>三</th>\n      <td>7</td>\n      <td>3.6</td>\n    </tr>\n    <tr>\n      <th>四</th>\n      <td>8</td>\n      <td>4.6</td>\n    </tr>\n    <tr>\n      <th>五</th>\n      <td>9</td>\n      <td>5.8</td>\n    </tr>\n  </tbody>\n</table>\n</div>"
     },
     "execution_count": 284,
     "metadata": {},
     "output_type": "execute_result"
    }
   ],
   "source": [
    "df.select_dtypes(include=['number']).head()"
   ]
  },
  {
   "cell_type": "code",
   "execution_count": 285,
   "metadata": {
    "pycharm": {
     "name": "#%%\n"
    }
   },
   "outputs": [
    {
     "data": {
      "text/plain": "   col3\n一   1.3\n二   2.5\n三   3.6\n四   4.6\n五   5.8",
      "text/html": "<div>\n<style scoped>\n    .dataframe tbody tr th:only-of-type {\n        vertical-align: middle;\n    }\n\n    .dataframe tbody tr th {\n        vertical-align: top;\n    }\n\n    .dataframe thead th {\n        text-align: right;\n    }\n</style>\n<table border=\"1\" class=\"dataframe\">\n  <thead>\n    <tr style=\"text-align: right;\">\n      <th></th>\n      <th>col3</th>\n    </tr>\n  </thead>\n  <tbody>\n    <tr>\n      <th>一</th>\n      <td>1.3</td>\n    </tr>\n    <tr>\n      <th>二</th>\n      <td>2.5</td>\n    </tr>\n    <tr>\n      <th>三</th>\n      <td>3.6</td>\n    </tr>\n    <tr>\n      <th>四</th>\n      <td>4.6</td>\n    </tr>\n    <tr>\n      <th>五</th>\n      <td>5.8</td>\n    </tr>\n  </tbody>\n</table>\n</div>"
     },
     "execution_count": 285,
     "metadata": {},
     "output_type": "execute_result"
    }
   ],
   "source": [
    "df.select_dtypes(include=['float']).head()"
   ]
  },
  {
   "cell_type": "code",
   "execution_count": 286,
   "metadata": {
    "pycharm": {
     "name": "#%%\n"
    }
   },
   "outputs": [
    {
     "data": {
      "text/plain": "   col2\n一     5\n二     6\n三     7\n四     8\n五     9",
      "text/html": "<div>\n<style scoped>\n    .dataframe tbody tr th:only-of-type {\n        vertical-align: middle;\n    }\n\n    .dataframe tbody tr th {\n        vertical-align: top;\n    }\n\n    .dataframe thead th {\n        text-align: right;\n    }\n</style>\n<table border=\"1\" class=\"dataframe\">\n  <thead>\n    <tr style=\"text-align: right;\">\n      <th></th>\n      <th>col2</th>\n    </tr>\n  </thead>\n  <tbody>\n    <tr>\n      <th>一</th>\n      <td>5</td>\n    </tr>\n    <tr>\n      <th>二</th>\n      <td>6</td>\n    </tr>\n    <tr>\n      <th>三</th>\n      <td>7</td>\n    </tr>\n    <tr>\n      <th>四</th>\n      <td>8</td>\n    </tr>\n    <tr>\n      <th>五</th>\n      <td>9</td>\n    </tr>\n  </tbody>\n</table>\n</div>"
     },
     "execution_count": 286,
     "metadata": {},
     "output_type": "execute_result"
    }
   ],
   "source": [
    "df.select_dtypes(include=['int']).head()"
   ]
  },
  {
   "cell_type": "markdown",
   "metadata": {
    "pycharm": {
     "name": "#%% md\n"
    }
   },
   "source": [
    "#### （h）将Series转换为DataFrame"
   ]
  },
  {
   "cell_type": "code",
   "execution_count": 287,
   "metadata": {
    "pycharm": {
     "name": "#%%\n"
    }
   },
   "outputs": [
    {
     "data": {
      "text/plain": "0    1\n1    2\n2    3\n3    4\ndtype: int64"
     },
     "execution_count": 287,
     "metadata": {},
     "output_type": "execute_result"
    }
   ],
   "source": [
    "s = pd.Series([1,2,3,4])\n",
    "s"
   ]
  },
  {
   "cell_type": "code",
   "execution_count": 288,
   "metadata": {
    "pycharm": {
     "name": "#%%\n"
    }
   },
   "outputs": [
    {
     "data": {
      "text/plain": "pandas.core.frame.DataFrame"
     },
     "execution_count": 288,
     "metadata": {},
     "output_type": "execute_result"
    }
   ],
   "source": [
    "type(s.to_frame())"
   ]
  },
  {
   "cell_type": "code",
   "execution_count": 289,
   "metadata": {
    "pycharm": {
     "name": "#%%\n"
    }
   },
   "outputs": [
    {
     "data": {
      "text/plain": "pandas.core.series.Series"
     },
     "execution_count": 289,
     "metadata": {},
     "output_type": "execute_result"
    }
   ],
   "source": [
    "type(s)"
   ]
  },
  {
   "cell_type": "code",
   "execution_count": 290,
   "metadata": {
    "pycharm": {
     "name": "#%%\n"
    }
   },
   "outputs": [
    {
     "data": {
      "text/plain": "   0\n0  1\n1  2\n2  3\n3  4",
      "text/html": "<div>\n<style scoped>\n    .dataframe tbody tr th:only-of-type {\n        vertical-align: middle;\n    }\n\n    .dataframe tbody tr th {\n        vertical-align: top;\n    }\n\n    .dataframe thead th {\n        text-align: right;\n    }\n</style>\n<table border=\"1\" class=\"dataframe\">\n  <thead>\n    <tr style=\"text-align: right;\">\n      <th></th>\n      <th>0</th>\n    </tr>\n  </thead>\n  <tbody>\n    <tr>\n      <th>0</th>\n      <td>1</td>\n    </tr>\n    <tr>\n      <th>1</th>\n      <td>2</td>\n    </tr>\n    <tr>\n      <th>2</th>\n      <td>3</td>\n    </tr>\n    <tr>\n      <th>3</th>\n      <td>4</td>\n    </tr>\n  </tbody>\n</table>\n</div>"
     },
     "execution_count": 290,
     "metadata": {},
     "output_type": "execute_result"
    }
   ],
   "source": [
    "s2 = s.to_frame()\n",
    "type(s2)\n",
    "s2"
   ]
  },
  {
   "cell_type": "markdown",
   "metadata": {
    "pycharm": {
     "name": "#%% md\n"
    }
   },
   "source": [
    "#### 使用T符号可以转置"
   ]
  },
  {
   "cell_type": "code",
   "execution_count": 291,
   "metadata": {
    "pycharm": {
     "name": "#%%\n"
    }
   },
   "outputs": [
    {
     "data": {
      "text/plain": "   0  1  2  3\n0  1  2  3  4",
      "text/html": "<div>\n<style scoped>\n    .dataframe tbody tr th:only-of-type {\n        vertical-align: middle;\n    }\n\n    .dataframe tbody tr th {\n        vertical-align: top;\n    }\n\n    .dataframe thead th {\n        text-align: right;\n    }\n</style>\n<table border=\"1\" class=\"dataframe\">\n  <thead>\n    <tr style=\"text-align: right;\">\n      <th></th>\n      <th>0</th>\n      <th>1</th>\n      <th>2</th>\n      <th>3</th>\n    </tr>\n  </thead>\n  <tbody>\n    <tr>\n      <th>0</th>\n      <td>1</td>\n      <td>2</td>\n      <td>3</td>\n      <td>4</td>\n    </tr>\n  </tbody>\n</table>\n</div>"
     },
     "execution_count": 291,
     "metadata": {},
     "output_type": "execute_result"
    }
   ],
   "source": [
    "s2.T"
   ]
  },
  {
   "cell_type": "markdown",
   "metadata": {
    "pycharm": {
     "name": "#%% md\n"
    }
   },
   "source": [
    "## 三、常用基本函数"
   ]
  },
  {
   "cell_type": "code",
   "execution_count": 292,
   "metadata": {
    "pycharm": {
     "name": "#%%\n"
    }
   },
   "outputs": [
    {
     "data": {
      "text/plain": "     学校   班级    编号        性别        地址   身高   体重  数学成绩 物理成绩\n0   S_1  C_1  1101  street_1  street_1  173   63  34.0   A+\n1   S_1  C_1  1102         F  street_2  192   73  32.5   B+\n2   S_1  C_1  1103         M  street_2  186   82  87.2   B-\n3   S_1  C_1  1104         F  street_2  167   81  80.4   B+\n4   S_1  C_1  1105         F  street_4  159   64  84.8   B+\n5   S_1  C_2  1201         M  street_5  188   68  97.0   A-\n6   S_1  C_2  1202         F  street_4  176   94  63.5   B-\n7   S_1  C_2  1203         M  street_6  160   53  58.8   A+\n8   S_1  C_2  1204         F  street_5  162   63  33.8    B\n9   S_1  C_2  1205         F  street_6  167   63  68.4   B-\n10  S_1  C_3  1301         M  street_4  161   68  31.5   B+\n11  S_1  C_3  1302         F  street_1  175   57  87.7   A-\n12  S_1  C_3  1303         M  street_7  188   82  49.7    B\n13  S_1  C_3  1304         M  street_2  195   70  85.2    A\n14  S_1  C_3  1305         F  street_5  187   69  61.7   B-\n15  S_2  C_1  2101         M  street_7  174   84  83.3    C\n16  S_2  C_1  2102         F  street_6  161   61  50.6   B+\n17  S_2  C_1  2103         M  street_4  157   61  52.5   B-\n18  S_2  C_1  2104         F  street_5  159   97  72.2   B+\n19  S_2  C_1  2105         M  street_4  170   81  34.2    A\n20  S_2  C_2  2201         M  street_5  193  100  39.1    B\n21  S_2  C_2  2202         F  street_7  194   77  68.5   B+\n22  S_2  C_2  2203         M  street_4  155   91  73.8   A+\n23  S_2  C_2  2204         M  street_1  175   74  47.2   B-\n24  S_2  C_2  2205         F  street_7  183   76  85.4    B\n25  S_2  C_3  2301         F  street_4  157   78  72.3   B+\n26  S_2  C_3  2302         M  street_5  171   88  32.7    A\n27  S_2  C_3  2303         F  street_7  190   99  65.9    C\n28  S_2  C_3  2304         F  street_6  164   81  95.5   A-\n29  S_2  C_3  2305         M  street_4  187   73  48.9    B\n30  S_2  C_4  2401         F       NaN  192   62  45.3    A\n31  S_2  C_4  2402         M  street_7  166   82  48.7    B\n32  S_2  C_4  2403         F  street_6  158   60  59.7   B+\n33  S_2  C_4  2404         F  street_2  160   84  97.0    B\n34  S_2  C_4  2405         F       NaN  193   54 -47.6    B",
      "text/html": "<div>\n<style scoped>\n    .dataframe tbody tr th:only-of-type {\n        vertical-align: middle;\n    }\n\n    .dataframe tbody tr th {\n        vertical-align: top;\n    }\n\n    .dataframe thead th {\n        text-align: right;\n    }\n</style>\n<table border=\"1\" class=\"dataframe\">\n  <thead>\n    <tr style=\"text-align: right;\">\n      <th></th>\n      <th>学校</th>\n      <th>班级</th>\n      <th>编号</th>\n      <th>性别</th>\n      <th>地址</th>\n      <th>身高</th>\n      <th>体重</th>\n      <th>数学成绩</th>\n      <th>物理成绩</th>\n    </tr>\n  </thead>\n  <tbody>\n    <tr>\n      <th>0</th>\n      <td>S_1</td>\n      <td>C_1</td>\n      <td>1101</td>\n      <td>street_1</td>\n      <td>street_1</td>\n      <td>173</td>\n      <td>63</td>\n      <td>34.0</td>\n      <td>A+</td>\n    </tr>\n    <tr>\n      <th>1</th>\n      <td>S_1</td>\n      <td>C_1</td>\n      <td>1102</td>\n      <td>F</td>\n      <td>street_2</td>\n      <td>192</td>\n      <td>73</td>\n      <td>32.5</td>\n      <td>B+</td>\n    </tr>\n    <tr>\n      <th>2</th>\n      <td>S_1</td>\n      <td>C_1</td>\n      <td>1103</td>\n      <td>M</td>\n      <td>street_2</td>\n      <td>186</td>\n      <td>82</td>\n      <td>87.2</td>\n      <td>B-</td>\n    </tr>\n    <tr>\n      <th>3</th>\n      <td>S_1</td>\n      <td>C_1</td>\n      <td>1104</td>\n      <td>F</td>\n      <td>street_2</td>\n      <td>167</td>\n      <td>81</td>\n      <td>80.4</td>\n      <td>B+</td>\n    </tr>\n    <tr>\n      <th>4</th>\n      <td>S_1</td>\n      <td>C_1</td>\n      <td>1105</td>\n      <td>F</td>\n      <td>street_4</td>\n      <td>159</td>\n      <td>64</td>\n      <td>84.8</td>\n      <td>B+</td>\n    </tr>\n    <tr>\n      <th>5</th>\n      <td>S_1</td>\n      <td>C_2</td>\n      <td>1201</td>\n      <td>M</td>\n      <td>street_5</td>\n      <td>188</td>\n      <td>68</td>\n      <td>97.0</td>\n      <td>A-</td>\n    </tr>\n    <tr>\n      <th>6</th>\n      <td>S_1</td>\n      <td>C_2</td>\n      <td>1202</td>\n      <td>F</td>\n      <td>street_4</td>\n      <td>176</td>\n      <td>94</td>\n      <td>63.5</td>\n      <td>B-</td>\n    </tr>\n    <tr>\n      <th>7</th>\n      <td>S_1</td>\n      <td>C_2</td>\n      <td>1203</td>\n      <td>M</td>\n      <td>street_6</td>\n      <td>160</td>\n      <td>53</td>\n      <td>58.8</td>\n      <td>A+</td>\n    </tr>\n    <tr>\n      <th>8</th>\n      <td>S_1</td>\n      <td>C_2</td>\n      <td>1204</td>\n      <td>F</td>\n      <td>street_5</td>\n      <td>162</td>\n      <td>63</td>\n      <td>33.8</td>\n      <td>B</td>\n    </tr>\n    <tr>\n      <th>9</th>\n      <td>S_1</td>\n      <td>C_2</td>\n      <td>1205</td>\n      <td>F</td>\n      <td>street_6</td>\n      <td>167</td>\n      <td>63</td>\n      <td>68.4</td>\n      <td>B-</td>\n    </tr>\n    <tr>\n      <th>10</th>\n      <td>S_1</td>\n      <td>C_3</td>\n      <td>1301</td>\n      <td>M</td>\n      <td>street_4</td>\n      <td>161</td>\n      <td>68</td>\n      <td>31.5</td>\n      <td>B+</td>\n    </tr>\n    <tr>\n      <th>11</th>\n      <td>S_1</td>\n      <td>C_3</td>\n      <td>1302</td>\n      <td>F</td>\n      <td>street_1</td>\n      <td>175</td>\n      <td>57</td>\n      <td>87.7</td>\n      <td>A-</td>\n    </tr>\n    <tr>\n      <th>12</th>\n      <td>S_1</td>\n      <td>C_3</td>\n      <td>1303</td>\n      <td>M</td>\n      <td>street_7</td>\n      <td>188</td>\n      <td>82</td>\n      <td>49.7</td>\n      <td>B</td>\n    </tr>\n    <tr>\n      <th>13</th>\n      <td>S_1</td>\n      <td>C_3</td>\n      <td>1304</td>\n      <td>M</td>\n      <td>street_2</td>\n      <td>195</td>\n      <td>70</td>\n      <td>85.2</td>\n      <td>A</td>\n    </tr>\n    <tr>\n      <th>14</th>\n      <td>S_1</td>\n      <td>C_3</td>\n      <td>1305</td>\n      <td>F</td>\n      <td>street_5</td>\n      <td>187</td>\n      <td>69</td>\n      <td>61.7</td>\n      <td>B-</td>\n    </tr>\n    <tr>\n      <th>15</th>\n      <td>S_2</td>\n      <td>C_1</td>\n      <td>2101</td>\n      <td>M</td>\n      <td>street_7</td>\n      <td>174</td>\n      <td>84</td>\n      <td>83.3</td>\n      <td>C</td>\n    </tr>\n    <tr>\n      <th>16</th>\n      <td>S_2</td>\n      <td>C_1</td>\n      <td>2102</td>\n      <td>F</td>\n      <td>street_6</td>\n      <td>161</td>\n      <td>61</td>\n      <td>50.6</td>\n      <td>B+</td>\n    </tr>\n    <tr>\n      <th>17</th>\n      <td>S_2</td>\n      <td>C_1</td>\n      <td>2103</td>\n      <td>M</td>\n      <td>street_4</td>\n      <td>157</td>\n      <td>61</td>\n      <td>52.5</td>\n      <td>B-</td>\n    </tr>\n    <tr>\n      <th>18</th>\n      <td>S_2</td>\n      <td>C_1</td>\n      <td>2104</td>\n      <td>F</td>\n      <td>street_5</td>\n      <td>159</td>\n      <td>97</td>\n      <td>72.2</td>\n      <td>B+</td>\n    </tr>\n    <tr>\n      <th>19</th>\n      <td>S_2</td>\n      <td>C_1</td>\n      <td>2105</td>\n      <td>M</td>\n      <td>street_4</td>\n      <td>170</td>\n      <td>81</td>\n      <td>34.2</td>\n      <td>A</td>\n    </tr>\n    <tr>\n      <th>20</th>\n      <td>S_2</td>\n      <td>C_2</td>\n      <td>2201</td>\n      <td>M</td>\n      <td>street_5</td>\n      <td>193</td>\n      <td>100</td>\n      <td>39.1</td>\n      <td>B</td>\n    </tr>\n    <tr>\n      <th>21</th>\n      <td>S_2</td>\n      <td>C_2</td>\n      <td>2202</td>\n      <td>F</td>\n      <td>street_7</td>\n      <td>194</td>\n      <td>77</td>\n      <td>68.5</td>\n      <td>B+</td>\n    </tr>\n    <tr>\n      <th>22</th>\n      <td>S_2</td>\n      <td>C_2</td>\n      <td>2203</td>\n      <td>M</td>\n      <td>street_4</td>\n      <td>155</td>\n      <td>91</td>\n      <td>73.8</td>\n      <td>A+</td>\n    </tr>\n    <tr>\n      <th>23</th>\n      <td>S_2</td>\n      <td>C_2</td>\n      <td>2204</td>\n      <td>M</td>\n      <td>street_1</td>\n      <td>175</td>\n      <td>74</td>\n      <td>47.2</td>\n      <td>B-</td>\n    </tr>\n    <tr>\n      <th>24</th>\n      <td>S_2</td>\n      <td>C_2</td>\n      <td>2205</td>\n      <td>F</td>\n      <td>street_7</td>\n      <td>183</td>\n      <td>76</td>\n      <td>85.4</td>\n      <td>B</td>\n    </tr>\n    <tr>\n      <th>25</th>\n      <td>S_2</td>\n      <td>C_3</td>\n      <td>2301</td>\n      <td>F</td>\n      <td>street_4</td>\n      <td>157</td>\n      <td>78</td>\n      <td>72.3</td>\n      <td>B+</td>\n    </tr>\n    <tr>\n      <th>26</th>\n      <td>S_2</td>\n      <td>C_3</td>\n      <td>2302</td>\n      <td>M</td>\n      <td>street_5</td>\n      <td>171</td>\n      <td>88</td>\n      <td>32.7</td>\n      <td>A</td>\n    </tr>\n    <tr>\n      <th>27</th>\n      <td>S_2</td>\n      <td>C_3</td>\n      <td>2303</td>\n      <td>F</td>\n      <td>street_7</td>\n      <td>190</td>\n      <td>99</td>\n      <td>65.9</td>\n      <td>C</td>\n    </tr>\n    <tr>\n      <th>28</th>\n      <td>S_2</td>\n      <td>C_3</td>\n      <td>2304</td>\n      <td>F</td>\n      <td>street_6</td>\n      <td>164</td>\n      <td>81</td>\n      <td>95.5</td>\n      <td>A-</td>\n    </tr>\n    <tr>\n      <th>29</th>\n      <td>S_2</td>\n      <td>C_3</td>\n      <td>2305</td>\n      <td>M</td>\n      <td>street_4</td>\n      <td>187</td>\n      <td>73</td>\n      <td>48.9</td>\n      <td>B</td>\n    </tr>\n    <tr>\n      <th>30</th>\n      <td>S_2</td>\n      <td>C_4</td>\n      <td>2401</td>\n      <td>F</td>\n      <td>NaN</td>\n      <td>192</td>\n      <td>62</td>\n      <td>45.3</td>\n      <td>A</td>\n    </tr>\n    <tr>\n      <th>31</th>\n      <td>S_2</td>\n      <td>C_4</td>\n      <td>2402</td>\n      <td>M</td>\n      <td>street_7</td>\n      <td>166</td>\n      <td>82</td>\n      <td>48.7</td>\n      <td>B</td>\n    </tr>\n    <tr>\n      <th>32</th>\n      <td>S_2</td>\n      <td>C_4</td>\n      <td>2403</td>\n      <td>F</td>\n      <td>street_6</td>\n      <td>158</td>\n      <td>60</td>\n      <td>59.7</td>\n      <td>B+</td>\n    </tr>\n    <tr>\n      <th>33</th>\n      <td>S_2</td>\n      <td>C_4</td>\n      <td>2404</td>\n      <td>F</td>\n      <td>street_2</td>\n      <td>160</td>\n      <td>84</td>\n      <td>97.0</td>\n      <td>B</td>\n    </tr>\n    <tr>\n      <th>34</th>\n      <td>S_2</td>\n      <td>C_4</td>\n      <td>2405</td>\n      <td>F</td>\n      <td>NaN</td>\n      <td>193</td>\n      <td>54</td>\n      <td>-47.6</td>\n      <td>B</td>\n    </tr>\n  </tbody>\n</table>\n</div>"
     },
     "execution_count": 292,
     "metadata": {},
     "output_type": "execute_result"
    }
   ],
   "source": [
    "df = pd.read_csv('data/table.csv')\n",
    "df"
   ]
  },
  {
   "cell_type": "markdown",
   "metadata": {
    "pycharm": {
     "name": "#%% md\n"
    }
   },
   "source": [
    "### 1. head和tail"
   ]
  },
  {
   "cell_type": "code",
   "execution_count": 293,
   "metadata": {
    "pycharm": {
     "name": "#%%\n"
    }
   },
   "outputs": [
    {
     "data": {
      "text/plain": "    学校   班级    编号        性别        地址   身高  体重  数学成绩 物理成绩\n0  S_1  C_1  1101  street_1  street_1  173  63  34.0   A+\n1  S_1  C_1  1102         F  street_2  192  73  32.5   B+\n2  S_1  C_1  1103         M  street_2  186  82  87.2   B-\n3  S_1  C_1  1104         F  street_2  167  81  80.4   B+\n4  S_1  C_1  1105         F  street_4  159  64  84.8   B+\n5  S_1  C_2  1201         M  street_5  188  68  97.0   A-\n6  S_1  C_2  1202         F  street_4  176  94  63.5   B-\n7  S_1  C_2  1203         M  street_6  160  53  58.8   A+",
      "text/html": "<div>\n<style scoped>\n    .dataframe tbody tr th:only-of-type {\n        vertical-align: middle;\n    }\n\n    .dataframe tbody tr th {\n        vertical-align: top;\n    }\n\n    .dataframe thead th {\n        text-align: right;\n    }\n</style>\n<table border=\"1\" class=\"dataframe\">\n  <thead>\n    <tr style=\"text-align: right;\">\n      <th></th>\n      <th>学校</th>\n      <th>班级</th>\n      <th>编号</th>\n      <th>性别</th>\n      <th>地址</th>\n      <th>身高</th>\n      <th>体重</th>\n      <th>数学成绩</th>\n      <th>物理成绩</th>\n    </tr>\n  </thead>\n  <tbody>\n    <tr>\n      <th>0</th>\n      <td>S_1</td>\n      <td>C_1</td>\n      <td>1101</td>\n      <td>street_1</td>\n      <td>street_1</td>\n      <td>173</td>\n      <td>63</td>\n      <td>34.0</td>\n      <td>A+</td>\n    </tr>\n    <tr>\n      <th>1</th>\n      <td>S_1</td>\n      <td>C_1</td>\n      <td>1102</td>\n      <td>F</td>\n      <td>street_2</td>\n      <td>192</td>\n      <td>73</td>\n      <td>32.5</td>\n      <td>B+</td>\n    </tr>\n    <tr>\n      <th>2</th>\n      <td>S_1</td>\n      <td>C_1</td>\n      <td>1103</td>\n      <td>M</td>\n      <td>street_2</td>\n      <td>186</td>\n      <td>82</td>\n      <td>87.2</td>\n      <td>B-</td>\n    </tr>\n    <tr>\n      <th>3</th>\n      <td>S_1</td>\n      <td>C_1</td>\n      <td>1104</td>\n      <td>F</td>\n      <td>street_2</td>\n      <td>167</td>\n      <td>81</td>\n      <td>80.4</td>\n      <td>B+</td>\n    </tr>\n    <tr>\n      <th>4</th>\n      <td>S_1</td>\n      <td>C_1</td>\n      <td>1105</td>\n      <td>F</td>\n      <td>street_4</td>\n      <td>159</td>\n      <td>64</td>\n      <td>84.8</td>\n      <td>B+</td>\n    </tr>\n    <tr>\n      <th>5</th>\n      <td>S_1</td>\n      <td>C_2</td>\n      <td>1201</td>\n      <td>M</td>\n      <td>street_5</td>\n      <td>188</td>\n      <td>68</td>\n      <td>97.0</td>\n      <td>A-</td>\n    </tr>\n    <tr>\n      <th>6</th>\n      <td>S_1</td>\n      <td>C_2</td>\n      <td>1202</td>\n      <td>F</td>\n      <td>street_4</td>\n      <td>176</td>\n      <td>94</td>\n      <td>63.5</td>\n      <td>B-</td>\n    </tr>\n    <tr>\n      <th>7</th>\n      <td>S_1</td>\n      <td>C_2</td>\n      <td>1203</td>\n      <td>M</td>\n      <td>street_6</td>\n      <td>160</td>\n      <td>53</td>\n      <td>58.8</td>\n      <td>A+</td>\n    </tr>\n  </tbody>\n</table>\n</div>"
     },
     "execution_count": 293,
     "metadata": {},
     "output_type": "execute_result"
    }
   ],
   "source": [
    "df.head()  # 默认获取前5条数据\n",
    "df.head(8)  # 前8条数据"
   ]
  },
  {
   "cell_type": "code",
   "execution_count": 294,
   "metadata": {
    "pycharm": {
     "name": "#%%\n"
    }
   },
   "outputs": [
    {
     "data": {
      "text/plain": "     学校   班级    编号 性别        地址   身高  体重  数学成绩 物理成绩\n27  S_2  C_3  2303  F  street_7  190  99  65.9    C\n28  S_2  C_3  2304  F  street_6  164  81  95.5   A-\n29  S_2  C_3  2305  M  street_4  187  73  48.9    B\n30  S_2  C_4  2401  F       NaN  192  62  45.3    A\n31  S_2  C_4  2402  M  street_7  166  82  48.7    B\n32  S_2  C_4  2403  F  street_6  158  60  59.7   B+\n33  S_2  C_4  2404  F  street_2  160  84  97.0    B\n34  S_2  C_4  2405  F       NaN  193  54 -47.6    B",
      "text/html": "<div>\n<style scoped>\n    .dataframe tbody tr th:only-of-type {\n        vertical-align: middle;\n    }\n\n    .dataframe tbody tr th {\n        vertical-align: top;\n    }\n\n    .dataframe thead th {\n        text-align: right;\n    }\n</style>\n<table border=\"1\" class=\"dataframe\">\n  <thead>\n    <tr style=\"text-align: right;\">\n      <th></th>\n      <th>学校</th>\n      <th>班级</th>\n      <th>编号</th>\n      <th>性别</th>\n      <th>地址</th>\n      <th>身高</th>\n      <th>体重</th>\n      <th>数学成绩</th>\n      <th>物理成绩</th>\n    </tr>\n  </thead>\n  <tbody>\n    <tr>\n      <th>27</th>\n      <td>S_2</td>\n      <td>C_3</td>\n      <td>2303</td>\n      <td>F</td>\n      <td>street_7</td>\n      <td>190</td>\n      <td>99</td>\n      <td>65.9</td>\n      <td>C</td>\n    </tr>\n    <tr>\n      <th>28</th>\n      <td>S_2</td>\n      <td>C_3</td>\n      <td>2304</td>\n      <td>F</td>\n      <td>street_6</td>\n      <td>164</td>\n      <td>81</td>\n      <td>95.5</td>\n      <td>A-</td>\n    </tr>\n    <tr>\n      <th>29</th>\n      <td>S_2</td>\n      <td>C_3</td>\n      <td>2305</td>\n      <td>M</td>\n      <td>street_4</td>\n      <td>187</td>\n      <td>73</td>\n      <td>48.9</td>\n      <td>B</td>\n    </tr>\n    <tr>\n      <th>30</th>\n      <td>S_2</td>\n      <td>C_4</td>\n      <td>2401</td>\n      <td>F</td>\n      <td>NaN</td>\n      <td>192</td>\n      <td>62</td>\n      <td>45.3</td>\n      <td>A</td>\n    </tr>\n    <tr>\n      <th>31</th>\n      <td>S_2</td>\n      <td>C_4</td>\n      <td>2402</td>\n      <td>M</td>\n      <td>street_7</td>\n      <td>166</td>\n      <td>82</td>\n      <td>48.7</td>\n      <td>B</td>\n    </tr>\n    <tr>\n      <th>32</th>\n      <td>S_2</td>\n      <td>C_4</td>\n      <td>2403</td>\n      <td>F</td>\n      <td>street_6</td>\n      <td>158</td>\n      <td>60</td>\n      <td>59.7</td>\n      <td>B+</td>\n    </tr>\n    <tr>\n      <th>33</th>\n      <td>S_2</td>\n      <td>C_4</td>\n      <td>2404</td>\n      <td>F</td>\n      <td>street_2</td>\n      <td>160</td>\n      <td>84</td>\n      <td>97.0</td>\n      <td>B</td>\n    </tr>\n    <tr>\n      <th>34</th>\n      <td>S_2</td>\n      <td>C_4</td>\n      <td>2405</td>\n      <td>F</td>\n      <td>NaN</td>\n      <td>193</td>\n      <td>54</td>\n      <td>-47.6</td>\n      <td>B</td>\n    </tr>\n  </tbody>\n</table>\n</div>"
     },
     "execution_count": 294,
     "metadata": {},
     "output_type": "execute_result"
    }
   ],
   "source": [
    "df.tail()  # 后5条数据\n",
    "df.tail(8)  # 后8条数据"
   ]
  },
  {
   "cell_type": "markdown",
   "metadata": {
    "pycharm": {
     "name": "#%% md\n"
    }
   },
   "source": [
    "### 2. unique和nunique"
   ]
  },
  {
   "cell_type": "markdown",
   "metadata": {
    "pycharm": {
     "name": "#%% md\n"
    }
   },
   "source": [
    "#### nunique显示有多少个唯一值"
   ]
  },
  {
   "cell_type": "code",
   "execution_count": 295,
   "metadata": {
    "pycharm": {
     "name": "#%%\n"
    }
   },
   "outputs": [
    {
     "data": {
      "text/plain": "     学校   班级    编号        性别        地址   身高   体重  数学成绩 物理成绩\n0   S_1  C_1  1101  street_1  street_1  173   63  34.0   A+\n1   S_1  C_1  1102         F  street_2  192   73  32.5   B+\n2   S_1  C_1  1103         M  street_2  186   82  87.2   B-\n3   S_1  C_1  1104         F  street_2  167   81  80.4   B+\n4   S_1  C_1  1105         F  street_4  159   64  84.8   B+\n5   S_1  C_2  1201         M  street_5  188   68  97.0   A-\n6   S_1  C_2  1202         F  street_4  176   94  63.5   B-\n7   S_1  C_2  1203         M  street_6  160   53  58.8   A+\n8   S_1  C_2  1204         F  street_5  162   63  33.8    B\n9   S_1  C_2  1205         F  street_6  167   63  68.4   B-\n10  S_1  C_3  1301         M  street_4  161   68  31.5   B+\n11  S_1  C_3  1302         F  street_1  175   57  87.7   A-\n12  S_1  C_3  1303         M  street_7  188   82  49.7    B\n13  S_1  C_3  1304         M  street_2  195   70  85.2    A\n14  S_1  C_3  1305         F  street_5  187   69  61.7   B-\n15  S_2  C_1  2101         M  street_7  174   84  83.3    C\n16  S_2  C_1  2102         F  street_6  161   61  50.6   B+\n17  S_2  C_1  2103         M  street_4  157   61  52.5   B-\n18  S_2  C_1  2104         F  street_5  159   97  72.2   B+\n19  S_2  C_1  2105         M  street_4  170   81  34.2    A\n20  S_2  C_2  2201         M  street_5  193  100  39.1    B\n21  S_2  C_2  2202         F  street_7  194   77  68.5   B+\n22  S_2  C_2  2203         M  street_4  155   91  73.8   A+\n23  S_2  C_2  2204         M  street_1  175   74  47.2   B-\n24  S_2  C_2  2205         F  street_7  183   76  85.4    B\n25  S_2  C_3  2301         F  street_4  157   78  72.3   B+\n26  S_2  C_3  2302         M  street_5  171   88  32.7    A\n27  S_2  C_3  2303         F  street_7  190   99  65.9    C\n28  S_2  C_3  2304         F  street_6  164   81  95.5   A-\n29  S_2  C_3  2305         M  street_4  187   73  48.9    B\n30  S_2  C_4  2401         F       NaN  192   62  45.3    A\n31  S_2  C_4  2402         M  street_7  166   82  48.7    B\n32  S_2  C_4  2403         F  street_6  158   60  59.7   B+\n33  S_2  C_4  2404         F  street_2  160   84  97.0    B\n34  S_2  C_4  2405         F       NaN  193   54 -47.6    B",
      "text/html": "<div>\n<style scoped>\n    .dataframe tbody tr th:only-of-type {\n        vertical-align: middle;\n    }\n\n    .dataframe tbody tr th {\n        vertical-align: top;\n    }\n\n    .dataframe thead th {\n        text-align: right;\n    }\n</style>\n<table border=\"1\" class=\"dataframe\">\n  <thead>\n    <tr style=\"text-align: right;\">\n      <th></th>\n      <th>学校</th>\n      <th>班级</th>\n      <th>编号</th>\n      <th>性别</th>\n      <th>地址</th>\n      <th>身高</th>\n      <th>体重</th>\n      <th>数学成绩</th>\n      <th>物理成绩</th>\n    </tr>\n  </thead>\n  <tbody>\n    <tr>\n      <th>0</th>\n      <td>S_1</td>\n      <td>C_1</td>\n      <td>1101</td>\n      <td>street_1</td>\n      <td>street_1</td>\n      <td>173</td>\n      <td>63</td>\n      <td>34.0</td>\n      <td>A+</td>\n    </tr>\n    <tr>\n      <th>1</th>\n      <td>S_1</td>\n      <td>C_1</td>\n      <td>1102</td>\n      <td>F</td>\n      <td>street_2</td>\n      <td>192</td>\n      <td>73</td>\n      <td>32.5</td>\n      <td>B+</td>\n    </tr>\n    <tr>\n      <th>2</th>\n      <td>S_1</td>\n      <td>C_1</td>\n      <td>1103</td>\n      <td>M</td>\n      <td>street_2</td>\n      <td>186</td>\n      <td>82</td>\n      <td>87.2</td>\n      <td>B-</td>\n    </tr>\n    <tr>\n      <th>3</th>\n      <td>S_1</td>\n      <td>C_1</td>\n      <td>1104</td>\n      <td>F</td>\n      <td>street_2</td>\n      <td>167</td>\n      <td>81</td>\n      <td>80.4</td>\n      <td>B+</td>\n    </tr>\n    <tr>\n      <th>4</th>\n      <td>S_1</td>\n      <td>C_1</td>\n      <td>1105</td>\n      <td>F</td>\n      <td>street_4</td>\n      <td>159</td>\n      <td>64</td>\n      <td>84.8</td>\n      <td>B+</td>\n    </tr>\n    <tr>\n      <th>5</th>\n      <td>S_1</td>\n      <td>C_2</td>\n      <td>1201</td>\n      <td>M</td>\n      <td>street_5</td>\n      <td>188</td>\n      <td>68</td>\n      <td>97.0</td>\n      <td>A-</td>\n    </tr>\n    <tr>\n      <th>6</th>\n      <td>S_1</td>\n      <td>C_2</td>\n      <td>1202</td>\n      <td>F</td>\n      <td>street_4</td>\n      <td>176</td>\n      <td>94</td>\n      <td>63.5</td>\n      <td>B-</td>\n    </tr>\n    <tr>\n      <th>7</th>\n      <td>S_1</td>\n      <td>C_2</td>\n      <td>1203</td>\n      <td>M</td>\n      <td>street_6</td>\n      <td>160</td>\n      <td>53</td>\n      <td>58.8</td>\n      <td>A+</td>\n    </tr>\n    <tr>\n      <th>8</th>\n      <td>S_1</td>\n      <td>C_2</td>\n      <td>1204</td>\n      <td>F</td>\n      <td>street_5</td>\n      <td>162</td>\n      <td>63</td>\n      <td>33.8</td>\n      <td>B</td>\n    </tr>\n    <tr>\n      <th>9</th>\n      <td>S_1</td>\n      <td>C_2</td>\n      <td>1205</td>\n      <td>F</td>\n      <td>street_6</td>\n      <td>167</td>\n      <td>63</td>\n      <td>68.4</td>\n      <td>B-</td>\n    </tr>\n    <tr>\n      <th>10</th>\n      <td>S_1</td>\n      <td>C_3</td>\n      <td>1301</td>\n      <td>M</td>\n      <td>street_4</td>\n      <td>161</td>\n      <td>68</td>\n      <td>31.5</td>\n      <td>B+</td>\n    </tr>\n    <tr>\n      <th>11</th>\n      <td>S_1</td>\n      <td>C_3</td>\n      <td>1302</td>\n      <td>F</td>\n      <td>street_1</td>\n      <td>175</td>\n      <td>57</td>\n      <td>87.7</td>\n      <td>A-</td>\n    </tr>\n    <tr>\n      <th>12</th>\n      <td>S_1</td>\n      <td>C_3</td>\n      <td>1303</td>\n      <td>M</td>\n      <td>street_7</td>\n      <td>188</td>\n      <td>82</td>\n      <td>49.7</td>\n      <td>B</td>\n    </tr>\n    <tr>\n      <th>13</th>\n      <td>S_1</td>\n      <td>C_3</td>\n      <td>1304</td>\n      <td>M</td>\n      <td>street_2</td>\n      <td>195</td>\n      <td>70</td>\n      <td>85.2</td>\n      <td>A</td>\n    </tr>\n    <tr>\n      <th>14</th>\n      <td>S_1</td>\n      <td>C_3</td>\n      <td>1305</td>\n      <td>F</td>\n      <td>street_5</td>\n      <td>187</td>\n      <td>69</td>\n      <td>61.7</td>\n      <td>B-</td>\n    </tr>\n    <tr>\n      <th>15</th>\n      <td>S_2</td>\n      <td>C_1</td>\n      <td>2101</td>\n      <td>M</td>\n      <td>street_7</td>\n      <td>174</td>\n      <td>84</td>\n      <td>83.3</td>\n      <td>C</td>\n    </tr>\n    <tr>\n      <th>16</th>\n      <td>S_2</td>\n      <td>C_1</td>\n      <td>2102</td>\n      <td>F</td>\n      <td>street_6</td>\n      <td>161</td>\n      <td>61</td>\n      <td>50.6</td>\n      <td>B+</td>\n    </tr>\n    <tr>\n      <th>17</th>\n      <td>S_2</td>\n      <td>C_1</td>\n      <td>2103</td>\n      <td>M</td>\n      <td>street_4</td>\n      <td>157</td>\n      <td>61</td>\n      <td>52.5</td>\n      <td>B-</td>\n    </tr>\n    <tr>\n      <th>18</th>\n      <td>S_2</td>\n      <td>C_1</td>\n      <td>2104</td>\n      <td>F</td>\n      <td>street_5</td>\n      <td>159</td>\n      <td>97</td>\n      <td>72.2</td>\n      <td>B+</td>\n    </tr>\n    <tr>\n      <th>19</th>\n      <td>S_2</td>\n      <td>C_1</td>\n      <td>2105</td>\n      <td>M</td>\n      <td>street_4</td>\n      <td>170</td>\n      <td>81</td>\n      <td>34.2</td>\n      <td>A</td>\n    </tr>\n    <tr>\n      <th>20</th>\n      <td>S_2</td>\n      <td>C_2</td>\n      <td>2201</td>\n      <td>M</td>\n      <td>street_5</td>\n      <td>193</td>\n      <td>100</td>\n      <td>39.1</td>\n      <td>B</td>\n    </tr>\n    <tr>\n      <th>21</th>\n      <td>S_2</td>\n      <td>C_2</td>\n      <td>2202</td>\n      <td>F</td>\n      <td>street_7</td>\n      <td>194</td>\n      <td>77</td>\n      <td>68.5</td>\n      <td>B+</td>\n    </tr>\n    <tr>\n      <th>22</th>\n      <td>S_2</td>\n      <td>C_2</td>\n      <td>2203</td>\n      <td>M</td>\n      <td>street_4</td>\n      <td>155</td>\n      <td>91</td>\n      <td>73.8</td>\n      <td>A+</td>\n    </tr>\n    <tr>\n      <th>23</th>\n      <td>S_2</td>\n      <td>C_2</td>\n      <td>2204</td>\n      <td>M</td>\n      <td>street_1</td>\n      <td>175</td>\n      <td>74</td>\n      <td>47.2</td>\n      <td>B-</td>\n    </tr>\n    <tr>\n      <th>24</th>\n      <td>S_2</td>\n      <td>C_2</td>\n      <td>2205</td>\n      <td>F</td>\n      <td>street_7</td>\n      <td>183</td>\n      <td>76</td>\n      <td>85.4</td>\n      <td>B</td>\n    </tr>\n    <tr>\n      <th>25</th>\n      <td>S_2</td>\n      <td>C_3</td>\n      <td>2301</td>\n      <td>F</td>\n      <td>street_4</td>\n      <td>157</td>\n      <td>78</td>\n      <td>72.3</td>\n      <td>B+</td>\n    </tr>\n    <tr>\n      <th>26</th>\n      <td>S_2</td>\n      <td>C_3</td>\n      <td>2302</td>\n      <td>M</td>\n      <td>street_5</td>\n      <td>171</td>\n      <td>88</td>\n      <td>32.7</td>\n      <td>A</td>\n    </tr>\n    <tr>\n      <th>27</th>\n      <td>S_2</td>\n      <td>C_3</td>\n      <td>2303</td>\n      <td>F</td>\n      <td>street_7</td>\n      <td>190</td>\n      <td>99</td>\n      <td>65.9</td>\n      <td>C</td>\n    </tr>\n    <tr>\n      <th>28</th>\n      <td>S_2</td>\n      <td>C_3</td>\n      <td>2304</td>\n      <td>F</td>\n      <td>street_6</td>\n      <td>164</td>\n      <td>81</td>\n      <td>95.5</td>\n      <td>A-</td>\n    </tr>\n    <tr>\n      <th>29</th>\n      <td>S_2</td>\n      <td>C_3</td>\n      <td>2305</td>\n      <td>M</td>\n      <td>street_4</td>\n      <td>187</td>\n      <td>73</td>\n      <td>48.9</td>\n      <td>B</td>\n    </tr>\n    <tr>\n      <th>30</th>\n      <td>S_2</td>\n      <td>C_4</td>\n      <td>2401</td>\n      <td>F</td>\n      <td>NaN</td>\n      <td>192</td>\n      <td>62</td>\n      <td>45.3</td>\n      <td>A</td>\n    </tr>\n    <tr>\n      <th>31</th>\n      <td>S_2</td>\n      <td>C_4</td>\n      <td>2402</td>\n      <td>M</td>\n      <td>street_7</td>\n      <td>166</td>\n      <td>82</td>\n      <td>48.7</td>\n      <td>B</td>\n    </tr>\n    <tr>\n      <th>32</th>\n      <td>S_2</td>\n      <td>C_4</td>\n      <td>2403</td>\n      <td>F</td>\n      <td>street_6</td>\n      <td>158</td>\n      <td>60</td>\n      <td>59.7</td>\n      <td>B+</td>\n    </tr>\n    <tr>\n      <th>33</th>\n      <td>S_2</td>\n      <td>C_4</td>\n      <td>2404</td>\n      <td>F</td>\n      <td>street_2</td>\n      <td>160</td>\n      <td>84</td>\n      <td>97.0</td>\n      <td>B</td>\n    </tr>\n    <tr>\n      <th>34</th>\n      <td>S_2</td>\n      <td>C_4</td>\n      <td>2405</td>\n      <td>F</td>\n      <td>NaN</td>\n      <td>193</td>\n      <td>54</td>\n      <td>-47.6</td>\n      <td>B</td>\n    </tr>\n  </tbody>\n</table>\n</div>"
     },
     "execution_count": 295,
     "metadata": {},
     "output_type": "execute_result"
    }
   ],
   "source": [
    "df"
   ]
  },
  {
   "cell_type": "code",
   "execution_count": 296,
   "metadata": {
    "pycharm": {
     "name": "#%%\n"
    }
   },
   "outputs": [
    {
     "data": {
      "text/plain": "array(['A+', 'B+', 'B-', 'A-', 'B', 'A', 'C'], dtype=object)"
     },
     "execution_count": 296,
     "metadata": {},
     "output_type": "execute_result"
    }
   ],
   "source": [
    "df['物理成绩'].unique()"
   ]
  },
  {
   "cell_type": "markdown",
   "metadata": {
    "pycharm": {
     "name": "#%% md\n"
    }
   },
   "source": [
    "#### unique显示所有的唯一值"
   ]
  },
  {
   "cell_type": "code",
   "execution_count": 297,
   "metadata": {
    "pycharm": {
     "name": "#%%\n"
    }
   },
   "outputs": [
    {
     "data": {
      "text/plain": "7"
     },
     "execution_count": 297,
     "metadata": {},
     "output_type": "execute_result"
    }
   ],
   "source": [
    "# number of unique   ->   n-unique   ->   nunique\n",
    "df['物理成绩'].nunique()"
   ]
  },
  {
   "cell_type": "markdown",
   "metadata": {
    "pycharm": {
     "name": "#%% md\n"
    }
   },
   "source": [
    "### 3. count和value_counts"
   ]
  },
  {
   "cell_type": "markdown",
   "metadata": {
    "pycharm": {
     "name": "#%% md\n"
    }
   },
   "source": [
    "#### count返回非缺失值元素个数"
   ]
  },
  {
   "cell_type": "code",
   "execution_count": 298,
   "metadata": {
    "pycharm": {
     "name": "#%%\n"
    }
   },
   "outputs": [
    {
     "data": {
      "text/plain": "35"
     },
     "execution_count": 298,
     "metadata": {},
     "output_type": "execute_result"
    }
   ],
   "source": [
    "df['物理成绩'].count()"
   ]
  },
  {
   "cell_type": "code",
   "execution_count": 299,
   "metadata": {
    "pycharm": {
     "name": "#%%\n"
    }
   },
   "outputs": [
    {
     "data": {
      "text/plain": "1    NaN\n2    3.0\n3    5.0\n4    7.0\n5    NaN\ndtype: float64"
     },
     "execution_count": 299,
     "metadata": {},
     "output_type": "execute_result"
    }
   ],
   "source": [
    "# 问：count和size的区别？\n",
    "# 答：count()计算的是value数值（非缺失值），size计算的是个数\n",
    "import pandas as pd\n",
    "s1 = pd.Series([1,2,3,4], index=[1,2,3,4])\n",
    "s2 = pd.Series([1,2,3,4], index=[2,3,4,5])\n",
    "s3 = s1 + s2\n",
    "s3\n",
    "# 对比以下结果\n"
   ]
  },
  {
   "cell_type": "markdown",
   "metadata": {
    "pycharm": {
     "name": "#%% md\n"
    }
   },
   "source": [
    "#### value_counts返回每个元素有多少个"
   ]
  },
  {
   "cell_type": "code",
   "execution_count": 300,
   "metadata": {
    "pycharm": {
     "name": "#%%\n"
    }
   },
   "outputs": [
    {
     "data": {
      "text/plain": "B+    9\nB     8\nB-    6\nA     4\nA+    3\nA-    3\nC     2\nName: 物理成绩, dtype: int64"
     },
     "execution_count": 300,
     "metadata": {},
     "output_type": "execute_result"
    }
   ],
   "source": [
    "df['物理成绩'].value_counts()"
   ]
  },
  {
   "cell_type": "markdown",
   "metadata": {
    "pycharm": {
     "name": "#%% md\n"
    }
   },
   "source": [
    "### 4. info和describe"
   ]
  },
  {
   "cell_type": "markdown",
   "metadata": {
    "pycharm": {
     "name": "#%% md\n"
    }
   },
   "source": [
    "#### info函数返回有哪些列、每列的类型、有多少非缺失值"
   ]
  },
  {
   "cell_type": "code",
   "execution_count": 301,
   "metadata": {
    "pycharm": {
     "name": "#%%\n"
    }
   },
   "outputs": [
    {
     "name": "stdout",
     "output_type": "stream",
     "text": [
      "<class 'pandas.core.frame.DataFrame'>\n",
      "RangeIndex: 35 entries, 0 to 34\n",
      "Data columns (total 9 columns):\n",
      " #   Column  Non-Null Count  Dtype  \n",
      "---  ------  --------------  -----  \n",
      " 0   学校      35 non-null     object \n",
      " 1   班级      35 non-null     object \n",
      " 2   编号      35 non-null     int64  \n",
      " 3   性别      35 non-null     object \n",
      " 4   地址      33 non-null     object \n",
      " 5   身高      35 non-null     int64  \n",
      " 6   体重      35 non-null     int64  \n",
      " 7   数学成绩    35 non-null     float64\n",
      " 8   物理成绩    35 non-null     object \n",
      "dtypes: float64(1), int64(3), object(5)\n",
      "memory usage: 2.6+ KB\n"
     ]
    }
   ],
   "source": [
    "df.info()  # infomation"
   ]
  },
  {
   "cell_type": "markdown",
   "metadata": {
    "pycharm": {
     "name": "#%% md\n"
    }
   },
   "source": [
    "#### describe默认统计数值型数据的各个统计量"
   ]
  },
  {
   "cell_type": "code",
   "execution_count": 302,
   "metadata": {
    "pycharm": {
     "name": "#%%\n"
    }
   },
   "outputs": [
    {
     "data": {
      "text/plain": "               编号          身高          体重       数学成绩\ncount    35.00000   35.000000   35.000000  35.000000\nmean   1803.00000  174.142857   74.657143  59.468571\nstd     536.87741   13.541098   12.895377  27.797913\nmin    1101.00000  155.000000   53.000000 -47.600000\n25%    1204.50000  161.000000   63.000000  46.250000\n50%    2103.00000  173.000000   74.000000  61.700000\n75%    2301.50000  187.500000   82.000000  81.850000\nmax    2405.00000  195.000000  100.000000  97.000000",
      "text/html": "<div>\n<style scoped>\n    .dataframe tbody tr th:only-of-type {\n        vertical-align: middle;\n    }\n\n    .dataframe tbody tr th {\n        vertical-align: top;\n    }\n\n    .dataframe thead th {\n        text-align: right;\n    }\n</style>\n<table border=\"1\" class=\"dataframe\">\n  <thead>\n    <tr style=\"text-align: right;\">\n      <th></th>\n      <th>编号</th>\n      <th>身高</th>\n      <th>体重</th>\n      <th>数学成绩</th>\n    </tr>\n  </thead>\n  <tbody>\n    <tr>\n      <th>count</th>\n      <td>35.00000</td>\n      <td>35.000000</td>\n      <td>35.000000</td>\n      <td>35.000000</td>\n    </tr>\n    <tr>\n      <th>mean</th>\n      <td>1803.00000</td>\n      <td>174.142857</td>\n      <td>74.657143</td>\n      <td>59.468571</td>\n    </tr>\n    <tr>\n      <th>std</th>\n      <td>536.87741</td>\n      <td>13.541098</td>\n      <td>12.895377</td>\n      <td>27.797913</td>\n    </tr>\n    <tr>\n      <th>min</th>\n      <td>1101.00000</td>\n      <td>155.000000</td>\n      <td>53.000000</td>\n      <td>-47.600000</td>\n    </tr>\n    <tr>\n      <th>25%</th>\n      <td>1204.50000</td>\n      <td>161.000000</td>\n      <td>63.000000</td>\n      <td>46.250000</td>\n    </tr>\n    <tr>\n      <th>50%</th>\n      <td>2103.00000</td>\n      <td>173.000000</td>\n      <td>74.000000</td>\n      <td>61.700000</td>\n    </tr>\n    <tr>\n      <th>75%</th>\n      <td>2301.50000</td>\n      <td>187.500000</td>\n      <td>82.000000</td>\n      <td>81.850000</td>\n    </tr>\n    <tr>\n      <th>max</th>\n      <td>2405.00000</td>\n      <td>195.000000</td>\n      <td>100.000000</td>\n      <td>97.000000</td>\n    </tr>\n  </tbody>\n</table>\n</div>"
     },
     "execution_count": 302,
     "metadata": {},
     "output_type": "execute_result"
    }
   ],
   "source": [
    "df.describe()"
   ]
  },
  {
   "cell_type": "code",
   "execution_count": 303,
   "metadata": {
    "pycharm": {
     "name": "#%%\n"
    }
   },
   "outputs": [
    {
     "data": {
      "text/plain": "              0\ncount  5.000000\nmean   2.000000\nstd    1.581139\nmin    0.000000\n25%    1.000000\n50%    2.000000\n75%    3.000000\nmax    4.000000",
      "text/html": "<div>\n<style scoped>\n    .dataframe tbody tr th:only-of-type {\n        vertical-align: middle;\n    }\n\n    .dataframe tbody tr th {\n        vertical-align: top;\n    }\n\n    .dataframe thead th {\n        text-align: right;\n    }\n</style>\n<table border=\"1\" class=\"dataframe\">\n  <thead>\n    <tr style=\"text-align: right;\">\n      <th></th>\n      <th>0</th>\n    </tr>\n  </thead>\n  <tbody>\n    <tr>\n      <th>count</th>\n      <td>5.000000</td>\n    </tr>\n    <tr>\n      <th>mean</th>\n      <td>2.000000</td>\n    </tr>\n    <tr>\n      <th>std</th>\n      <td>1.581139</td>\n    </tr>\n    <tr>\n      <th>min</th>\n      <td>0.000000</td>\n    </tr>\n    <tr>\n      <th>25%</th>\n      <td>1.000000</td>\n    </tr>\n    <tr>\n      <th>50%</th>\n      <td>2.000000</td>\n    </tr>\n    <tr>\n      <th>75%</th>\n      <td>3.000000</td>\n    </tr>\n    <tr>\n      <th>max</th>\n      <td>4.000000</td>\n    </tr>\n  </tbody>\n</table>\n</div>"
     },
     "execution_count": 303,
     "metadata": {},
     "output_type": "execute_result"
    }
   ],
   "source": [
    "s = pd.Series([0,1,2,3,4])\n",
    "s.to_frame().describe()"
   ]
  },
  {
   "cell_type": "markdown",
   "metadata": {
    "pycharm": {
     "name": "#%% md\n"
    }
   },
   "source": [
    "#### 可以自行选择分位数"
   ]
  },
  {
   "cell_type": "code",
   "execution_count": 304,
   "metadata": {
    "pycharm": {
     "name": "#%%\n"
    }
   },
   "outputs": [
    {
     "data": {
      "text/plain": "               编号          身高          体重       数学成绩\ncount    35.00000   35.000000   35.000000  35.000000\nmean   1803.00000  174.142857   74.657143  59.468571\nstd     536.87741   13.541098   12.895377  27.797913\nmin    1101.00000  155.000000   53.000000 -47.600000\n5%     1102.70000  157.000000   56.100000  32.200000\n25%    1204.50000  161.000000   63.000000  46.250000\n50%    2103.00000  173.000000   74.000000  61.700000\n75%    2301.50000  187.500000   82.000000  81.850000\n95%    2403.30000  193.300000   97.600000  95.950000\nmax    2405.00000  195.000000  100.000000  97.000000",
      "text/html": "<div>\n<style scoped>\n    .dataframe tbody tr th:only-of-type {\n        vertical-align: middle;\n    }\n\n    .dataframe tbody tr th {\n        vertical-align: top;\n    }\n\n    .dataframe thead th {\n        text-align: right;\n    }\n</style>\n<table border=\"1\" class=\"dataframe\">\n  <thead>\n    <tr style=\"text-align: right;\">\n      <th></th>\n      <th>编号</th>\n      <th>身高</th>\n      <th>体重</th>\n      <th>数学成绩</th>\n    </tr>\n  </thead>\n  <tbody>\n    <tr>\n      <th>count</th>\n      <td>35.00000</td>\n      <td>35.000000</td>\n      <td>35.000000</td>\n      <td>35.000000</td>\n    </tr>\n    <tr>\n      <th>mean</th>\n      <td>1803.00000</td>\n      <td>174.142857</td>\n      <td>74.657143</td>\n      <td>59.468571</td>\n    </tr>\n    <tr>\n      <th>std</th>\n      <td>536.87741</td>\n      <td>13.541098</td>\n      <td>12.895377</td>\n      <td>27.797913</td>\n    </tr>\n    <tr>\n      <th>min</th>\n      <td>1101.00000</td>\n      <td>155.000000</td>\n      <td>53.000000</td>\n      <td>-47.600000</td>\n    </tr>\n    <tr>\n      <th>5%</th>\n      <td>1102.70000</td>\n      <td>157.000000</td>\n      <td>56.100000</td>\n      <td>32.200000</td>\n    </tr>\n    <tr>\n      <th>25%</th>\n      <td>1204.50000</td>\n      <td>161.000000</td>\n      <td>63.000000</td>\n      <td>46.250000</td>\n    </tr>\n    <tr>\n      <th>50%</th>\n      <td>2103.00000</td>\n      <td>173.000000</td>\n      <td>74.000000</td>\n      <td>61.700000</td>\n    </tr>\n    <tr>\n      <th>75%</th>\n      <td>2301.50000</td>\n      <td>187.500000</td>\n      <td>82.000000</td>\n      <td>81.850000</td>\n    </tr>\n    <tr>\n      <th>95%</th>\n      <td>2403.30000</td>\n      <td>193.300000</td>\n      <td>97.600000</td>\n      <td>95.950000</td>\n    </tr>\n    <tr>\n      <th>max</th>\n      <td>2405.00000</td>\n      <td>195.000000</td>\n      <td>100.000000</td>\n      <td>97.000000</td>\n    </tr>\n  </tbody>\n</table>\n</div>"
     },
     "execution_count": 304,
     "metadata": {},
     "output_type": "execute_result"
    }
   ],
   "source": [
    "# 查看个数、平均值、样本标准差、最小值、\n",
    "df.describe(percentiles=[.05, .25, .75, .95])"
   ]
  },
  {
   "cell_type": "markdown",
   "metadata": {
    "pycharm": {
     "name": "#%% md\n"
    }
   },
   "source": [
    "#### 对于非数值型也可以用describe函数"
   ]
  },
  {
   "cell_type": "code",
   "execution_count": 305,
   "metadata": {
    "pycharm": {
     "name": "#%%\n"
    }
   },
   "outputs": [
    {
     "data": {
      "text/plain": "     学校   班级    编号        性别        地址   身高   体重  数学成绩 物理成绩\n0   S_1  C_1  1101  street_1  street_1  173   63  34.0   A+\n1   S_1  C_1  1102         F  street_2  192   73  32.5   B+\n2   S_1  C_1  1103         M  street_2  186   82  87.2   B-\n3   S_1  C_1  1104         F  street_2  167   81  80.4   B+\n4   S_1  C_1  1105         F  street_4  159   64  84.8   B+\n5   S_1  C_2  1201         M  street_5  188   68  97.0   A-\n6   S_1  C_2  1202         F  street_4  176   94  63.5   B-\n7   S_1  C_2  1203         M  street_6  160   53  58.8   A+\n8   S_1  C_2  1204         F  street_5  162   63  33.8    B\n9   S_1  C_2  1205         F  street_6  167   63  68.4   B-\n10  S_1  C_3  1301         M  street_4  161   68  31.5   B+\n11  S_1  C_3  1302         F  street_1  175   57  87.7   A-\n12  S_1  C_3  1303         M  street_7  188   82  49.7    B\n13  S_1  C_3  1304         M  street_2  195   70  85.2    A\n14  S_1  C_3  1305         F  street_5  187   69  61.7   B-\n15  S_2  C_1  2101         M  street_7  174   84  83.3    C\n16  S_2  C_1  2102         F  street_6  161   61  50.6   B+\n17  S_2  C_1  2103         M  street_4  157   61  52.5   B-\n18  S_2  C_1  2104         F  street_5  159   97  72.2   B+\n19  S_2  C_1  2105         M  street_4  170   81  34.2    A\n20  S_2  C_2  2201         M  street_5  193  100  39.1    B\n21  S_2  C_2  2202         F  street_7  194   77  68.5   B+\n22  S_2  C_2  2203         M  street_4  155   91  73.8   A+\n23  S_2  C_2  2204         M  street_1  175   74  47.2   B-\n24  S_2  C_2  2205         F  street_7  183   76  85.4    B\n25  S_2  C_3  2301         F  street_4  157   78  72.3   B+\n26  S_2  C_3  2302         M  street_5  171   88  32.7    A\n27  S_2  C_3  2303         F  street_7  190   99  65.9    C\n28  S_2  C_3  2304         F  street_6  164   81  95.5   A-\n29  S_2  C_3  2305         M  street_4  187   73  48.9    B\n30  S_2  C_4  2401         F       NaN  192   62  45.3    A\n31  S_2  C_4  2402         M  street_7  166   82  48.7    B\n32  S_2  C_4  2403         F  street_6  158   60  59.7   B+\n33  S_2  C_4  2404         F  street_2  160   84  97.0    B\n34  S_2  C_4  2405         F       NaN  193   54 -47.6    B",
      "text/html": "<div>\n<style scoped>\n    .dataframe tbody tr th:only-of-type {\n        vertical-align: middle;\n    }\n\n    .dataframe tbody tr th {\n        vertical-align: top;\n    }\n\n    .dataframe thead th {\n        text-align: right;\n    }\n</style>\n<table border=\"1\" class=\"dataframe\">\n  <thead>\n    <tr style=\"text-align: right;\">\n      <th></th>\n      <th>学校</th>\n      <th>班级</th>\n      <th>编号</th>\n      <th>性别</th>\n      <th>地址</th>\n      <th>身高</th>\n      <th>体重</th>\n      <th>数学成绩</th>\n      <th>物理成绩</th>\n    </tr>\n  </thead>\n  <tbody>\n    <tr>\n      <th>0</th>\n      <td>S_1</td>\n      <td>C_1</td>\n      <td>1101</td>\n      <td>street_1</td>\n      <td>street_1</td>\n      <td>173</td>\n      <td>63</td>\n      <td>34.0</td>\n      <td>A+</td>\n    </tr>\n    <tr>\n      <th>1</th>\n      <td>S_1</td>\n      <td>C_1</td>\n      <td>1102</td>\n      <td>F</td>\n      <td>street_2</td>\n      <td>192</td>\n      <td>73</td>\n      <td>32.5</td>\n      <td>B+</td>\n    </tr>\n    <tr>\n      <th>2</th>\n      <td>S_1</td>\n      <td>C_1</td>\n      <td>1103</td>\n      <td>M</td>\n      <td>street_2</td>\n      <td>186</td>\n      <td>82</td>\n      <td>87.2</td>\n      <td>B-</td>\n    </tr>\n    <tr>\n      <th>3</th>\n      <td>S_1</td>\n      <td>C_1</td>\n      <td>1104</td>\n      <td>F</td>\n      <td>street_2</td>\n      <td>167</td>\n      <td>81</td>\n      <td>80.4</td>\n      <td>B+</td>\n    </tr>\n    <tr>\n      <th>4</th>\n      <td>S_1</td>\n      <td>C_1</td>\n      <td>1105</td>\n      <td>F</td>\n      <td>street_4</td>\n      <td>159</td>\n      <td>64</td>\n      <td>84.8</td>\n      <td>B+</td>\n    </tr>\n    <tr>\n      <th>5</th>\n      <td>S_1</td>\n      <td>C_2</td>\n      <td>1201</td>\n      <td>M</td>\n      <td>street_5</td>\n      <td>188</td>\n      <td>68</td>\n      <td>97.0</td>\n      <td>A-</td>\n    </tr>\n    <tr>\n      <th>6</th>\n      <td>S_1</td>\n      <td>C_2</td>\n      <td>1202</td>\n      <td>F</td>\n      <td>street_4</td>\n      <td>176</td>\n      <td>94</td>\n      <td>63.5</td>\n      <td>B-</td>\n    </tr>\n    <tr>\n      <th>7</th>\n      <td>S_1</td>\n      <td>C_2</td>\n      <td>1203</td>\n      <td>M</td>\n      <td>street_6</td>\n      <td>160</td>\n      <td>53</td>\n      <td>58.8</td>\n      <td>A+</td>\n    </tr>\n    <tr>\n      <th>8</th>\n      <td>S_1</td>\n      <td>C_2</td>\n      <td>1204</td>\n      <td>F</td>\n      <td>street_5</td>\n      <td>162</td>\n      <td>63</td>\n      <td>33.8</td>\n      <td>B</td>\n    </tr>\n    <tr>\n      <th>9</th>\n      <td>S_1</td>\n      <td>C_2</td>\n      <td>1205</td>\n      <td>F</td>\n      <td>street_6</td>\n      <td>167</td>\n      <td>63</td>\n      <td>68.4</td>\n      <td>B-</td>\n    </tr>\n    <tr>\n      <th>10</th>\n      <td>S_1</td>\n      <td>C_3</td>\n      <td>1301</td>\n      <td>M</td>\n      <td>street_4</td>\n      <td>161</td>\n      <td>68</td>\n      <td>31.5</td>\n      <td>B+</td>\n    </tr>\n    <tr>\n      <th>11</th>\n      <td>S_1</td>\n      <td>C_3</td>\n      <td>1302</td>\n      <td>F</td>\n      <td>street_1</td>\n      <td>175</td>\n      <td>57</td>\n      <td>87.7</td>\n      <td>A-</td>\n    </tr>\n    <tr>\n      <th>12</th>\n      <td>S_1</td>\n      <td>C_3</td>\n      <td>1303</td>\n      <td>M</td>\n      <td>street_7</td>\n      <td>188</td>\n      <td>82</td>\n      <td>49.7</td>\n      <td>B</td>\n    </tr>\n    <tr>\n      <th>13</th>\n      <td>S_1</td>\n      <td>C_3</td>\n      <td>1304</td>\n      <td>M</td>\n      <td>street_2</td>\n      <td>195</td>\n      <td>70</td>\n      <td>85.2</td>\n      <td>A</td>\n    </tr>\n    <tr>\n      <th>14</th>\n      <td>S_1</td>\n      <td>C_3</td>\n      <td>1305</td>\n      <td>F</td>\n      <td>street_5</td>\n      <td>187</td>\n      <td>69</td>\n      <td>61.7</td>\n      <td>B-</td>\n    </tr>\n    <tr>\n      <th>15</th>\n      <td>S_2</td>\n      <td>C_1</td>\n      <td>2101</td>\n      <td>M</td>\n      <td>street_7</td>\n      <td>174</td>\n      <td>84</td>\n      <td>83.3</td>\n      <td>C</td>\n    </tr>\n    <tr>\n      <th>16</th>\n      <td>S_2</td>\n      <td>C_1</td>\n      <td>2102</td>\n      <td>F</td>\n      <td>street_6</td>\n      <td>161</td>\n      <td>61</td>\n      <td>50.6</td>\n      <td>B+</td>\n    </tr>\n    <tr>\n      <th>17</th>\n      <td>S_2</td>\n      <td>C_1</td>\n      <td>2103</td>\n      <td>M</td>\n      <td>street_4</td>\n      <td>157</td>\n      <td>61</td>\n      <td>52.5</td>\n      <td>B-</td>\n    </tr>\n    <tr>\n      <th>18</th>\n      <td>S_2</td>\n      <td>C_1</td>\n      <td>2104</td>\n      <td>F</td>\n      <td>street_5</td>\n      <td>159</td>\n      <td>97</td>\n      <td>72.2</td>\n      <td>B+</td>\n    </tr>\n    <tr>\n      <th>19</th>\n      <td>S_2</td>\n      <td>C_1</td>\n      <td>2105</td>\n      <td>M</td>\n      <td>street_4</td>\n      <td>170</td>\n      <td>81</td>\n      <td>34.2</td>\n      <td>A</td>\n    </tr>\n    <tr>\n      <th>20</th>\n      <td>S_2</td>\n      <td>C_2</td>\n      <td>2201</td>\n      <td>M</td>\n      <td>street_5</td>\n      <td>193</td>\n      <td>100</td>\n      <td>39.1</td>\n      <td>B</td>\n    </tr>\n    <tr>\n      <th>21</th>\n      <td>S_2</td>\n      <td>C_2</td>\n      <td>2202</td>\n      <td>F</td>\n      <td>street_7</td>\n      <td>194</td>\n      <td>77</td>\n      <td>68.5</td>\n      <td>B+</td>\n    </tr>\n    <tr>\n      <th>22</th>\n      <td>S_2</td>\n      <td>C_2</td>\n      <td>2203</td>\n      <td>M</td>\n      <td>street_4</td>\n      <td>155</td>\n      <td>91</td>\n      <td>73.8</td>\n      <td>A+</td>\n    </tr>\n    <tr>\n      <th>23</th>\n      <td>S_2</td>\n      <td>C_2</td>\n      <td>2204</td>\n      <td>M</td>\n      <td>street_1</td>\n      <td>175</td>\n      <td>74</td>\n      <td>47.2</td>\n      <td>B-</td>\n    </tr>\n    <tr>\n      <th>24</th>\n      <td>S_2</td>\n      <td>C_2</td>\n      <td>2205</td>\n      <td>F</td>\n      <td>street_7</td>\n      <td>183</td>\n      <td>76</td>\n      <td>85.4</td>\n      <td>B</td>\n    </tr>\n    <tr>\n      <th>25</th>\n      <td>S_2</td>\n      <td>C_3</td>\n      <td>2301</td>\n      <td>F</td>\n      <td>street_4</td>\n      <td>157</td>\n      <td>78</td>\n      <td>72.3</td>\n      <td>B+</td>\n    </tr>\n    <tr>\n      <th>26</th>\n      <td>S_2</td>\n      <td>C_3</td>\n      <td>2302</td>\n      <td>M</td>\n      <td>street_5</td>\n      <td>171</td>\n      <td>88</td>\n      <td>32.7</td>\n      <td>A</td>\n    </tr>\n    <tr>\n      <th>27</th>\n      <td>S_2</td>\n      <td>C_3</td>\n      <td>2303</td>\n      <td>F</td>\n      <td>street_7</td>\n      <td>190</td>\n      <td>99</td>\n      <td>65.9</td>\n      <td>C</td>\n    </tr>\n    <tr>\n      <th>28</th>\n      <td>S_2</td>\n      <td>C_3</td>\n      <td>2304</td>\n      <td>F</td>\n      <td>street_6</td>\n      <td>164</td>\n      <td>81</td>\n      <td>95.5</td>\n      <td>A-</td>\n    </tr>\n    <tr>\n      <th>29</th>\n      <td>S_2</td>\n      <td>C_3</td>\n      <td>2305</td>\n      <td>M</td>\n      <td>street_4</td>\n      <td>187</td>\n      <td>73</td>\n      <td>48.9</td>\n      <td>B</td>\n    </tr>\n    <tr>\n      <th>30</th>\n      <td>S_2</td>\n      <td>C_4</td>\n      <td>2401</td>\n      <td>F</td>\n      <td>NaN</td>\n      <td>192</td>\n      <td>62</td>\n      <td>45.3</td>\n      <td>A</td>\n    </tr>\n    <tr>\n      <th>31</th>\n      <td>S_2</td>\n      <td>C_4</td>\n      <td>2402</td>\n      <td>M</td>\n      <td>street_7</td>\n      <td>166</td>\n      <td>82</td>\n      <td>48.7</td>\n      <td>B</td>\n    </tr>\n    <tr>\n      <th>32</th>\n      <td>S_2</td>\n      <td>C_4</td>\n      <td>2403</td>\n      <td>F</td>\n      <td>street_6</td>\n      <td>158</td>\n      <td>60</td>\n      <td>59.7</td>\n      <td>B+</td>\n    </tr>\n    <tr>\n      <th>33</th>\n      <td>S_2</td>\n      <td>C_4</td>\n      <td>2404</td>\n      <td>F</td>\n      <td>street_2</td>\n      <td>160</td>\n      <td>84</td>\n      <td>97.0</td>\n      <td>B</td>\n    </tr>\n    <tr>\n      <th>34</th>\n      <td>S_2</td>\n      <td>C_4</td>\n      <td>2405</td>\n      <td>F</td>\n      <td>NaN</td>\n      <td>193</td>\n      <td>54</td>\n      <td>-47.6</td>\n      <td>B</td>\n    </tr>\n  </tbody>\n</table>\n</div>"
     },
     "execution_count": 305,
     "metadata": {},
     "output_type": "execute_result"
    }
   ],
   "source": [
    "# 查看物理成绩的总个数（非空）、去重后的个数、什么等级的人最多、有多少个\n",
    "# freq - frequency\n",
    "df['物理成绩'].describe()\n",
    "df\n"
   ]
  },
  {
   "cell_type": "markdown",
   "metadata": {
    "pycharm": {
     "name": "#%% md\n"
    }
   },
   "source": [
    "### 5. idxmax和nlargest\n",
    "#### idxmax函数返回最大值所在索引，在某些情况下特别适用，idxmin功能类似"
   ]
  },
  {
   "cell_type": "code",
   "execution_count": 306,
   "metadata": {
    "pycharm": {
     "name": "#%%\n"
    }
   },
   "outputs": [
    {
     "data": {
      "text/plain": "5"
     },
     "execution_count": 306,
     "metadata": {},
     "output_type": "execute_result"
    }
   ],
   "source": [
    "# 数学成绩最高的人的id是多少？\n",
    "df['数学成绩'].idxmax()"
   ]
  },
  {
   "cell_type": "code",
   "execution_count": 307,
   "metadata": {
    "pycharm": {
     "name": "#%%\n"
    }
   },
   "outputs": [
    {
     "data": {
      "text/plain": "     学校   班级    编号        性别        地址   身高   体重  数学成绩 物理成绩\n0   S_1  C_1  1101  street_1  street_1  173   63  34.0   A+\n1   S_1  C_1  1102         F  street_2  192   73  32.5   B+\n2   S_1  C_1  1103         M  street_2  186   82  87.2   B-\n3   S_1  C_1  1104         F  street_2  167   81  80.4   B+\n4   S_1  C_1  1105         F  street_4  159   64  84.8   B+\n5   S_1  C_2  1201         M  street_5  188   68  97.0   A-\n6   S_1  C_2  1202         F  street_4  176   94  63.5   B-\n7   S_1  C_2  1203         M  street_6  160   53  58.8   A+\n8   S_1  C_2  1204         F  street_5  162   63  33.8    B\n9   S_1  C_2  1205         F  street_6  167   63  68.4   B-\n10  S_1  C_3  1301         M  street_4  161   68  31.5   B+\n11  S_1  C_3  1302         F  street_1  175   57  87.7   A-\n12  S_1  C_3  1303         M  street_7  188   82  49.7    B\n13  S_1  C_3  1304         M  street_2  195   70  85.2    A\n14  S_1  C_3  1305         F  street_5  187   69  61.7   B-\n15  S_2  C_1  2101         M  street_7  174   84  83.3    C\n16  S_2  C_1  2102         F  street_6  161   61  50.6   B+\n17  S_2  C_1  2103         M  street_4  157   61  52.5   B-\n18  S_2  C_1  2104         F  street_5  159   97  72.2   B+\n19  S_2  C_1  2105         M  street_4  170   81  34.2    A\n20  S_2  C_2  2201         M  street_5  193  100  39.1    B\n21  S_2  C_2  2202         F  street_7  194   77  68.5   B+\n22  S_2  C_2  2203         M  street_4  155   91  73.8   A+\n23  S_2  C_2  2204         M  street_1  175   74  47.2   B-\n24  S_2  C_2  2205         F  street_7  183   76  85.4    B\n25  S_2  C_3  2301         F  street_4  157   78  72.3   B+\n26  S_2  C_3  2302         M  street_5  171   88  32.7    A\n27  S_2  C_3  2303         F  street_7  190   99  65.9    C\n28  S_2  C_3  2304         F  street_6  164   81  95.5   A-\n29  S_2  C_3  2305         M  street_4  187   73  48.9    B\n30  S_2  C_4  2401         F       NaN  192   62  45.3    A\n31  S_2  C_4  2402         M  street_7  166   82  48.7    B\n32  S_2  C_4  2403         F  street_6  158   60  59.7   B+\n33  S_2  C_4  2404         F  street_2  160   84  97.0    B\n34  S_2  C_4  2405         F       NaN  193   54 -47.6    B",
      "text/html": "<div>\n<style scoped>\n    .dataframe tbody tr th:only-of-type {\n        vertical-align: middle;\n    }\n\n    .dataframe tbody tr th {\n        vertical-align: top;\n    }\n\n    .dataframe thead th {\n        text-align: right;\n    }\n</style>\n<table border=\"1\" class=\"dataframe\">\n  <thead>\n    <tr style=\"text-align: right;\">\n      <th></th>\n      <th>学校</th>\n      <th>班级</th>\n      <th>编号</th>\n      <th>性别</th>\n      <th>地址</th>\n      <th>身高</th>\n      <th>体重</th>\n      <th>数学成绩</th>\n      <th>物理成绩</th>\n    </tr>\n  </thead>\n  <tbody>\n    <tr>\n      <th>0</th>\n      <td>S_1</td>\n      <td>C_1</td>\n      <td>1101</td>\n      <td>street_1</td>\n      <td>street_1</td>\n      <td>173</td>\n      <td>63</td>\n      <td>34.0</td>\n      <td>A+</td>\n    </tr>\n    <tr>\n      <th>1</th>\n      <td>S_1</td>\n      <td>C_1</td>\n      <td>1102</td>\n      <td>F</td>\n      <td>street_2</td>\n      <td>192</td>\n      <td>73</td>\n      <td>32.5</td>\n      <td>B+</td>\n    </tr>\n    <tr>\n      <th>2</th>\n      <td>S_1</td>\n      <td>C_1</td>\n      <td>1103</td>\n      <td>M</td>\n      <td>street_2</td>\n      <td>186</td>\n      <td>82</td>\n      <td>87.2</td>\n      <td>B-</td>\n    </tr>\n    <tr>\n      <th>3</th>\n      <td>S_1</td>\n      <td>C_1</td>\n      <td>1104</td>\n      <td>F</td>\n      <td>street_2</td>\n      <td>167</td>\n      <td>81</td>\n      <td>80.4</td>\n      <td>B+</td>\n    </tr>\n    <tr>\n      <th>4</th>\n      <td>S_1</td>\n      <td>C_1</td>\n      <td>1105</td>\n      <td>F</td>\n      <td>street_4</td>\n      <td>159</td>\n      <td>64</td>\n      <td>84.8</td>\n      <td>B+</td>\n    </tr>\n    <tr>\n      <th>5</th>\n      <td>S_1</td>\n      <td>C_2</td>\n      <td>1201</td>\n      <td>M</td>\n      <td>street_5</td>\n      <td>188</td>\n      <td>68</td>\n      <td>97.0</td>\n      <td>A-</td>\n    </tr>\n    <tr>\n      <th>6</th>\n      <td>S_1</td>\n      <td>C_2</td>\n      <td>1202</td>\n      <td>F</td>\n      <td>street_4</td>\n      <td>176</td>\n      <td>94</td>\n      <td>63.5</td>\n      <td>B-</td>\n    </tr>\n    <tr>\n      <th>7</th>\n      <td>S_1</td>\n      <td>C_2</td>\n      <td>1203</td>\n      <td>M</td>\n      <td>street_6</td>\n      <td>160</td>\n      <td>53</td>\n      <td>58.8</td>\n      <td>A+</td>\n    </tr>\n    <tr>\n      <th>8</th>\n      <td>S_1</td>\n      <td>C_2</td>\n      <td>1204</td>\n      <td>F</td>\n      <td>street_5</td>\n      <td>162</td>\n      <td>63</td>\n      <td>33.8</td>\n      <td>B</td>\n    </tr>\n    <tr>\n      <th>9</th>\n      <td>S_1</td>\n      <td>C_2</td>\n      <td>1205</td>\n      <td>F</td>\n      <td>street_6</td>\n      <td>167</td>\n      <td>63</td>\n      <td>68.4</td>\n      <td>B-</td>\n    </tr>\n    <tr>\n      <th>10</th>\n      <td>S_1</td>\n      <td>C_3</td>\n      <td>1301</td>\n      <td>M</td>\n      <td>street_4</td>\n      <td>161</td>\n      <td>68</td>\n      <td>31.5</td>\n      <td>B+</td>\n    </tr>\n    <tr>\n      <th>11</th>\n      <td>S_1</td>\n      <td>C_3</td>\n      <td>1302</td>\n      <td>F</td>\n      <td>street_1</td>\n      <td>175</td>\n      <td>57</td>\n      <td>87.7</td>\n      <td>A-</td>\n    </tr>\n    <tr>\n      <th>12</th>\n      <td>S_1</td>\n      <td>C_3</td>\n      <td>1303</td>\n      <td>M</td>\n      <td>street_7</td>\n      <td>188</td>\n      <td>82</td>\n      <td>49.7</td>\n      <td>B</td>\n    </tr>\n    <tr>\n      <th>13</th>\n      <td>S_1</td>\n      <td>C_3</td>\n      <td>1304</td>\n      <td>M</td>\n      <td>street_2</td>\n      <td>195</td>\n      <td>70</td>\n      <td>85.2</td>\n      <td>A</td>\n    </tr>\n    <tr>\n      <th>14</th>\n      <td>S_1</td>\n      <td>C_3</td>\n      <td>1305</td>\n      <td>F</td>\n      <td>street_5</td>\n      <td>187</td>\n      <td>69</td>\n      <td>61.7</td>\n      <td>B-</td>\n    </tr>\n    <tr>\n      <th>15</th>\n      <td>S_2</td>\n      <td>C_1</td>\n      <td>2101</td>\n      <td>M</td>\n      <td>street_7</td>\n      <td>174</td>\n      <td>84</td>\n      <td>83.3</td>\n      <td>C</td>\n    </tr>\n    <tr>\n      <th>16</th>\n      <td>S_2</td>\n      <td>C_1</td>\n      <td>2102</td>\n      <td>F</td>\n      <td>street_6</td>\n      <td>161</td>\n      <td>61</td>\n      <td>50.6</td>\n      <td>B+</td>\n    </tr>\n    <tr>\n      <th>17</th>\n      <td>S_2</td>\n      <td>C_1</td>\n      <td>2103</td>\n      <td>M</td>\n      <td>street_4</td>\n      <td>157</td>\n      <td>61</td>\n      <td>52.5</td>\n      <td>B-</td>\n    </tr>\n    <tr>\n      <th>18</th>\n      <td>S_2</td>\n      <td>C_1</td>\n      <td>2104</td>\n      <td>F</td>\n      <td>street_5</td>\n      <td>159</td>\n      <td>97</td>\n      <td>72.2</td>\n      <td>B+</td>\n    </tr>\n    <tr>\n      <th>19</th>\n      <td>S_2</td>\n      <td>C_1</td>\n      <td>2105</td>\n      <td>M</td>\n      <td>street_4</td>\n      <td>170</td>\n      <td>81</td>\n      <td>34.2</td>\n      <td>A</td>\n    </tr>\n    <tr>\n      <th>20</th>\n      <td>S_2</td>\n      <td>C_2</td>\n      <td>2201</td>\n      <td>M</td>\n      <td>street_5</td>\n      <td>193</td>\n      <td>100</td>\n      <td>39.1</td>\n      <td>B</td>\n    </tr>\n    <tr>\n      <th>21</th>\n      <td>S_2</td>\n      <td>C_2</td>\n      <td>2202</td>\n      <td>F</td>\n      <td>street_7</td>\n      <td>194</td>\n      <td>77</td>\n      <td>68.5</td>\n      <td>B+</td>\n    </tr>\n    <tr>\n      <th>22</th>\n      <td>S_2</td>\n      <td>C_2</td>\n      <td>2203</td>\n      <td>M</td>\n      <td>street_4</td>\n      <td>155</td>\n      <td>91</td>\n      <td>73.8</td>\n      <td>A+</td>\n    </tr>\n    <tr>\n      <th>23</th>\n      <td>S_2</td>\n      <td>C_2</td>\n      <td>2204</td>\n      <td>M</td>\n      <td>street_1</td>\n      <td>175</td>\n      <td>74</td>\n      <td>47.2</td>\n      <td>B-</td>\n    </tr>\n    <tr>\n      <th>24</th>\n      <td>S_2</td>\n      <td>C_2</td>\n      <td>2205</td>\n      <td>F</td>\n      <td>street_7</td>\n      <td>183</td>\n      <td>76</td>\n      <td>85.4</td>\n      <td>B</td>\n    </tr>\n    <tr>\n      <th>25</th>\n      <td>S_2</td>\n      <td>C_3</td>\n      <td>2301</td>\n      <td>F</td>\n      <td>street_4</td>\n      <td>157</td>\n      <td>78</td>\n      <td>72.3</td>\n      <td>B+</td>\n    </tr>\n    <tr>\n      <th>26</th>\n      <td>S_2</td>\n      <td>C_3</td>\n      <td>2302</td>\n      <td>M</td>\n      <td>street_5</td>\n      <td>171</td>\n      <td>88</td>\n      <td>32.7</td>\n      <td>A</td>\n    </tr>\n    <tr>\n      <th>27</th>\n      <td>S_2</td>\n      <td>C_3</td>\n      <td>2303</td>\n      <td>F</td>\n      <td>street_7</td>\n      <td>190</td>\n      <td>99</td>\n      <td>65.9</td>\n      <td>C</td>\n    </tr>\n    <tr>\n      <th>28</th>\n      <td>S_2</td>\n      <td>C_3</td>\n      <td>2304</td>\n      <td>F</td>\n      <td>street_6</td>\n      <td>164</td>\n      <td>81</td>\n      <td>95.5</td>\n      <td>A-</td>\n    </tr>\n    <tr>\n      <th>29</th>\n      <td>S_2</td>\n      <td>C_3</td>\n      <td>2305</td>\n      <td>M</td>\n      <td>street_4</td>\n      <td>187</td>\n      <td>73</td>\n      <td>48.9</td>\n      <td>B</td>\n    </tr>\n    <tr>\n      <th>30</th>\n      <td>S_2</td>\n      <td>C_4</td>\n      <td>2401</td>\n      <td>F</td>\n      <td>NaN</td>\n      <td>192</td>\n      <td>62</td>\n      <td>45.3</td>\n      <td>A</td>\n    </tr>\n    <tr>\n      <th>31</th>\n      <td>S_2</td>\n      <td>C_4</td>\n      <td>2402</td>\n      <td>M</td>\n      <td>street_7</td>\n      <td>166</td>\n      <td>82</td>\n      <td>48.7</td>\n      <td>B</td>\n    </tr>\n    <tr>\n      <th>32</th>\n      <td>S_2</td>\n      <td>C_4</td>\n      <td>2403</td>\n      <td>F</td>\n      <td>street_6</td>\n      <td>158</td>\n      <td>60</td>\n      <td>59.7</td>\n      <td>B+</td>\n    </tr>\n    <tr>\n      <th>33</th>\n      <td>S_2</td>\n      <td>C_4</td>\n      <td>2404</td>\n      <td>F</td>\n      <td>street_2</td>\n      <td>160</td>\n      <td>84</td>\n      <td>97.0</td>\n      <td>B</td>\n    </tr>\n    <tr>\n      <th>34</th>\n      <td>S_2</td>\n      <td>C_4</td>\n      <td>2405</td>\n      <td>F</td>\n      <td>NaN</td>\n      <td>193</td>\n      <td>54</td>\n      <td>-47.6</td>\n      <td>B</td>\n    </tr>\n  </tbody>\n</table>\n</div>"
     },
     "execution_count": 307,
     "metadata": {},
     "output_type": "execute_result"
    }
   ],
   "source": [
    "df"
   ]
  },
  {
   "cell_type": "markdown",
   "metadata": {
    "pycharm": {
     "name": "#%% md\n"
    }
   },
   "source": [
    "#### nlargest函数返回前几个大的元素值，nsmallest功能类似"
   ]
  },
  {
   "cell_type": "code",
   "execution_count": 308,
   "metadata": {
    "pycharm": {
     "name": "#%%\n"
    }
   },
   "outputs": [
    {
     "data": {
      "text/plain": "5     97.0\n33    97.0\n28    95.5\nName: 数学成绩, dtype: float64"
     },
     "execution_count": 308,
     "metadata": {},
     "output_type": "execute_result"
    }
   ],
   "source": [
    "# 查看数学成绩最高的三个人\n",
    "df['数学成绩'].nlargest(3)  # 取前三个最大的值，以及它们的索引"
   ]
  },
  {
   "cell_type": "markdown",
   "metadata": {
    "pycharm": {
     "name": "#%% md\n"
    }
   },
   "source": [
    "### 6. clip和replace"
   ]
  },
  {
   "cell_type": "code",
   "execution_count": 308,
   "outputs": [],
   "source": [],
   "metadata": {
    "collapsed": false,
    "pycharm": {
     "name": "#%%\n"
    }
   }
  },
  {
   "cell_type": "markdown",
   "metadata": {
    "pycharm": {
     "name": "#%% md\n"
    }
   },
   "source": [
    "#### clip和replace是两类替换函数\n",
    "#### clip是对超过或者低于某些值的数进行截断"
   ]
  },
  {
   "cell_type": "code",
   "execution_count": 309,
   "metadata": {
    "pycharm": {
     "name": "#%%\n"
    }
   },
   "outputs": [
    {
     "data": {
      "text/plain": "0    34.0\n1    32.5\n2    87.2\n3    80.4\n4    84.8\n5    97.0\n6    63.5\n7    58.8\n8    33.8\n9    68.4\nName: 数学成绩, dtype: float64"
     },
     "execution_count": 309,
     "metadata": {},
     "output_type": "execute_result"
    }
   ],
   "source": [
    "df['数学成绩'].head(10)"
   ]
  },
  {
   "cell_type": "code",
   "execution_count": 310,
   "metadata": {
    "pycharm": {
     "name": "#%%\n"
    }
   },
   "outputs": [
    {
     "data": {
      "text/plain": "0    34.0\n1    33.0\n2    70.0\n3    70.0\n4    70.0\n5    70.0\n6    63.5\n7    58.8\n8    33.8\n9    68.4\nName: 数学成绩, dtype: float64"
     },
     "execution_count": 310,
     "metadata": {},
     "output_type": "execute_result"
    }
   ],
   "source": [
    "# 如果成绩小于33则设为33，大于70则设为70\n",
    "# clip：剪去;修剪\n",
    "df['数学成绩'].head(10).clip(33,70)"
   ]
  },
  {
   "cell_type": "markdown",
   "metadata": {
    "pycharm": {
     "name": "#%% md\n"
    }
   },
   "source": [
    "#### replace是对某些值进行替换"
   ]
  },
  {
   "cell_type": "code",
   "execution_count": 311,
   "metadata": {
    "pycharm": {
     "name": "#%%\n"
    }
   },
   "outputs": [
    {
     "data": {
      "text/plain": "0    street_1\n1    street_2\n2    street_2\n3    street_2\n4    street_4\nName: 地址, dtype: object"
     },
     "execution_count": 311,
     "metadata": {},
     "output_type": "execute_result"
    }
   ],
   "source": [
    "df['地址'].head()"
   ]
  },
  {
   "cell_type": "code",
   "execution_count": 312,
   "metadata": {
    "pycharm": {
     "name": "#%%\n"
    }
   },
   "outputs": [
    {
     "data": {
      "text/plain": "0     street_1\n1     street_2\n2     street_2\n3     street_2\n4     street_4\n5     street_5\n6     street_4\n7     street_6\n8     street_5\n9     street_6\n10    street_4\n11    street_1\n12    street_7\n13    street_2\n14    street_5\n15    street_7\n16    street_6\n17    street_4\n18    street_5\n19    street_4\n20    street_5\n21    street_7\n22    street_4\n23    street_1\n24    street_7\n25    street_4\n26    street_5\n27    street_7\n28    street_6\n29    street_4\n30         NaN\n31    street_7\n32    street_6\n33    street_2\n34         NaN\nName: 地址, dtype: object"
     },
     "execution_count": 312,
     "metadata": {},
     "output_type": "execute_result"
    }
   ],
   "source": [
    "df['地址']"
   ]
  },
  {
   "cell_type": "code",
   "execution_count": 313,
   "outputs": [
    {
     "data": {
      "text/plain": "    学校   班级    编号        性别        地址   身高  体重  数学成绩 物理成绩\n0  S_1  C_1  1101  street_1       one  173  63  34.0   A+\n1  S_1  C_1  1102         F       two  192  73  32.5   B+\n2  S_1  C_1  1103         M       two  186  82  87.2   B-\n3  S_1  C_1  1104         F       two  167  81  80.4   B+\n4  S_1  C_1  1105         F  street_4  159  64  84.8   B+",
      "text/html": "<div>\n<style scoped>\n    .dataframe tbody tr th:only-of-type {\n        vertical-align: middle;\n    }\n\n    .dataframe tbody tr th {\n        vertical-align: top;\n    }\n\n    .dataframe thead th {\n        text-align: right;\n    }\n</style>\n<table border=\"1\" class=\"dataframe\">\n  <thead>\n    <tr style=\"text-align: right;\">\n      <th></th>\n      <th>学校</th>\n      <th>班级</th>\n      <th>编号</th>\n      <th>性别</th>\n      <th>地址</th>\n      <th>身高</th>\n      <th>体重</th>\n      <th>数学成绩</th>\n      <th>物理成绩</th>\n    </tr>\n  </thead>\n  <tbody>\n    <tr>\n      <th>0</th>\n      <td>S_1</td>\n      <td>C_1</td>\n      <td>1101</td>\n      <td>street_1</td>\n      <td>one</td>\n      <td>173</td>\n      <td>63</td>\n      <td>34.0</td>\n      <td>A+</td>\n    </tr>\n    <tr>\n      <th>1</th>\n      <td>S_1</td>\n      <td>C_1</td>\n      <td>1102</td>\n      <td>F</td>\n      <td>two</td>\n      <td>192</td>\n      <td>73</td>\n      <td>32.5</td>\n      <td>B+</td>\n    </tr>\n    <tr>\n      <th>2</th>\n      <td>S_1</td>\n      <td>C_1</td>\n      <td>1103</td>\n      <td>M</td>\n      <td>two</td>\n      <td>186</td>\n      <td>82</td>\n      <td>87.2</td>\n      <td>B-</td>\n    </tr>\n    <tr>\n      <th>3</th>\n      <td>S_1</td>\n      <td>C_1</td>\n      <td>1104</td>\n      <td>F</td>\n      <td>two</td>\n      <td>167</td>\n      <td>81</td>\n      <td>80.4</td>\n      <td>B+</td>\n    </tr>\n    <tr>\n      <th>4</th>\n      <td>S_1</td>\n      <td>C_1</td>\n      <td>1105</td>\n      <td>F</td>\n      <td>street_4</td>\n      <td>159</td>\n      <td>64</td>\n      <td>84.8</td>\n      <td>B+</td>\n    </tr>\n  </tbody>\n</table>\n</div>"
     },
     "execution_count": 313,
     "metadata": {},
     "output_type": "execute_result"
    }
   ],
   "source": [
    "df = pd.read_csv('Data/table.csv')\n",
    "# 单独更换\n",
    "# df['地址'].replace('street_1','one').head()\n",
    "# 多个一起更换\n",
    "# df['地址'].replace(['street_1','street_2'],['one','two']).head()\n",
    "# 也可以直接在表中更换，但此种方式（没有指定列）不如下面的使用字典方式更合适\n",
    "# df.replace(['street_1','street_2'],['one','two']).head()\n",
    "# 使用字典格式直接在表中更换\n",
    "df.replace({'地址':{'street_1':'one','street_2':'two'}}).head()"
   ],
   "metadata": {
    "collapsed": false,
    "pycharm": {
     "name": "#%%\n"
    }
   }
  },
  {
   "cell_type": "markdown",
   "metadata": {
    "pycharm": {
     "name": "#%% md\n"
    }
   },
   "source": [
    "### 7. apply函数\n",
    "#### apply是一个自由度很高的函数，后续还要提到\n",
    "#### 对于Series，它可以迭代每一列的值操作："
   ]
  },
  {
   "cell_type": "code",
   "execution_count": 314,
   "metadata": {
    "pycharm": {
     "name": "#%%\n"
    }
   },
   "outputs": [
    {
     "data": {
      "text/plain": "0    34.0!\n1    32.5!\n2    87.2!\n3    80.4!\n4    84.8!\nName: 数学成绩, dtype: object"
     },
     "execution_count": 314,
     "metadata": {},
     "output_type": "execute_result"
    }
   ],
   "source": [
    "# 将所有数学成绩变成字符串，在加上感叹号\n",
    "df['数学成绩'].apply(lambda x:str(x)+'!').head() # 可以使用lambda表达式，也可以使用函数"
   ]
  },
  {
   "cell_type": "markdown",
   "metadata": {
    "pycharm": {
     "name": "#%% md\n"
    }
   },
   "source": [
    "#### 对于DataFrame，它在默认axis=0下可以迭代每一个列操作："
   ]
  },
  {
   "cell_type": "code",
   "execution_count": 315,
   "metadata": {
    "pycharm": {
     "name": "#%%\n"
    }
   },
   "outputs": [
    {
     "data": {
      "text/plain": "     学校    班级     编号         性别         地址    身高   体重   数学成绩 物理成绩\n0  S_1!  C_1!  1101!  street_1!  street_1!  173!  63!  34.0!  A+!\n1  S_1!  C_1!  1102!         F!  street_2!  192!  73!  32.5!  B+!\n2  S_1!  C_1!  1103!         M!  street_2!  186!  82!  87.2!  B-!\n3  S_1!  C_1!  1104!         F!  street_2!  167!  81!  80.4!  B+!\n4  S_1!  C_1!  1105!         F!  street_4!  159!  64!  84.8!  B+!",
      "text/html": "<div>\n<style scoped>\n    .dataframe tbody tr th:only-of-type {\n        vertical-align: middle;\n    }\n\n    .dataframe tbody tr th {\n        vertical-align: top;\n    }\n\n    .dataframe thead th {\n        text-align: right;\n    }\n</style>\n<table border=\"1\" class=\"dataframe\">\n  <thead>\n    <tr style=\"text-align: right;\">\n      <th></th>\n      <th>学校</th>\n      <th>班级</th>\n      <th>编号</th>\n      <th>性别</th>\n      <th>地址</th>\n      <th>身高</th>\n      <th>体重</th>\n      <th>数学成绩</th>\n      <th>物理成绩</th>\n    </tr>\n  </thead>\n  <tbody>\n    <tr>\n      <th>0</th>\n      <td>S_1!</td>\n      <td>C_1!</td>\n      <td>1101!</td>\n      <td>street_1!</td>\n      <td>street_1!</td>\n      <td>173!</td>\n      <td>63!</td>\n      <td>34.0!</td>\n      <td>A+!</td>\n    </tr>\n    <tr>\n      <th>1</th>\n      <td>S_1!</td>\n      <td>C_1!</td>\n      <td>1102!</td>\n      <td>F!</td>\n      <td>street_2!</td>\n      <td>192!</td>\n      <td>73!</td>\n      <td>32.5!</td>\n      <td>B+!</td>\n    </tr>\n    <tr>\n      <th>2</th>\n      <td>S_1!</td>\n      <td>C_1!</td>\n      <td>1103!</td>\n      <td>M!</td>\n      <td>street_2!</td>\n      <td>186!</td>\n      <td>82!</td>\n      <td>87.2!</td>\n      <td>B-!</td>\n    </tr>\n    <tr>\n      <th>3</th>\n      <td>S_1!</td>\n      <td>C_1!</td>\n      <td>1104!</td>\n      <td>F!</td>\n      <td>street_2!</td>\n      <td>167!</td>\n      <td>81!</td>\n      <td>80.4!</td>\n      <td>B+!</td>\n    </tr>\n    <tr>\n      <th>4</th>\n      <td>S_1!</td>\n      <td>C_1!</td>\n      <td>1105!</td>\n      <td>F!</td>\n      <td>street_4!</td>\n      <td>159!</td>\n      <td>64!</td>\n      <td>84.8!</td>\n      <td>B+!</td>\n    </tr>\n  </tbody>\n</table>\n</div>"
     },
     "execution_count": 315,
     "metadata": {},
     "output_type": "execute_result"
    }
   ],
   "source": [
    "df.apply(lambda x:x.apply(lambda y:str(y)+'!')).head()"
   ]
  },
  {
   "cell_type": "markdown",
   "metadata": {
    "pycharm": {
     "name": "#%% md\n"
    }
   },
   "source": [
    "## 四、排序"
   ]
  },
  {
   "cell_type": "markdown",
   "metadata": {
    "pycharm": {
     "name": "#%% md\n"
    }
   },
   "source": [
    "### 1. 索引排序"
   ]
  },
  {
   "cell_type": "code",
   "execution_count": 316,
   "metadata": {
    "pycharm": {
     "name": "#%%\n"
    }
   },
   "outputs": [
    {
     "data": {
      "text/plain": "        学校   班级    编号        性别        地址   身高   体重 物理成绩\n数学成绩                                                    \n 34.0  S_1  C_1  1101  street_1  street_1  173   63   A+\n 32.5  S_1  C_1  1102         F  street_2  192   73   B+\n 87.2  S_1  C_1  1103         M  street_2  186   82   B-\n 80.4  S_1  C_1  1104         F  street_2  167   81   B+\n 84.8  S_1  C_1  1105         F  street_4  159   64   B+\n 97.0  S_1  C_2  1201         M  street_5  188   68   A-\n 63.5  S_1  C_2  1202         F  street_4  176   94   B-\n 58.8  S_1  C_2  1203         M  street_6  160   53   A+\n 33.8  S_1  C_2  1204         F  street_5  162   63    B\n 68.4  S_1  C_2  1205         F  street_6  167   63   B-\n 31.5  S_1  C_3  1301         M  street_4  161   68   B+\n 87.7  S_1  C_3  1302         F  street_1  175   57   A-\n 49.7  S_1  C_3  1303         M  street_7  188   82    B\n 85.2  S_1  C_3  1304         M  street_2  195   70    A\n 61.7  S_1  C_3  1305         F  street_5  187   69   B-\n 83.3  S_2  C_1  2101         M  street_7  174   84    C\n 50.6  S_2  C_1  2102         F  street_6  161   61   B+\n 52.5  S_2  C_1  2103         M  street_4  157   61   B-\n 72.2  S_2  C_1  2104         F  street_5  159   97   B+\n 34.2  S_2  C_1  2105         M  street_4  170   81    A\n 39.1  S_2  C_2  2201         M  street_5  193  100    B\n 68.5  S_2  C_2  2202         F  street_7  194   77   B+\n 73.8  S_2  C_2  2203         M  street_4  155   91   A+\n 47.2  S_2  C_2  2204         M  street_1  175   74   B-\n 85.4  S_2  C_2  2205         F  street_7  183   76    B\n 72.3  S_2  C_3  2301         F  street_4  157   78   B+\n 32.7  S_2  C_3  2302         M  street_5  171   88    A\n 65.9  S_2  C_3  2303         F  street_7  190   99    C\n 95.5  S_2  C_3  2304         F  street_6  164   81   A-\n 48.9  S_2  C_3  2305         M  street_4  187   73    B\n 45.3  S_2  C_4  2401         F       NaN  192   62    A\n 48.7  S_2  C_4  2402         M  street_7  166   82    B\n 59.7  S_2  C_4  2403         F  street_6  158   60   B+\n 97.0  S_2  C_4  2404         F  street_2  160   84    B\n-47.6  S_2  C_4  2405         F       NaN  193   54    B",
      "text/html": "<div>\n<style scoped>\n    .dataframe tbody tr th:only-of-type {\n        vertical-align: middle;\n    }\n\n    .dataframe tbody tr th {\n        vertical-align: top;\n    }\n\n    .dataframe thead th {\n        text-align: right;\n    }\n</style>\n<table border=\"1\" class=\"dataframe\">\n  <thead>\n    <tr style=\"text-align: right;\">\n      <th></th>\n      <th>学校</th>\n      <th>班级</th>\n      <th>编号</th>\n      <th>性别</th>\n      <th>地址</th>\n      <th>身高</th>\n      <th>体重</th>\n      <th>物理成绩</th>\n    </tr>\n    <tr>\n      <th>数学成绩</th>\n      <th></th>\n      <th></th>\n      <th></th>\n      <th></th>\n      <th></th>\n      <th></th>\n      <th></th>\n      <th></th>\n    </tr>\n  </thead>\n  <tbody>\n    <tr>\n      <th>34.0</th>\n      <td>S_1</td>\n      <td>C_1</td>\n      <td>1101</td>\n      <td>street_1</td>\n      <td>street_1</td>\n      <td>173</td>\n      <td>63</td>\n      <td>A+</td>\n    </tr>\n    <tr>\n      <th>32.5</th>\n      <td>S_1</td>\n      <td>C_1</td>\n      <td>1102</td>\n      <td>F</td>\n      <td>street_2</td>\n      <td>192</td>\n      <td>73</td>\n      <td>B+</td>\n    </tr>\n    <tr>\n      <th>87.2</th>\n      <td>S_1</td>\n      <td>C_1</td>\n      <td>1103</td>\n      <td>M</td>\n      <td>street_2</td>\n      <td>186</td>\n      <td>82</td>\n      <td>B-</td>\n    </tr>\n    <tr>\n      <th>80.4</th>\n      <td>S_1</td>\n      <td>C_1</td>\n      <td>1104</td>\n      <td>F</td>\n      <td>street_2</td>\n      <td>167</td>\n      <td>81</td>\n      <td>B+</td>\n    </tr>\n    <tr>\n      <th>84.8</th>\n      <td>S_1</td>\n      <td>C_1</td>\n      <td>1105</td>\n      <td>F</td>\n      <td>street_4</td>\n      <td>159</td>\n      <td>64</td>\n      <td>B+</td>\n    </tr>\n    <tr>\n      <th>97.0</th>\n      <td>S_1</td>\n      <td>C_2</td>\n      <td>1201</td>\n      <td>M</td>\n      <td>street_5</td>\n      <td>188</td>\n      <td>68</td>\n      <td>A-</td>\n    </tr>\n    <tr>\n      <th>63.5</th>\n      <td>S_1</td>\n      <td>C_2</td>\n      <td>1202</td>\n      <td>F</td>\n      <td>street_4</td>\n      <td>176</td>\n      <td>94</td>\n      <td>B-</td>\n    </tr>\n    <tr>\n      <th>58.8</th>\n      <td>S_1</td>\n      <td>C_2</td>\n      <td>1203</td>\n      <td>M</td>\n      <td>street_6</td>\n      <td>160</td>\n      <td>53</td>\n      <td>A+</td>\n    </tr>\n    <tr>\n      <th>33.8</th>\n      <td>S_1</td>\n      <td>C_2</td>\n      <td>1204</td>\n      <td>F</td>\n      <td>street_5</td>\n      <td>162</td>\n      <td>63</td>\n      <td>B</td>\n    </tr>\n    <tr>\n      <th>68.4</th>\n      <td>S_1</td>\n      <td>C_2</td>\n      <td>1205</td>\n      <td>F</td>\n      <td>street_6</td>\n      <td>167</td>\n      <td>63</td>\n      <td>B-</td>\n    </tr>\n    <tr>\n      <th>31.5</th>\n      <td>S_1</td>\n      <td>C_3</td>\n      <td>1301</td>\n      <td>M</td>\n      <td>street_4</td>\n      <td>161</td>\n      <td>68</td>\n      <td>B+</td>\n    </tr>\n    <tr>\n      <th>87.7</th>\n      <td>S_1</td>\n      <td>C_3</td>\n      <td>1302</td>\n      <td>F</td>\n      <td>street_1</td>\n      <td>175</td>\n      <td>57</td>\n      <td>A-</td>\n    </tr>\n    <tr>\n      <th>49.7</th>\n      <td>S_1</td>\n      <td>C_3</td>\n      <td>1303</td>\n      <td>M</td>\n      <td>street_7</td>\n      <td>188</td>\n      <td>82</td>\n      <td>B</td>\n    </tr>\n    <tr>\n      <th>85.2</th>\n      <td>S_1</td>\n      <td>C_3</td>\n      <td>1304</td>\n      <td>M</td>\n      <td>street_2</td>\n      <td>195</td>\n      <td>70</td>\n      <td>A</td>\n    </tr>\n    <tr>\n      <th>61.7</th>\n      <td>S_1</td>\n      <td>C_3</td>\n      <td>1305</td>\n      <td>F</td>\n      <td>street_5</td>\n      <td>187</td>\n      <td>69</td>\n      <td>B-</td>\n    </tr>\n    <tr>\n      <th>83.3</th>\n      <td>S_2</td>\n      <td>C_1</td>\n      <td>2101</td>\n      <td>M</td>\n      <td>street_7</td>\n      <td>174</td>\n      <td>84</td>\n      <td>C</td>\n    </tr>\n    <tr>\n      <th>50.6</th>\n      <td>S_2</td>\n      <td>C_1</td>\n      <td>2102</td>\n      <td>F</td>\n      <td>street_6</td>\n      <td>161</td>\n      <td>61</td>\n      <td>B+</td>\n    </tr>\n    <tr>\n      <th>52.5</th>\n      <td>S_2</td>\n      <td>C_1</td>\n      <td>2103</td>\n      <td>M</td>\n      <td>street_4</td>\n      <td>157</td>\n      <td>61</td>\n      <td>B-</td>\n    </tr>\n    <tr>\n      <th>72.2</th>\n      <td>S_2</td>\n      <td>C_1</td>\n      <td>2104</td>\n      <td>F</td>\n      <td>street_5</td>\n      <td>159</td>\n      <td>97</td>\n      <td>B+</td>\n    </tr>\n    <tr>\n      <th>34.2</th>\n      <td>S_2</td>\n      <td>C_1</td>\n      <td>2105</td>\n      <td>M</td>\n      <td>street_4</td>\n      <td>170</td>\n      <td>81</td>\n      <td>A</td>\n    </tr>\n    <tr>\n      <th>39.1</th>\n      <td>S_2</td>\n      <td>C_2</td>\n      <td>2201</td>\n      <td>M</td>\n      <td>street_5</td>\n      <td>193</td>\n      <td>100</td>\n      <td>B</td>\n    </tr>\n    <tr>\n      <th>68.5</th>\n      <td>S_2</td>\n      <td>C_2</td>\n      <td>2202</td>\n      <td>F</td>\n      <td>street_7</td>\n      <td>194</td>\n      <td>77</td>\n      <td>B+</td>\n    </tr>\n    <tr>\n      <th>73.8</th>\n      <td>S_2</td>\n      <td>C_2</td>\n      <td>2203</td>\n      <td>M</td>\n      <td>street_4</td>\n      <td>155</td>\n      <td>91</td>\n      <td>A+</td>\n    </tr>\n    <tr>\n      <th>47.2</th>\n      <td>S_2</td>\n      <td>C_2</td>\n      <td>2204</td>\n      <td>M</td>\n      <td>street_1</td>\n      <td>175</td>\n      <td>74</td>\n      <td>B-</td>\n    </tr>\n    <tr>\n      <th>85.4</th>\n      <td>S_2</td>\n      <td>C_2</td>\n      <td>2205</td>\n      <td>F</td>\n      <td>street_7</td>\n      <td>183</td>\n      <td>76</td>\n      <td>B</td>\n    </tr>\n    <tr>\n      <th>72.3</th>\n      <td>S_2</td>\n      <td>C_3</td>\n      <td>2301</td>\n      <td>F</td>\n      <td>street_4</td>\n      <td>157</td>\n      <td>78</td>\n      <td>B+</td>\n    </tr>\n    <tr>\n      <th>32.7</th>\n      <td>S_2</td>\n      <td>C_3</td>\n      <td>2302</td>\n      <td>M</td>\n      <td>street_5</td>\n      <td>171</td>\n      <td>88</td>\n      <td>A</td>\n    </tr>\n    <tr>\n      <th>65.9</th>\n      <td>S_2</td>\n      <td>C_3</td>\n      <td>2303</td>\n      <td>F</td>\n      <td>street_7</td>\n      <td>190</td>\n      <td>99</td>\n      <td>C</td>\n    </tr>\n    <tr>\n      <th>95.5</th>\n      <td>S_2</td>\n      <td>C_3</td>\n      <td>2304</td>\n      <td>F</td>\n      <td>street_6</td>\n      <td>164</td>\n      <td>81</td>\n      <td>A-</td>\n    </tr>\n    <tr>\n      <th>48.9</th>\n      <td>S_2</td>\n      <td>C_3</td>\n      <td>2305</td>\n      <td>M</td>\n      <td>street_4</td>\n      <td>187</td>\n      <td>73</td>\n      <td>B</td>\n    </tr>\n    <tr>\n      <th>45.3</th>\n      <td>S_2</td>\n      <td>C_4</td>\n      <td>2401</td>\n      <td>F</td>\n      <td>NaN</td>\n      <td>192</td>\n      <td>62</td>\n      <td>A</td>\n    </tr>\n    <tr>\n      <th>48.7</th>\n      <td>S_2</td>\n      <td>C_4</td>\n      <td>2402</td>\n      <td>M</td>\n      <td>street_7</td>\n      <td>166</td>\n      <td>82</td>\n      <td>B</td>\n    </tr>\n    <tr>\n      <th>59.7</th>\n      <td>S_2</td>\n      <td>C_4</td>\n      <td>2403</td>\n      <td>F</td>\n      <td>street_6</td>\n      <td>158</td>\n      <td>60</td>\n      <td>B+</td>\n    </tr>\n    <tr>\n      <th>97.0</th>\n      <td>S_2</td>\n      <td>C_4</td>\n      <td>2404</td>\n      <td>F</td>\n      <td>street_2</td>\n      <td>160</td>\n      <td>84</td>\n      <td>B</td>\n    </tr>\n    <tr>\n      <th>-47.6</th>\n      <td>S_2</td>\n      <td>C_4</td>\n      <td>2405</td>\n      <td>F</td>\n      <td>NaN</td>\n      <td>193</td>\n      <td>54</td>\n      <td>B</td>\n    </tr>\n  </tbody>\n</table>\n</div>"
     },
     "execution_count": 316,
     "metadata": {},
     "output_type": "execute_result"
    }
   ],
   "source": [
    "# 将数学成绩这一列设置为索引\n",
    "df.set_index('数学成绩') #set_index函数可以设置索引，将在下一章详细介绍"
   ]
  },
  {
   "cell_type": "code",
   "execution_count": 317,
   "metadata": {
    "scrolled": true,
    "pycharm": {
     "name": "#%%\n"
    }
   },
   "outputs": [
    {
     "data": {
      "text/plain": "        学校   班级    编号        性别        地址   身高   体重 物理成绩\n数学成绩                                                    \n-47.6  S_2  C_4  2405         F       NaN  193   54    B\n 31.5  S_1  C_3  1301         M  street_4  161   68   B+\n 32.5  S_1  C_1  1102         F  street_2  192   73   B+\n 32.7  S_2  C_3  2302         M  street_5  171   88    A\n 33.8  S_1  C_2  1204         F  street_5  162   63    B\n 34.0  S_1  C_1  1101  street_1  street_1  173   63   A+\n 34.2  S_2  C_1  2105         M  street_4  170   81    A\n 39.1  S_2  C_2  2201         M  street_5  193  100    B\n 45.3  S_2  C_4  2401         F       NaN  192   62    A\n 47.2  S_2  C_2  2204         M  street_1  175   74   B-",
      "text/html": "<div>\n<style scoped>\n    .dataframe tbody tr th:only-of-type {\n        vertical-align: middle;\n    }\n\n    .dataframe tbody tr th {\n        vertical-align: top;\n    }\n\n    .dataframe thead th {\n        text-align: right;\n    }\n</style>\n<table border=\"1\" class=\"dataframe\">\n  <thead>\n    <tr style=\"text-align: right;\">\n      <th></th>\n      <th>学校</th>\n      <th>班级</th>\n      <th>编号</th>\n      <th>性别</th>\n      <th>地址</th>\n      <th>身高</th>\n      <th>体重</th>\n      <th>物理成绩</th>\n    </tr>\n    <tr>\n      <th>数学成绩</th>\n      <th></th>\n      <th></th>\n      <th></th>\n      <th></th>\n      <th></th>\n      <th></th>\n      <th></th>\n      <th></th>\n    </tr>\n  </thead>\n  <tbody>\n    <tr>\n      <th>-47.6</th>\n      <td>S_2</td>\n      <td>C_4</td>\n      <td>2405</td>\n      <td>F</td>\n      <td>NaN</td>\n      <td>193</td>\n      <td>54</td>\n      <td>B</td>\n    </tr>\n    <tr>\n      <th>31.5</th>\n      <td>S_1</td>\n      <td>C_3</td>\n      <td>1301</td>\n      <td>M</td>\n      <td>street_4</td>\n      <td>161</td>\n      <td>68</td>\n      <td>B+</td>\n    </tr>\n    <tr>\n      <th>32.5</th>\n      <td>S_1</td>\n      <td>C_1</td>\n      <td>1102</td>\n      <td>F</td>\n      <td>street_2</td>\n      <td>192</td>\n      <td>73</td>\n      <td>B+</td>\n    </tr>\n    <tr>\n      <th>32.7</th>\n      <td>S_2</td>\n      <td>C_3</td>\n      <td>2302</td>\n      <td>M</td>\n      <td>street_5</td>\n      <td>171</td>\n      <td>88</td>\n      <td>A</td>\n    </tr>\n    <tr>\n      <th>33.8</th>\n      <td>S_1</td>\n      <td>C_2</td>\n      <td>1204</td>\n      <td>F</td>\n      <td>street_5</td>\n      <td>162</td>\n      <td>63</td>\n      <td>B</td>\n    </tr>\n    <tr>\n      <th>34.0</th>\n      <td>S_1</td>\n      <td>C_1</td>\n      <td>1101</td>\n      <td>street_1</td>\n      <td>street_1</td>\n      <td>173</td>\n      <td>63</td>\n      <td>A+</td>\n    </tr>\n    <tr>\n      <th>34.2</th>\n      <td>S_2</td>\n      <td>C_1</td>\n      <td>2105</td>\n      <td>M</td>\n      <td>street_4</td>\n      <td>170</td>\n      <td>81</td>\n      <td>A</td>\n    </tr>\n    <tr>\n      <th>39.1</th>\n      <td>S_2</td>\n      <td>C_2</td>\n      <td>2201</td>\n      <td>M</td>\n      <td>street_5</td>\n      <td>193</td>\n      <td>100</td>\n      <td>B</td>\n    </tr>\n    <tr>\n      <th>45.3</th>\n      <td>S_2</td>\n      <td>C_4</td>\n      <td>2401</td>\n      <td>F</td>\n      <td>NaN</td>\n      <td>192</td>\n      <td>62</td>\n      <td>A</td>\n    </tr>\n    <tr>\n      <th>47.2</th>\n      <td>S_2</td>\n      <td>C_2</td>\n      <td>2204</td>\n      <td>M</td>\n      <td>street_1</td>\n      <td>175</td>\n      <td>74</td>\n      <td>B-</td>\n    </tr>\n  </tbody>\n</table>\n</div>"
     },
     "execution_count": 317,
     "metadata": {},
     "output_type": "execute_result"
    }
   ],
   "source": [
    "# 对数学成绩排序，默认升序排序，ascending=False为降序\n",
    "df.set_index('数学成绩').sort_index().head(10)"
   ]
  },
  {
   "cell_type": "code",
   "execution_count": 318,
   "metadata": {
    "pycharm": {
     "name": "#%%\n"
    }
   },
   "outputs": [
    {
     "data": {
      "text/plain": "       学校   班级    编号 性别        地址   身高  体重 物理成绩\n数学成绩                                           \n97.0  S_2  C_4  2404  F  street_2  160  84    B\n97.0  S_1  C_2  1201  M  street_5  188  68   A-\n95.5  S_2  C_3  2304  F  street_6  164  81   A-\n87.7  S_1  C_3  1302  F  street_1  175  57   A-\n87.2  S_1  C_1  1103  M  street_2  186  82   B-\n85.4  S_2  C_2  2205  F  street_7  183  76    B\n85.2  S_1  C_3  1304  M  street_2  195  70    A\n84.8  S_1  C_1  1105  F  street_4  159  64   B+\n83.3  S_2  C_1  2101  M  street_7  174  84    C\n80.4  S_1  C_1  1104  F  street_2  167  81   B+",
      "text/html": "<div>\n<style scoped>\n    .dataframe tbody tr th:only-of-type {\n        vertical-align: middle;\n    }\n\n    .dataframe tbody tr th {\n        vertical-align: top;\n    }\n\n    .dataframe thead th {\n        text-align: right;\n    }\n</style>\n<table border=\"1\" class=\"dataframe\">\n  <thead>\n    <tr style=\"text-align: right;\">\n      <th></th>\n      <th>学校</th>\n      <th>班级</th>\n      <th>编号</th>\n      <th>性别</th>\n      <th>地址</th>\n      <th>身高</th>\n      <th>体重</th>\n      <th>物理成绩</th>\n    </tr>\n    <tr>\n      <th>数学成绩</th>\n      <th></th>\n      <th></th>\n      <th></th>\n      <th></th>\n      <th></th>\n      <th></th>\n      <th></th>\n      <th></th>\n    </tr>\n  </thead>\n  <tbody>\n    <tr>\n      <th>97.0</th>\n      <td>S_2</td>\n      <td>C_4</td>\n      <td>2404</td>\n      <td>F</td>\n      <td>street_2</td>\n      <td>160</td>\n      <td>84</td>\n      <td>B</td>\n    </tr>\n    <tr>\n      <th>97.0</th>\n      <td>S_1</td>\n      <td>C_2</td>\n      <td>1201</td>\n      <td>M</td>\n      <td>street_5</td>\n      <td>188</td>\n      <td>68</td>\n      <td>A-</td>\n    </tr>\n    <tr>\n      <th>95.5</th>\n      <td>S_2</td>\n      <td>C_3</td>\n      <td>2304</td>\n      <td>F</td>\n      <td>street_6</td>\n      <td>164</td>\n      <td>81</td>\n      <td>A-</td>\n    </tr>\n    <tr>\n      <th>87.7</th>\n      <td>S_1</td>\n      <td>C_3</td>\n      <td>1302</td>\n      <td>F</td>\n      <td>street_1</td>\n      <td>175</td>\n      <td>57</td>\n      <td>A-</td>\n    </tr>\n    <tr>\n      <th>87.2</th>\n      <td>S_1</td>\n      <td>C_1</td>\n      <td>1103</td>\n      <td>M</td>\n      <td>street_2</td>\n      <td>186</td>\n      <td>82</td>\n      <td>B-</td>\n    </tr>\n    <tr>\n      <th>85.4</th>\n      <td>S_2</td>\n      <td>C_2</td>\n      <td>2205</td>\n      <td>F</td>\n      <td>street_7</td>\n      <td>183</td>\n      <td>76</td>\n      <td>B</td>\n    </tr>\n    <tr>\n      <th>85.2</th>\n      <td>S_1</td>\n      <td>C_3</td>\n      <td>1304</td>\n      <td>M</td>\n      <td>street_2</td>\n      <td>195</td>\n      <td>70</td>\n      <td>A</td>\n    </tr>\n    <tr>\n      <th>84.8</th>\n      <td>S_1</td>\n      <td>C_1</td>\n      <td>1105</td>\n      <td>F</td>\n      <td>street_4</td>\n      <td>159</td>\n      <td>64</td>\n      <td>B+</td>\n    </tr>\n    <tr>\n      <th>83.3</th>\n      <td>S_2</td>\n      <td>C_1</td>\n      <td>2101</td>\n      <td>M</td>\n      <td>street_7</td>\n      <td>174</td>\n      <td>84</td>\n      <td>C</td>\n    </tr>\n    <tr>\n      <th>80.4</th>\n      <td>S_1</td>\n      <td>C_1</td>\n      <td>1104</td>\n      <td>F</td>\n      <td>street_2</td>\n      <td>167</td>\n      <td>81</td>\n      <td>B+</td>\n    </tr>\n  </tbody>\n</table>\n</div>"
     },
     "execution_count": 318,
     "metadata": {},
     "output_type": "execute_result"
    }
   ],
   "source": [
    "# 降序排序"
   ]
  },
  {
   "cell_type": "code",
   "execution_count": null,
   "outputs": [],
   "source": [
    "# 正序排序\n",
    "df.set_index('数学成绩').sort_index(ascending=False).head(10)\n",
    "\n",
    "# 倒序排序\n",
    "df.set_index('数学成绩').sort_index(ascending=True).head(10)"
   ],
   "metadata": {
    "collapsed": false,
    "pycharm": {
     "name": "#%%\n"
    }
   }
  },
  {
   "cell_type": "markdown",
   "metadata": {
    "pycharm": {
     "name": "#%% md\n"
    }
   },
   "source": [
    "### 2. 值排序"
   ]
  },
  {
   "cell_type": "code",
   "execution_count": 319,
   "metadata": {
    "pycharm": {
     "name": "#%%\n"
    }
   },
   "outputs": [
    {
     "data": {
      "text/plain": "     学校   班级    编号        性别        地址   身高   体重  数学成绩 物理成绩\n34  S_2  C_4  2405         F       NaN  193   54 -47.6    B\n10  S_1  C_3  1301         M  street_4  161   68  31.5   B+\n1   S_1  C_1  1102         F  street_2  192   73  32.5   B+\n26  S_2  C_3  2302         M  street_5  171   88  32.7    A\n8   S_1  C_2  1204         F  street_5  162   63  33.8    B\n0   S_1  C_1  1101  street_1  street_1  173   63  34.0   A+\n19  S_2  C_1  2105         M  street_4  170   81  34.2    A\n20  S_2  C_2  2201         M  street_5  193  100  39.1    B\n30  S_2  C_4  2401         F       NaN  192   62  45.3    A\n23  S_2  C_2  2204         M  street_1  175   74  47.2   B-",
      "text/html": "<div>\n<style scoped>\n    .dataframe tbody tr th:only-of-type {\n        vertical-align: middle;\n    }\n\n    .dataframe tbody tr th {\n        vertical-align: top;\n    }\n\n    .dataframe thead th {\n        text-align: right;\n    }\n</style>\n<table border=\"1\" class=\"dataframe\">\n  <thead>\n    <tr style=\"text-align: right;\">\n      <th></th>\n      <th>学校</th>\n      <th>班级</th>\n      <th>编号</th>\n      <th>性别</th>\n      <th>地址</th>\n      <th>身高</th>\n      <th>体重</th>\n      <th>数学成绩</th>\n      <th>物理成绩</th>\n    </tr>\n  </thead>\n  <tbody>\n    <tr>\n      <th>34</th>\n      <td>S_2</td>\n      <td>C_4</td>\n      <td>2405</td>\n      <td>F</td>\n      <td>NaN</td>\n      <td>193</td>\n      <td>54</td>\n      <td>-47.6</td>\n      <td>B</td>\n    </tr>\n    <tr>\n      <th>10</th>\n      <td>S_1</td>\n      <td>C_3</td>\n      <td>1301</td>\n      <td>M</td>\n      <td>street_4</td>\n      <td>161</td>\n      <td>68</td>\n      <td>31.5</td>\n      <td>B+</td>\n    </tr>\n    <tr>\n      <th>1</th>\n      <td>S_1</td>\n      <td>C_1</td>\n      <td>1102</td>\n      <td>F</td>\n      <td>street_2</td>\n      <td>192</td>\n      <td>73</td>\n      <td>32.5</td>\n      <td>B+</td>\n    </tr>\n    <tr>\n      <th>26</th>\n      <td>S_2</td>\n      <td>C_3</td>\n      <td>2302</td>\n      <td>M</td>\n      <td>street_5</td>\n      <td>171</td>\n      <td>88</td>\n      <td>32.7</td>\n      <td>A</td>\n    </tr>\n    <tr>\n      <th>8</th>\n      <td>S_1</td>\n      <td>C_2</td>\n      <td>1204</td>\n      <td>F</td>\n      <td>street_5</td>\n      <td>162</td>\n      <td>63</td>\n      <td>33.8</td>\n      <td>B</td>\n    </tr>\n    <tr>\n      <th>0</th>\n      <td>S_1</td>\n      <td>C_1</td>\n      <td>1101</td>\n      <td>street_1</td>\n      <td>street_1</td>\n      <td>173</td>\n      <td>63</td>\n      <td>34.0</td>\n      <td>A+</td>\n    </tr>\n    <tr>\n      <th>19</th>\n      <td>S_2</td>\n      <td>C_1</td>\n      <td>2105</td>\n      <td>M</td>\n      <td>street_4</td>\n      <td>170</td>\n      <td>81</td>\n      <td>34.2</td>\n      <td>A</td>\n    </tr>\n    <tr>\n      <th>20</th>\n      <td>S_2</td>\n      <td>C_2</td>\n      <td>2201</td>\n      <td>M</td>\n      <td>street_5</td>\n      <td>193</td>\n      <td>100</td>\n      <td>39.1</td>\n      <td>B</td>\n    </tr>\n    <tr>\n      <th>30</th>\n      <td>S_2</td>\n      <td>C_4</td>\n      <td>2401</td>\n      <td>F</td>\n      <td>NaN</td>\n      <td>192</td>\n      <td>62</td>\n      <td>45.3</td>\n      <td>A</td>\n    </tr>\n    <tr>\n      <th>23</th>\n      <td>S_2</td>\n      <td>C_2</td>\n      <td>2204</td>\n      <td>M</td>\n      <td>street_1</td>\n      <td>175</td>\n      <td>74</td>\n      <td>47.2</td>\n      <td>B-</td>\n    </tr>\n  </tbody>\n</table>\n</div>"
     },
     "execution_count": 319,
     "metadata": {},
     "output_type": "execute_result"
    }
   ],
   "source": [
    "# 在不更改索引的情况下，按照数学成绩升序排序\n",
    "df.sort_values(by='数学成绩').head(10)"
   ]
  },
  {
   "cell_type": "code",
   "execution_count": 320,
   "metadata": {
    "pycharm": {
     "name": "#%%\n"
    }
   },
   "outputs": [
    {
     "data": {
      "text/plain": "     学校   班级    编号        性别        地址   身高   体重  数学成绩 物理成绩\n0   S_1  C_1  1101  street_1  street_1  173   63  34.0   A+\n1   S_1  C_1  1102         F  street_2  192   73  32.5   B+\n2   S_1  C_1  1103         M  street_2  186   82  87.2   B-\n3   S_1  C_1  1104         F  street_2  167   81  80.4   B+\n4   S_1  C_1  1105         F  street_4  159   64  84.8   B+\n5   S_1  C_2  1201         M  street_5  188   68  97.0   A-\n6   S_1  C_2  1202         F  street_4  176   94  63.5   B-\n7   S_1  C_2  1203         M  street_6  160   53  58.8   A+\n8   S_1  C_2  1204         F  street_5  162   63  33.8    B\n9   S_1  C_2  1205         F  street_6  167   63  68.4   B-\n10  S_1  C_3  1301         M  street_4  161   68  31.5   B+\n11  S_1  C_3  1302         F  street_1  175   57  87.7   A-\n12  S_1  C_3  1303         M  street_7  188   82  49.7    B\n13  S_1  C_3  1304         M  street_2  195   70  85.2    A\n14  S_1  C_3  1305         F  street_5  187   69  61.7   B-\n15  S_2  C_1  2101         M  street_7  174   84  83.3    C\n16  S_2  C_1  2102         F  street_6  161   61  50.6   B+\n17  S_2  C_1  2103         M  street_4  157   61  52.5   B-\n18  S_2  C_1  2104         F  street_5  159   97  72.2   B+\n19  S_2  C_1  2105         M  street_4  170   81  34.2    A\n20  S_2  C_2  2201         M  street_5  193  100  39.1    B\n21  S_2  C_2  2202         F  street_7  194   77  68.5   B+\n22  S_2  C_2  2203         M  street_4  155   91  73.8   A+\n23  S_2  C_2  2204         M  street_1  175   74  47.2   B-\n24  S_2  C_2  2205         F  street_7  183   76  85.4    B\n25  S_2  C_3  2301         F  street_4  157   78  72.3   B+\n26  S_2  C_3  2302         M  street_5  171   88  32.7    A\n27  S_2  C_3  2303         F  street_7  190   99  65.9    C\n28  S_2  C_3  2304         F  street_6  164   81  95.5   A-\n29  S_2  C_3  2305         M  street_4  187   73  48.9    B\n30  S_2  C_4  2401         F       NaN  192   62  45.3    A\n31  S_2  C_4  2402         M  street_7  166   82  48.7    B\n32  S_2  C_4  2403         F  street_6  158   60  59.7   B+\n33  S_2  C_4  2404         F  street_2  160   84  97.0    B\n34  S_2  C_4  2405         F       NaN  193   54 -47.6    B",
      "text/html": "<div>\n<style scoped>\n    .dataframe tbody tr th:only-of-type {\n        vertical-align: middle;\n    }\n\n    .dataframe tbody tr th {\n        vertical-align: top;\n    }\n\n    .dataframe thead th {\n        text-align: right;\n    }\n</style>\n<table border=\"1\" class=\"dataframe\">\n  <thead>\n    <tr style=\"text-align: right;\">\n      <th></th>\n      <th>学校</th>\n      <th>班级</th>\n      <th>编号</th>\n      <th>性别</th>\n      <th>地址</th>\n      <th>身高</th>\n      <th>体重</th>\n      <th>数学成绩</th>\n      <th>物理成绩</th>\n    </tr>\n  </thead>\n  <tbody>\n    <tr>\n      <th>0</th>\n      <td>S_1</td>\n      <td>C_1</td>\n      <td>1101</td>\n      <td>street_1</td>\n      <td>street_1</td>\n      <td>173</td>\n      <td>63</td>\n      <td>34.0</td>\n      <td>A+</td>\n    </tr>\n    <tr>\n      <th>1</th>\n      <td>S_1</td>\n      <td>C_1</td>\n      <td>1102</td>\n      <td>F</td>\n      <td>street_2</td>\n      <td>192</td>\n      <td>73</td>\n      <td>32.5</td>\n      <td>B+</td>\n    </tr>\n    <tr>\n      <th>2</th>\n      <td>S_1</td>\n      <td>C_1</td>\n      <td>1103</td>\n      <td>M</td>\n      <td>street_2</td>\n      <td>186</td>\n      <td>82</td>\n      <td>87.2</td>\n      <td>B-</td>\n    </tr>\n    <tr>\n      <th>3</th>\n      <td>S_1</td>\n      <td>C_1</td>\n      <td>1104</td>\n      <td>F</td>\n      <td>street_2</td>\n      <td>167</td>\n      <td>81</td>\n      <td>80.4</td>\n      <td>B+</td>\n    </tr>\n    <tr>\n      <th>4</th>\n      <td>S_1</td>\n      <td>C_1</td>\n      <td>1105</td>\n      <td>F</td>\n      <td>street_4</td>\n      <td>159</td>\n      <td>64</td>\n      <td>84.8</td>\n      <td>B+</td>\n    </tr>\n    <tr>\n      <th>5</th>\n      <td>S_1</td>\n      <td>C_2</td>\n      <td>1201</td>\n      <td>M</td>\n      <td>street_5</td>\n      <td>188</td>\n      <td>68</td>\n      <td>97.0</td>\n      <td>A-</td>\n    </tr>\n    <tr>\n      <th>6</th>\n      <td>S_1</td>\n      <td>C_2</td>\n      <td>1202</td>\n      <td>F</td>\n      <td>street_4</td>\n      <td>176</td>\n      <td>94</td>\n      <td>63.5</td>\n      <td>B-</td>\n    </tr>\n    <tr>\n      <th>7</th>\n      <td>S_1</td>\n      <td>C_2</td>\n      <td>1203</td>\n      <td>M</td>\n      <td>street_6</td>\n      <td>160</td>\n      <td>53</td>\n      <td>58.8</td>\n      <td>A+</td>\n    </tr>\n    <tr>\n      <th>8</th>\n      <td>S_1</td>\n      <td>C_2</td>\n      <td>1204</td>\n      <td>F</td>\n      <td>street_5</td>\n      <td>162</td>\n      <td>63</td>\n      <td>33.8</td>\n      <td>B</td>\n    </tr>\n    <tr>\n      <th>9</th>\n      <td>S_1</td>\n      <td>C_2</td>\n      <td>1205</td>\n      <td>F</td>\n      <td>street_6</td>\n      <td>167</td>\n      <td>63</td>\n      <td>68.4</td>\n      <td>B-</td>\n    </tr>\n    <tr>\n      <th>10</th>\n      <td>S_1</td>\n      <td>C_3</td>\n      <td>1301</td>\n      <td>M</td>\n      <td>street_4</td>\n      <td>161</td>\n      <td>68</td>\n      <td>31.5</td>\n      <td>B+</td>\n    </tr>\n    <tr>\n      <th>11</th>\n      <td>S_1</td>\n      <td>C_3</td>\n      <td>1302</td>\n      <td>F</td>\n      <td>street_1</td>\n      <td>175</td>\n      <td>57</td>\n      <td>87.7</td>\n      <td>A-</td>\n    </tr>\n    <tr>\n      <th>12</th>\n      <td>S_1</td>\n      <td>C_3</td>\n      <td>1303</td>\n      <td>M</td>\n      <td>street_7</td>\n      <td>188</td>\n      <td>82</td>\n      <td>49.7</td>\n      <td>B</td>\n    </tr>\n    <tr>\n      <th>13</th>\n      <td>S_1</td>\n      <td>C_3</td>\n      <td>1304</td>\n      <td>M</td>\n      <td>street_2</td>\n      <td>195</td>\n      <td>70</td>\n      <td>85.2</td>\n      <td>A</td>\n    </tr>\n    <tr>\n      <th>14</th>\n      <td>S_1</td>\n      <td>C_3</td>\n      <td>1305</td>\n      <td>F</td>\n      <td>street_5</td>\n      <td>187</td>\n      <td>69</td>\n      <td>61.7</td>\n      <td>B-</td>\n    </tr>\n    <tr>\n      <th>15</th>\n      <td>S_2</td>\n      <td>C_1</td>\n      <td>2101</td>\n      <td>M</td>\n      <td>street_7</td>\n      <td>174</td>\n      <td>84</td>\n      <td>83.3</td>\n      <td>C</td>\n    </tr>\n    <tr>\n      <th>16</th>\n      <td>S_2</td>\n      <td>C_1</td>\n      <td>2102</td>\n      <td>F</td>\n      <td>street_6</td>\n      <td>161</td>\n      <td>61</td>\n      <td>50.6</td>\n      <td>B+</td>\n    </tr>\n    <tr>\n      <th>17</th>\n      <td>S_2</td>\n      <td>C_1</td>\n      <td>2103</td>\n      <td>M</td>\n      <td>street_4</td>\n      <td>157</td>\n      <td>61</td>\n      <td>52.5</td>\n      <td>B-</td>\n    </tr>\n    <tr>\n      <th>18</th>\n      <td>S_2</td>\n      <td>C_1</td>\n      <td>2104</td>\n      <td>F</td>\n      <td>street_5</td>\n      <td>159</td>\n      <td>97</td>\n      <td>72.2</td>\n      <td>B+</td>\n    </tr>\n    <tr>\n      <th>19</th>\n      <td>S_2</td>\n      <td>C_1</td>\n      <td>2105</td>\n      <td>M</td>\n      <td>street_4</td>\n      <td>170</td>\n      <td>81</td>\n      <td>34.2</td>\n      <td>A</td>\n    </tr>\n    <tr>\n      <th>20</th>\n      <td>S_2</td>\n      <td>C_2</td>\n      <td>2201</td>\n      <td>M</td>\n      <td>street_5</td>\n      <td>193</td>\n      <td>100</td>\n      <td>39.1</td>\n      <td>B</td>\n    </tr>\n    <tr>\n      <th>21</th>\n      <td>S_2</td>\n      <td>C_2</td>\n      <td>2202</td>\n      <td>F</td>\n      <td>street_7</td>\n      <td>194</td>\n      <td>77</td>\n      <td>68.5</td>\n      <td>B+</td>\n    </tr>\n    <tr>\n      <th>22</th>\n      <td>S_2</td>\n      <td>C_2</td>\n      <td>2203</td>\n      <td>M</td>\n      <td>street_4</td>\n      <td>155</td>\n      <td>91</td>\n      <td>73.8</td>\n      <td>A+</td>\n    </tr>\n    <tr>\n      <th>23</th>\n      <td>S_2</td>\n      <td>C_2</td>\n      <td>2204</td>\n      <td>M</td>\n      <td>street_1</td>\n      <td>175</td>\n      <td>74</td>\n      <td>47.2</td>\n      <td>B-</td>\n    </tr>\n    <tr>\n      <th>24</th>\n      <td>S_2</td>\n      <td>C_2</td>\n      <td>2205</td>\n      <td>F</td>\n      <td>street_7</td>\n      <td>183</td>\n      <td>76</td>\n      <td>85.4</td>\n      <td>B</td>\n    </tr>\n    <tr>\n      <th>25</th>\n      <td>S_2</td>\n      <td>C_3</td>\n      <td>2301</td>\n      <td>F</td>\n      <td>street_4</td>\n      <td>157</td>\n      <td>78</td>\n      <td>72.3</td>\n      <td>B+</td>\n    </tr>\n    <tr>\n      <th>26</th>\n      <td>S_2</td>\n      <td>C_3</td>\n      <td>2302</td>\n      <td>M</td>\n      <td>street_5</td>\n      <td>171</td>\n      <td>88</td>\n      <td>32.7</td>\n      <td>A</td>\n    </tr>\n    <tr>\n      <th>27</th>\n      <td>S_2</td>\n      <td>C_3</td>\n      <td>2303</td>\n      <td>F</td>\n      <td>street_7</td>\n      <td>190</td>\n      <td>99</td>\n      <td>65.9</td>\n      <td>C</td>\n    </tr>\n    <tr>\n      <th>28</th>\n      <td>S_2</td>\n      <td>C_3</td>\n      <td>2304</td>\n      <td>F</td>\n      <td>street_6</td>\n      <td>164</td>\n      <td>81</td>\n      <td>95.5</td>\n      <td>A-</td>\n    </tr>\n    <tr>\n      <th>29</th>\n      <td>S_2</td>\n      <td>C_3</td>\n      <td>2305</td>\n      <td>M</td>\n      <td>street_4</td>\n      <td>187</td>\n      <td>73</td>\n      <td>48.9</td>\n      <td>B</td>\n    </tr>\n    <tr>\n      <th>30</th>\n      <td>S_2</td>\n      <td>C_4</td>\n      <td>2401</td>\n      <td>F</td>\n      <td>NaN</td>\n      <td>192</td>\n      <td>62</td>\n      <td>45.3</td>\n      <td>A</td>\n    </tr>\n    <tr>\n      <th>31</th>\n      <td>S_2</td>\n      <td>C_4</td>\n      <td>2402</td>\n      <td>M</td>\n      <td>street_7</td>\n      <td>166</td>\n      <td>82</td>\n      <td>48.7</td>\n      <td>B</td>\n    </tr>\n    <tr>\n      <th>32</th>\n      <td>S_2</td>\n      <td>C_4</td>\n      <td>2403</td>\n      <td>F</td>\n      <td>street_6</td>\n      <td>158</td>\n      <td>60</td>\n      <td>59.7</td>\n      <td>B+</td>\n    </tr>\n    <tr>\n      <th>33</th>\n      <td>S_2</td>\n      <td>C_4</td>\n      <td>2404</td>\n      <td>F</td>\n      <td>street_2</td>\n      <td>160</td>\n      <td>84</td>\n      <td>97.0</td>\n      <td>B</td>\n    </tr>\n    <tr>\n      <th>34</th>\n      <td>S_2</td>\n      <td>C_4</td>\n      <td>2405</td>\n      <td>F</td>\n      <td>NaN</td>\n      <td>193</td>\n      <td>54</td>\n      <td>-47.6</td>\n      <td>B</td>\n    </tr>\n  </tbody>\n</table>\n</div>"
     },
     "execution_count": 320,
     "metadata": {},
     "output_type": "execute_result"
    }
   ],
   "source": [
    "df"
   ]
  },
  {
   "cell_type": "markdown",
   "metadata": {
    "pycharm": {
     "name": "#%% md\n"
    }
   },
   "source": [
    "#### 多个值排序，即先对第一层排，在第一层相同的情况下对第二层排序"
   ]
  },
  {
   "cell_type": "code",
   "execution_count": 321,
   "metadata": {
    "pycharm": {
     "name": "#%%\n"
    }
   },
   "outputs": [
    {
     "ename": "KeyError",
     "evalue": "'Address'",
     "output_type": "error",
     "traceback": [
      "\u001B[1;31m---------------------------------------------------------------------------\u001B[0m",
      "\u001B[1;31mKeyError\u001B[0m                                  Traceback (most recent call last)",
      "Cell \u001B[1;32mIn [321], line 2\u001B[0m\n\u001B[0;32m      1\u001B[0m \u001B[38;5;66;03m# df.sort_values(by=['Height'])\u001B[39;00m\n\u001B[1;32m----> 2\u001B[0m \u001B[43mdf\u001B[49m\u001B[38;5;241;43m.\u001B[39;49m\u001B[43msort_values\u001B[49m\u001B[43m(\u001B[49m\u001B[43mby\u001B[49m\u001B[38;5;241;43m=\u001B[39;49m\u001B[43m[\u001B[49m\u001B[38;5;124;43m'\u001B[39;49m\u001B[38;5;124;43mAddress\u001B[39;49m\u001B[38;5;124;43m'\u001B[39;49m\u001B[43m,\u001B[49m\u001B[38;5;124;43m'\u001B[39;49m\u001B[38;5;124;43mHeight\u001B[39;49m\u001B[38;5;124;43m'\u001B[39;49m\u001B[43m]\u001B[49m\u001B[43m)\u001B[49m\u001B[38;5;241m.\u001B[39mhead(\u001B[38;5;241m10\u001B[39m)\n",
      "File \u001B[1;32mD:\\Bing_John\\AppData\\Local\\Programs\\Python\\Python310\\lib\\site-packages\\pandas\\util\\_decorators.py:311\u001B[0m, in \u001B[0;36mdeprecate_nonkeyword_arguments.<locals>.decorate.<locals>.wrapper\u001B[1;34m(*args, **kwargs)\u001B[0m\n\u001B[0;32m    305\u001B[0m \u001B[38;5;28;01mif\u001B[39;00m \u001B[38;5;28mlen\u001B[39m(args) \u001B[38;5;241m>\u001B[39m num_allow_args:\n\u001B[0;32m    306\u001B[0m     warnings\u001B[38;5;241m.\u001B[39mwarn(\n\u001B[0;32m    307\u001B[0m         msg\u001B[38;5;241m.\u001B[39mformat(arguments\u001B[38;5;241m=\u001B[39marguments),\n\u001B[0;32m    308\u001B[0m         \u001B[38;5;167;01mFutureWarning\u001B[39;00m,\n\u001B[0;32m    309\u001B[0m         stacklevel\u001B[38;5;241m=\u001B[39mstacklevel,\n\u001B[0;32m    310\u001B[0m     )\n\u001B[1;32m--> 311\u001B[0m \u001B[38;5;28;01mreturn\u001B[39;00m func(\u001B[38;5;241m*\u001B[39margs, \u001B[38;5;241m*\u001B[39m\u001B[38;5;241m*\u001B[39mkwargs)\n",
      "File \u001B[1;32mD:\\Bing_John\\AppData\\Local\\Programs\\Python\\Python310\\lib\\site-packages\\pandas\\core\\frame.py:6304\u001B[0m, in \u001B[0;36mDataFrame.sort_values\u001B[1;34m(self, by, axis, ascending, inplace, kind, na_position, ignore_index, key)\u001B[0m\n\u001B[0;32m   6299\u001B[0m     \u001B[38;5;28;01mraise\u001B[39;00m \u001B[38;5;167;01mValueError\u001B[39;00m(\n\u001B[0;32m   6300\u001B[0m         \u001B[38;5;124mf\u001B[39m\u001B[38;5;124m\"\u001B[39m\u001B[38;5;124mLength of ascending (\u001B[39m\u001B[38;5;132;01m{\u001B[39;00m\u001B[38;5;28mlen\u001B[39m(ascending)\u001B[38;5;132;01m}\u001B[39;00m\u001B[38;5;124m) != length of by (\u001B[39m\u001B[38;5;132;01m{\u001B[39;00m\u001B[38;5;28mlen\u001B[39m(by)\u001B[38;5;132;01m}\u001B[39;00m\u001B[38;5;124m)\u001B[39m\u001B[38;5;124m\"\u001B[39m\n\u001B[0;32m   6301\u001B[0m     )\n\u001B[0;32m   6302\u001B[0m \u001B[38;5;28;01mif\u001B[39;00m \u001B[38;5;28mlen\u001B[39m(by) \u001B[38;5;241m>\u001B[39m \u001B[38;5;241m1\u001B[39m:\n\u001B[1;32m-> 6304\u001B[0m     keys \u001B[38;5;241m=\u001B[39m [\u001B[38;5;28mself\u001B[39m\u001B[38;5;241m.\u001B[39m_get_label_or_level_values(x, axis\u001B[38;5;241m=\u001B[39maxis) \u001B[38;5;28;01mfor\u001B[39;00m x \u001B[38;5;129;01min\u001B[39;00m by]\n\u001B[0;32m   6306\u001B[0m     \u001B[38;5;66;03m# need to rewrap columns in Series to apply key function\u001B[39;00m\n\u001B[0;32m   6307\u001B[0m     \u001B[38;5;28;01mif\u001B[39;00m key \u001B[38;5;129;01mis\u001B[39;00m \u001B[38;5;129;01mnot\u001B[39;00m \u001B[38;5;28;01mNone\u001B[39;00m:\n\u001B[0;32m   6308\u001B[0m         \u001B[38;5;66;03m# error: List comprehension has incompatible type List[Series];\u001B[39;00m\n\u001B[0;32m   6309\u001B[0m         \u001B[38;5;66;03m# expected List[ndarray]\u001B[39;00m\n",
      "File \u001B[1;32mD:\\Bing_John\\AppData\\Local\\Programs\\Python\\Python310\\lib\\site-packages\\pandas\\core\\frame.py:6304\u001B[0m, in \u001B[0;36m<listcomp>\u001B[1;34m(.0)\u001B[0m\n\u001B[0;32m   6299\u001B[0m     \u001B[38;5;28;01mraise\u001B[39;00m \u001B[38;5;167;01mValueError\u001B[39;00m(\n\u001B[0;32m   6300\u001B[0m         \u001B[38;5;124mf\u001B[39m\u001B[38;5;124m\"\u001B[39m\u001B[38;5;124mLength of ascending (\u001B[39m\u001B[38;5;132;01m{\u001B[39;00m\u001B[38;5;28mlen\u001B[39m(ascending)\u001B[38;5;132;01m}\u001B[39;00m\u001B[38;5;124m) != length of by (\u001B[39m\u001B[38;5;132;01m{\u001B[39;00m\u001B[38;5;28mlen\u001B[39m(by)\u001B[38;5;132;01m}\u001B[39;00m\u001B[38;5;124m)\u001B[39m\u001B[38;5;124m\"\u001B[39m\n\u001B[0;32m   6301\u001B[0m     )\n\u001B[0;32m   6302\u001B[0m \u001B[38;5;28;01mif\u001B[39;00m \u001B[38;5;28mlen\u001B[39m(by) \u001B[38;5;241m>\u001B[39m \u001B[38;5;241m1\u001B[39m:\n\u001B[1;32m-> 6304\u001B[0m     keys \u001B[38;5;241m=\u001B[39m [\u001B[38;5;28;43mself\u001B[39;49m\u001B[38;5;241;43m.\u001B[39;49m\u001B[43m_get_label_or_level_values\u001B[49m\u001B[43m(\u001B[49m\u001B[43mx\u001B[49m\u001B[43m,\u001B[49m\u001B[43m \u001B[49m\u001B[43maxis\u001B[49m\u001B[38;5;241;43m=\u001B[39;49m\u001B[43maxis\u001B[49m\u001B[43m)\u001B[49m \u001B[38;5;28;01mfor\u001B[39;00m x \u001B[38;5;129;01min\u001B[39;00m by]\n\u001B[0;32m   6306\u001B[0m     \u001B[38;5;66;03m# need to rewrap columns in Series to apply key function\u001B[39;00m\n\u001B[0;32m   6307\u001B[0m     \u001B[38;5;28;01mif\u001B[39;00m key \u001B[38;5;129;01mis\u001B[39;00m \u001B[38;5;129;01mnot\u001B[39;00m \u001B[38;5;28;01mNone\u001B[39;00m:\n\u001B[0;32m   6308\u001B[0m         \u001B[38;5;66;03m# error: List comprehension has incompatible type List[Series];\u001B[39;00m\n\u001B[0;32m   6309\u001B[0m         \u001B[38;5;66;03m# expected List[ndarray]\u001B[39;00m\n",
      "File \u001B[1;32mD:\\Bing_John\\AppData\\Local\\Programs\\Python\\Python310\\lib\\site-packages\\pandas\\core\\generic.py:1840\u001B[0m, in \u001B[0;36mNDFrame._get_label_or_level_values\u001B[1;34m(self, key, axis)\u001B[0m\n\u001B[0;32m   1838\u001B[0m     values \u001B[38;5;241m=\u001B[39m \u001B[38;5;28mself\u001B[39m\u001B[38;5;241m.\u001B[39maxes[axis]\u001B[38;5;241m.\u001B[39mget_level_values(key)\u001B[38;5;241m.\u001B[39m_values\n\u001B[0;32m   1839\u001B[0m \u001B[38;5;28;01melse\u001B[39;00m:\n\u001B[1;32m-> 1840\u001B[0m     \u001B[38;5;28;01mraise\u001B[39;00m \u001B[38;5;167;01mKeyError\u001B[39;00m(key)\n\u001B[0;32m   1842\u001B[0m \u001B[38;5;66;03m# Check for duplicates\u001B[39;00m\n\u001B[0;32m   1843\u001B[0m \u001B[38;5;28;01mif\u001B[39;00m values\u001B[38;5;241m.\u001B[39mndim \u001B[38;5;241m>\u001B[39m \u001B[38;5;241m1\u001B[39m:\n",
      "\u001B[1;31mKeyError\u001B[0m: 'Address'"
     ]
    }
   ],
   "source": [
    "# df.sort_values(by=['Height'])\n",
    "df.sort_values(by=['Address','Height']).head(10)"
   ]
  },
  {
   "cell_type": "markdown",
   "metadata": {
    "pycharm": {
     "name": "#%% md\n"
    }
   },
   "source": [
    "#### 【练习一】 现有一份关于美剧《权力的游戏》剧本的数据集，请解决以下问题：\n",
    "#### （a）在所有的数据中，一共出现了多少人物？\n",
    "#### （b）以单元格计数（即简单把一个单元格视作一句），谁说了最多的话？\n",
    "#### （c）以单词计数，谁说了最多的单词？（不是单句单词最多，是指每人说过单词的总数最多，为了简便，只以空格为单词分界点，不考虑其他情况）"
   ]
  },
  {
   "cell_type": "code",
   "execution_count": null,
   "metadata": {
    "pycharm": {
     "name": "#%%\n"
    }
   },
   "outputs": [],
   "source": [
    "df = pd.read_csv('data/Game_of_Thrones_Script.csv')\n",
    "df.head()"
   ]
  },
  {
   "cell_type": "code",
   "execution_count": null,
   "metadata": {
    "pycharm": {
     "name": "#%%\n"
    }
   },
   "outputs": [],
   "source": [
    "df['Name'].nunique()"
   ]
  },
  {
   "cell_type": "code",
   "execution_count": null,
   "metadata": {
    "pycharm": {
     "name": "#%%\n"
    }
   },
   "outputs": [],
   "source": [
    "# （b）谁说的话最多？\n",
    "# df['Name'].value_counts()\n",
    "df['Name'].value_counts().index[0]"
   ]
  },
  {
   "cell_type": "code",
   "execution_count": null,
   "outputs": [],
   "source": [
    "# （c）谁说的单词最多？\n",
    "df['Sentence'].apply(lambda x:len(x.split(' '))).groupby(df['Name']).sum().sort_values(ascending=False).index[0]"
   ],
   "metadata": {
    "collapsed": false,
    "pycharm": {
     "name": "#%%\n"
    }
   }
  }
 ],
 "metadata": {
  "kernelspec": {
   "display_name": "Python 3 (ipykernel)",
   "language": "python",
   "name": "python3"
  },
  "language_info": {
   "codemirror_mode": {
    "name": "ipython",
    "version": 3
   },
   "file_extension": ".py",
   "mimetype": "text/x-python",
   "name": "python",
   "nbconvert_exporter": "python",
   "pygments_lexer": "ipython3",
   "version": "3.9.7"
  },
  "vscode": {
   "interpreter": {
    "hash": "68908377ed95d7c3d4e1905f72b5c03e8b8f9a308e79edcfb0aafe2172e16c29"
   }
  }
 },
 "nbformat": 4,
 "nbformat_minor": 2
}