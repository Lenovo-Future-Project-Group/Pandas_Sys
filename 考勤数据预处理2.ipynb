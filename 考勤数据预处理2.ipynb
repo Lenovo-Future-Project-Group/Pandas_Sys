{
 "cells": [
  {
   "cell_type": "code",
   "execution_count": 41,
   "metadata": {
    "pycharm": {
     "name": "#%%\n"
    }
   },
   "outputs": [],
   "source": [
    "import pandas as pd\n",
    "import os\n",
    "import re"
   ]
  },
  {
   "cell_type": "code",
   "execution_count": 42,
   "metadata": {
    "pycharm": {
     "name": "#%%\n"
    }
   },
   "outputs": [
    {
     "data": {
      "text/plain": "['2022年5月18日5楼第1节课考勤表.xlsx',\n '2022年5月18日5楼第3节课考勤表.xlsx',\n '2022年5月18日5楼第5节课考勤表.xlsx',\n '2022年5月19日5楼第1节课考勤表.xlsx',\n '2022年5月19日5楼第3节课考勤表.xlsx']"
     },
     "execution_count": 42,
     "metadata": {},
     "output_type": "execute_result"
    }
   ],
   "source": [
    "path = r'./Data/inputData/考勤数据/'\n",
    "files = os.listdir(path)\n",
    "files[:5]"
   ]
  },
  {
   "cell_type": "code",
   "execution_count": 43,
   "metadata": {
    "pycharm": {
     "name": "#%%\n"
    }
   },
   "outputs": [],
   "source": [
    "# 使用正则从文件名中解析出‘日期’、‘几楼’、‘第几节课’\n",
    "def get_data(file_name):\n",
    "    # 构建正则\n",
    "    search_obj = re.search(r'(.*)日(.*)第(.*)考', file_name)\n",
    "\n",
    "    get_date = search_obj.group(1) + '日'  #获得日期\n",
    "    get_room = search_obj.group(2)  #获得楼栋\n",
    "    get_class_num = '第' + search_obj.group(3)  #获得节课\n",
    "\n",
    "    return get_date, get_room, get_class_num"
   ]
  },
  {
   "cell_type": "code",
   "execution_count": 44,
   "metadata": {
    "pycharm": {
     "name": "#%%\n"
    }
   },
   "outputs": [
    {
     "name": "stderr",
     "output_type": "stream",
     "text": [
      "C:\\Users\\Bing_John\\AppData\\Local\\Temp\\ipykernel_1472\\2634293991.py:15: FutureWarning: The frame.append method is deprecated and will be removed from pandas in a future version. Use pandas.concat instead.\n",
      "  result_pd = result_pd.append(excel_df)\n",
      "C:\\Users\\Bing_John\\AppData\\Local\\Temp\\ipykernel_1472\\2634293991.py:15: FutureWarning: The frame.append method is deprecated and will be removed from pandas in a future version. Use pandas.concat instead.\n",
      "  result_pd = result_pd.append(excel_df)\n",
      "C:\\Users\\Bing_John\\AppData\\Local\\Temp\\ipykernel_1472\\2634293991.py:15: FutureWarning: The frame.append method is deprecated and will be removed from pandas in a future version. Use pandas.concat instead.\n",
      "  result_pd = result_pd.append(excel_df)\n",
      "C:\\Users\\Bing_John\\AppData\\Local\\Temp\\ipykernel_1472\\2634293991.py:15: FutureWarning: The frame.append method is deprecated and will be removed from pandas in a future version. Use pandas.concat instead.\n",
      "  result_pd = result_pd.append(excel_df)\n",
      "C:\\Users\\Bing_John\\AppData\\Local\\Temp\\ipykernel_1472\\2634293991.py:15: FutureWarning: The frame.append method is deprecated and will be removed from pandas in a future version. Use pandas.concat instead.\n",
      "  result_pd = result_pd.append(excel_df)\n",
      "C:\\Users\\Bing_John\\AppData\\Local\\Temp\\ipykernel_1472\\2634293991.py:15: FutureWarning: The frame.append method is deprecated and will be removed from pandas in a future version. Use pandas.concat instead.\n",
      "  result_pd = result_pd.append(excel_df)\n",
      "C:\\Users\\Bing_John\\AppData\\Local\\Temp\\ipykernel_1472\\2634293991.py:15: FutureWarning: The frame.append method is deprecated and will be removed from pandas in a future version. Use pandas.concat instead.\n",
      "  result_pd = result_pd.append(excel_df)\n",
      "C:\\Users\\Bing_John\\AppData\\Local\\Temp\\ipykernel_1472\\2634293991.py:15: FutureWarning: The frame.append method is deprecated and will be removed from pandas in a future version. Use pandas.concat instead.\n",
      "  result_pd = result_pd.append(excel_df)\n",
      "C:\\Users\\Bing_John\\AppData\\Local\\Temp\\ipykernel_1472\\2634293991.py:15: FutureWarning: The frame.append method is deprecated and will be removed from pandas in a future version. Use pandas.concat instead.\n",
      "  result_pd = result_pd.append(excel_df)\n",
      "C:\\Users\\Bing_John\\AppData\\Local\\Temp\\ipykernel_1472\\2634293991.py:15: FutureWarning: The frame.append method is deprecated and will be removed from pandas in a future version. Use pandas.concat instead.\n",
      "  result_pd = result_pd.append(excel_df)\n",
      "C:\\Users\\Bing_John\\AppData\\Local\\Temp\\ipykernel_1472\\2634293991.py:15: FutureWarning: The frame.append method is deprecated and will be removed from pandas in a future version. Use pandas.concat instead.\n",
      "  result_pd = result_pd.append(excel_df)\n",
      "C:\\Users\\Bing_John\\AppData\\Local\\Temp\\ipykernel_1472\\2634293991.py:15: FutureWarning: The frame.append method is deprecated and will be removed from pandas in a future version. Use pandas.concat instead.\n",
      "  result_pd = result_pd.append(excel_df)\n",
      "C:\\Users\\Bing_John\\AppData\\Local\\Temp\\ipykernel_1472\\2634293991.py:15: FutureWarning: The frame.append method is deprecated and will be removed from pandas in a future version. Use pandas.concat instead.\n",
      "  result_pd = result_pd.append(excel_df)\n",
      "C:\\Users\\Bing_John\\AppData\\Local\\Temp\\ipykernel_1472\\2634293991.py:15: FutureWarning: The frame.append method is deprecated and will be removed from pandas in a future version. Use pandas.concat instead.\n",
      "  result_pd = result_pd.append(excel_df)\n",
      "C:\\Users\\Bing_John\\AppData\\Local\\Temp\\ipykernel_1472\\2634293991.py:15: FutureWarning: The frame.append method is deprecated and will be removed from pandas in a future version. Use pandas.concat instead.\n",
      "  result_pd = result_pd.append(excel_df)\n",
      "C:\\Users\\Bing_John\\AppData\\Local\\Temp\\ipykernel_1472\\2634293991.py:15: FutureWarning: The frame.append method is deprecated and will be removed from pandas in a future version. Use pandas.concat instead.\n",
      "  result_pd = result_pd.append(excel_df)\n",
      "C:\\Users\\Bing_John\\AppData\\Local\\Temp\\ipykernel_1472\\2634293991.py:15: FutureWarning: The frame.append method is deprecated and will be removed from pandas in a future version. Use pandas.concat instead.\n",
      "  result_pd = result_pd.append(excel_df)\n",
      "C:\\Users\\Bing_John\\AppData\\Local\\Temp\\ipykernel_1472\\2634293991.py:15: FutureWarning: The frame.append method is deprecated and will be removed from pandas in a future version. Use pandas.concat instead.\n",
      "  result_pd = result_pd.append(excel_df)\n",
      "C:\\Users\\Bing_John\\AppData\\Local\\Temp\\ipykernel_1472\\2634293991.py:15: FutureWarning: The frame.append method is deprecated and will be removed from pandas in a future version. Use pandas.concat instead.\n",
      "  result_pd = result_pd.append(excel_df)\n",
      "C:\\Users\\Bing_John\\AppData\\Local\\Temp\\ipykernel_1472\\2634293991.py:15: FutureWarning: The frame.append method is deprecated and will be removed from pandas in a future version. Use pandas.concat instead.\n",
      "  result_pd = result_pd.append(excel_df)\n",
      "C:\\Users\\Bing_John\\AppData\\Local\\Temp\\ipykernel_1472\\2634293991.py:15: FutureWarning: The frame.append method is deprecated and will be removed from pandas in a future version. Use pandas.concat instead.\n",
      "  result_pd = result_pd.append(excel_df)\n",
      "C:\\Users\\Bing_John\\AppData\\Local\\Temp\\ipykernel_1472\\2634293991.py:15: FutureWarning: The frame.append method is deprecated and will be removed from pandas in a future version. Use pandas.concat instead.\n",
      "  result_pd = result_pd.append(excel_df)\n",
      "C:\\Users\\Bing_John\\AppData\\Local\\Temp\\ipykernel_1472\\2634293991.py:15: FutureWarning: The frame.append method is deprecated and will be removed from pandas in a future version. Use pandas.concat instead.\n",
      "  result_pd = result_pd.append(excel_df)\n",
      "C:\\Users\\Bing_John\\AppData\\Local\\Temp\\ipykernel_1472\\2634293991.py:15: FutureWarning: The frame.append method is deprecated and will be removed from pandas in a future version. Use pandas.concat instead.\n",
      "  result_pd = result_pd.append(excel_df)\n",
      "C:\\Users\\Bing_John\\AppData\\Local\\Temp\\ipykernel_1472\\2634293991.py:15: FutureWarning: The frame.append method is deprecated and will be removed from pandas in a future version. Use pandas.concat instead.\n",
      "  result_pd = result_pd.append(excel_df)\n",
      "C:\\Users\\Bing_John\\AppData\\Local\\Temp\\ipykernel_1472\\2634293991.py:15: FutureWarning: The frame.append method is deprecated and will be removed from pandas in a future version. Use pandas.concat instead.\n",
      "  result_pd = result_pd.append(excel_df)\n",
      "C:\\Users\\Bing_John\\AppData\\Local\\Temp\\ipykernel_1472\\2634293991.py:15: FutureWarning: The frame.append method is deprecated and will be removed from pandas in a future version. Use pandas.concat instead.\n",
      "  result_pd = result_pd.append(excel_df)\n",
      "C:\\Users\\Bing_John\\AppData\\Local\\Temp\\ipykernel_1472\\2634293991.py:15: FutureWarning: The frame.append method is deprecated and will be removed from pandas in a future version. Use pandas.concat instead.\n",
      "  result_pd = result_pd.append(excel_df)\n",
      "C:\\Users\\Bing_John\\AppData\\Local\\Temp\\ipykernel_1472\\2634293991.py:15: FutureWarning: The frame.append method is deprecated and will be removed from pandas in a future version. Use pandas.concat instead.\n",
      "  result_pd = result_pd.append(excel_df)\n",
      "C:\\Users\\Bing_John\\AppData\\Local\\Temp\\ipykernel_1472\\2634293991.py:15: FutureWarning: The frame.append method is deprecated and will be removed from pandas in a future version. Use pandas.concat instead.\n",
      "  result_pd = result_pd.append(excel_df)\n",
      "C:\\Users\\Bing_John\\AppData\\Local\\Temp\\ipykernel_1472\\2634293991.py:15: FutureWarning: The frame.append method is deprecated and will be removed from pandas in a future version. Use pandas.concat instead.\n",
      "  result_pd = result_pd.append(excel_df)\n",
      "C:\\Users\\Bing_John\\AppData\\Local\\Temp\\ipykernel_1472\\2634293991.py:15: FutureWarning: The frame.append method is deprecated and will be removed from pandas in a future version. Use pandas.concat instead.\n",
      "  result_pd = result_pd.append(excel_df)\n",
      "C:\\Users\\Bing_John\\AppData\\Local\\Temp\\ipykernel_1472\\2634293991.py:15: FutureWarning: The frame.append method is deprecated and will be removed from pandas in a future version. Use pandas.concat instead.\n",
      "  result_pd = result_pd.append(excel_df)\n",
      "C:\\Users\\Bing_John\\AppData\\Local\\Temp\\ipykernel_1472\\2634293991.py:15: FutureWarning: The frame.append method is deprecated and will be removed from pandas in a future version. Use pandas.concat instead.\n",
      "  result_pd = result_pd.append(excel_df)\n"
     ]
    }
   ],
   "source": [
    "# 创建总的DataFrame：result_df\n",
    "# 遍历每个excel文件，读取成dataframe(excel_df)，然后把“日期”、“几楼”、“第几节课”作为列插入到excel_df\n",
    "# 并将每个excel_ef累加到result_df\n",
    "result_pd = pd.DataFrame()\n",
    "for file in files:\n",
    "    excel_df = pd.read_excel(path + file)\n",
    "    excel_df.rename(columns={'编号': 'id', '名单': 'name', '考勤': 'kq', '说明': 'desc'}, inplace=True)\n",
    "\n",
    "    # excel_df新增列\n",
    "    date, room, class_num = get_data(file)\n",
    "    excel_df['date'] = date\n",
    "    excel_df['room'] = room\n",
    "    excel_df['class_num'] = class_num\n",
    "\n",
    "    result_pd = result_pd.append(excel_df)\n"
   ]
  },
  {
   "cell_type": "code",
   "execution_count": 45,
   "metadata": {
    "pycharm": {
     "name": "#%%\n"
    }
   },
   "outputs": [
    {
     "data": {
      "text/plain": "    id name    kq desc        date room class_num\n0    1  崔昊元  考勤正常  NaN  2022年6月10日   5楼      第4节课\n1    2  贾靖程  考勤正常  NaN  2022年5月23日   5楼      第1节课\n7    8  孙佳奇  考勤正常  NaN  2022年5月31日   5楼      第3节课\n1    2  贾靖程  考勤正常  NaN   2022年6月2日   5楼      第5节课\n0    1  崔昊元  考勤正常  NaN  2022年5月19日   5楼      第3节课\n6    7   张阔  考勤正常  NaN  2022年6月27日   5楼      第3节课\n10  11  付一鸣  考勤正常  NaN  2022年6月21日   5楼      第3节课\n4    5  吕梦丽  考勤正常  NaN  2022年6月17日   5楼      第3节课\n2    3  吴俊岳  考勤正常  NaN  2022年6月17日   5楼      第3节课\n13  14  赵鑫博  考勤正常  NaN  2022年5月27日   5楼      第1节课",
      "text/html": "<div>\n<style scoped>\n    .dataframe tbody tr th:only-of-type {\n        vertical-align: middle;\n    }\n\n    .dataframe tbody tr th {\n        vertical-align: top;\n    }\n\n    .dataframe thead th {\n        text-align: right;\n    }\n</style>\n<table border=\"1\" class=\"dataframe\">\n  <thead>\n    <tr style=\"text-align: right;\">\n      <th></th>\n      <th>id</th>\n      <th>name</th>\n      <th>kq</th>\n      <th>desc</th>\n      <th>date</th>\n      <th>room</th>\n      <th>class_num</th>\n    </tr>\n  </thead>\n  <tbody>\n    <tr>\n      <th>0</th>\n      <td>1</td>\n      <td>崔昊元</td>\n      <td>考勤正常</td>\n      <td>NaN</td>\n      <td>2022年6月10日</td>\n      <td>5楼</td>\n      <td>第4节课</td>\n    </tr>\n    <tr>\n      <th>1</th>\n      <td>2</td>\n      <td>贾靖程</td>\n      <td>考勤正常</td>\n      <td>NaN</td>\n      <td>2022年5月23日</td>\n      <td>5楼</td>\n      <td>第1节课</td>\n    </tr>\n    <tr>\n      <th>7</th>\n      <td>8</td>\n      <td>孙佳奇</td>\n      <td>考勤正常</td>\n      <td>NaN</td>\n      <td>2022年5月31日</td>\n      <td>5楼</td>\n      <td>第3节课</td>\n    </tr>\n    <tr>\n      <th>1</th>\n      <td>2</td>\n      <td>贾靖程</td>\n      <td>考勤正常</td>\n      <td>NaN</td>\n      <td>2022年6月2日</td>\n      <td>5楼</td>\n      <td>第5节课</td>\n    </tr>\n    <tr>\n      <th>0</th>\n      <td>1</td>\n      <td>崔昊元</td>\n      <td>考勤正常</td>\n      <td>NaN</td>\n      <td>2022年5月19日</td>\n      <td>5楼</td>\n      <td>第3节课</td>\n    </tr>\n    <tr>\n      <th>6</th>\n      <td>7</td>\n      <td>张阔</td>\n      <td>考勤正常</td>\n      <td>NaN</td>\n      <td>2022年6月27日</td>\n      <td>5楼</td>\n      <td>第3节课</td>\n    </tr>\n    <tr>\n      <th>10</th>\n      <td>11</td>\n      <td>付一鸣</td>\n      <td>考勤正常</td>\n      <td>NaN</td>\n      <td>2022年6月21日</td>\n      <td>5楼</td>\n      <td>第3节课</td>\n    </tr>\n    <tr>\n      <th>4</th>\n      <td>5</td>\n      <td>吕梦丽</td>\n      <td>考勤正常</td>\n      <td>NaN</td>\n      <td>2022年6月17日</td>\n      <td>5楼</td>\n      <td>第3节课</td>\n    </tr>\n    <tr>\n      <th>2</th>\n      <td>3</td>\n      <td>吴俊岳</td>\n      <td>考勤正常</td>\n      <td>NaN</td>\n      <td>2022年6月17日</td>\n      <td>5楼</td>\n      <td>第3节课</td>\n    </tr>\n    <tr>\n      <th>13</th>\n      <td>14</td>\n      <td>赵鑫博</td>\n      <td>考勤正常</td>\n      <td>NaN</td>\n      <td>2022年5月27日</td>\n      <td>5楼</td>\n      <td>第1节课</td>\n    </tr>\n  </tbody>\n</table>\n</div>"
     },
     "execution_count": 45,
     "metadata": {},
     "output_type": "execute_result"
    }
   ],
   "source": [
    "# 随机获取10条数据看看效果\n",
    "result_pd.sample(10)"
   ]
  },
  {
   "cell_type": "code",
   "execution_count": 46,
   "metadata": {
    "pycharm": {
     "name": "#%%\n"
    }
   },
   "outputs": [
    {
     "data": {
      "text/plain": "   id name    kq   desc        date room class_num\n0   1  崔昊元  考勤正常     -1  2022年5月18日   5楼      第1节课\n1   2  贾靖程  考勤异常  身体不舒服  2022年5月18日   5楼      第1节课\n2   3  吴俊岳  考勤正常     -1  2022年5月18日   5楼      第1节课\n3   4  王浩羽  考勤正常     -1  2022年5月18日   5楼      第1节课\n4   5  吕梦丽  考勤正常     -1  2022年5月18日   5楼      第1节课",
      "text/html": "<div>\n<style scoped>\n    .dataframe tbody tr th:only-of-type {\n        vertical-align: middle;\n    }\n\n    .dataframe tbody tr th {\n        vertical-align: top;\n    }\n\n    .dataframe thead th {\n        text-align: right;\n    }\n</style>\n<table border=\"1\" class=\"dataframe\">\n  <thead>\n    <tr style=\"text-align: right;\">\n      <th></th>\n      <th>id</th>\n      <th>name</th>\n      <th>kq</th>\n      <th>desc</th>\n      <th>date</th>\n      <th>room</th>\n      <th>class_num</th>\n    </tr>\n  </thead>\n  <tbody>\n    <tr>\n      <th>0</th>\n      <td>1</td>\n      <td>崔昊元</td>\n      <td>考勤正常</td>\n      <td>-1</td>\n      <td>2022年5月18日</td>\n      <td>5楼</td>\n      <td>第1节课</td>\n    </tr>\n    <tr>\n      <th>1</th>\n      <td>2</td>\n      <td>贾靖程</td>\n      <td>考勤异常</td>\n      <td>身体不舒服</td>\n      <td>2022年5月18日</td>\n      <td>5楼</td>\n      <td>第1节课</td>\n    </tr>\n    <tr>\n      <th>2</th>\n      <td>3</td>\n      <td>吴俊岳</td>\n      <td>考勤正常</td>\n      <td>-1</td>\n      <td>2022年5月18日</td>\n      <td>5楼</td>\n      <td>第1节课</td>\n    </tr>\n    <tr>\n      <th>3</th>\n      <td>4</td>\n      <td>王浩羽</td>\n      <td>考勤正常</td>\n      <td>-1</td>\n      <td>2022年5月18日</td>\n      <td>5楼</td>\n      <td>第1节课</td>\n    </tr>\n    <tr>\n      <th>4</th>\n      <td>5</td>\n      <td>吕梦丽</td>\n      <td>考勤正常</td>\n      <td>-1</td>\n      <td>2022年5月18日</td>\n      <td>5楼</td>\n      <td>第1节课</td>\n    </tr>\n  </tbody>\n</table>\n</div>"
     },
     "execution_count": 46,
     "metadata": {},
     "output_type": "execute_result"
    }
   ],
   "source": [
    "# 修改空值\n",
    "result_pd['desc'].fillna(-1, inplace=True)\n",
    "result_pd.head()"
   ]
  },
  {
   "cell_type": "code",
   "execution_count": 47,
   "metadata": {
    "pycharm": {
     "name": "#%%\n"
    }
   },
   "outputs": [],
   "source": [
    "result_pd.to_csv(path + '考勤成绩.csv', index=False)"
   ]
  }
 ],
 "metadata": {
  "kernelspec": {
   "display_name": "Python 3.9.7 ('base')",
   "language": "python",
   "name": "python3"
  },
  "language_info": {
   "codemirror_mode": {
    "name": "ipython",
    "version": 3
   },
   "file_extension": ".py",
   "mimetype": "text/x-python",
   "name": "python",
   "nbconvert_exporter": "python",
   "pygments_lexer": "ipython3",
   "version": "3.9.7"
  },
  "vscode": {
   "interpreter": {
    "hash": "68908377ed95d7c3d4e1905f72b5c03e8b8f9a308e79edcfb0aafe2172e16c29"
   }
  }
 },
 "nbformat": 4,
 "nbformat_minor": 4
}