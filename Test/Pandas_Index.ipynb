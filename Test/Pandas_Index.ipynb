{
 "cells": [
  {
   "cell_type": "code",
   "execution_count": 6,
   "metadata": {
    "collapsed": true,
    "pycharm": {
     "name": "#%%\n"
    }
   },
   "outputs": [],
   "source": [
    "import pandas as pd\n",
    "from IPython.display import display"
   ]
  },
  {
   "cell_type": "code",
   "execution_count": 7,
   "outputs": [],
   "source": [
    "def csv_to_df(csv_file, index_col=None):\n",
    "    data = pd.DataFrame(pd.read_csv(csv_file, index_col=index_col, low_memory=False))\n",
    "    return data"
   ],
   "metadata": {
    "collapsed": false,
    "pycharm": {
     "name": "#%%\n"
    }
   }
  },
  {
   "cell_type": "code",
   "execution_count": 8,
   "outputs": [],
   "source": [
    "df = csv_to_df('../data/table.csv', index_col='编号')"
   ],
   "metadata": {
    "collapsed": false,
    "pycharm": {
     "name": "#%%\n"
    }
   }
  },
  {
   "cell_type": "code",
   "execution_count": 11,
   "outputs": [
    {
     "data": {
      "text/plain": "       学校   班级        性别        地址   身高   体重  数学成绩 物理成绩\n编号                                                     \n1101  S_1  C_1  street_1  street_1  173   63  34.0   A+\n1102  S_1  C_1         F  street_2  192   73  32.5   B+\n1103  S_1  C_1         M  street_2  186   82  87.2   B-\n1104  S_1  C_1         F  street_2  167   81  80.4   B+\n1105  S_1  C_1         F  street_4  159   64  84.8   B+\n1201  S_1  C_2         M  street_5  188   68  97.0   A-\n1202  S_1  C_2         F  street_4  176   94  63.5   B-\n1203  S_1  C_2         M  street_6  160   53  58.8   A+\n1204  S_1  C_2         F  street_5  162   63  33.8    B\n1205  S_1  C_2         F  street_6  167   63  68.4   B-\n1301  S_1  C_3         M  street_4  161   68  31.5   B+\n1302  S_1  C_3         F  street_1  175   57  87.7   A-\n1303  S_1  C_3         M  street_7  188   82  49.7    B\n1304  S_1  C_3         M  street_2  195   70  85.2    A\n1305  S_1  C_3         F  street_5  187   69  61.7   B-\n2101  S_2  C_1         M  street_7  174   84  83.3    C\n2102  S_2  C_1         F  street_6  161   61  50.6   B+\n2103  S_2  C_1         M  street_4  157   61  52.5   B-\n2104  S_2  C_1         F  street_5  159   97  72.2   B+\n2105  S_2  C_1         M  street_4  170   81  34.2    A\n2201  S_2  C_2         M  street_5  193  100  39.1    B\n2202  S_2  C_2         F  street_7  194   77  68.5   B+\n2203  S_2  C_2         M  street_4  155   91  73.8   A+\n2204  S_2  C_2         M  street_1  175   74  47.2   B-\n2205  S_2  C_2         F  street_7  183   76  85.4    B\n2301  S_2  C_3         F  street_4  157   78  72.3   B+\n2302  S_2  C_3         M  street_5  171   88  32.7    A\n2303  S_2  C_3         F  street_7  190   99  65.9    C\n2304  S_2  C_3         F  street_6  164   81  95.5   A-\n2305  S_2  C_3         M  street_4  187   73  48.9    B\n2401  S_2  C_4         F       NaN  192   62  45.3    A\n2402  S_2  C_4         M  street_7  166   82  48.7    B\n2403  S_2  C_4         F  street_6  158   60  59.7   B+\n2404  S_2  C_4         F  street_2  160   84  97.0    B\n2405  S_2  C_4         F       NaN  193   54 -47.6    B",
      "text/html": "<div>\n<style scoped>\n    .dataframe tbody tr th:only-of-type {\n        vertical-align: middle;\n    }\n\n    .dataframe tbody tr th {\n        vertical-align: top;\n    }\n\n    .dataframe thead th {\n        text-align: right;\n    }\n</style>\n<table border=\"1\" class=\"dataframe\">\n  <thead>\n    <tr style=\"text-align: right;\">\n      <th></th>\n      <th>学校</th>\n      <th>班级</th>\n      <th>性别</th>\n      <th>地址</th>\n      <th>身高</th>\n      <th>体重</th>\n      <th>数学成绩</th>\n      <th>物理成绩</th>\n    </tr>\n    <tr>\n      <th>编号</th>\n      <th></th>\n      <th></th>\n      <th></th>\n      <th></th>\n      <th></th>\n      <th></th>\n      <th></th>\n      <th></th>\n    </tr>\n  </thead>\n  <tbody>\n    <tr>\n      <th>1101</th>\n      <td>S_1</td>\n      <td>C_1</td>\n      <td>street_1</td>\n      <td>street_1</td>\n      <td>173</td>\n      <td>63</td>\n      <td>34.0</td>\n      <td>A+</td>\n    </tr>\n    <tr>\n      <th>1102</th>\n      <td>S_1</td>\n      <td>C_1</td>\n      <td>F</td>\n      <td>street_2</td>\n      <td>192</td>\n      <td>73</td>\n      <td>32.5</td>\n      <td>B+</td>\n    </tr>\n    <tr>\n      <th>1103</th>\n      <td>S_1</td>\n      <td>C_1</td>\n      <td>M</td>\n      <td>street_2</td>\n      <td>186</td>\n      <td>82</td>\n      <td>87.2</td>\n      <td>B-</td>\n    </tr>\n    <tr>\n      <th>1104</th>\n      <td>S_1</td>\n      <td>C_1</td>\n      <td>F</td>\n      <td>street_2</td>\n      <td>167</td>\n      <td>81</td>\n      <td>80.4</td>\n      <td>B+</td>\n    </tr>\n    <tr>\n      <th>1105</th>\n      <td>S_1</td>\n      <td>C_1</td>\n      <td>F</td>\n      <td>street_4</td>\n      <td>159</td>\n      <td>64</td>\n      <td>84.8</td>\n      <td>B+</td>\n    </tr>\n    <tr>\n      <th>1201</th>\n      <td>S_1</td>\n      <td>C_2</td>\n      <td>M</td>\n      <td>street_5</td>\n      <td>188</td>\n      <td>68</td>\n      <td>97.0</td>\n      <td>A-</td>\n    </tr>\n    <tr>\n      <th>1202</th>\n      <td>S_1</td>\n      <td>C_2</td>\n      <td>F</td>\n      <td>street_4</td>\n      <td>176</td>\n      <td>94</td>\n      <td>63.5</td>\n      <td>B-</td>\n    </tr>\n    <tr>\n      <th>1203</th>\n      <td>S_1</td>\n      <td>C_2</td>\n      <td>M</td>\n      <td>street_6</td>\n      <td>160</td>\n      <td>53</td>\n      <td>58.8</td>\n      <td>A+</td>\n    </tr>\n    <tr>\n      <th>1204</th>\n      <td>S_1</td>\n      <td>C_2</td>\n      <td>F</td>\n      <td>street_5</td>\n      <td>162</td>\n      <td>63</td>\n      <td>33.8</td>\n      <td>B</td>\n    </tr>\n    <tr>\n      <th>1205</th>\n      <td>S_1</td>\n      <td>C_2</td>\n      <td>F</td>\n      <td>street_6</td>\n      <td>167</td>\n      <td>63</td>\n      <td>68.4</td>\n      <td>B-</td>\n    </tr>\n    <tr>\n      <th>1301</th>\n      <td>S_1</td>\n      <td>C_3</td>\n      <td>M</td>\n      <td>street_4</td>\n      <td>161</td>\n      <td>68</td>\n      <td>31.5</td>\n      <td>B+</td>\n    </tr>\n    <tr>\n      <th>1302</th>\n      <td>S_1</td>\n      <td>C_3</td>\n      <td>F</td>\n      <td>street_1</td>\n      <td>175</td>\n      <td>57</td>\n      <td>87.7</td>\n      <td>A-</td>\n    </tr>\n    <tr>\n      <th>1303</th>\n      <td>S_1</td>\n      <td>C_3</td>\n      <td>M</td>\n      <td>street_7</td>\n      <td>188</td>\n      <td>82</td>\n      <td>49.7</td>\n      <td>B</td>\n    </tr>\n    <tr>\n      <th>1304</th>\n      <td>S_1</td>\n      <td>C_3</td>\n      <td>M</td>\n      <td>street_2</td>\n      <td>195</td>\n      <td>70</td>\n      <td>85.2</td>\n      <td>A</td>\n    </tr>\n    <tr>\n      <th>1305</th>\n      <td>S_1</td>\n      <td>C_3</td>\n      <td>F</td>\n      <td>street_5</td>\n      <td>187</td>\n      <td>69</td>\n      <td>61.7</td>\n      <td>B-</td>\n    </tr>\n    <tr>\n      <th>2101</th>\n      <td>S_2</td>\n      <td>C_1</td>\n      <td>M</td>\n      <td>street_7</td>\n      <td>174</td>\n      <td>84</td>\n      <td>83.3</td>\n      <td>C</td>\n    </tr>\n    <tr>\n      <th>2102</th>\n      <td>S_2</td>\n      <td>C_1</td>\n      <td>F</td>\n      <td>street_6</td>\n      <td>161</td>\n      <td>61</td>\n      <td>50.6</td>\n      <td>B+</td>\n    </tr>\n    <tr>\n      <th>2103</th>\n      <td>S_2</td>\n      <td>C_1</td>\n      <td>M</td>\n      <td>street_4</td>\n      <td>157</td>\n      <td>61</td>\n      <td>52.5</td>\n      <td>B-</td>\n    </tr>\n    <tr>\n      <th>2104</th>\n      <td>S_2</td>\n      <td>C_1</td>\n      <td>F</td>\n      <td>street_5</td>\n      <td>159</td>\n      <td>97</td>\n      <td>72.2</td>\n      <td>B+</td>\n    </tr>\n    <tr>\n      <th>2105</th>\n      <td>S_2</td>\n      <td>C_1</td>\n      <td>M</td>\n      <td>street_4</td>\n      <td>170</td>\n      <td>81</td>\n      <td>34.2</td>\n      <td>A</td>\n    </tr>\n    <tr>\n      <th>2201</th>\n      <td>S_2</td>\n      <td>C_2</td>\n      <td>M</td>\n      <td>street_5</td>\n      <td>193</td>\n      <td>100</td>\n      <td>39.1</td>\n      <td>B</td>\n    </tr>\n    <tr>\n      <th>2202</th>\n      <td>S_2</td>\n      <td>C_2</td>\n      <td>F</td>\n      <td>street_7</td>\n      <td>194</td>\n      <td>77</td>\n      <td>68.5</td>\n      <td>B+</td>\n    </tr>\n    <tr>\n      <th>2203</th>\n      <td>S_2</td>\n      <td>C_2</td>\n      <td>M</td>\n      <td>street_4</td>\n      <td>155</td>\n      <td>91</td>\n      <td>73.8</td>\n      <td>A+</td>\n    </tr>\n    <tr>\n      <th>2204</th>\n      <td>S_2</td>\n      <td>C_2</td>\n      <td>M</td>\n      <td>street_1</td>\n      <td>175</td>\n      <td>74</td>\n      <td>47.2</td>\n      <td>B-</td>\n    </tr>\n    <tr>\n      <th>2205</th>\n      <td>S_2</td>\n      <td>C_2</td>\n      <td>F</td>\n      <td>street_7</td>\n      <td>183</td>\n      <td>76</td>\n      <td>85.4</td>\n      <td>B</td>\n    </tr>\n    <tr>\n      <th>2301</th>\n      <td>S_2</td>\n      <td>C_3</td>\n      <td>F</td>\n      <td>street_4</td>\n      <td>157</td>\n      <td>78</td>\n      <td>72.3</td>\n      <td>B+</td>\n    </tr>\n    <tr>\n      <th>2302</th>\n      <td>S_2</td>\n      <td>C_3</td>\n      <td>M</td>\n      <td>street_5</td>\n      <td>171</td>\n      <td>88</td>\n      <td>32.7</td>\n      <td>A</td>\n    </tr>\n    <tr>\n      <th>2303</th>\n      <td>S_2</td>\n      <td>C_3</td>\n      <td>F</td>\n      <td>street_7</td>\n      <td>190</td>\n      <td>99</td>\n      <td>65.9</td>\n      <td>C</td>\n    </tr>\n    <tr>\n      <th>2304</th>\n      <td>S_2</td>\n      <td>C_3</td>\n      <td>F</td>\n      <td>street_6</td>\n      <td>164</td>\n      <td>81</td>\n      <td>95.5</td>\n      <td>A-</td>\n    </tr>\n    <tr>\n      <th>2305</th>\n      <td>S_2</td>\n      <td>C_3</td>\n      <td>M</td>\n      <td>street_4</td>\n      <td>187</td>\n      <td>73</td>\n      <td>48.9</td>\n      <td>B</td>\n    </tr>\n    <tr>\n      <th>2401</th>\n      <td>S_2</td>\n      <td>C_4</td>\n      <td>F</td>\n      <td>NaN</td>\n      <td>192</td>\n      <td>62</td>\n      <td>45.3</td>\n      <td>A</td>\n    </tr>\n    <tr>\n      <th>2402</th>\n      <td>S_2</td>\n      <td>C_4</td>\n      <td>M</td>\n      <td>street_7</td>\n      <td>166</td>\n      <td>82</td>\n      <td>48.7</td>\n      <td>B</td>\n    </tr>\n    <tr>\n      <th>2403</th>\n      <td>S_2</td>\n      <td>C_4</td>\n      <td>F</td>\n      <td>street_6</td>\n      <td>158</td>\n      <td>60</td>\n      <td>59.7</td>\n      <td>B+</td>\n    </tr>\n    <tr>\n      <th>2404</th>\n      <td>S_2</td>\n      <td>C_4</td>\n      <td>F</td>\n      <td>street_2</td>\n      <td>160</td>\n      <td>84</td>\n      <td>97.0</td>\n      <td>B</td>\n    </tr>\n    <tr>\n      <th>2405</th>\n      <td>S_2</td>\n      <td>C_4</td>\n      <td>F</td>\n      <td>NaN</td>\n      <td>193</td>\n      <td>54</td>\n      <td>-47.6</td>\n      <td>B</td>\n    </tr>\n  </tbody>\n</table>\n</div>"
     },
     "execution_count": 11,
     "metadata": {},
     "output_type": "execute_result"
    }
   ],
   "source": [
    "df"
   ],
   "metadata": {
    "collapsed": false,
    "pycharm": {
     "name": "#%%\n"
    }
   }
  },
  {
   "cell_type": "code",
   "execution_count": 12,
   "outputs": [
    {
     "data": {
      "text/plain": "       学校   班级 性别        地址   身高  体重  数学成绩 物理成绩\n编号                                             \n2105  S_2  C_1  M  street_4  170  81  34.2    A",
      "text/html": "<div>\n<style scoped>\n    .dataframe tbody tr th:only-of-type {\n        vertical-align: middle;\n    }\n\n    .dataframe tbody tr th {\n        vertical-align: top;\n    }\n\n    .dataframe thead th {\n        text-align: right;\n    }\n</style>\n<table border=\"1\" class=\"dataframe\">\n  <thead>\n    <tr style=\"text-align: right;\">\n      <th></th>\n      <th>学校</th>\n      <th>班级</th>\n      <th>性别</th>\n      <th>地址</th>\n      <th>身高</th>\n      <th>体重</th>\n      <th>数学成绩</th>\n      <th>物理成绩</th>\n    </tr>\n    <tr>\n      <th>编号</th>\n      <th></th>\n      <th></th>\n      <th></th>\n      <th></th>\n      <th></th>\n      <th></th>\n      <th></th>\n      <th></th>\n    </tr>\n  </thead>\n  <tbody>\n    <tr>\n      <th>2105</th>\n      <td>S_2</td>\n      <td>C_1</td>\n      <td>M</td>\n      <td>street_4</td>\n      <td>170</td>\n      <td>81</td>\n      <td>34.2</td>\n      <td>A</td>\n    </tr>\n  </tbody>\n</table>\n</div>"
     },
     "execution_count": 12,
     "metadata": {},
     "output_type": "execute_result"
    }
   ],
   "source": [
    "row = df.index.get_loc(2105)\n",
    "df[row : row + 1]"
   ],
   "metadata": {
    "collapsed": false,
    "pycharm": {
     "name": "#%%\n"
    }
   }
  },
  {
   "cell_type": "code",
   "execution_count": 13,
   "outputs": [
    {
     "data": {
      "text/plain": "       学校   班级        性别        地址   身高   体重  数学成绩 物理成绩\n编号                                                     \n1101  S_1  C_1  street_1  street_1  173   63  34.0   A+\n1102  S_1  C_1         F  street_2  192   73  32.5   B+\n1103  S_1  C_1         M  street_2  186   82  87.2   B-\n1104  S_1  C_1         F  street_2  167   81  80.4   B+\n1105  S_1  C_1         F  street_4  159   64  84.8   B+\n1201  S_1  C_2         M  street_5  188   68  97.0   A-\n1202  S_1  C_2         F  street_4  176   94  63.5   B-\n1204  S_1  C_2         F  street_5  162   63  33.8    B\n1205  S_1  C_2         F  street_6  167   63  68.4   B-\n1301  S_1  C_3         M  street_4  161   68  31.5   B+\n1303  S_1  C_3         M  street_7  188   82  49.7    B\n1304  S_1  C_3         M  street_2  195   70  85.2    A\n1305  S_1  C_3         F  street_5  187   69  61.7   B-\n2101  S_2  C_1         M  street_7  174   84  83.3    C\n2102  S_2  C_1         F  street_6  161   61  50.6   B+\n2103  S_2  C_1         M  street_4  157   61  52.5   B-\n2104  S_2  C_1         F  street_5  159   97  72.2   B+\n2105  S_2  C_1         M  street_4  170   81  34.2    A\n2201  S_2  C_2         M  street_5  193  100  39.1    B\n2202  S_2  C_2         F  street_7  194   77  68.5   B+\n2203  S_2  C_2         M  street_4  155   91  73.8   A+\n2204  S_2  C_2         M  street_1  175   74  47.2   B-\n2205  S_2  C_2         F  street_7  183   76  85.4    B\n2301  S_2  C_3         F  street_4  157   78  72.3   B+\n2302  S_2  C_3         M  street_5  171   88  32.7    A\n2303  S_2  C_3         F  street_7  190   99  65.9    C\n2304  S_2  C_3         F  street_6  164   81  95.5   A-\n2305  S_2  C_3         M  street_4  187   73  48.9    B\n2401  S_2  C_4         F       NaN  192   62  45.3    A\n2402  S_2  C_4         M  street_7  166   82  48.7    B\n2403  S_2  C_4         F  street_6  158   60  59.7   B+\n2404  S_2  C_4         F  street_2  160   84  97.0    B",
      "text/html": "<div>\n<style scoped>\n    .dataframe tbody tr th:only-of-type {\n        vertical-align: middle;\n    }\n\n    .dataframe tbody tr th {\n        vertical-align: top;\n    }\n\n    .dataframe thead th {\n        text-align: right;\n    }\n</style>\n<table border=\"1\" class=\"dataframe\">\n  <thead>\n    <tr style=\"text-align: right;\">\n      <th></th>\n      <th>学校</th>\n      <th>班级</th>\n      <th>性别</th>\n      <th>地址</th>\n      <th>身高</th>\n      <th>体重</th>\n      <th>数学成绩</th>\n      <th>物理成绩</th>\n    </tr>\n    <tr>\n      <th>编号</th>\n      <th></th>\n      <th></th>\n      <th></th>\n      <th></th>\n      <th></th>\n      <th></th>\n      <th></th>\n      <th></th>\n    </tr>\n  </thead>\n  <tbody>\n    <tr>\n      <th>1101</th>\n      <td>S_1</td>\n      <td>C_1</td>\n      <td>street_1</td>\n      <td>street_1</td>\n      <td>173</td>\n      <td>63</td>\n      <td>34.0</td>\n      <td>A+</td>\n    </tr>\n    <tr>\n      <th>1102</th>\n      <td>S_1</td>\n      <td>C_1</td>\n      <td>F</td>\n      <td>street_2</td>\n      <td>192</td>\n      <td>73</td>\n      <td>32.5</td>\n      <td>B+</td>\n    </tr>\n    <tr>\n      <th>1103</th>\n      <td>S_1</td>\n      <td>C_1</td>\n      <td>M</td>\n      <td>street_2</td>\n      <td>186</td>\n      <td>82</td>\n      <td>87.2</td>\n      <td>B-</td>\n    </tr>\n    <tr>\n      <th>1104</th>\n      <td>S_1</td>\n      <td>C_1</td>\n      <td>F</td>\n      <td>street_2</td>\n      <td>167</td>\n      <td>81</td>\n      <td>80.4</td>\n      <td>B+</td>\n    </tr>\n    <tr>\n      <th>1105</th>\n      <td>S_1</td>\n      <td>C_1</td>\n      <td>F</td>\n      <td>street_4</td>\n      <td>159</td>\n      <td>64</td>\n      <td>84.8</td>\n      <td>B+</td>\n    </tr>\n    <tr>\n      <th>1201</th>\n      <td>S_1</td>\n      <td>C_2</td>\n      <td>M</td>\n      <td>street_5</td>\n      <td>188</td>\n      <td>68</td>\n      <td>97.0</td>\n      <td>A-</td>\n    </tr>\n    <tr>\n      <th>1202</th>\n      <td>S_1</td>\n      <td>C_2</td>\n      <td>F</td>\n      <td>street_4</td>\n      <td>176</td>\n      <td>94</td>\n      <td>63.5</td>\n      <td>B-</td>\n    </tr>\n    <tr>\n      <th>1204</th>\n      <td>S_1</td>\n      <td>C_2</td>\n      <td>F</td>\n      <td>street_5</td>\n      <td>162</td>\n      <td>63</td>\n      <td>33.8</td>\n      <td>B</td>\n    </tr>\n    <tr>\n      <th>1205</th>\n      <td>S_1</td>\n      <td>C_2</td>\n      <td>F</td>\n      <td>street_6</td>\n      <td>167</td>\n      <td>63</td>\n      <td>68.4</td>\n      <td>B-</td>\n    </tr>\n    <tr>\n      <th>1301</th>\n      <td>S_1</td>\n      <td>C_3</td>\n      <td>M</td>\n      <td>street_4</td>\n      <td>161</td>\n      <td>68</td>\n      <td>31.5</td>\n      <td>B+</td>\n    </tr>\n    <tr>\n      <th>1303</th>\n      <td>S_1</td>\n      <td>C_3</td>\n      <td>M</td>\n      <td>street_7</td>\n      <td>188</td>\n      <td>82</td>\n      <td>49.7</td>\n      <td>B</td>\n    </tr>\n    <tr>\n      <th>1304</th>\n      <td>S_1</td>\n      <td>C_3</td>\n      <td>M</td>\n      <td>street_2</td>\n      <td>195</td>\n      <td>70</td>\n      <td>85.2</td>\n      <td>A</td>\n    </tr>\n    <tr>\n      <th>1305</th>\n      <td>S_1</td>\n      <td>C_3</td>\n      <td>F</td>\n      <td>street_5</td>\n      <td>187</td>\n      <td>69</td>\n      <td>61.7</td>\n      <td>B-</td>\n    </tr>\n    <tr>\n      <th>2101</th>\n      <td>S_2</td>\n      <td>C_1</td>\n      <td>M</td>\n      <td>street_7</td>\n      <td>174</td>\n      <td>84</td>\n      <td>83.3</td>\n      <td>C</td>\n    </tr>\n    <tr>\n      <th>2102</th>\n      <td>S_2</td>\n      <td>C_1</td>\n      <td>F</td>\n      <td>street_6</td>\n      <td>161</td>\n      <td>61</td>\n      <td>50.6</td>\n      <td>B+</td>\n    </tr>\n    <tr>\n      <th>2103</th>\n      <td>S_2</td>\n      <td>C_1</td>\n      <td>M</td>\n      <td>street_4</td>\n      <td>157</td>\n      <td>61</td>\n      <td>52.5</td>\n      <td>B-</td>\n    </tr>\n    <tr>\n      <th>2104</th>\n      <td>S_2</td>\n      <td>C_1</td>\n      <td>F</td>\n      <td>street_5</td>\n      <td>159</td>\n      <td>97</td>\n      <td>72.2</td>\n      <td>B+</td>\n    </tr>\n    <tr>\n      <th>2105</th>\n      <td>S_2</td>\n      <td>C_1</td>\n      <td>M</td>\n      <td>street_4</td>\n      <td>170</td>\n      <td>81</td>\n      <td>34.2</td>\n      <td>A</td>\n    </tr>\n    <tr>\n      <th>2201</th>\n      <td>S_2</td>\n      <td>C_2</td>\n      <td>M</td>\n      <td>street_5</td>\n      <td>193</td>\n      <td>100</td>\n      <td>39.1</td>\n      <td>B</td>\n    </tr>\n    <tr>\n      <th>2202</th>\n      <td>S_2</td>\n      <td>C_2</td>\n      <td>F</td>\n      <td>street_7</td>\n      <td>194</td>\n      <td>77</td>\n      <td>68.5</td>\n      <td>B+</td>\n    </tr>\n    <tr>\n      <th>2203</th>\n      <td>S_2</td>\n      <td>C_2</td>\n      <td>M</td>\n      <td>street_4</td>\n      <td>155</td>\n      <td>91</td>\n      <td>73.8</td>\n      <td>A+</td>\n    </tr>\n    <tr>\n      <th>2204</th>\n      <td>S_2</td>\n      <td>C_2</td>\n      <td>M</td>\n      <td>street_1</td>\n      <td>175</td>\n      <td>74</td>\n      <td>47.2</td>\n      <td>B-</td>\n    </tr>\n    <tr>\n      <th>2205</th>\n      <td>S_2</td>\n      <td>C_2</td>\n      <td>F</td>\n      <td>street_7</td>\n      <td>183</td>\n      <td>76</td>\n      <td>85.4</td>\n      <td>B</td>\n    </tr>\n    <tr>\n      <th>2301</th>\n      <td>S_2</td>\n      <td>C_3</td>\n      <td>F</td>\n      <td>street_4</td>\n      <td>157</td>\n      <td>78</td>\n      <td>72.3</td>\n      <td>B+</td>\n    </tr>\n    <tr>\n      <th>2302</th>\n      <td>S_2</td>\n      <td>C_3</td>\n      <td>M</td>\n      <td>street_5</td>\n      <td>171</td>\n      <td>88</td>\n      <td>32.7</td>\n      <td>A</td>\n    </tr>\n    <tr>\n      <th>2303</th>\n      <td>S_2</td>\n      <td>C_3</td>\n      <td>F</td>\n      <td>street_7</td>\n      <td>190</td>\n      <td>99</td>\n      <td>65.9</td>\n      <td>C</td>\n    </tr>\n    <tr>\n      <th>2304</th>\n      <td>S_2</td>\n      <td>C_3</td>\n      <td>F</td>\n      <td>street_6</td>\n      <td>164</td>\n      <td>81</td>\n      <td>95.5</td>\n      <td>A-</td>\n    </tr>\n    <tr>\n      <th>2305</th>\n      <td>S_2</td>\n      <td>C_3</td>\n      <td>M</td>\n      <td>street_4</td>\n      <td>187</td>\n      <td>73</td>\n      <td>48.9</td>\n      <td>B</td>\n    </tr>\n    <tr>\n      <th>2401</th>\n      <td>S_2</td>\n      <td>C_4</td>\n      <td>F</td>\n      <td>NaN</td>\n      <td>192</td>\n      <td>62</td>\n      <td>45.3</td>\n      <td>A</td>\n    </tr>\n    <tr>\n      <th>2402</th>\n      <td>S_2</td>\n      <td>C_4</td>\n      <td>M</td>\n      <td>street_7</td>\n      <td>166</td>\n      <td>82</td>\n      <td>48.7</td>\n      <td>B</td>\n    </tr>\n    <tr>\n      <th>2403</th>\n      <td>S_2</td>\n      <td>C_4</td>\n      <td>F</td>\n      <td>street_6</td>\n      <td>158</td>\n      <td>60</td>\n      <td>59.7</td>\n      <td>B+</td>\n    </tr>\n    <tr>\n      <th>2404</th>\n      <td>S_2</td>\n      <td>C_4</td>\n      <td>F</td>\n      <td>street_2</td>\n      <td>160</td>\n      <td>84</td>\n      <td>97.0</td>\n      <td>B</td>\n    </tr>\n  </tbody>\n</table>\n</div>"
     },
     "execution_count": 13,
     "metadata": {},
     "output_type": "execute_result"
    }
   ],
   "source": [
    "df[df['体重'] >= 60].head()"
   ],
   "metadata": {
    "collapsed": false,
    "pycharm": {
     "name": "#%%\n"
    }
   }
  }
 ],
 "metadata": {
  "kernelspec": {
   "display_name": "Python 3",
   "language": "python",
   "name": "python3"
  },
  "language_info": {
   "codemirror_mode": {
    "name": "ipython",
    "version": 2
   },
   "file_extension": ".py",
   "mimetype": "text/x-python",
   "name": "python",
   "nbconvert_exporter": "python",
   "pygments_lexer": "ipython2",
   "version": "2.7.6"
  }
 },
 "nbformat": 4,
 "nbformat_minor": 0
}