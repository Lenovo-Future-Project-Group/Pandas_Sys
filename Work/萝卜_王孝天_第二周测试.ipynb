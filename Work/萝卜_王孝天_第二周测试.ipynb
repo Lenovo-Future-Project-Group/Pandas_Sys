{
 "cells": [
  {
   "cell_type": "code",
   "execution_count": 40,
   "metadata": {
    "collapsed": true,
    "pycharm": {
     "name": "#%%\n"
    }
   },
   "outputs": [],
   "source": [
    "import pandas as pd"
   ]
  },
  {
   "cell_type": "code",
   "execution_count": 41,
   "outputs": [],
   "source": [
    "# 1.读取权力的游戏.csv文件,并将其转换为DataFrame\n",
    "def csv_to_df(csv_file):\n",
    "    data = pd.DataFrame(pd.read_csv(csv_file, low_memory=False))\n",
    "    return data\n",
    "df = csv_to_df('../Data/权利的游戏.csv')"
   ],
   "metadata": {
    "collapsed": false,
    "pycharm": {
     "name": "#%%\n"
    }
   }
  },
  {
   "cell_type": "code",
   "execution_count": 42,
   "outputs": [
    {
     "data": {
      "text/plain": "(        播放日期         季          集               集标题            角色  \\\n 0  2011/4/17  Season 1  Episode 1  Winter is Coming  waymar royce   \n 1  2011/4/17  Season 1  Episode 1  Winter is Coming          will   \n 2  2011/4/17  Season 1  Episode 1  Winter is Coming  waymar royce   \n 3  2011/4/17  Season 1  Episode 1  Winter is Coming          will   \n 4  2011/4/17  Season 1  Episode 1  Winter is Coming         gared   \n \n                                                   台词  \n 0  What do you expect? They're savages. One lot s...  \n 1  I've never seen wildlings do a thing like this...  \n 2                             How close did you get?  \n 3                            Close as any man would.  \n 4                   We should head back to the wall.  ,\n             播放日期         季          集              集标题                角色  \\\n 23901  2019/5/19  Season 8  Episode 6  The Iron Throne             bronn   \n 23902  2019/5/19  Season 8  Episode 6  The Iron Throne  tyrion lannister   \n 23903  2019/5/19  Season 8  Episode 6  The Iron Throne             bronn   \n 23904  2019/5/19  Season 8  Episode 6  The Iron Throne               sam   \n 23905  2019/5/19  Season 8  Episode 6  The Iron Throne             bronn   \n 23906  2019/5/19  Season 8  Episode 6  The Iron Throne           brienne   \n 23907  2019/5/19  Season 8  Episode 6  The Iron Throne             bronn   \n 23908  2019/5/19  Season 8  Episode 6  The Iron Throne  tyrion lannister   \n 23909  2019/5/19  Season 8  Episode 6  The Iron Throne               man   \n 23910  2019/5/19  Season 8  Episode 6  The Iron Throne               all   \n \n                                                       台词  \n 23901                The strong live and the weak don't.  \n 23902   Find the best builders and set them to the task.  \n 23903  Oh, speaking of builders, all the best brothel...  \n 23904  Uh... the Archmaester is less than enthusiasti...  \n 23905      Well, I imagine he isn't using them properly.  \n 23906  I think we can all agree that ships take prece...  \n 23907      I think that's a very presumptuous statement.  \n 23908  I once brought a jackass and a honeycomb into ...  \n 23909                            The Queen in the North!  \n 23910  The Queen in the North! The Queen in the North...  )"
     },
     "execution_count": 42,
     "metadata": {},
     "output_type": "execute_result"
    }
   ],
   "source": [
    "# 2.查看DataFrame的前5行和后10行数据\n",
    "df.head(5), df.tail(10)"
   ],
   "metadata": {
    "collapsed": false,
    "pycharm": {
     "name": "#%%\n"
    }
   }
  },
  {
   "cell_type": "code",
   "execution_count": 43,
   "outputs": [
    {
     "name": "stdout",
     "output_type": "stream",
     "text": [
      "<class 'pandas.core.frame.DataFrame'>\n",
      "RangeIndex: 23911 entries, 0 to 23910\n",
      "Data columns (total 6 columns):\n",
      " #   Column  Non-Null Count  Dtype \n",
      "---  ------  --------------  ----- \n",
      " 0   播放日期    23911 non-null  object\n",
      " 1   季       23911 non-null  object\n",
      " 2   集       23911 non-null  object\n",
      " 3   集标题     23911 non-null  object\n",
      " 4   角色      23911 non-null  object\n",
      " 5   台词      23911 non-null  object\n",
      "dtypes: object(6)\n",
      "memory usage: 1.1+ MB\n"
     ]
    }
   ],
   "source": [
    "# 3.输出DataFrame的信息\n",
    "df.info()"
   ],
   "metadata": {
    "collapsed": false,
    "pycharm": {
     "name": "#%%\n"
    }
   }
  },
  {
   "cell_type": "code",
   "execution_count": 44,
   "outputs": [
    {
     "data": {
      "text/plain": "(23911, 6)"
     },
     "execution_count": 44,
     "metadata": {},
     "output_type": "execute_result"
    }
   ],
   "source": [
    "# 4.输出DataFrame的形状\n",
    "df.shape"
   ],
   "metadata": {
    "collapsed": false,
    "pycharm": {
     "name": "#%%\n"
    }
   }
  },
  {
   "cell_type": "code",
   "execution_count": 45,
   "outputs": [
    {
     "data": {
      "text/plain": "array(['waymar royce', 'will', 'gared', 'royce', 'jon snow',\n       'septa mordane', 'sansa stark', 'eddard stark', 'robb stark',\n       'jonrobb', 'cassel', 'catelyn stark', 'bran stark',\n       'theon greyjoy', 'jaime lannister', 'cersei lannister',\n       'maester luwin', 'luwin', 'arya stark', 'robert baratheon',\n       'tyrion lannister', 'ros', 'viserys', 'daenerys targaryen', 'maid',\n       'illyrio', 'benjen', 'a voice', 'jorah mormont', 'khal drogo',\n       'sandor clegane', 'doreah', 'irri', 'viserys targaryen',\n       'joffrey lannister', 'myrcella baratheon', 'benjen stark',\n       'assassin', 'jhiqui', 'rodrick cassel', 'mycah', 'soldier',\n       'jory cassel', 'kings landing guard', 'varys', 'renly baratheon',\n       'petyr baelish', 'grand maester pycelle', 'old nan', 'guard',\n       'alliser thorne', 'jeor mormont', 'grenn', 'pyp', 'rast',\n       'barristan selmy', 'lancel lannister', 'rakharo', 'yoren',\n       'rhakaro', 'maester aemon', 'syrio forel', 'sam tarly',\n       'janos slynt', 'hugh of vale', 'tobho mott', 'gendry baratheon',\n       'marillion', 'masha heddle', 'bronn', 'knight of house whent',\n       'knight of house bracken', 'loras tyrell', 'rodrik cassel',\n       'illyrio mopatis', 'vardis egen', 'steward', 'lysa arryn',\n       'robin arryn', 'mord', 'mhaegen', 'osha', 'wildling', 'knight',\n       'ser vardis', 'barriston', 'man', 'beric dondarrion', 'mordane',\n       'tywin lannister', 'night watch stable boy', 'lord varys',\n       'deanerys targarian', 'little bird', 'wine merchant',\n       'jaremy rykker', 'othell yarwyck', 'pypar', 'tell me something',\n       'tomard', 'king joffrey', 'steward of house stark', 'meryn trant',\n       'maryn trant', 'kings guard', 'stable boy', 'ser alliser',\n       'nights watch brother', 'shagga', 'kevan lannister', 'messenger',\n       'rodrik cassal', 'greatjon umber', 'stark guard',\n       'lannister scout', 'kings landing page', 'everyone', 'walder frey',\n       'stevron frey', 'ryger rivers', 'voices outside',\n       'unidentified nights watchers', 'nights watcher', 'all', 'cohollo',\n       'qotho', 'prostitute', 'shae', 'mirri maz duur',\n       'lannister soldier', 'tribesmen of vale', 'stark bannermen',\n       'kings landing baker', 'street urchin', 'populace', 'eddark stark',\n       'rickon stark', 'several stark bannermen', 'jonos bracken',\n       'galbart glover', 'rickard karstark', 'leo lefford',\n       'addam marbrand', 'sam pyp and grenn', 'hot pie',\n       'lommy greenhands', 'announcer', 'ser dontos', 'myrcella',\n       'pycelle', 'janos', 'lord', 'portan', 'sam', 'edd', 'lord mormont',\n       'craster', 'watchman', 'gilly', 'melisandre', 'group', 'cressen',\n       'davos', 'crowd', 'stannis baratheon', 'matthos', 'alton',\n       'ser rodrik', 'others at table', 'roz', 'daisy', 'mhaegan',\n       'gold cloak', 'blacksmith', 'cold', 'end', 'title', 'jaqen hghar',\n       'rorge', 'woman', 'podrick', 'lommy', 'yara greyjoy', 'balon',\n       'all three', 'saan', 'jeor', 'hodor', 'margaery tyrell', 'loras',\n       'renly', 'brienne', 'colen', 'gerard', 'tommen lannister',\n       'priest', 'drowned priest', 'timett', 'rennick', 'men',\n       'roose bolton', 'wounded soldier', 'talisa', 'lancel', 'meryn',\n       'kovarro', 'mountain', 'tickler', 'prisoner', 'spice king',\n       'spice', 'xaro', 'polliver', 'girl', 'protester', 'black lorren',\n       'dagmer', 'reginald', 'amory', 'dolorous edd', 'dolorous',\n       'haylene', 'pyatt pree', 'quaithe', 'winterfell shepherd',\n       'rodrik', 'qhorin', 'farlen', 'ironborn', 'rickon', 'armory',\n       'ygritte', 'septon', 'cuard', 'quent', 'roose', 'ahsa', 'rikon',\n       'mountian', 'child', 'handmaiden', 'quaith', 'silk king',\n       'pyat pree', 'pyattpree', 'jacks', 'rickard', 'mar',\n       'lord of bones', 'rider', 'kevan', 'quorin', 'eddision',\n       'male singer', 'drogo', 'rattleshirt', 'main', 'boy', 'tormund',\n       'mance', 'whore', 'salladhor', 'qyburn', 'missandei',\n       'kraznys mo nakloz', 'unsullied', 'barristan', 'jojen', 'torturer',\n       'tailor', 'olenna tyrell', 'servant', 'orell', 'meera', 'thoros',\n       'anguy', 'ramsay bolton', 'locke', 'edmure', 'brynden', 'driver',\n       'martyn', 'karl tanner', 'kraznys', 'greizhen', 'marei', 'beric',\n       'willem', 'selyse', 'shireen', 'grey worm', 'olyvar',\n       'black walder', 'lothar', 'radzal mo eraz', 'myranda', 'violet',\n       'steelshanks walton', 'daario', 'mero', 'prendahl', 'walder',\n       'merry', 'pig farmer', 'old man', 'roslin', 'edmure roslin',\n       'blackfish', 'everybody', 'frey guard', 'frey man', 'frey men',\n       'frey soldier', 'daughter', 'dornish lord', 'oberyn martell',\n       'ellaria', 'morgan', 'morgans friend', 'warg', 'styr', 'officer',\n       'janos slunt', 'innkeeper', 'tansy', 'walda', 'mace',\n       'axell florent', 'threeeyed raven', 'musician', 'renly dwarf',\n       'robb dwarf', 'joffrey dwarf', 'balon dwarf', 'stannis dwarf',\n       'farmer hamlet', 'ranger', 'moles town whore', 'moles town madam',\n       'olly', 'guymon', 'ollys mother', 'yarwyck', 'alliser thorn',\n       'mossador', 'elder meereen slave', 'meereen slave', 'slaves',\n       'tanner', 'women', 'sissy', 'robin', 'lysa', 'karl',\n       'doloroud edd', 'dolrous edd', 'morag', 'tycho', 'sallador',\n       'lhara', 'first mate', 'bolton guard', 'manservant', 'hizdahr',\n       'pyelle', 'dying man', 'alliser', 'yarwick', 'ed', 'ralf', 'petyr',\n       'lord royce', 'lady anya', 'ser vance', 'ser barristan',\n       'ser jorah', 'lord bolton', 'together', 'pycell', 'aemon',\n       'thenn warg', 'nights watch', 'member', 'donnel', 'cooper',\n       'all together', 'fennesz', 'captain', 'melara', 'maggy',\n       'white rat', 'master of arms', 'yohn royce', 'squire',\n       'grand maester pyrcelle', 'daario naharis', 'hizdahr zo loraq',\n       'braavosi man', 'waitress', 'lollys stokeworth', 'lollys',\n       'trystane', 'areo', 'doran', 'hunters', 'mace tyrell',\n       'shadow tower brother', 'brother', 'brothers', 'harpy', 'mosador',\n       'bystanders', 'waif', 'sparrow', 'priestess', 'blonde prostitute',\n       'black haired prostitute', 'merchant', 'militant', 'client',\n       'kingsguard', 'tyene', 'elaria', 'obara', 'nymeria', 'allister',\n       'malko', 'slaver', 'sand snakes', 'derryk', 'sammy', 'slave buyer',\n       'buyer', 'buer', 'slave owner', 'owner', 'septa', 'thin man',\n       'bolton bannerman', 'master', 'karsi', 'loboda', 'wildling elder',\n       'giant', 'wun wun', 'shouting', 'banker', 'brothel keeper',\n       'head prostitute', 'head', 'quick', 'strong', 'survivor', 'voice',\n       'nights watchman', 'male voice', 'nights watchmen',\n       'maester wolkan', 'bolton officer', 'septa unella', 'maester',\n       'listeners', 'red priest', 'bloodrider', 'wife', 'khal moro',\n       'young rodrik', 'young ned', 'young benjen', 'young lyanna',\n       'young hodor', 'child of forest', 'storyteller', 'kings soldier',\n       'lord karstark', 'lady walda', 'hooded figure', 'euron greyjoy',\n       'aeron', 'arthur', 'dothraki woman', 'dothraki matron', 'vala',\n       'maester pycelle', 'lady olenna', 'smalljon', 'bowen marsh',\n       'othell yarwick', 'alliser throne', 'yezzan', 'razdal', 'belicho',\n       'dothraki', 'leader', 'lhazareen woman', 'maester pycell', 'kevin',\n       'khal', 'izembaro', 'clarenzo', 'ladyc rane', 'camello', 'bobono',\n       'lady crane', 'bianca', 'leaf', 'aerson', 'kinvara', 'melessa',\n       'talla', 'dickon', 'randyll', 'ray', 'sandor', 'dim dalba',\n       'lyanna', 'robett', 'lem', 'gatins', 'young man', 'red priestess',\n       'bryndel', 'guard captain', 'karstark', 'attendant', 'mistress',\n       'vale knight', 'manderly', 'glover', 'waldery frey', 'yohn',\n       'ned alys', 'wolkan', 'marwyn', 'little sam', 'ellia',\n       'robett glover', 'lyanna mormont', 'drogon', 'archers',\n       'archmaester', 'harrag', 'john royce', 'rhaegar', 'brans voice',\n       'umber', 'harry', 'dirah', 'crayah', 'dothraki man', 'both',\n       'teela', 'lyann', 'northman', 'martha', 'father', 'nora', 'vicky',\n       'owen', 'riverlands lord', 'dornish prince', 'ironborn lord',\n       'vale lord', 'unsullied captain'], dtype=object)"
     },
     "execution_count": 45,
     "metadata": {},
     "output_type": "execute_result"
    }
   ],
   "source": [
    "# 5.打印DataFrame不可重复的值\n",
    "df['角色'].unique()"
   ],
   "metadata": {
    "collapsed": false,
    "pycharm": {
     "name": "#%%\n"
    }
   }
  },
  {
   "cell_type": "code",
   "execution_count": 46,
   "outputs": [
    {
     "data": {
      "text/plain": "564"
     },
     "execution_count": 46,
     "metadata": {},
     "output_type": "execute_result"
    }
   ],
   "source": [
    "# 6.一个有多少个不同的角色\n",
    "df['角色'].nunique()"
   ],
   "metadata": {
    "collapsed": false,
    "pycharm": {
     "name": "#%%\n"
    }
   }
  },
  {
   "cell_type": "code",
   "execution_count": 47,
   "outputs": [
    {
     "data": {
      "text/plain": "tyrion lannister      1760\njon snow              1133\ndaenerys targaryen    1048\ncersei lannister      1005\njaime lannister        945\n                      ... \nmerry                    1\nnights watchmen          1\nwillem                   1\ngreizhen                 1\nunsullied captain        1\nName: 角色, Length: 564, dtype: int64"
     },
     "execution_count": 47,
     "metadata": {},
     "output_type": "execute_result"
    }
   ],
   "source": [
    "# 7.每个角色说了多少句话\n",
    "df['角色'].value_counts()"
   ],
   "metadata": {
    "collapsed": false,
    "pycharm": {
     "name": "#%%\n"
    }
   }
  },
  {
   "cell_type": "code",
   "execution_count": 48,
   "outputs": [
    {
     "data": {
      "text/plain": "(tyrion lannister      1760\n jon snow              1133\n daenerys targaryen    1048\n cersei lannister      1005\n jaime lannister        945\n sansa stark            784\n arya stark             783\n davos                  528\n theon greyjoy          455\n petyr baelish          449\n Name: 角色, dtype: int64,\n 角色\n tyrion lannister      1760\n jon snow              1133\n daenerys targaryen    1048\n cersei lannister      1005\n jaime lannister        945\n sansa stark            784\n arya stark             783\n davos                  528\n theon greyjoy          455\n petyr baelish          449\n dtype: int64)"
     },
     "execution_count": 48,
     "metadata": {},
     "output_type": "execute_result"
    }
   ],
   "source": [
    "# 8.前10个台词最多的人 两个方法\n",
    "df['角色'].value_counts().head(10), df.groupby('角色').size().sort_values(ascending=False).head(10)"
   ],
   "metadata": {
    "collapsed": false,
    "pycharm": {
     "name": "#%%\n"
    }
   }
  },
  {
   "cell_type": "code",
   "execution_count": 49,
   "outputs": [
    {
     "data": {
      "text/plain": "            播放日期         季          集               集标题                角色  \\\n0      2011/4/17  Season 1  Episode 1  Winter is Coming      waymar royce   \n1      2011/4/17  Season 1  Episode 1  Winter is Coming              will   \n2      2011/4/17  Season 1  Episode 1  Winter is Coming      waymar royce   \n3      2011/4/17  Season 1  Episode 1  Winter is Coming              will   \n4      2011/4/17  Season 1  Episode 1  Winter is Coming             gared   \n...          ...       ...        ...               ...               ...   \n23906  2019/5/19  Season 8  Episode 6   The Iron Throne           brienne   \n23907  2019/5/19  Season 8  Episode 6   The Iron Throne             bronn   \n23908  2019/5/19  Season 8  Episode 6   The Iron Throne  tyrion lannister   \n23909  2019/5/19  Season 8  Episode 6   The Iron Throne               man   \n23910  2019/5/19  Season 8  Episode 6   The Iron Throne               all   \n\n                                                      台词  单词数  \n0      What do you expect? They're savages. One lot s...   25  \n1      I've never seen wildlings do a thing like this...   21  \n2                                 How close did you get?    5  \n3                                Close as any man would.    5  \n4                       We should head back to the wall.    7  \n...                                                  ...  ...  \n23906  I think we can all agree that ships take prece...   12  \n23907      I think that's a very presumptuous statement.    7  \n23908  I once brought a jackass and a honeycomb into ...   11  \n23909                            The Queen in the North!    5  \n23910  The Queen in the North! The Queen in the North...   25  \n\n[23911 rows x 7 columns]",
      "text/html": "<div>\n<style scoped>\n    .dataframe tbody tr th:only-of-type {\n        vertical-align: middle;\n    }\n\n    .dataframe tbody tr th {\n        vertical-align: top;\n    }\n\n    .dataframe thead th {\n        text-align: right;\n    }\n</style>\n<table border=\"1\" class=\"dataframe\">\n  <thead>\n    <tr style=\"text-align: right;\">\n      <th></th>\n      <th>播放日期</th>\n      <th>季</th>\n      <th>集</th>\n      <th>集标题</th>\n      <th>角色</th>\n      <th>台词</th>\n      <th>单词数</th>\n    </tr>\n  </thead>\n  <tbody>\n    <tr>\n      <th>0</th>\n      <td>2011/4/17</td>\n      <td>Season 1</td>\n      <td>Episode 1</td>\n      <td>Winter is Coming</td>\n      <td>waymar royce</td>\n      <td>What do you expect? They're savages. One lot s...</td>\n      <td>25</td>\n    </tr>\n    <tr>\n      <th>1</th>\n      <td>2011/4/17</td>\n      <td>Season 1</td>\n      <td>Episode 1</td>\n      <td>Winter is Coming</td>\n      <td>will</td>\n      <td>I've never seen wildlings do a thing like this...</td>\n      <td>21</td>\n    </tr>\n    <tr>\n      <th>2</th>\n      <td>2011/4/17</td>\n      <td>Season 1</td>\n      <td>Episode 1</td>\n      <td>Winter is Coming</td>\n      <td>waymar royce</td>\n      <td>How close did you get?</td>\n      <td>5</td>\n    </tr>\n    <tr>\n      <th>3</th>\n      <td>2011/4/17</td>\n      <td>Season 1</td>\n      <td>Episode 1</td>\n      <td>Winter is Coming</td>\n      <td>will</td>\n      <td>Close as any man would.</td>\n      <td>5</td>\n    </tr>\n    <tr>\n      <th>4</th>\n      <td>2011/4/17</td>\n      <td>Season 1</td>\n      <td>Episode 1</td>\n      <td>Winter is Coming</td>\n      <td>gared</td>\n      <td>We should head back to the wall.</td>\n      <td>7</td>\n    </tr>\n    <tr>\n      <th>...</th>\n      <td>...</td>\n      <td>...</td>\n      <td>...</td>\n      <td>...</td>\n      <td>...</td>\n      <td>...</td>\n      <td>...</td>\n    </tr>\n    <tr>\n      <th>23906</th>\n      <td>2019/5/19</td>\n      <td>Season 8</td>\n      <td>Episode 6</td>\n      <td>The Iron Throne</td>\n      <td>brienne</td>\n      <td>I think we can all agree that ships take prece...</td>\n      <td>12</td>\n    </tr>\n    <tr>\n      <th>23907</th>\n      <td>2019/5/19</td>\n      <td>Season 8</td>\n      <td>Episode 6</td>\n      <td>The Iron Throne</td>\n      <td>bronn</td>\n      <td>I think that's a very presumptuous statement.</td>\n      <td>7</td>\n    </tr>\n    <tr>\n      <th>23908</th>\n      <td>2019/5/19</td>\n      <td>Season 8</td>\n      <td>Episode 6</td>\n      <td>The Iron Throne</td>\n      <td>tyrion lannister</td>\n      <td>I once brought a jackass and a honeycomb into ...</td>\n      <td>11</td>\n    </tr>\n    <tr>\n      <th>23909</th>\n      <td>2019/5/19</td>\n      <td>Season 8</td>\n      <td>Episode 6</td>\n      <td>The Iron Throne</td>\n      <td>man</td>\n      <td>The Queen in the North!</td>\n      <td>5</td>\n    </tr>\n    <tr>\n      <th>23910</th>\n      <td>2019/5/19</td>\n      <td>Season 8</td>\n      <td>Episode 6</td>\n      <td>The Iron Throne</td>\n      <td>all</td>\n      <td>The Queen in the North! The Queen in the North...</td>\n      <td>25</td>\n    </tr>\n  </tbody>\n</table>\n<p>23911 rows × 7 columns</p>\n</div>"
     },
     "execution_count": 49,
     "metadata": {},
     "output_type": "execute_result"
    }
   ],
   "source": [
    "# 9.每句话多少个单词\n",
    "df['单词数'] = df['台词'].apply(lambda x: len(x.split()))\n",
    "df"
   ],
   "metadata": {
    "collapsed": false,
    "pycharm": {
     "name": "#%%\n"
    }
   }
  },
  {
   "cell_type": "code",
   "execution_count": 50,
   "outputs": [
    {
     "data": {
      "text/plain": "            播放日期         季          集               集标题                角色  \\\n0      2011/4/17  Season 1  Episode 1  Winter is Coming      waymar royce   \n1      2011/4/17  Season 1  Episode 1  Winter is Coming              will   \n2      2011/4/17  Season 1  Episode 1  Winter is Coming      waymar royce   \n3      2011/4/17  Season 1  Episode 1  Winter is Coming              will   \n4      2011/4/17  Season 1  Episode 1  Winter is Coming             gared   \n...          ...       ...        ...               ...               ...   \n23906  2019/5/19  Season 8  Episode 6   The Iron Throne           brienne   \n23907  2019/5/19  Season 8  Episode 6   The Iron Throne             bronn   \n23908  2019/5/19  Season 8  Episode 6   The Iron Throne  tyrion lannister   \n23909  2019/5/19  Season 8  Episode 6   The Iron Throne               man   \n23910  2019/5/19  Season 8  Episode 6   The Iron Throne               all   \n\n                                                      台词  单词数  Words  \n0      What do you expect? They're savages. One lot s...   25    137  \n1      I've never seen wildlings do a thing like this...   21    103  \n2                                 How close did you get?    5     22  \n3                                Close as any man would.    5     23  \n4                       We should head back to the wall.    7     32  \n...                                                  ...  ...    ...  \n23906  I think we can all agree that ships take prece...   12     66  \n23907      I think that's a very presumptuous statement.    7     45  \n23908  I once brought a jackass and a honeycomb into ...   11     56  \n23909                            The Queen in the North!    5     23  \n23910  The Queen in the North! The Queen in the North...   25    119  \n\n[23911 rows x 8 columns]",
      "text/html": "<div>\n<style scoped>\n    .dataframe tbody tr th:only-of-type {\n        vertical-align: middle;\n    }\n\n    .dataframe tbody tr th {\n        vertical-align: top;\n    }\n\n    .dataframe thead th {\n        text-align: right;\n    }\n</style>\n<table border=\"1\" class=\"dataframe\">\n  <thead>\n    <tr style=\"text-align: right;\">\n      <th></th>\n      <th>播放日期</th>\n      <th>季</th>\n      <th>集</th>\n      <th>集标题</th>\n      <th>角色</th>\n      <th>台词</th>\n      <th>单词数</th>\n      <th>Words</th>\n    </tr>\n  </thead>\n  <tbody>\n    <tr>\n      <th>0</th>\n      <td>2011/4/17</td>\n      <td>Season 1</td>\n      <td>Episode 1</td>\n      <td>Winter is Coming</td>\n      <td>waymar royce</td>\n      <td>What do you expect? They're savages. One lot s...</td>\n      <td>25</td>\n      <td>137</td>\n    </tr>\n    <tr>\n      <th>1</th>\n      <td>2011/4/17</td>\n      <td>Season 1</td>\n      <td>Episode 1</td>\n      <td>Winter is Coming</td>\n      <td>will</td>\n      <td>I've never seen wildlings do a thing like this...</td>\n      <td>21</td>\n      <td>103</td>\n    </tr>\n    <tr>\n      <th>2</th>\n      <td>2011/4/17</td>\n      <td>Season 1</td>\n      <td>Episode 1</td>\n      <td>Winter is Coming</td>\n      <td>waymar royce</td>\n      <td>How close did you get?</td>\n      <td>5</td>\n      <td>22</td>\n    </tr>\n    <tr>\n      <th>3</th>\n      <td>2011/4/17</td>\n      <td>Season 1</td>\n      <td>Episode 1</td>\n      <td>Winter is Coming</td>\n      <td>will</td>\n      <td>Close as any man would.</td>\n      <td>5</td>\n      <td>23</td>\n    </tr>\n    <tr>\n      <th>4</th>\n      <td>2011/4/17</td>\n      <td>Season 1</td>\n      <td>Episode 1</td>\n      <td>Winter is Coming</td>\n      <td>gared</td>\n      <td>We should head back to the wall.</td>\n      <td>7</td>\n      <td>32</td>\n    </tr>\n    <tr>\n      <th>...</th>\n      <td>...</td>\n      <td>...</td>\n      <td>...</td>\n      <td>...</td>\n      <td>...</td>\n      <td>...</td>\n      <td>...</td>\n      <td>...</td>\n    </tr>\n    <tr>\n      <th>23906</th>\n      <td>2019/5/19</td>\n      <td>Season 8</td>\n      <td>Episode 6</td>\n      <td>The Iron Throne</td>\n      <td>brienne</td>\n      <td>I think we can all agree that ships take prece...</td>\n      <td>12</td>\n      <td>66</td>\n    </tr>\n    <tr>\n      <th>23907</th>\n      <td>2019/5/19</td>\n      <td>Season 8</td>\n      <td>Episode 6</td>\n      <td>The Iron Throne</td>\n      <td>bronn</td>\n      <td>I think that's a very presumptuous statement.</td>\n      <td>7</td>\n      <td>45</td>\n    </tr>\n    <tr>\n      <th>23908</th>\n      <td>2019/5/19</td>\n      <td>Season 8</td>\n      <td>Episode 6</td>\n      <td>The Iron Throne</td>\n      <td>tyrion lannister</td>\n      <td>I once brought a jackass and a honeycomb into ...</td>\n      <td>11</td>\n      <td>56</td>\n    </tr>\n    <tr>\n      <th>23909</th>\n      <td>2019/5/19</td>\n      <td>Season 8</td>\n      <td>Episode 6</td>\n      <td>The Iron Throne</td>\n      <td>man</td>\n      <td>The Queen in the North!</td>\n      <td>5</td>\n      <td>23</td>\n    </tr>\n    <tr>\n      <th>23910</th>\n      <td>2019/5/19</td>\n      <td>Season 8</td>\n      <td>Episode 6</td>\n      <td>The Iron Throne</td>\n      <td>all</td>\n      <td>The Queen in the North! The Queen in the North...</td>\n      <td>25</td>\n      <td>119</td>\n    </tr>\n  </tbody>\n</table>\n<p>23911 rows × 8 columns</p>\n</div>"
     },
     "execution_count": 50,
     "metadata": {},
     "output_type": "execute_result"
    }
   ],
   "source": [
    "# 10.将Words作为一列插入DataFrame中\n",
    "df['Words'] = df['台词'].apply(lambda x: len(x))\n",
    "df"
   ],
   "metadata": {
    "collapsed": false,
    "pycharm": {
     "name": "#%%\n"
    }
   }
  },
  {
   "cell_type": "code",
   "execution_count": 51,
   "outputs": [
    {
     "data": {
      "text/plain": "            播放日期         季          集               集标题                角色  \\\n0      2011/4/17  Season 1  Episode 1  Winter is Coming      waymar royce   \n1      2011/4/17  Season 1  Episode 1  Winter is Coming              will   \n2      2011/4/17  Season 1  Episode 1  Winter is Coming      waymar royce   \n3      2011/4/17  Season 1  Episode 1  Winter is Coming              will   \n4      2011/4/17  Season 1  Episode 1  Winter is Coming             gared   \n...          ...       ...        ...               ...               ...   \n23906  2019/5/19  Season 8  Episode 6   The Iron Throne           brienne   \n23907  2019/5/19  Season 8  Episode 6   The Iron Throne             bronn   \n23908  2019/5/19  Season 8  Episode 6   The Iron Throne  tyrion lannister   \n23909  2019/5/19  Season 8  Episode 6   The Iron Throne               man   \n23910  2019/5/19  Season 8  Episode 6   The Iron Throne               all   \n\n                                                      台词  单词数  Words  \n0      What do you expect? They're savages. One lot s...   25    137  \n1      I've never seen wildlings do a thing like this...   21    103  \n2                                 How close did you get?    5     22  \n3                                Close as any man would.    5     23  \n4                       We should head back to the wall.    7     32  \n...                                                  ...  ...    ...  \n23906  I think we can all agree that ships take prece...   12     66  \n23907      I think that's a very presumptuous statement.    7     45  \n23908  I once brought a jackass and a honeycomb into ...   11     56  \n23909                            The Queen in the North!    5     23  \n23910  The Queen in the North! The Queen in the North...   25    119  \n\n[23911 rows x 8 columns]",
      "text/html": "<div>\n<style scoped>\n    .dataframe tbody tr th:only-of-type {\n        vertical-align: middle;\n    }\n\n    .dataframe tbody tr th {\n        vertical-align: top;\n    }\n\n    .dataframe thead th {\n        text-align: right;\n    }\n</style>\n<table border=\"1\" class=\"dataframe\">\n  <thead>\n    <tr style=\"text-align: right;\">\n      <th></th>\n      <th>播放日期</th>\n      <th>季</th>\n      <th>集</th>\n      <th>集标题</th>\n      <th>角色</th>\n      <th>台词</th>\n      <th>单词数</th>\n      <th>Words</th>\n    </tr>\n  </thead>\n  <tbody>\n    <tr>\n      <th>0</th>\n      <td>2011/4/17</td>\n      <td>Season 1</td>\n      <td>Episode 1</td>\n      <td>Winter is Coming</td>\n      <td>waymar royce</td>\n      <td>What do you expect? They're savages. One lot s...</td>\n      <td>25</td>\n      <td>137</td>\n    </tr>\n    <tr>\n      <th>1</th>\n      <td>2011/4/17</td>\n      <td>Season 1</td>\n      <td>Episode 1</td>\n      <td>Winter is Coming</td>\n      <td>will</td>\n      <td>I've never seen wildlings do a thing like this...</td>\n      <td>21</td>\n      <td>103</td>\n    </tr>\n    <tr>\n      <th>2</th>\n      <td>2011/4/17</td>\n      <td>Season 1</td>\n      <td>Episode 1</td>\n      <td>Winter is Coming</td>\n      <td>waymar royce</td>\n      <td>How close did you get?</td>\n      <td>5</td>\n      <td>22</td>\n    </tr>\n    <tr>\n      <th>3</th>\n      <td>2011/4/17</td>\n      <td>Season 1</td>\n      <td>Episode 1</td>\n      <td>Winter is Coming</td>\n      <td>will</td>\n      <td>Close as any man would.</td>\n      <td>5</td>\n      <td>23</td>\n    </tr>\n    <tr>\n      <th>4</th>\n      <td>2011/4/17</td>\n      <td>Season 1</td>\n      <td>Episode 1</td>\n      <td>Winter is Coming</td>\n      <td>gared</td>\n      <td>We should head back to the wall.</td>\n      <td>7</td>\n      <td>32</td>\n    </tr>\n    <tr>\n      <th>...</th>\n      <td>...</td>\n      <td>...</td>\n      <td>...</td>\n      <td>...</td>\n      <td>...</td>\n      <td>...</td>\n      <td>...</td>\n      <td>...</td>\n    </tr>\n    <tr>\n      <th>23906</th>\n      <td>2019/5/19</td>\n      <td>Season 8</td>\n      <td>Episode 6</td>\n      <td>The Iron Throne</td>\n      <td>brienne</td>\n      <td>I think we can all agree that ships take prece...</td>\n      <td>12</td>\n      <td>66</td>\n    </tr>\n    <tr>\n      <th>23907</th>\n      <td>2019/5/19</td>\n      <td>Season 8</td>\n      <td>Episode 6</td>\n      <td>The Iron Throne</td>\n      <td>bronn</td>\n      <td>I think that's a very presumptuous statement.</td>\n      <td>7</td>\n      <td>45</td>\n    </tr>\n    <tr>\n      <th>23908</th>\n      <td>2019/5/19</td>\n      <td>Season 8</td>\n      <td>Episode 6</td>\n      <td>The Iron Throne</td>\n      <td>tyrion lannister</td>\n      <td>I once brought a jackass and a honeycomb into ...</td>\n      <td>11</td>\n      <td>56</td>\n    </tr>\n    <tr>\n      <th>23909</th>\n      <td>2019/5/19</td>\n      <td>Season 8</td>\n      <td>Episode 6</td>\n      <td>The Iron Throne</td>\n      <td>man</td>\n      <td>The Queen in the North!</td>\n      <td>5</td>\n      <td>23</td>\n    </tr>\n    <tr>\n      <th>23910</th>\n      <td>2019/5/19</td>\n      <td>Season 8</td>\n      <td>Episode 6</td>\n      <td>The Iron Throne</td>\n      <td>all</td>\n      <td>The Queen in the North! The Queen in the North...</td>\n      <td>25</td>\n      <td>119</td>\n    </tr>\n  </tbody>\n</table>\n<p>23911 rows × 8 columns</p>\n</div>"
     },
     "execution_count": 51,
     "metadata": {},
     "output_type": "execute_result"
    }
   ],
   "source": [
    "# 11.将季里面Season 1切换成第一季,并输出DataFrame\n",
    "df['集'] = df['集'].apply(lambda x: x.replace('Season 1', '第一季'))\n",
    "df"
   ],
   "metadata": {
    "collapsed": false,
    "pycharm": {
     "name": "#%%\n"
    }
   }
  },
  {
   "cell_type": "code",
   "execution_count": 53,
   "outputs": [
    {
     "ename": "TypeError",
     "evalue": "replace() argument 1 must be str, not list",
     "output_type": "error",
     "traceback": [
      "\u001B[1;31m---------------------------------------------------------------------------\u001B[0m",
      "\u001B[1;31mTypeError\u001B[0m                                 Traceback (most recent call last)",
      "Cell \u001B[1;32mIn [53], line 3\u001B[0m\n\u001B[0;32m      1\u001B[0m \u001B[38;5;66;03m# 12.将季里面Season 1切换成第一季, Season 8切换成第八季,并输出DataFrame\u001B[39;00m\n\u001B[0;32m      2\u001B[0m \u001B[38;5;66;03m# df['集'] = df['集'].apply(lambda x: x.replace('Season 1', '第一季').replace('Season 8', '第八季'))\u001B[39;00m\n\u001B[1;32m----> 3\u001B[0m df[\u001B[38;5;124m'\u001B[39m\u001B[38;5;124m集\u001B[39m\u001B[38;5;124m'\u001B[39m] \u001B[38;5;241m=\u001B[39m \u001B[43mdf\u001B[49m\u001B[43m[\u001B[49m\u001B[38;5;124;43m'\u001B[39;49m\u001B[38;5;124;43m集\u001B[39;49m\u001B[38;5;124;43m'\u001B[39;49m\u001B[43m]\u001B[49m\u001B[38;5;241;43m.\u001B[39;49m\u001B[43mapply\u001B[49m\u001B[43m(\u001B[49m\u001B[38;5;28;43;01mlambda\u001B[39;49;00m\u001B[43m \u001B[49m\u001B[43mx\u001B[49m\u001B[43m:\u001B[49m\u001B[43m \u001B[49m\u001B[43mx\u001B[49m\u001B[38;5;241;43m.\u001B[39;49m\u001B[43mreplace\u001B[49m\u001B[43m(\u001B[49m\u001B[43m[\u001B[49m\u001B[38;5;124;43m'\u001B[39;49m\u001B[38;5;124;43mSeason 1\u001B[39;49m\u001B[38;5;124;43m'\u001B[39;49m\u001B[43m,\u001B[49m\u001B[43m \u001B[49m\u001B[38;5;124;43m'\u001B[39;49m\u001B[38;5;124;43m第一季\u001B[39;49m\u001B[38;5;124;43m'\u001B[39;49m\u001B[43m]\u001B[49m\u001B[43m,\u001B[49m\u001B[43m[\u001B[49m\u001B[38;5;124;43m'\u001B[39;49m\u001B[38;5;124;43mSeason 8\u001B[39;49m\u001B[38;5;124;43m'\u001B[39;49m\u001B[43m,\u001B[49m\u001B[43m \u001B[49m\u001B[38;5;124;43m'\u001B[39;49m\u001B[38;5;124;43m第八季\u001B[39;49m\u001B[38;5;124;43m'\u001B[39;49m\u001B[43m]\u001B[49m\u001B[43m)\u001B[49m\u001B[43m)\u001B[49m\n\u001B[0;32m      4\u001B[0m df\n",
      "File \u001B[1;32mD:\\Bing_John\\AppData\\Local\\Programs\\Python\\Python310\\lib\\site-packages\\pandas\\core\\series.py:4433\u001B[0m, in \u001B[0;36mSeries.apply\u001B[1;34m(self, func, convert_dtype, args, **kwargs)\u001B[0m\n\u001B[0;32m   4323\u001B[0m \u001B[38;5;28;01mdef\u001B[39;00m \u001B[38;5;21mapply\u001B[39m(\n\u001B[0;32m   4324\u001B[0m     \u001B[38;5;28mself\u001B[39m,\n\u001B[0;32m   4325\u001B[0m     func: AggFuncType,\n\u001B[1;32m   (...)\u001B[0m\n\u001B[0;32m   4328\u001B[0m     \u001B[38;5;241m*\u001B[39m\u001B[38;5;241m*\u001B[39mkwargs,\n\u001B[0;32m   4329\u001B[0m ) \u001B[38;5;241m-\u001B[39m\u001B[38;5;241m>\u001B[39m DataFrame \u001B[38;5;241m|\u001B[39m Series:\n\u001B[0;32m   4330\u001B[0m     \u001B[38;5;124;03m\"\"\"\u001B[39;00m\n\u001B[0;32m   4331\u001B[0m \u001B[38;5;124;03m    Invoke function on values of Series.\u001B[39;00m\n\u001B[0;32m   4332\u001B[0m \n\u001B[1;32m   (...)\u001B[0m\n\u001B[0;32m   4431\u001B[0m \u001B[38;5;124;03m    dtype: float64\u001B[39;00m\n\u001B[0;32m   4432\u001B[0m \u001B[38;5;124;03m    \"\"\"\u001B[39;00m\n\u001B[1;32m-> 4433\u001B[0m     \u001B[38;5;28;01mreturn\u001B[39;00m \u001B[43mSeriesApply\u001B[49m\u001B[43m(\u001B[49m\u001B[38;5;28;43mself\u001B[39;49m\u001B[43m,\u001B[49m\u001B[43m \u001B[49m\u001B[43mfunc\u001B[49m\u001B[43m,\u001B[49m\u001B[43m \u001B[49m\u001B[43mconvert_dtype\u001B[49m\u001B[43m,\u001B[49m\u001B[43m \u001B[49m\u001B[43margs\u001B[49m\u001B[43m,\u001B[49m\u001B[43m \u001B[49m\u001B[43mkwargs\u001B[49m\u001B[43m)\u001B[49m\u001B[38;5;241;43m.\u001B[39;49m\u001B[43mapply\u001B[49m\u001B[43m(\u001B[49m\u001B[43m)\u001B[49m\n",
      "File \u001B[1;32mD:\\Bing_John\\AppData\\Local\\Programs\\Python\\Python310\\lib\\site-packages\\pandas\\core\\apply.py:1088\u001B[0m, in \u001B[0;36mSeriesApply.apply\u001B[1;34m(self)\u001B[0m\n\u001B[0;32m   1084\u001B[0m \u001B[38;5;28;01mif\u001B[39;00m \u001B[38;5;28misinstance\u001B[39m(\u001B[38;5;28mself\u001B[39m\u001B[38;5;241m.\u001B[39mf, \u001B[38;5;28mstr\u001B[39m):\n\u001B[0;32m   1085\u001B[0m     \u001B[38;5;66;03m# if we are a string, try to dispatch\u001B[39;00m\n\u001B[0;32m   1086\u001B[0m     \u001B[38;5;28;01mreturn\u001B[39;00m \u001B[38;5;28mself\u001B[39m\u001B[38;5;241m.\u001B[39mapply_str()\n\u001B[1;32m-> 1088\u001B[0m \u001B[38;5;28;01mreturn\u001B[39;00m \u001B[38;5;28;43mself\u001B[39;49m\u001B[38;5;241;43m.\u001B[39;49m\u001B[43mapply_standard\u001B[49m\u001B[43m(\u001B[49m\u001B[43m)\u001B[49m\n",
      "File \u001B[1;32mD:\\Bing_John\\AppData\\Local\\Programs\\Python\\Python310\\lib\\site-packages\\pandas\\core\\apply.py:1143\u001B[0m, in \u001B[0;36mSeriesApply.apply_standard\u001B[1;34m(self)\u001B[0m\n\u001B[0;32m   1137\u001B[0m         values \u001B[38;5;241m=\u001B[39m obj\u001B[38;5;241m.\u001B[39mastype(\u001B[38;5;28mobject\u001B[39m)\u001B[38;5;241m.\u001B[39m_values\n\u001B[0;32m   1138\u001B[0m         \u001B[38;5;66;03m# error: Argument 2 to \"map_infer\" has incompatible type\u001B[39;00m\n\u001B[0;32m   1139\u001B[0m         \u001B[38;5;66;03m# \"Union[Callable[..., Any], str, List[Union[Callable[..., Any], str]],\u001B[39;00m\n\u001B[0;32m   1140\u001B[0m         \u001B[38;5;66;03m# Dict[Hashable, Union[Union[Callable[..., Any], str],\u001B[39;00m\n\u001B[0;32m   1141\u001B[0m         \u001B[38;5;66;03m# List[Union[Callable[..., Any], str]]]]]\"; expected\u001B[39;00m\n\u001B[0;32m   1142\u001B[0m         \u001B[38;5;66;03m# \"Callable[[Any], Any]\"\u001B[39;00m\n\u001B[1;32m-> 1143\u001B[0m         mapped \u001B[38;5;241m=\u001B[39m \u001B[43mlib\u001B[49m\u001B[38;5;241;43m.\u001B[39;49m\u001B[43mmap_infer\u001B[49m\u001B[43m(\u001B[49m\n\u001B[0;32m   1144\u001B[0m \u001B[43m            \u001B[49m\u001B[43mvalues\u001B[49m\u001B[43m,\u001B[49m\n\u001B[0;32m   1145\u001B[0m \u001B[43m            \u001B[49m\u001B[43mf\u001B[49m\u001B[43m,\u001B[49m\u001B[43m  \u001B[49m\u001B[38;5;66;43;03m# type: ignore[arg-type]\u001B[39;49;00m\n\u001B[0;32m   1146\u001B[0m \u001B[43m            \u001B[49m\u001B[43mconvert\u001B[49m\u001B[38;5;241;43m=\u001B[39;49m\u001B[38;5;28;43mself\u001B[39;49m\u001B[38;5;241;43m.\u001B[39;49m\u001B[43mconvert_dtype\u001B[49m\u001B[43m,\u001B[49m\n\u001B[0;32m   1147\u001B[0m \u001B[43m        \u001B[49m\u001B[43m)\u001B[49m\n\u001B[0;32m   1149\u001B[0m \u001B[38;5;28;01mif\u001B[39;00m \u001B[38;5;28mlen\u001B[39m(mapped) \u001B[38;5;129;01mand\u001B[39;00m \u001B[38;5;28misinstance\u001B[39m(mapped[\u001B[38;5;241m0\u001B[39m], ABCSeries):\n\u001B[0;32m   1150\u001B[0m     \u001B[38;5;66;03m# GH#43986 Need to do list(mapped) in order to get treated as nested\u001B[39;00m\n\u001B[0;32m   1151\u001B[0m     \u001B[38;5;66;03m#  See also GH#25959 regarding EA support\u001B[39;00m\n\u001B[0;32m   1152\u001B[0m     \u001B[38;5;28;01mreturn\u001B[39;00m obj\u001B[38;5;241m.\u001B[39m_constructor_expanddim(\u001B[38;5;28mlist\u001B[39m(mapped), index\u001B[38;5;241m=\u001B[39mobj\u001B[38;5;241m.\u001B[39mindex)\n",
      "File \u001B[1;32mD:\\Bing_John\\AppData\\Local\\Programs\\Python\\Python310\\lib\\site-packages\\pandas\\_libs\\lib.pyx:2870\u001B[0m, in \u001B[0;36mpandas._libs.lib.map_infer\u001B[1;34m()\u001B[0m\n",
      "Cell \u001B[1;32mIn [53], line 3\u001B[0m, in \u001B[0;36m<lambda>\u001B[1;34m(x)\u001B[0m\n\u001B[0;32m      1\u001B[0m \u001B[38;5;66;03m# 12.将季里面Season 1切换成第一季, Season 8切换成第八季,并输出DataFrame\u001B[39;00m\n\u001B[0;32m      2\u001B[0m \u001B[38;5;66;03m# df['集'] = df['集'].apply(lambda x: x.replace('Season 1', '第一季').replace('Season 8', '第八季'))\u001B[39;00m\n\u001B[1;32m----> 3\u001B[0m df[\u001B[38;5;124m'\u001B[39m\u001B[38;5;124m集\u001B[39m\u001B[38;5;124m'\u001B[39m] \u001B[38;5;241m=\u001B[39m df[\u001B[38;5;124m'\u001B[39m\u001B[38;5;124m集\u001B[39m\u001B[38;5;124m'\u001B[39m]\u001B[38;5;241m.\u001B[39mapply(\u001B[38;5;28;01mlambda\u001B[39;00m x: \u001B[43mx\u001B[49m\u001B[38;5;241;43m.\u001B[39;49m\u001B[43mreplace\u001B[49m\u001B[43m(\u001B[49m\u001B[43m[\u001B[49m\u001B[38;5;124;43m'\u001B[39;49m\u001B[38;5;124;43mSeason 1\u001B[39;49m\u001B[38;5;124;43m'\u001B[39;49m\u001B[43m,\u001B[49m\u001B[43m \u001B[49m\u001B[38;5;124;43m'\u001B[39;49m\u001B[38;5;124;43m第一季\u001B[39;49m\u001B[38;5;124;43m'\u001B[39;49m\u001B[43m]\u001B[49m\u001B[43m,\u001B[49m\u001B[43m[\u001B[49m\u001B[38;5;124;43m'\u001B[39;49m\u001B[38;5;124;43mSeason 8\u001B[39;49m\u001B[38;5;124;43m'\u001B[39;49m\u001B[43m,\u001B[49m\u001B[43m \u001B[49m\u001B[38;5;124;43m'\u001B[39;49m\u001B[38;5;124;43m第八季\u001B[39;49m\u001B[38;5;124;43m'\u001B[39;49m\u001B[43m]\u001B[49m\u001B[43m)\u001B[49m)\n\u001B[0;32m      4\u001B[0m df\n",
      "\u001B[1;31mTypeError\u001B[0m: replace() argument 1 must be str, not list"
     ]
    }
   ],
   "source": [
    "# 12.将季里面Season 1切换成第一季, Season 8切换成第八季,并输出DataFrame\n",
    "# df['集'] = df['集'].apply(lambda x: x.replace('Season 1', '第一季').replace('Season 8', '第八季'))\n",
    "df['集'] = df['集'].apply(lambda x: x.replace(['Season 1', '第一季'],['Season 8', '第八季']))\n",
    "df"
   ],
   "metadata": {
    "collapsed": false,
    "pycharm": {
     "name": "#%%\n"
    }
   }
  }
 ],
 "metadata": {
  "kernelspec": {
   "display_name": "Python 3",
   "language": "python",
   "name": "python3"
  },
  "language_info": {
   "codemirror_mode": {
    "name": "ipython",
    "version": 2
   },
   "file_extension": ".py",
   "mimetype": "text/x-python",
   "name": "python",
   "nbconvert_exporter": "python",
   "pygments_lexer": "ipython2",
   "version": "2.7.6"
  }
 },
 "nbformat": 4,
 "nbformat_minor": 0
}