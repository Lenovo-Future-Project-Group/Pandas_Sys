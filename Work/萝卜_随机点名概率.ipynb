{
 "cells": [
  {
   "cell_type": "code",
   "execution_count": 45,
   "outputs": [],
   "source": [
    "import random\n",
    "import pandas as pd"
   ],
   "metadata": {
    "collapsed": false,
    "pycharm": {
     "name": "#%%\n"
    }
   }
  },
  {
   "cell_type": "code",
   "execution_count": 46,
   "outputs": [],
   "source": [
    "s = ['崔昊元', '贾靖程', '吴俊岳',\n",
    "     '王浩羽', '吕梦丽', '李博远',\n",
    "     '牛皓冬', '张阔', '孙佳奇', '郑佳睦',\n",
    "     '王孝天', '付一鸣', '李蓉轩', '陈观绅',\n",
    "     '赵鑫博', '张子豪', '叶平']"
   ],
   "metadata": {
    "collapsed": false,
    "pycharm": {
     "name": "#%%\n"
    }
   }
  },
  {
   "cell_type": "code",
   "execution_count": 47,
   "outputs": [],
   "source": [
    "# 使用random.choice()随机点名500次并使用dataframe记录概率，每个人被点到的次数"
   ],
   "metadata": {
    "collapsed": false,
    "pycharm": {
     "name": "#%%\n"
    }
   }
  },
  {
   "cell_type": "code",
   "execution_count": 48,
   "outputs": [],
   "source": [
    "def get_student_probabilities(stu, num):\n",
    "     # stu: 学生列表 num: 点名次数\n",
    "\n",
    "     stu_df = pd.DataFrame(stu, columns=['名字'])\n",
    "\n",
    "     # 计算每个人被点到的次数，使用一列插入到dataframe中\n",
    "     stu_df['次数'] = [0] * len(stu)\n",
    "     for i in range(num):\n",
    "         stu_df['次数'][stu.index(random.choice(stu))] += 1\n",
    "\n",
    "     # 计算每个人被点到的概率，使用另一列插入到dataframe中\n",
    "     stu_df['概率'] = stu_df['次数'] / num\n",
    "\n",
    "     # 计算每个人被点到的误差，使用另一列插入到dataframe中\n",
    "     stu_df['误差'] = stu_df['概率'] - 1 / len(stu)\n",
    "\n",
    "     return stu_df\n",
    "     \n",
    "     while True:\n",
    "         print(random.choice(s))\n",
    "         if input('q结束，其他键回车继续') == 'q':\n",
    "             break"
   ],
   "metadata": {
    "collapsed": false,
    "pycharm": {
     "name": "#%%\n"
    }
   }
  },
  {
   "cell_type": "code",
   "execution_count": 49,
   "outputs": [
    {
     "name": "stderr",
     "output_type": "stream",
     "text": [
      "C:\\Users\\Bing_John\\AppData\\Local\\Temp\\ipykernel_13556\\2031640698.py:9: SettingWithCopyWarning: \n",
      "A value is trying to be set on a copy of a slice from a DataFrame\n",
      "\n",
      "See the caveats in the documentation: https://pandas.pydata.org/pandas-docs/stable/user_guide/indexing.html#returning-a-view-versus-a-copy\n",
      "  stu_df['次数'][stu.index(random.choice(stu))] += 1\n"
     ]
    },
    {
     "data": {
      "text/plain": "     名字  次数     概率        误差\n0   崔昊元  33  0.066  0.007176\n1   贾靖程  30  0.060  0.001176\n2   吴俊岳  35  0.070  0.011176\n3   王浩羽  33  0.066  0.007176\n4   吕梦丽  30  0.060  0.001176\n5   李博远  24  0.048 -0.010824\n6   牛皓冬  29  0.058 -0.000824\n7    张阔  31  0.062  0.003176\n8   孙佳奇  21  0.042 -0.016824\n9   郑佳睦  31  0.062  0.003176\n10  王孝天  29  0.058 -0.000824\n11  付一鸣  27  0.054 -0.004824\n12  李蓉轩  19  0.038 -0.020824\n13  陈观绅  38  0.076  0.017176\n14  赵鑫博  31  0.062  0.003176\n15  张子豪  26  0.052 -0.006824\n16   叶平  33  0.066  0.007176",
      "text/html": "<div>\n<style scoped>\n    .dataframe tbody tr th:only-of-type {\n        vertical-align: middle;\n    }\n\n    .dataframe tbody tr th {\n        vertical-align: top;\n    }\n\n    .dataframe thead th {\n        text-align: right;\n    }\n</style>\n<table border=\"1\" class=\"dataframe\">\n  <thead>\n    <tr style=\"text-align: right;\">\n      <th></th>\n      <th>名字</th>\n      <th>次数</th>\n      <th>概率</th>\n      <th>误差</th>\n    </tr>\n  </thead>\n  <tbody>\n    <tr>\n      <th>0</th>\n      <td>崔昊元</td>\n      <td>33</td>\n      <td>0.066</td>\n      <td>0.007176</td>\n    </tr>\n    <tr>\n      <th>1</th>\n      <td>贾靖程</td>\n      <td>30</td>\n      <td>0.060</td>\n      <td>0.001176</td>\n    </tr>\n    <tr>\n      <th>2</th>\n      <td>吴俊岳</td>\n      <td>35</td>\n      <td>0.070</td>\n      <td>0.011176</td>\n    </tr>\n    <tr>\n      <th>3</th>\n      <td>王浩羽</td>\n      <td>33</td>\n      <td>0.066</td>\n      <td>0.007176</td>\n    </tr>\n    <tr>\n      <th>4</th>\n      <td>吕梦丽</td>\n      <td>30</td>\n      <td>0.060</td>\n      <td>0.001176</td>\n    </tr>\n    <tr>\n      <th>5</th>\n      <td>李博远</td>\n      <td>24</td>\n      <td>0.048</td>\n      <td>-0.010824</td>\n    </tr>\n    <tr>\n      <th>6</th>\n      <td>牛皓冬</td>\n      <td>29</td>\n      <td>0.058</td>\n      <td>-0.000824</td>\n    </tr>\n    <tr>\n      <th>7</th>\n      <td>张阔</td>\n      <td>31</td>\n      <td>0.062</td>\n      <td>0.003176</td>\n    </tr>\n    <tr>\n      <th>8</th>\n      <td>孙佳奇</td>\n      <td>21</td>\n      <td>0.042</td>\n      <td>-0.016824</td>\n    </tr>\n    <tr>\n      <th>9</th>\n      <td>郑佳睦</td>\n      <td>31</td>\n      <td>0.062</td>\n      <td>0.003176</td>\n    </tr>\n    <tr>\n      <th>10</th>\n      <td>王孝天</td>\n      <td>29</td>\n      <td>0.058</td>\n      <td>-0.000824</td>\n    </tr>\n    <tr>\n      <th>11</th>\n      <td>付一鸣</td>\n      <td>27</td>\n      <td>0.054</td>\n      <td>-0.004824</td>\n    </tr>\n    <tr>\n      <th>12</th>\n      <td>李蓉轩</td>\n      <td>19</td>\n      <td>0.038</td>\n      <td>-0.020824</td>\n    </tr>\n    <tr>\n      <th>13</th>\n      <td>陈观绅</td>\n      <td>38</td>\n      <td>0.076</td>\n      <td>0.017176</td>\n    </tr>\n    <tr>\n      <th>14</th>\n      <td>赵鑫博</td>\n      <td>31</td>\n      <td>0.062</td>\n      <td>0.003176</td>\n    </tr>\n    <tr>\n      <th>15</th>\n      <td>张子豪</td>\n      <td>26</td>\n      <td>0.052</td>\n      <td>-0.006824</td>\n    </tr>\n    <tr>\n      <th>16</th>\n      <td>叶平</td>\n      <td>33</td>\n      <td>0.066</td>\n      <td>0.007176</td>\n    </tr>\n  </tbody>\n</table>\n</div>"
     },
     "execution_count": 49,
     "metadata": {},
     "output_type": "execute_result"
    }
   ],
   "source": [
    "df = get_student_probabilities(s, 500)\n",
    "\n",
    "df"
   ],
   "metadata": {
    "collapsed": false,
    "pycharm": {
     "name": "#%%\n"
    }
   }
  }
 ],
 "metadata": {
  "kernelspec": {
   "display_name": "Python 3",
   "language": "python",
   "name": "python3"
  },
  "language_info": {
   "codemirror_mode": {
    "name": "ipython",
    "version": 2
   },
   "file_extension": ".py",
   "mimetype": "text/x-python",
   "name": "python",
   "nbconvert_exporter": "python",
   "pygments_lexer": "ipython2",
   "version": "2.7.6"
  }
 },
 "nbformat": 4,
 "nbformat_minor": 0
}