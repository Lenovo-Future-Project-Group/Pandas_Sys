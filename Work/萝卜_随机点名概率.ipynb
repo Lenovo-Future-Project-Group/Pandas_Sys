{
 "cells": [
  {
   "cell_type": "code",
   "execution_count": 7,
   "outputs": [],
   "source": [
    "import random\n",
    "import pandas as pd"
   ],
   "metadata": {
    "collapsed": false,
    "pycharm": {
     "name": "#%%\n"
    }
   }
  },
  {
   "cell_type": "code",
   "execution_count": 8,
   "outputs": [],
   "source": [
    "s = ['崔昊元', '贾靖程', '吴俊岳',\n",
    "     '王浩羽', '吕梦丽', '李博远',\n",
    "     '牛皓冬', '张阔', '孙佳奇', '郑佳睦',\n",
    "     '王孝天', '付一鸣', '李蓉轩', '陈观绅',\n",
    "     '赵鑫博', '张子豪', '叶平']"
   ],
   "metadata": {
    "collapsed": false,
    "pycharm": {
     "name": "#%%\n"
    }
   }
  },
  {
   "cell_type": "code",
   "execution_count": 9,
   "outputs": [],
   "source": [
    "# 使用random.choice()随机点名500次并使用dataframe记录概率，每个人被点到的次数"
   ],
   "metadata": {
    "collapsed": false,
    "pycharm": {
     "name": "#%%\n"
    }
   }
  },
  {
   "cell_type": "code",
   "execution_count": 10,
   "outputs": [],
   "source": [
    "def get_student_probabilities(stu, num):\n",
    "     # stu: 学生列表 num: 点名次数\n",
    "\n",
    "     stu_df = pd.DataFrame(stu, columns=['名字'])\n",
    "\n",
    "     # 计算每个人被点到的次数，使用一列插入到dataframe中\n",
    "     stu_df['次数'] = [0] * len(stu)\n",
    "     for i in range(num):\n",
    "         stu_df['次数'][stu.index(random.choice(stu))] += 1\n",
    "\n",
    "     # 计算每个人被点到的概率，使用另一列插入到dataframe中\n",
    "     stu_df['概率'] = stu_df['次数'] / num\n",
    "\n",
    "     # 计算每个人被点到的误差，使用另一列插入到dataframe中\n",
    "     stu_df['误差'] = stu_df['概率'] - 1 / len(stu)\n",
    "\n",
    "     # 计算每个人被点到的误差的绝对值，使用另一列插入到dataframe中\n",
    "     stu_df['误差绝对值'] = stu_df['误差'].apply(lambda x: abs(x))\n",
    "\n",
    "\n",
    "\n",
    "     return stu_df\n",
    "     \n",
    "     while True:\n",
    "         print(random.choice(s))\n",
    "         if input('q结束，其他键回车继续') == 'q':\n",
    "             break"
   ],
   "metadata": {
    "collapsed": false,
    "pycharm": {
     "name": "#%%\n"
    }
   }
  },
  {
   "cell_type": "code",
   "execution_count": 13,
   "outputs": [
    {
     "name": "stderr",
     "output_type": "stream",
     "text": [
      "C:\\Users\\Bing_John\\AppData\\Local\\Temp\\ipykernel_13556\\4271099504.py:9: SettingWithCopyWarning: \n",
      "A value is trying to be set on a copy of a slice from a DataFrame\n",
      "\n",
      "See the caveats in the documentation: https://pandas.pydata.org/pandas-docs/stable/user_guide/indexing.html#returning-a-view-versus-a-copy\n",
      "  stu_df['次数'][stu.index(random.choice(stu))] += 1\n"
     ]
    },
    {
     "data": {
      "text/plain": "     名字  次数     概率\n0   崔昊元  40  0.080\n1   贾靖程  29  0.058\n2   吴俊岳  22  0.044\n3   王浩羽  28  0.056\n4   吕梦丽  35  0.070\n5   李博远  28  0.056\n6   牛皓冬  31  0.062\n7    张阔  35  0.070\n8   孙佳奇  25  0.050\n9   郑佳睦  26  0.052\n10  王孝天  34  0.068\n11  付一鸣  29  0.058\n12  李蓉轩  25  0.050\n13  陈观绅  23  0.046\n14  赵鑫博  28  0.056\n15  张子豪  37  0.074\n16   叶平  25  0.050",
      "text/html": "<div>\n<style scoped>\n    .dataframe tbody tr th:only-of-type {\n        vertical-align: middle;\n    }\n\n    .dataframe tbody tr th {\n        vertical-align: top;\n    }\n\n    .dataframe thead th {\n        text-align: right;\n    }\n</style>\n<table border=\"1\" class=\"dataframe\">\n  <thead>\n    <tr style=\"text-align: right;\">\n      <th></th>\n      <th>名字</th>\n      <th>次数</th>\n      <th>概率</th>\n    </tr>\n  </thead>\n  <tbody>\n    <tr>\n      <th>0</th>\n      <td>崔昊元</td>\n      <td>40</td>\n      <td>0.080</td>\n    </tr>\n    <tr>\n      <th>1</th>\n      <td>贾靖程</td>\n      <td>29</td>\n      <td>0.058</td>\n    </tr>\n    <tr>\n      <th>2</th>\n      <td>吴俊岳</td>\n      <td>22</td>\n      <td>0.044</td>\n    </tr>\n    <tr>\n      <th>3</th>\n      <td>王浩羽</td>\n      <td>28</td>\n      <td>0.056</td>\n    </tr>\n    <tr>\n      <th>4</th>\n      <td>吕梦丽</td>\n      <td>35</td>\n      <td>0.070</td>\n    </tr>\n    <tr>\n      <th>5</th>\n      <td>李博远</td>\n      <td>28</td>\n      <td>0.056</td>\n    </tr>\n    <tr>\n      <th>6</th>\n      <td>牛皓冬</td>\n      <td>31</td>\n      <td>0.062</td>\n    </tr>\n    <tr>\n      <th>7</th>\n      <td>张阔</td>\n      <td>35</td>\n      <td>0.070</td>\n    </tr>\n    <tr>\n      <th>8</th>\n      <td>孙佳奇</td>\n      <td>25</td>\n      <td>0.050</td>\n    </tr>\n    <tr>\n      <th>9</th>\n      <td>郑佳睦</td>\n      <td>26</td>\n      <td>0.052</td>\n    </tr>\n    <tr>\n      <th>10</th>\n      <td>王孝天</td>\n      <td>34</td>\n      <td>0.068</td>\n    </tr>\n    <tr>\n      <th>11</th>\n      <td>付一鸣</td>\n      <td>29</td>\n      <td>0.058</td>\n    </tr>\n    <tr>\n      <th>12</th>\n      <td>李蓉轩</td>\n      <td>25</td>\n      <td>0.050</td>\n    </tr>\n    <tr>\n      <th>13</th>\n      <td>陈观绅</td>\n      <td>23</td>\n      <td>0.046</td>\n    </tr>\n    <tr>\n      <th>14</th>\n      <td>赵鑫博</td>\n      <td>28</td>\n      <td>0.056</td>\n    </tr>\n    <tr>\n      <th>15</th>\n      <td>张子豪</td>\n      <td>37</td>\n      <td>0.074</td>\n    </tr>\n    <tr>\n      <th>16</th>\n      <td>叶平</td>\n      <td>25</td>\n      <td>0.050</td>\n    </tr>\n  </tbody>\n</table>\n</div>"
     },
     "execution_count": 13,
     "metadata": {},
     "output_type": "execute_result"
    }
   ],
   "source": [
    "df = get_student_probabilities(s, 500)\n",
    "\n",
    "df"
   ],
   "metadata": {
    "collapsed": false,
    "pycharm": {
     "name": "#%%\n"
    }
   }
  }
 ],
 "metadata": {
  "kernelspec": {
   "display_name": "Python 3",
   "language": "python",
   "name": "python3"
  },
  "language_info": {
   "codemirror_mode": {
    "name": "ipython",
    "version": 2
   },
   "file_extension": ".py",
   "mimetype": "text/x-python",
   "name": "python",
   "nbconvert_exporter": "python",
   "pygments_lexer": "ipython2",
   "version": "2.7.6"
  }
 },
 "nbformat": 4,
 "nbformat_minor": 0
}