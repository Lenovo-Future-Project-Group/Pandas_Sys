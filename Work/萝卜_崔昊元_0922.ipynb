{
 "cells": [
  {
   "cell_type": "code",
   "execution_count": 19,
   "metadata": {
    "collapsed": true,
    "pycharm": {
     "name": "#%%\n"
    }
   },
   "outputs": [],
   "source": [
    "import pandas as pd"
   ]
  },
  {
   "cell_type": "code",
   "execution_count": 25,
   "outputs": [
    {
     "data": {
      "text/plain": "        组名          学号   姓名  职业形象  答辩礼仪  沟通表达  团队协作  PPT制作  程序逻辑性  项目阐述  思维导图  \\\n0       萝卜  2020630214  王孝天    10     8     9     8      9     18    14    13   \n1       萝卜  2020630124  张子豪    10     7     7     8      9     17    14    13   \n2       萝卜  2020630201  吴俊岳    10     8     7     8      8     16    13    13   \n3       萝卜  2020630103  崔昊元    10     8     8     8      8     16    13    12   \n4      叶原枫  2020630205  吕梦丽    10     8     9     8      8     18    15    12   \n5      叶原枫  2020630128   叶平    10     7     8     8      8     18    14    13   \n6      叶原枫  2020630216   张阔    10     7     7     8      8     17    13    13   \n7      叶原枫  2020630204  王浩羽    10     7     7     8      8     17    12    13   \n8       黑马  2020630222  李蓉轩    10     9    10     8      9     17    15    14   \n9       黑马  2020630126  赵鑫博    10     7     6     8      9     17    14    12   \n10      黑马  2020630209  郑佳睦    10     8     7     8      9     17    14    12   \n11      黑马  2020630228  陈观绅    10     8     8     9      9     18    14    14   \n12  Styles  2020630221  付一鸣    10     8     8     9      9     20    15    15   \n13  Styles  2020630113  牛皓冬    10     8     8     9      8     18    14    15   \n14  Styles  2020630109  贾靖程    10     8     7     9      8     18    14    15   \n15  Styles  2020630115  孙佳奇    10     8     7     9      8     18    12    15   \n16     挑战组  2020630110  李博远    10     8     7     8      9     19    13    15   \n17     挑战组  2020630206  杨悦昕    10     8     8     8     10     19    14    15   \n\n    综合评价  \n0     89  \n1     85  \n2     83  \n3     83  \n4     88  \n5     86  \n6     83  \n7     82  \n8     92  \n9     83  \n10    85  \n11    90  \n12    94  \n13    90  \n14    89  \n15    87  \n16    89  \n17    92  ",
      "text/html": "<div>\n<style scoped>\n    .dataframe tbody tr th:only-of-type {\n        vertical-align: middle;\n    }\n\n    .dataframe tbody tr th {\n        vertical-align: top;\n    }\n\n    .dataframe thead th {\n        text-align: right;\n    }\n</style>\n<table border=\"1\" class=\"dataframe\">\n  <thead>\n    <tr style=\"text-align: right;\">\n      <th></th>\n      <th>组名</th>\n      <th>学号</th>\n      <th>姓名</th>\n      <th>职业形象</th>\n      <th>答辩礼仪</th>\n      <th>沟通表达</th>\n      <th>团队协作</th>\n      <th>PPT制作</th>\n      <th>程序逻辑性</th>\n      <th>项目阐述</th>\n      <th>思维导图</th>\n      <th>综合评价</th>\n    </tr>\n  </thead>\n  <tbody>\n    <tr>\n      <th>0</th>\n      <td>萝卜</td>\n      <td>2020630214</td>\n      <td>王孝天</td>\n      <td>10</td>\n      <td>8</td>\n      <td>9</td>\n      <td>8</td>\n      <td>9</td>\n      <td>18</td>\n      <td>14</td>\n      <td>13</td>\n      <td>89</td>\n    </tr>\n    <tr>\n      <th>1</th>\n      <td>萝卜</td>\n      <td>2020630124</td>\n      <td>张子豪</td>\n      <td>10</td>\n      <td>7</td>\n      <td>7</td>\n      <td>8</td>\n      <td>9</td>\n      <td>17</td>\n      <td>14</td>\n      <td>13</td>\n      <td>85</td>\n    </tr>\n    <tr>\n      <th>2</th>\n      <td>萝卜</td>\n      <td>2020630201</td>\n      <td>吴俊岳</td>\n      <td>10</td>\n      <td>8</td>\n      <td>7</td>\n      <td>8</td>\n      <td>8</td>\n      <td>16</td>\n      <td>13</td>\n      <td>13</td>\n      <td>83</td>\n    </tr>\n    <tr>\n      <th>3</th>\n      <td>萝卜</td>\n      <td>2020630103</td>\n      <td>崔昊元</td>\n      <td>10</td>\n      <td>8</td>\n      <td>8</td>\n      <td>8</td>\n      <td>8</td>\n      <td>16</td>\n      <td>13</td>\n      <td>12</td>\n      <td>83</td>\n    </tr>\n    <tr>\n      <th>4</th>\n      <td>叶原枫</td>\n      <td>2020630205</td>\n      <td>吕梦丽</td>\n      <td>10</td>\n      <td>8</td>\n      <td>9</td>\n      <td>8</td>\n      <td>8</td>\n      <td>18</td>\n      <td>15</td>\n      <td>12</td>\n      <td>88</td>\n    </tr>\n    <tr>\n      <th>5</th>\n      <td>叶原枫</td>\n      <td>2020630128</td>\n      <td>叶平</td>\n      <td>10</td>\n      <td>7</td>\n      <td>8</td>\n      <td>8</td>\n      <td>8</td>\n      <td>18</td>\n      <td>14</td>\n      <td>13</td>\n      <td>86</td>\n    </tr>\n    <tr>\n      <th>6</th>\n      <td>叶原枫</td>\n      <td>2020630216</td>\n      <td>张阔</td>\n      <td>10</td>\n      <td>7</td>\n      <td>7</td>\n      <td>8</td>\n      <td>8</td>\n      <td>17</td>\n      <td>13</td>\n      <td>13</td>\n      <td>83</td>\n    </tr>\n    <tr>\n      <th>7</th>\n      <td>叶原枫</td>\n      <td>2020630204</td>\n      <td>王浩羽</td>\n      <td>10</td>\n      <td>7</td>\n      <td>7</td>\n      <td>8</td>\n      <td>8</td>\n      <td>17</td>\n      <td>12</td>\n      <td>13</td>\n      <td>82</td>\n    </tr>\n    <tr>\n      <th>8</th>\n      <td>黑马</td>\n      <td>2020630222</td>\n      <td>李蓉轩</td>\n      <td>10</td>\n      <td>9</td>\n      <td>10</td>\n      <td>8</td>\n      <td>9</td>\n      <td>17</td>\n      <td>15</td>\n      <td>14</td>\n      <td>92</td>\n    </tr>\n    <tr>\n      <th>9</th>\n      <td>黑马</td>\n      <td>2020630126</td>\n      <td>赵鑫博</td>\n      <td>10</td>\n      <td>7</td>\n      <td>6</td>\n      <td>8</td>\n      <td>9</td>\n      <td>17</td>\n      <td>14</td>\n      <td>12</td>\n      <td>83</td>\n    </tr>\n    <tr>\n      <th>10</th>\n      <td>黑马</td>\n      <td>2020630209</td>\n      <td>郑佳睦</td>\n      <td>10</td>\n      <td>8</td>\n      <td>7</td>\n      <td>8</td>\n      <td>9</td>\n      <td>17</td>\n      <td>14</td>\n      <td>12</td>\n      <td>85</td>\n    </tr>\n    <tr>\n      <th>11</th>\n      <td>黑马</td>\n      <td>2020630228</td>\n      <td>陈观绅</td>\n      <td>10</td>\n      <td>8</td>\n      <td>8</td>\n      <td>9</td>\n      <td>9</td>\n      <td>18</td>\n      <td>14</td>\n      <td>14</td>\n      <td>90</td>\n    </tr>\n    <tr>\n      <th>12</th>\n      <td>Styles</td>\n      <td>2020630221</td>\n      <td>付一鸣</td>\n      <td>10</td>\n      <td>8</td>\n      <td>8</td>\n      <td>9</td>\n      <td>9</td>\n      <td>20</td>\n      <td>15</td>\n      <td>15</td>\n      <td>94</td>\n    </tr>\n    <tr>\n      <th>13</th>\n      <td>Styles</td>\n      <td>2020630113</td>\n      <td>牛皓冬</td>\n      <td>10</td>\n      <td>8</td>\n      <td>8</td>\n      <td>9</td>\n      <td>8</td>\n      <td>18</td>\n      <td>14</td>\n      <td>15</td>\n      <td>90</td>\n    </tr>\n    <tr>\n      <th>14</th>\n      <td>Styles</td>\n      <td>2020630109</td>\n      <td>贾靖程</td>\n      <td>10</td>\n      <td>8</td>\n      <td>7</td>\n      <td>9</td>\n      <td>8</td>\n      <td>18</td>\n      <td>14</td>\n      <td>15</td>\n      <td>89</td>\n    </tr>\n    <tr>\n      <th>15</th>\n      <td>Styles</td>\n      <td>2020630115</td>\n      <td>孙佳奇</td>\n      <td>10</td>\n      <td>8</td>\n      <td>7</td>\n      <td>9</td>\n      <td>8</td>\n      <td>18</td>\n      <td>12</td>\n      <td>15</td>\n      <td>87</td>\n    </tr>\n    <tr>\n      <th>16</th>\n      <td>挑战组</td>\n      <td>2020630110</td>\n      <td>李博远</td>\n      <td>10</td>\n      <td>8</td>\n      <td>7</td>\n      <td>8</td>\n      <td>9</td>\n      <td>19</td>\n      <td>13</td>\n      <td>15</td>\n      <td>89</td>\n    </tr>\n    <tr>\n      <th>17</th>\n      <td>挑战组</td>\n      <td>2020630206</td>\n      <td>杨悦昕</td>\n      <td>10</td>\n      <td>8</td>\n      <td>8</td>\n      <td>8</td>\n      <td>10</td>\n      <td>19</td>\n      <td>14</td>\n      <td>15</td>\n      <td>92</td>\n    </tr>\n  </tbody>\n</table>\n</div>"
     },
     "execution_count": 25,
     "metadata": {},
     "output_type": "execute_result"
    }
   ],
   "source": [
    "# 1.读取excel\n",
    "df = pd.read_excel('inputData/答辩数据/2021-2022学年_昌平职业学校_信息技术系_联想工程师学院_联想未来班项目组_考勤系统学员答辩评价表20220630.xlsx')\n",
    "df"
   ],
   "metadata": {
    "collapsed": false,
    "pycharm": {
     "name": "#%%\n"
    }
   }
  },
  {
   "cell_type": "code",
   "execution_count": 29,
   "outputs": [
    {
     "ename": "ValueError",
     "evalue": "cannot insert date, already exists",
     "output_type": "error",
     "traceback": [
      "\u001B[1;31m---------------------------------------------------------------------------\u001B[0m",
      "\u001B[1;31mValueError\u001B[0m                                Traceback (most recent call last)",
      "Cell \u001B[1;32mIn [29], line 2\u001B[0m\n\u001B[0;32m      1\u001B[0m \u001B[38;5;66;03m# 2添加一列Date,插入到第一列,value = 2022-6-29\u001B[39;00m\n\u001B[1;32m----> 2\u001B[0m \u001B[43mdf\u001B[49m\u001B[38;5;241;43m.\u001B[39;49m\u001B[43minsert\u001B[49m\u001B[43m(\u001B[49m\u001B[38;5;241;43m0\u001B[39;49m\u001B[43m,\u001B[49m\u001B[38;5;124;43m'\u001B[39;49m\u001B[38;5;124;43mdate\u001B[39;49m\u001B[38;5;124;43m'\u001B[39;49m\u001B[43m,\u001B[49m\u001B[38;5;124;43m'\u001B[39;49m\u001B[38;5;124;43m2022-6-29\u001B[39;49m\u001B[38;5;124;43m'\u001B[39;49m\u001B[43m)\u001B[49m\n\u001B[0;32m      3\u001B[0m df\n",
      "File \u001B[1;32md:\\appdata\\local\\programs\\python\\python38\\lib\\site-packages\\pandas\\core\\frame.py:4443\u001B[0m, in \u001B[0;36mDataFrame.insert\u001B[1;34m(self, loc, column, value, allow_duplicates)\u001B[0m\n\u001B[0;32m   4437\u001B[0m     \u001B[38;5;28;01mraise\u001B[39;00m \u001B[38;5;167;01mValueError\u001B[39;00m(\n\u001B[0;32m   4438\u001B[0m         \u001B[38;5;124m\"\u001B[39m\u001B[38;5;124mCannot specify \u001B[39m\u001B[38;5;124m'\u001B[39m\u001B[38;5;124mallow_duplicates=True\u001B[39m\u001B[38;5;124m'\u001B[39m\u001B[38;5;124m when \u001B[39m\u001B[38;5;124m\"\u001B[39m\n\u001B[0;32m   4439\u001B[0m         \u001B[38;5;124m\"\u001B[39m\u001B[38;5;124m'\u001B[39m\u001B[38;5;124mself.flags.allows_duplicate_labels\u001B[39m\u001B[38;5;124m'\u001B[39m\u001B[38;5;124m is False.\u001B[39m\u001B[38;5;124m\"\u001B[39m\n\u001B[0;32m   4440\u001B[0m     )\n\u001B[0;32m   4441\u001B[0m \u001B[38;5;28;01mif\u001B[39;00m \u001B[38;5;129;01mnot\u001B[39;00m allow_duplicates \u001B[38;5;129;01mand\u001B[39;00m column \u001B[38;5;129;01min\u001B[39;00m \u001B[38;5;28mself\u001B[39m\u001B[38;5;241m.\u001B[39mcolumns:\n\u001B[0;32m   4442\u001B[0m     \u001B[38;5;66;03m# Should this be a different kind of error??\u001B[39;00m\n\u001B[1;32m-> 4443\u001B[0m     \u001B[38;5;28;01mraise\u001B[39;00m \u001B[38;5;167;01mValueError\u001B[39;00m(\u001B[38;5;124mf\u001B[39m\u001B[38;5;124m\"\u001B[39m\u001B[38;5;124mcannot insert \u001B[39m\u001B[38;5;132;01m{\u001B[39;00mcolumn\u001B[38;5;132;01m}\u001B[39;00m\u001B[38;5;124m, already exists\u001B[39m\u001B[38;5;124m\"\u001B[39m)\n\u001B[0;32m   4444\u001B[0m \u001B[38;5;28;01mif\u001B[39;00m \u001B[38;5;129;01mnot\u001B[39;00m \u001B[38;5;28misinstance\u001B[39m(loc, \u001B[38;5;28mint\u001B[39m):\n\u001B[0;32m   4445\u001B[0m     \u001B[38;5;28;01mraise\u001B[39;00m \u001B[38;5;167;01mTypeError\u001B[39;00m(\u001B[38;5;124m\"\u001B[39m\u001B[38;5;124mloc must be int\u001B[39m\u001B[38;5;124m\"\u001B[39m)\n",
      "\u001B[1;31mValueError\u001B[0m: cannot insert date, already exists"
     ]
    }
   ],
   "source": [
    "# 2添加一列Date,插入到第一列,value = 2022-6-29\n",
    "df.insert(0,'date','2022-6-29')"
   ],
   "metadata": {
    "collapsed": false,
    "pycharm": {
     "name": "#%%\n"
    }
   }
  },
  {
   "cell_type": "code",
   "execution_count": 30,
   "outputs": [
    {
     "data": {
      "text/plain": "         date      组名          学号   姓名  职业形象  答辩礼仪  沟通表达  团队协作  PPT制作  程序逻辑性  \\\n0   2022-6-29      萝卜  2020630214  王孝天    10     8     9     8      9     18   \n1   2022-6-29      萝卜  2020630124  张子豪    10     7     7     8      9     17   \n2   2022-6-29      萝卜  2020630201  吴俊岳    10     8     7     8      8     16   \n3   2022-6-29      萝卜  2020630103  崔昊元    10     8     8     8      8     16   \n4   2022-6-29     叶原枫  2020630205  吕梦丽    10     8     9     8      8     18   \n5   2022-6-29     叶原枫  2020630128   叶平    10     7     8     8      8     18   \n6   2022-6-29     叶原枫  2020630216   张阔    10     7     7     8      8     17   \n7   2022-6-29     叶原枫  2020630204  王浩羽    10     7     7     8      8     17   \n8   2022-6-29      黑马  2020630222  李蓉轩    10     9    10     8      9     17   \n9   2022-6-29      黑马  2020630126  赵鑫博    10     7     6     8      9     17   \n10  2022-6-29      黑马  2020630209  郑佳睦    10     8     7     8      9     17   \n11  2022-6-29      黑马  2020630228  陈观绅    10     8     8     9      9     18   \n12  2022-6-29  Styles  2020630221  付一鸣    10     8     8     9      9     20   \n13  2022-6-29  Styles  2020630113  牛皓冬    10     8     8     9      8     18   \n14  2022-6-29  Styles  2020630109  贾靖程    10     8     7     9      8     18   \n15  2022-6-29  Styles  2020630115  孙佳奇    10     8     7     9      8     18   \n16  2022-6-29     挑战组  2020630110  李博远    10     8     7     8      9     19   \n17  2022-6-29     挑战组  2020630206  杨悦昕    10     8     8     8     10     19   \n\n    项目阐述  思维导图  综合评价  \n0     14    13    89  \n1     14    13    85  \n2     13    13    83  \n3     13    12    83  \n4     15    12    88  \n5     14    13    86  \n6     13    13    83  \n7     12    13    82  \n8     15    14    92  \n9     14    12    83  \n10    14    12    85  \n11    14    14    90  \n12    15    15    94  \n13    14    15    90  \n14    14    15    89  \n15    12    15    87  \n16    13    15    89  \n17    14    15    92  ",
      "text/html": "<div>\n<style scoped>\n    .dataframe tbody tr th:only-of-type {\n        vertical-align: middle;\n    }\n\n    .dataframe tbody tr th {\n        vertical-align: top;\n    }\n\n    .dataframe thead th {\n        text-align: right;\n    }\n</style>\n<table border=\"1\" class=\"dataframe\">\n  <thead>\n    <tr style=\"text-align: right;\">\n      <th></th>\n      <th>date</th>\n      <th>组名</th>\n      <th>学号</th>\n      <th>姓名</th>\n      <th>职业形象</th>\n      <th>答辩礼仪</th>\n      <th>沟通表达</th>\n      <th>团队协作</th>\n      <th>PPT制作</th>\n      <th>程序逻辑性</th>\n      <th>项目阐述</th>\n      <th>思维导图</th>\n      <th>综合评价</th>\n    </tr>\n  </thead>\n  <tbody>\n    <tr>\n      <th>0</th>\n      <td>2022-6-29</td>\n      <td>萝卜</td>\n      <td>2020630214</td>\n      <td>王孝天</td>\n      <td>10</td>\n      <td>8</td>\n      <td>9</td>\n      <td>8</td>\n      <td>9</td>\n      <td>18</td>\n      <td>14</td>\n      <td>13</td>\n      <td>89</td>\n    </tr>\n    <tr>\n      <th>1</th>\n      <td>2022-6-29</td>\n      <td>萝卜</td>\n      <td>2020630124</td>\n      <td>张子豪</td>\n      <td>10</td>\n      <td>7</td>\n      <td>7</td>\n      <td>8</td>\n      <td>9</td>\n      <td>17</td>\n      <td>14</td>\n      <td>13</td>\n      <td>85</td>\n    </tr>\n    <tr>\n      <th>2</th>\n      <td>2022-6-29</td>\n      <td>萝卜</td>\n      <td>2020630201</td>\n      <td>吴俊岳</td>\n      <td>10</td>\n      <td>8</td>\n      <td>7</td>\n      <td>8</td>\n      <td>8</td>\n      <td>16</td>\n      <td>13</td>\n      <td>13</td>\n      <td>83</td>\n    </tr>\n    <tr>\n      <th>3</th>\n      <td>2022-6-29</td>\n      <td>萝卜</td>\n      <td>2020630103</td>\n      <td>崔昊元</td>\n      <td>10</td>\n      <td>8</td>\n      <td>8</td>\n      <td>8</td>\n      <td>8</td>\n      <td>16</td>\n      <td>13</td>\n      <td>12</td>\n      <td>83</td>\n    </tr>\n    <tr>\n      <th>4</th>\n      <td>2022-6-29</td>\n      <td>叶原枫</td>\n      <td>2020630205</td>\n      <td>吕梦丽</td>\n      <td>10</td>\n      <td>8</td>\n      <td>9</td>\n      <td>8</td>\n      <td>8</td>\n      <td>18</td>\n      <td>15</td>\n      <td>12</td>\n      <td>88</td>\n    </tr>\n    <tr>\n      <th>5</th>\n      <td>2022-6-29</td>\n      <td>叶原枫</td>\n      <td>2020630128</td>\n      <td>叶平</td>\n      <td>10</td>\n      <td>7</td>\n      <td>8</td>\n      <td>8</td>\n      <td>8</td>\n      <td>18</td>\n      <td>14</td>\n      <td>13</td>\n      <td>86</td>\n    </tr>\n    <tr>\n      <th>6</th>\n      <td>2022-6-29</td>\n      <td>叶原枫</td>\n      <td>2020630216</td>\n      <td>张阔</td>\n      <td>10</td>\n      <td>7</td>\n      <td>7</td>\n      <td>8</td>\n      <td>8</td>\n      <td>17</td>\n      <td>13</td>\n      <td>13</td>\n      <td>83</td>\n    </tr>\n    <tr>\n      <th>7</th>\n      <td>2022-6-29</td>\n      <td>叶原枫</td>\n      <td>2020630204</td>\n      <td>王浩羽</td>\n      <td>10</td>\n      <td>7</td>\n      <td>7</td>\n      <td>8</td>\n      <td>8</td>\n      <td>17</td>\n      <td>12</td>\n      <td>13</td>\n      <td>82</td>\n    </tr>\n    <tr>\n      <th>8</th>\n      <td>2022-6-29</td>\n      <td>黑马</td>\n      <td>2020630222</td>\n      <td>李蓉轩</td>\n      <td>10</td>\n      <td>9</td>\n      <td>10</td>\n      <td>8</td>\n      <td>9</td>\n      <td>17</td>\n      <td>15</td>\n      <td>14</td>\n      <td>92</td>\n    </tr>\n    <tr>\n      <th>9</th>\n      <td>2022-6-29</td>\n      <td>黑马</td>\n      <td>2020630126</td>\n      <td>赵鑫博</td>\n      <td>10</td>\n      <td>7</td>\n      <td>6</td>\n      <td>8</td>\n      <td>9</td>\n      <td>17</td>\n      <td>14</td>\n      <td>12</td>\n      <td>83</td>\n    </tr>\n    <tr>\n      <th>10</th>\n      <td>2022-6-29</td>\n      <td>黑马</td>\n      <td>2020630209</td>\n      <td>郑佳睦</td>\n      <td>10</td>\n      <td>8</td>\n      <td>7</td>\n      <td>8</td>\n      <td>9</td>\n      <td>17</td>\n      <td>14</td>\n      <td>12</td>\n      <td>85</td>\n    </tr>\n    <tr>\n      <th>11</th>\n      <td>2022-6-29</td>\n      <td>黑马</td>\n      <td>2020630228</td>\n      <td>陈观绅</td>\n      <td>10</td>\n      <td>8</td>\n      <td>8</td>\n      <td>9</td>\n      <td>9</td>\n      <td>18</td>\n      <td>14</td>\n      <td>14</td>\n      <td>90</td>\n    </tr>\n    <tr>\n      <th>12</th>\n      <td>2022-6-29</td>\n      <td>Styles</td>\n      <td>2020630221</td>\n      <td>付一鸣</td>\n      <td>10</td>\n      <td>8</td>\n      <td>8</td>\n      <td>9</td>\n      <td>9</td>\n      <td>20</td>\n      <td>15</td>\n      <td>15</td>\n      <td>94</td>\n    </tr>\n    <tr>\n      <th>13</th>\n      <td>2022-6-29</td>\n      <td>Styles</td>\n      <td>2020630113</td>\n      <td>牛皓冬</td>\n      <td>10</td>\n      <td>8</td>\n      <td>8</td>\n      <td>9</td>\n      <td>8</td>\n      <td>18</td>\n      <td>14</td>\n      <td>15</td>\n      <td>90</td>\n    </tr>\n    <tr>\n      <th>14</th>\n      <td>2022-6-29</td>\n      <td>Styles</td>\n      <td>2020630109</td>\n      <td>贾靖程</td>\n      <td>10</td>\n      <td>8</td>\n      <td>7</td>\n      <td>9</td>\n      <td>8</td>\n      <td>18</td>\n      <td>14</td>\n      <td>15</td>\n      <td>89</td>\n    </tr>\n    <tr>\n      <th>15</th>\n      <td>2022-6-29</td>\n      <td>Styles</td>\n      <td>2020630115</td>\n      <td>孙佳奇</td>\n      <td>10</td>\n      <td>8</td>\n      <td>7</td>\n      <td>9</td>\n      <td>8</td>\n      <td>18</td>\n      <td>12</td>\n      <td>15</td>\n      <td>87</td>\n    </tr>\n    <tr>\n      <th>16</th>\n      <td>2022-6-29</td>\n      <td>挑战组</td>\n      <td>2020630110</td>\n      <td>李博远</td>\n      <td>10</td>\n      <td>8</td>\n      <td>7</td>\n      <td>8</td>\n      <td>9</td>\n      <td>19</td>\n      <td>13</td>\n      <td>15</td>\n      <td>89</td>\n    </tr>\n    <tr>\n      <th>17</th>\n      <td>2022-6-29</td>\n      <td>挑战组</td>\n      <td>2020630206</td>\n      <td>杨悦昕</td>\n      <td>10</td>\n      <td>8</td>\n      <td>8</td>\n      <td>8</td>\n      <td>10</td>\n      <td>19</td>\n      <td>14</td>\n      <td>15</td>\n      <td>92</td>\n    </tr>\n  </tbody>\n</table>\n</div>"
     },
     "execution_count": 30,
     "metadata": {},
     "output_type": "execute_result"
    }
   ],
   "source": [
    "df"
   ],
   "metadata": {
    "collapsed": false,
    "pycharm": {
     "name": "#%%\n"
    }
   }
  },
  {
   "cell_type": "code",
   "execution_count": 33,
   "outputs": [],
   "source": [
    "# 3.列名重命名\n",
    "df.rename(columns={'组名':'group_name', '学号':'stu_num', '姓名':'stu_name', '职业形象':'score_professional', '答辩礼仪':'score_etiquette','沟通表达':'score_communicate','团队协作':'score_team', 'PPT制作':'score_PPT', '程序逻辑性':'score_logical', '项目阐述':'score_project', '思维导图':'score_mind', '综合评价':'score_total'},inplace=True)"
   ],
   "metadata": {
    "collapsed": false,
    "pycharm": {
     "name": "#%%\n"
    }
   }
  },
  {
   "cell_type": "code",
   "execution_count": 34,
   "outputs": [
    {
     "data": {
      "text/plain": "         date group_name     stu_num stu_name  score_professional  \\\n0   2022-6-29         萝卜  2020630214      王孝天                  10   \n1   2022-6-29         萝卜  2020630124      张子豪                  10   \n2   2022-6-29         萝卜  2020630201      吴俊岳                  10   \n3   2022-6-29         萝卜  2020630103      崔昊元                  10   \n4   2022-6-29        叶原枫  2020630205      吕梦丽                  10   \n5   2022-6-29        叶原枫  2020630128       叶平                  10   \n6   2022-6-29        叶原枫  2020630216       张阔                  10   \n7   2022-6-29        叶原枫  2020630204      王浩羽                  10   \n8   2022-6-29         黑马  2020630222      李蓉轩                  10   \n9   2022-6-29         黑马  2020630126      赵鑫博                  10   \n10  2022-6-29         黑马  2020630209      郑佳睦                  10   \n11  2022-6-29         黑马  2020630228      陈观绅                  10   \n12  2022-6-29     Styles  2020630221      付一鸣                  10   \n13  2022-6-29     Styles  2020630113      牛皓冬                  10   \n14  2022-6-29     Styles  2020630109      贾靖程                  10   \n15  2022-6-29     Styles  2020630115      孙佳奇                  10   \n16  2022-6-29        挑战组  2020630110      李博远                  10   \n17  2022-6-29        挑战组  2020630206      杨悦昕                  10   \n\n    score_etiquette  score_communicate  score_team  score_PPT  score_logical  \\\n0                 8                  9           8          9             18   \n1                 7                  7           8          9             17   \n2                 8                  7           8          8             16   \n3                 8                  8           8          8             16   \n4                 8                  9           8          8             18   \n5                 7                  8           8          8             18   \n6                 7                  7           8          8             17   \n7                 7                  7           8          8             17   \n8                 9                 10           8          9             17   \n9                 7                  6           8          9             17   \n10                8                  7           8          9             17   \n11                8                  8           9          9             18   \n12                8                  8           9          9             20   \n13                8                  8           9          8             18   \n14                8                  7           9          8             18   \n15                8                  7           9          8             18   \n16                8                  7           8          9             19   \n17                8                  8           8         10             19   \n\n    score_project  score_mind  score_total  \n0              14          13           89  \n1              14          13           85  \n2              13          13           83  \n3              13          12           83  \n4              15          12           88  \n5              14          13           86  \n6              13          13           83  \n7              12          13           82  \n8              15          14           92  \n9              14          12           83  \n10             14          12           85  \n11             14          14           90  \n12             15          15           94  \n13             14          15           90  \n14             14          15           89  \n15             12          15           87  \n16             13          15           89  \n17             14          15           92  ",
      "text/html": "<div>\n<style scoped>\n    .dataframe tbody tr th:only-of-type {\n        vertical-align: middle;\n    }\n\n    .dataframe tbody tr th {\n        vertical-align: top;\n    }\n\n    .dataframe thead th {\n        text-align: right;\n    }\n</style>\n<table border=\"1\" class=\"dataframe\">\n  <thead>\n    <tr style=\"text-align: right;\">\n      <th></th>\n      <th>date</th>\n      <th>group_name</th>\n      <th>stu_num</th>\n      <th>stu_name</th>\n      <th>score_professional</th>\n      <th>score_etiquette</th>\n      <th>score_communicate</th>\n      <th>score_team</th>\n      <th>score_PPT</th>\n      <th>score_logical</th>\n      <th>score_project</th>\n      <th>score_mind</th>\n      <th>score_total</th>\n    </tr>\n  </thead>\n  <tbody>\n    <tr>\n      <th>0</th>\n      <td>2022-6-29</td>\n      <td>萝卜</td>\n      <td>2020630214</td>\n      <td>王孝天</td>\n      <td>10</td>\n      <td>8</td>\n      <td>9</td>\n      <td>8</td>\n      <td>9</td>\n      <td>18</td>\n      <td>14</td>\n      <td>13</td>\n      <td>89</td>\n    </tr>\n    <tr>\n      <th>1</th>\n      <td>2022-6-29</td>\n      <td>萝卜</td>\n      <td>2020630124</td>\n      <td>张子豪</td>\n      <td>10</td>\n      <td>7</td>\n      <td>7</td>\n      <td>8</td>\n      <td>9</td>\n      <td>17</td>\n      <td>14</td>\n      <td>13</td>\n      <td>85</td>\n    </tr>\n    <tr>\n      <th>2</th>\n      <td>2022-6-29</td>\n      <td>萝卜</td>\n      <td>2020630201</td>\n      <td>吴俊岳</td>\n      <td>10</td>\n      <td>8</td>\n      <td>7</td>\n      <td>8</td>\n      <td>8</td>\n      <td>16</td>\n      <td>13</td>\n      <td>13</td>\n      <td>83</td>\n    </tr>\n    <tr>\n      <th>3</th>\n      <td>2022-6-29</td>\n      <td>萝卜</td>\n      <td>2020630103</td>\n      <td>崔昊元</td>\n      <td>10</td>\n      <td>8</td>\n      <td>8</td>\n      <td>8</td>\n      <td>8</td>\n      <td>16</td>\n      <td>13</td>\n      <td>12</td>\n      <td>83</td>\n    </tr>\n    <tr>\n      <th>4</th>\n      <td>2022-6-29</td>\n      <td>叶原枫</td>\n      <td>2020630205</td>\n      <td>吕梦丽</td>\n      <td>10</td>\n      <td>8</td>\n      <td>9</td>\n      <td>8</td>\n      <td>8</td>\n      <td>18</td>\n      <td>15</td>\n      <td>12</td>\n      <td>88</td>\n    </tr>\n    <tr>\n      <th>5</th>\n      <td>2022-6-29</td>\n      <td>叶原枫</td>\n      <td>2020630128</td>\n      <td>叶平</td>\n      <td>10</td>\n      <td>7</td>\n      <td>8</td>\n      <td>8</td>\n      <td>8</td>\n      <td>18</td>\n      <td>14</td>\n      <td>13</td>\n      <td>86</td>\n    </tr>\n    <tr>\n      <th>6</th>\n      <td>2022-6-29</td>\n      <td>叶原枫</td>\n      <td>2020630216</td>\n      <td>张阔</td>\n      <td>10</td>\n      <td>7</td>\n      <td>7</td>\n      <td>8</td>\n      <td>8</td>\n      <td>17</td>\n      <td>13</td>\n      <td>13</td>\n      <td>83</td>\n    </tr>\n    <tr>\n      <th>7</th>\n      <td>2022-6-29</td>\n      <td>叶原枫</td>\n      <td>2020630204</td>\n      <td>王浩羽</td>\n      <td>10</td>\n      <td>7</td>\n      <td>7</td>\n      <td>8</td>\n      <td>8</td>\n      <td>17</td>\n      <td>12</td>\n      <td>13</td>\n      <td>82</td>\n    </tr>\n    <tr>\n      <th>8</th>\n      <td>2022-6-29</td>\n      <td>黑马</td>\n      <td>2020630222</td>\n      <td>李蓉轩</td>\n      <td>10</td>\n      <td>9</td>\n      <td>10</td>\n      <td>8</td>\n      <td>9</td>\n      <td>17</td>\n      <td>15</td>\n      <td>14</td>\n      <td>92</td>\n    </tr>\n    <tr>\n      <th>9</th>\n      <td>2022-6-29</td>\n      <td>黑马</td>\n      <td>2020630126</td>\n      <td>赵鑫博</td>\n      <td>10</td>\n      <td>7</td>\n      <td>6</td>\n      <td>8</td>\n      <td>9</td>\n      <td>17</td>\n      <td>14</td>\n      <td>12</td>\n      <td>83</td>\n    </tr>\n    <tr>\n      <th>10</th>\n      <td>2022-6-29</td>\n      <td>黑马</td>\n      <td>2020630209</td>\n      <td>郑佳睦</td>\n      <td>10</td>\n      <td>8</td>\n      <td>7</td>\n      <td>8</td>\n      <td>9</td>\n      <td>17</td>\n      <td>14</td>\n      <td>12</td>\n      <td>85</td>\n    </tr>\n    <tr>\n      <th>11</th>\n      <td>2022-6-29</td>\n      <td>黑马</td>\n      <td>2020630228</td>\n      <td>陈观绅</td>\n      <td>10</td>\n      <td>8</td>\n      <td>8</td>\n      <td>9</td>\n      <td>9</td>\n      <td>18</td>\n      <td>14</td>\n      <td>14</td>\n      <td>90</td>\n    </tr>\n    <tr>\n      <th>12</th>\n      <td>2022-6-29</td>\n      <td>Styles</td>\n      <td>2020630221</td>\n      <td>付一鸣</td>\n      <td>10</td>\n      <td>8</td>\n      <td>8</td>\n      <td>9</td>\n      <td>9</td>\n      <td>20</td>\n      <td>15</td>\n      <td>15</td>\n      <td>94</td>\n    </tr>\n    <tr>\n      <th>13</th>\n      <td>2022-6-29</td>\n      <td>Styles</td>\n      <td>2020630113</td>\n      <td>牛皓冬</td>\n      <td>10</td>\n      <td>8</td>\n      <td>8</td>\n      <td>9</td>\n      <td>8</td>\n      <td>18</td>\n      <td>14</td>\n      <td>15</td>\n      <td>90</td>\n    </tr>\n    <tr>\n      <th>14</th>\n      <td>2022-6-29</td>\n      <td>Styles</td>\n      <td>2020630109</td>\n      <td>贾靖程</td>\n      <td>10</td>\n      <td>8</td>\n      <td>7</td>\n      <td>9</td>\n      <td>8</td>\n      <td>18</td>\n      <td>14</td>\n      <td>15</td>\n      <td>89</td>\n    </tr>\n    <tr>\n      <th>15</th>\n      <td>2022-6-29</td>\n      <td>Styles</td>\n      <td>2020630115</td>\n      <td>孙佳奇</td>\n      <td>10</td>\n      <td>8</td>\n      <td>7</td>\n      <td>9</td>\n      <td>8</td>\n      <td>18</td>\n      <td>12</td>\n      <td>15</td>\n      <td>87</td>\n    </tr>\n    <tr>\n      <th>16</th>\n      <td>2022-6-29</td>\n      <td>挑战组</td>\n      <td>2020630110</td>\n      <td>李博远</td>\n      <td>10</td>\n      <td>8</td>\n      <td>7</td>\n      <td>8</td>\n      <td>9</td>\n      <td>19</td>\n      <td>13</td>\n      <td>15</td>\n      <td>89</td>\n    </tr>\n    <tr>\n      <th>17</th>\n      <td>2022-6-29</td>\n      <td>挑战组</td>\n      <td>2020630206</td>\n      <td>杨悦昕</td>\n      <td>10</td>\n      <td>8</td>\n      <td>8</td>\n      <td>8</td>\n      <td>10</td>\n      <td>19</td>\n      <td>14</td>\n      <td>15</td>\n      <td>92</td>\n    </tr>\n  </tbody>\n</table>\n</div>"
     },
     "execution_count": 34,
     "metadata": {},
     "output_type": "execute_result"
    }
   ],
   "source": [
    "df"
   ],
   "metadata": {
    "collapsed": false,
    "pycharm": {
     "name": "#%%\n"
    }
   }
  },
  {
   "cell_type": "code",
   "execution_count": 35,
   "outputs": [],
   "source": [
    "# 4.导出csv文件名字“答辩数据.csv”\n",
    "df.to_csv('inputData/答辩数据/答辩数据.csv', encoding='utf_8',index=True)"
   ],
   "metadata": {
    "collapsed": false,
    "pycharm": {
     "name": "#%%\n"
    }
   }
  },
  {
   "cell_type": "code",
   "execution_count": null,
   "outputs": [],
   "source": [
    "# 5."
   ],
   "metadata": {
    "collapsed": false,
    "pycharm": {
     "name": "#%%\n"
    }
   }
  }
 ],
 "metadata": {
  "kernelspec": {
   "display_name": "Python 3",
   "language": "python",
   "name": "python3"
  },
  "language_info": {
   "codemirror_mode": {
    "name": "ipython",
    "version": 2
   },
   "file_extension": ".py",
   "mimetype": "text/x-python",
   "name": "python",
   "nbconvert_exporter": "python",
   "pygments_lexer": "ipython2",
   "version": "2.7.6"
  }
 },
 "nbformat": 4,
 "nbformat_minor": 0
}