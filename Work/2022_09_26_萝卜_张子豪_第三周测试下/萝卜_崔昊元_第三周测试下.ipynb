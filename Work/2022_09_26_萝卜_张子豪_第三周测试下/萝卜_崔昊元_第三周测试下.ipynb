{
 "cells": [
  {
   "cell_type": "code",
   "execution_count": 1,
   "metadata": {
    "collapsed": true,
    "pycharm": {
     "name": "#%%\n"
    }
   },
   "outputs": [],
   "source": [
    "import pandas as pd"
   ]
  },
  {
   "cell_type": "code",
   "execution_count": 5,
   "outputs": [
    {
     "data": {
      "text/plain": "          课程名字   课程类别  学分    分数\n0  思想道德修养与法律基础    思政类   3  89.0\n1     云计算应用与开发  专业选修课   3  96.0\n2         社会计算  专业选修课   3  78.0\n3         深度学习  专业选修课   3  75.0\n4       人工智能导论  专业必修课   3   NaN",
      "text/html": "<div>\n<style scoped>\n    .dataframe tbody tr th:only-of-type {\n        vertical-align: middle;\n    }\n\n    .dataframe tbody tr th {\n        vertical-align: top;\n    }\n\n    .dataframe thead th {\n        text-align: right;\n    }\n</style>\n<table border=\"1\" class=\"dataframe\">\n  <thead>\n    <tr style=\"text-align: right;\">\n      <th></th>\n      <th>课程名字</th>\n      <th>课程类别</th>\n      <th>学分</th>\n      <th>分数</th>\n    </tr>\n  </thead>\n  <tbody>\n    <tr>\n      <th>0</th>\n      <td>思想道德修养与法律基础</td>\n      <td>思政类</td>\n      <td>3</td>\n      <td>89.0</td>\n    </tr>\n    <tr>\n      <th>1</th>\n      <td>云计算应用与开发</td>\n      <td>专业选修课</td>\n      <td>3</td>\n      <td>96.0</td>\n    </tr>\n    <tr>\n      <th>2</th>\n      <td>社会计算</td>\n      <td>专业选修课</td>\n      <td>3</td>\n      <td>78.0</td>\n    </tr>\n    <tr>\n      <th>3</th>\n      <td>深度学习</td>\n      <td>专业选修课</td>\n      <td>3</td>\n      <td>75.0</td>\n    </tr>\n    <tr>\n      <th>4</th>\n      <td>人工智能导论</td>\n      <td>专业必修课</td>\n      <td>3</td>\n      <td>NaN</td>\n    </tr>\n  </tbody>\n</table>\n</div>"
     },
     "metadata": {},
     "output_type": "display_data"
    },
    {
     "data": {
      "text/plain": "                       课程名字     课程类别  学分    分数\n23                学术英语听说（一）      英语类   2  85.0\n24              程序正义与经典案例解析     精品课程   2  76.0\n25                  环境可持续发展  公共任意选修类   2  76.0\n26                     数据挖掘    专业必修课   4  71.0\n27  毛泽东思想和中国特色社会主义理论体系概论（二）      思政类   3  93.0\n28                    概率图模型    专业选修课   3  96.0\n29                    篮球（初）      体育类   1  77.0\n30                   高等统计选讲    专业选修课   3  87.0\n31                     推荐系统    专业选修课   3  97.0\n32                     智慧城市    专业选修课   3  77.0",
      "text/html": "<div>\n<style scoped>\n    .dataframe tbody tr th:only-of-type {\n        vertical-align: middle;\n    }\n\n    .dataframe tbody tr th {\n        vertical-align: top;\n    }\n\n    .dataframe thead th {\n        text-align: right;\n    }\n</style>\n<table border=\"1\" class=\"dataframe\">\n  <thead>\n    <tr style=\"text-align: right;\">\n      <th></th>\n      <th>课程名字</th>\n      <th>课程类别</th>\n      <th>学分</th>\n      <th>分数</th>\n    </tr>\n  </thead>\n  <tbody>\n    <tr>\n      <th>23</th>\n      <td>学术英语听说（一）</td>\n      <td>英语类</td>\n      <td>2</td>\n      <td>85.0</td>\n    </tr>\n    <tr>\n      <th>24</th>\n      <td>程序正义与经典案例解析</td>\n      <td>精品课程</td>\n      <td>2</td>\n      <td>76.0</td>\n    </tr>\n    <tr>\n      <th>25</th>\n      <td>环境可持续发展</td>\n      <td>公共任意选修类</td>\n      <td>2</td>\n      <td>76.0</td>\n    </tr>\n    <tr>\n      <th>26</th>\n      <td>数据挖掘</td>\n      <td>专业必修课</td>\n      <td>4</td>\n      <td>71.0</td>\n    </tr>\n    <tr>\n      <th>27</th>\n      <td>毛泽东思想和中国特色社会主义理论体系概论（二）</td>\n      <td>思政类</td>\n      <td>3</td>\n      <td>93.0</td>\n    </tr>\n    <tr>\n      <th>28</th>\n      <td>概率图模型</td>\n      <td>专业选修课</td>\n      <td>3</td>\n      <td>96.0</td>\n    </tr>\n    <tr>\n      <th>29</th>\n      <td>篮球（初）</td>\n      <td>体育类</td>\n      <td>1</td>\n      <td>77.0</td>\n    </tr>\n    <tr>\n      <th>30</th>\n      <td>高等统计选讲</td>\n      <td>专业选修课</td>\n      <td>3</td>\n      <td>87.0</td>\n    </tr>\n    <tr>\n      <th>31</th>\n      <td>推荐系统</td>\n      <td>专业选修课</td>\n      <td>3</td>\n      <td>97.0</td>\n    </tr>\n    <tr>\n      <th>32</th>\n      <td>智慧城市</td>\n      <td>专业选修课</td>\n      <td>3</td>\n      <td>77.0</td>\n    </tr>\n  </tbody>\n</table>\n</div>"
     },
     "metadata": {},
     "output_type": "display_data"
    }
   ],
   "source": [
    "# 1.读取文件，打印前五行后世行\n",
    "df = pd.read_csv('data/课程1.csv')\n",
    "display(df.head())\n",
    "display(df.tail(10))"
   ],
   "metadata": {
    "collapsed": false,
    "pycharm": {
     "name": "#%%\n"
    }
   }
  },
  {
   "cell_type": "code",
   "execution_count": 11,
   "outputs": [
    {
     "data": {
      "text/plain": "array(['思政类', '专业选修课', '专业必修课', '学科基础课', '体育类', '公共任意选修类', '英语类', '精品课程'],\n      dtype=object)"
     },
     "execution_count": 11,
     "metadata": {},
     "output_type": "execute_result"
    }
   ],
   "source": [
    "# 2.有哪些课程类别，有多少个类别\n",
    "df['课程类别'].unique()"
   ],
   "metadata": {
    "collapsed": false,
    "pycharm": {
     "name": "#%%\n"
    }
   }
  },
  {
   "cell_type": "code",
   "execution_count": 26,
   "outputs": [
    {
     "data": {
      "text/plain": "8"
     },
     "execution_count": 26,
     "metadata": {},
     "output_type": "execute_result"
    }
   ],
   "source": [
    "df['课程类别'].nunique()"
   ],
   "metadata": {
    "collapsed": false,
    "pycharm": {
     "name": "#%%\n"
    }
   }
  },
  {
   "cell_type": "code",
   "execution_count": 33,
   "outputs": [
    {
     "data": {
      "text/plain": "课程类别\n专业必修课       4\n专业选修课      12\n体育类         4\n公共任意选修类     2\n学科基础课       5\n思政类         4\n精品课程        1\n英语类         1\nName: 课程名字, dtype: int64"
     },
     "execution_count": 33,
     "metadata": {},
     "output_type": "execute_result"
    }
   ],
   "source": [
    "# 3.每一个课程类别，对应了多少个课程名字\n",
    "df.groupby('课程类别')['课程名字'].count()"
   ],
   "metadata": {
    "collapsed": false,
    "pycharm": {
     "name": "#%%\n"
    }
   }
  },
  {
   "cell_type": "code",
   "execution_count": 13,
   "outputs": [
    {
     "data": {
      "text/plain": "         课程名字   课程类别  学分    分数\n6     数据结构与算法  学科基础课   5  82.0\n12    高等数学（二）  学科基础课   4  92.0\n15       离散数学  学科基础课   4  82.0\n16  数据科学的数学基础  专业必修课   4  75.0\n17       程序设计  学科基础课   4   NaN\n26       数据挖掘  专业必修课   4  71.0",
      "text/html": "<div>\n<style scoped>\n    .dataframe tbody tr th:only-of-type {\n        vertical-align: middle;\n    }\n\n    .dataframe tbody tr th {\n        vertical-align: top;\n    }\n\n    .dataframe thead th {\n        text-align: right;\n    }\n</style>\n<table border=\"1\" class=\"dataframe\">\n  <thead>\n    <tr style=\"text-align: right;\">\n      <th></th>\n      <th>课程名字</th>\n      <th>课程类别</th>\n      <th>学分</th>\n      <th>分数</th>\n    </tr>\n  </thead>\n  <tbody>\n    <tr>\n      <th>6</th>\n      <td>数据结构与算法</td>\n      <td>学科基础课</td>\n      <td>5</td>\n      <td>82.0</td>\n    </tr>\n    <tr>\n      <th>12</th>\n      <td>高等数学（二）</td>\n      <td>学科基础课</td>\n      <td>4</td>\n      <td>92.0</td>\n    </tr>\n    <tr>\n      <th>15</th>\n      <td>离散数学</td>\n      <td>学科基础课</td>\n      <td>4</td>\n      <td>82.0</td>\n    </tr>\n    <tr>\n      <th>16</th>\n      <td>数据科学的数学基础</td>\n      <td>专业必修课</td>\n      <td>4</td>\n      <td>75.0</td>\n    </tr>\n    <tr>\n      <th>17</th>\n      <td>程序设计</td>\n      <td>学科基础课</td>\n      <td>4</td>\n      <td>NaN</td>\n    </tr>\n    <tr>\n      <th>26</th>\n      <td>数据挖掘</td>\n      <td>专业必修课</td>\n      <td>4</td>\n      <td>71.0</td>\n    </tr>\n  </tbody>\n</table>\n</div>"
     },
     "execution_count": 13,
     "metadata": {},
     "output_type": "execute_result"
    }
   ],
   "source": [
    "# 4.打印出学分大于3分的数据\n",
    "df[df['学分'] > 3]"
   ],
   "metadata": {
    "collapsed": false,
    "pycharm": {
     "name": "#%%\n"
    }
   }
  },
  {
   "cell_type": "code",
   "execution_count": 40,
   "outputs": [
    {
     "ename": "TypeError",
     "evalue": "unsupported operand type(s) for |: 'list' and 'list'",
     "output_type": "error",
     "traceback": [
      "\u001B[1;31m---------------------------------------------------------------------------\u001B[0m",
      "\u001B[1;31mTypeError\u001B[0m                                 Traceback (most recent call last)",
      "Cell \u001B[1;32mIn [40], line 2\u001B[0m\n\u001B[0;32m      1\u001B[0m \u001B[38;5;66;03m# 5.打印出学分小于等于2分或大于等于4分的数据\u001B[39;00m\n\u001B[1;32m----> 2\u001B[0m df(\u001B[43m[\u001B[49m\u001B[43mdf\u001B[49m\u001B[43m[\u001B[49m\u001B[38;5;124;43m'\u001B[39;49m\u001B[38;5;124;43m学分\u001B[39;49m\u001B[38;5;124;43m'\u001B[39;49m\u001B[43m]\u001B[49m\u001B[43m \u001B[49m\u001B[38;5;241;43m<\u001B[39;49m\u001B[38;5;241;43m=\u001B[39;49m\u001B[43m \u001B[49m\u001B[38;5;241;43m2\u001B[39;49m\u001B[43m]\u001B[49m\u001B[43m \u001B[49m\u001B[38;5;241;43m|\u001B[39;49m\u001B[43m \u001B[49m\u001B[43m[\u001B[49m\u001B[43mdf\u001B[49m\u001B[43m[\u001B[49m\u001B[38;5;124;43m'\u001B[39;49m\u001B[38;5;124;43m学分\u001B[39;49m\u001B[38;5;124;43m'\u001B[39;49m\u001B[43m]\u001B[49m\u001B[43m \u001B[49m\u001B[38;5;241;43m>\u001B[39;49m\u001B[38;5;241;43m=\u001B[39;49m\u001B[43m \u001B[49m\u001B[38;5;241;43m4\u001B[39;49m\u001B[43m]\u001B[49m)\n",
      "\u001B[1;31mTypeError\u001B[0m: unsupported operand type(s) for |: 'list' and 'list'"
     ]
    }
   ],
   "source": [
    "# 5.打印出学分小于等于2分或大于等于4分的数据\n",
    "df([df['学分'] <= 2] | [df['学分'] >= 4])"
   ],
   "metadata": {
    "collapsed": false,
    "pycharm": {
     "name": "#%%\n"
    }
   }
  },
  {
   "cell_type": "code",
   "execution_count": 34,
   "outputs": [],
   "source": [
    "# 6.将分数列的空值替换成平均值\n"
   ],
   "metadata": {
    "collapsed": false,
    "pycharm": {
     "name": "#%%\n"
    }
   }
  },
  {
   "cell_type": "code",
   "execution_count": 36,
   "outputs": [],
   "source": [
    "# 7.查看思政类和体育类的课程名字\n"
   ],
   "metadata": {
    "collapsed": false,
    "pycharm": {
     "name": "#%%\n"
    }
   }
  },
  {
   "cell_type": "code",
   "execution_count": 38,
   "outputs": [],
   "source": [
    "# 8.查看电子商务的分数\n"
   ],
   "metadata": {
    "collapsed": false,
    "pycharm": {
     "name": "#%%\n"
    }
   }
  },
  {
   "cell_type": "code",
   "execution_count": 43,
   "outputs": [
    {
     "data": {
      "text/plain": "RangeIndex(start=1101, stop=1134, step=1, name='编号')"
     },
     "execution_count": 43,
     "metadata": {},
     "output_type": "execute_result"
    }
   ],
   "source": [
    "# 9.修改索引：从1101开始到len(df)结束,把索引的名字改为编号\n",
    "s = range(1101,1101+len(df))\n",
    "df.index=s\n",
    "df.index.rename('编号')"
   ],
   "metadata": {
    "collapsed": false,
    "pycharm": {
     "name": "#%%\n"
    }
   }
  },
  {
   "cell_type": "code",
   "execution_count": 44,
   "outputs": [
    {
     "data": {
      "text/plain": "                         课程名字     课程类别  学分     分数\n1101              思想道德修养与法律基础      思政类   3   89.0\n1102                 云计算应用与开发    专业选修课   3   96.0\n1103                     社会计算    专业选修课   3   78.0\n1104                     深度学习    专业选修课   3   75.0\n1105                   人工智能导论    专业必修课   3    NaN\n1106                  中国近代史纲要      思政类   3   97.0\n1107                  数据结构与算法    学科基础课   5   82.0\n1108                开源软件设计与开发    专业选修课   3   81.0\n1109                    网球（初）      体育类   1   81.0\n1110                  大数据应用案例    专业必修课   3   91.0\n1111             极端性气候与陆地生态系统  公共任意选修类   2   78.0\n1112                     电子商务    专业选修课   3   74.0\n1113                  高等数学（二）    学科基础课   4   92.0\n1114                    游泳（初）      体育类   1   75.0\n1115                    计算机视觉    专业选修课   3    NaN\n1116                     离散数学    学科基础课   4   82.0\n1117                数据科学的数学基础    专业必修课   4   75.0\n1118                     程序设计    学科基础课   4    NaN\n1119                    足球（初）      体育类   1  100.0\n1120                     线性代数    学科基础课   3   97.0\n1121  毛泽东思想和中国特色社会主义理论体系概论（一）      思政类   3   99.0\n1122                     机器学习    专业选修课   3   88.0\n1123                     位置服务    专业选修课   3   87.0\n1124                学术英语听说（一）      英语类   2   85.0\n1125              程序正义与经典案例解析     精品课程   2   76.0\n1126                  环境可持续发展  公共任意选修类   2   76.0\n1127                     数据挖掘    专业必修课   4   71.0\n1128  毛泽东思想和中国特色社会主义理论体系概论（二）      思政类   3   93.0\n1129                    概率图模型    专业选修课   3   96.0\n1130                    篮球（初）      体育类   1   77.0\n1131                   高等统计选讲    专业选修课   3   87.0\n1132                     推荐系统    专业选修课   3   97.0\n1133                     智慧城市    专业选修课   3   77.0",
      "text/html": "<div>\n<style scoped>\n    .dataframe tbody tr th:only-of-type {\n        vertical-align: middle;\n    }\n\n    .dataframe tbody tr th {\n        vertical-align: top;\n    }\n\n    .dataframe thead th {\n        text-align: right;\n    }\n</style>\n<table border=\"1\" class=\"dataframe\">\n  <thead>\n    <tr style=\"text-align: right;\">\n      <th></th>\n      <th>课程名字</th>\n      <th>课程类别</th>\n      <th>学分</th>\n      <th>分数</th>\n    </tr>\n  </thead>\n  <tbody>\n    <tr>\n      <th>1101</th>\n      <td>思想道德修养与法律基础</td>\n      <td>思政类</td>\n      <td>3</td>\n      <td>89.0</td>\n    </tr>\n    <tr>\n      <th>1102</th>\n      <td>云计算应用与开发</td>\n      <td>专业选修课</td>\n      <td>3</td>\n      <td>96.0</td>\n    </tr>\n    <tr>\n      <th>1103</th>\n      <td>社会计算</td>\n      <td>专业选修课</td>\n      <td>3</td>\n      <td>78.0</td>\n    </tr>\n    <tr>\n      <th>1104</th>\n      <td>深度学习</td>\n      <td>专业选修课</td>\n      <td>3</td>\n      <td>75.0</td>\n    </tr>\n    <tr>\n      <th>1105</th>\n      <td>人工智能导论</td>\n      <td>专业必修课</td>\n      <td>3</td>\n      <td>NaN</td>\n    </tr>\n    <tr>\n      <th>1106</th>\n      <td>中国近代史纲要</td>\n      <td>思政类</td>\n      <td>3</td>\n      <td>97.0</td>\n    </tr>\n    <tr>\n      <th>1107</th>\n      <td>数据结构与算法</td>\n      <td>学科基础课</td>\n      <td>5</td>\n      <td>82.0</td>\n    </tr>\n    <tr>\n      <th>1108</th>\n      <td>开源软件设计与开发</td>\n      <td>专业选修课</td>\n      <td>3</td>\n      <td>81.0</td>\n    </tr>\n    <tr>\n      <th>1109</th>\n      <td>网球（初）</td>\n      <td>体育类</td>\n      <td>1</td>\n      <td>81.0</td>\n    </tr>\n    <tr>\n      <th>1110</th>\n      <td>大数据应用案例</td>\n      <td>专业必修课</td>\n      <td>3</td>\n      <td>91.0</td>\n    </tr>\n    <tr>\n      <th>1111</th>\n      <td>极端性气候与陆地生态系统</td>\n      <td>公共任意选修类</td>\n      <td>2</td>\n      <td>78.0</td>\n    </tr>\n    <tr>\n      <th>1112</th>\n      <td>电子商务</td>\n      <td>专业选修课</td>\n      <td>3</td>\n      <td>74.0</td>\n    </tr>\n    <tr>\n      <th>1113</th>\n      <td>高等数学（二）</td>\n      <td>学科基础课</td>\n      <td>4</td>\n      <td>92.0</td>\n    </tr>\n    <tr>\n      <th>1114</th>\n      <td>游泳（初）</td>\n      <td>体育类</td>\n      <td>1</td>\n      <td>75.0</td>\n    </tr>\n    <tr>\n      <th>1115</th>\n      <td>计算机视觉</td>\n      <td>专业选修课</td>\n      <td>3</td>\n      <td>NaN</td>\n    </tr>\n    <tr>\n      <th>1116</th>\n      <td>离散数学</td>\n      <td>学科基础课</td>\n      <td>4</td>\n      <td>82.0</td>\n    </tr>\n    <tr>\n      <th>1117</th>\n      <td>数据科学的数学基础</td>\n      <td>专业必修课</td>\n      <td>4</td>\n      <td>75.0</td>\n    </tr>\n    <tr>\n      <th>1118</th>\n      <td>程序设计</td>\n      <td>学科基础课</td>\n      <td>4</td>\n      <td>NaN</td>\n    </tr>\n    <tr>\n      <th>1119</th>\n      <td>足球（初）</td>\n      <td>体育类</td>\n      <td>1</td>\n      <td>100.0</td>\n    </tr>\n    <tr>\n      <th>1120</th>\n      <td>线性代数</td>\n      <td>学科基础课</td>\n      <td>3</td>\n      <td>97.0</td>\n    </tr>\n    <tr>\n      <th>1121</th>\n      <td>毛泽东思想和中国特色社会主义理论体系概论（一）</td>\n      <td>思政类</td>\n      <td>3</td>\n      <td>99.0</td>\n    </tr>\n    <tr>\n      <th>1122</th>\n      <td>机器学习</td>\n      <td>专业选修课</td>\n      <td>3</td>\n      <td>88.0</td>\n    </tr>\n    <tr>\n      <th>1123</th>\n      <td>位置服务</td>\n      <td>专业选修课</td>\n      <td>3</td>\n      <td>87.0</td>\n    </tr>\n    <tr>\n      <th>1124</th>\n      <td>学术英语听说（一）</td>\n      <td>英语类</td>\n      <td>2</td>\n      <td>85.0</td>\n    </tr>\n    <tr>\n      <th>1125</th>\n      <td>程序正义与经典案例解析</td>\n      <td>精品课程</td>\n      <td>2</td>\n      <td>76.0</td>\n    </tr>\n    <tr>\n      <th>1126</th>\n      <td>环境可持续发展</td>\n      <td>公共任意选修类</td>\n      <td>2</td>\n      <td>76.0</td>\n    </tr>\n    <tr>\n      <th>1127</th>\n      <td>数据挖掘</td>\n      <td>专业必修课</td>\n      <td>4</td>\n      <td>71.0</td>\n    </tr>\n    <tr>\n      <th>1128</th>\n      <td>毛泽东思想和中国特色社会主义理论体系概论（二）</td>\n      <td>思政类</td>\n      <td>3</td>\n      <td>93.0</td>\n    </tr>\n    <tr>\n      <th>1129</th>\n      <td>概率图模型</td>\n      <td>专业选修课</td>\n      <td>3</td>\n      <td>96.0</td>\n    </tr>\n    <tr>\n      <th>1130</th>\n      <td>篮球（初）</td>\n      <td>体育类</td>\n      <td>1</td>\n      <td>77.0</td>\n    </tr>\n    <tr>\n      <th>1131</th>\n      <td>高等统计选讲</td>\n      <td>专业选修课</td>\n      <td>3</td>\n      <td>87.0</td>\n    </tr>\n    <tr>\n      <th>1132</th>\n      <td>推荐系统</td>\n      <td>专业选修课</td>\n      <td>3</td>\n      <td>97.0</td>\n    </tr>\n    <tr>\n      <th>1133</th>\n      <td>智慧城市</td>\n      <td>专业选修课</td>\n      <td>3</td>\n      <td>77.0</td>\n    </tr>\n  </tbody>\n</table>\n</div>"
     },
     "execution_count": 44,
     "metadata": {},
     "output_type": "execute_result"
    }
   ],
   "source": [
    "df"
   ],
   "metadata": {
    "collapsed": false,
    "pycharm": {
     "name": "#%%\n"
    }
   }
  },
  {
   "cell_type": "code",
   "execution_count": 42,
   "outputs": [],
   "source": [
    "# 10.获取编号1101-1109的课程名字和分数\n"
   ],
   "metadata": {
    "collapsed": false,
    "pycharm": {
     "name": "#%%\n"
    }
   }
  },
  {
   "cell_type": "code",
   "execution_count": 45,
   "outputs": [],
   "source": [
    "# 11.使用iloc输出编号为1101，1103，1105的三行数据\n"
   ],
   "metadata": {
    "collapsed": false,
    "pycharm": {
     "name": "#%%\n"
    }
   }
  },
  {
   "cell_type": "code",
   "execution_count": 46,
   "outputs": [],
   "source": [
    "# 12.对分数进行降序排序，并输出前十行数据\n"
   ],
   "metadata": {
    "collapsed": false,
    "pycharm": {
     "name": "#%%\n"
    }
   }
  },
  {
   "cell_type": "code",
   "execution_count": 48,
   "outputs": [
    {
     "data": {
      "text/plain": "1101     (75.0, 90.0]\n1102    (90.0, 100.0]\n1103     (75.0, 90.0]\n1104     (60.0, 75.0]\n1105              NaN\n1106    (90.0, 100.0]\n1107     (75.0, 90.0]\n1108     (75.0, 90.0]\n1109     (75.0, 90.0]\n1110    (90.0, 100.0]\n1111     (75.0, 90.0]\n1112     (60.0, 75.0]\n1113    (90.0, 100.0]\n1114     (60.0, 75.0]\n1115              NaN\n1116     (75.0, 90.0]\n1117     (60.0, 75.0]\n1118              NaN\n1119    (90.0, 100.0]\n1120    (90.0, 100.0]\n1121    (90.0, 100.0]\n1122     (75.0, 90.0]\n1123     (75.0, 90.0]\n1124     (75.0, 90.0]\n1125     (75.0, 90.0]\n1126     (75.0, 90.0]\n1127     (60.0, 75.0]\n1128    (90.0, 100.0]\n1129    (90.0, 100.0]\n1130     (75.0, 90.0]\n1131     (75.0, 90.0]\n1132    (90.0, 100.0]\n1133     (75.0, 90.0]\nName: 分数, dtype: category\nCategories (4, interval[int64, right]): [(0, 60] < (60, 75] < (75, 90] < (90, 100]]"
     },
     "execution_count": 48,
     "metadata": {},
     "output_type": "execute_result"
    }
   ],
   "source": [
    "# 13.使用cut对分数区间的划分0-60.60-75.75-90.90-100左闭右开命名为分数区间\n",
    "aa=pd.cut(df['分数'],bins=[0,60,75,90,100])\n",
    "aa"
   ],
   "metadata": {
    "collapsed": false,
    "pycharm": {
     "name": "#%%\n"
    }
   }
  },
  {
   "cell_type": "code",
   "execution_count": 49,
   "outputs": [
    {
     "ename": "SyntaxError",
     "evalue": "expression cannot contain assignment, perhaps you meant \"==\"? (2352294086.py, line 3)",
     "output_type": "error",
     "traceback": [
      "\u001B[1;36m  Cell \u001B[1;32mIn [49], line 3\u001B[1;36m\u001B[0m\n\u001B[1;33m    df.assign('分数区间'=Words)\u001B[0m\n\u001B[1;37m              ^\u001B[0m\n\u001B[1;31mSyntaxError\u001B[0m\u001B[1;31m:\u001B[0m expression cannot contain assignment, perhaps you meant \"==\"?\n"
     ]
    }
   ],
   "source": [
    "# 14.将分数区间作为一列添加到表格，命名分数区间\n",
    "Words = pd.Series(list(aa))\n",
    "df.assign('分数区间'=Words)"
   ],
   "metadata": {
    "collapsed": false,
    "pycharm": {
     "name": "#%%\n"
    }
   }
  },
  {
   "cell_type": "code",
   "execution_count": null,
   "outputs": [],
   "source": [],
   "metadata": {
    "collapsed": false,
    "pycharm": {
     "name": "#%%\n"
    }
   }
  }
 ],
 "metadata": {
  "kernelspec": {
   "display_name": "Python 3",
   "language": "python",
   "name": "python3"
  },
  "language_info": {
   "codemirror_mode": {
    "name": "ipython",
    "version": 2
   },
   "file_extension": ".py",
   "mimetype": "text/x-python",
   "name": "python",
   "nbconvert_exporter": "python",
   "pygments_lexer": "ipython2",
   "version": "2.7.6"
  }
 },
 "nbformat": 4,
 "nbformat_minor": 0
}