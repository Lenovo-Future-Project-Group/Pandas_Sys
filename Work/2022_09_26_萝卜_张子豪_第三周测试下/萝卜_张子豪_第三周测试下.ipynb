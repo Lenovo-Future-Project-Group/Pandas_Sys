{
 "cells": [
  {
   "cell_type": "code",
   "execution_count": 2,
   "metadata": {
    "collapsed": true,
    "pycharm": {
     "name": "#%%\n"
    }
   },
   "outputs": [],
   "source": [
    "import pandas as pd\n",
    "import numpy as np\n",
    "import random"
   ]
  },
  {
   "cell_type": "code",
   "execution_count": 3,
   "outputs": [
    {
     "data": {
      "text/plain": "                       课程名字     课程类别  学分    分数\n23                学术英语听说（一）      英语类   2  85.0\n24              程序正义与经典案例解析     精品课程   2  76.0\n25                  环境可持续发展  公共任意选修类   2  76.0\n26                     数据挖掘    专业必修课   4  71.0\n27  毛泽东思想和中国特色社会主义理论体系概论（二）      思政类   3  93.0\n28                    概率图模型    专业选修课   3  96.0\n29                    篮球（初）      体育类   1  77.0\n30                   高等统计选讲    专业选修课   3  87.0\n31                     推荐系统    专业选修课   3  97.0\n32                     智慧城市    专业选修课   3  77.0",
      "text/html": "<div>\n<style scoped>\n    .dataframe tbody tr th:only-of-type {\n        vertical-align: middle;\n    }\n\n    .dataframe tbody tr th {\n        vertical-align: top;\n    }\n\n    .dataframe thead th {\n        text-align: right;\n    }\n</style>\n<table border=\"1\" class=\"dataframe\">\n  <thead>\n    <tr style=\"text-align: right;\">\n      <th></th>\n      <th>课程名字</th>\n      <th>课程类别</th>\n      <th>学分</th>\n      <th>分数</th>\n    </tr>\n  </thead>\n  <tbody>\n    <tr>\n      <th>23</th>\n      <td>学术英语听说（一）</td>\n      <td>英语类</td>\n      <td>2</td>\n      <td>85.0</td>\n    </tr>\n    <tr>\n      <th>24</th>\n      <td>程序正义与经典案例解析</td>\n      <td>精品课程</td>\n      <td>2</td>\n      <td>76.0</td>\n    </tr>\n    <tr>\n      <th>25</th>\n      <td>环境可持续发展</td>\n      <td>公共任意选修类</td>\n      <td>2</td>\n      <td>76.0</td>\n    </tr>\n    <tr>\n      <th>26</th>\n      <td>数据挖掘</td>\n      <td>专业必修课</td>\n      <td>4</td>\n      <td>71.0</td>\n    </tr>\n    <tr>\n      <th>27</th>\n      <td>毛泽东思想和中国特色社会主义理论体系概论（二）</td>\n      <td>思政类</td>\n      <td>3</td>\n      <td>93.0</td>\n    </tr>\n    <tr>\n      <th>28</th>\n      <td>概率图模型</td>\n      <td>专业选修课</td>\n      <td>3</td>\n      <td>96.0</td>\n    </tr>\n    <tr>\n      <th>29</th>\n      <td>篮球（初）</td>\n      <td>体育类</td>\n      <td>1</td>\n      <td>77.0</td>\n    </tr>\n    <tr>\n      <th>30</th>\n      <td>高等统计选讲</td>\n      <td>专业选修课</td>\n      <td>3</td>\n      <td>87.0</td>\n    </tr>\n    <tr>\n      <th>31</th>\n      <td>推荐系统</td>\n      <td>专业选修课</td>\n      <td>3</td>\n      <td>97.0</td>\n    </tr>\n    <tr>\n      <th>32</th>\n      <td>智慧城市</td>\n      <td>专业选修课</td>\n      <td>3</td>\n      <td>77.0</td>\n    </tr>\n  </tbody>\n</table>\n</div>"
     },
     "execution_count": 3,
     "metadata": {},
     "output_type": "execute_result"
    }
   ],
   "source": [
    "df = pd.read_csv('课程1.csv')\n",
    "df\n",
    "df.head()\n",
    "df.tail(10)"
   ],
   "metadata": {
    "collapsed": false,
    "pycharm": {
     "name": "#%%\n"
    }
   }
  },
  {
   "cell_type": "code",
   "execution_count": 16,
   "outputs": [
    {
     "data": {
      "text/plain": "0         思政类\n1       专业选修课\n2       专业选修课\n3       专业选修课\n4       专业必修课\n5         思政类\n6       学科基础课\n7       专业选修课\n8         体育类\n9       专业必修课\n10    公共任意选修类\n11      专业选修课\n12      学科基础课\n13        体育类\n14      专业选修课\n15      学科基础课\n16      专业必修课\n17      学科基础课\n18        体育类\n19      学科基础课\n20        思政类\n21      专业选修课\n22      专业选修课\n23        英语类\n24       精品课程\n25    公共任意选修类\n26      专业必修课\n27        思政类\n28      专业选修课\n29        体育类\n30      专业选修课\n31      专业选修课\n32      专业选修课\nName: 课程类别, dtype: object"
     },
     "execution_count": 16,
     "metadata": {},
     "output_type": "execute_result"
    }
   ],
   "source": [
    "#2.有哪些课程类别，有多少个类别\n",
    "df.loc[:,'课程类别']"
   ],
   "metadata": {
    "collapsed": false,
    "pycharm": {
     "name": "#%%\n"
    }
   }
  },
  {
   "cell_type": "code",
   "execution_count": 17,
   "outputs": [
    {
     "data": {
      "text/plain": "8"
     },
     "execution_count": 17,
     "metadata": {},
     "output_type": "execute_result"
    }
   ],
   "source": [
    "df['课程类别'].unique()\n",
    "df['课程类别'].nunique()"
   ],
   "metadata": {
    "collapsed": false,
    "pycharm": {
     "name": "#%%\n"
    }
   }
  },
  {
   "cell_type": "code",
   "execution_count": 18,
   "outputs": [
    {
     "data": {
      "text/plain": "课程类别\n专业必修课       4\n专业选修课      12\n体育类         4\n公共任意选修类     2\n学科基础课       5\n思政类         4\n精品课程        1\n英语类         1\nName: 课程名字, dtype: int64"
     },
     "execution_count": 18,
     "metadata": {},
     "output_type": "execute_result"
    }
   ],
   "source": [
    "#3.每一个课程类别对应着多少个课程名字\n",
    "df.groupby('课程类别')['课程名字'].count()"
   ],
   "metadata": {
    "collapsed": false,
    "pycharm": {
     "name": "#%%\n"
    }
   }
  },
  {
   "cell_type": "code",
   "execution_count": 6,
   "outputs": [
    {
     "data": {
      "text/plain": "         课程名字   课程类别  学分    分数\n6     数据结构与算法  学科基础课   5  82.0\n12    高等数学（二）  学科基础课   4  92.0\n15       离散数学  学科基础课   4  82.0\n16  数据科学的数学基础  专业必修课   4  75.0\n17       程序设计  学科基础课   4   NaN\n26       数据挖掘  专业必修课   4  71.0",
      "text/html": "<div>\n<style scoped>\n    .dataframe tbody tr th:only-of-type {\n        vertical-align: middle;\n    }\n\n    .dataframe tbody tr th {\n        vertical-align: top;\n    }\n\n    .dataframe thead th {\n        text-align: right;\n    }\n</style>\n<table border=\"1\" class=\"dataframe\">\n  <thead>\n    <tr style=\"text-align: right;\">\n      <th></th>\n      <th>课程名字</th>\n      <th>课程类别</th>\n      <th>学分</th>\n      <th>分数</th>\n    </tr>\n  </thead>\n  <tbody>\n    <tr>\n      <th>6</th>\n      <td>数据结构与算法</td>\n      <td>学科基础课</td>\n      <td>5</td>\n      <td>82.0</td>\n    </tr>\n    <tr>\n      <th>12</th>\n      <td>高等数学（二）</td>\n      <td>学科基础课</td>\n      <td>4</td>\n      <td>92.0</td>\n    </tr>\n    <tr>\n      <th>15</th>\n      <td>离散数学</td>\n      <td>学科基础课</td>\n      <td>4</td>\n      <td>82.0</td>\n    </tr>\n    <tr>\n      <th>16</th>\n      <td>数据科学的数学基础</td>\n      <td>专业必修课</td>\n      <td>4</td>\n      <td>75.0</td>\n    </tr>\n    <tr>\n      <th>17</th>\n      <td>程序设计</td>\n      <td>学科基础课</td>\n      <td>4</td>\n      <td>NaN</td>\n    </tr>\n    <tr>\n      <th>26</th>\n      <td>数据挖掘</td>\n      <td>专业必修课</td>\n      <td>4</td>\n      <td>71.0</td>\n    </tr>\n  </tbody>\n</table>\n</div>"
     },
     "execution_count": 6,
     "metadata": {},
     "output_type": "execute_result"
    }
   ],
   "source": [
    "#4.打印出学分大于三分的数据\n",
    "df[df['学分']>3]"
   ],
   "metadata": {
    "collapsed": false,
    "pycharm": {
     "name": "#%%\n"
    }
   }
  },
  {
   "cell_type": "code",
   "execution_count": 7,
   "outputs": [
    {
     "data": {
      "text/plain": "            课程名字     课程类别  学分     分数\n6        数据结构与算法    学科基础课   5   82.0\n8          网球（初）      体育类   1   81.0\n10  极端性气候与陆地生态系统  公共任意选修类   2   78.0\n12       高等数学（二）    学科基础课   4   92.0\n13         游泳（初）      体育类   1   75.0\n15          离散数学    学科基础课   4   82.0\n16     数据科学的数学基础    专业必修课   4   75.0\n17          程序设计    学科基础课   4    NaN\n18         足球（初）      体育类   1  100.0\n23     学术英语听说（一）      英语类   2   85.0\n24   程序正义与经典案例解析     精品课程   2   76.0\n25       环境可持续发展  公共任意选修类   2   76.0\n26          数据挖掘    专业必修课   4   71.0\n29         篮球（初）      体育类   1   77.0",
      "text/html": "<div>\n<style scoped>\n    .dataframe tbody tr th:only-of-type {\n        vertical-align: middle;\n    }\n\n    .dataframe tbody tr th {\n        vertical-align: top;\n    }\n\n    .dataframe thead th {\n        text-align: right;\n    }\n</style>\n<table border=\"1\" class=\"dataframe\">\n  <thead>\n    <tr style=\"text-align: right;\">\n      <th></th>\n      <th>课程名字</th>\n      <th>课程类别</th>\n      <th>学分</th>\n      <th>分数</th>\n    </tr>\n  </thead>\n  <tbody>\n    <tr>\n      <th>6</th>\n      <td>数据结构与算法</td>\n      <td>学科基础课</td>\n      <td>5</td>\n      <td>82.0</td>\n    </tr>\n    <tr>\n      <th>8</th>\n      <td>网球（初）</td>\n      <td>体育类</td>\n      <td>1</td>\n      <td>81.0</td>\n    </tr>\n    <tr>\n      <th>10</th>\n      <td>极端性气候与陆地生态系统</td>\n      <td>公共任意选修类</td>\n      <td>2</td>\n      <td>78.0</td>\n    </tr>\n    <tr>\n      <th>12</th>\n      <td>高等数学（二）</td>\n      <td>学科基础课</td>\n      <td>4</td>\n      <td>92.0</td>\n    </tr>\n    <tr>\n      <th>13</th>\n      <td>游泳（初）</td>\n      <td>体育类</td>\n      <td>1</td>\n      <td>75.0</td>\n    </tr>\n    <tr>\n      <th>15</th>\n      <td>离散数学</td>\n      <td>学科基础课</td>\n      <td>4</td>\n      <td>82.0</td>\n    </tr>\n    <tr>\n      <th>16</th>\n      <td>数据科学的数学基础</td>\n      <td>专业必修课</td>\n      <td>4</td>\n      <td>75.0</td>\n    </tr>\n    <tr>\n      <th>17</th>\n      <td>程序设计</td>\n      <td>学科基础课</td>\n      <td>4</td>\n      <td>NaN</td>\n    </tr>\n    <tr>\n      <th>18</th>\n      <td>足球（初）</td>\n      <td>体育类</td>\n      <td>1</td>\n      <td>100.0</td>\n    </tr>\n    <tr>\n      <th>23</th>\n      <td>学术英语听说（一）</td>\n      <td>英语类</td>\n      <td>2</td>\n      <td>85.0</td>\n    </tr>\n    <tr>\n      <th>24</th>\n      <td>程序正义与经典案例解析</td>\n      <td>精品课程</td>\n      <td>2</td>\n      <td>76.0</td>\n    </tr>\n    <tr>\n      <th>25</th>\n      <td>环境可持续发展</td>\n      <td>公共任意选修类</td>\n      <td>2</td>\n      <td>76.0</td>\n    </tr>\n    <tr>\n      <th>26</th>\n      <td>数据挖掘</td>\n      <td>专业必修课</td>\n      <td>4</td>\n      <td>71.0</td>\n    </tr>\n    <tr>\n      <th>29</th>\n      <td>篮球（初）</td>\n      <td>体育类</td>\n      <td>1</td>\n      <td>77.0</td>\n    </tr>\n  </tbody>\n</table>\n</div>"
     },
     "execution_count": 7,
     "metadata": {},
     "output_type": "execute_result"
    }
   ],
   "source": [
    "#5.打印出学分小于等于两分或大于等于4分的数据\n",
    "\n",
    "(df[(df['学分']<=2) | (df['学分']>=4)])"
   ],
   "metadata": {
    "collapsed": false,
    "pycharm": {
     "name": "#%%\n"
    }
   }
  },
  {
   "cell_type": "code",
   "execution_count": 8,
   "outputs": [],
   "source": [
    "#6.将分数这一列的空值替换成此列的平均值"
   ],
   "metadata": {
    "collapsed": false,
    "pycharm": {
     "name": "#%%\n"
    }
   }
  },
  {
   "cell_type": "code",
   "execution_count": 9,
   "outputs": [
    {
     "data": {
      "text/plain": "Empty DataFrame\nColumns: [课程名字, 课程类别, 学分, 分数]\nIndex: []",
      "text/html": "<div>\n<style scoped>\n    .dataframe tbody tr th:only-of-type {\n        vertical-align: middle;\n    }\n\n    .dataframe tbody tr th {\n        vertical-align: top;\n    }\n\n    .dataframe thead th {\n        text-align: right;\n    }\n</style>\n<table border=\"1\" class=\"dataframe\">\n  <thead>\n    <tr style=\"text-align: right;\">\n      <th></th>\n      <th>课程名字</th>\n      <th>课程类别</th>\n      <th>学分</th>\n      <th>分数</th>\n    </tr>\n  </thead>\n  <tbody>\n  </tbody>\n</table>\n</div>"
     },
     "execution_count": 9,
     "metadata": {},
     "output_type": "execute_result"
    }
   ],
   "source": [
    "#7.查看思政类和体育类的体育名字"
   ],
   "metadata": {
    "collapsed": false,
    "pycharm": {
     "name": "#%%\n"
    }
   }
  },
  {
   "cell_type": "code",
   "execution_count": 9,
   "outputs": [],
   "source": [
    "#8.查看电子商务的考试分数\n"
   ],
   "metadata": {
    "collapsed": false,
    "pycharm": {
     "name": "#%%\n"
    }
   }
  },
  {
   "cell_type": "code",
   "execution_count": 25,
   "outputs": [
    {
     "data": {
      "text/plain": "                       课程名字     课程类别  学分     分数\n0               思想道德修养与法律基础      思政类   3   89.0\n1                  云计算应用与开发    专业选修课   3   96.0\n2                      社会计算    专业选修课   3   78.0\n3                      深度学习    专业选修课   3   75.0\n4                    人工智能导论    专业必修课   3    NaN\n5                   中国近代史纲要      思政类   3   97.0\n6                   数据结构与算法    学科基础课   5   82.0\n7                 开源软件设计与开发    专业选修课   3   81.0\n8                     网球（初）      体育类   1   81.0\n9                   大数据应用案例    专业必修课   3   91.0\n10             极端性气候与陆地生态系统  公共任意选修类   2   78.0\n11                     电子商务    专业选修课   3   74.0\n12                  高等数学（二）    学科基础课   4   92.0\n13                    游泳（初）      体育类   1   75.0\n14                    计算机视觉    专业选修课   3    NaN\n15                     离散数学    学科基础课   4   82.0\n16                数据科学的数学基础    专业必修课   4   75.0\n17                     程序设计    学科基础课   4    NaN\n18                    足球（初）      体育类   1  100.0\n19                     线性代数    学科基础课   3   97.0\n20  毛泽东思想和中国特色社会主义理论体系概论（一）      思政类   3   99.0\n21                     机器学习    专业选修课   3   88.0\n22                     位置服务    专业选修课   3   87.0\n23                学术英语听说（一）      英语类   2   85.0\n24              程序正义与经典案例解析     精品课程   2   76.0\n25                  环境可持续发展  公共任意选修类   2   76.0\n26                     数据挖掘    专业必修课   4   71.0\n27  毛泽东思想和中国特色社会主义理论体系概论（二）      思政类   3   93.0\n28                    概率图模型    专业选修课   3   96.0\n29                    篮球（初）      体育类   1   77.0\n30                   高等统计选讲    专业选修课   3   87.0\n31                     推荐系统    专业选修课   3   97.0\n32                     智慧城市    专业选修课   3   77.0",
      "text/html": "<div>\n<style scoped>\n    .dataframe tbody tr th:only-of-type {\n        vertical-align: middle;\n    }\n\n    .dataframe tbody tr th {\n        vertical-align: top;\n    }\n\n    .dataframe thead th {\n        text-align: right;\n    }\n</style>\n<table border=\"1\" class=\"dataframe\">\n  <thead>\n    <tr style=\"text-align: right;\">\n      <th></th>\n      <th>课程名字</th>\n      <th>课程类别</th>\n      <th>学分</th>\n      <th>分数</th>\n    </tr>\n  </thead>\n  <tbody>\n    <tr>\n      <th>0</th>\n      <td>思想道德修养与法律基础</td>\n      <td>思政类</td>\n      <td>3</td>\n      <td>89.0</td>\n    </tr>\n    <tr>\n      <th>1</th>\n      <td>云计算应用与开发</td>\n      <td>专业选修课</td>\n      <td>3</td>\n      <td>96.0</td>\n    </tr>\n    <tr>\n      <th>2</th>\n      <td>社会计算</td>\n      <td>专业选修课</td>\n      <td>3</td>\n      <td>78.0</td>\n    </tr>\n    <tr>\n      <th>3</th>\n      <td>深度学习</td>\n      <td>专业选修课</td>\n      <td>3</td>\n      <td>75.0</td>\n    </tr>\n    <tr>\n      <th>4</th>\n      <td>人工智能导论</td>\n      <td>专业必修课</td>\n      <td>3</td>\n      <td>NaN</td>\n    </tr>\n    <tr>\n      <th>5</th>\n      <td>中国近代史纲要</td>\n      <td>思政类</td>\n      <td>3</td>\n      <td>97.0</td>\n    </tr>\n    <tr>\n      <th>6</th>\n      <td>数据结构与算法</td>\n      <td>学科基础课</td>\n      <td>5</td>\n      <td>82.0</td>\n    </tr>\n    <tr>\n      <th>7</th>\n      <td>开源软件设计与开发</td>\n      <td>专业选修课</td>\n      <td>3</td>\n      <td>81.0</td>\n    </tr>\n    <tr>\n      <th>8</th>\n      <td>网球（初）</td>\n      <td>体育类</td>\n      <td>1</td>\n      <td>81.0</td>\n    </tr>\n    <tr>\n      <th>9</th>\n      <td>大数据应用案例</td>\n      <td>专业必修课</td>\n      <td>3</td>\n      <td>91.0</td>\n    </tr>\n    <tr>\n      <th>10</th>\n      <td>极端性气候与陆地生态系统</td>\n      <td>公共任意选修类</td>\n      <td>2</td>\n      <td>78.0</td>\n    </tr>\n    <tr>\n      <th>11</th>\n      <td>电子商务</td>\n      <td>专业选修课</td>\n      <td>3</td>\n      <td>74.0</td>\n    </tr>\n    <tr>\n      <th>12</th>\n      <td>高等数学（二）</td>\n      <td>学科基础课</td>\n      <td>4</td>\n      <td>92.0</td>\n    </tr>\n    <tr>\n      <th>13</th>\n      <td>游泳（初）</td>\n      <td>体育类</td>\n      <td>1</td>\n      <td>75.0</td>\n    </tr>\n    <tr>\n      <th>14</th>\n      <td>计算机视觉</td>\n      <td>专业选修课</td>\n      <td>3</td>\n      <td>NaN</td>\n    </tr>\n    <tr>\n      <th>15</th>\n      <td>离散数学</td>\n      <td>学科基础课</td>\n      <td>4</td>\n      <td>82.0</td>\n    </tr>\n    <tr>\n      <th>16</th>\n      <td>数据科学的数学基础</td>\n      <td>专业必修课</td>\n      <td>4</td>\n      <td>75.0</td>\n    </tr>\n    <tr>\n      <th>17</th>\n      <td>程序设计</td>\n      <td>学科基础课</td>\n      <td>4</td>\n      <td>NaN</td>\n    </tr>\n    <tr>\n      <th>18</th>\n      <td>足球（初）</td>\n      <td>体育类</td>\n      <td>1</td>\n      <td>100.0</td>\n    </tr>\n    <tr>\n      <th>19</th>\n      <td>线性代数</td>\n      <td>学科基础课</td>\n      <td>3</td>\n      <td>97.0</td>\n    </tr>\n    <tr>\n      <th>20</th>\n      <td>毛泽东思想和中国特色社会主义理论体系概论（一）</td>\n      <td>思政类</td>\n      <td>3</td>\n      <td>99.0</td>\n    </tr>\n    <tr>\n      <th>21</th>\n      <td>机器学习</td>\n      <td>专业选修课</td>\n      <td>3</td>\n      <td>88.0</td>\n    </tr>\n    <tr>\n      <th>22</th>\n      <td>位置服务</td>\n      <td>专业选修课</td>\n      <td>3</td>\n      <td>87.0</td>\n    </tr>\n    <tr>\n      <th>23</th>\n      <td>学术英语听说（一）</td>\n      <td>英语类</td>\n      <td>2</td>\n      <td>85.0</td>\n    </tr>\n    <tr>\n      <th>24</th>\n      <td>程序正义与经典案例解析</td>\n      <td>精品课程</td>\n      <td>2</td>\n      <td>76.0</td>\n    </tr>\n    <tr>\n      <th>25</th>\n      <td>环境可持续发展</td>\n      <td>公共任意选修类</td>\n      <td>2</td>\n      <td>76.0</td>\n    </tr>\n    <tr>\n      <th>26</th>\n      <td>数据挖掘</td>\n      <td>专业必修课</td>\n      <td>4</td>\n      <td>71.0</td>\n    </tr>\n    <tr>\n      <th>27</th>\n      <td>毛泽东思想和中国特色社会主义理论体系概论（二）</td>\n      <td>思政类</td>\n      <td>3</td>\n      <td>93.0</td>\n    </tr>\n    <tr>\n      <th>28</th>\n      <td>概率图模型</td>\n      <td>专业选修课</td>\n      <td>3</td>\n      <td>96.0</td>\n    </tr>\n    <tr>\n      <th>29</th>\n      <td>篮球（初）</td>\n      <td>体育类</td>\n      <td>1</td>\n      <td>77.0</td>\n    </tr>\n    <tr>\n      <th>30</th>\n      <td>高等统计选讲</td>\n      <td>专业选修课</td>\n      <td>3</td>\n      <td>87.0</td>\n    </tr>\n    <tr>\n      <th>31</th>\n      <td>推荐系统</td>\n      <td>专业选修课</td>\n      <td>3</td>\n      <td>97.0</td>\n    </tr>\n    <tr>\n      <th>32</th>\n      <td>智慧城市</td>\n      <td>专业选修课</td>\n      <td>3</td>\n      <td>77.0</td>\n    </tr>\n  </tbody>\n</table>\n</div>"
     },
     "execution_count": 25,
     "metadata": {},
     "output_type": "execute_result"
    }
   ],
   "source": [
    "#9.修改索引的名字为编号:从1101开始到1101+len(df)结束\n",
    "s = range(1101,1101+len(df))\n",
    "df"
   ],
   "metadata": {
    "collapsed": false,
    "pycharm": {
     "name": "#%%\n"
    }
   }
  },
  {
   "cell_type": "code",
   "execution_count": 23,
   "outputs": [
    {
     "data": {
      "text/plain": "Empty DataFrame\nColumns: [课程名字, 课程类别, 学分, 分数]\nIndex: []",
      "text/html": "<div>\n<style scoped>\n    .dataframe tbody tr th:only-of-type {\n        vertical-align: middle;\n    }\n\n    .dataframe tbody tr th {\n        vertical-align: top;\n    }\n\n    .dataframe thead th {\n        text-align: right;\n    }\n</style>\n<table border=\"1\" class=\"dataframe\">\n  <thead>\n    <tr style=\"text-align: right;\">\n      <th></th>\n      <th>课程名字</th>\n      <th>课程类别</th>\n      <th>学分</th>\n      <th>分数</th>\n    </tr>\n  </thead>\n  <tbody>\n  </tbody>\n</table>\n</div>"
     },
     "execution_count": 23,
     "metadata": {},
     "output_type": "execute_result"
    }
   ],
   "source": [
    "#10.获取编号为1101至1109的课程名字和分数\n",
    "df.loc[1101:1109,:]"
   ],
   "metadata": {
    "collapsed": false,
    "pycharm": {
     "name": "#%%\n"
    }
   }
  },
  {
   "cell_type": "code",
   "execution_count": null,
   "outputs": [],
   "source": [
    "#11.使用iloc输出1101.1103.1105的三行数据\n",
    "df.iloc[]"
   ],
   "metadata": {
    "collapsed": false,
    "pycharm": {
     "name": "#%%\n"
    }
   }
  },
  {
   "cell_type": "code",
   "execution_count": null,
   "outputs": [],
   "source": [
    "#12.对分数进行降序排序并输出前十行数据\n"
   ],
   "metadata": {
    "collapsed": false,
    "pycharm": {
     "name": "#%%\n"
    }
   }
  },
  {
   "cell_type": "code",
   "execution_count": null,
   "outputs": [],
   "source": [
    "#13.使用kat对区间进行划分，区间分别为30-60,60-75,75-90,90-100"
   ],
   "metadata": {
    "collapsed": false,
    "pycharm": {
     "name": "#%%\n"
    }
   }
  },
  {
   "cell_type": "code",
   "execution_count": null,
   "outputs": [],
   "source": [
    "#14.将分数区间添加到列名"
   ],
   "metadata": {
    "collapsed": false,
    "pycharm": {
     "name": "#%%\n"
    }
   }
  }
 ],
 "metadata": {
  "kernelspec": {
   "display_name": "Python 3",
   "language": "python",
   "name": "python3"
  },
  "language_info": {
   "codemirror_mode": {
    "name": "ipython",
    "version": 2
   },
   "file_extension": ".py",
   "mimetype": "text/x-python",
   "name": "python",
   "nbconvert_exporter": "python",
   "pygments_lexer": "ipython2",
   "version": "2.7.6"
  }
 },
 "nbformat": 4,
 "nbformat_minor": 0
}