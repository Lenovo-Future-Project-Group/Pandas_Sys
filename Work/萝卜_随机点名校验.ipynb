{
 "cells": [
  {
   "cell_type": "code",
   "execution_count": 1,
   "metadata": {
    "collapsed": true,
    "pycharm": {
     "name": "#%%\n"
    }
   },
   "outputs": [],
   "source": [
    "import os\n",
    "import random\n",
    "import shutil\n",
    "\n",
    "import pandas as pd"
   ]
  },
  {
   "cell_type": "code",
   "execution_count": 2,
   "outputs": [],
   "source": [
    "stu = ['崔昊元', '贾靖程', '吴俊岳', '王浩羽', '吕梦丽', '李博远', '牛皓冬', '张阔', '孙佳奇', '郑佳睦', '王孝天', '付一鸣', '李蓉轩', '陈观绅', '赵鑫博', '张子豪',\n",
    "       '叶平']"
   ],
   "metadata": {
    "collapsed": false,
    "pycharm": {
     "name": "#%%\n"
    }
   }
  },
  {
   "cell_type": "code",
   "execution_count": 3,
   "outputs": [],
   "source": [
    "def run():\n",
    "    df = pd.DataFrame(stu)\n",
    "    df['计数'] = 0\n",
    "\n",
    "    # 随机抽取\n",
    "    while True:\n",
    "        num = input('请输入测试次数：')\n",
    "        if num.isdigit():\n",
    "            num = int(num)\n",
    "            break\n",
    "        else:\n",
    "            print('输入错误，请重新输入！')\n",
    "    for i in range(num):\n",
    "        name = random.choice(stu)\n",
    "        df.loc[df[0] == name, '计数'] += 1\n",
    "        # 计算数据随机性和均匀性，并插入df中\n",
    "        df['随机性'] = df['计数'] / num\n",
    "\n",
    "        # 计算数据的标准差\n",
    "        df['标准差'] = df['随机性'] - df['随机性'].mean()\n",
    "        df['标准差'] = df['标准差'].apply(lambda x: x ** 2)\n",
    "        df['标准差'] = df['标准差'].sum() / len(df)\n",
    "        df['标准差'] = df['标准差'].apply(lambda x: x ** 0.5)\n",
    "\n",
    "        # 计算数据的均匀性\n",
    "        df['均匀性'] = df['标准差'] / df['随机性'].mean()\n",
    "\n",
    "        # 计算每个人被点到的概率和次数\n",
    "        df['概率'] = df['计数'] / num\n",
    "        df['次数'] = df['计数']\n",
    "        # 计算每个人被点到的概率和次数的平均值\n",
    "        df['概率平均值'] = df['概率'].mean()\n",
    "        df['次数平均值'] = df['次数'].mean()\n",
    "        # 计算每个人被点到的概率和次数的标准差\n",
    "        df['概率标准差'] = df['概率'].std()\n",
    "        df['次数标准差'] = df['次数'].std()\n",
    "        # 计算每个人被点到的概率和次数的最大值\n",
    "        df['概率最大值'] = df['概率'].max()\n",
    "        df['次数最大值'] = df['次数'].max()\n",
    "        # 计算每个人被点到的概率和次数的最小值\n",
    "        df['概率最小值'] = df['概率'].min()\n",
    "        df['次数最小值'] = df['次数'].min()\n",
    "        # 计算每个人被点到的概率和次数的离散值\n",
    "        df['概率离散值'] = df['概率'].mad()\n",
    "        df['次数离散值'] = df['次数'].mad()\n",
    "\n",
    "        # 检查是否在此目录存在testing report文件夹，如果没有则创建，如果有则跳过\n",
    "        if not os.path.exists('testing report'):\n",
    "            os.mkdir('testing report')\n",
    "        # 检查是否在此目录存在testing report文件夹，里面有无文件，如果有则删除，如果没有则跳过\n",
    "        if os.path.exists('testing report'):\n",
    "            shutil.rmtree('testing report')\n",
    "            os.mkdir('testing report')\n",
    "\n",
    "        # 生成初次随机点名校验结果 csv excel 文件\n",
    "        df.to_csv('./testing report/初次随机点名校验结果.csv', index=False)\n",
    "        df.to_excel('./testing report/初次随机点名校验结果.xlsx', index=False)\n",
    "\n",
    "        # 计算每个人被点的次数是否相近并生成报告\n",
    "        df['次数是否相近'] = df['次数'].apply(\n",
    "            lambda x: '是' if df['次数'].mean() - df['次数'].std() <= x <= df['次数'].mean() + df['次数'].std() else '否')\n",
    "        df['次数是否相近'].value_counts().to_csv('./testing report/次数校验报告.csv', index=True)\n",
    "\n",
    "        # 计算每个人被点的概率是否相近并生成报告\n",
    "        df['概率是否相近'] = df['概率'].apply(\n",
    "            lambda x: '是' if df['概率'].mean() - df['概率'].std() <= x <= df['概率'].mean() + df['概率'].std() else '否')\n",
    "        df['概率是否相近'].value_counts().to_csv('./testing report/概率校验报告.csv', index=True)\n",
    "\n",
    "        # 计算每个人被点的次数的规律性并生成报告\n",
    "        df['次数规律性'] = df['次数'].apply(\n",
    "            lambda x: '是' if df['次数'].mean() - df['次数'].std() <= x <= df['次数'].mean() + df['次数'].std() else '否')\n",
    "        df['次数规律性'].value_counts().to_csv('./testing report/次数规律性.csv', index=True)\n",
    "\n",
    "        # 使用df1和df2两个dataframe来存储每个人被点到的次数和概率\n",
    "        df1 = pd.DataFrame(df['次数'])\n",
    "        df2 = pd.DataFrame(df['概率'])\n",
    "\n",
    "        # 计算每个人被点到的次数和概率的相关性并生成报告\n",
    "        df1.corrwith(df2).to_csv('./testing report/次数和概率的相关性.csv', index=True)\n",
    "\n",
    "        # 计算每个人被点到的次数和概率的协方差并生成报告\n",
    "        df1.cov().to_csv('./testing report/次数和概率的协方差.csv', index=True)\n",
    "\n",
    "    df['概率'] = df['计数'] / num"
   ],
   "metadata": {
    "collapsed": false,
    "pycharm": {
     "name": "#%%\n"
    }
   }
  },
  {
   "cell_type": "code",
   "execution_count": 4,
   "outputs": [
    {
     "name": "stdout",
     "output_type": "stream",
     "text": [
      "欢迎来到随机点名小程序。请按任意键开始！\n",
      "输入T测试概率，输入Y开始点名\n",
      "测试概率\n",
      "输入数字N，测试N次随机点名的概率\n",
      "      0  count  probability\n",
      "0   崔昊元     30        0.060\n",
      "1   贾靖程     30        0.060\n",
      "2   吴俊岳     24        0.048\n",
      "3   王浩羽     33        0.066\n",
      "4   吕梦丽     17        0.034\n",
      "5   李博远     28        0.056\n",
      "6   牛皓冬     35        0.070\n",
      "7    张阔     29        0.058\n",
      "8   孙佳奇     28        0.056\n",
      "9   郑佳睦     31        0.062\n",
      "10  王孝天     35        0.070\n",
      "11  付一鸣     25        0.050\n",
      "12  李蓉轩     34        0.068\n",
      "13  陈观绅     27        0.054\n",
      "14  赵鑫博     32        0.064\n",
      "15  张子豪     32        0.064\n",
      "16   叶平     30        0.060\n",
      "测试完毕！\n"
     ]
    }
   ],
   "source": [
    "if __name__ == '__main__':\n",
    "    run()"
   ],
   "metadata": {
    "collapsed": false,
    "pycharm": {
     "name": "#%%\n"
    }
   }
  }
 ],
 "metadata": {
  "kernelspec": {
   "display_name": "Python 3",
   "language": "python",
   "name": "python3"
  },
  "language_info": {
   "codemirror_mode": {
    "name": "ipython",
    "version": 2
   },
   "file_extension": ".py",
   "mimetype": "text/x-python",
   "name": "python",
   "nbconvert_exporter": "python",
   "pygments_lexer": "ipython2",
   "version": "2.7.6"
  }
 },
 "nbformat": 4,
 "nbformat_minor": 0
}