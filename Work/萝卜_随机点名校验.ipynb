{
 "cells": [
  {
   "cell_type": "code",
   "execution_count": 56,
   "metadata": {
    "collapsed": true,
    "pycharm": {
     "name": "#%%\n"
    }
   },
   "outputs": [],
   "source": [
    "import os\n",
    "import random\n",
    "import shutil\n",
    "import pandas as pd\n",
    "from IPython.core.display_functions import display"
   ]
  },
  {
   "cell_type": "code",
   "execution_count": 57,
   "outputs": [],
   "source": [
    "stu = ['崔昊元', '贾靖程', '吴俊岳', '王浩羽', '吕梦丽', '李博远', '牛皓冬', '张阔', '孙佳奇', '郑佳睦', '王孝天', '付一鸣', '李蓉轩', '陈观绅', '赵鑫博', '张子豪',\n",
    "       '叶平']"
   ],
   "metadata": {
    "collapsed": false,
    "pycharm": {
     "name": "#%%\n"
    }
   }
  },
  {
   "cell_type": "code",
   "execution_count": 58,
   "outputs": [],
   "source": [
    "def run():\n",
    "    df = pd.DataFrame(stu)\n",
    "    df['计数'] = 0\n",
    "\n",
    "    # 将第一列的表头改为姓名\n",
    "    df.rename(columns={df.columns[0]: '姓名'}, inplace=True)\n",
    "\n",
    "    # 随机抽取\n",
    "    while True:\n",
    "        num = input('请输入测试次数：')\n",
    "        if num.isdigit():\n",
    "            num = int(num)\n",
    "            break\n",
    "        else:\n",
    "            print('输入错误，请重新输入！')\n",
    "    for i in range(num):\n",
    "        name = random.choice(stu)\n",
    "        df.loc[df['姓名'] == name, '计数'] += 1\n",
    "        # 计算数据随机性和均匀性，并插入df中\n",
    "        df['随机性'] = df['计数'] / num\n",
    "\n",
    "        # 计算数据的标准差\n",
    "        df['标准差'] = df['随机性'] - df['随机性'].mean()\n",
    "        df['标准差'] = df['标准差'].apply(lambda x: x ** 2)\n",
    "        df['标准差'] = df['标准差'].sum() / len(df)\n",
    "        df['标准差'] = df['标准差'].apply(lambda x: x ** 0.5)\n",
    "\n",
    "        # 计算数据的均匀性\n",
    "        df['均匀性'] = df['标准差'] / df['随机性'].mean()\n",
    "\n",
    "        # 计算每个人被点到的概率和次数\n",
    "        df['概率'] = df['计数'] / num\n",
    "        df['次数'] = df['计数']\n",
    "        # 计算每个人被点到的概率和次数的平均值\n",
    "        df['概率平均值'] = df['概率'].mean()\n",
    "        df['次数平均值'] = df['次数'].mean()\n",
    "        # 计算每个人被点到的概率和次数的标准差\n",
    "        df['概率标准差'] = df['概率'].std()\n",
    "        df['次数标准差'] = df['次数'].std()\n",
    "        # 计算每个人被点到的概率和次数的最大值\n",
    "        df['概率最大值'] = df['概率'].max()\n",
    "        df['次数最大值'] = df['次数'].max()\n",
    "        # 计算每个人被点到的概率和次数的最小值\n",
    "        df['概率最小值'] = df['概率'].min()\n",
    "        df['次数最小值'] = df['次数'].min()\n",
    "        # 计算每个人被点到的概率和次数的离散值\n",
    "        df['概率离散值'] = df['概率'].mad()\n",
    "        df['次数离散值'] = df['次数'].mad()\n",
    "\n",
    "        # 检查是否在此目录存在testing report文件夹，如果没有则创建，如果有则跳过\n",
    "        if not os.path.exists('testing report'):\n",
    "            os.mkdir('testing report')\n",
    "        # 检查是否在此目录存在testing report文件夹，里面有无文件，如果有则删除，如果没有则跳过\n",
    "        if os.path.exists('testing report'):\n",
    "            shutil.rmtree('testing report')\n",
    "            os.mkdir('testing report')\n",
    "\n",
    "        # 生成初次随机点名校验结果 csv excel 文件\n",
    "        df.to_csv('./testing report/初次随机点名校验结果.csv', index=False)\n",
    "        df.to_excel('./testing report/初次随机点名校验结果.xlsx', index=False)\n",
    "\n",
    "        # 计算每个人被点的次数是否相近并生成报告\n",
    "        df['次数是否相近'] = df['次数'].apply(\n",
    "            lambda x: '是' if df['次数'].mean() - df['次数'].std() <= x <= df['次数'].mean() + df['次数'].std() else '否')\n",
    "        df['次数是否相近'].value_counts().to_csv('./testing report/次数校验报告.csv', index=True)\n",
    "\n",
    "        # 计算每个人被点的概率是否相近并生成报告\n",
    "        df['概率是否相近'] = df['概率'].apply(\n",
    "            lambda x: '是' if df['概率'].mean() - df['概率'].std() <= x <= df['概率'].mean() + df['概率'].std() else '否')\n",
    "        df['概率是否相近'].value_counts().to_csv('./testing report/概率校验报告.csv', index=True)\n",
    "\n",
    "        # 计算每个人被点的次数的规律性并生成报告\n",
    "        df['次数规律性'] = df['次数'].apply(\n",
    "            lambda x: '是' if df['次数'].mean() - df['次数'].std() <= x <= df['次数'].mean() + df['次数'].std() else '否')\n",
    "        df['次数规律性'].value_counts().to_csv('./testing report/次数规律性.csv', index=True)\n",
    "\n",
    "        # 计算点名是否和名字首字母相关，并生成报告\n",
    "        df['名字概率性'] = df['姓名'].apply(lambda x: '是' if x[0] in 'ABCDEFGHIJKLMNOPQRSTUVWXYZ' else '否')\n",
    "        df['名字概率性'].value_counts().to_csv('./testing report/名字首字母.csv', index=True)\n",
    "\n",
    "        # 获取每个人的首字母并计算概率是否和名字首字母相关\n",
    "        df['名字首字母'] = df['姓名'].apply(lambda x: x[0])\n",
    "        df['名字首字母'].value_counts().to_csv('./testing report/名字首字母.csv', index=True)\n",
    "\n",
    "\n",
    "        # 使用df1和df2两个dataframe来存储每个人被点到的次数和概率\n",
    "        df1 = pd.DataFrame(df['次数'])\n",
    "        df2 = pd.DataFrame(df['概率'])\n",
    "\n",
    "        # 计算每个人被点到的次数和概率的相关性并生成报告\n",
    "        df1.corrwith(df2).to_csv('./testing report/次数和概率的相关性.csv', index=True)\n",
    "\n",
    "        # 计算每个人被点到的次数和概率的协方差并生成报告\n",
    "        df1.cov().to_csv('./testing report/次数和概率的协方差.csv', index=True)\n",
    "\n",
    "    df['概率'] = df['计数'] / num\n",
    "\n",
    "    return df"
   ],
   "metadata": {
    "collapsed": false,
    "pycharm": {
     "name": "#%%\n"
    }
   }
  },
  {
   "cell_type": "code",
   "execution_count": 59,
   "outputs": [
    {
     "data": {
      "text/plain": "     姓名  计数    随机性       标准差       均匀性     概率  次数     概率平均值      次数平均值  \\\n0   崔昊元  59  0.059  0.007556  0.128445  0.059  59  0.058824  58.823529   \n1   贾靖程  57  0.057  0.007556  0.128445  0.057  57  0.058824  58.823529   \n2   吴俊岳  48  0.048  0.007556  0.128445  0.048  48  0.058824  58.823529   \n3   王浩羽  52  0.052  0.007556  0.128445  0.052  52  0.058824  58.823529   \n4   吕梦丽  68  0.068  0.007556  0.128445  0.068  68  0.058824  58.823529   \n5   李博远  47  0.047  0.007556  0.128445  0.047  47  0.058824  58.823529   \n6   牛皓冬  76  0.076  0.007556  0.128445  0.076  76  0.058824  58.823529   \n7    张阔  65  0.065  0.007556  0.128445  0.065  65  0.058824  58.823529   \n8   孙佳奇  67  0.067  0.007556  0.128445  0.067  67  0.058824  58.823529   \n9   郑佳睦  51  0.051  0.007556  0.128445  0.051  51  0.058824  58.823529   \n10  王孝天  56  0.056  0.007556  0.128445  0.056  56  0.058824  58.823529   \n11  付一鸣  56  0.056  0.007556  0.128445  0.056  56  0.058824  58.823529   \n12  李蓉轩  65  0.065  0.007556  0.128445  0.065  65  0.058824  58.823529   \n13  陈观绅  63  0.063  0.007556  0.128445  0.063  63  0.058824  58.823529   \n14  赵鑫博  59  0.059  0.007556  0.128445  0.059  59  0.058824  58.823529   \n15  张子豪  52  0.052  0.007556  0.128445  0.052  52  0.058824  58.823529   \n16   叶平  59  0.059  0.007556  0.128445  0.059  59  0.058824  58.823529   \n\n       概率标准差  ...  次数最大值  概率最小值  次数最小值     概率离散值     次数离散值  次数是否相近  概率是否相近  \\\n0   0.007788  ...     76  0.047     47  0.006069  6.069204       是       是   \n1   0.007788  ...     76  0.047     47  0.006069  6.069204       是       是   \n2   0.007788  ...     76  0.047     47  0.006069  6.069204       否       否   \n3   0.007788  ...     76  0.047     47  0.006069  6.069204       是       是   \n4   0.007788  ...     76  0.047     47  0.006069  6.069204       否       否   \n5   0.007788  ...     76  0.047     47  0.006069  6.069204       否       否   \n6   0.007788  ...     76  0.047     47  0.006069  6.069204       否       否   \n7   0.007788  ...     76  0.047     47  0.006069  6.069204       是       是   \n8   0.007788  ...     76  0.047     47  0.006069  6.069204       否       否   \n9   0.007788  ...     76  0.047     47  0.006069  6.069204       否       否   \n10  0.007788  ...     76  0.047     47  0.006069  6.069204       是       是   \n11  0.007788  ...     76  0.047     47  0.006069  6.069204       是       是   \n12  0.007788  ...     76  0.047     47  0.006069  6.069204       是       是   \n13  0.007788  ...     76  0.047     47  0.006069  6.069204       是       是   \n14  0.007788  ...     76  0.047     47  0.006069  6.069204       是       是   \n15  0.007788  ...     76  0.047     47  0.006069  6.069204       是       是   \n16  0.007788  ...     76  0.047     47  0.006069  6.069204       是       是   \n\n   次数规律性 名字概率性 名字首字母  \n0      是     否     崔  \n1      是     否     贾  \n2      否     否     吴  \n3      是     否     王  \n4      否     否     吕  \n5      否     否     李  \n6      否     否     牛  \n7      是     否     张  \n8      否     否     孙  \n9      否     否     郑  \n10     是     否     王  \n11     是     否     付  \n12     是     否     李  \n13     是     否     陈  \n14     是     否     赵  \n15     是     否     张  \n16     是     否     叶  \n\n[17 rows x 22 columns]",
      "text/html": "<div>\n<style scoped>\n    .dataframe tbody tr th:only-of-type {\n        vertical-align: middle;\n    }\n\n    .dataframe tbody tr th {\n        vertical-align: top;\n    }\n\n    .dataframe thead th {\n        text-align: right;\n    }\n</style>\n<table border=\"1\" class=\"dataframe\">\n  <thead>\n    <tr style=\"text-align: right;\">\n      <th></th>\n      <th>姓名</th>\n      <th>计数</th>\n      <th>随机性</th>\n      <th>标准差</th>\n      <th>均匀性</th>\n      <th>概率</th>\n      <th>次数</th>\n      <th>概率平均值</th>\n      <th>次数平均值</th>\n      <th>概率标准差</th>\n      <th>...</th>\n      <th>次数最大值</th>\n      <th>概率最小值</th>\n      <th>次数最小值</th>\n      <th>概率离散值</th>\n      <th>次数离散值</th>\n      <th>次数是否相近</th>\n      <th>概率是否相近</th>\n      <th>次数规律性</th>\n      <th>名字概率性</th>\n      <th>名字首字母</th>\n    </tr>\n  </thead>\n  <tbody>\n    <tr>\n      <th>0</th>\n      <td>崔昊元</td>\n      <td>59</td>\n      <td>0.059</td>\n      <td>0.007556</td>\n      <td>0.128445</td>\n      <td>0.059</td>\n      <td>59</td>\n      <td>0.058824</td>\n      <td>58.823529</td>\n      <td>0.007788</td>\n      <td>...</td>\n      <td>76</td>\n      <td>0.047</td>\n      <td>47</td>\n      <td>0.006069</td>\n      <td>6.069204</td>\n      <td>是</td>\n      <td>是</td>\n      <td>是</td>\n      <td>否</td>\n      <td>崔</td>\n    </tr>\n    <tr>\n      <th>1</th>\n      <td>贾靖程</td>\n      <td>57</td>\n      <td>0.057</td>\n      <td>0.007556</td>\n      <td>0.128445</td>\n      <td>0.057</td>\n      <td>57</td>\n      <td>0.058824</td>\n      <td>58.823529</td>\n      <td>0.007788</td>\n      <td>...</td>\n      <td>76</td>\n      <td>0.047</td>\n      <td>47</td>\n      <td>0.006069</td>\n      <td>6.069204</td>\n      <td>是</td>\n      <td>是</td>\n      <td>是</td>\n      <td>否</td>\n      <td>贾</td>\n    </tr>\n    <tr>\n      <th>2</th>\n      <td>吴俊岳</td>\n      <td>48</td>\n      <td>0.048</td>\n      <td>0.007556</td>\n      <td>0.128445</td>\n      <td>0.048</td>\n      <td>48</td>\n      <td>0.058824</td>\n      <td>58.823529</td>\n      <td>0.007788</td>\n      <td>...</td>\n      <td>76</td>\n      <td>0.047</td>\n      <td>47</td>\n      <td>0.006069</td>\n      <td>6.069204</td>\n      <td>否</td>\n      <td>否</td>\n      <td>否</td>\n      <td>否</td>\n      <td>吴</td>\n    </tr>\n    <tr>\n      <th>3</th>\n      <td>王浩羽</td>\n      <td>52</td>\n      <td>0.052</td>\n      <td>0.007556</td>\n      <td>0.128445</td>\n      <td>0.052</td>\n      <td>52</td>\n      <td>0.058824</td>\n      <td>58.823529</td>\n      <td>0.007788</td>\n      <td>...</td>\n      <td>76</td>\n      <td>0.047</td>\n      <td>47</td>\n      <td>0.006069</td>\n      <td>6.069204</td>\n      <td>是</td>\n      <td>是</td>\n      <td>是</td>\n      <td>否</td>\n      <td>王</td>\n    </tr>\n    <tr>\n      <th>4</th>\n      <td>吕梦丽</td>\n      <td>68</td>\n      <td>0.068</td>\n      <td>0.007556</td>\n      <td>0.128445</td>\n      <td>0.068</td>\n      <td>68</td>\n      <td>0.058824</td>\n      <td>58.823529</td>\n      <td>0.007788</td>\n      <td>...</td>\n      <td>76</td>\n      <td>0.047</td>\n      <td>47</td>\n      <td>0.006069</td>\n      <td>6.069204</td>\n      <td>否</td>\n      <td>否</td>\n      <td>否</td>\n      <td>否</td>\n      <td>吕</td>\n    </tr>\n    <tr>\n      <th>5</th>\n      <td>李博远</td>\n      <td>47</td>\n      <td>0.047</td>\n      <td>0.007556</td>\n      <td>0.128445</td>\n      <td>0.047</td>\n      <td>47</td>\n      <td>0.058824</td>\n      <td>58.823529</td>\n      <td>0.007788</td>\n      <td>...</td>\n      <td>76</td>\n      <td>0.047</td>\n      <td>47</td>\n      <td>0.006069</td>\n      <td>6.069204</td>\n      <td>否</td>\n      <td>否</td>\n      <td>否</td>\n      <td>否</td>\n      <td>李</td>\n    </tr>\n    <tr>\n      <th>6</th>\n      <td>牛皓冬</td>\n      <td>76</td>\n      <td>0.076</td>\n      <td>0.007556</td>\n      <td>0.128445</td>\n      <td>0.076</td>\n      <td>76</td>\n      <td>0.058824</td>\n      <td>58.823529</td>\n      <td>0.007788</td>\n      <td>...</td>\n      <td>76</td>\n      <td>0.047</td>\n      <td>47</td>\n      <td>0.006069</td>\n      <td>6.069204</td>\n      <td>否</td>\n      <td>否</td>\n      <td>否</td>\n      <td>否</td>\n      <td>牛</td>\n    </tr>\n    <tr>\n      <th>7</th>\n      <td>张阔</td>\n      <td>65</td>\n      <td>0.065</td>\n      <td>0.007556</td>\n      <td>0.128445</td>\n      <td>0.065</td>\n      <td>65</td>\n      <td>0.058824</td>\n      <td>58.823529</td>\n      <td>0.007788</td>\n      <td>...</td>\n      <td>76</td>\n      <td>0.047</td>\n      <td>47</td>\n      <td>0.006069</td>\n      <td>6.069204</td>\n      <td>是</td>\n      <td>是</td>\n      <td>是</td>\n      <td>否</td>\n      <td>张</td>\n    </tr>\n    <tr>\n      <th>8</th>\n      <td>孙佳奇</td>\n      <td>67</td>\n      <td>0.067</td>\n      <td>0.007556</td>\n      <td>0.128445</td>\n      <td>0.067</td>\n      <td>67</td>\n      <td>0.058824</td>\n      <td>58.823529</td>\n      <td>0.007788</td>\n      <td>...</td>\n      <td>76</td>\n      <td>0.047</td>\n      <td>47</td>\n      <td>0.006069</td>\n      <td>6.069204</td>\n      <td>否</td>\n      <td>否</td>\n      <td>否</td>\n      <td>否</td>\n      <td>孙</td>\n    </tr>\n    <tr>\n      <th>9</th>\n      <td>郑佳睦</td>\n      <td>51</td>\n      <td>0.051</td>\n      <td>0.007556</td>\n      <td>0.128445</td>\n      <td>0.051</td>\n      <td>51</td>\n      <td>0.058824</td>\n      <td>58.823529</td>\n      <td>0.007788</td>\n      <td>...</td>\n      <td>76</td>\n      <td>0.047</td>\n      <td>47</td>\n      <td>0.006069</td>\n      <td>6.069204</td>\n      <td>否</td>\n      <td>否</td>\n      <td>否</td>\n      <td>否</td>\n      <td>郑</td>\n    </tr>\n    <tr>\n      <th>10</th>\n      <td>王孝天</td>\n      <td>56</td>\n      <td>0.056</td>\n      <td>0.007556</td>\n      <td>0.128445</td>\n      <td>0.056</td>\n      <td>56</td>\n      <td>0.058824</td>\n      <td>58.823529</td>\n      <td>0.007788</td>\n      <td>...</td>\n      <td>76</td>\n      <td>0.047</td>\n      <td>47</td>\n      <td>0.006069</td>\n      <td>6.069204</td>\n      <td>是</td>\n      <td>是</td>\n      <td>是</td>\n      <td>否</td>\n      <td>王</td>\n    </tr>\n    <tr>\n      <th>11</th>\n      <td>付一鸣</td>\n      <td>56</td>\n      <td>0.056</td>\n      <td>0.007556</td>\n      <td>0.128445</td>\n      <td>0.056</td>\n      <td>56</td>\n      <td>0.058824</td>\n      <td>58.823529</td>\n      <td>0.007788</td>\n      <td>...</td>\n      <td>76</td>\n      <td>0.047</td>\n      <td>47</td>\n      <td>0.006069</td>\n      <td>6.069204</td>\n      <td>是</td>\n      <td>是</td>\n      <td>是</td>\n      <td>否</td>\n      <td>付</td>\n    </tr>\n    <tr>\n      <th>12</th>\n      <td>李蓉轩</td>\n      <td>65</td>\n      <td>0.065</td>\n      <td>0.007556</td>\n      <td>0.128445</td>\n      <td>0.065</td>\n      <td>65</td>\n      <td>0.058824</td>\n      <td>58.823529</td>\n      <td>0.007788</td>\n      <td>...</td>\n      <td>76</td>\n      <td>0.047</td>\n      <td>47</td>\n      <td>0.006069</td>\n      <td>6.069204</td>\n      <td>是</td>\n      <td>是</td>\n      <td>是</td>\n      <td>否</td>\n      <td>李</td>\n    </tr>\n    <tr>\n      <th>13</th>\n      <td>陈观绅</td>\n      <td>63</td>\n      <td>0.063</td>\n      <td>0.007556</td>\n      <td>0.128445</td>\n      <td>0.063</td>\n      <td>63</td>\n      <td>0.058824</td>\n      <td>58.823529</td>\n      <td>0.007788</td>\n      <td>...</td>\n      <td>76</td>\n      <td>0.047</td>\n      <td>47</td>\n      <td>0.006069</td>\n      <td>6.069204</td>\n      <td>是</td>\n      <td>是</td>\n      <td>是</td>\n      <td>否</td>\n      <td>陈</td>\n    </tr>\n    <tr>\n      <th>14</th>\n      <td>赵鑫博</td>\n      <td>59</td>\n      <td>0.059</td>\n      <td>0.007556</td>\n      <td>0.128445</td>\n      <td>0.059</td>\n      <td>59</td>\n      <td>0.058824</td>\n      <td>58.823529</td>\n      <td>0.007788</td>\n      <td>...</td>\n      <td>76</td>\n      <td>0.047</td>\n      <td>47</td>\n      <td>0.006069</td>\n      <td>6.069204</td>\n      <td>是</td>\n      <td>是</td>\n      <td>是</td>\n      <td>否</td>\n      <td>赵</td>\n    </tr>\n    <tr>\n      <th>15</th>\n      <td>张子豪</td>\n      <td>52</td>\n      <td>0.052</td>\n      <td>0.007556</td>\n      <td>0.128445</td>\n      <td>0.052</td>\n      <td>52</td>\n      <td>0.058824</td>\n      <td>58.823529</td>\n      <td>0.007788</td>\n      <td>...</td>\n      <td>76</td>\n      <td>0.047</td>\n      <td>47</td>\n      <td>0.006069</td>\n      <td>6.069204</td>\n      <td>是</td>\n      <td>是</td>\n      <td>是</td>\n      <td>否</td>\n      <td>张</td>\n    </tr>\n    <tr>\n      <th>16</th>\n      <td>叶平</td>\n      <td>59</td>\n      <td>0.059</td>\n      <td>0.007556</td>\n      <td>0.128445</td>\n      <td>0.059</td>\n      <td>59</td>\n      <td>0.058824</td>\n      <td>58.823529</td>\n      <td>0.007788</td>\n      <td>...</td>\n      <td>76</td>\n      <td>0.047</td>\n      <td>47</td>\n      <td>0.006069</td>\n      <td>6.069204</td>\n      <td>是</td>\n      <td>是</td>\n      <td>是</td>\n      <td>否</td>\n      <td>叶</td>\n    </tr>\n  </tbody>\n</table>\n<p>17 rows × 22 columns</p>\n</div>"
     },
     "metadata": {},
     "output_type": "display_data"
    }
   ],
   "source": [
    "if __name__ == '__main__':\n",
    "    info = run()\n",
    "    display(info)"
   ],
   "metadata": {
    "collapsed": false,
    "pycharm": {
     "name": "#%%\n"
    }
   }
  }
 ],
 "metadata": {
  "kernelspec": {
   "display_name": "Python 3",
   "language": "python",
   "name": "python3"
  },
  "language_info": {
   "codemirror_mode": {
    "name": "ipython",
    "version": 2
   },
   "file_extension": ".py",
   "mimetype": "text/x-python",
   "name": "python",
   "nbconvert_exporter": "python",
   "pygments_lexer": "ipython2",
   "version": "2.7.6"
  }
 },
 "nbformat": 4,
 "nbformat_minor": 0
}