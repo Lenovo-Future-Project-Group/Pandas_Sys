{
 "cells": [
  {
   "cell_type": "code",
   "execution_count": null,
   "metadata": {
    "collapsed": true,
    "pycharm": {
     "name": "#%%\n"
    }
   },
   "outputs": [],
   "source": [
    "import pandas as pd\n",
    "import random"
   ]
  },
  {
   "cell_type": "code",
   "execution_count": null,
   "outputs": [],
   "source": [
    "stu = [\n",
    "    '崔昊元',\n",
    "    '贾靖程',\n",
    "    '吴俊岳',\n",
    "    '王浩羽',\n",
    "    '吕梦丽',\n",
    "    '李博远',\n",
    "    '牛皓冬',\n",
    "    '张阔',\n",
    "    '孙佳奇',\n",
    "    '郑佳睦',\n",
    "    '王孝天',\n",
    "    '付一鸣',\n",
    "    '李蓉轩',\n",
    "    '陈观绅',\n",
    "    '赵鑫博',\n",
    "    '张子豪',\n",
    "    '叶平'\n",
    "]"
   ],
   "metadata": {
    "collapsed": false,
    "pycharm": {
     "name": "#%%\n"
    }
   }
  },
  {
   "cell_type": "code",
   "execution_count": null,
   "outputs": [],
   "source": [
    "def main():\n",
    "    print('欢迎来到随机点名小程序。请按任意键开始！')\n",
    "    print('输入T测试概率，输入Y开始点名')\n",
    "    while True:\n",
    "        a = input('请输入：')\n",
    "        if a == 'T' or 't':\n",
    "            df = pd.DataFrame(stu)\n",
    "            df['count'] = 0\n",
    "\n",
    "            print('测试概率')\n",
    "            print('输入数字N，测试N次随机点名的概率')\n",
    "            while True:\n",
    "                num = input('请输入：')\n",
    "                if num.isdigit():\n",
    "                    num = int(num)\n",
    "                    break\n",
    "                else:\n",
    "                    print('输入错误，请重新输入！')\n",
    "            for i in range(num):\n",
    "                name = random.choice(stu)\n",
    "                df.loc[df[0] == name, 'count'] += 1\n",
    "            df['probability'] = df['count'] / num\n",
    "            print(df)\n",
    "            print('测试完毕！')\n",
    "        elif a == 'Y' or 'y':\n",
    "            while True:\n",
    "                print(random.choice(stu))\n",
    "                if input(\"q结束，其他键回车继续\") == \"q\":\n",
    "                    break"
   ],
   "metadata": {
    "collapsed": false,
    "pycharm": {
     "name": "#%%\n"
    }
   }
  },
  {
   "cell_type": "code",
   "execution_count": null,
   "outputs": [],
   "source": [
    "if __name__ == '__main__':\n",
    "    main()"
   ],
   "metadata": {
    "collapsed": false,
    "pycharm": {
     "name": "#%%\n"
    }
   }
  }
 ],
 "metadata": {
  "kernelspec": {
   "display_name": "Python 3",
   "language": "python",
   "name": "python3"
  },
  "language_info": {
   "codemirror_mode": {
    "name": "ipython",
    "version": 2
   },
   "file_extension": ".py",
   "mimetype": "text/x-python",
   "name": "python",
   "nbconvert_exporter": "python",
   "pygments_lexer": "ipython2",
   "version": "2.7.6"
  }
 },
 "nbformat": 4,
 "nbformat_minor": 0
}