{
 "cells": [
  {
   "cell_type": "code",
   "execution_count": 35,
   "outputs": [
    {
     "data": {
      "text/plain": "       0\n0    孙佳奇\n1    吴俊岳\n2    吴俊岳\n3    李博远\n4     叶平\n..   ...\n495  付一鸣\n496  陈观绅\n497  贾靖程\n498   张阔\n499  牛皓冬\n\n[500 rows x 1 columns]",
      "text/html": "<div>\n<style scoped>\n    .dataframe tbody tr th:only-of-type {\n        vertical-align: middle;\n    }\n\n    .dataframe tbody tr th {\n        vertical-align: top;\n    }\n\n    .dataframe thead th {\n        text-align: right;\n    }\n</style>\n<table border=\"1\" class=\"dataframe\">\n  <thead>\n    <tr style=\"text-align: right;\">\n      <th></th>\n      <th>0</th>\n    </tr>\n  </thead>\n  <tbody>\n    <tr>\n      <th>0</th>\n      <td>孙佳奇</td>\n    </tr>\n    <tr>\n      <th>1</th>\n      <td>吴俊岳</td>\n    </tr>\n    <tr>\n      <th>2</th>\n      <td>吴俊岳</td>\n    </tr>\n    <tr>\n      <th>3</th>\n      <td>李博远</td>\n    </tr>\n    <tr>\n      <th>4</th>\n      <td>叶平</td>\n    </tr>\n    <tr>\n      <th>...</th>\n      <td>...</td>\n    </tr>\n    <tr>\n      <th>495</th>\n      <td>付一鸣</td>\n    </tr>\n    <tr>\n      <th>496</th>\n      <td>陈观绅</td>\n    </tr>\n    <tr>\n      <th>497</th>\n      <td>贾靖程</td>\n    </tr>\n    <tr>\n      <th>498</th>\n      <td>张阔</td>\n    </tr>\n    <tr>\n      <th>499</th>\n      <td>牛皓冬</td>\n    </tr>\n  </tbody>\n</table>\n<p>500 rows × 1 columns</p>\n</div>"
     },
     "execution_count": 35,
     "metadata": {},
     "output_type": "execute_result"
    }
   ],
   "source": [
    "import random\n",
    "import pandas as pd\n",
    "\n",
    "s = [\"崔昊元\", \"贾靖程\", \"吴俊岳\",\n",
    "     \"王浩羽\", \"吕梦丽\", \"李博远\",\n",
    "     \"牛皓冬\", \"张阔\", \"孙佳奇\", \"郑佳睦\",\n",
    "     \"王孝天\", \"付一鸣\", \"李蓉轩\", \"陈观绅\",\n",
    "     \"赵鑫博\", \"张子豪\", \"叶平\"]\n",
    "c = 0\n",
    "l = []\n",
    "while c < 500:\n",
    "    a = random.choice(s)\n",
    "    # print(a)\n",
    "    c += 1\n",
    "    l.append(a)\n",
    "\n",
    "\n",
    "df_sj = pd.DataFrame(l)\n",
    "df_sj"
   ],
   "metadata": {
    "collapsed": false,
    "pycharm": {
     "name": "#%%\n"
    }
   }
  },
  {
   "cell_type": "code",
   "execution_count": 36,
   "outputs": [
    {
     "data": {
      "text/plain": "王孝天    37\n牛皓冬    35\n李博远    34\n吴俊岳    33\n崔昊元    32\n付一鸣    31\n陈观绅    31\n郑佳睦    30\n叶平     29\n孙佳奇    29\n贾靖程    29\n赵鑫博    29\n吕梦丽    28\n王浩羽    27\n张阔     26\n李蓉轩    22\n张子豪    18\ndtype: int64"
     },
     "execution_count": 36,
     "metadata": {},
     "output_type": "execute_result"
    }
   ],
   "source": [
    "# 随机点名每个名字的次数\n",
    "a = df_sj.value_counts()\n",
    "a"
   ],
   "metadata": {
    "collapsed": false,
    "pycharm": {
     "name": "#%%\n"
    }
   }
  },
  {
   "cell_type": "code",
   "execution_count": 37,
   "outputs": [
    {
     "data": {
      "text/plain": "王孝天    0.074\n牛皓冬    0.070\n李博远    0.068\n吴俊岳    0.066\n崔昊元    0.064\n付一鸣    0.062\n陈观绅    0.062\n郑佳睦    0.060\n叶平     0.058\n孙佳奇    0.058\n贾靖程    0.058\n赵鑫博    0.058\n吕梦丽    0.056\n王浩羽    0.054\n张阔     0.052\n李蓉轩    0.044\n张子豪    0.036\ndtype: float64"
     },
     "execution_count": 37,
     "metadata": {},
     "output_type": "execute_result"
    }
   ],
   "source": [
    "a/500"
   ],
   "metadata": {
    "collapsed": false,
    "pycharm": {
     "name": "#%%\n"
    }
   }
  },
  {
   "cell_type": "code",
   "execution_count": 37,
   "outputs": [],
   "source": [
    "# 封装函数"
   ],
   "metadata": {
    "collapsed": false,
    "pycharm": {
     "name": "#%%\n"
    }
   }
  }
 ],
 "metadata": {
  "kernelspec": {
   "display_name": "Python 3",
   "language": "python",
   "name": "python3"
  },
  "language_info": {
   "codemirror_mode": {
    "name": "ipython",
    "version": 2
   },
   "file_extension": ".py",
   "mimetype": "text/x-python",
   "name": "python",
   "nbconvert_exporter": "python",
   "pygments_lexer": "ipython2",
   "version": "2.7.6"
  }
 },
 "nbformat": 4,
 "nbformat_minor": 0
}