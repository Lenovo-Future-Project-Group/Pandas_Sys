{
 "cells": [
  {
   "cell_type": "code",
   "execution_count": 133,
   "outputs": [],
   "source": [
    "import pandas as pd\n",
    "from IPython.core.display_functions import display"
   ],
   "metadata": {
    "collapsed": false,
    "pycharm": {
     "name": "#%%\n"
    }
   }
  },
  {
   "cell_type": "code",
   "execution_count": 134,
   "outputs": [],
   "source": [
    "# 0.读取课程1.csv文件,并将其转换为DataFrame\n",
    "def csv_to_df(csv_file, index_col=None):\n",
    "    data = pd.DataFrame(pd.read_csv(csv_file, index_col=index_col, low_memory=False))\n",
    "    return data"
   ],
   "metadata": {
    "collapsed": false,
    "pycharm": {
     "name": "#%%\n"
    }
   }
  },
  {
   "cell_type": "code",
   "execution_count": 135,
   "outputs": [],
   "source": [
    "df = csv_to_df('../Data/课程1.csv')"
   ],
   "metadata": {
    "collapsed": false,
    "pycharm": {
     "name": "#%%\n"
    }
   }
  },
  {
   "cell_type": "code",
   "execution_count": 136,
   "outputs": [
    {
     "data": {
      "text/plain": "          课程名字   课程类别  学分    分数\n0  思想道德修养与法律基础    思政类   3  89.0\n1     云计算应用与开发  专业选修课   3  96.0\n2         社会计算  专业选修课   3  78.0\n3         深度学习  专业选修课   3  75.0\n4       人工智能导论  专业必修课   3   NaN",
      "text/html": "<div>\n<style scoped>\n    .dataframe tbody tr th:only-of-type {\n        vertical-align: middle;\n    }\n\n    .dataframe tbody tr th {\n        vertical-align: top;\n    }\n\n    .dataframe thead th {\n        text-align: right;\n    }\n</style>\n<table border=\"1\" class=\"dataframe\">\n  <thead>\n    <tr style=\"text-align: right;\">\n      <th></th>\n      <th>课程名字</th>\n      <th>课程类别</th>\n      <th>学分</th>\n      <th>分数</th>\n    </tr>\n  </thead>\n  <tbody>\n    <tr>\n      <th>0</th>\n      <td>思想道德修养与法律基础</td>\n      <td>思政类</td>\n      <td>3</td>\n      <td>89.0</td>\n    </tr>\n    <tr>\n      <th>1</th>\n      <td>云计算应用与开发</td>\n      <td>专业选修课</td>\n      <td>3</td>\n      <td>96.0</td>\n    </tr>\n    <tr>\n      <th>2</th>\n      <td>社会计算</td>\n      <td>专业选修课</td>\n      <td>3</td>\n      <td>78.0</td>\n    </tr>\n    <tr>\n      <th>3</th>\n      <td>深度学习</td>\n      <td>专业选修课</td>\n      <td>3</td>\n      <td>75.0</td>\n    </tr>\n    <tr>\n      <th>4</th>\n      <td>人工智能导论</td>\n      <td>专业必修课</td>\n      <td>3</td>\n      <td>NaN</td>\n    </tr>\n  </tbody>\n</table>\n</div>"
     },
     "metadata": {},
     "output_type": "display_data"
    },
    {
     "data": {
      "text/plain": "                       课程名字     课程类别  学分    分数\n23                学术英语听说（一）      英语类   2  85.0\n24              程序正义与经典案例解析     精品课程   2  76.0\n25                  环境可持续发展  公共任意选修类   2  76.0\n26                     数据挖掘    专业必修课   4  71.0\n27  毛泽东思想和中国特色社会主义理论体系概论（二）      思政类   3  93.0\n28                    概率图模型    专业选修课   3  96.0\n29                    篮球（初）      体育类   1  77.0\n30                   高等统计选讲    专业选修课   3  87.0\n31                     推荐系统    专业选修课   3  97.0\n32                     智慧城市    专业选修课   3  77.0",
      "text/html": "<div>\n<style scoped>\n    .dataframe tbody tr th:only-of-type {\n        vertical-align: middle;\n    }\n\n    .dataframe tbody tr th {\n        vertical-align: top;\n    }\n\n    .dataframe thead th {\n        text-align: right;\n    }\n</style>\n<table border=\"1\" class=\"dataframe\">\n  <thead>\n    <tr style=\"text-align: right;\">\n      <th></th>\n      <th>课程名字</th>\n      <th>课程类别</th>\n      <th>学分</th>\n      <th>分数</th>\n    </tr>\n  </thead>\n  <tbody>\n    <tr>\n      <th>23</th>\n      <td>学术英语听说（一）</td>\n      <td>英语类</td>\n      <td>2</td>\n      <td>85.0</td>\n    </tr>\n    <tr>\n      <th>24</th>\n      <td>程序正义与经典案例解析</td>\n      <td>精品课程</td>\n      <td>2</td>\n      <td>76.0</td>\n    </tr>\n    <tr>\n      <th>25</th>\n      <td>环境可持续发展</td>\n      <td>公共任意选修类</td>\n      <td>2</td>\n      <td>76.0</td>\n    </tr>\n    <tr>\n      <th>26</th>\n      <td>数据挖掘</td>\n      <td>专业必修课</td>\n      <td>4</td>\n      <td>71.0</td>\n    </tr>\n    <tr>\n      <th>27</th>\n      <td>毛泽东思想和中国特色社会主义理论体系概论（二）</td>\n      <td>思政类</td>\n      <td>3</td>\n      <td>93.0</td>\n    </tr>\n    <tr>\n      <th>28</th>\n      <td>概率图模型</td>\n      <td>专业选修课</td>\n      <td>3</td>\n      <td>96.0</td>\n    </tr>\n    <tr>\n      <th>29</th>\n      <td>篮球（初）</td>\n      <td>体育类</td>\n      <td>1</td>\n      <td>77.0</td>\n    </tr>\n    <tr>\n      <th>30</th>\n      <td>高等统计选讲</td>\n      <td>专业选修课</td>\n      <td>3</td>\n      <td>87.0</td>\n    </tr>\n    <tr>\n      <th>31</th>\n      <td>推荐系统</td>\n      <td>专业选修课</td>\n      <td>3</td>\n      <td>97.0</td>\n    </tr>\n    <tr>\n      <th>32</th>\n      <td>智慧城市</td>\n      <td>专业选修课</td>\n      <td>3</td>\n      <td>77.0</td>\n    </tr>\n  </tbody>\n</table>\n</div>"
     },
     "metadata": {},
     "output_type": "display_data"
    }
   ],
   "source": [
    "# 1.打印前五行后时十行\n",
    "\n",
    "display(df.head(5))\n",
    "display(df.tail(10))"
   ],
   "metadata": {
    "collapsed": false,
    "pycharm": {
     "name": "#%%\n"
    }
   }
  },
  {
   "cell_type": "code",
   "execution_count": 137,
   "outputs": [
    {
     "data": {
      "text/plain": "(array(['思政类', '专业选修课', '专业必修课', '学科基础课', '体育类', '公共任意选修类', '英语类', '精品课程'],\n       dtype=object),\n 8)"
     },
     "execution_count": 137,
     "metadata": {},
     "output_type": "execute_result"
    }
   ],
   "source": [
    "# 2.有哪些课程类别，有多少课程类别\n",
    "df['课程类别'].unique(), df['课程类别'].nunique()"
   ],
   "metadata": {
    "collapsed": false,
    "pycharm": {
     "name": "#%%\n"
    }
   }
  },
  {
   "cell_type": "code",
   "execution_count": 138,
   "outputs": [
    {
     "data": {
      "text/plain": "课程类别\n专业必修课       4\n专业选修课      12\n体育类         4\n公共任意选修类     2\n学科基础课       5\n思政类         4\n精品课程        1\n英语类         1\nName: 课程名字, dtype: int64"
     },
     "execution_count": 138,
     "metadata": {},
     "output_type": "execute_result"
    }
   ],
   "source": [
    "# 3.每个课程类别对应了多少课程名字\n",
    "df.groupby('课程类别')['课程名字'].count()"
   ],
   "metadata": {
    "collapsed": false,
    "pycharm": {
     "name": "#%%\n"
    }
   }
  },
  {
   "cell_type": "code",
   "execution_count": 139,
   "outputs": [
    {
     "data": {
      "text/plain": "         课程名字   课程类别  学分    分数\n6     数据结构与算法  学科基础课   5  82.0\n12    高等数学（二）  学科基础课   4  92.0\n15       离散数学  学科基础课   4  82.0\n16  数据科学的数学基础  专业必修课   4  75.0\n17       程序设计  学科基础课   4   NaN\n26       数据挖掘  专业必修课   4  71.0",
      "text/html": "<div>\n<style scoped>\n    .dataframe tbody tr th:only-of-type {\n        vertical-align: middle;\n    }\n\n    .dataframe tbody tr th {\n        vertical-align: top;\n    }\n\n    .dataframe thead th {\n        text-align: right;\n    }\n</style>\n<table border=\"1\" class=\"dataframe\">\n  <thead>\n    <tr style=\"text-align: right;\">\n      <th></th>\n      <th>课程名字</th>\n      <th>课程类别</th>\n      <th>学分</th>\n      <th>分数</th>\n    </tr>\n  </thead>\n  <tbody>\n    <tr>\n      <th>6</th>\n      <td>数据结构与算法</td>\n      <td>学科基础课</td>\n      <td>5</td>\n      <td>82.0</td>\n    </tr>\n    <tr>\n      <th>12</th>\n      <td>高等数学（二）</td>\n      <td>学科基础课</td>\n      <td>4</td>\n      <td>92.0</td>\n    </tr>\n    <tr>\n      <th>15</th>\n      <td>离散数学</td>\n      <td>学科基础课</td>\n      <td>4</td>\n      <td>82.0</td>\n    </tr>\n    <tr>\n      <th>16</th>\n      <td>数据科学的数学基础</td>\n      <td>专业必修课</td>\n      <td>4</td>\n      <td>75.0</td>\n    </tr>\n    <tr>\n      <th>17</th>\n      <td>程序设计</td>\n      <td>学科基础课</td>\n      <td>4</td>\n      <td>NaN</td>\n    </tr>\n    <tr>\n      <th>26</th>\n      <td>数据挖掘</td>\n      <td>专业必修课</td>\n      <td>4</td>\n      <td>71.0</td>\n    </tr>\n  </tbody>\n</table>\n</div>"
     },
     "execution_count": 139,
     "metadata": {},
     "output_type": "execute_result"
    }
   ],
   "source": [
    "# 4.打印出学分大于3分的数据\n",
    "df[df['学分'] > 3]"
   ],
   "metadata": {
    "collapsed": false,
    "pycharm": {
     "name": "#%%\n"
    }
   }
  },
  {
   "cell_type": "code",
   "execution_count": 140,
   "outputs": [
    {
     "data": {
      "text/plain": "            课程名字     课程类别  学分     分数\n6        数据结构与算法    学科基础课   5   82.0\n8          网球（初）      体育类   1   81.0\n10  极端性气候与陆地生态系统  公共任意选修类   2   78.0\n12       高等数学（二）    学科基础课   4   92.0\n13         游泳（初）      体育类   1   75.0\n15          离散数学    学科基础课   4   82.0\n16     数据科学的数学基础    专业必修课   4   75.0\n17          程序设计    学科基础课   4    NaN\n18         足球（初）      体育类   1  100.0\n23     学术英语听说（一）      英语类   2   85.0\n24   程序正义与经典案例解析     精品课程   2   76.0\n25       环境可持续发展  公共任意选修类   2   76.0\n26          数据挖掘    专业必修课   4   71.0\n29         篮球（初）      体育类   1   77.0",
      "text/html": "<div>\n<style scoped>\n    .dataframe tbody tr th:only-of-type {\n        vertical-align: middle;\n    }\n\n    .dataframe tbody tr th {\n        vertical-align: top;\n    }\n\n    .dataframe thead th {\n        text-align: right;\n    }\n</style>\n<table border=\"1\" class=\"dataframe\">\n  <thead>\n    <tr style=\"text-align: right;\">\n      <th></th>\n      <th>课程名字</th>\n      <th>课程类别</th>\n      <th>学分</th>\n      <th>分数</th>\n    </tr>\n  </thead>\n  <tbody>\n    <tr>\n      <th>6</th>\n      <td>数据结构与算法</td>\n      <td>学科基础课</td>\n      <td>5</td>\n      <td>82.0</td>\n    </tr>\n    <tr>\n      <th>8</th>\n      <td>网球（初）</td>\n      <td>体育类</td>\n      <td>1</td>\n      <td>81.0</td>\n    </tr>\n    <tr>\n      <th>10</th>\n      <td>极端性气候与陆地生态系统</td>\n      <td>公共任意选修类</td>\n      <td>2</td>\n      <td>78.0</td>\n    </tr>\n    <tr>\n      <th>12</th>\n      <td>高等数学（二）</td>\n      <td>学科基础课</td>\n      <td>4</td>\n      <td>92.0</td>\n    </tr>\n    <tr>\n      <th>13</th>\n      <td>游泳（初）</td>\n      <td>体育类</td>\n      <td>1</td>\n      <td>75.0</td>\n    </tr>\n    <tr>\n      <th>15</th>\n      <td>离散数学</td>\n      <td>学科基础课</td>\n      <td>4</td>\n      <td>82.0</td>\n    </tr>\n    <tr>\n      <th>16</th>\n      <td>数据科学的数学基础</td>\n      <td>专业必修课</td>\n      <td>4</td>\n      <td>75.0</td>\n    </tr>\n    <tr>\n      <th>17</th>\n      <td>程序设计</td>\n      <td>学科基础课</td>\n      <td>4</td>\n      <td>NaN</td>\n    </tr>\n    <tr>\n      <th>18</th>\n      <td>足球（初）</td>\n      <td>体育类</td>\n      <td>1</td>\n      <td>100.0</td>\n    </tr>\n    <tr>\n      <th>23</th>\n      <td>学术英语听说（一）</td>\n      <td>英语类</td>\n      <td>2</td>\n      <td>85.0</td>\n    </tr>\n    <tr>\n      <th>24</th>\n      <td>程序正义与经典案例解析</td>\n      <td>精品课程</td>\n      <td>2</td>\n      <td>76.0</td>\n    </tr>\n    <tr>\n      <th>25</th>\n      <td>环境可持续发展</td>\n      <td>公共任意选修类</td>\n      <td>2</td>\n      <td>76.0</td>\n    </tr>\n    <tr>\n      <th>26</th>\n      <td>数据挖掘</td>\n      <td>专业必修课</td>\n      <td>4</td>\n      <td>71.0</td>\n    </tr>\n    <tr>\n      <th>29</th>\n      <td>篮球（初）</td>\n      <td>体育类</td>\n      <td>1</td>\n      <td>77.0</td>\n    </tr>\n  </tbody>\n</table>\n</div>"
     },
     "execution_count": 140,
     "metadata": {},
     "output_type": "execute_result"
    }
   ],
   "source": [
    "# 5.打印出学分小于等于2分或大于等于4分的数据\n",
    "df[(df['学分'] <= 2) | (df['学分'] >= 4)]"
   ],
   "metadata": {
    "collapsed": false,
    "pycharm": {
     "name": "#%%\n"
    }
   }
  },
  {
   "cell_type": "code",
   "execution_count": 141,
   "outputs": [
    {
     "data": {
      "text/plain": "                       课程名字     课程类别  学分          分数\n0               思想道德修养与法律基础      思政类   3   89.000000\n1                  云计算应用与开发    专业选修课   3   96.000000\n2                      社会计算    专业选修课   3   78.000000\n3                      深度学习    专业选修课   3   75.000000\n4                    人工智能导论    专业必修课   3   85.066667\n5                   中国近代史纲要      思政类   3   97.000000\n6                   数据结构与算法    学科基础课   5   82.000000\n7                 开源软件设计与开发    专业选修课   3   81.000000\n8                     网球（初）      体育类   1   81.000000\n9                   大数据应用案例    专业必修课   3   91.000000\n10             极端性气候与陆地生态系统  公共任意选修类   2   78.000000\n11                     电子商务    专业选修课   3   74.000000\n12                  高等数学（二）    学科基础课   4   92.000000\n13                    游泳（初）      体育类   1   75.000000\n14                    计算机视觉    专业选修课   3   85.066667\n15                     离散数学    学科基础课   4   82.000000\n16                数据科学的数学基础    专业必修课   4   75.000000\n17                     程序设计    学科基础课   4   85.066667\n18                    足球（初）      体育类   1  100.000000\n19                     线性代数    学科基础课   3   97.000000\n20  毛泽东思想和中国特色社会主义理论体系概论（一）      思政类   3   99.000000\n21                     机器学习    专业选修课   3   88.000000\n22                     位置服务    专业选修课   3   87.000000\n23                学术英语听说（一）      英语类   2   85.000000\n24              程序正义与经典案例解析     精品课程   2   76.000000\n25                  环境可持续发展  公共任意选修类   2   76.000000\n26                     数据挖掘    专业必修课   4   71.000000\n27  毛泽东思想和中国特色社会主义理论体系概论（二）      思政类   3   93.000000\n28                    概率图模型    专业选修课   3   96.000000\n29                    篮球（初）      体育类   1   77.000000\n30                   高等统计选讲    专业选修课   3   87.000000\n31                     推荐系统    专业选修课   3   97.000000\n32                     智慧城市    专业选修课   3   77.000000",
      "text/html": "<div>\n<style scoped>\n    .dataframe tbody tr th:only-of-type {\n        vertical-align: middle;\n    }\n\n    .dataframe tbody tr th {\n        vertical-align: top;\n    }\n\n    .dataframe thead th {\n        text-align: right;\n    }\n</style>\n<table border=\"1\" class=\"dataframe\">\n  <thead>\n    <tr style=\"text-align: right;\">\n      <th></th>\n      <th>课程名字</th>\n      <th>课程类别</th>\n      <th>学分</th>\n      <th>分数</th>\n    </tr>\n  </thead>\n  <tbody>\n    <tr>\n      <th>0</th>\n      <td>思想道德修养与法律基础</td>\n      <td>思政类</td>\n      <td>3</td>\n      <td>89.000000</td>\n    </tr>\n    <tr>\n      <th>1</th>\n      <td>云计算应用与开发</td>\n      <td>专业选修课</td>\n      <td>3</td>\n      <td>96.000000</td>\n    </tr>\n    <tr>\n      <th>2</th>\n      <td>社会计算</td>\n      <td>专业选修课</td>\n      <td>3</td>\n      <td>78.000000</td>\n    </tr>\n    <tr>\n      <th>3</th>\n      <td>深度学习</td>\n      <td>专业选修课</td>\n      <td>3</td>\n      <td>75.000000</td>\n    </tr>\n    <tr>\n      <th>4</th>\n      <td>人工智能导论</td>\n      <td>专业必修课</td>\n      <td>3</td>\n      <td>85.066667</td>\n    </tr>\n    <tr>\n      <th>5</th>\n      <td>中国近代史纲要</td>\n      <td>思政类</td>\n      <td>3</td>\n      <td>97.000000</td>\n    </tr>\n    <tr>\n      <th>6</th>\n      <td>数据结构与算法</td>\n      <td>学科基础课</td>\n      <td>5</td>\n      <td>82.000000</td>\n    </tr>\n    <tr>\n      <th>7</th>\n      <td>开源软件设计与开发</td>\n      <td>专业选修课</td>\n      <td>3</td>\n      <td>81.000000</td>\n    </tr>\n    <tr>\n      <th>8</th>\n      <td>网球（初）</td>\n      <td>体育类</td>\n      <td>1</td>\n      <td>81.000000</td>\n    </tr>\n    <tr>\n      <th>9</th>\n      <td>大数据应用案例</td>\n      <td>专业必修课</td>\n      <td>3</td>\n      <td>91.000000</td>\n    </tr>\n    <tr>\n      <th>10</th>\n      <td>极端性气候与陆地生态系统</td>\n      <td>公共任意选修类</td>\n      <td>2</td>\n      <td>78.000000</td>\n    </tr>\n    <tr>\n      <th>11</th>\n      <td>电子商务</td>\n      <td>专业选修课</td>\n      <td>3</td>\n      <td>74.000000</td>\n    </tr>\n    <tr>\n      <th>12</th>\n      <td>高等数学（二）</td>\n      <td>学科基础课</td>\n      <td>4</td>\n      <td>92.000000</td>\n    </tr>\n    <tr>\n      <th>13</th>\n      <td>游泳（初）</td>\n      <td>体育类</td>\n      <td>1</td>\n      <td>75.000000</td>\n    </tr>\n    <tr>\n      <th>14</th>\n      <td>计算机视觉</td>\n      <td>专业选修课</td>\n      <td>3</td>\n      <td>85.066667</td>\n    </tr>\n    <tr>\n      <th>15</th>\n      <td>离散数学</td>\n      <td>学科基础课</td>\n      <td>4</td>\n      <td>82.000000</td>\n    </tr>\n    <tr>\n      <th>16</th>\n      <td>数据科学的数学基础</td>\n      <td>专业必修课</td>\n      <td>4</td>\n      <td>75.000000</td>\n    </tr>\n    <tr>\n      <th>17</th>\n      <td>程序设计</td>\n      <td>学科基础课</td>\n      <td>4</td>\n      <td>85.066667</td>\n    </tr>\n    <tr>\n      <th>18</th>\n      <td>足球（初）</td>\n      <td>体育类</td>\n      <td>1</td>\n      <td>100.000000</td>\n    </tr>\n    <tr>\n      <th>19</th>\n      <td>线性代数</td>\n      <td>学科基础课</td>\n      <td>3</td>\n      <td>97.000000</td>\n    </tr>\n    <tr>\n      <th>20</th>\n      <td>毛泽东思想和中国特色社会主义理论体系概论（一）</td>\n      <td>思政类</td>\n      <td>3</td>\n      <td>99.000000</td>\n    </tr>\n    <tr>\n      <th>21</th>\n      <td>机器学习</td>\n      <td>专业选修课</td>\n      <td>3</td>\n      <td>88.000000</td>\n    </tr>\n    <tr>\n      <th>22</th>\n      <td>位置服务</td>\n      <td>专业选修课</td>\n      <td>3</td>\n      <td>87.000000</td>\n    </tr>\n    <tr>\n      <th>23</th>\n      <td>学术英语听说（一）</td>\n      <td>英语类</td>\n      <td>2</td>\n      <td>85.000000</td>\n    </tr>\n    <tr>\n      <th>24</th>\n      <td>程序正义与经典案例解析</td>\n      <td>精品课程</td>\n      <td>2</td>\n      <td>76.000000</td>\n    </tr>\n    <tr>\n      <th>25</th>\n      <td>环境可持续发展</td>\n      <td>公共任意选修类</td>\n      <td>2</td>\n      <td>76.000000</td>\n    </tr>\n    <tr>\n      <th>26</th>\n      <td>数据挖掘</td>\n      <td>专业必修课</td>\n      <td>4</td>\n      <td>71.000000</td>\n    </tr>\n    <tr>\n      <th>27</th>\n      <td>毛泽东思想和中国特色社会主义理论体系概论（二）</td>\n      <td>思政类</td>\n      <td>3</td>\n      <td>93.000000</td>\n    </tr>\n    <tr>\n      <th>28</th>\n      <td>概率图模型</td>\n      <td>专业选修课</td>\n      <td>3</td>\n      <td>96.000000</td>\n    </tr>\n    <tr>\n      <th>29</th>\n      <td>篮球（初）</td>\n      <td>体育类</td>\n      <td>1</td>\n      <td>77.000000</td>\n    </tr>\n    <tr>\n      <th>30</th>\n      <td>高等统计选讲</td>\n      <td>专业选修课</td>\n      <td>3</td>\n      <td>87.000000</td>\n    </tr>\n    <tr>\n      <th>31</th>\n      <td>推荐系统</td>\n      <td>专业选修课</td>\n      <td>3</td>\n      <td>97.000000</td>\n    </tr>\n    <tr>\n      <th>32</th>\n      <td>智慧城市</td>\n      <td>专业选修课</td>\n      <td>3</td>\n      <td>77.000000</td>\n    </tr>\n  </tbody>\n</table>\n</div>"
     },
     "execution_count": 141,
     "metadata": {},
     "output_type": "execute_result"
    }
   ],
   "source": [
    "# 6.将分数列的None值替换为此列的平均值\n",
    "df['分数'].fillna(df['分数'].mean(), inplace=True)\n",
    "df"
   ],
   "metadata": {
    "collapsed": false,
    "pycharm": {
     "name": "#%%\n"
    }
   }
  },
  {
   "cell_type": "code",
   "execution_count": 142,
   "outputs": [
    {
     "data": {
      "text/plain": "0                 思想道德修养与法律基础\n5                     中国近代史纲要\n8                       网球（初）\n13                      游泳（初）\n18                      足球（初）\n20    毛泽东思想和中国特色社会主义理论体系概论（一）\n27    毛泽东思想和中国特色社会主义理论体系概论（二）\n29                      篮球（初）\nName: 课程名字, dtype: object"
     },
     "execution_count": 142,
     "metadata": {},
     "output_type": "execute_result"
    }
   ],
   "source": [
    "# 7.查看思政类和体育类的课程名字\n",
    "df[df['课程类别'].isin(['思政类', '体育类'])]['课程名字']"
   ],
   "metadata": {
    "collapsed": false,
    "pycharm": {
     "name": "#%%\n"
    }
   }
  },
  {
   "cell_type": "code",
   "execution_count": 143,
   "outputs": [
    {
     "data": {
      "text/plain": "11    74.0\nName: 分数, dtype: float64"
     },
     "execution_count": 143,
     "metadata": {},
     "output_type": "execute_result"
    }
   ],
   "source": [
    "# 8.查看课程名字为电子商务的考试分数\n",
    "df[df['课程名字'] == '电子商务']['分数']"
   ],
   "metadata": {
    "collapsed": false,
    "pycharm": {
     "name": "#%%\n"
    }
   }
  },
  {
   "cell_type": "code",
   "execution_count": 144,
   "outputs": [
    {
     "data": {
      "text/plain": "                         课程名字     课程类别  学分          分数\n编号                                                    \n1101              思想道德修养与法律基础      思政类   3   89.000000\n1102                 云计算应用与开发    专业选修课   3   96.000000\n1103                     社会计算    专业选修课   3   78.000000\n1104                     深度学习    专业选修课   3   75.000000\n1105                   人工智能导论    专业必修课   3   85.066667\n1106                  中国近代史纲要      思政类   3   97.000000\n1107                  数据结构与算法    学科基础课   5   82.000000\n1108                开源软件设计与开发    专业选修课   3   81.000000\n1109                    网球（初）      体育类   1   81.000000\n1110                  大数据应用案例    专业必修课   3   91.000000\n1111             极端性气候与陆地生态系统  公共任意选修类   2   78.000000\n1112                     电子商务    专业选修课   3   74.000000\n1113                  高等数学（二）    学科基础课   4   92.000000\n1114                    游泳（初）      体育类   1   75.000000\n1115                    计算机视觉    专业选修课   3   85.066667\n1116                     离散数学    学科基础课   4   82.000000\n1117                数据科学的数学基础    专业必修课   4   75.000000\n1118                     程序设计    学科基础课   4   85.066667\n1119                    足球（初）      体育类   1  100.000000\n1120                     线性代数    学科基础课   3   97.000000\n1121  毛泽东思想和中国特色社会主义理论体系概论（一）      思政类   3   99.000000\n1122                     机器学习    专业选修课   3   88.000000\n1123                     位置服务    专业选修课   3   87.000000\n1124                学术英语听说（一）      英语类   2   85.000000\n1125              程序正义与经典案例解析     精品课程   2   76.000000\n1126                  环境可持续发展  公共任意选修类   2   76.000000\n1127                     数据挖掘    专业必修课   4   71.000000\n1128  毛泽东思想和中国特色社会主义理论体系概论（二）      思政类   3   93.000000\n1129                    概率图模型    专业选修课   3   96.000000\n1130                    篮球（初）      体育类   1   77.000000\n1131                   高等统计选讲    专业选修课   3   87.000000\n1132                     推荐系统    专业选修课   3   97.000000\n1133                     智慧城市    专业选修课   3   77.000000",
      "text/html": "<div>\n<style scoped>\n    .dataframe tbody tr th:only-of-type {\n        vertical-align: middle;\n    }\n\n    .dataframe tbody tr th {\n        vertical-align: top;\n    }\n\n    .dataframe thead th {\n        text-align: right;\n    }\n</style>\n<table border=\"1\" class=\"dataframe\">\n  <thead>\n    <tr style=\"text-align: right;\">\n      <th></th>\n      <th>课程名字</th>\n      <th>课程类别</th>\n      <th>学分</th>\n      <th>分数</th>\n    </tr>\n    <tr>\n      <th>编号</th>\n      <th></th>\n      <th></th>\n      <th></th>\n      <th></th>\n    </tr>\n  </thead>\n  <tbody>\n    <tr>\n      <th>1101</th>\n      <td>思想道德修养与法律基础</td>\n      <td>思政类</td>\n      <td>3</td>\n      <td>89.000000</td>\n    </tr>\n    <tr>\n      <th>1102</th>\n      <td>云计算应用与开发</td>\n      <td>专业选修课</td>\n      <td>3</td>\n      <td>96.000000</td>\n    </tr>\n    <tr>\n      <th>1103</th>\n      <td>社会计算</td>\n      <td>专业选修课</td>\n      <td>3</td>\n      <td>78.000000</td>\n    </tr>\n    <tr>\n      <th>1104</th>\n      <td>深度学习</td>\n      <td>专业选修课</td>\n      <td>3</td>\n      <td>75.000000</td>\n    </tr>\n    <tr>\n      <th>1105</th>\n      <td>人工智能导论</td>\n      <td>专业必修课</td>\n      <td>3</td>\n      <td>85.066667</td>\n    </tr>\n    <tr>\n      <th>1106</th>\n      <td>中国近代史纲要</td>\n      <td>思政类</td>\n      <td>3</td>\n      <td>97.000000</td>\n    </tr>\n    <tr>\n      <th>1107</th>\n      <td>数据结构与算法</td>\n      <td>学科基础课</td>\n      <td>5</td>\n      <td>82.000000</td>\n    </tr>\n    <tr>\n      <th>1108</th>\n      <td>开源软件设计与开发</td>\n      <td>专业选修课</td>\n      <td>3</td>\n      <td>81.000000</td>\n    </tr>\n    <tr>\n      <th>1109</th>\n      <td>网球（初）</td>\n      <td>体育类</td>\n      <td>1</td>\n      <td>81.000000</td>\n    </tr>\n    <tr>\n      <th>1110</th>\n      <td>大数据应用案例</td>\n      <td>专业必修课</td>\n      <td>3</td>\n      <td>91.000000</td>\n    </tr>\n    <tr>\n      <th>1111</th>\n      <td>极端性气候与陆地生态系统</td>\n      <td>公共任意选修类</td>\n      <td>2</td>\n      <td>78.000000</td>\n    </tr>\n    <tr>\n      <th>1112</th>\n      <td>电子商务</td>\n      <td>专业选修课</td>\n      <td>3</td>\n      <td>74.000000</td>\n    </tr>\n    <tr>\n      <th>1113</th>\n      <td>高等数学（二）</td>\n      <td>学科基础课</td>\n      <td>4</td>\n      <td>92.000000</td>\n    </tr>\n    <tr>\n      <th>1114</th>\n      <td>游泳（初）</td>\n      <td>体育类</td>\n      <td>1</td>\n      <td>75.000000</td>\n    </tr>\n    <tr>\n      <th>1115</th>\n      <td>计算机视觉</td>\n      <td>专业选修课</td>\n      <td>3</td>\n      <td>85.066667</td>\n    </tr>\n    <tr>\n      <th>1116</th>\n      <td>离散数学</td>\n      <td>学科基础课</td>\n      <td>4</td>\n      <td>82.000000</td>\n    </tr>\n    <tr>\n      <th>1117</th>\n      <td>数据科学的数学基础</td>\n      <td>专业必修课</td>\n      <td>4</td>\n      <td>75.000000</td>\n    </tr>\n    <tr>\n      <th>1118</th>\n      <td>程序设计</td>\n      <td>学科基础课</td>\n      <td>4</td>\n      <td>85.066667</td>\n    </tr>\n    <tr>\n      <th>1119</th>\n      <td>足球（初）</td>\n      <td>体育类</td>\n      <td>1</td>\n      <td>100.000000</td>\n    </tr>\n    <tr>\n      <th>1120</th>\n      <td>线性代数</td>\n      <td>学科基础课</td>\n      <td>3</td>\n      <td>97.000000</td>\n    </tr>\n    <tr>\n      <th>1121</th>\n      <td>毛泽东思想和中国特色社会主义理论体系概论（一）</td>\n      <td>思政类</td>\n      <td>3</td>\n      <td>99.000000</td>\n    </tr>\n    <tr>\n      <th>1122</th>\n      <td>机器学习</td>\n      <td>专业选修课</td>\n      <td>3</td>\n      <td>88.000000</td>\n    </tr>\n    <tr>\n      <th>1123</th>\n      <td>位置服务</td>\n      <td>专业选修课</td>\n      <td>3</td>\n      <td>87.000000</td>\n    </tr>\n    <tr>\n      <th>1124</th>\n      <td>学术英语听说（一）</td>\n      <td>英语类</td>\n      <td>2</td>\n      <td>85.000000</td>\n    </tr>\n    <tr>\n      <th>1125</th>\n      <td>程序正义与经典案例解析</td>\n      <td>精品课程</td>\n      <td>2</td>\n      <td>76.000000</td>\n    </tr>\n    <tr>\n      <th>1126</th>\n      <td>环境可持续发展</td>\n      <td>公共任意选修类</td>\n      <td>2</td>\n      <td>76.000000</td>\n    </tr>\n    <tr>\n      <th>1127</th>\n      <td>数据挖掘</td>\n      <td>专业必修课</td>\n      <td>4</td>\n      <td>71.000000</td>\n    </tr>\n    <tr>\n      <th>1128</th>\n      <td>毛泽东思想和中国特色社会主义理论体系概论（二）</td>\n      <td>思政类</td>\n      <td>3</td>\n      <td>93.000000</td>\n    </tr>\n    <tr>\n      <th>1129</th>\n      <td>概率图模型</td>\n      <td>专业选修课</td>\n      <td>3</td>\n      <td>96.000000</td>\n    </tr>\n    <tr>\n      <th>1130</th>\n      <td>篮球（初）</td>\n      <td>体育类</td>\n      <td>1</td>\n      <td>77.000000</td>\n    </tr>\n    <tr>\n      <th>1131</th>\n      <td>高等统计选讲</td>\n      <td>专业选修课</td>\n      <td>3</td>\n      <td>87.000000</td>\n    </tr>\n    <tr>\n      <th>1132</th>\n      <td>推荐系统</td>\n      <td>专业选修课</td>\n      <td>3</td>\n      <td>97.000000</td>\n    </tr>\n    <tr>\n      <th>1133</th>\n      <td>智慧城市</td>\n      <td>专业选修课</td>\n      <td>3</td>\n      <td>77.000000</td>\n    </tr>\n  </tbody>\n</table>\n</div>"
     },
     "execution_count": 144,
     "metadata": {},
     "output_type": "execute_result"
    }
   ],
   "source": [
    "# 9.修改索引：从1101开始到1101+len(df)结束，把索引的名字改为编号\n",
    "df.index = pd.Index(range(1101, 1101 + len(df)), name='编号')\n",
    "df"
   ],
   "metadata": {
    "collapsed": false,
    "pycharm": {
     "name": "#%%\n"
    }
   }
  },
  {
   "cell_type": "code",
   "execution_count": 145,
   "outputs": [
    {
     "data": {
      "text/plain": "             课程名字         分数\n编号                          \n1101  思想道德修养与法律基础  89.000000\n1102     云计算应用与开发  96.000000\n1103         社会计算  78.000000\n1104         深度学习  75.000000\n1105       人工智能导论  85.066667\n1106      中国近代史纲要  97.000000\n1107      数据结构与算法  82.000000\n1108    开源软件设计与开发  81.000000\n1109        网球（初）  81.000000",
      "text/html": "<div>\n<style scoped>\n    .dataframe tbody tr th:only-of-type {\n        vertical-align: middle;\n    }\n\n    .dataframe tbody tr th {\n        vertical-align: top;\n    }\n\n    .dataframe thead th {\n        text-align: right;\n    }\n</style>\n<table border=\"1\" class=\"dataframe\">\n  <thead>\n    <tr style=\"text-align: right;\">\n      <th></th>\n      <th>课程名字</th>\n      <th>分数</th>\n    </tr>\n    <tr>\n      <th>编号</th>\n      <th></th>\n      <th></th>\n    </tr>\n  </thead>\n  <tbody>\n    <tr>\n      <th>1101</th>\n      <td>思想道德修养与法律基础</td>\n      <td>89.000000</td>\n    </tr>\n    <tr>\n      <th>1102</th>\n      <td>云计算应用与开发</td>\n      <td>96.000000</td>\n    </tr>\n    <tr>\n      <th>1103</th>\n      <td>社会计算</td>\n      <td>78.000000</td>\n    </tr>\n    <tr>\n      <th>1104</th>\n      <td>深度学习</td>\n      <td>75.000000</td>\n    </tr>\n    <tr>\n      <th>1105</th>\n      <td>人工智能导论</td>\n      <td>85.066667</td>\n    </tr>\n    <tr>\n      <th>1106</th>\n      <td>中国近代史纲要</td>\n      <td>97.000000</td>\n    </tr>\n    <tr>\n      <th>1107</th>\n      <td>数据结构与算法</td>\n      <td>82.000000</td>\n    </tr>\n    <tr>\n      <th>1108</th>\n      <td>开源软件设计与开发</td>\n      <td>81.000000</td>\n    </tr>\n    <tr>\n      <th>1109</th>\n      <td>网球（初）</td>\n      <td>81.000000</td>\n    </tr>\n  </tbody>\n</table>\n</div>"
     },
     "execution_count": 145,
     "metadata": {},
     "output_type": "execute_result"
    }
   ],
   "source": [
    "# 10.获取编号为1101-1109课程名字和分数\n",
    "df.loc[1101:1109, ['课程名字', '分数']]"
   ],
   "metadata": {
    "collapsed": false,
    "pycharm": {
     "name": "#%%\n"
    }
   }
  },
  {
   "cell_type": "code",
   "execution_count": 146,
   "outputs": [
    {
     "data": {
      "text/plain": "       课程类别  学分         分数\n编号                        \n1101    思政类   3  89.000000\n1102  专业选修课   3  96.000000\n1103  专业选修课   3  78.000000\n1104  专业选修课   3  75.000000\n1105  专业必修课   3  85.066667\n1106    思政类   3  97.000000\n1107  学科基础课   5  82.000000\n1108  专业选修课   3  81.000000\n1109    体育类   1  81.000000",
      "text/html": "<div>\n<style scoped>\n    .dataframe tbody tr th:only-of-type {\n        vertical-align: middle;\n    }\n\n    .dataframe tbody tr th {\n        vertical-align: top;\n    }\n\n    .dataframe thead th {\n        text-align: right;\n    }\n</style>\n<table border=\"1\" class=\"dataframe\">\n  <thead>\n    <tr style=\"text-align: right;\">\n      <th></th>\n      <th>课程类别</th>\n      <th>学分</th>\n      <th>分数</th>\n    </tr>\n    <tr>\n      <th>编号</th>\n      <th></th>\n      <th></th>\n      <th></th>\n    </tr>\n  </thead>\n  <tbody>\n    <tr>\n      <th>1101</th>\n      <td>思政类</td>\n      <td>3</td>\n      <td>89.000000</td>\n    </tr>\n    <tr>\n      <th>1102</th>\n      <td>专业选修课</td>\n      <td>3</td>\n      <td>96.000000</td>\n    </tr>\n    <tr>\n      <th>1103</th>\n      <td>专业选修课</td>\n      <td>3</td>\n      <td>78.000000</td>\n    </tr>\n    <tr>\n      <th>1104</th>\n      <td>专业选修课</td>\n      <td>3</td>\n      <td>75.000000</td>\n    </tr>\n    <tr>\n      <th>1105</th>\n      <td>专业必修课</td>\n      <td>3</td>\n      <td>85.066667</td>\n    </tr>\n    <tr>\n      <th>1106</th>\n      <td>思政类</td>\n      <td>3</td>\n      <td>97.000000</td>\n    </tr>\n    <tr>\n      <th>1107</th>\n      <td>学科基础课</td>\n      <td>5</td>\n      <td>82.000000</td>\n    </tr>\n    <tr>\n      <th>1108</th>\n      <td>专业选修课</td>\n      <td>3</td>\n      <td>81.000000</td>\n    </tr>\n    <tr>\n      <th>1109</th>\n      <td>体育类</td>\n      <td>1</td>\n      <td>81.000000</td>\n    </tr>\n  </tbody>\n</table>\n</div>"
     },
     "execution_count": 146,
     "metadata": {},
     "output_type": "execute_result"
    }
   ],
   "source": [
    "df.iloc[0:9, 1:]"
   ],
   "metadata": {
    "collapsed": false,
    "pycharm": {
     "name": "#%%\n"
    }
   }
  },
  {
   "cell_type": "code",
   "execution_count": 147,
   "outputs": [
    {
     "data": {
      "text/plain": "             课程名字   课程类别  学分         分数\n编号                                     \n1101  思想道德修养与法律基础    思政类   3  89.000000\n1103         社会计算  专业选修课   3  78.000000\n1105       人工智能导论  专业必修课   3  85.066667",
      "text/html": "<div>\n<style scoped>\n    .dataframe tbody tr th:only-of-type {\n        vertical-align: middle;\n    }\n\n    .dataframe tbody tr th {\n        vertical-align: top;\n    }\n\n    .dataframe thead th {\n        text-align: right;\n    }\n</style>\n<table border=\"1\" class=\"dataframe\">\n  <thead>\n    <tr style=\"text-align: right;\">\n      <th></th>\n      <th>课程名字</th>\n      <th>课程类别</th>\n      <th>学分</th>\n      <th>分数</th>\n    </tr>\n    <tr>\n      <th>编号</th>\n      <th></th>\n      <th></th>\n      <th></th>\n      <th></th>\n    </tr>\n  </thead>\n  <tbody>\n    <tr>\n      <th>1101</th>\n      <td>思想道德修养与法律基础</td>\n      <td>思政类</td>\n      <td>3</td>\n      <td>89.000000</td>\n    </tr>\n    <tr>\n      <th>1103</th>\n      <td>社会计算</td>\n      <td>专业选修课</td>\n      <td>3</td>\n      <td>78.000000</td>\n    </tr>\n    <tr>\n      <th>1105</th>\n      <td>人工智能导论</td>\n      <td>专业必修课</td>\n      <td>3</td>\n      <td>85.066667</td>\n    </tr>\n  </tbody>\n</table>\n</div>"
     },
     "execution_count": 147,
     "metadata": {},
     "output_type": "execute_result"
    }
   ],
   "source": [
    "# 11.使用iloc输出编号为1101，1103，1105的数据\n",
    "df.iloc[[0, 2, 4]]"
   ],
   "metadata": {
    "collapsed": false,
    "pycharm": {
     "name": "#%%\n"
    }
   }
  },
  {
   "cell_type": "code",
   "execution_count": null,
   "outputs": [],
   "source": [],
   "metadata": {
    "collapsed": false,
    "pycharm": {
     "name": "#%%\n"
    }
   }
  },
  {
   "cell_type": "code",
   "execution_count": 148,
   "outputs": [
    {
     "data": {
      "text/plain": "                         课程名字   课程类别  学分     分数\n编号                                             \n1119                    足球（初）    体育类   1  100.0\n1121  毛泽东思想和中国特色社会主义理论体系概论（一）    思政类   3   99.0\n1132                     推荐系统  专业选修课   3   97.0\n1120                     线性代数  学科基础课   3   97.0\n1106                  中国近代史纲要    思政类   3   97.0\n1129                    概率图模型  专业选修课   3   96.0\n1102                 云计算应用与开发  专业选修课   3   96.0\n1128  毛泽东思想和中国特色社会主义理论体系概论（二）    思政类   3   93.0\n1113                  高等数学（二）  学科基础课   4   92.0\n1110                  大数据应用案例  专业必修课   3   91.0",
      "text/html": "<div>\n<style scoped>\n    .dataframe tbody tr th:only-of-type {\n        vertical-align: middle;\n    }\n\n    .dataframe tbody tr th {\n        vertical-align: top;\n    }\n\n    .dataframe thead th {\n        text-align: right;\n    }\n</style>\n<table border=\"1\" class=\"dataframe\">\n  <thead>\n    <tr style=\"text-align: right;\">\n      <th></th>\n      <th>课程名字</th>\n      <th>课程类别</th>\n      <th>学分</th>\n      <th>分数</th>\n    </tr>\n    <tr>\n      <th>编号</th>\n      <th></th>\n      <th></th>\n      <th></th>\n      <th></th>\n    </tr>\n  </thead>\n  <tbody>\n    <tr>\n      <th>1119</th>\n      <td>足球（初）</td>\n      <td>体育类</td>\n      <td>1</td>\n      <td>100.0</td>\n    </tr>\n    <tr>\n      <th>1121</th>\n      <td>毛泽东思想和中国特色社会主义理论体系概论（一）</td>\n      <td>思政类</td>\n      <td>3</td>\n      <td>99.0</td>\n    </tr>\n    <tr>\n      <th>1132</th>\n      <td>推荐系统</td>\n      <td>专业选修课</td>\n      <td>3</td>\n      <td>97.0</td>\n    </tr>\n    <tr>\n      <th>1120</th>\n      <td>线性代数</td>\n      <td>学科基础课</td>\n      <td>3</td>\n      <td>97.0</td>\n    </tr>\n    <tr>\n      <th>1106</th>\n      <td>中国近代史纲要</td>\n      <td>思政类</td>\n      <td>3</td>\n      <td>97.0</td>\n    </tr>\n    <tr>\n      <th>1129</th>\n      <td>概率图模型</td>\n      <td>专业选修课</td>\n      <td>3</td>\n      <td>96.0</td>\n    </tr>\n    <tr>\n      <th>1102</th>\n      <td>云计算应用与开发</td>\n      <td>专业选修课</td>\n      <td>3</td>\n      <td>96.0</td>\n    </tr>\n    <tr>\n      <th>1128</th>\n      <td>毛泽东思想和中国特色社会主义理论体系概论（二）</td>\n      <td>思政类</td>\n      <td>3</td>\n      <td>93.0</td>\n    </tr>\n    <tr>\n      <th>1113</th>\n      <td>高等数学（二）</td>\n      <td>学科基础课</td>\n      <td>4</td>\n      <td>92.0</td>\n    </tr>\n    <tr>\n      <th>1110</th>\n      <td>大数据应用案例</td>\n      <td>专业必修课</td>\n      <td>3</td>\n      <td>91.0</td>\n    </tr>\n  </tbody>\n</table>\n</div>"
     },
     "execution_count": 148,
     "metadata": {},
     "output_type": "execute_result"
    }
   ],
   "source": [
    "# 12.对分数进行降序排序，并输出前10行数据\n",
    "df.sort_values(by='分数', ascending=False).head(10)"
   ],
   "metadata": {
    "collapsed": false,
    "pycharm": {
     "name": "#%%\n"
    }
   }
  },
  {
   "cell_type": "code",
   "execution_count": 149,
   "outputs": [
    {
     "data": {
      "text/plain": "                         课程名字     课程类别  学分          分数\n编号                                                    \n1101              思想道德修养与法律基础      思政类   3   89.000000\n1102                 云计算应用与开发    专业选修课   3   96.000000\n1103                     社会计算    专业选修课   3   78.000000\n1104                     深度学习    专业选修课   3   75.000000\n1105                   人工智能导论    专业必修课   3   85.066667\n1106                  中国近代史纲要      思政类   3   97.000000\n1107                  数据结构与算法    学科基础课   5   82.000000\n1108                开源软件设计与开发    专业选修课   3   81.000000\n1109                    网球（初）      体育类   1   81.000000\n1110                  大数据应用案例    专业必修课   3   91.000000\n1111             极端性气候与陆地生态系统  公共任意选修类   2   78.000000\n1112                     电子商务    专业选修课   3   74.000000\n1113                  高等数学（二）    学科基础课   4   92.000000\n1114                    游泳（初）      体育类   1   75.000000\n1115                    计算机视觉    专业选修课   3   85.066667\n1116                     离散数学    学科基础课   4   82.000000\n1117                数据科学的数学基础    专业必修课   4   75.000000\n1118                     程序设计    学科基础课   4   85.066667\n1119                    足球（初）      体育类   1  100.000000\n1120                     线性代数    学科基础课   3   97.000000\n1121  毛泽东思想和中国特色社会主义理论体系概论（一）      思政类   3   99.000000\n1122                     机器学习    专业选修课   3   88.000000\n1123                     位置服务    专业选修课   3   87.000000\n1124                学术英语听说（一）      英语类   2   85.000000\n1125              程序正义与经典案例解析     精品课程   2   76.000000\n1126                  环境可持续发展  公共任意选修类   2   76.000000\n1127                     数据挖掘    专业必修课   4   71.000000\n1128  毛泽东思想和中国特色社会主义理论体系概论（二）      思政类   3   93.000000\n1129                    概率图模型    专业选修课   3   96.000000\n1130                    篮球（初）      体育类   1   77.000000\n1131                   高等统计选讲    专业选修课   3   87.000000\n1132                     推荐系统    专业选修课   3   97.000000\n1133                     智慧城市    专业选修课   3   77.000000",
      "text/html": "<div>\n<style scoped>\n    .dataframe tbody tr th:only-of-type {\n        vertical-align: middle;\n    }\n\n    .dataframe tbody tr th {\n        vertical-align: top;\n    }\n\n    .dataframe thead th {\n        text-align: right;\n    }\n</style>\n<table border=\"1\" class=\"dataframe\">\n  <thead>\n    <tr style=\"text-align: right;\">\n      <th></th>\n      <th>课程名字</th>\n      <th>课程类别</th>\n      <th>学分</th>\n      <th>分数</th>\n    </tr>\n    <tr>\n      <th>编号</th>\n      <th></th>\n      <th></th>\n      <th></th>\n      <th></th>\n    </tr>\n  </thead>\n  <tbody>\n    <tr>\n      <th>1101</th>\n      <td>思想道德修养与法律基础</td>\n      <td>思政类</td>\n      <td>3</td>\n      <td>89.000000</td>\n    </tr>\n    <tr>\n      <th>1102</th>\n      <td>云计算应用与开发</td>\n      <td>专业选修课</td>\n      <td>3</td>\n      <td>96.000000</td>\n    </tr>\n    <tr>\n      <th>1103</th>\n      <td>社会计算</td>\n      <td>专业选修课</td>\n      <td>3</td>\n      <td>78.000000</td>\n    </tr>\n    <tr>\n      <th>1104</th>\n      <td>深度学习</td>\n      <td>专业选修课</td>\n      <td>3</td>\n      <td>75.000000</td>\n    </tr>\n    <tr>\n      <th>1105</th>\n      <td>人工智能导论</td>\n      <td>专业必修课</td>\n      <td>3</td>\n      <td>85.066667</td>\n    </tr>\n    <tr>\n      <th>1106</th>\n      <td>中国近代史纲要</td>\n      <td>思政类</td>\n      <td>3</td>\n      <td>97.000000</td>\n    </tr>\n    <tr>\n      <th>1107</th>\n      <td>数据结构与算法</td>\n      <td>学科基础课</td>\n      <td>5</td>\n      <td>82.000000</td>\n    </tr>\n    <tr>\n      <th>1108</th>\n      <td>开源软件设计与开发</td>\n      <td>专业选修课</td>\n      <td>3</td>\n      <td>81.000000</td>\n    </tr>\n    <tr>\n      <th>1109</th>\n      <td>网球（初）</td>\n      <td>体育类</td>\n      <td>1</td>\n      <td>81.000000</td>\n    </tr>\n    <tr>\n      <th>1110</th>\n      <td>大数据应用案例</td>\n      <td>专业必修课</td>\n      <td>3</td>\n      <td>91.000000</td>\n    </tr>\n    <tr>\n      <th>1111</th>\n      <td>极端性气候与陆地生态系统</td>\n      <td>公共任意选修类</td>\n      <td>2</td>\n      <td>78.000000</td>\n    </tr>\n    <tr>\n      <th>1112</th>\n      <td>电子商务</td>\n      <td>专业选修课</td>\n      <td>3</td>\n      <td>74.000000</td>\n    </tr>\n    <tr>\n      <th>1113</th>\n      <td>高等数学（二）</td>\n      <td>学科基础课</td>\n      <td>4</td>\n      <td>92.000000</td>\n    </tr>\n    <tr>\n      <th>1114</th>\n      <td>游泳（初）</td>\n      <td>体育类</td>\n      <td>1</td>\n      <td>75.000000</td>\n    </tr>\n    <tr>\n      <th>1115</th>\n      <td>计算机视觉</td>\n      <td>专业选修课</td>\n      <td>3</td>\n      <td>85.066667</td>\n    </tr>\n    <tr>\n      <th>1116</th>\n      <td>离散数学</td>\n      <td>学科基础课</td>\n      <td>4</td>\n      <td>82.000000</td>\n    </tr>\n    <tr>\n      <th>1117</th>\n      <td>数据科学的数学基础</td>\n      <td>专业必修课</td>\n      <td>4</td>\n      <td>75.000000</td>\n    </tr>\n    <tr>\n      <th>1118</th>\n      <td>程序设计</td>\n      <td>学科基础课</td>\n      <td>4</td>\n      <td>85.066667</td>\n    </tr>\n    <tr>\n      <th>1119</th>\n      <td>足球（初）</td>\n      <td>体育类</td>\n      <td>1</td>\n      <td>100.000000</td>\n    </tr>\n    <tr>\n      <th>1120</th>\n      <td>线性代数</td>\n      <td>学科基础课</td>\n      <td>3</td>\n      <td>97.000000</td>\n    </tr>\n    <tr>\n      <th>1121</th>\n      <td>毛泽东思想和中国特色社会主义理论体系概论（一）</td>\n      <td>思政类</td>\n      <td>3</td>\n      <td>99.000000</td>\n    </tr>\n    <tr>\n      <th>1122</th>\n      <td>机器学习</td>\n      <td>专业选修课</td>\n      <td>3</td>\n      <td>88.000000</td>\n    </tr>\n    <tr>\n      <th>1123</th>\n      <td>位置服务</td>\n      <td>专业选修课</td>\n      <td>3</td>\n      <td>87.000000</td>\n    </tr>\n    <tr>\n      <th>1124</th>\n      <td>学术英语听说（一）</td>\n      <td>英语类</td>\n      <td>2</td>\n      <td>85.000000</td>\n    </tr>\n    <tr>\n      <th>1125</th>\n      <td>程序正义与经典案例解析</td>\n      <td>精品课程</td>\n      <td>2</td>\n      <td>76.000000</td>\n    </tr>\n    <tr>\n      <th>1126</th>\n      <td>环境可持续发展</td>\n      <td>公共任意选修类</td>\n      <td>2</td>\n      <td>76.000000</td>\n    </tr>\n    <tr>\n      <th>1127</th>\n      <td>数据挖掘</td>\n      <td>专业必修课</td>\n      <td>4</td>\n      <td>71.000000</td>\n    </tr>\n    <tr>\n      <th>1128</th>\n      <td>毛泽东思想和中国特色社会主义理论体系概论（二）</td>\n      <td>思政类</td>\n      <td>3</td>\n      <td>93.000000</td>\n    </tr>\n    <tr>\n      <th>1129</th>\n      <td>概率图模型</td>\n      <td>专业选修课</td>\n      <td>3</td>\n      <td>96.000000</td>\n    </tr>\n    <tr>\n      <th>1130</th>\n      <td>篮球（初）</td>\n      <td>体育类</td>\n      <td>1</td>\n      <td>77.000000</td>\n    </tr>\n    <tr>\n      <th>1131</th>\n      <td>高等统计选讲</td>\n      <td>专业选修课</td>\n      <td>3</td>\n      <td>87.000000</td>\n    </tr>\n    <tr>\n      <th>1132</th>\n      <td>推荐系统</td>\n      <td>专业选修课</td>\n      <td>3</td>\n      <td>97.000000</td>\n    </tr>\n    <tr>\n      <th>1133</th>\n      <td>智慧城市</td>\n      <td>专业选修课</td>\n      <td>3</td>\n      <td>77.000000</td>\n    </tr>\n  </tbody>\n</table>\n</div>"
     },
     "execution_count": 149,
     "metadata": {},
     "output_type": "execute_result"
    }
   ],
   "source": [
    "# 13.使用cut对分数进行区间的划分，分为4个区间，分别为：0-60，60-75，75-90，9-100，左闭右开，命名为分数区间 （1）\n",
    "pd.cut(df['分数'], bins=[0, 60, 75, 90, 100], labels=['0-60', '60-75', '75-90', '90-100'])\n",
    "df"
   ],
   "metadata": {
    "collapsed": false,
    "pycharm": {
     "name": "#%%\n"
    }
   }
  },
  {
   "cell_type": "code",
   "execution_count": 150,
   "outputs": [
    {
     "data": {
      "text/plain": "                         课程名字     课程类别  学分          分数    分数区间\n编号                                                            \n1101              思想道德修养与法律基础      思政类   3   89.000000   75-90\n1102                 云计算应用与开发    专业选修课   3   96.000000  90-100\n1103                     社会计算    专业选修课   3   78.000000   75-90\n1104                     深度学习    专业选修课   3   75.000000   60-75\n1105                   人工智能导论    专业必修课   3   85.066667   75-90\n1106                  中国近代史纲要      思政类   3   97.000000  90-100\n1107                  数据结构与算法    学科基础课   5   82.000000   75-90\n1108                开源软件设计与开发    专业选修课   3   81.000000   75-90\n1109                    网球（初）      体育类   1   81.000000   75-90\n1110                  大数据应用案例    专业必修课   3   91.000000  90-100\n1111             极端性气候与陆地生态系统  公共任意选修类   2   78.000000   75-90\n1112                     电子商务    专业选修课   3   74.000000   60-75\n1113                  高等数学（二）    学科基础课   4   92.000000  90-100\n1114                    游泳（初）      体育类   1   75.000000   60-75\n1115                    计算机视觉    专业选修课   3   85.066667   75-90\n1116                     离散数学    学科基础课   4   82.000000   75-90\n1117                数据科学的数学基础    专业必修课   4   75.000000   60-75\n1118                     程序设计    学科基础课   4   85.066667   75-90\n1119                    足球（初）      体育类   1  100.000000  90-100\n1120                     线性代数    学科基础课   3   97.000000  90-100\n1121  毛泽东思想和中国特色社会主义理论体系概论（一）      思政类   3   99.000000  90-100\n1122                     机器学习    专业选修课   3   88.000000   75-90\n1123                     位置服务    专业选修课   3   87.000000   75-90\n1124                学术英语听说（一）      英语类   2   85.000000   75-90\n1125              程序正义与经典案例解析     精品课程   2   76.000000   75-90\n1126                  环境可持续发展  公共任意选修类   2   76.000000   75-90\n1127                     数据挖掘    专业必修课   4   71.000000   60-75\n1128  毛泽东思想和中国特色社会主义理论体系概论（二）      思政类   3   93.000000  90-100\n1129                    概率图模型    专业选修课   3   96.000000  90-100\n1130                    篮球（初）      体育类   1   77.000000   75-90\n1131                   高等统计选讲    专业选修课   3   87.000000   75-90\n1132                     推荐系统    专业选修课   3   97.000000  90-100\n1133                     智慧城市    专业选修课   3   77.000000   75-90",
      "text/html": "<div>\n<style scoped>\n    .dataframe tbody tr th:only-of-type {\n        vertical-align: middle;\n    }\n\n    .dataframe tbody tr th {\n        vertical-align: top;\n    }\n\n    .dataframe thead th {\n        text-align: right;\n    }\n</style>\n<table border=\"1\" class=\"dataframe\">\n  <thead>\n    <tr style=\"text-align: right;\">\n      <th></th>\n      <th>课程名字</th>\n      <th>课程类别</th>\n      <th>学分</th>\n      <th>分数</th>\n      <th>分数区间</th>\n    </tr>\n    <tr>\n      <th>编号</th>\n      <th></th>\n      <th></th>\n      <th></th>\n      <th></th>\n      <th></th>\n    </tr>\n  </thead>\n  <tbody>\n    <tr>\n      <th>1101</th>\n      <td>思想道德修养与法律基础</td>\n      <td>思政类</td>\n      <td>3</td>\n      <td>89.000000</td>\n      <td>75-90</td>\n    </tr>\n    <tr>\n      <th>1102</th>\n      <td>云计算应用与开发</td>\n      <td>专业选修课</td>\n      <td>3</td>\n      <td>96.000000</td>\n      <td>90-100</td>\n    </tr>\n    <tr>\n      <th>1103</th>\n      <td>社会计算</td>\n      <td>专业选修课</td>\n      <td>3</td>\n      <td>78.000000</td>\n      <td>75-90</td>\n    </tr>\n    <tr>\n      <th>1104</th>\n      <td>深度学习</td>\n      <td>专业选修课</td>\n      <td>3</td>\n      <td>75.000000</td>\n      <td>60-75</td>\n    </tr>\n    <tr>\n      <th>1105</th>\n      <td>人工智能导论</td>\n      <td>专业必修课</td>\n      <td>3</td>\n      <td>85.066667</td>\n      <td>75-90</td>\n    </tr>\n    <tr>\n      <th>1106</th>\n      <td>中国近代史纲要</td>\n      <td>思政类</td>\n      <td>3</td>\n      <td>97.000000</td>\n      <td>90-100</td>\n    </tr>\n    <tr>\n      <th>1107</th>\n      <td>数据结构与算法</td>\n      <td>学科基础课</td>\n      <td>5</td>\n      <td>82.000000</td>\n      <td>75-90</td>\n    </tr>\n    <tr>\n      <th>1108</th>\n      <td>开源软件设计与开发</td>\n      <td>专业选修课</td>\n      <td>3</td>\n      <td>81.000000</td>\n      <td>75-90</td>\n    </tr>\n    <tr>\n      <th>1109</th>\n      <td>网球（初）</td>\n      <td>体育类</td>\n      <td>1</td>\n      <td>81.000000</td>\n      <td>75-90</td>\n    </tr>\n    <tr>\n      <th>1110</th>\n      <td>大数据应用案例</td>\n      <td>专业必修课</td>\n      <td>3</td>\n      <td>91.000000</td>\n      <td>90-100</td>\n    </tr>\n    <tr>\n      <th>1111</th>\n      <td>极端性气候与陆地生态系统</td>\n      <td>公共任意选修类</td>\n      <td>2</td>\n      <td>78.000000</td>\n      <td>75-90</td>\n    </tr>\n    <tr>\n      <th>1112</th>\n      <td>电子商务</td>\n      <td>专业选修课</td>\n      <td>3</td>\n      <td>74.000000</td>\n      <td>60-75</td>\n    </tr>\n    <tr>\n      <th>1113</th>\n      <td>高等数学（二）</td>\n      <td>学科基础课</td>\n      <td>4</td>\n      <td>92.000000</td>\n      <td>90-100</td>\n    </tr>\n    <tr>\n      <th>1114</th>\n      <td>游泳（初）</td>\n      <td>体育类</td>\n      <td>1</td>\n      <td>75.000000</td>\n      <td>60-75</td>\n    </tr>\n    <tr>\n      <th>1115</th>\n      <td>计算机视觉</td>\n      <td>专业选修课</td>\n      <td>3</td>\n      <td>85.066667</td>\n      <td>75-90</td>\n    </tr>\n    <tr>\n      <th>1116</th>\n      <td>离散数学</td>\n      <td>学科基础课</td>\n      <td>4</td>\n      <td>82.000000</td>\n      <td>75-90</td>\n    </tr>\n    <tr>\n      <th>1117</th>\n      <td>数据科学的数学基础</td>\n      <td>专业必修课</td>\n      <td>4</td>\n      <td>75.000000</td>\n      <td>60-75</td>\n    </tr>\n    <tr>\n      <th>1118</th>\n      <td>程序设计</td>\n      <td>学科基础课</td>\n      <td>4</td>\n      <td>85.066667</td>\n      <td>75-90</td>\n    </tr>\n    <tr>\n      <th>1119</th>\n      <td>足球（初）</td>\n      <td>体育类</td>\n      <td>1</td>\n      <td>100.000000</td>\n      <td>90-100</td>\n    </tr>\n    <tr>\n      <th>1120</th>\n      <td>线性代数</td>\n      <td>学科基础课</td>\n      <td>3</td>\n      <td>97.000000</td>\n      <td>90-100</td>\n    </tr>\n    <tr>\n      <th>1121</th>\n      <td>毛泽东思想和中国特色社会主义理论体系概论（一）</td>\n      <td>思政类</td>\n      <td>3</td>\n      <td>99.000000</td>\n      <td>90-100</td>\n    </tr>\n    <tr>\n      <th>1122</th>\n      <td>机器学习</td>\n      <td>专业选修课</td>\n      <td>3</td>\n      <td>88.000000</td>\n      <td>75-90</td>\n    </tr>\n    <tr>\n      <th>1123</th>\n      <td>位置服务</td>\n      <td>专业选修课</td>\n      <td>3</td>\n      <td>87.000000</td>\n      <td>75-90</td>\n    </tr>\n    <tr>\n      <th>1124</th>\n      <td>学术英语听说（一）</td>\n      <td>英语类</td>\n      <td>2</td>\n      <td>85.000000</td>\n      <td>75-90</td>\n    </tr>\n    <tr>\n      <th>1125</th>\n      <td>程序正义与经典案例解析</td>\n      <td>精品课程</td>\n      <td>2</td>\n      <td>76.000000</td>\n      <td>75-90</td>\n    </tr>\n    <tr>\n      <th>1126</th>\n      <td>环境可持续发展</td>\n      <td>公共任意选修类</td>\n      <td>2</td>\n      <td>76.000000</td>\n      <td>75-90</td>\n    </tr>\n    <tr>\n      <th>1127</th>\n      <td>数据挖掘</td>\n      <td>专业必修课</td>\n      <td>4</td>\n      <td>71.000000</td>\n      <td>60-75</td>\n    </tr>\n    <tr>\n      <th>1128</th>\n      <td>毛泽东思想和中国特色社会主义理论体系概论（二）</td>\n      <td>思政类</td>\n      <td>3</td>\n      <td>93.000000</td>\n      <td>90-100</td>\n    </tr>\n    <tr>\n      <th>1129</th>\n      <td>概率图模型</td>\n      <td>专业选修课</td>\n      <td>3</td>\n      <td>96.000000</td>\n      <td>90-100</td>\n    </tr>\n    <tr>\n      <th>1130</th>\n      <td>篮球（初）</td>\n      <td>体育类</td>\n      <td>1</td>\n      <td>77.000000</td>\n      <td>75-90</td>\n    </tr>\n    <tr>\n      <th>1131</th>\n      <td>高等统计选讲</td>\n      <td>专业选修课</td>\n      <td>3</td>\n      <td>87.000000</td>\n      <td>75-90</td>\n    </tr>\n    <tr>\n      <th>1132</th>\n      <td>推荐系统</td>\n      <td>专业选修课</td>\n      <td>3</td>\n      <td>97.000000</td>\n      <td>90-100</td>\n    </tr>\n    <tr>\n      <th>1133</th>\n      <td>智慧城市</td>\n      <td>专业选修课</td>\n      <td>3</td>\n      <td>77.000000</td>\n      <td>75-90</td>\n    </tr>\n  </tbody>\n</table>\n</div>"
     },
     "execution_count": 150,
     "metadata": {},
     "output_type": "execute_result"
    }
   ],
   "source": [
    "# 14.使用cut对分数进行区间的划分，分为4个区间，分别为：0-60，60-75，75-90，9-100，左闭右开，命名为分数区间 （2）\n",
    "df['分数区间'] = pd.cut(df['分数'], bins=[0, 60, 75, 90, 100], labels=['0-60', '60-75', '75-90', '90-100'])\n",
    "df"
   ],
   "metadata": {
    "collapsed": false,
    "pycharm": {
     "name": "#%%\n"
    }
   }
  }
 ],
 "metadata": {
  "kernelspec": {
   "display_name": "Python 3",
   "language": "python",
   "name": "python3"
  },
  "language_info": {
   "codemirror_mode": {
    "name": "ipython",
    "version": 2
   },
   "file_extension": ".py",
   "mimetype": "text/x-python",
   "name": "python",
   "nbconvert_exporter": "python",
   "pygments_lexer": "ipython2",
   "version": "2.7.6"
  }
 },
 "nbformat": 4,
 "nbformat_minor": 0
}