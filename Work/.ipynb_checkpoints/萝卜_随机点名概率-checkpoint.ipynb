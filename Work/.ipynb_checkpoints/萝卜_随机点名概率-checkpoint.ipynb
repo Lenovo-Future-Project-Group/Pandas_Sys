{
 "cells": [
  {
   "cell_type": "code",
   "execution_count": 15,
   "metadata": {
    "pycharm": {
     "name": "#%%\n"
    }
   },
   "outputs": [],
   "source": [
    "import random\n",
    "import numpy as np\n",
    "import pandas as pd"
   ]
  },
  {
   "cell_type": "code",
   "execution_count": 16,
   "metadata": {
    "pycharm": {
     "name": "#%%\n"
    }
   },
   "outputs": [],
   "source": [
    "s = ['崔昊元', '贾靖程', '吴俊岳',\n",
    "     '王浩羽', '吕梦丽', '李博远',\n",
    "     '牛皓冬', '张阔', '孙佳奇', '郑佳睦',\n",
    "     '王孝天', '付一鸣', '李蓉轩', '陈观绅',\n",
    "     '赵鑫博', '张子豪', '叶平']"
   ]
  },
  {
   "cell_type": "code",
   "execution_count": 17,
   "metadata": {
    "pycharm": {
     "name": "#%%\n"
    }
   },
   "outputs": [],
   "source": [
    "# 使用random.choice()随机点名500次并使用dataframe记录概率，每个人被点到的次数"
   ]
  },
  {
   "cell_type": "code",
   "execution_count": 18,
   "metadata": {
    "pycharm": {
     "name": "#%%\n"
    }
   },
   "outputs": [],
   "source": [
    "def get_student_probabilities_1(stu, num):\n",
    "     # stu: 学生列表 num: 点名次数\n",
    "\n",
    "     stu_df = pd.DataFrame(stu, columns=['名字'])\n",
    "\n",
    "     # 计算每个人被点到的次数，使用一列插入到dataframe中\n",
    "     stu_df['次数'] = [0] * len(stu)\n",
    "     for i in range(num):\n",
    "         stu_df['次数'][stu.index(random.choice(stu))] += 1\n",
    "\n",
    "     # 计算每个人被点到的概率，使用另一列插入到dataframe中\n",
    "     stu_df['概率'] = stu_df['次数'] / num\n",
    "\n",
    "     # 计算每个人被点到的误差，使用另一列插入到dataframe中\n",
    "     stu_df['误差'] = stu_df['概率'] - 1 / len(stu)\n",
    "\n",
    "     return stu_df\n",
    "     \n",
    "     while True:\n",
    "         print(random.choice(s))\n",
    "         if input('q结束，其他键回车继续') == 'q':\n",
    "             break"
   ]
  },
  {
   "cell_type": "code",
   "execution_count": 19,
   "metadata": {
    "pycharm": {
     "name": "#%%\n"
    }
   },
   "outputs": [],
   "source": [
    "# 使用numpy和pandas对random.choice()随机点名500次并使用dataframe记录概率，每个人被点到的次数\n",
    "\n",
    "def get_student_probabilities_2(stu, num):\n",
    "     # stu: 学生列表 num: 点名次数\n",
    "\n",
    "     stu_df = pd.DataFrame(stu, columns=['名字'])\n",
    "\n",
    "     # 计算每个人被点到的次数，使用一列插入到dataframe中\n",
    "     stu_df['次数'] = np.random.choice(stu, num, replace=True).tolist().count(stu)\n",
    "\n",
    "     # 计算每个人被点到的概率，使用另一列插入到dataframe中\n",
    "     stu_df['概率'] = stu_df['次数'] / num\n",
    "\n",
    "     # 计算每个人被点到的误差，使用另一列插入到dataframe中\n",
    "     stu_df['误差'] = stu_df['概率'] - 1 / len(stu)\n",
    "\n",
    "     return stu_df\n",
    "\n",
    "     while True:\n",
    "         print(random.choice(s))\n",
    "         if input('q结束，其他键回车继续') == 'q':\n",
    "             break"
   ]
  },
  {
   "cell_type": "code",
   "execution_count": 20,
   "metadata": {
    "pycharm": {
     "name": "#%%\n"
    }
   },
   "outputs": [
    {
     "name": "stderr",
     "output_type": "stream",
     "text": [
      "C:\\Users\\Bing_John\\AppData\\Local\\Temp\\ipykernel_69200\\1284106523.py:9: SettingWithCopyWarning: \n",
      "A value is trying to be set on a copy of a slice from a DataFrame\n",
      "\n",
      "See the caveats in the documentation: https://pandas.pydata.org/pandas-docs/stable/user_guide/indexing.html#returning-a-view-versus-a-copy\n",
      "  stu_df['次数'][stu.index(random.choice(stu))] += 1\n"
     ]
    },
    {
     "data": {
      "text/html": [
       "<div>\n",
       "<style scoped>\n",
       "    .dataframe tbody tr th:only-of-type {\n",
       "        vertical-align: middle;\n",
       "    }\n",
       "\n",
       "    .dataframe tbody tr th {\n",
       "        vertical-align: top;\n",
       "    }\n",
       "\n",
       "    .dataframe thead th {\n",
       "        text-align: right;\n",
       "    }\n",
       "</style>\n",
       "<table border=\"1\" class=\"dataframe\">\n",
       "  <thead>\n",
       "    <tr style=\"text-align: right;\">\n",
       "      <th></th>\n",
       "      <th>名字</th>\n",
       "      <th>次数</th>\n",
       "      <th>概率</th>\n",
       "      <th>误差</th>\n",
       "    </tr>\n",
       "  </thead>\n",
       "  <tbody>\n",
       "    <tr>\n",
       "      <th>0</th>\n",
       "      <td>崔昊元</td>\n",
       "      <td>1219</td>\n",
       "      <td>0.06095</td>\n",
       "      <td>0.002126</td>\n",
       "    </tr>\n",
       "    <tr>\n",
       "      <th>1</th>\n",
       "      <td>贾靖程</td>\n",
       "      <td>1168</td>\n",
       "      <td>0.05840</td>\n",
       "      <td>-0.000424</td>\n",
       "    </tr>\n",
       "    <tr>\n",
       "      <th>2</th>\n",
       "      <td>吴俊岳</td>\n",
       "      <td>1145</td>\n",
       "      <td>0.05725</td>\n",
       "      <td>-0.001574</td>\n",
       "    </tr>\n",
       "    <tr>\n",
       "      <th>3</th>\n",
       "      <td>王浩羽</td>\n",
       "      <td>1129</td>\n",
       "      <td>0.05645</td>\n",
       "      <td>-0.002374</td>\n",
       "    </tr>\n",
       "    <tr>\n",
       "      <th>4</th>\n",
       "      <td>吕梦丽</td>\n",
       "      <td>1191</td>\n",
       "      <td>0.05955</td>\n",
       "      <td>0.000726</td>\n",
       "    </tr>\n",
       "    <tr>\n",
       "      <th>5</th>\n",
       "      <td>李博远</td>\n",
       "      <td>1159</td>\n",
       "      <td>0.05795</td>\n",
       "      <td>-0.000874</td>\n",
       "    </tr>\n",
       "    <tr>\n",
       "      <th>6</th>\n",
       "      <td>牛皓冬</td>\n",
       "      <td>1161</td>\n",
       "      <td>0.05805</td>\n",
       "      <td>-0.000774</td>\n",
       "    </tr>\n",
       "    <tr>\n",
       "      <th>7</th>\n",
       "      <td>张阔</td>\n",
       "      <td>1206</td>\n",
       "      <td>0.06030</td>\n",
       "      <td>0.001476</td>\n",
       "    </tr>\n",
       "    <tr>\n",
       "      <th>8</th>\n",
       "      <td>孙佳奇</td>\n",
       "      <td>1218</td>\n",
       "      <td>0.06090</td>\n",
       "      <td>0.002076</td>\n",
       "    </tr>\n",
       "    <tr>\n",
       "      <th>9</th>\n",
       "      <td>郑佳睦</td>\n",
       "      <td>1135</td>\n",
       "      <td>0.05675</td>\n",
       "      <td>-0.002074</td>\n",
       "    </tr>\n",
       "    <tr>\n",
       "      <th>10</th>\n",
       "      <td>王孝天</td>\n",
       "      <td>1193</td>\n",
       "      <td>0.05965</td>\n",
       "      <td>0.000826</td>\n",
       "    </tr>\n",
       "    <tr>\n",
       "      <th>11</th>\n",
       "      <td>付一鸣</td>\n",
       "      <td>1148</td>\n",
       "      <td>0.05740</td>\n",
       "      <td>-0.001424</td>\n",
       "    </tr>\n",
       "    <tr>\n",
       "      <th>12</th>\n",
       "      <td>李蓉轩</td>\n",
       "      <td>1174</td>\n",
       "      <td>0.05870</td>\n",
       "      <td>-0.000124</td>\n",
       "    </tr>\n",
       "    <tr>\n",
       "      <th>13</th>\n",
       "      <td>陈观绅</td>\n",
       "      <td>1147</td>\n",
       "      <td>0.05735</td>\n",
       "      <td>-0.001474</td>\n",
       "    </tr>\n",
       "    <tr>\n",
       "      <th>14</th>\n",
       "      <td>赵鑫博</td>\n",
       "      <td>1177</td>\n",
       "      <td>0.05885</td>\n",
       "      <td>0.000026</td>\n",
       "    </tr>\n",
       "    <tr>\n",
       "      <th>15</th>\n",
       "      <td>张子豪</td>\n",
       "      <td>1229</td>\n",
       "      <td>0.06145</td>\n",
       "      <td>0.002626</td>\n",
       "    </tr>\n",
       "    <tr>\n",
       "      <th>16</th>\n",
       "      <td>叶平</td>\n",
       "      <td>1201</td>\n",
       "      <td>0.06005</td>\n",
       "      <td>0.001226</td>\n",
       "    </tr>\n",
       "  </tbody>\n",
       "</table>\n",
       "</div>"
      ],
      "text/plain": [
       "     名字    次数       概率        误差\n",
       "0   崔昊元  1219  0.06095  0.002126\n",
       "1   贾靖程  1168  0.05840 -0.000424\n",
       "2   吴俊岳  1145  0.05725 -0.001574\n",
       "3   王浩羽  1129  0.05645 -0.002374\n",
       "4   吕梦丽  1191  0.05955  0.000726\n",
       "5   李博远  1159  0.05795 -0.000874\n",
       "6   牛皓冬  1161  0.05805 -0.000774\n",
       "7    张阔  1206  0.06030  0.001476\n",
       "8   孙佳奇  1218  0.06090  0.002076\n",
       "9   郑佳睦  1135  0.05675 -0.002074\n",
       "10  王孝天  1193  0.05965  0.000826\n",
       "11  付一鸣  1148  0.05740 -0.001424\n",
       "12  李蓉轩  1174  0.05870 -0.000124\n",
       "13  陈观绅  1147  0.05735 -0.001474\n",
       "14  赵鑫博  1177  0.05885  0.000026\n",
       "15  张子豪  1229  0.06145  0.002626\n",
       "16   叶平  1201  0.06005  0.001226"
      ]
     },
     "execution_count": 20,
     "metadata": {},
     "output_type": "execute_result"
    }
   ],
   "source": [
    "df = get_student_probabilities_1(s, 20000)\n",
    "\n",
    "df"
   ]
  }
 ],
 "metadata": {
  "kernelspec": {
   "display_name": "Python 3 (ipykernel)",
   "language": "python",
   "name": "python3"
  },
  "language_info": {
   "codemirror_mode": {
    "name": "ipython",
    "version": 3
   },
   "file_extension": ".py",
   "mimetype": "text/x-python",
   "name": "python",
   "nbconvert_exporter": "python",
   "pygments_lexer": "ipython3",
   "version": "3.10.7"
  }
 },
 "nbformat": 4,
 "nbformat_minor": 1
}
