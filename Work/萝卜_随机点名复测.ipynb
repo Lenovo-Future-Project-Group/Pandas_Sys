{
 "cells": [
  {
   "cell_type": "code",
   "execution_count": 50,
   "metadata": {
    "collapsed": true,
    "pycharm": {
     "name": "#%%\n"
    }
   },
   "outputs": [],
   "source": [
    "import os\n",
    "import random\n",
    "import shutil\n",
    "import numpy as np\n",
    "import pandas as pd\n",
    "from IPython.core.display_functions import display"
   ]
  },
  {
   "cell_type": "code",
   "execution_count": 51,
   "outputs": [],
   "source": [
    "stu = ['崔昊元', '贾靖程', '吴俊岳', '王浩羽', '吕梦丽', '李博远', '牛皓冬', '张阔', '孙佳奇', '郑佳睦', '王孝天', '付一鸣', '李蓉轩', '陈观绅', '赵鑫博', '张子豪',\n",
    "       '叶平']"
   ],
   "metadata": {
    "collapsed": false,
    "pycharm": {
     "name": "#%%\n"
    }
   }
  },
  {
   "cell_type": "code",
   "execution_count": 52,
   "outputs": [
    {
     "data": {
      "text/plain": "     姓名    计数       概率     累计概率      次数 次数是否相近 概率是否相近 次数规律性 名字概率性\n序号                                                               \n0   崔昊元  2974  0.05948  0.05948  2974.0      是      是     是     否\n1   贾靖程  2968  0.05936  0.11884  2968.0      是      是     是     否\n2   吴俊岳  2872  0.05744  0.17628  2872.0      否      否     否     否\n3   王浩羽  2957  0.05914  0.23542  2957.0      是      是     是     否\n4   吕梦丽  2988  0.05976  0.29518  2988.0      是      是     是     否\n5   李博远  3006  0.06012  0.35530  3006.0      否      否     否     否\n6   牛皓冬  2970  0.05940  0.41470  2970.0      是      是     是     否\n7    张阔  2974  0.05948  0.47418  2974.0      是      是     是     否\n8   孙佳奇  2868  0.05736  0.53154  2868.0      否      否     否     否\n9   郑佳睦  2927  0.05854  0.59008  2927.0      是      是     是     否\n10  王孝天  3006  0.06012  0.65020  3006.0      否      否     否     否\n11  付一鸣  2981  0.05962  0.70982  2981.0      是      是     是     否\n12  李蓉轩  2958  0.05916  0.76898  2958.0      是      是     是     否\n13  陈观绅  2890  0.05780  0.82678  2890.0      是      是     是     否\n14  赵鑫博  2837  0.05674  0.88352  2837.0      否      否     否     否\n15  张子豪  2916  0.05832  0.94184  2916.0      是      是     是     否\n16   叶平  2908  0.05816  1.00000  2908.0      是      是     是     否",
      "text/html": "<div>\n<style scoped>\n    .dataframe tbody tr th:only-of-type {\n        vertical-align: middle;\n    }\n\n    .dataframe tbody tr th {\n        vertical-align: top;\n    }\n\n    .dataframe thead th {\n        text-align: right;\n    }\n</style>\n<table border=\"1\" class=\"dataframe\">\n  <thead>\n    <tr style=\"text-align: right;\">\n      <th></th>\n      <th>姓名</th>\n      <th>计数</th>\n      <th>概率</th>\n      <th>累计概率</th>\n      <th>次数</th>\n      <th>次数是否相近</th>\n      <th>概率是否相近</th>\n      <th>次数规律性</th>\n      <th>名字概率性</th>\n    </tr>\n    <tr>\n      <th>序号</th>\n      <th></th>\n      <th></th>\n      <th></th>\n      <th></th>\n      <th></th>\n      <th></th>\n      <th></th>\n      <th></th>\n      <th></th>\n    </tr>\n  </thead>\n  <tbody>\n    <tr>\n      <th>0</th>\n      <td>崔昊元</td>\n      <td>2974</td>\n      <td>0.05948</td>\n      <td>0.05948</td>\n      <td>2974.0</td>\n      <td>是</td>\n      <td>是</td>\n      <td>是</td>\n      <td>否</td>\n    </tr>\n    <tr>\n      <th>1</th>\n      <td>贾靖程</td>\n      <td>2968</td>\n      <td>0.05936</td>\n      <td>0.11884</td>\n      <td>2968.0</td>\n      <td>是</td>\n      <td>是</td>\n      <td>是</td>\n      <td>否</td>\n    </tr>\n    <tr>\n      <th>2</th>\n      <td>吴俊岳</td>\n      <td>2872</td>\n      <td>0.05744</td>\n      <td>0.17628</td>\n      <td>2872.0</td>\n      <td>否</td>\n      <td>否</td>\n      <td>否</td>\n      <td>否</td>\n    </tr>\n    <tr>\n      <th>3</th>\n      <td>王浩羽</td>\n      <td>2957</td>\n      <td>0.05914</td>\n      <td>0.23542</td>\n      <td>2957.0</td>\n      <td>是</td>\n      <td>是</td>\n      <td>是</td>\n      <td>否</td>\n    </tr>\n    <tr>\n      <th>4</th>\n      <td>吕梦丽</td>\n      <td>2988</td>\n      <td>0.05976</td>\n      <td>0.29518</td>\n      <td>2988.0</td>\n      <td>是</td>\n      <td>是</td>\n      <td>是</td>\n      <td>否</td>\n    </tr>\n    <tr>\n      <th>5</th>\n      <td>李博远</td>\n      <td>3006</td>\n      <td>0.06012</td>\n      <td>0.35530</td>\n      <td>3006.0</td>\n      <td>否</td>\n      <td>否</td>\n      <td>否</td>\n      <td>否</td>\n    </tr>\n    <tr>\n      <th>6</th>\n      <td>牛皓冬</td>\n      <td>2970</td>\n      <td>0.05940</td>\n      <td>0.41470</td>\n      <td>2970.0</td>\n      <td>是</td>\n      <td>是</td>\n      <td>是</td>\n      <td>否</td>\n    </tr>\n    <tr>\n      <th>7</th>\n      <td>张阔</td>\n      <td>2974</td>\n      <td>0.05948</td>\n      <td>0.47418</td>\n      <td>2974.0</td>\n      <td>是</td>\n      <td>是</td>\n      <td>是</td>\n      <td>否</td>\n    </tr>\n    <tr>\n      <th>8</th>\n      <td>孙佳奇</td>\n      <td>2868</td>\n      <td>0.05736</td>\n      <td>0.53154</td>\n      <td>2868.0</td>\n      <td>否</td>\n      <td>否</td>\n      <td>否</td>\n      <td>否</td>\n    </tr>\n    <tr>\n      <th>9</th>\n      <td>郑佳睦</td>\n      <td>2927</td>\n      <td>0.05854</td>\n      <td>0.59008</td>\n      <td>2927.0</td>\n      <td>是</td>\n      <td>是</td>\n      <td>是</td>\n      <td>否</td>\n    </tr>\n    <tr>\n      <th>10</th>\n      <td>王孝天</td>\n      <td>3006</td>\n      <td>0.06012</td>\n      <td>0.65020</td>\n      <td>3006.0</td>\n      <td>否</td>\n      <td>否</td>\n      <td>否</td>\n      <td>否</td>\n    </tr>\n    <tr>\n      <th>11</th>\n      <td>付一鸣</td>\n      <td>2981</td>\n      <td>0.05962</td>\n      <td>0.70982</td>\n      <td>2981.0</td>\n      <td>是</td>\n      <td>是</td>\n      <td>是</td>\n      <td>否</td>\n    </tr>\n    <tr>\n      <th>12</th>\n      <td>李蓉轩</td>\n      <td>2958</td>\n      <td>0.05916</td>\n      <td>0.76898</td>\n      <td>2958.0</td>\n      <td>是</td>\n      <td>是</td>\n      <td>是</td>\n      <td>否</td>\n    </tr>\n    <tr>\n      <th>13</th>\n      <td>陈观绅</td>\n      <td>2890</td>\n      <td>0.05780</td>\n      <td>0.82678</td>\n      <td>2890.0</td>\n      <td>是</td>\n      <td>是</td>\n      <td>是</td>\n      <td>否</td>\n    </tr>\n    <tr>\n      <th>14</th>\n      <td>赵鑫博</td>\n      <td>2837</td>\n      <td>0.05674</td>\n      <td>0.88352</td>\n      <td>2837.0</td>\n      <td>否</td>\n      <td>否</td>\n      <td>否</td>\n      <td>否</td>\n    </tr>\n    <tr>\n      <th>15</th>\n      <td>张子豪</td>\n      <td>2916</td>\n      <td>0.05832</td>\n      <td>0.94184</td>\n      <td>2916.0</td>\n      <td>是</td>\n      <td>是</td>\n      <td>是</td>\n      <td>否</td>\n    </tr>\n    <tr>\n      <th>16</th>\n      <td>叶平</td>\n      <td>2908</td>\n      <td>0.05816</td>\n      <td>1.00000</td>\n      <td>2908.0</td>\n      <td>是</td>\n      <td>是</td>\n      <td>是</td>\n      <td>否</td>\n    </tr>\n  </tbody>\n</table>\n</div>"
     },
     "execution_count": 52,
     "metadata": {},
     "output_type": "execute_result"
    }
   ],
   "source": [],
   "metadata": {
    "collapsed": false,
    "pycharm": {
     "name": "#%%\n"
    }
   }
  },
  {
   "cell_type": "code",
   "execution_count": 53,
   "outputs": [
    {
     "data": {
      "text/plain": "     姓名    计数       概率     累计概率      次数 次数是否相近 概率是否相近 次数规律性 名字概率性\n序号                                                               \n0   崔昊元  2909  0.05818  0.05818  2909.0      是      是     是     否\n1   贾靖程  2994  0.05988  0.11806  2994.0      否      否     否     否\n2   吴俊岳  2940  0.05880  0.17686  2940.0      是      是     是     否\n3   王浩羽  2990  0.05980  0.23666  2990.0      否      否     否     否\n4   吕梦丽  2870  0.05740  0.29406  2870.0      否      否     否     否\n5   李博远  2968  0.05936  0.35342  2968.0      是      是     是     否\n6   牛皓冬  2945  0.05890  0.41232  2945.0      是      是     是     否\n7    张阔  2959  0.05918  0.47150  2959.0      是      是     是     否\n8   孙佳奇  2996  0.05992  0.53142  2996.0      否      否     否     否\n9   郑佳睦  2952  0.05904  0.59046  2952.0      是      是     是     否\n10  王孝天  2908  0.05816  0.64862  2908.0      是      是     是     否\n11  付一鸣  2970  0.05940  0.70802  2970.0      是      是     是     否\n12  李蓉轩  2959  0.05918  0.76720  2959.0      是      是     是     否\n13  陈观绅  2882  0.05764  0.82484  2882.0      否      否     否     否\n14  赵鑫博  2986  0.05972  0.88456  2986.0      是      是     是     否\n15  张子豪  2841  0.05682  0.94138  2841.0      否      否     否     否\n16   叶平  2931  0.05862  1.00000  2931.0      是      是     是     否",
      "text/html": "<div>\n<style scoped>\n    .dataframe tbody tr th:only-of-type {\n        vertical-align: middle;\n    }\n\n    .dataframe tbody tr th {\n        vertical-align: top;\n    }\n\n    .dataframe thead th {\n        text-align: right;\n    }\n</style>\n<table border=\"1\" class=\"dataframe\">\n  <thead>\n    <tr style=\"text-align: right;\">\n      <th></th>\n      <th>姓名</th>\n      <th>计数</th>\n      <th>概率</th>\n      <th>累计概率</th>\n      <th>次数</th>\n      <th>次数是否相近</th>\n      <th>概率是否相近</th>\n      <th>次数规律性</th>\n      <th>名字概率性</th>\n    </tr>\n    <tr>\n      <th>序号</th>\n      <th></th>\n      <th></th>\n      <th></th>\n      <th></th>\n      <th></th>\n      <th></th>\n      <th></th>\n      <th></th>\n      <th></th>\n    </tr>\n  </thead>\n  <tbody>\n    <tr>\n      <th>0</th>\n      <td>崔昊元</td>\n      <td>2909</td>\n      <td>0.05818</td>\n      <td>0.05818</td>\n      <td>2909.0</td>\n      <td>是</td>\n      <td>是</td>\n      <td>是</td>\n      <td>否</td>\n    </tr>\n    <tr>\n      <th>1</th>\n      <td>贾靖程</td>\n      <td>2994</td>\n      <td>0.05988</td>\n      <td>0.11806</td>\n      <td>2994.0</td>\n      <td>否</td>\n      <td>否</td>\n      <td>否</td>\n      <td>否</td>\n    </tr>\n    <tr>\n      <th>2</th>\n      <td>吴俊岳</td>\n      <td>2940</td>\n      <td>0.05880</td>\n      <td>0.17686</td>\n      <td>2940.0</td>\n      <td>是</td>\n      <td>是</td>\n      <td>是</td>\n      <td>否</td>\n    </tr>\n    <tr>\n      <th>3</th>\n      <td>王浩羽</td>\n      <td>2990</td>\n      <td>0.05980</td>\n      <td>0.23666</td>\n      <td>2990.0</td>\n      <td>否</td>\n      <td>否</td>\n      <td>否</td>\n      <td>否</td>\n    </tr>\n    <tr>\n      <th>4</th>\n      <td>吕梦丽</td>\n      <td>2870</td>\n      <td>0.05740</td>\n      <td>0.29406</td>\n      <td>2870.0</td>\n      <td>否</td>\n      <td>否</td>\n      <td>否</td>\n      <td>否</td>\n    </tr>\n    <tr>\n      <th>5</th>\n      <td>李博远</td>\n      <td>2968</td>\n      <td>0.05936</td>\n      <td>0.35342</td>\n      <td>2968.0</td>\n      <td>是</td>\n      <td>是</td>\n      <td>是</td>\n      <td>否</td>\n    </tr>\n    <tr>\n      <th>6</th>\n      <td>牛皓冬</td>\n      <td>2945</td>\n      <td>0.05890</td>\n      <td>0.41232</td>\n      <td>2945.0</td>\n      <td>是</td>\n      <td>是</td>\n      <td>是</td>\n      <td>否</td>\n    </tr>\n    <tr>\n      <th>7</th>\n      <td>张阔</td>\n      <td>2959</td>\n      <td>0.05918</td>\n      <td>0.47150</td>\n      <td>2959.0</td>\n      <td>是</td>\n      <td>是</td>\n      <td>是</td>\n      <td>否</td>\n    </tr>\n    <tr>\n      <th>8</th>\n      <td>孙佳奇</td>\n      <td>2996</td>\n      <td>0.05992</td>\n      <td>0.53142</td>\n      <td>2996.0</td>\n      <td>否</td>\n      <td>否</td>\n      <td>否</td>\n      <td>否</td>\n    </tr>\n    <tr>\n      <th>9</th>\n      <td>郑佳睦</td>\n      <td>2952</td>\n      <td>0.05904</td>\n      <td>0.59046</td>\n      <td>2952.0</td>\n      <td>是</td>\n      <td>是</td>\n      <td>是</td>\n      <td>否</td>\n    </tr>\n    <tr>\n      <th>10</th>\n      <td>王孝天</td>\n      <td>2908</td>\n      <td>0.05816</td>\n      <td>0.64862</td>\n      <td>2908.0</td>\n      <td>是</td>\n      <td>是</td>\n      <td>是</td>\n      <td>否</td>\n    </tr>\n    <tr>\n      <th>11</th>\n      <td>付一鸣</td>\n      <td>2970</td>\n      <td>0.05940</td>\n      <td>0.70802</td>\n      <td>2970.0</td>\n      <td>是</td>\n      <td>是</td>\n      <td>是</td>\n      <td>否</td>\n    </tr>\n    <tr>\n      <th>12</th>\n      <td>李蓉轩</td>\n      <td>2959</td>\n      <td>0.05918</td>\n      <td>0.76720</td>\n      <td>2959.0</td>\n      <td>是</td>\n      <td>是</td>\n      <td>是</td>\n      <td>否</td>\n    </tr>\n    <tr>\n      <th>13</th>\n      <td>陈观绅</td>\n      <td>2882</td>\n      <td>0.05764</td>\n      <td>0.82484</td>\n      <td>2882.0</td>\n      <td>否</td>\n      <td>否</td>\n      <td>否</td>\n      <td>否</td>\n    </tr>\n    <tr>\n      <th>14</th>\n      <td>赵鑫博</td>\n      <td>2986</td>\n      <td>0.05972</td>\n      <td>0.88456</td>\n      <td>2986.0</td>\n      <td>是</td>\n      <td>是</td>\n      <td>是</td>\n      <td>否</td>\n    </tr>\n    <tr>\n      <th>15</th>\n      <td>张子豪</td>\n      <td>2841</td>\n      <td>0.05682</td>\n      <td>0.94138</td>\n      <td>2841.0</td>\n      <td>否</td>\n      <td>否</td>\n      <td>否</td>\n      <td>否</td>\n    </tr>\n    <tr>\n      <th>16</th>\n      <td>叶平</td>\n      <td>2931</td>\n      <td>0.05862</td>\n      <td>1.00000</td>\n      <td>2931.0</td>\n      <td>是</td>\n      <td>是</td>\n      <td>是</td>\n      <td>否</td>\n    </tr>\n  </tbody>\n</table>\n</div>"
     },
     "metadata": {},
     "output_type": "display_data"
    }
   ],
   "source": [
    "if __name__ == '__main__':\n",
    "    info = run()\n",
    "    display(info)"
   ],
   "metadata": {
    "collapsed": false,
    "pycharm": {
     "name": "#%%\n"
    }
   }
  }
 ],
 "metadata": {
  "kernelspec": {
   "display_name": "Python 3",
   "language": "python",
   "name": "python3"
  },
  "language_info": {
   "codemirror_mode": {
    "name": "ipython",
    "version": 2
   },
   "file_extension": ".py",
   "mimetype": "text/x-python",
   "name": "python",
   "nbconvert_exporter": "python",
   "pygments_lexer": "ipython2",
   "version": "2.7.6"
  }
 },
 "nbformat": 4,
 "nbformat_minor": 0
}