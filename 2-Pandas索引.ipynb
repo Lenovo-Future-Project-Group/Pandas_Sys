{
 "cells": [
  {
   "cell_type": "markdown",
   "metadata": {
    "pycharm": {
     "name": "#%% md\n"
    }
   },
   "source": [
    "# 第2章 索引"
   ]
  },
  {
   "cell_type": "code",
   "execution_count": 70,
   "metadata": {
    "pycharm": {
     "name": "#%%\n"
    }
   },
   "outputs": [],
   "source": [
    "import numpy as np\n",
    "import pandas as pd"
   ]
  },
  {
   "cell_type": "code",
   "execution_count": 71,
   "outputs": [],
   "source": [
    "def csv_to_df(csv_file, index_col=None):\n",
    "    data = pd.DataFrame(pd.read_csv(csv_file, index_col=index_col, low_memory=False))\n",
    "    return data"
   ],
   "metadata": {
    "collapsed": false,
    "pycharm": {
     "name": "#%%\n"
    }
   }
  },
  {
   "cell_type": "code",
   "execution_count": 72,
   "outputs": [],
   "source": [
    "df = csv_to_df('data/table.csv', index_col='编号')"
   ],
   "metadata": {
    "collapsed": false,
    "pycharm": {
     "name": "#%%\n"
    }
   }
  },
  {
   "cell_type": "code",
   "execution_count": 73,
   "outputs": [
    {
     "data": {
      "text/plain": "       学校   班级        性别        地址   身高  体重  数学成绩 物理成绩\n编号                                                    \n1101  S_1  C_1  street_1  street_1  173  63  34.0   A+\n1102  S_1  C_1         F  street_2  192  73  32.5   B+\n1103  S_1  C_1         M  street_2  186  82  87.2   B-\n1104  S_1  C_1         F  street_2  167  81  80.4   B+\n1105  S_1  C_1         F  street_4  159  64  84.8   B+",
      "text/html": "<div>\n<style scoped>\n    .dataframe tbody tr th:only-of-type {\n        vertical-align: middle;\n    }\n\n    .dataframe tbody tr th {\n        vertical-align: top;\n    }\n\n    .dataframe thead th {\n        text-align: right;\n    }\n</style>\n<table border=\"1\" class=\"dataframe\">\n  <thead>\n    <tr style=\"text-align: right;\">\n      <th></th>\n      <th>学校</th>\n      <th>班级</th>\n      <th>性别</th>\n      <th>地址</th>\n      <th>身高</th>\n      <th>体重</th>\n      <th>数学成绩</th>\n      <th>物理成绩</th>\n    </tr>\n    <tr>\n      <th>编号</th>\n      <th></th>\n      <th></th>\n      <th></th>\n      <th></th>\n      <th></th>\n      <th></th>\n      <th></th>\n      <th></th>\n    </tr>\n  </thead>\n  <tbody>\n    <tr>\n      <th>1101</th>\n      <td>S_1</td>\n      <td>C_1</td>\n      <td>street_1</td>\n      <td>street_1</td>\n      <td>173</td>\n      <td>63</td>\n      <td>34.0</td>\n      <td>A+</td>\n    </tr>\n    <tr>\n      <th>1102</th>\n      <td>S_1</td>\n      <td>C_1</td>\n      <td>F</td>\n      <td>street_2</td>\n      <td>192</td>\n      <td>73</td>\n      <td>32.5</td>\n      <td>B+</td>\n    </tr>\n    <tr>\n      <th>1103</th>\n      <td>S_1</td>\n      <td>C_1</td>\n      <td>M</td>\n      <td>street_2</td>\n      <td>186</td>\n      <td>82</td>\n      <td>87.2</td>\n      <td>B-</td>\n    </tr>\n    <tr>\n      <th>1104</th>\n      <td>S_1</td>\n      <td>C_1</td>\n      <td>F</td>\n      <td>street_2</td>\n      <td>167</td>\n      <td>81</td>\n      <td>80.4</td>\n      <td>B+</td>\n    </tr>\n    <tr>\n      <th>1105</th>\n      <td>S_1</td>\n      <td>C_1</td>\n      <td>F</td>\n      <td>street_4</td>\n      <td>159</td>\n      <td>64</td>\n      <td>84.8</td>\n      <td>B+</td>\n    </tr>\n  </tbody>\n</table>\n</div>"
     },
     "execution_count": 73,
     "metadata": {},
     "output_type": "execute_result"
    }
   ],
   "source": [
    "df.head()"
   ],
   "metadata": {
    "collapsed": false,
    "pycharm": {
     "name": "#%%\n"
    }
   }
  },
  {
   "cell_type": "markdown",
   "metadata": {
    "pycharm": {
     "name": "#%% md\n"
    }
   },
   "source": [
    "## 一、单级索引\n",
    "### 1. loc方法、iloc方法、[ ]操作符\n",
    "#### 最常用的索引方法可能就是这三类，其中loc表示标签索引，iloc表示位置索引，[ ]也具有很大的便利性，各有特点\n",
    "#### （a）loc方法\n",
    "#### ① 单行索引："
   ]
  },
  {
   "cell_type": "code",
   "execution_count": 74,
   "metadata": {
    "pycharm": {
     "name": "#%%\n"
    }
   },
   "outputs": [
    {
     "data": {
      "text/plain": "学校           S_1\n班级           C_1\n性别             M\n地址      street_2\n身高           186\n体重            82\n数学成绩        87.2\n物理成绩          B-\nName: 1103, dtype: object"
     },
     "execution_count": 74,
     "metadata": {},
     "output_type": "execute_result"
    }
   ],
   "source": [
    "# 打印编号为1103的数据\n",
    "df.loc[1103]"
   ]
  },
  {
   "cell_type": "markdown",
   "metadata": {
    "pycharm": {
     "name": "#%% md\n"
    }
   },
   "source": [
    "#### ② 多行索引："
   ]
  },
  {
   "cell_type": "code",
   "execution_count": 75,
   "metadata": {
    "pycharm": {
     "name": "#%%\n"
    }
   },
   "outputs": [
    {
     "data": {
      "text/plain": "       学校   班级 性别        地址   身高  体重  数学成绩 物理成绩\n编号                                             \n1102  S_1  C_1  F  street_2  192  73  32.5   B+\n2304  S_2  C_3  F  street_6  164  81  95.5   A-",
      "text/html": "<div>\n<style scoped>\n    .dataframe tbody tr th:only-of-type {\n        vertical-align: middle;\n    }\n\n    .dataframe tbody tr th {\n        vertical-align: top;\n    }\n\n    .dataframe thead th {\n        text-align: right;\n    }\n</style>\n<table border=\"1\" class=\"dataframe\">\n  <thead>\n    <tr style=\"text-align: right;\">\n      <th></th>\n      <th>学校</th>\n      <th>班级</th>\n      <th>性别</th>\n      <th>地址</th>\n      <th>身高</th>\n      <th>体重</th>\n      <th>数学成绩</th>\n      <th>物理成绩</th>\n    </tr>\n    <tr>\n      <th>编号</th>\n      <th></th>\n      <th></th>\n      <th></th>\n      <th></th>\n      <th></th>\n      <th></th>\n      <th></th>\n      <th></th>\n    </tr>\n  </thead>\n  <tbody>\n    <tr>\n      <th>1102</th>\n      <td>S_1</td>\n      <td>C_1</td>\n      <td>F</td>\n      <td>street_2</td>\n      <td>192</td>\n      <td>73</td>\n      <td>32.5</td>\n      <td>B+</td>\n    </tr>\n    <tr>\n      <th>2304</th>\n      <td>S_2</td>\n      <td>C_3</td>\n      <td>F</td>\n      <td>street_6</td>\n      <td>164</td>\n      <td>81</td>\n      <td>95.5</td>\n      <td>A-</td>\n    </tr>\n  </tbody>\n</table>\n</div>"
     },
     "execution_count": 75,
     "metadata": {},
     "output_type": "execute_result"
    }
   ],
   "source": [
    "# # 打印编号为1102、2304的数据\n",
    "df.loc[[1102,2304]]"
   ]
  },
  {
   "cell_type": "markdown",
   "metadata": {
    "pycharm": {
     "name": "#%% md\n"
    }
   },
   "source": [
    "#### 注意：loc是 左右全闭！！ 而不是左闭右开！！"
   ]
  },
  {
   "cell_type": "code",
   "execution_count": 76,
   "metadata": {
    "pycharm": {
     "name": "#%%\n"
    }
   },
   "outputs": [
    {
     "data": {
      "text/plain": "       学校   班级 性别        地址   身高  体重  数学成绩 物理成绩\n编号                                             \n1304  S_1  C_3  M  street_2  195  70  85.2    A\n1305  S_1  C_3  F  street_5  187  69  61.7   B-\n2101  S_2  C_1  M  street_7  174  84  83.3    C\n2102  S_2  C_1  F  street_6  161  61  50.6   B+\n2103  S_2  C_1  M  street_4  157  61  52.5   B-",
      "text/html": "<div>\n<style scoped>\n    .dataframe tbody tr th:only-of-type {\n        vertical-align: middle;\n    }\n\n    .dataframe tbody tr th {\n        vertical-align: top;\n    }\n\n    .dataframe thead th {\n        text-align: right;\n    }\n</style>\n<table border=\"1\" class=\"dataframe\">\n  <thead>\n    <tr style=\"text-align: right;\">\n      <th></th>\n      <th>学校</th>\n      <th>班级</th>\n      <th>性别</th>\n      <th>地址</th>\n      <th>身高</th>\n      <th>体重</th>\n      <th>数学成绩</th>\n      <th>物理成绩</th>\n    </tr>\n    <tr>\n      <th>编号</th>\n      <th></th>\n      <th></th>\n      <th></th>\n      <th></th>\n      <th></th>\n      <th></th>\n      <th></th>\n      <th></th>\n    </tr>\n  </thead>\n  <tbody>\n    <tr>\n      <th>1304</th>\n      <td>S_1</td>\n      <td>C_3</td>\n      <td>M</td>\n      <td>street_2</td>\n      <td>195</td>\n      <td>70</td>\n      <td>85.2</td>\n      <td>A</td>\n    </tr>\n    <tr>\n      <th>1305</th>\n      <td>S_1</td>\n      <td>C_3</td>\n      <td>F</td>\n      <td>street_5</td>\n      <td>187</td>\n      <td>69</td>\n      <td>61.7</td>\n      <td>B-</td>\n    </tr>\n    <tr>\n      <th>2101</th>\n      <td>S_2</td>\n      <td>C_1</td>\n      <td>M</td>\n      <td>street_7</td>\n      <td>174</td>\n      <td>84</td>\n      <td>83.3</td>\n      <td>C</td>\n    </tr>\n    <tr>\n      <th>2102</th>\n      <td>S_2</td>\n      <td>C_1</td>\n      <td>F</td>\n      <td>street_6</td>\n      <td>161</td>\n      <td>61</td>\n      <td>50.6</td>\n      <td>B+</td>\n    </tr>\n    <tr>\n      <th>2103</th>\n      <td>S_2</td>\n      <td>C_1</td>\n      <td>M</td>\n      <td>street_4</td>\n      <td>157</td>\n      <td>61</td>\n      <td>52.5</td>\n      <td>B-</td>\n    </tr>\n  </tbody>\n</table>\n</div>"
     },
     "execution_count": 76,
     "metadata": {},
     "output_type": "execute_result"
    }
   ],
   "source": [
    "# 从1304～2103\n",
    "df.loc[1304:2103]"
   ]
  },
  {
   "cell_type": "code",
   "execution_count": 77,
   "metadata": {
    "pycharm": {
     "name": "#%%\n"
    }
   },
   "outputs": [
    {
     "data": {
      "text/plain": "       学校   班级        性别        地址   身高   体重  数学成绩 物理成绩\n编号                                                     \n2402  S_2  C_4         M  street_7  166   82  48.7    B\n2401  S_2  C_4         F       NaN  192   62  45.3    A\n2305  S_2  C_3         M  street_4  187   73  48.9    B\n2304  S_2  C_3         F  street_6  164   81  95.5   A-\n2303  S_2  C_3         F  street_7  190   99  65.9    C\n2302  S_2  C_3         M  street_5  171   88  32.7    A\n2301  S_2  C_3         F  street_4  157   78  72.3   B+\n2205  S_2  C_2         F  street_7  183   76  85.4    B\n2204  S_2  C_2         M  street_1  175   74  47.2   B-\n2203  S_2  C_2         M  street_4  155   91  73.8   A+\n2202  S_2  C_2         F  street_7  194   77  68.5   B+\n2201  S_2  C_2         M  street_5  193  100  39.1    B\n2105  S_2  C_1         M  street_4  170   81  34.2    A\n2104  S_2  C_1         F  street_5  159   97  72.2   B+\n2103  S_2  C_1         M  street_4  157   61  52.5   B-\n2102  S_2  C_1         F  street_6  161   61  50.6   B+\n2101  S_2  C_1         M  street_7  174   84  83.3    C\n1305  S_1  C_3         F  street_5  187   69  61.7   B-\n1304  S_1  C_3         M  street_2  195   70  85.2    A\n1303  S_1  C_3         M  street_7  188   82  49.7    B\n1302  S_1  C_3         F  street_1  175   57  87.7   A-\n1301  S_1  C_3         M  street_4  161   68  31.5   B+\n1205  S_1  C_2         F  street_6  167   63  68.4   B-\n1204  S_1  C_2         F  street_5  162   63  33.8    B\n1203  S_1  C_2         M  street_6  160   53  58.8   A+\n1202  S_1  C_2         F  street_4  176   94  63.5   B-\n1201  S_1  C_2         M  street_5  188   68  97.0   A-\n1105  S_1  C_1         F  street_4  159   64  84.8   B+\n1104  S_1  C_1         F  street_2  167   81  80.4   B+\n1103  S_1  C_1         M  street_2  186   82  87.2   B-\n1102  S_1  C_1         F  street_2  192   73  32.5   B+\n1101  S_1  C_1  street_1  street_1  173   63  34.0   A+",
      "text/html": "<div>\n<style scoped>\n    .dataframe tbody tr th:only-of-type {\n        vertical-align: middle;\n    }\n\n    .dataframe tbody tr th {\n        vertical-align: top;\n    }\n\n    .dataframe thead th {\n        text-align: right;\n    }\n</style>\n<table border=\"1\" class=\"dataframe\">\n  <thead>\n    <tr style=\"text-align: right;\">\n      <th></th>\n      <th>学校</th>\n      <th>班级</th>\n      <th>性别</th>\n      <th>地址</th>\n      <th>身高</th>\n      <th>体重</th>\n      <th>数学成绩</th>\n      <th>物理成绩</th>\n    </tr>\n    <tr>\n      <th>编号</th>\n      <th></th>\n      <th></th>\n      <th></th>\n      <th></th>\n      <th></th>\n      <th></th>\n      <th></th>\n      <th></th>\n    </tr>\n  </thead>\n  <tbody>\n    <tr>\n      <th>2402</th>\n      <td>S_2</td>\n      <td>C_4</td>\n      <td>M</td>\n      <td>street_7</td>\n      <td>166</td>\n      <td>82</td>\n      <td>48.7</td>\n      <td>B</td>\n    </tr>\n    <tr>\n      <th>2401</th>\n      <td>S_2</td>\n      <td>C_4</td>\n      <td>F</td>\n      <td>NaN</td>\n      <td>192</td>\n      <td>62</td>\n      <td>45.3</td>\n      <td>A</td>\n    </tr>\n    <tr>\n      <th>2305</th>\n      <td>S_2</td>\n      <td>C_3</td>\n      <td>M</td>\n      <td>street_4</td>\n      <td>187</td>\n      <td>73</td>\n      <td>48.9</td>\n      <td>B</td>\n    </tr>\n    <tr>\n      <th>2304</th>\n      <td>S_2</td>\n      <td>C_3</td>\n      <td>F</td>\n      <td>street_6</td>\n      <td>164</td>\n      <td>81</td>\n      <td>95.5</td>\n      <td>A-</td>\n    </tr>\n    <tr>\n      <th>2303</th>\n      <td>S_2</td>\n      <td>C_3</td>\n      <td>F</td>\n      <td>street_7</td>\n      <td>190</td>\n      <td>99</td>\n      <td>65.9</td>\n      <td>C</td>\n    </tr>\n    <tr>\n      <th>2302</th>\n      <td>S_2</td>\n      <td>C_3</td>\n      <td>M</td>\n      <td>street_5</td>\n      <td>171</td>\n      <td>88</td>\n      <td>32.7</td>\n      <td>A</td>\n    </tr>\n    <tr>\n      <th>2301</th>\n      <td>S_2</td>\n      <td>C_3</td>\n      <td>F</td>\n      <td>street_4</td>\n      <td>157</td>\n      <td>78</td>\n      <td>72.3</td>\n      <td>B+</td>\n    </tr>\n    <tr>\n      <th>2205</th>\n      <td>S_2</td>\n      <td>C_2</td>\n      <td>F</td>\n      <td>street_7</td>\n      <td>183</td>\n      <td>76</td>\n      <td>85.4</td>\n      <td>B</td>\n    </tr>\n    <tr>\n      <th>2204</th>\n      <td>S_2</td>\n      <td>C_2</td>\n      <td>M</td>\n      <td>street_1</td>\n      <td>175</td>\n      <td>74</td>\n      <td>47.2</td>\n      <td>B-</td>\n    </tr>\n    <tr>\n      <th>2203</th>\n      <td>S_2</td>\n      <td>C_2</td>\n      <td>M</td>\n      <td>street_4</td>\n      <td>155</td>\n      <td>91</td>\n      <td>73.8</td>\n      <td>A+</td>\n    </tr>\n    <tr>\n      <th>2202</th>\n      <td>S_2</td>\n      <td>C_2</td>\n      <td>F</td>\n      <td>street_7</td>\n      <td>194</td>\n      <td>77</td>\n      <td>68.5</td>\n      <td>B+</td>\n    </tr>\n    <tr>\n      <th>2201</th>\n      <td>S_2</td>\n      <td>C_2</td>\n      <td>M</td>\n      <td>street_5</td>\n      <td>193</td>\n      <td>100</td>\n      <td>39.1</td>\n      <td>B</td>\n    </tr>\n    <tr>\n      <th>2105</th>\n      <td>S_2</td>\n      <td>C_1</td>\n      <td>M</td>\n      <td>street_4</td>\n      <td>170</td>\n      <td>81</td>\n      <td>34.2</td>\n      <td>A</td>\n    </tr>\n    <tr>\n      <th>2104</th>\n      <td>S_2</td>\n      <td>C_1</td>\n      <td>F</td>\n      <td>street_5</td>\n      <td>159</td>\n      <td>97</td>\n      <td>72.2</td>\n      <td>B+</td>\n    </tr>\n    <tr>\n      <th>2103</th>\n      <td>S_2</td>\n      <td>C_1</td>\n      <td>M</td>\n      <td>street_4</td>\n      <td>157</td>\n      <td>61</td>\n      <td>52.5</td>\n      <td>B-</td>\n    </tr>\n    <tr>\n      <th>2102</th>\n      <td>S_2</td>\n      <td>C_1</td>\n      <td>F</td>\n      <td>street_6</td>\n      <td>161</td>\n      <td>61</td>\n      <td>50.6</td>\n      <td>B+</td>\n    </tr>\n    <tr>\n      <th>2101</th>\n      <td>S_2</td>\n      <td>C_1</td>\n      <td>M</td>\n      <td>street_7</td>\n      <td>174</td>\n      <td>84</td>\n      <td>83.3</td>\n      <td>C</td>\n    </tr>\n    <tr>\n      <th>1305</th>\n      <td>S_1</td>\n      <td>C_3</td>\n      <td>F</td>\n      <td>street_5</td>\n      <td>187</td>\n      <td>69</td>\n      <td>61.7</td>\n      <td>B-</td>\n    </tr>\n    <tr>\n      <th>1304</th>\n      <td>S_1</td>\n      <td>C_3</td>\n      <td>M</td>\n      <td>street_2</td>\n      <td>195</td>\n      <td>70</td>\n      <td>85.2</td>\n      <td>A</td>\n    </tr>\n    <tr>\n      <th>1303</th>\n      <td>S_1</td>\n      <td>C_3</td>\n      <td>M</td>\n      <td>street_7</td>\n      <td>188</td>\n      <td>82</td>\n      <td>49.7</td>\n      <td>B</td>\n    </tr>\n    <tr>\n      <th>1302</th>\n      <td>S_1</td>\n      <td>C_3</td>\n      <td>F</td>\n      <td>street_1</td>\n      <td>175</td>\n      <td>57</td>\n      <td>87.7</td>\n      <td>A-</td>\n    </tr>\n    <tr>\n      <th>1301</th>\n      <td>S_1</td>\n      <td>C_3</td>\n      <td>M</td>\n      <td>street_4</td>\n      <td>161</td>\n      <td>68</td>\n      <td>31.5</td>\n      <td>B+</td>\n    </tr>\n    <tr>\n      <th>1205</th>\n      <td>S_1</td>\n      <td>C_2</td>\n      <td>F</td>\n      <td>street_6</td>\n      <td>167</td>\n      <td>63</td>\n      <td>68.4</td>\n      <td>B-</td>\n    </tr>\n    <tr>\n      <th>1204</th>\n      <td>S_1</td>\n      <td>C_2</td>\n      <td>F</td>\n      <td>street_5</td>\n      <td>162</td>\n      <td>63</td>\n      <td>33.8</td>\n      <td>B</td>\n    </tr>\n    <tr>\n      <th>1203</th>\n      <td>S_1</td>\n      <td>C_2</td>\n      <td>M</td>\n      <td>street_6</td>\n      <td>160</td>\n      <td>53</td>\n      <td>58.8</td>\n      <td>A+</td>\n    </tr>\n    <tr>\n      <th>1202</th>\n      <td>S_1</td>\n      <td>C_2</td>\n      <td>F</td>\n      <td>street_4</td>\n      <td>176</td>\n      <td>94</td>\n      <td>63.5</td>\n      <td>B-</td>\n    </tr>\n    <tr>\n      <th>1201</th>\n      <td>S_1</td>\n      <td>C_2</td>\n      <td>M</td>\n      <td>street_5</td>\n      <td>188</td>\n      <td>68</td>\n      <td>97.0</td>\n      <td>A-</td>\n    </tr>\n    <tr>\n      <th>1105</th>\n      <td>S_1</td>\n      <td>C_1</td>\n      <td>F</td>\n      <td>street_4</td>\n      <td>159</td>\n      <td>64</td>\n      <td>84.8</td>\n      <td>B+</td>\n    </tr>\n    <tr>\n      <th>1104</th>\n      <td>S_1</td>\n      <td>C_1</td>\n      <td>F</td>\n      <td>street_2</td>\n      <td>167</td>\n      <td>81</td>\n      <td>80.4</td>\n      <td>B+</td>\n    </tr>\n    <tr>\n      <th>1103</th>\n      <td>S_1</td>\n      <td>C_1</td>\n      <td>M</td>\n      <td>street_2</td>\n      <td>186</td>\n      <td>82</td>\n      <td>87.2</td>\n      <td>B-</td>\n    </tr>\n    <tr>\n      <th>1102</th>\n      <td>S_1</td>\n      <td>C_1</td>\n      <td>F</td>\n      <td>street_2</td>\n      <td>192</td>\n      <td>73</td>\n      <td>32.5</td>\n      <td>B+</td>\n    </tr>\n    <tr>\n      <th>1101</th>\n      <td>S_1</td>\n      <td>C_1</td>\n      <td>street_1</td>\n      <td>street_1</td>\n      <td>173</td>\n      <td>63</td>\n      <td>34.0</td>\n      <td>A+</td>\n    </tr>\n  </tbody>\n</table>\n</div>"
     },
     "execution_count": 77,
     "metadata": {},
     "output_type": "execute_result"
    }
   ],
   "source": [
    "# 倒序\n",
    "df.loc[2402::-1]"
   ]
  },
  {
   "cell_type": "markdown",
   "metadata": {
    "pycharm": {
     "name": "#%% md\n"
    }
   },
   "source": [
    "#### ③ 单列索引："
   ]
  },
  {
   "cell_type": "code",
   "execution_count": 78,
   "metadata": {
    "pycharm": {
     "name": "#%%\n"
    }
   },
   "outputs": [
    {
     "data": {
      "text/plain": "编号\n1101    173\n1102    192\n1103    186\n1104    167\n1105    159\nName: 身高, dtype: int64"
     },
     "execution_count": 78,
     "metadata": {},
     "output_type": "execute_result"
    }
   ],
   "source": [
    "# 只看‘身高’列的数据\n",
    "df.loc[:,'身高'].head()"
   ]
  },
  {
   "cell_type": "markdown",
   "metadata": {
    "pycharm": {
     "name": "#%% md\n"
    }
   },
   "source": [
    "#### ④ 多列索引："
   ]
  },
  {
   "cell_type": "code",
   "execution_count": 79,
   "metadata": {
    "pycharm": {
     "name": "#%%\n"
    }
   },
   "outputs": [
    {
     "data": {
      "text/plain": "       身高  数学成绩\n编号             \n1101  173  34.0\n1102  192  32.5\n1103  186  87.2\n1104  167  80.4\n1105  159  84.8\n1201  188  97.0\n1202  176  63.5\n1203  160  58.8\n1204  162  33.8\n1205  167  68.4\n1301  161  31.5\n1302  175  87.7\n1303  188  49.7\n1304  195  85.2\n1305  187  61.7\n2101  174  83.3\n2102  161  50.6\n2103  157  52.5\n2104  159  72.2\n2105  170  34.2\n2201  193  39.1\n2202  194  68.5\n2203  155  73.8\n2204  175  47.2\n2205  183  85.4\n2301  157  72.3\n2302  171  32.7\n2303  190  65.9\n2304  164  95.5\n2305  187  48.9\n2401  192  45.3\n2402  166  48.7\n2403  158  59.7\n2404  160  97.0\n2405  193 -47.6",
      "text/html": "<div>\n<style scoped>\n    .dataframe tbody tr th:only-of-type {\n        vertical-align: middle;\n    }\n\n    .dataframe tbody tr th {\n        vertical-align: top;\n    }\n\n    .dataframe thead th {\n        text-align: right;\n    }\n</style>\n<table border=\"1\" class=\"dataframe\">\n  <thead>\n    <tr style=\"text-align: right;\">\n      <th></th>\n      <th>身高</th>\n      <th>数学成绩</th>\n    </tr>\n    <tr>\n      <th>编号</th>\n      <th></th>\n      <th></th>\n    </tr>\n  </thead>\n  <tbody>\n    <tr>\n      <th>1101</th>\n      <td>173</td>\n      <td>34.0</td>\n    </tr>\n    <tr>\n      <th>1102</th>\n      <td>192</td>\n      <td>32.5</td>\n    </tr>\n    <tr>\n      <th>1103</th>\n      <td>186</td>\n      <td>87.2</td>\n    </tr>\n    <tr>\n      <th>1104</th>\n      <td>167</td>\n      <td>80.4</td>\n    </tr>\n    <tr>\n      <th>1105</th>\n      <td>159</td>\n      <td>84.8</td>\n    </tr>\n    <tr>\n      <th>1201</th>\n      <td>188</td>\n      <td>97.0</td>\n    </tr>\n    <tr>\n      <th>1202</th>\n      <td>176</td>\n      <td>63.5</td>\n    </tr>\n    <tr>\n      <th>1203</th>\n      <td>160</td>\n      <td>58.8</td>\n    </tr>\n    <tr>\n      <th>1204</th>\n      <td>162</td>\n      <td>33.8</td>\n    </tr>\n    <tr>\n      <th>1205</th>\n      <td>167</td>\n      <td>68.4</td>\n    </tr>\n    <tr>\n      <th>1301</th>\n      <td>161</td>\n      <td>31.5</td>\n    </tr>\n    <tr>\n      <th>1302</th>\n      <td>175</td>\n      <td>87.7</td>\n    </tr>\n    <tr>\n      <th>1303</th>\n      <td>188</td>\n      <td>49.7</td>\n    </tr>\n    <tr>\n      <th>1304</th>\n      <td>195</td>\n      <td>85.2</td>\n    </tr>\n    <tr>\n      <th>1305</th>\n      <td>187</td>\n      <td>61.7</td>\n    </tr>\n    <tr>\n      <th>2101</th>\n      <td>174</td>\n      <td>83.3</td>\n    </tr>\n    <tr>\n      <th>2102</th>\n      <td>161</td>\n      <td>50.6</td>\n    </tr>\n    <tr>\n      <th>2103</th>\n      <td>157</td>\n      <td>52.5</td>\n    </tr>\n    <tr>\n      <th>2104</th>\n      <td>159</td>\n      <td>72.2</td>\n    </tr>\n    <tr>\n      <th>2105</th>\n      <td>170</td>\n      <td>34.2</td>\n    </tr>\n    <tr>\n      <th>2201</th>\n      <td>193</td>\n      <td>39.1</td>\n    </tr>\n    <tr>\n      <th>2202</th>\n      <td>194</td>\n      <td>68.5</td>\n    </tr>\n    <tr>\n      <th>2203</th>\n      <td>155</td>\n      <td>73.8</td>\n    </tr>\n    <tr>\n      <th>2204</th>\n      <td>175</td>\n      <td>47.2</td>\n    </tr>\n    <tr>\n      <th>2205</th>\n      <td>183</td>\n      <td>85.4</td>\n    </tr>\n    <tr>\n      <th>2301</th>\n      <td>157</td>\n      <td>72.3</td>\n    </tr>\n    <tr>\n      <th>2302</th>\n      <td>171</td>\n      <td>32.7</td>\n    </tr>\n    <tr>\n      <th>2303</th>\n      <td>190</td>\n      <td>65.9</td>\n    </tr>\n    <tr>\n      <th>2304</th>\n      <td>164</td>\n      <td>95.5</td>\n    </tr>\n    <tr>\n      <th>2305</th>\n      <td>187</td>\n      <td>48.9</td>\n    </tr>\n    <tr>\n      <th>2401</th>\n      <td>192</td>\n      <td>45.3</td>\n    </tr>\n    <tr>\n      <th>2402</th>\n      <td>166</td>\n      <td>48.7</td>\n    </tr>\n    <tr>\n      <th>2403</th>\n      <td>158</td>\n      <td>59.7</td>\n    </tr>\n    <tr>\n      <th>2404</th>\n      <td>160</td>\n      <td>97.0</td>\n    </tr>\n    <tr>\n      <th>2405</th>\n      <td>193</td>\n      <td>-47.6</td>\n    </tr>\n  </tbody>\n</table>\n</div>"
     },
     "execution_count": 79,
     "metadata": {},
     "output_type": "execute_result"
    }
   ],
   "source": [
    "# 查看身高、数学成绩这两列的数据\n",
    "df.loc[:,['身高','数学成绩']]"
   ]
  },
  {
   "cell_type": "code",
   "execution_count": 80,
   "metadata": {
    "pycharm": {
     "name": "#%%\n"
    }
   },
   "outputs": [
    {
     "data": {
      "text/plain": "       身高   体重  数学成绩\n编号                  \n1101  173   63  34.0\n1102  192   73  32.5\n1103  186   82  87.2\n1104  167   81  80.4\n1105  159   64  84.8\n1201  188   68  97.0\n1202  176   94  63.5\n1203  160   53  58.8\n1204  162   63  33.8\n1205  167   63  68.4\n1301  161   68  31.5\n1302  175   57  87.7\n1303  188   82  49.7\n1304  195   70  85.2\n1305  187   69  61.7\n2101  174   84  83.3\n2102  161   61  50.6\n2103  157   61  52.5\n2104  159   97  72.2\n2105  170   81  34.2\n2201  193  100  39.1\n2202  194   77  68.5\n2203  155   91  73.8\n2204  175   74  47.2\n2205  183   76  85.4\n2301  157   78  72.3\n2302  171   88  32.7\n2303  190   99  65.9\n2304  164   81  95.5\n2305  187   73  48.9\n2401  192   62  45.3\n2402  166   82  48.7\n2403  158   60  59.7\n2404  160   84  97.0\n2405  193   54 -47.6",
      "text/html": "<div>\n<style scoped>\n    .dataframe tbody tr th:only-of-type {\n        vertical-align: middle;\n    }\n\n    .dataframe tbody tr th {\n        vertical-align: top;\n    }\n\n    .dataframe thead th {\n        text-align: right;\n    }\n</style>\n<table border=\"1\" class=\"dataframe\">\n  <thead>\n    <tr style=\"text-align: right;\">\n      <th></th>\n      <th>身高</th>\n      <th>体重</th>\n      <th>数学成绩</th>\n    </tr>\n    <tr>\n      <th>编号</th>\n      <th></th>\n      <th></th>\n      <th></th>\n    </tr>\n  </thead>\n  <tbody>\n    <tr>\n      <th>1101</th>\n      <td>173</td>\n      <td>63</td>\n      <td>34.0</td>\n    </tr>\n    <tr>\n      <th>1102</th>\n      <td>192</td>\n      <td>73</td>\n      <td>32.5</td>\n    </tr>\n    <tr>\n      <th>1103</th>\n      <td>186</td>\n      <td>82</td>\n      <td>87.2</td>\n    </tr>\n    <tr>\n      <th>1104</th>\n      <td>167</td>\n      <td>81</td>\n      <td>80.4</td>\n    </tr>\n    <tr>\n      <th>1105</th>\n      <td>159</td>\n      <td>64</td>\n      <td>84.8</td>\n    </tr>\n    <tr>\n      <th>1201</th>\n      <td>188</td>\n      <td>68</td>\n      <td>97.0</td>\n    </tr>\n    <tr>\n      <th>1202</th>\n      <td>176</td>\n      <td>94</td>\n      <td>63.5</td>\n    </tr>\n    <tr>\n      <th>1203</th>\n      <td>160</td>\n      <td>53</td>\n      <td>58.8</td>\n    </tr>\n    <tr>\n      <th>1204</th>\n      <td>162</td>\n      <td>63</td>\n      <td>33.8</td>\n    </tr>\n    <tr>\n      <th>1205</th>\n      <td>167</td>\n      <td>63</td>\n      <td>68.4</td>\n    </tr>\n    <tr>\n      <th>1301</th>\n      <td>161</td>\n      <td>68</td>\n      <td>31.5</td>\n    </tr>\n    <tr>\n      <th>1302</th>\n      <td>175</td>\n      <td>57</td>\n      <td>87.7</td>\n    </tr>\n    <tr>\n      <th>1303</th>\n      <td>188</td>\n      <td>82</td>\n      <td>49.7</td>\n    </tr>\n    <tr>\n      <th>1304</th>\n      <td>195</td>\n      <td>70</td>\n      <td>85.2</td>\n    </tr>\n    <tr>\n      <th>1305</th>\n      <td>187</td>\n      <td>69</td>\n      <td>61.7</td>\n    </tr>\n    <tr>\n      <th>2101</th>\n      <td>174</td>\n      <td>84</td>\n      <td>83.3</td>\n    </tr>\n    <tr>\n      <th>2102</th>\n      <td>161</td>\n      <td>61</td>\n      <td>50.6</td>\n    </tr>\n    <tr>\n      <th>2103</th>\n      <td>157</td>\n      <td>61</td>\n      <td>52.5</td>\n    </tr>\n    <tr>\n      <th>2104</th>\n      <td>159</td>\n      <td>97</td>\n      <td>72.2</td>\n    </tr>\n    <tr>\n      <th>2105</th>\n      <td>170</td>\n      <td>81</td>\n      <td>34.2</td>\n    </tr>\n    <tr>\n      <th>2201</th>\n      <td>193</td>\n      <td>100</td>\n      <td>39.1</td>\n    </tr>\n    <tr>\n      <th>2202</th>\n      <td>194</td>\n      <td>77</td>\n      <td>68.5</td>\n    </tr>\n    <tr>\n      <th>2203</th>\n      <td>155</td>\n      <td>91</td>\n      <td>73.8</td>\n    </tr>\n    <tr>\n      <th>2204</th>\n      <td>175</td>\n      <td>74</td>\n      <td>47.2</td>\n    </tr>\n    <tr>\n      <th>2205</th>\n      <td>183</td>\n      <td>76</td>\n      <td>85.4</td>\n    </tr>\n    <tr>\n      <th>2301</th>\n      <td>157</td>\n      <td>78</td>\n      <td>72.3</td>\n    </tr>\n    <tr>\n      <th>2302</th>\n      <td>171</td>\n      <td>88</td>\n      <td>32.7</td>\n    </tr>\n    <tr>\n      <th>2303</th>\n      <td>190</td>\n      <td>99</td>\n      <td>65.9</td>\n    </tr>\n    <tr>\n      <th>2304</th>\n      <td>164</td>\n      <td>81</td>\n      <td>95.5</td>\n    </tr>\n    <tr>\n      <th>2305</th>\n      <td>187</td>\n      <td>73</td>\n      <td>48.9</td>\n    </tr>\n    <tr>\n      <th>2401</th>\n      <td>192</td>\n      <td>62</td>\n      <td>45.3</td>\n    </tr>\n    <tr>\n      <th>2402</th>\n      <td>166</td>\n      <td>82</td>\n      <td>48.7</td>\n    </tr>\n    <tr>\n      <th>2403</th>\n      <td>158</td>\n      <td>60</td>\n      <td>59.7</td>\n    </tr>\n    <tr>\n      <th>2404</th>\n      <td>160</td>\n      <td>84</td>\n      <td>97.0</td>\n    </tr>\n    <tr>\n      <th>2405</th>\n      <td>193</td>\n      <td>54</td>\n      <td>-47.6</td>\n    </tr>\n  </tbody>\n</table>\n</div>"
     },
     "execution_count": 80,
     "metadata": {},
     "output_type": "execute_result"
    }
   ],
   "source": [
    "# 查看身高～数学成绩这几列的数据\n",
    "df.loc[:,'身高':'数学成绩']"
   ]
  },
  {
   "cell_type": "markdown",
   "metadata": {
    "pycharm": {
     "name": "#%% md\n"
    }
   },
   "source": [
    "#### ⑤ 联合索引："
   ]
  },
  {
   "cell_type": "code",
   "execution_count": 81,
   "metadata": {
    "pycharm": {
     "name": "#%%\n"
    }
   },
   "outputs": [
    {
     "data": {
      "text/plain": "       身高  体重  数学成绩\n编号                 \n1102  192  73  32.5\n1105  159  64  84.8\n1203  160  53  58.8\n1301  161  68  31.5\n1304  195  70  85.2\n2102  161  61  50.6\n2105  170  81  34.2\n2203  155  91  73.8\n2301  157  78  72.3\n2304  164  81  95.5",
      "text/html": "<div>\n<style scoped>\n    .dataframe tbody tr th:only-of-type {\n        vertical-align: middle;\n    }\n\n    .dataframe tbody tr th {\n        vertical-align: top;\n    }\n\n    .dataframe thead th {\n        text-align: right;\n    }\n</style>\n<table border=\"1\" class=\"dataframe\">\n  <thead>\n    <tr style=\"text-align: right;\">\n      <th></th>\n      <th>身高</th>\n      <th>体重</th>\n      <th>数学成绩</th>\n    </tr>\n    <tr>\n      <th>编号</th>\n      <th></th>\n      <th></th>\n      <th></th>\n    </tr>\n  </thead>\n  <tbody>\n    <tr>\n      <th>1102</th>\n      <td>192</td>\n      <td>73</td>\n      <td>32.5</td>\n    </tr>\n    <tr>\n      <th>1105</th>\n      <td>159</td>\n      <td>64</td>\n      <td>84.8</td>\n    </tr>\n    <tr>\n      <th>1203</th>\n      <td>160</td>\n      <td>53</td>\n      <td>58.8</td>\n    </tr>\n    <tr>\n      <th>1301</th>\n      <td>161</td>\n      <td>68</td>\n      <td>31.5</td>\n    </tr>\n    <tr>\n      <th>1304</th>\n      <td>195</td>\n      <td>70</td>\n      <td>85.2</td>\n    </tr>\n    <tr>\n      <th>2102</th>\n      <td>161</td>\n      <td>61</td>\n      <td>50.6</td>\n    </tr>\n    <tr>\n      <th>2105</th>\n      <td>170</td>\n      <td>81</td>\n      <td>34.2</td>\n    </tr>\n    <tr>\n      <th>2203</th>\n      <td>155</td>\n      <td>91</td>\n      <td>73.8</td>\n    </tr>\n    <tr>\n      <th>2301</th>\n      <td>157</td>\n      <td>78</td>\n      <td>72.3</td>\n    </tr>\n    <tr>\n      <th>2304</th>\n      <td>164</td>\n      <td>81</td>\n      <td>95.5</td>\n    </tr>\n  </tbody>\n</table>\n</div>"
     },
     "execution_count": 81,
     "metadata": {},
     "output_type": "execute_result"
    }
   ],
   "source": [
    "# 按照“三选一”的方式，查看1102～2401行、身高和数学成绩列的数据\n",
    "df.loc[1102:2401:3,'身高':'数学成绩']"
   ]
  },
  {
   "cell_type": "markdown",
   "metadata": {
    "pycharm": {
     "name": "#%% md\n"
    }
   },
   "source": [
    "#### ⑥ 函数式索引："
   ]
  },
  {
   "cell_type": "code",
   "execution_count": 82,
   "metadata": {
    "pycharm": {
     "name": "#%%\n"
    }
   },
   "outputs": [
    {
     "data": {
      "text/plain": "       学校   班级 性别        地址   身高  体重  数学成绩 物理成绩\n编号                                             \n1103  S_1  C_1  M  street_2  186  82  87.2   B-\n1201  S_1  C_2  M  street_5  188  68  97.0   A-\n1203  S_1  C_2  M  street_6  160  53  58.8   A+\n1301  S_1  C_3  M  street_4  161  68  31.5   B+\n1303  S_1  C_3  M  street_7  188  82  49.7    B",
      "text/html": "<div>\n<style scoped>\n    .dataframe tbody tr th:only-of-type {\n        vertical-align: middle;\n    }\n\n    .dataframe tbody tr th {\n        vertical-align: top;\n    }\n\n    .dataframe thead th {\n        text-align: right;\n    }\n</style>\n<table border=\"1\" class=\"dataframe\">\n  <thead>\n    <tr style=\"text-align: right;\">\n      <th></th>\n      <th>学校</th>\n      <th>班级</th>\n      <th>性别</th>\n      <th>地址</th>\n      <th>身高</th>\n      <th>体重</th>\n      <th>数学成绩</th>\n      <th>物理成绩</th>\n    </tr>\n    <tr>\n      <th>编号</th>\n      <th></th>\n      <th></th>\n      <th></th>\n      <th></th>\n      <th></th>\n      <th></th>\n      <th></th>\n      <th></th>\n    </tr>\n  </thead>\n  <tbody>\n    <tr>\n      <th>1103</th>\n      <td>S_1</td>\n      <td>C_1</td>\n      <td>M</td>\n      <td>street_2</td>\n      <td>186</td>\n      <td>82</td>\n      <td>87.2</td>\n      <td>B-</td>\n    </tr>\n    <tr>\n      <th>1201</th>\n      <td>S_1</td>\n      <td>C_2</td>\n      <td>M</td>\n      <td>street_5</td>\n      <td>188</td>\n      <td>68</td>\n      <td>97.0</td>\n      <td>A-</td>\n    </tr>\n    <tr>\n      <th>1203</th>\n      <td>S_1</td>\n      <td>C_2</td>\n      <td>M</td>\n      <td>street_6</td>\n      <td>160</td>\n      <td>53</td>\n      <td>58.8</td>\n      <td>A+</td>\n    </tr>\n    <tr>\n      <th>1301</th>\n      <td>S_1</td>\n      <td>C_3</td>\n      <td>M</td>\n      <td>street_4</td>\n      <td>161</td>\n      <td>68</td>\n      <td>31.5</td>\n      <td>B+</td>\n    </tr>\n    <tr>\n      <th>1303</th>\n      <td>S_1</td>\n      <td>C_3</td>\n      <td>M</td>\n      <td>street_7</td>\n      <td>188</td>\n      <td>82</td>\n      <td>49.7</td>\n      <td>B</td>\n    </tr>\n  </tbody>\n</table>\n</div>"
     },
     "execution_count": 82,
     "metadata": {},
     "output_type": "execute_result"
    }
   ],
   "source": [
    "# 选择性别为M的数据\n",
    "# 方法一：之前的方法\n",
    "df[df['性别']=='M'].head()\n",
    "# 方法二：函数式索引\n",
    "df.loc[lambda x:x['性别']=='M'].head()\n",
    "#loc中使用的函数，传入参数就是前面的df"
   ]
  },
  {
   "cell_type": "code",
   "execution_count": 83,
   "outputs": [
    {
     "data": {
      "text/plain": "       学校   班级        性别        地址   身高  体重  数学成绩 物理成绩\n编号                                                    \n1101  S_1  C_1  street_1  street_1  173  63  34.0   A+\n1103  S_1  C_1         M  street_2  186  82  87.2   B-",
      "text/html": "<div>\n<style scoped>\n    .dataframe tbody tr th:only-of-type {\n        vertical-align: middle;\n    }\n\n    .dataframe tbody tr th {\n        vertical-align: top;\n    }\n\n    .dataframe thead th {\n        text-align: right;\n    }\n</style>\n<table border=\"1\" class=\"dataframe\">\n  <thead>\n    <tr style=\"text-align: right;\">\n      <th></th>\n      <th>学校</th>\n      <th>班级</th>\n      <th>性别</th>\n      <th>地址</th>\n      <th>身高</th>\n      <th>体重</th>\n      <th>数学成绩</th>\n      <th>物理成绩</th>\n    </tr>\n    <tr>\n      <th>编号</th>\n      <th></th>\n      <th></th>\n      <th></th>\n      <th></th>\n      <th></th>\n      <th></th>\n      <th></th>\n      <th></th>\n    </tr>\n  </thead>\n  <tbody>\n    <tr>\n      <th>1101</th>\n      <td>S_1</td>\n      <td>C_1</td>\n      <td>street_1</td>\n      <td>street_1</td>\n      <td>173</td>\n      <td>63</td>\n      <td>34.0</td>\n      <td>A+</td>\n    </tr>\n    <tr>\n      <th>1103</th>\n      <td>S_1</td>\n      <td>C_1</td>\n      <td>M</td>\n      <td>street_2</td>\n      <td>186</td>\n      <td>82</td>\n      <td>87.2</td>\n      <td>B-</td>\n    </tr>\n  </tbody>\n</table>\n</div>"
     },
     "execution_count": 83,
     "metadata": {},
     "output_type": "execute_result"
    }
   ],
   "source": [
    "# 使用函数的方式，查看1101、1103的数据\n",
    "# 这里的例子表示，loc中能够传入函数，并且函数的输入值是df\n",
    "def f(x):\n",
    "    return [1101,1103]\n",
    "df.loc[f]"
   ],
   "metadata": {
    "collapsed": false,
    "pycharm": {
     "name": "#%%\n"
    }
   }
  },
  {
   "cell_type": "markdown",
   "metadata": {
    "pycharm": {
     "name": "#%% md\n"
    }
   },
   "source": [
    "#### ⑦ 布尔索引（将重点在第2节介绍）"
   ]
  },
  {
   "cell_type": "code",
   "execution_count": 84,
   "metadata": {
    "pycharm": {
     "name": "#%%\n"
    }
   },
   "outputs": [
    {
     "data": {
      "text/plain": "       学校   班级 性别        地址   身高  体重  数学成绩 物理成绩\n编号                                             \n1105  S_1  C_1  F  street_4  159  64  84.8   B+\n1202  S_1  C_2  F  street_4  176  94  63.5   B-\n1301  S_1  C_3  M  street_4  161  68  31.5   B+\n1303  S_1  C_3  M  street_7  188  82  49.7    B\n2101  S_2  C_1  M  street_7  174  84  83.3    C",
      "text/html": "<div>\n<style scoped>\n    .dataframe tbody tr th:only-of-type {\n        vertical-align: middle;\n    }\n\n    .dataframe tbody tr th {\n        vertical-align: top;\n    }\n\n    .dataframe thead th {\n        text-align: right;\n    }\n</style>\n<table border=\"1\" class=\"dataframe\">\n  <thead>\n    <tr style=\"text-align: right;\">\n      <th></th>\n      <th>学校</th>\n      <th>班级</th>\n      <th>性别</th>\n      <th>地址</th>\n      <th>身高</th>\n      <th>体重</th>\n      <th>数学成绩</th>\n      <th>物理成绩</th>\n    </tr>\n    <tr>\n      <th>编号</th>\n      <th></th>\n      <th></th>\n      <th></th>\n      <th></th>\n      <th></th>\n      <th></th>\n      <th></th>\n      <th></th>\n    </tr>\n  </thead>\n  <tbody>\n    <tr>\n      <th>1105</th>\n      <td>S_1</td>\n      <td>C_1</td>\n      <td>F</td>\n      <td>street_4</td>\n      <td>159</td>\n      <td>64</td>\n      <td>84.8</td>\n      <td>B+</td>\n    </tr>\n    <tr>\n      <th>1202</th>\n      <td>S_1</td>\n      <td>C_2</td>\n      <td>F</td>\n      <td>street_4</td>\n      <td>176</td>\n      <td>94</td>\n      <td>63.5</td>\n      <td>B-</td>\n    </tr>\n    <tr>\n      <th>1301</th>\n      <td>S_1</td>\n      <td>C_3</td>\n      <td>M</td>\n      <td>street_4</td>\n      <td>161</td>\n      <td>68</td>\n      <td>31.5</td>\n      <td>B+</td>\n    </tr>\n    <tr>\n      <th>1303</th>\n      <td>S_1</td>\n      <td>C_3</td>\n      <td>M</td>\n      <td>street_7</td>\n      <td>188</td>\n      <td>82</td>\n      <td>49.7</td>\n      <td>B</td>\n    </tr>\n    <tr>\n      <th>2101</th>\n      <td>S_2</td>\n      <td>C_1</td>\n      <td>M</td>\n      <td>street_7</td>\n      <td>174</td>\n      <td>84</td>\n      <td>83.3</td>\n      <td>C</td>\n    </tr>\n  </tbody>\n</table>\n</div>"
     },
     "execution_count": 84,
     "metadata": {},
     "output_type": "execute_result"
    }
   ],
   "source": [
    "# 查看“地址”是street_7或street_4的数据\n",
    "df.loc[df['地址'].isin(['street_7','street_4'])].head()"
   ]
  },
  {
   "cell_type": "markdown",
   "metadata": {
    "pycharm": {
     "name": "#%% md\n"
    }
   },
   "source": [
    "#### （b）iloc方法（注意与loc不同，切片右端点不包含）\n",
    "#### ① 单行索引："
   ]
  },
  {
   "cell_type": "code",
   "execution_count": 85,
   "metadata": {
    "pycharm": {
     "name": "#%%\n"
    }
   },
   "outputs": [
    {
     "data": {
      "text/plain": "       学校   班级        性别        地址   身高   体重  数学成绩 物理成绩\n编号                                                     \n1101  S_1  C_1  street_1  street_1  173   63  34.0   A+\n1102  S_1  C_1         F  street_2  192   73  32.5   B+\n1103  S_1  C_1         M  street_2  186   82  87.2   B-\n1104  S_1  C_1         F  street_2  167   81  80.4   B+\n1105  S_1  C_1         F  street_4  159   64  84.8   B+\n1201  S_1  C_2         M  street_5  188   68  97.0   A-\n1202  S_1  C_2         F  street_4  176   94  63.5   B-\n1203  S_1  C_2         M  street_6  160   53  58.8   A+\n1204  S_1  C_2         F  street_5  162   63  33.8    B\n1205  S_1  C_2         F  street_6  167   63  68.4   B-\n1301  S_1  C_3         M  street_4  161   68  31.5   B+\n1302  S_1  C_3         F  street_1  175   57  87.7   A-\n1303  S_1  C_3         M  street_7  188   82  49.7    B\n1304  S_1  C_3         M  street_2  195   70  85.2    A\n1305  S_1  C_3         F  street_5  187   69  61.7   B-\n2101  S_2  C_1         M  street_7  174   84  83.3    C\n2102  S_2  C_1         F  street_6  161   61  50.6   B+\n2103  S_2  C_1         M  street_4  157   61  52.5   B-\n2104  S_2  C_1         F  street_5  159   97  72.2   B+\n2105  S_2  C_1         M  street_4  170   81  34.2    A\n2201  S_2  C_2         M  street_5  193  100  39.1    B\n2202  S_2  C_2         F  street_7  194   77  68.5   B+\n2203  S_2  C_2         M  street_4  155   91  73.8   A+\n2204  S_2  C_2         M  street_1  175   74  47.2   B-\n2205  S_2  C_2         F  street_7  183   76  85.4    B\n2301  S_2  C_3         F  street_4  157   78  72.3   B+\n2302  S_2  C_3         M  street_5  171   88  32.7    A\n2303  S_2  C_3         F  street_7  190   99  65.9    C\n2304  S_2  C_3         F  street_6  164   81  95.5   A-\n2305  S_2  C_3         M  street_4  187   73  48.9    B\n2401  S_2  C_4         F       NaN  192   62  45.3    A\n2402  S_2  C_4         M  street_7  166   82  48.7    B\n2403  S_2  C_4         F  street_6  158   60  59.7   B+\n2404  S_2  C_4         F  street_2  160   84  97.0    B\n2405  S_2  C_4         F       NaN  193   54 -47.6    B",
      "text/html": "<div>\n<style scoped>\n    .dataframe tbody tr th:only-of-type {\n        vertical-align: middle;\n    }\n\n    .dataframe tbody tr th {\n        vertical-align: top;\n    }\n\n    .dataframe thead th {\n        text-align: right;\n    }\n</style>\n<table border=\"1\" class=\"dataframe\">\n  <thead>\n    <tr style=\"text-align: right;\">\n      <th></th>\n      <th>学校</th>\n      <th>班级</th>\n      <th>性别</th>\n      <th>地址</th>\n      <th>身高</th>\n      <th>体重</th>\n      <th>数学成绩</th>\n      <th>物理成绩</th>\n    </tr>\n    <tr>\n      <th>编号</th>\n      <th></th>\n      <th></th>\n      <th></th>\n      <th></th>\n      <th></th>\n      <th></th>\n      <th></th>\n      <th></th>\n    </tr>\n  </thead>\n  <tbody>\n    <tr>\n      <th>1101</th>\n      <td>S_1</td>\n      <td>C_1</td>\n      <td>street_1</td>\n      <td>street_1</td>\n      <td>173</td>\n      <td>63</td>\n      <td>34.0</td>\n      <td>A+</td>\n    </tr>\n    <tr>\n      <th>1102</th>\n      <td>S_1</td>\n      <td>C_1</td>\n      <td>F</td>\n      <td>street_2</td>\n      <td>192</td>\n      <td>73</td>\n      <td>32.5</td>\n      <td>B+</td>\n    </tr>\n    <tr>\n      <th>1103</th>\n      <td>S_1</td>\n      <td>C_1</td>\n      <td>M</td>\n      <td>street_2</td>\n      <td>186</td>\n      <td>82</td>\n      <td>87.2</td>\n      <td>B-</td>\n    </tr>\n    <tr>\n      <th>1104</th>\n      <td>S_1</td>\n      <td>C_1</td>\n      <td>F</td>\n      <td>street_2</td>\n      <td>167</td>\n      <td>81</td>\n      <td>80.4</td>\n      <td>B+</td>\n    </tr>\n    <tr>\n      <th>1105</th>\n      <td>S_1</td>\n      <td>C_1</td>\n      <td>F</td>\n      <td>street_4</td>\n      <td>159</td>\n      <td>64</td>\n      <td>84.8</td>\n      <td>B+</td>\n    </tr>\n    <tr>\n      <th>1201</th>\n      <td>S_1</td>\n      <td>C_2</td>\n      <td>M</td>\n      <td>street_5</td>\n      <td>188</td>\n      <td>68</td>\n      <td>97.0</td>\n      <td>A-</td>\n    </tr>\n    <tr>\n      <th>1202</th>\n      <td>S_1</td>\n      <td>C_2</td>\n      <td>F</td>\n      <td>street_4</td>\n      <td>176</td>\n      <td>94</td>\n      <td>63.5</td>\n      <td>B-</td>\n    </tr>\n    <tr>\n      <th>1203</th>\n      <td>S_1</td>\n      <td>C_2</td>\n      <td>M</td>\n      <td>street_6</td>\n      <td>160</td>\n      <td>53</td>\n      <td>58.8</td>\n      <td>A+</td>\n    </tr>\n    <tr>\n      <th>1204</th>\n      <td>S_1</td>\n      <td>C_2</td>\n      <td>F</td>\n      <td>street_5</td>\n      <td>162</td>\n      <td>63</td>\n      <td>33.8</td>\n      <td>B</td>\n    </tr>\n    <tr>\n      <th>1205</th>\n      <td>S_1</td>\n      <td>C_2</td>\n      <td>F</td>\n      <td>street_6</td>\n      <td>167</td>\n      <td>63</td>\n      <td>68.4</td>\n      <td>B-</td>\n    </tr>\n    <tr>\n      <th>1301</th>\n      <td>S_1</td>\n      <td>C_3</td>\n      <td>M</td>\n      <td>street_4</td>\n      <td>161</td>\n      <td>68</td>\n      <td>31.5</td>\n      <td>B+</td>\n    </tr>\n    <tr>\n      <th>1302</th>\n      <td>S_1</td>\n      <td>C_3</td>\n      <td>F</td>\n      <td>street_1</td>\n      <td>175</td>\n      <td>57</td>\n      <td>87.7</td>\n      <td>A-</td>\n    </tr>\n    <tr>\n      <th>1303</th>\n      <td>S_1</td>\n      <td>C_3</td>\n      <td>M</td>\n      <td>street_7</td>\n      <td>188</td>\n      <td>82</td>\n      <td>49.7</td>\n      <td>B</td>\n    </tr>\n    <tr>\n      <th>1304</th>\n      <td>S_1</td>\n      <td>C_3</td>\n      <td>M</td>\n      <td>street_2</td>\n      <td>195</td>\n      <td>70</td>\n      <td>85.2</td>\n      <td>A</td>\n    </tr>\n    <tr>\n      <th>1305</th>\n      <td>S_1</td>\n      <td>C_3</td>\n      <td>F</td>\n      <td>street_5</td>\n      <td>187</td>\n      <td>69</td>\n      <td>61.7</td>\n      <td>B-</td>\n    </tr>\n    <tr>\n      <th>2101</th>\n      <td>S_2</td>\n      <td>C_1</td>\n      <td>M</td>\n      <td>street_7</td>\n      <td>174</td>\n      <td>84</td>\n      <td>83.3</td>\n      <td>C</td>\n    </tr>\n    <tr>\n      <th>2102</th>\n      <td>S_2</td>\n      <td>C_1</td>\n      <td>F</td>\n      <td>street_6</td>\n      <td>161</td>\n      <td>61</td>\n      <td>50.6</td>\n      <td>B+</td>\n    </tr>\n    <tr>\n      <th>2103</th>\n      <td>S_2</td>\n      <td>C_1</td>\n      <td>M</td>\n      <td>street_4</td>\n      <td>157</td>\n      <td>61</td>\n      <td>52.5</td>\n      <td>B-</td>\n    </tr>\n    <tr>\n      <th>2104</th>\n      <td>S_2</td>\n      <td>C_1</td>\n      <td>F</td>\n      <td>street_5</td>\n      <td>159</td>\n      <td>97</td>\n      <td>72.2</td>\n      <td>B+</td>\n    </tr>\n    <tr>\n      <th>2105</th>\n      <td>S_2</td>\n      <td>C_1</td>\n      <td>M</td>\n      <td>street_4</td>\n      <td>170</td>\n      <td>81</td>\n      <td>34.2</td>\n      <td>A</td>\n    </tr>\n    <tr>\n      <th>2201</th>\n      <td>S_2</td>\n      <td>C_2</td>\n      <td>M</td>\n      <td>street_5</td>\n      <td>193</td>\n      <td>100</td>\n      <td>39.1</td>\n      <td>B</td>\n    </tr>\n    <tr>\n      <th>2202</th>\n      <td>S_2</td>\n      <td>C_2</td>\n      <td>F</td>\n      <td>street_7</td>\n      <td>194</td>\n      <td>77</td>\n      <td>68.5</td>\n      <td>B+</td>\n    </tr>\n    <tr>\n      <th>2203</th>\n      <td>S_2</td>\n      <td>C_2</td>\n      <td>M</td>\n      <td>street_4</td>\n      <td>155</td>\n      <td>91</td>\n      <td>73.8</td>\n      <td>A+</td>\n    </tr>\n    <tr>\n      <th>2204</th>\n      <td>S_2</td>\n      <td>C_2</td>\n      <td>M</td>\n      <td>street_1</td>\n      <td>175</td>\n      <td>74</td>\n      <td>47.2</td>\n      <td>B-</td>\n    </tr>\n    <tr>\n      <th>2205</th>\n      <td>S_2</td>\n      <td>C_2</td>\n      <td>F</td>\n      <td>street_7</td>\n      <td>183</td>\n      <td>76</td>\n      <td>85.4</td>\n      <td>B</td>\n    </tr>\n    <tr>\n      <th>2301</th>\n      <td>S_2</td>\n      <td>C_3</td>\n      <td>F</td>\n      <td>street_4</td>\n      <td>157</td>\n      <td>78</td>\n      <td>72.3</td>\n      <td>B+</td>\n    </tr>\n    <tr>\n      <th>2302</th>\n      <td>S_2</td>\n      <td>C_3</td>\n      <td>M</td>\n      <td>street_5</td>\n      <td>171</td>\n      <td>88</td>\n      <td>32.7</td>\n      <td>A</td>\n    </tr>\n    <tr>\n      <th>2303</th>\n      <td>S_2</td>\n      <td>C_3</td>\n      <td>F</td>\n      <td>street_7</td>\n      <td>190</td>\n      <td>99</td>\n      <td>65.9</td>\n      <td>C</td>\n    </tr>\n    <tr>\n      <th>2304</th>\n      <td>S_2</td>\n      <td>C_3</td>\n      <td>F</td>\n      <td>street_6</td>\n      <td>164</td>\n      <td>81</td>\n      <td>95.5</td>\n      <td>A-</td>\n    </tr>\n    <tr>\n      <th>2305</th>\n      <td>S_2</td>\n      <td>C_3</td>\n      <td>M</td>\n      <td>street_4</td>\n      <td>187</td>\n      <td>73</td>\n      <td>48.9</td>\n      <td>B</td>\n    </tr>\n    <tr>\n      <th>2401</th>\n      <td>S_2</td>\n      <td>C_4</td>\n      <td>F</td>\n      <td>NaN</td>\n      <td>192</td>\n      <td>62</td>\n      <td>45.3</td>\n      <td>A</td>\n    </tr>\n    <tr>\n      <th>2402</th>\n      <td>S_2</td>\n      <td>C_4</td>\n      <td>M</td>\n      <td>street_7</td>\n      <td>166</td>\n      <td>82</td>\n      <td>48.7</td>\n      <td>B</td>\n    </tr>\n    <tr>\n      <th>2403</th>\n      <td>S_2</td>\n      <td>C_4</td>\n      <td>F</td>\n      <td>street_6</td>\n      <td>158</td>\n      <td>60</td>\n      <td>59.7</td>\n      <td>B+</td>\n    </tr>\n    <tr>\n      <th>2404</th>\n      <td>S_2</td>\n      <td>C_4</td>\n      <td>F</td>\n      <td>street_2</td>\n      <td>160</td>\n      <td>84</td>\n      <td>97.0</td>\n      <td>B</td>\n    </tr>\n    <tr>\n      <th>2405</th>\n      <td>S_2</td>\n      <td>C_4</td>\n      <td>F</td>\n      <td>NaN</td>\n      <td>193</td>\n      <td>54</td>\n      <td>-47.6</td>\n      <td>B</td>\n    </tr>\n  </tbody>\n</table>\n</div>"
     },
     "execution_count": 85,
     "metadata": {},
     "output_type": "execute_result"
    }
   ],
   "source": [
    "df"
   ]
  },
  {
   "cell_type": "code",
   "execution_count": 86,
   "metadata": {
    "pycharm": {
     "name": "#%%\n"
    }
   },
   "outputs": [
    {
     "data": {
      "text/plain": "学校           S_1\n班级           C_1\n性别             F\n地址      street_2\n身高           167\n体重            81\n数学成绩        80.4\n物理成绩          B+\nName: 1104, dtype: object"
     },
     "execution_count": 86,
     "metadata": {},
     "output_type": "execute_result"
    }
   ],
   "source": [
    "# 查看第3行的数据（从第0行开始）\n",
    "df.iloc[3]"
   ]
  },
  {
   "cell_type": "markdown",
   "metadata": {
    "pycharm": {
     "name": "#%% md\n"
    }
   },
   "source": [
    "#### ② 多行索引："
   ]
  },
  {
   "cell_type": "code",
   "execution_count": 87,
   "metadata": {
    "pycharm": {
     "name": "#%%\n"
    }
   },
   "outputs": [
    {
     "data": {
      "text/plain": "       学校   班级 性别        地址   身高  体重  数学成绩 物理成绩\n编号                                             \n1104  S_1  C_1  F  street_2  167  81  80.4   B+\n1105  S_1  C_1  F  street_4  159  64  84.8   B+",
      "text/html": "<div>\n<style scoped>\n    .dataframe tbody tr th:only-of-type {\n        vertical-align: middle;\n    }\n\n    .dataframe tbody tr th {\n        vertical-align: top;\n    }\n\n    .dataframe thead th {\n        text-align: right;\n    }\n</style>\n<table border=\"1\" class=\"dataframe\">\n  <thead>\n    <tr style=\"text-align: right;\">\n      <th></th>\n      <th>学校</th>\n      <th>班级</th>\n      <th>性别</th>\n      <th>地址</th>\n      <th>身高</th>\n      <th>体重</th>\n      <th>数学成绩</th>\n      <th>物理成绩</th>\n    </tr>\n    <tr>\n      <th>编号</th>\n      <th></th>\n      <th></th>\n      <th></th>\n      <th></th>\n      <th></th>\n      <th></th>\n      <th></th>\n      <th></th>\n    </tr>\n  </thead>\n  <tbody>\n    <tr>\n      <th>1104</th>\n      <td>S_1</td>\n      <td>C_1</td>\n      <td>F</td>\n      <td>street_2</td>\n      <td>167</td>\n      <td>81</td>\n      <td>80.4</td>\n      <td>B+</td>\n    </tr>\n    <tr>\n      <th>1105</th>\n      <td>S_1</td>\n      <td>C_1</td>\n      <td>F</td>\n      <td>street_4</td>\n      <td>159</td>\n      <td>64</td>\n      <td>84.8</td>\n      <td>B+</td>\n    </tr>\n  </tbody>\n</table>\n</div>"
     },
     "execution_count": 87,
     "metadata": {},
     "output_type": "execute_result"
    }
   ],
   "source": [
    "# 查看第3～5行的数据\n",
    "df.iloc[3:5]"
   ]
  },
  {
   "cell_type": "markdown",
   "metadata": {
    "pycharm": {
     "name": "#%% md\n"
    }
   },
   "source": [
    "#### ③ 单列索引："
   ]
  },
  {
   "cell_type": "code",
   "execution_count": 88,
   "metadata": {
    "pycharm": {
     "name": "#%%\n"
    }
   },
   "outputs": [
    {
     "data": {
      "text/plain": "编号\n1101    street_1\n1102    street_2\n1103    street_2\n1104    street_2\n1105    street_4\nName: 地址, dtype: object"
     },
     "execution_count": 88,
     "metadata": {},
     "output_type": "execute_result"
    }
   ],
   "source": [
    "df.iloc[:,3].head()"
   ]
  },
  {
   "cell_type": "markdown",
   "metadata": {
    "pycharm": {
     "name": "#%% md\n"
    }
   },
   "source": [
    "#### ④ 多列索引："
   ]
  },
  {
   "cell_type": "code",
   "execution_count": 89,
   "metadata": {
    "pycharm": {
     "name": "#%%\n"
    }
   },
   "outputs": [
    {
     "data": {
      "text/plain": "      数学成绩  体重   身高        地址        性别   班级   学校\n编号                                               \n1101  34.0  63  173  street_1  street_1  C_1  S_1\n1102  32.5  73  192  street_2         F  C_1  S_1\n1103  87.2  82  186  street_2         M  C_1  S_1\n1104  80.4  81  167  street_2         F  C_1  S_1\n1105  84.8  64  159  street_4         F  C_1  S_1",
      "text/html": "<div>\n<style scoped>\n    .dataframe tbody tr th:only-of-type {\n        vertical-align: middle;\n    }\n\n    .dataframe tbody tr th {\n        vertical-align: top;\n    }\n\n    .dataframe thead th {\n        text-align: right;\n    }\n</style>\n<table border=\"1\" class=\"dataframe\">\n  <thead>\n    <tr style=\"text-align: right;\">\n      <th></th>\n      <th>数学成绩</th>\n      <th>体重</th>\n      <th>身高</th>\n      <th>地址</th>\n      <th>性别</th>\n      <th>班级</th>\n      <th>学校</th>\n    </tr>\n    <tr>\n      <th>编号</th>\n      <th></th>\n      <th></th>\n      <th></th>\n      <th></th>\n      <th></th>\n      <th></th>\n      <th></th>\n    </tr>\n  </thead>\n  <tbody>\n    <tr>\n      <th>1101</th>\n      <td>34.0</td>\n      <td>63</td>\n      <td>173</td>\n      <td>street_1</td>\n      <td>street_1</td>\n      <td>C_1</td>\n      <td>S_1</td>\n    </tr>\n    <tr>\n      <th>1102</th>\n      <td>32.5</td>\n      <td>73</td>\n      <td>192</td>\n      <td>street_2</td>\n      <td>F</td>\n      <td>C_1</td>\n      <td>S_1</td>\n    </tr>\n    <tr>\n      <th>1103</th>\n      <td>87.2</td>\n      <td>82</td>\n      <td>186</td>\n      <td>street_2</td>\n      <td>M</td>\n      <td>C_1</td>\n      <td>S_1</td>\n    </tr>\n    <tr>\n      <th>1104</th>\n      <td>80.4</td>\n      <td>81</td>\n      <td>167</td>\n      <td>street_2</td>\n      <td>F</td>\n      <td>C_1</td>\n      <td>S_1</td>\n    </tr>\n    <tr>\n      <th>1105</th>\n      <td>84.8</td>\n      <td>64</td>\n      <td>159</td>\n      <td>street_4</td>\n      <td>F</td>\n      <td>C_1</td>\n      <td>S_1</td>\n    </tr>\n  </tbody>\n</table>\n</div>"
     },
     "execution_count": 89,
     "metadata": {},
     "output_type": "execute_result"
    }
   ],
   "source": [
    "df.iloc[:,7::-2].head()\n",
    "df.iloc[:,6::-3].head()\n",
    "df.iloc[:,6::-1].head()"
   ]
  },
  {
   "cell_type": "markdown",
   "metadata": {
    "pycharm": {
     "name": "#%% md\n"
    }
   },
   "source": [
    "#### ⑤ 混合索引："
   ]
  },
  {
   "cell_type": "code",
   "execution_count": 90,
   "metadata": {
    "pycharm": {
     "name": "#%%\n"
    }
   },
   "outputs": [
    {
     "data": {
      "text/plain": "     物理成绩  体重        地址   班级\n编号                          \n1104   B+  81  street_2  C_1\n1203   A+  53  street_6  C_2\n1302   A-  57  street_1  C_3\n2101    C  84  street_7  C_1\n2105    A  81  street_4  C_1",
      "text/html": "<div>\n<style scoped>\n    .dataframe tbody tr th:only-of-type {\n        vertical-align: middle;\n    }\n\n    .dataframe tbody tr th {\n        vertical-align: top;\n    }\n\n    .dataframe thead th {\n        text-align: right;\n    }\n</style>\n<table border=\"1\" class=\"dataframe\">\n  <thead>\n    <tr style=\"text-align: right;\">\n      <th></th>\n      <th>物理成绩</th>\n      <th>体重</th>\n      <th>地址</th>\n      <th>班级</th>\n    </tr>\n    <tr>\n      <th>编号</th>\n      <th></th>\n      <th></th>\n      <th></th>\n      <th></th>\n    </tr>\n  </thead>\n  <tbody>\n    <tr>\n      <th>1104</th>\n      <td>B+</td>\n      <td>81</td>\n      <td>street_2</td>\n      <td>C_1</td>\n    </tr>\n    <tr>\n      <th>1203</th>\n      <td>A+</td>\n      <td>53</td>\n      <td>street_6</td>\n      <td>C_2</td>\n    </tr>\n    <tr>\n      <th>1302</th>\n      <td>A-</td>\n      <td>57</td>\n      <td>street_1</td>\n      <td>C_3</td>\n    </tr>\n    <tr>\n      <th>2101</th>\n      <td>C</td>\n      <td>84</td>\n      <td>street_7</td>\n      <td>C_1</td>\n    </tr>\n    <tr>\n      <th>2105</th>\n      <td>A</td>\n      <td>81</td>\n      <td>street_4</td>\n      <td>C_1</td>\n    </tr>\n  </tbody>\n</table>\n</div>"
     },
     "execution_count": 90,
     "metadata": {},
     "output_type": "execute_result"
    }
   ],
   "source": [
    "df.iloc[3::4,7::-2].head()"
   ]
  },
  {
   "cell_type": "markdown",
   "metadata": {
    "pycharm": {
     "name": "#%% md\n"
    }
   },
   "source": [
    "#### ⑥ 函数式索引："
   ]
  },
  {
   "cell_type": "code",
   "execution_count": 91,
   "metadata": {
    "pycharm": {
     "name": "#%%\n"
    }
   },
   "outputs": [
    {
     "data": {
      "text/plain": "       学校   班级 性别        地址   身高  体重  数学成绩 物理成绩\n编号                                             \n1104  S_1  C_1  F  street_2  167  81  80.4   B+",
      "text/html": "<div>\n<style scoped>\n    .dataframe tbody tr th:only-of-type {\n        vertical-align: middle;\n    }\n\n    .dataframe tbody tr th {\n        vertical-align: top;\n    }\n\n    .dataframe thead th {\n        text-align: right;\n    }\n</style>\n<table border=\"1\" class=\"dataframe\">\n  <thead>\n    <tr style=\"text-align: right;\">\n      <th></th>\n      <th>学校</th>\n      <th>班级</th>\n      <th>性别</th>\n      <th>地址</th>\n      <th>身高</th>\n      <th>体重</th>\n      <th>数学成绩</th>\n      <th>物理成绩</th>\n    </tr>\n    <tr>\n      <th>编号</th>\n      <th></th>\n      <th></th>\n      <th></th>\n      <th></th>\n      <th></th>\n      <th></th>\n      <th></th>\n      <th></th>\n    </tr>\n  </thead>\n  <tbody>\n    <tr>\n      <th>1104</th>\n      <td>S_1</td>\n      <td>C_1</td>\n      <td>F</td>\n      <td>street_2</td>\n      <td>167</td>\n      <td>81</td>\n      <td>80.4</td>\n      <td>B+</td>\n    </tr>\n  </tbody>\n</table>\n</div>"
     },
     "execution_count": 91,
     "metadata": {},
     "output_type": "execute_result"
    }
   ],
   "source": [
    "df.iloc[lambda x:[3]].head()\n",
    "# df.iloc[3]"
   ]
  },
  {
   "cell_type": "markdown",
   "metadata": {
    "pycharm": {
     "name": "#%% md\n"
    }
   },
   "source": [
    "#### 小节：iloc中接收的参数只能为整数或整数列表或布尔列表，不能使用布尔Series，如果要用就必须如下把values拿出来"
   ]
  },
  {
   "cell_type": "code",
   "execution_count": 92,
   "metadata": {
    "pycharm": {
     "name": "#%%\n"
    }
   },
   "outputs": [
    {
     "data": {
      "text/plain": "       学校   班级        性别        地址   身高  体重  数学成绩 物理成绩\n编号                                                    \n1101  S_1  C_1  street_1  street_1  173  63  34.0   A+\n1102  S_1  C_1         F  street_2  192  73  32.5   B+\n1103  S_1  C_1         M  street_2  186  82  87.2   B-\n1104  S_1  C_1         F  street_2  167  81  80.4   B+\n1105  S_1  C_1         F  street_4  159  64  84.8   B+",
      "text/html": "<div>\n<style scoped>\n    .dataframe tbody tr th:only-of-type {\n        vertical-align: middle;\n    }\n\n    .dataframe tbody tr th {\n        vertical-align: top;\n    }\n\n    .dataframe thead th {\n        text-align: right;\n    }\n</style>\n<table border=\"1\" class=\"dataframe\">\n  <thead>\n    <tr style=\"text-align: right;\">\n      <th></th>\n      <th>学校</th>\n      <th>班级</th>\n      <th>性别</th>\n      <th>地址</th>\n      <th>身高</th>\n      <th>体重</th>\n      <th>数学成绩</th>\n      <th>物理成绩</th>\n    </tr>\n    <tr>\n      <th>编号</th>\n      <th></th>\n      <th></th>\n      <th></th>\n      <th></th>\n      <th></th>\n      <th></th>\n      <th></th>\n      <th></th>\n    </tr>\n  </thead>\n  <tbody>\n    <tr>\n      <th>1101</th>\n      <td>S_1</td>\n      <td>C_1</td>\n      <td>street_1</td>\n      <td>street_1</td>\n      <td>173</td>\n      <td>63</td>\n      <td>34.0</td>\n      <td>A+</td>\n    </tr>\n    <tr>\n      <th>1102</th>\n      <td>S_1</td>\n      <td>C_1</td>\n      <td>F</td>\n      <td>street_2</td>\n      <td>192</td>\n      <td>73</td>\n      <td>32.5</td>\n      <td>B+</td>\n    </tr>\n    <tr>\n      <th>1103</th>\n      <td>S_1</td>\n      <td>C_1</td>\n      <td>M</td>\n      <td>street_2</td>\n      <td>186</td>\n      <td>82</td>\n      <td>87.2</td>\n      <td>B-</td>\n    </tr>\n    <tr>\n      <th>1104</th>\n      <td>S_1</td>\n      <td>C_1</td>\n      <td>F</td>\n      <td>street_2</td>\n      <td>167</td>\n      <td>81</td>\n      <td>80.4</td>\n      <td>B+</td>\n    </tr>\n    <tr>\n      <th>1105</th>\n      <td>S_1</td>\n      <td>C_1</td>\n      <td>F</td>\n      <td>street_4</td>\n      <td>159</td>\n      <td>64</td>\n      <td>84.8</td>\n      <td>B+</td>\n    </tr>\n  </tbody>\n</table>\n</div>"
     },
     "execution_count": 92,
     "metadata": {},
     "output_type": "execute_result"
    }
   ],
   "source": [
    "# df.iloc[df['学校']=='S_1'].head() #报错\n",
    "df.iloc[(df['学校']=='S_1').values].head()"
   ]
  },
  {
   "cell_type": "markdown",
   "metadata": {
    "pycharm": {
     "name": "#%% md\n"
    }
   },
   "source": [
    "#### （c） [ ]操作符\n",
    "#### （c.1）Series的[ ]操作\n",
    "#### ① 单元素索引："
   ]
  },
  {
   "cell_type": "code",
   "execution_count": 93,
   "metadata": {
    "pycharm": {
     "name": "#%%\n"
    }
   },
   "outputs": [
    {
     "data": {
      "text/plain": "(编号\n 1101    34.0\n 1102    32.5\n 1103    87.2\n 1104    80.4\n 1105    84.8\n Name: 数学成绩, dtype: float64,\n 87.2)"
     },
     "execution_count": 93,
     "metadata": {},
     "output_type": "execute_result"
    }
   ],
   "source": [
    "# \n",
    "s = pd.Series(df['数学成绩'],index=df.index)\n",
    "s.head(),s[1103]\n",
    "#使用的是索引标签"
   ]
  },
  {
   "cell_type": "markdown",
   "metadata": {
    "pycharm": {
     "name": "#%% md\n"
    }
   },
   "source": [
    "#### ② 多行索引："
   ]
  },
  {
   "cell_type": "code",
   "execution_count": 94,
   "metadata": {
    "pycharm": {
     "name": "#%%\n"
    }
   },
   "outputs": [
    {
     "data": {
      "text/plain": "编号\n1101    34.0\n1102    32.5\n1103    87.2\n1104    80.4\nName: 数学成绩, dtype: float64"
     },
     "execution_count": 94,
     "metadata": {},
     "output_type": "execute_result"
    }
   ],
   "source": [
    "s[0:4]\n",
    "#使用的是绝对位置的整数切片，与元素无关，这里容易混淆"
   ]
  },
  {
   "cell_type": "markdown",
   "metadata": {
    "pycharm": {
     "name": "#%% md\n"
    }
   },
   "source": [
    "#### ③ 函数式索引："
   ]
  },
  {
   "cell_type": "code",
   "execution_count": 95,
   "metadata": {
    "pycharm": {
     "name": "#%%\n"
    }
   },
   "outputs": [
    {
     "data": {
      "text/plain": "编号\n2102    50.6\n1301    31.5\n1105    84.8\nName: 数学成绩, dtype: float64"
     },
     "execution_count": 95,
     "metadata": {},
     "output_type": "execute_result"
    }
   ],
   "source": [
    "# \n",
    "s[lambda x: x.index[16::-6]]\n",
    "#注意使用lambda函数时，直接切片(如：s[lambda x: 16::-6])就报错，此时使用的不是绝对位置切片，而是元素切片，非常易错"
   ]
  },
  {
   "cell_type": "markdown",
   "metadata": {
    "pycharm": {
     "name": "#%% md\n"
    }
   },
   "source": [
    "#### ④ 布尔索引："
   ]
  },
  {
   "cell_type": "code",
   "execution_count": 96,
   "metadata": {
    "pycharm": {
     "name": "#%%\n"
    }
   },
   "outputs": [
    {
     "data": {
      "text/plain": "编号\n1103    87.2\n1104    80.4\n1105    84.8\n1201    97.0\n1302    87.7\n1304    85.2\n2101    83.3\n2205    85.4\n2304    95.5\n2404    97.0\nName: 数学成绩, dtype: float64"
     },
     "execution_count": 96,
     "metadata": {},
     "output_type": "execute_result"
    }
   ],
   "source": [
    "# 选大于80的数\n",
    "s[s>80]"
   ]
  },
  {
   "cell_type": "markdown",
   "metadata": {
    "pycharm": {
     "name": "#%% md\n"
    }
   },
   "source": [
    "#### 注意：如果索引是float类型，就不要用[ ]选择，因为此时不是按照位置选择，而是根据值的比较"
   ]
  },
  {
   "cell_type": "code",
   "execution_count": 132,
   "metadata": {
    "pycharm": {
     "name": "#%%\n"
    }
   },
   "outputs": [
    {
     "data": {
      "text/plain": "100    1\n300    2\n500    3\n600    4\ndtype: int64"
     },
     "execution_count": 132,
     "metadata": {},
     "output_type": "execute_result"
    }
   ],
   "source": [
    "s_int = pd.Series([1,2,3,4],index=[1,3,5,6])\n",
    "s_int"
   ]
  },
  {
   "cell_type": "code",
   "execution_count": 133,
   "metadata": {
    "pycharm": {
     "name": "#%%\n"
    }
   },
   "outputs": [
    {
     "data": {
      "text/plain": "300    2\n500    3\ndtype: int64"
     },
     "execution_count": 133,
     "metadata": {},
     "output_type": "execute_result"
    }
   ],
   "source": [
    "s_int[2:]"
   ]
  },
  {
   "cell_type": "code",
   "execution_count": 134,
   "metadata": {
    "pycharm": {
     "name": "#%%\n"
    }
   },
   "outputs": [
    {
     "data": {
      "text/plain": "1.0    1\n3.0    2\n5.0    3\n6.0    4\ndtype: int64"
     },
     "execution_count": 134,
     "metadata": {},
     "output_type": "execute_result"
    }
   ],
   "source": [
    "s_float = pd.Series([1,2,3,4],index=[1.,3.,5.,6.])\n",
    "s_float"
   ]
  },
  {
   "cell_type": "code",
   "execution_count": 101,
   "metadata": {
    "pycharm": {
     "name": "#%%\n"
    }
   },
   "outputs": [
    {
     "data": {
      "text/plain": "1.0    1\n3.0    2\n5.0    3\n6.0    4\ndtype: int64"
     },
     "execution_count": 101,
     "metadata": {},
     "output_type": "execute_result"
    }
   ],
   "source": [
    "#注意此时的start是在和索引比较大小，而不是按照位置选择数据\n",
    "s_float[1:]"
   ]
  },
  {
   "cell_type": "markdown",
   "metadata": {
    "pycharm": {
     "name": "#%% md\n"
    }
   },
   "source": [
    "#### （c.2）DataFrame的[ ]操作\n",
    "#### ① 单行索引："
   ]
  },
  {
   "cell_type": "code",
   "execution_count": 102,
   "metadata": {
    "pycharm": {
     "name": "#%%\n"
    }
   },
   "outputs": [
    {
     "data": {
      "text/plain": "       学校   班级 性别        地址   身高  体重  数学成绩 物理成绩\n编号                                             \n1102  S_1  C_1  F  street_2  192  73  32.5   B+",
      "text/html": "<div>\n<style scoped>\n    .dataframe tbody tr th:only-of-type {\n        vertical-align: middle;\n    }\n\n    .dataframe tbody tr th {\n        vertical-align: top;\n    }\n\n    .dataframe thead th {\n        text-align: right;\n    }\n</style>\n<table border=\"1\" class=\"dataframe\">\n  <thead>\n    <tr style=\"text-align: right;\">\n      <th></th>\n      <th>学校</th>\n      <th>班级</th>\n      <th>性别</th>\n      <th>地址</th>\n      <th>身高</th>\n      <th>体重</th>\n      <th>数学成绩</th>\n      <th>物理成绩</th>\n    </tr>\n    <tr>\n      <th>编号</th>\n      <th></th>\n      <th></th>\n      <th></th>\n      <th></th>\n      <th></th>\n      <th></th>\n      <th></th>\n      <th></th>\n    </tr>\n  </thead>\n  <tbody>\n    <tr>\n      <th>1102</th>\n      <td>S_1</td>\n      <td>C_1</td>\n      <td>F</td>\n      <td>street_2</td>\n      <td>192</td>\n      <td>73</td>\n      <td>32.5</td>\n      <td>B+</td>\n    </tr>\n  </tbody>\n</table>\n</div>"
     },
     "execution_count": 102,
     "metadata": {},
     "output_type": "execute_result"
    }
   ],
   "source": [
    "df[1:2]\n",
    "#这里非常容易写成df['label']，会报错\n",
    "#同Series使用了绝对位置切片"
   ]
  },
  {
   "cell_type": "code",
   "execution_count": 103,
   "metadata": {
    "pycharm": {
     "name": "#%%\n"
    }
   },
   "outputs": [
    {
     "data": {
      "text/plain": "       学校   班级 性别        地址   身高  体重  数学成绩 物理成绩\n编号                                             \n1102  S_1  C_1  F  street_2  192  73  32.5   B+",
      "text/html": "<div>\n<style scoped>\n    .dataframe tbody tr th:only-of-type {\n        vertical-align: middle;\n    }\n\n    .dataframe tbody tr th {\n        vertical-align: top;\n    }\n\n    .dataframe thead th {\n        text-align: right;\n    }\n</style>\n<table border=\"1\" class=\"dataframe\">\n  <thead>\n    <tr style=\"text-align: right;\">\n      <th></th>\n      <th>学校</th>\n      <th>班级</th>\n      <th>性别</th>\n      <th>地址</th>\n      <th>身高</th>\n      <th>体重</th>\n      <th>数学成绩</th>\n      <th>物理成绩</th>\n    </tr>\n    <tr>\n      <th>编号</th>\n      <th></th>\n      <th></th>\n      <th></th>\n      <th></th>\n      <th></th>\n      <th></th>\n      <th></th>\n      <th></th>\n    </tr>\n  </thead>\n  <tbody>\n    <tr>\n      <th>1102</th>\n      <td>S_1</td>\n      <td>C_1</td>\n      <td>F</td>\n      <td>street_2</td>\n      <td>192</td>\n      <td>73</td>\n      <td>32.5</td>\n      <td>B+</td>\n    </tr>\n  </tbody>\n</table>\n</div>"
     },
     "execution_count": 103,
     "metadata": {},
     "output_type": "execute_result"
    }
   ],
   "source": [
    "# 获取索引为1102的数据\n",
    "row = df.index.get_loc(1102)\n",
    "df[row:row+1]"
   ]
  },
  {
   "cell_type": "markdown",
   "metadata": {
    "pycharm": {
     "name": "#%% md\n"
    }
   },
   "source": [
    "#### ② 多行索引："
   ]
  },
  {
   "cell_type": "code",
   "execution_count": 104,
   "metadata": {
    "pycharm": {
     "name": "#%%\n"
    }
   },
   "outputs": [
    {
     "data": {
      "text/plain": "       学校   班级 性别        地址   身高  体重  数学成绩 物理成绩\n编号                                             \n1104  S_1  C_1  F  street_2  167  81  80.4   B+\n1105  S_1  C_1  F  street_4  159  64  84.8   B+",
      "text/html": "<div>\n<style scoped>\n    .dataframe tbody tr th:only-of-type {\n        vertical-align: middle;\n    }\n\n    .dataframe tbody tr th {\n        vertical-align: top;\n    }\n\n    .dataframe thead th {\n        text-align: right;\n    }\n</style>\n<table border=\"1\" class=\"dataframe\">\n  <thead>\n    <tr style=\"text-align: right;\">\n      <th></th>\n      <th>学校</th>\n      <th>班级</th>\n      <th>性别</th>\n      <th>地址</th>\n      <th>身高</th>\n      <th>体重</th>\n      <th>数学成绩</th>\n      <th>物理成绩</th>\n    </tr>\n    <tr>\n      <th>编号</th>\n      <th></th>\n      <th></th>\n      <th></th>\n      <th></th>\n      <th></th>\n      <th></th>\n      <th></th>\n      <th></th>\n    </tr>\n  </thead>\n  <tbody>\n    <tr>\n      <th>1104</th>\n      <td>S_1</td>\n      <td>C_1</td>\n      <td>F</td>\n      <td>street_2</td>\n      <td>167</td>\n      <td>81</td>\n      <td>80.4</td>\n      <td>B+</td>\n    </tr>\n    <tr>\n      <th>1105</th>\n      <td>S_1</td>\n      <td>C_1</td>\n      <td>F</td>\n      <td>street_4</td>\n      <td>159</td>\n      <td>64</td>\n      <td>84.8</td>\n      <td>B+</td>\n    </tr>\n  </tbody>\n</table>\n</div>"
     },
     "execution_count": 104,
     "metadata": {},
     "output_type": "execute_result"
    }
   ],
   "source": [
    "#用切片，如果是选取指定的某几行，推荐使用loc，否则很可能报错\n",
    "df[3:5]"
   ]
  },
  {
   "cell_type": "markdown",
   "metadata": {
    "pycharm": {
     "name": "#%% md\n"
    }
   },
   "source": [
    "#### ③ 单列索引："
   ]
  },
  {
   "cell_type": "code",
   "execution_count": 105,
   "metadata": {
    "pycharm": {
     "name": "#%%\n"
    }
   },
   "outputs": [
    {
     "data": {
      "text/plain": "编号\n1101    S_1\n1102    S_1\n1103    S_1\n1104    S_1\n1105    S_1\nName: 学校, dtype: object"
     },
     "execution_count": 105,
     "metadata": {},
     "output_type": "execute_result"
    }
   ],
   "source": [
    "# 选择‘学校’列数据\n",
    "df['学校'].head()"
   ]
  },
  {
   "cell_type": "markdown",
   "metadata": {
    "pycharm": {
     "name": "#%% md\n"
    }
   },
   "source": [
    "#### ④ 多列索引："
   ]
  },
  {
   "cell_type": "code",
   "execution_count": 106,
   "metadata": {
    "pycharm": {
     "name": "#%%\n"
    }
   },
   "outputs": [
    {
     "data": {
      "text/plain": "       学校  数学成绩\n编号             \n1101  S_1  34.0\n1102  S_1  32.5\n1103  S_1  87.2\n1104  S_1  80.4\n1105  S_1  84.8",
      "text/html": "<div>\n<style scoped>\n    .dataframe tbody tr th:only-of-type {\n        vertical-align: middle;\n    }\n\n    .dataframe tbody tr th {\n        vertical-align: top;\n    }\n\n    .dataframe thead th {\n        text-align: right;\n    }\n</style>\n<table border=\"1\" class=\"dataframe\">\n  <thead>\n    <tr style=\"text-align: right;\">\n      <th></th>\n      <th>学校</th>\n      <th>数学成绩</th>\n    </tr>\n    <tr>\n      <th>编号</th>\n      <th></th>\n      <th></th>\n    </tr>\n  </thead>\n  <tbody>\n    <tr>\n      <th>1101</th>\n      <td>S_1</td>\n      <td>34.0</td>\n    </tr>\n    <tr>\n      <th>1102</th>\n      <td>S_1</td>\n      <td>32.5</td>\n    </tr>\n    <tr>\n      <th>1103</th>\n      <td>S_1</td>\n      <td>87.2</td>\n    </tr>\n    <tr>\n      <th>1104</th>\n      <td>S_1</td>\n      <td>80.4</td>\n    </tr>\n    <tr>\n      <th>1105</th>\n      <td>S_1</td>\n      <td>84.8</td>\n    </tr>\n  </tbody>\n</table>\n</div>"
     },
     "execution_count": 106,
     "metadata": {},
     "output_type": "execute_result"
    }
   ],
   "source": [
    "# # 选择‘学校’、‘数学成绩’列数据\n",
    "df[['学校','数学成绩']].head()"
   ]
  },
  {
   "cell_type": "markdown",
   "metadata": {
    "pycharm": {
     "name": "#%% md\n"
    }
   },
   "source": [
    "#### ⑤函数式索引："
   ]
  },
  {
   "cell_type": "code",
   "execution_count": 107,
   "metadata": {
    "pycharm": {
     "name": "#%%\n"
    }
   },
   "outputs": [
    {
     "data": {
      "text/plain": "       学校  数学成绩\n编号             \n1101  S_1  34.0\n1102  S_1  32.5\n1103  S_1  87.2\n1104  S_1  80.4\n1105  S_1  84.8",
      "text/html": "<div>\n<style scoped>\n    .dataframe tbody tr th:only-of-type {\n        vertical-align: middle;\n    }\n\n    .dataframe tbody tr th {\n        vertical-align: top;\n    }\n\n    .dataframe thead th {\n        text-align: right;\n    }\n</style>\n<table border=\"1\" class=\"dataframe\">\n  <thead>\n    <tr style=\"text-align: right;\">\n      <th></th>\n      <th>学校</th>\n      <th>数学成绩</th>\n    </tr>\n    <tr>\n      <th>编号</th>\n      <th></th>\n      <th></th>\n    </tr>\n  </thead>\n  <tbody>\n    <tr>\n      <th>1101</th>\n      <td>S_1</td>\n      <td>34.0</td>\n    </tr>\n    <tr>\n      <th>1102</th>\n      <td>S_1</td>\n      <td>32.5</td>\n    </tr>\n    <tr>\n      <th>1103</th>\n      <td>S_1</td>\n      <td>87.2</td>\n    </tr>\n    <tr>\n      <th>1104</th>\n      <td>S_1</td>\n      <td>80.4</td>\n    </tr>\n    <tr>\n      <th>1105</th>\n      <td>S_1</td>\n      <td>84.8</td>\n    </tr>\n  </tbody>\n</table>\n</div>"
     },
     "execution_count": 107,
     "metadata": {},
     "output_type": "execute_result"
    }
   ],
   "source": [
    "# 选择'学校','数学成绩'列的数据\n",
    "df[lambda x:['学校','数学成绩']].head()"
   ]
  },
  {
   "cell_type": "markdown",
   "metadata": {
    "pycharm": {
     "name": "#%% md\n"
    }
   },
   "source": [
    "#### ⑥ 布尔索引："
   ]
  },
  {
   "cell_type": "code",
   "execution_count": 108,
   "metadata": {
    "pycharm": {
     "name": "#%%\n"
    }
   },
   "outputs": [
    {
     "data": {
      "text/plain": "       学校   班级 性别        地址   身高  体重  数学成绩 物理成绩\n编号                                             \n1102  S_1  C_1  F  street_2  192  73  32.5   B+\n1104  S_1  C_1  F  street_2  167  81  80.4   B+\n1105  S_1  C_1  F  street_4  159  64  84.8   B+\n1202  S_1  C_2  F  street_4  176  94  63.5   B-\n1204  S_1  C_2  F  street_5  162  63  33.8    B",
      "text/html": "<div>\n<style scoped>\n    .dataframe tbody tr th:only-of-type {\n        vertical-align: middle;\n    }\n\n    .dataframe tbody tr th {\n        vertical-align: top;\n    }\n\n    .dataframe thead th {\n        text-align: right;\n    }\n</style>\n<table border=\"1\" class=\"dataframe\">\n  <thead>\n    <tr style=\"text-align: right;\">\n      <th></th>\n      <th>学校</th>\n      <th>班级</th>\n      <th>性别</th>\n      <th>地址</th>\n      <th>身高</th>\n      <th>体重</th>\n      <th>数学成绩</th>\n      <th>物理成绩</th>\n    </tr>\n    <tr>\n      <th>编号</th>\n      <th></th>\n      <th></th>\n      <th></th>\n      <th></th>\n      <th></th>\n      <th></th>\n      <th></th>\n      <th></th>\n    </tr>\n  </thead>\n  <tbody>\n    <tr>\n      <th>1102</th>\n      <td>S_1</td>\n      <td>C_1</td>\n      <td>F</td>\n      <td>street_2</td>\n      <td>192</td>\n      <td>73</td>\n      <td>32.5</td>\n      <td>B+</td>\n    </tr>\n    <tr>\n      <th>1104</th>\n      <td>S_1</td>\n      <td>C_1</td>\n      <td>F</td>\n      <td>street_2</td>\n      <td>167</td>\n      <td>81</td>\n      <td>80.4</td>\n      <td>B+</td>\n    </tr>\n    <tr>\n      <th>1105</th>\n      <td>S_1</td>\n      <td>C_1</td>\n      <td>F</td>\n      <td>street_4</td>\n      <td>159</td>\n      <td>64</td>\n      <td>84.8</td>\n      <td>B+</td>\n    </tr>\n    <tr>\n      <th>1202</th>\n      <td>S_1</td>\n      <td>C_2</td>\n      <td>F</td>\n      <td>street_4</td>\n      <td>176</td>\n      <td>94</td>\n      <td>63.5</td>\n      <td>B-</td>\n    </tr>\n    <tr>\n      <th>1204</th>\n      <td>S_1</td>\n      <td>C_2</td>\n      <td>F</td>\n      <td>street_5</td>\n      <td>162</td>\n      <td>63</td>\n      <td>33.8</td>\n      <td>B</td>\n    </tr>\n  </tbody>\n</table>\n</div>"
     },
     "execution_count": 108,
     "metadata": {},
     "output_type": "execute_result"
    }
   ],
   "source": [
    "df[df['性别']=='F'].head()"
   ]
  },
  {
   "cell_type": "markdown",
   "metadata": {
    "pycharm": {
     "name": "#%% md\n"
    }
   },
   "source": [
    "#### 小节：一般来说，[]操作符常用于列选择或布尔选择，尽量避免行的选择\n",
    "### 2. 布尔索引\n",
    "#### （a）布尔符号：'&','|','~'：分别代表和and，或or，取反not"
   ]
  },
  {
   "cell_type": "code",
   "execution_count": 109,
   "metadata": {
    "pycharm": {
     "name": "#%%\n"
    }
   },
   "outputs": [
    {
     "data": {
      "text/plain": "       学校   班级 性别        地址   身高  体重  数学成绩 物理成绩\n编号                                             \n1102  S_1  C_1  F  street_2  192  73  32.5   B+\n1104  S_1  C_1  F  street_2  167  81  80.4   B+\n2404  S_2  C_4  F  street_2  160  84  97.0    B",
      "text/html": "<div>\n<style scoped>\n    .dataframe tbody tr th:only-of-type {\n        vertical-align: middle;\n    }\n\n    .dataframe tbody tr th {\n        vertical-align: top;\n    }\n\n    .dataframe thead th {\n        text-align: right;\n    }\n</style>\n<table border=\"1\" class=\"dataframe\">\n  <thead>\n    <tr style=\"text-align: right;\">\n      <th></th>\n      <th>学校</th>\n      <th>班级</th>\n      <th>性别</th>\n      <th>地址</th>\n      <th>身高</th>\n      <th>体重</th>\n      <th>数学成绩</th>\n      <th>物理成绩</th>\n    </tr>\n    <tr>\n      <th>编号</th>\n      <th></th>\n      <th></th>\n      <th></th>\n      <th></th>\n      <th></th>\n      <th></th>\n      <th></th>\n      <th></th>\n    </tr>\n  </thead>\n  <tbody>\n    <tr>\n      <th>1102</th>\n      <td>S_1</td>\n      <td>C_1</td>\n      <td>F</td>\n      <td>street_2</td>\n      <td>192</td>\n      <td>73</td>\n      <td>32.5</td>\n      <td>B+</td>\n    </tr>\n    <tr>\n      <th>1104</th>\n      <td>S_1</td>\n      <td>C_1</td>\n      <td>F</td>\n      <td>street_2</td>\n      <td>167</td>\n      <td>81</td>\n      <td>80.4</td>\n      <td>B+</td>\n    </tr>\n    <tr>\n      <th>2404</th>\n      <td>S_2</td>\n      <td>C_4</td>\n      <td>F</td>\n      <td>street_2</td>\n      <td>160</td>\n      <td>84</td>\n      <td>97.0</td>\n      <td>B</td>\n    </tr>\n  </tbody>\n</table>\n</div>"
     },
     "execution_count": 109,
     "metadata": {},
     "output_type": "execute_result"
    }
   ],
   "source": [
    "df[(df['性别']=='F')&(df['地址']=='street_2')].head()"
   ]
  },
  {
   "cell_type": "code",
   "execution_count": 110,
   "metadata": {
    "pycharm": {
     "name": "#%%\n"
    }
   },
   "outputs": [
    {
     "data": {
      "text/plain": "       学校   班级 性别        地址   身高  体重  数学成绩 物理成绩\n编号                                             \n1103  S_1  C_1  M  street_2  186  82  87.2   B-\n1201  S_1  C_2  M  street_5  188  68  97.0   A-\n1302  S_1  C_3  F  street_1  175  57  87.7   A-\n1303  S_1  C_3  M  street_7  188  82  49.7    B\n1304  S_1  C_3  M  street_2  195  70  85.2    A",
      "text/html": "<div>\n<style scoped>\n    .dataframe tbody tr th:only-of-type {\n        vertical-align: middle;\n    }\n\n    .dataframe tbody tr th {\n        vertical-align: top;\n    }\n\n    .dataframe thead th {\n        text-align: right;\n    }\n</style>\n<table border=\"1\" class=\"dataframe\">\n  <thead>\n    <tr style=\"text-align: right;\">\n      <th></th>\n      <th>学校</th>\n      <th>班级</th>\n      <th>性别</th>\n      <th>地址</th>\n      <th>身高</th>\n      <th>体重</th>\n      <th>数学成绩</th>\n      <th>物理成绩</th>\n    </tr>\n    <tr>\n      <th>编号</th>\n      <th></th>\n      <th></th>\n      <th></th>\n      <th></th>\n      <th></th>\n      <th></th>\n      <th></th>\n      <th></th>\n    </tr>\n  </thead>\n  <tbody>\n    <tr>\n      <th>1103</th>\n      <td>S_1</td>\n      <td>C_1</td>\n      <td>M</td>\n      <td>street_2</td>\n      <td>186</td>\n      <td>82</td>\n      <td>87.2</td>\n      <td>B-</td>\n    </tr>\n    <tr>\n      <th>1201</th>\n      <td>S_1</td>\n      <td>C_2</td>\n      <td>M</td>\n      <td>street_5</td>\n      <td>188</td>\n      <td>68</td>\n      <td>97.0</td>\n      <td>A-</td>\n    </tr>\n    <tr>\n      <th>1302</th>\n      <td>S_1</td>\n      <td>C_3</td>\n      <td>F</td>\n      <td>street_1</td>\n      <td>175</td>\n      <td>57</td>\n      <td>87.7</td>\n      <td>A-</td>\n    </tr>\n    <tr>\n      <th>1303</th>\n      <td>S_1</td>\n      <td>C_3</td>\n      <td>M</td>\n      <td>street_7</td>\n      <td>188</td>\n      <td>82</td>\n      <td>49.7</td>\n      <td>B</td>\n    </tr>\n    <tr>\n      <th>1304</th>\n      <td>S_1</td>\n      <td>C_3</td>\n      <td>M</td>\n      <td>street_2</td>\n      <td>195</td>\n      <td>70</td>\n      <td>85.2</td>\n      <td>A</td>\n    </tr>\n  </tbody>\n</table>\n</div>"
     },
     "execution_count": 110,
     "metadata": {},
     "output_type": "execute_result"
    }
   ],
   "source": [
    "df[(df['数学成绩']>85)|(df['地址']=='street_7')].head()"
   ]
  },
  {
   "cell_type": "code",
   "execution_count": 111,
   "metadata": {
    "pycharm": {
     "name": "#%%\n"
    }
   },
   "outputs": [
    {
     "data": {
      "text/plain": "       学校   班级 性别        地址   身高  体重  数学成绩 物理成绩\n编号                                             \n1102  S_1  C_1  F  street_2  192  73  32.5   B+\n1202  S_1  C_2  F  street_4  176  94  63.5   B-\n1203  S_1  C_2  M  street_6  160  53  58.8   A+\n1204  S_1  C_2  F  street_5  162  63  33.8    B\n1205  S_1  C_2  F  street_6  167  63  68.4   B-",
      "text/html": "<div>\n<style scoped>\n    .dataframe tbody tr th:only-of-type {\n        vertical-align: middle;\n    }\n\n    .dataframe tbody tr th {\n        vertical-align: top;\n    }\n\n    .dataframe thead th {\n        text-align: right;\n    }\n</style>\n<table border=\"1\" class=\"dataframe\">\n  <thead>\n    <tr style=\"text-align: right;\">\n      <th></th>\n      <th>学校</th>\n      <th>班级</th>\n      <th>性别</th>\n      <th>地址</th>\n      <th>身高</th>\n      <th>体重</th>\n      <th>数学成绩</th>\n      <th>物理成绩</th>\n    </tr>\n    <tr>\n      <th>编号</th>\n      <th></th>\n      <th></th>\n      <th></th>\n      <th></th>\n      <th></th>\n      <th></th>\n      <th></th>\n      <th></th>\n    </tr>\n  </thead>\n  <tbody>\n    <tr>\n      <th>1102</th>\n      <td>S_1</td>\n      <td>C_1</td>\n      <td>F</td>\n      <td>street_2</td>\n      <td>192</td>\n      <td>73</td>\n      <td>32.5</td>\n      <td>B+</td>\n    </tr>\n    <tr>\n      <th>1202</th>\n      <td>S_1</td>\n      <td>C_2</td>\n      <td>F</td>\n      <td>street_4</td>\n      <td>176</td>\n      <td>94</td>\n      <td>63.5</td>\n      <td>B-</td>\n    </tr>\n    <tr>\n      <th>1203</th>\n      <td>S_1</td>\n      <td>C_2</td>\n      <td>M</td>\n      <td>street_6</td>\n      <td>160</td>\n      <td>53</td>\n      <td>58.8</td>\n      <td>A+</td>\n    </tr>\n    <tr>\n      <th>1204</th>\n      <td>S_1</td>\n      <td>C_2</td>\n      <td>F</td>\n      <td>street_5</td>\n      <td>162</td>\n      <td>63</td>\n      <td>33.8</td>\n      <td>B</td>\n    </tr>\n    <tr>\n      <th>1205</th>\n      <td>S_1</td>\n      <td>C_2</td>\n      <td>F</td>\n      <td>street_6</td>\n      <td>167</td>\n      <td>63</td>\n      <td>68.4</td>\n      <td>B-</td>\n    </tr>\n  </tbody>\n</table>\n</div>"
     },
     "execution_count": 111,
     "metadata": {},
     "output_type": "execute_result"
    }
   ],
   "source": [
    "df[~((df['数学成绩']>75)|(df['地址']=='street_1'))].head()"
   ]
  },
  {
   "cell_type": "markdown",
   "metadata": {
    "pycharm": {
     "name": "#%% md\n"
    }
   },
   "source": [
    "#### loc和[]中相应位置都能使用布尔列表选择："
   ]
  },
  {
   "cell_type": "code",
   "execution_count": 112,
   "metadata": {
    "pycharm": {
     "name": "#%%\n"
    }
   },
   "outputs": [
    {
     "data": {
      "text/plain": "     物理成绩\n编号       \n1103   B-\n1104   B+\n1105   B+\n1201   A-\n1202   B-",
      "text/html": "<div>\n<style scoped>\n    .dataframe tbody tr th:only-of-type {\n        vertical-align: middle;\n    }\n\n    .dataframe tbody tr th {\n        vertical-align: top;\n    }\n\n    .dataframe thead th {\n        text-align: right;\n    }\n</style>\n<table border=\"1\" class=\"dataframe\">\n  <thead>\n    <tr style=\"text-align: right;\">\n      <th></th>\n      <th>物理成绩</th>\n    </tr>\n    <tr>\n      <th>编号</th>\n      <th></th>\n    </tr>\n  </thead>\n  <tbody>\n    <tr>\n      <th>1103</th>\n      <td>B-</td>\n    </tr>\n    <tr>\n      <th>1104</th>\n      <td>B+</td>\n    </tr>\n    <tr>\n      <th>1105</th>\n      <td>B+</td>\n    </tr>\n    <tr>\n      <th>1201</th>\n      <td>A-</td>\n    </tr>\n    <tr>\n      <th>1202</th>\n      <td>B-</td>\n    </tr>\n  </tbody>\n</table>\n</div>"
     },
     "execution_count": 112,
     "metadata": {},
     "output_type": "execute_result"
    }
   ],
   "source": [
    "df.loc[df['数学成绩']>60,df.columns=='物理成绩'].head()\n",
    "#思考：为什么df.loc[df['数学成绩']>60,(df[:8]['地址']=='street_6').values].head()得到和上述结果一样？values能去掉吗？"
   ]
  },
  {
   "cell_type": "markdown",
   "metadata": {
    "pycharm": {
     "name": "#%% md\n"
    }
   },
   "source": [
    "#### （b） isin方法"
   ]
  },
  {
   "cell_type": "code",
   "execution_count": 113,
   "metadata": {
    "pycharm": {
     "name": "#%%\n"
    }
   },
   "outputs": [
    {
     "data": {
      "text/plain": "       学校   班级        性别        地址   身高  体重  数学成绩 物理成绩\n编号                                                    \n1101  S_1  C_1  street_1  street_1  173  63  34.0   A+\n2105  S_2  C_1         M  street_4  170  81  34.2    A\n2203  S_2  C_2         M  street_4  155  91  73.8   A+",
      "text/html": "<div>\n<style scoped>\n    .dataframe tbody tr th:only-of-type {\n        vertical-align: middle;\n    }\n\n    .dataframe tbody tr th {\n        vertical-align: top;\n    }\n\n    .dataframe thead th {\n        text-align: right;\n    }\n</style>\n<table border=\"1\" class=\"dataframe\">\n  <thead>\n    <tr style=\"text-align: right;\">\n      <th></th>\n      <th>学校</th>\n      <th>班级</th>\n      <th>性别</th>\n      <th>地址</th>\n      <th>身高</th>\n      <th>体重</th>\n      <th>数学成绩</th>\n      <th>物理成绩</th>\n    </tr>\n    <tr>\n      <th>编号</th>\n      <th></th>\n      <th></th>\n      <th></th>\n      <th></th>\n      <th></th>\n      <th></th>\n      <th></th>\n      <th></th>\n    </tr>\n  </thead>\n  <tbody>\n    <tr>\n      <th>1101</th>\n      <td>S_1</td>\n      <td>C_1</td>\n      <td>street_1</td>\n      <td>street_1</td>\n      <td>173</td>\n      <td>63</td>\n      <td>34.0</td>\n      <td>A+</td>\n    </tr>\n    <tr>\n      <th>2105</th>\n      <td>S_2</td>\n      <td>C_1</td>\n      <td>M</td>\n      <td>street_4</td>\n      <td>170</td>\n      <td>81</td>\n      <td>34.2</td>\n      <td>A</td>\n    </tr>\n    <tr>\n      <th>2203</th>\n      <td>S_2</td>\n      <td>C_2</td>\n      <td>M</td>\n      <td>street_4</td>\n      <td>155</td>\n      <td>91</td>\n      <td>73.8</td>\n      <td>A+</td>\n    </tr>\n  </tbody>\n</table>\n</div>"
     },
     "execution_count": 113,
     "metadata": {},
     "output_type": "execute_result"
    }
   ],
   "source": [
    "df[df['地址'].isin(['street_1','street_4'])&df['物理成绩'].isin(['A','A+'])]"
   ]
  },
  {
   "cell_type": "code",
   "execution_count": 114,
   "metadata": {
    "pycharm": {
     "name": "#%%\n"
    }
   },
   "outputs": [
    {
     "data": {
      "text/plain": "       学校   班级        性别        地址   身高  体重  数学成绩 物理成绩\n编号                                                    \n1101  S_1  C_1  street_1  street_1  173  63  34.0   A+\n2105  S_2  C_1         M  street_4  170  81  34.2    A\n2203  S_2  C_2         M  street_4  155  91  73.8   A+",
      "text/html": "<div>\n<style scoped>\n    .dataframe tbody tr th:only-of-type {\n        vertical-align: middle;\n    }\n\n    .dataframe tbody tr th {\n        vertical-align: top;\n    }\n\n    .dataframe thead th {\n        text-align: right;\n    }\n</style>\n<table border=\"1\" class=\"dataframe\">\n  <thead>\n    <tr style=\"text-align: right;\">\n      <th></th>\n      <th>学校</th>\n      <th>班级</th>\n      <th>性别</th>\n      <th>地址</th>\n      <th>身高</th>\n      <th>体重</th>\n      <th>数学成绩</th>\n      <th>物理成绩</th>\n    </tr>\n    <tr>\n      <th>编号</th>\n      <th></th>\n      <th></th>\n      <th></th>\n      <th></th>\n      <th></th>\n      <th></th>\n      <th></th>\n      <th></th>\n    </tr>\n  </thead>\n  <tbody>\n    <tr>\n      <th>1101</th>\n      <td>S_1</td>\n      <td>C_1</td>\n      <td>street_1</td>\n      <td>street_1</td>\n      <td>173</td>\n      <td>63</td>\n      <td>34.0</td>\n      <td>A+</td>\n    </tr>\n    <tr>\n      <th>2105</th>\n      <td>S_2</td>\n      <td>C_1</td>\n      <td>M</td>\n      <td>street_4</td>\n      <td>170</td>\n      <td>81</td>\n      <td>34.2</td>\n      <td>A</td>\n    </tr>\n    <tr>\n      <th>2203</th>\n      <td>S_2</td>\n      <td>C_2</td>\n      <td>M</td>\n      <td>street_4</td>\n      <td>155</td>\n      <td>91</td>\n      <td>73.8</td>\n      <td>A+</td>\n    </tr>\n  </tbody>\n</table>\n</div>"
     },
     "execution_count": 114,
     "metadata": {},
     "output_type": "execute_result"
    }
   ],
   "source": [
    "#上面也可以用字典方式写：\n",
    "df[df[['地址','物理成绩']].isin({'地址':['street_1','street_4'],'物理成绩':['A','A+']}).all(1)]\n",
    "#all与&的思路是类似的，其中的1代表按照跨列方向判断是否全为True"
   ]
  },
  {
   "cell_type": "markdown",
   "metadata": {
    "pycharm": {
     "name": "#%% md\n"
    }
   },
   "source": [
    "### 3. 快速标量索引\n",
    "#### 当只需要取一个元素时，at和iat方法能够提供更快的实现："
   ]
  },
  {
   "cell_type": "code",
   "execution_count": 115,
   "metadata": {
    "pycharm": {
     "name": "#%%\n"
    }
   },
   "outputs": [
    {
     "data": {
      "text/plain": "'S_1'"
     },
     "metadata": {},
     "output_type": "display_data"
    },
    {
     "data": {
      "text/plain": "'S_1'"
     },
     "metadata": {},
     "output_type": "display_data"
    },
    {
     "data": {
      "text/plain": "'S_1'"
     },
     "metadata": {},
     "output_type": "display_data"
    },
    {
     "data": {
      "text/plain": "'S_1'"
     },
     "metadata": {},
     "output_type": "display_data"
    }
   ],
   "source": [
    "display(df.at[1101,'学校'])\n",
    "display(df.loc[1101,'学校'])\n",
    "display(df.iat[0,0])\n",
    "display(df.iloc[0,0])\n",
    "#可尝试去掉注释对比时间\n",
    "#%timeit df.at[1101,'学校']\n",
    "#%timeit df.loc[1101,'学校']\n",
    "#%timeit df.iat[0,0]\n",
    "#%timeit df.iloc[0,0]"
   ]
  },
  {
   "cell_type": "markdown",
   "metadata": {
    "pycharm": {
     "name": "#%% md\n"
    }
   },
   "source": [
    "### 4. 区间索引\n",
    "#### 此处介绍并不是说只能在单级索引中使用区间索引，只是作为一种特殊类型的索引方式，在此处先行介绍\n",
    "#### （a）利用interval_range方法"
   ]
  },
  {
   "cell_type": "code",
   "execution_count": 116,
   "metadata": {
    "pycharm": {
     "name": "#%%\n"
    }
   },
   "outputs": [
    {
     "data": {
      "text/plain": "IntervalIndex([(0, 1], (1, 2], (2, 3], (3, 4], (4, 5]], dtype='interval[int64, right]')"
     },
     "execution_count": 116,
     "metadata": {},
     "output_type": "execute_result"
    }
   ],
   "source": [
    "pd.interval_range(start=0,end=5)\n",
    "#closed参数可选'left''right''both''neither'，默认左开右闭"
   ]
  },
  {
   "cell_type": "code",
   "execution_count": 117,
   "metadata": {
    "pycharm": {
     "name": "#%%\n"
    }
   },
   "outputs": [
    {
     "data": {
      "text/plain": "IntervalIndex([(0, 5], (5, 10], (10, 15], (15, 20], (20, 25], (25, 30], (30, 35], (35, 40]], dtype='interval[int64, right]')"
     },
     "execution_count": 117,
     "metadata": {},
     "output_type": "execute_result"
    }
   ],
   "source": [
    "pd.interval_range(start=0,periods=8,freq=5)\n",
    "#periods参数控制区间个数，freq控制步长"
   ]
  },
  {
   "cell_type": "markdown",
   "metadata": {
    "pycharm": {
     "name": "#%% md\n"
    }
   },
   "source": [
    "#### （b）利用cut将数值列转为区间为元素的分类变量，例如统计数学成绩的区间情况："
   ]
  },
  {
   "cell_type": "code",
   "execution_count": 118,
   "metadata": {
    "pycharm": {
     "name": "#%%\n"
    }
   },
   "outputs": [
    {
     "data": {
      "text/plain": "编号\n1101      (0, 40]\n1102      (0, 40]\n1103    (80, 100]\n1104    (80, 100]\n1105    (80, 100]\nName: 数学成绩, dtype: category\nCategories (4, interval[int64, right]): [(0, 40] < (40, 60] < (60, 80] < (80, 100]]"
     },
     "execution_count": 118,
     "metadata": {},
     "output_type": "execute_result"
    }
   ],
   "source": [
    "数学成绩_interval = pd.cut(df['数学成绩'],bins=[0,40,60,80,100])\n",
    "#注意，如果没有类型转换，此时并不是区间类型，而是category类型\n",
    "数学成绩_interval.head()"
   ]
  },
  {
   "cell_type": "markdown",
   "metadata": {
    "pycharm": {
     "name": "#%% md\n"
    }
   },
   "source": [
    "#### （c）区间索引的选取"
   ]
  },
  {
   "cell_type": "code",
   "execution_count": 119,
   "metadata": {
    "pycharm": {
     "name": "#%%\n"
    }
   },
   "outputs": [
    {
     "data": {
      "text/plain": "                 编号  数学成绩\n数学成绩_interval            \n(0, 40]        1101  34.0\n(0, 40]        1102  32.5\n(80, 100]      1103  87.2\n(80, 100]      1104  80.4\n(80, 100]      1105  84.8",
      "text/html": "<div>\n<style scoped>\n    .dataframe tbody tr th:only-of-type {\n        vertical-align: middle;\n    }\n\n    .dataframe tbody tr th {\n        vertical-align: top;\n    }\n\n    .dataframe thead th {\n        text-align: right;\n    }\n</style>\n<table border=\"1\" class=\"dataframe\">\n  <thead>\n    <tr style=\"text-align: right;\">\n      <th></th>\n      <th>编号</th>\n      <th>数学成绩</th>\n    </tr>\n    <tr>\n      <th>数学成绩_interval</th>\n      <th></th>\n      <th></th>\n    </tr>\n  </thead>\n  <tbody>\n    <tr>\n      <th>(0, 40]</th>\n      <td>1101</td>\n      <td>34.0</td>\n    </tr>\n    <tr>\n      <th>(0, 40]</th>\n      <td>1102</td>\n      <td>32.5</td>\n    </tr>\n    <tr>\n      <th>(80, 100]</th>\n      <td>1103</td>\n      <td>87.2</td>\n    </tr>\n    <tr>\n      <th>(80, 100]</th>\n      <td>1104</td>\n      <td>80.4</td>\n    </tr>\n    <tr>\n      <th>(80, 100]</th>\n      <td>1105</td>\n      <td>84.8</td>\n    </tr>\n  </tbody>\n</table>\n</div>"
     },
     "execution_count": 119,
     "metadata": {},
     "output_type": "execute_result"
    }
   ],
   "source": [
    "df_i = df.join(数学成绩_interval,rsuffix='_interval')[['数学成绩','数学成绩_interval']]\\\n",
    "            .reset_index().set_index('数学成绩_interval')\n",
    "df_i.head()"
   ]
  },
  {
   "cell_type": "code",
   "execution_count": 120,
   "metadata": {
    "pycharm": {
     "name": "#%%\n"
    }
   },
   "outputs": [
    {
     "data": {
      "text/plain": "                 编号  数学成绩\n数学成绩_interval            \n(60, 80]       1202  63.5\n(60, 80]       1205  68.4\n(60, 80]       1305  61.7\n(60, 80]       2104  72.2\n(60, 80]       2202  68.5",
      "text/html": "<div>\n<style scoped>\n    .dataframe tbody tr th:only-of-type {\n        vertical-align: middle;\n    }\n\n    .dataframe tbody tr th {\n        vertical-align: top;\n    }\n\n    .dataframe thead th {\n        text-align: right;\n    }\n</style>\n<table border=\"1\" class=\"dataframe\">\n  <thead>\n    <tr style=\"text-align: right;\">\n      <th></th>\n      <th>编号</th>\n      <th>数学成绩</th>\n    </tr>\n    <tr>\n      <th>数学成绩_interval</th>\n      <th></th>\n      <th></th>\n    </tr>\n  </thead>\n  <tbody>\n    <tr>\n      <th>(60, 80]</th>\n      <td>1202</td>\n      <td>63.5</td>\n    </tr>\n    <tr>\n      <th>(60, 80]</th>\n      <td>1205</td>\n      <td>68.4</td>\n    </tr>\n    <tr>\n      <th>(60, 80]</th>\n      <td>1305</td>\n      <td>61.7</td>\n    </tr>\n    <tr>\n      <th>(60, 80]</th>\n      <td>2104</td>\n      <td>72.2</td>\n    </tr>\n    <tr>\n      <th>(60, 80]</th>\n      <td>2202</td>\n      <td>68.5</td>\n    </tr>\n  </tbody>\n</table>\n</div>"
     },
     "execution_count": 120,
     "metadata": {},
     "output_type": "execute_result"
    }
   ],
   "source": [
    "df_i.loc[65].head()\n",
    "#包含该值就会被选中"
   ]
  },
  {
   "cell_type": "code",
   "execution_count": 121,
   "metadata": {
    "pycharm": {
     "name": "#%%\n"
    }
   },
   "outputs": [
    {
     "data": {
      "text/plain": "                 编号  数学成绩\n数学成绩_interval            \n(60, 80]       1202  63.5\n(60, 80]       1205  68.4\n(60, 80]       1305  61.7\n(60, 80]       2104  72.2\n(60, 80]       2202  68.5",
      "text/html": "<div>\n<style scoped>\n    .dataframe tbody tr th:only-of-type {\n        vertical-align: middle;\n    }\n\n    .dataframe tbody tr th {\n        vertical-align: top;\n    }\n\n    .dataframe thead th {\n        text-align: right;\n    }\n</style>\n<table border=\"1\" class=\"dataframe\">\n  <thead>\n    <tr style=\"text-align: right;\">\n      <th></th>\n      <th>编号</th>\n      <th>数学成绩</th>\n    </tr>\n    <tr>\n      <th>数学成绩_interval</th>\n      <th></th>\n      <th></th>\n    </tr>\n  </thead>\n  <tbody>\n    <tr>\n      <th>(60, 80]</th>\n      <td>1202</td>\n      <td>63.5</td>\n    </tr>\n    <tr>\n      <th>(60, 80]</th>\n      <td>1205</td>\n      <td>68.4</td>\n    </tr>\n    <tr>\n      <th>(60, 80]</th>\n      <td>1305</td>\n      <td>61.7</td>\n    </tr>\n    <tr>\n      <th>(60, 80]</th>\n      <td>2104</td>\n      <td>72.2</td>\n    </tr>\n    <tr>\n      <th>(60, 80]</th>\n      <td>2202</td>\n      <td>68.5</td>\n    </tr>\n  </tbody>\n</table>\n</div>"
     },
     "execution_count": 121,
     "metadata": {},
     "output_type": "execute_result"
    }
   ],
   "source": [
    "df_i.loc[[65,90]].head()"
   ]
  },
  {
   "cell_type": "markdown",
   "metadata": {
    "pycharm": {
     "name": "#%% md\n"
    }
   },
   "source": [
    "#### 如果想要选取某个区间，先要把分类变量转为区间变量，再使用overlap方法："
   ]
  },
  {
   "cell_type": "code",
   "execution_count": 122,
   "metadata": {
    "pycharm": {
     "name": "#%%\n"
    }
   },
   "outputs": [
    {
     "data": {
      "text/plain": "                 编号  数学成绩\n数学成绩_interval            \n(80, 100]      1103  87.2\n(80, 100]      1104  80.4\n(80, 100]      1105  84.8\n(80, 100]      1201  97.0\n(60, 80]       1202  63.5",
      "text/html": "<div>\n<style scoped>\n    .dataframe tbody tr th:only-of-type {\n        vertical-align: middle;\n    }\n\n    .dataframe tbody tr th {\n        vertical-align: top;\n    }\n\n    .dataframe thead th {\n        text-align: right;\n    }\n</style>\n<table border=\"1\" class=\"dataframe\">\n  <thead>\n    <tr style=\"text-align: right;\">\n      <th></th>\n      <th>编号</th>\n      <th>数学成绩</th>\n    </tr>\n    <tr>\n      <th>数学成绩_interval</th>\n      <th></th>\n      <th></th>\n    </tr>\n  </thead>\n  <tbody>\n    <tr>\n      <th>(80, 100]</th>\n      <td>1103</td>\n      <td>87.2</td>\n    </tr>\n    <tr>\n      <th>(80, 100]</th>\n      <td>1104</td>\n      <td>80.4</td>\n    </tr>\n    <tr>\n      <th>(80, 100]</th>\n      <td>1105</td>\n      <td>84.8</td>\n    </tr>\n    <tr>\n      <th>(80, 100]</th>\n      <td>1201</td>\n      <td>97.0</td>\n    </tr>\n    <tr>\n      <th>(60, 80]</th>\n      <td>1202</td>\n      <td>63.5</td>\n    </tr>\n  </tbody>\n</table>\n</div>"
     },
     "execution_count": 122,
     "metadata": {},
     "output_type": "execute_result"
    }
   ],
   "source": [
    "#df_i.loc[pd.Interval(70,75)].head() 报错\n",
    "df_i[df_i.index.astype('interval').overlaps(pd.Interval(70, 85))].head()\n",
    "#只要索引与(70,85]这个区间有交集就会被选中，注意pd.Interval默认构造区间都是左开右闭，可选closed参数right,left,both,neither"
   ]
  },
  {
   "cell_type": "markdown",
   "metadata": {
    "pycharm": {
     "name": "#%% md\n"
    }
   },
   "source": [
    "## 二、多级索引\n",
    "### 1. 创建多级索引\n",
    "#### （a）通过from_tuple或from_arrays\n",
    "#### ① 直接创建元组"
   ]
  },
  {
   "cell_type": "code",
   "execution_count": 123,
   "metadata": {
    "pycharm": {
     "name": "#%%\n"
    }
   },
   "outputs": [
    {
     "data": {
      "text/plain": "MultiIndex([('A', 'a'),\n            ('A', 'b'),\n            ('B', 'a'),\n            ('B', 'b')],\n           names=['Upper', 'Lower'])"
     },
     "execution_count": 123,
     "metadata": {},
     "output_type": "execute_result"
    }
   ],
   "source": [
    "tuples = [('A','a'),('A','b'),('B','a'),('B','b')]\n",
    "mul_index = pd.MultiIndex.from_tuples(tuples, names=('Upper', 'Lower'))\n",
    "mul_index"
   ]
  },
  {
   "cell_type": "code",
   "execution_count": 124,
   "metadata": {
    "pycharm": {
     "name": "#%%\n"
    }
   },
   "outputs": [
    {
     "data": {
      "text/plain": "               Score\nUpper Lower         \nA     a      perfect\n      b         good\nB     a         fair\n      b          bad",
      "text/html": "<div>\n<style scoped>\n    .dataframe tbody tr th:only-of-type {\n        vertical-align: middle;\n    }\n\n    .dataframe tbody tr th {\n        vertical-align: top;\n    }\n\n    .dataframe thead th {\n        text-align: right;\n    }\n</style>\n<table border=\"1\" class=\"dataframe\">\n  <thead>\n    <tr style=\"text-align: right;\">\n      <th></th>\n      <th></th>\n      <th>Score</th>\n    </tr>\n    <tr>\n      <th>Upper</th>\n      <th>Lower</th>\n      <th></th>\n    </tr>\n  </thead>\n  <tbody>\n    <tr>\n      <th rowspan=\"2\" valign=\"top\">A</th>\n      <th>a</th>\n      <td>perfect</td>\n    </tr>\n    <tr>\n      <th>b</th>\n      <td>good</td>\n    </tr>\n    <tr>\n      <th rowspan=\"2\" valign=\"top\">B</th>\n      <th>a</th>\n      <td>fair</td>\n    </tr>\n    <tr>\n      <th>b</th>\n      <td>bad</td>\n    </tr>\n  </tbody>\n</table>\n</div>"
     },
     "execution_count": 124,
     "metadata": {},
     "output_type": "execute_result"
    }
   ],
   "source": [
    "pd.DataFrame({'Score':['perfect','good','fair','bad']},index=mul_index)"
   ]
  },
  {
   "cell_type": "markdown",
   "metadata": {
    "pycharm": {
     "name": "#%% md\n"
    }
   },
   "source": [
    "#### ② 利用zip创建元组"
   ]
  },
  {
   "cell_type": "code",
   "execution_count": 125,
   "metadata": {
    "pycharm": {
     "name": "#%%\n"
    }
   },
   "outputs": [
    {
     "data": {
      "text/plain": "               Score\nUpper Lower         \nA     a      perfect\n      b         good\nB     a         fair\n      b          bad",
      "text/html": "<div>\n<style scoped>\n    .dataframe tbody tr th:only-of-type {\n        vertical-align: middle;\n    }\n\n    .dataframe tbody tr th {\n        vertical-align: top;\n    }\n\n    .dataframe thead th {\n        text-align: right;\n    }\n</style>\n<table border=\"1\" class=\"dataframe\">\n  <thead>\n    <tr style=\"text-align: right;\">\n      <th></th>\n      <th></th>\n      <th>Score</th>\n    </tr>\n    <tr>\n      <th>Upper</th>\n      <th>Lower</th>\n      <th></th>\n    </tr>\n  </thead>\n  <tbody>\n    <tr>\n      <th rowspan=\"2\" valign=\"top\">A</th>\n      <th>a</th>\n      <td>perfect</td>\n    </tr>\n    <tr>\n      <th>b</th>\n      <td>good</td>\n    </tr>\n    <tr>\n      <th rowspan=\"2\" valign=\"top\">B</th>\n      <th>a</th>\n      <td>fair</td>\n    </tr>\n    <tr>\n      <th>b</th>\n      <td>bad</td>\n    </tr>\n  </tbody>\n</table>\n</div>"
     },
     "execution_count": 125,
     "metadata": {},
     "output_type": "execute_result"
    }
   ],
   "source": [
    "L1 = list('AABB')\n",
    "L2 = list('abab')\n",
    "tuples = list(zip(L1,L2))\n",
    "mul_index = pd.MultiIndex.from_tuples(tuples, names=('Upper', 'Lower'))\n",
    "pd.DataFrame({'Score':['perfect','good','fair','bad']},index=mul_index)"
   ]
  },
  {
   "cell_type": "markdown",
   "metadata": {
    "pycharm": {
     "name": "#%% md\n"
    }
   },
   "source": [
    "#### ③ 通过Array创建"
   ]
  },
  {
   "cell_type": "code",
   "execution_count": 126,
   "metadata": {
    "pycharm": {
     "name": "#%%\n"
    }
   },
   "outputs": [
    {
     "data": {
      "text/plain": "               Score\nUpper Lower         \nA     a      perfect\n      b         good\nB     a         fair\n      b          bad",
      "text/html": "<div>\n<style scoped>\n    .dataframe tbody tr th:only-of-type {\n        vertical-align: middle;\n    }\n\n    .dataframe tbody tr th {\n        vertical-align: top;\n    }\n\n    .dataframe thead th {\n        text-align: right;\n    }\n</style>\n<table border=\"1\" class=\"dataframe\">\n  <thead>\n    <tr style=\"text-align: right;\">\n      <th></th>\n      <th></th>\n      <th>Score</th>\n    </tr>\n    <tr>\n      <th>Upper</th>\n      <th>Lower</th>\n      <th></th>\n    </tr>\n  </thead>\n  <tbody>\n    <tr>\n      <th rowspan=\"2\" valign=\"top\">A</th>\n      <th>a</th>\n      <td>perfect</td>\n    </tr>\n    <tr>\n      <th>b</th>\n      <td>good</td>\n    </tr>\n    <tr>\n      <th rowspan=\"2\" valign=\"top\">B</th>\n      <th>a</th>\n      <td>fair</td>\n    </tr>\n    <tr>\n      <th>b</th>\n      <td>bad</td>\n    </tr>\n  </tbody>\n</table>\n</div>"
     },
     "execution_count": 126,
     "metadata": {},
     "output_type": "execute_result"
    }
   ],
   "source": [
    "arrays = [['A','a'],['A','b'],['B','a'],['B','b']]\n",
    "mul_index = pd.MultiIndex.from_tuples(arrays, names=('Upper', 'Lower'))\n",
    "pd.DataFrame({'Score':['perfect','good','fair','bad']},index=mul_index)"
   ]
  },
  {
   "cell_type": "code",
   "execution_count": 127,
   "metadata": {
    "pycharm": {
     "name": "#%%\n"
    }
   },
   "outputs": [
    {
     "data": {
      "text/plain": "MultiIndex([('A', 'a'),\n            ('A', 'b'),\n            ('B', 'a'),\n            ('B', 'b')],\n           names=['Upper', 'Lower'])"
     },
     "execution_count": 127,
     "metadata": {},
     "output_type": "execute_result"
    }
   ],
   "source": [
    "mul_index\n",
    "#由此看出内部自动转成元组"
   ]
  },
  {
   "cell_type": "markdown",
   "metadata": {
    "pycharm": {
     "name": "#%% md\n"
    }
   },
   "source": [
    "#### （b）通过from_product"
   ]
  },
  {
   "cell_type": "code",
   "execution_count": 128,
   "metadata": {
    "pycharm": {
     "name": "#%%\n"
    }
   },
   "outputs": [
    {
     "data": {
      "text/plain": "MultiIndex([('A', 'a'),\n            ('A', 'b'),\n            ('B', 'a'),\n            ('B', 'b')],\n           names=['Upper', 'Lower'])"
     },
     "execution_count": 128,
     "metadata": {},
     "output_type": "execute_result"
    }
   ],
   "source": [
    "L1 = ['A','B']\n",
    "L2 = ['a','b']\n",
    "pd.MultiIndex.from_product([L1,L2],names=('Upper', 'Lower'))\n",
    "#两两相乘"
   ]
  },
  {
   "cell_type": "markdown",
   "metadata": {
    "pycharm": {
     "name": "#%% md\n"
    }
   },
   "source": [
    "#### （c）指定df中的列创建（set_index方法）"
   ]
  },
  {
   "cell_type": "code",
   "execution_count": 129,
   "metadata": {
    "pycharm": {
     "name": "#%%\n"
    }
   },
   "outputs": [
    {
     "ename": "KeyError",
     "evalue": "\"None of ['Class'] are in the columns\"",
     "output_type": "error",
     "traceback": [
      "\u001B[1;31m---------------------------------------------------------------------------\u001B[0m",
      "\u001B[1;31mKeyError\u001B[0m                                  Traceback (most recent call last)",
      "Cell \u001B[1;32mIn [129], line 1\u001B[0m\n\u001B[1;32m----> 1\u001B[0m df_using_mul \u001B[38;5;241m=\u001B[39m \u001B[43mdf\u001B[49m\u001B[38;5;241;43m.\u001B[39;49m\u001B[43mset_index\u001B[49m\u001B[43m(\u001B[49m\u001B[43m[\u001B[49m\u001B[38;5;124;43m'\u001B[39;49m\u001B[38;5;124;43mClass\u001B[39;49m\u001B[38;5;124;43m'\u001B[39;49m\u001B[43m,\u001B[49m\u001B[38;5;124;43m'\u001B[39;49m\u001B[38;5;124;43m地址\u001B[39;49m\u001B[38;5;124;43m'\u001B[39;49m\u001B[43m]\u001B[49m\u001B[43m)\u001B[49m\n\u001B[0;32m      2\u001B[0m df_using_mul\u001B[38;5;241m.\u001B[39mhead()\n",
      "File \u001B[1;32mD:\\Bing_John\\AppData\\Local\\Programs\\Python\\Python310\\lib\\site-packages\\pandas\\util\\_decorators.py:311\u001B[0m, in \u001B[0;36mdeprecate_nonkeyword_arguments.<locals>.decorate.<locals>.wrapper\u001B[1;34m(*args, **kwargs)\u001B[0m\n\u001B[0;32m    305\u001B[0m \u001B[38;5;28;01mif\u001B[39;00m \u001B[38;5;28mlen\u001B[39m(args) \u001B[38;5;241m>\u001B[39m num_allow_args:\n\u001B[0;32m    306\u001B[0m     warnings\u001B[38;5;241m.\u001B[39mwarn(\n\u001B[0;32m    307\u001B[0m         msg\u001B[38;5;241m.\u001B[39mformat(arguments\u001B[38;5;241m=\u001B[39marguments),\n\u001B[0;32m    308\u001B[0m         \u001B[38;5;167;01mFutureWarning\u001B[39;00m,\n\u001B[0;32m    309\u001B[0m         stacklevel\u001B[38;5;241m=\u001B[39mstacklevel,\n\u001B[0;32m    310\u001B[0m     )\n\u001B[1;32m--> 311\u001B[0m \u001B[38;5;28;01mreturn\u001B[39;00m func(\u001B[38;5;241m*\u001B[39margs, \u001B[38;5;241m*\u001B[39m\u001B[38;5;241m*\u001B[39mkwargs)\n",
      "File \u001B[1;32mD:\\Bing_John\\AppData\\Local\\Programs\\Python\\Python310\\lib\\site-packages\\pandas\\core\\frame.py:5503\u001B[0m, in \u001B[0;36mDataFrame.set_index\u001B[1;34m(self, keys, drop, append, inplace, verify_integrity)\u001B[0m\n\u001B[0;32m   5500\u001B[0m                 missing\u001B[38;5;241m.\u001B[39mappend(col)\n\u001B[0;32m   5502\u001B[0m \u001B[38;5;28;01mif\u001B[39;00m missing:\n\u001B[1;32m-> 5503\u001B[0m     \u001B[38;5;28;01mraise\u001B[39;00m \u001B[38;5;167;01mKeyError\u001B[39;00m(\u001B[38;5;124mf\u001B[39m\u001B[38;5;124m\"\u001B[39m\u001B[38;5;124mNone of \u001B[39m\u001B[38;5;132;01m{\u001B[39;00mmissing\u001B[38;5;132;01m}\u001B[39;00m\u001B[38;5;124m are in the columns\u001B[39m\u001B[38;5;124m\"\u001B[39m)\n\u001B[0;32m   5505\u001B[0m \u001B[38;5;28;01mif\u001B[39;00m inplace:\n\u001B[0;32m   5506\u001B[0m     frame \u001B[38;5;241m=\u001B[39m \u001B[38;5;28mself\u001B[39m\n",
      "\u001B[1;31mKeyError\u001B[0m: \"None of ['Class'] are in the columns\""
     ]
    }
   ],
   "source": [
    "df_using_mul = df.set_index(['Class','地址'])\n",
    "df_using_mul.head()"
   ]
  },
  {
   "cell_type": "markdown",
   "metadata": {
    "pycharm": {
     "name": "#%% md\n"
    }
   },
   "source": [
    "### 2. 多层索引切片"
   ]
  },
  {
   "cell_type": "code",
   "execution_count": null,
   "metadata": {
    "pycharm": {
     "name": "#%%\n"
    }
   },
   "outputs": [],
   "source": [
    "df_using_mul.head()"
   ]
  },
  {
   "cell_type": "markdown",
   "metadata": {
    "pycharm": {
     "name": "#%% md\n"
    }
   },
   "source": [
    "#### （a）一般切片"
   ]
  },
  {
   "cell_type": "code",
   "execution_count": null,
   "metadata": {
    "pycharm": {
     "name": "#%%\n"
    }
   },
   "outputs": [],
   "source": [
    "#df_using_mul.loc['C_2','street_5']\n",
    "#当索引不排序时，单个索引会报出性能警告\n",
    "#df_using_mul.index.is_lexsorted()\n",
    "#该函数检查是否排序\n",
    "df_using_mul.sort_index().loc['C_2','street_5']\n",
    "#df_using_mul.sort_index().index.is_lexsorted()"
   ]
  },
  {
   "cell_type": "code",
   "execution_count": null,
   "metadata": {
    "pycharm": {
     "name": "#%%\n"
    }
   },
   "outputs": [],
   "source": [
    "#df_using_mul.loc[('C_2','street_5'):] 报错\n",
    "#当不排序时，不能使用多层切片\n",
    "df_using_mul.sort_index().loc[('C_2','street_6'):('C_3','street_4')]\n",
    "#注意此处由于使用了loc，因此仍然包含右端点"
   ]
  },
  {
   "cell_type": "code",
   "execution_count": null,
   "metadata": {
    "pycharm": {
     "name": "#%%\n"
    }
   },
   "outputs": [],
   "source": [
    "df_using_mul.sort_index().loc[('C_2','street_7'):'C_3'].head()\n",
    "#非元组也是合法的，表示选中该层所有元素"
   ]
  },
  {
   "cell_type": "markdown",
   "metadata": {
    "pycharm": {
     "name": "#%% md\n"
    }
   },
   "source": [
    "#### （b）第一类特殊情况：由元组构成列表"
   ]
  },
  {
   "cell_type": "code",
   "execution_count": null,
   "metadata": {
    "pycharm": {
     "name": "#%%\n"
    }
   },
   "outputs": [],
   "source": [
    "df_using_mul.sort_index().loc[[('C_2','street_7'),('C_3','street_2')]]\n",
    "#表示选出某几个元素，精确到最内层索引"
   ]
  },
  {
   "cell_type": "markdown",
   "metadata": {
    "pycharm": {
     "name": "#%% md\n"
    }
   },
   "source": [
    "#### （c）第二类特殊情况：由列表构成元组"
   ]
  },
  {
   "cell_type": "code",
   "execution_count": null,
   "metadata": {
    "pycharm": {
     "name": "#%%\n"
    }
   },
   "outputs": [],
   "source": [
    "df_using_mul.sort_index().loc[(['C_2','C_3'],['street_4','street_7']),:]\n",
    "#选出第一层在‘C_2’和'C_3'中且第二层在'street_4'和'street_7'中的行"
   ]
  },
  {
   "cell_type": "markdown",
   "metadata": {
    "pycharm": {
     "name": "#%% md\n"
    }
   },
   "source": [
    "### 3. 多层索引中的slice对象"
   ]
  },
  {
   "cell_type": "code",
   "execution_count": null,
   "metadata": {
    "pycharm": {
     "name": "#%%\n"
    }
   },
   "outputs": [],
   "source": [
    "L1,L2 = ['A','B'],['a','b','c']\n",
    "mul_index1 = pd.MultiIndex.from_product([L1,L2],names=('Upper', 'Lower'))\n",
    "L3,L4 = ['D','E','F'],['d','e','f']\n",
    "mul_index2 = pd.MultiIndex.from_product([L3,L4],names=('Big', 'Small'))\n",
    "df_s = pd.DataFrame(np.random.rand(6,9),index=mul_index1,columns=mul_index2)\n",
    "df_s"
   ]
  },
  {
   "cell_type": "code",
   "execution_count": null,
   "metadata": {
    "pycharm": {
     "name": "#%%\n"
    }
   },
   "outputs": [],
   "source": [
    "idx=pd.IndexSlice"
   ]
  },
  {
   "cell_type": "markdown",
   "metadata": {
    "pycharm": {
     "name": "#%% md\n"
    }
   },
   "source": [
    "#### IndexSlice本质上是对多个Slice对象的包装"
   ]
  },
  {
   "cell_type": "code",
   "execution_count": null,
   "metadata": {
    "pycharm": {
     "name": "#%%\n"
    }
   },
   "outputs": [],
   "source": [
    "idx[1:9:2,'A':'C','start':'end':2]"
   ]
  },
  {
   "cell_type": "markdown",
   "metadata": {
    "pycharm": {
     "name": "#%% md\n"
    }
   },
   "source": [
    "#### 索引Slice可以与loc一起完成切片操作，主要有两种用法\n",
    "#### （a）loc[idx[\\*,\\*]]型\n",
    "#### 第一个星号表示行，第二个表示列，且使用布尔索引时，需要索引对齐"
   ]
  },
  {
   "cell_type": "code",
   "execution_count": null,
   "metadata": {
    "pycharm": {
     "name": "#%%\n"
    }
   },
   "outputs": [],
   "source": [
    "#例子1\n",
    "df_s.loc[idx['B':,df_s.iloc[0]>0.6]]\n",
    "#df_s.loc[idx['B':,df_s.iloc[:,0]>0.6]] #索引没有对齐报错"
   ]
  },
  {
   "cell_type": "code",
   "execution_count": null,
   "metadata": {
    "pycharm": {
     "name": "#%%\n"
    }
   },
   "outputs": [],
   "source": [
    "#例子2\n",
    "df_s.loc[idx[df_s.iloc[:,0]>0.6,:('E','f')]]"
   ]
  },
  {
   "cell_type": "markdown",
   "metadata": {
    "pycharm": {
     "name": "#%% md\n"
    }
   },
   "source": [
    "#### （b）loc[idx[\\*,\\*],idx[\\*,\\*]]型\n",
    "#### 这里与上面的区别在于（a）中的loc是没有逗号隔开的，但（b）是用逗号隔开，前面一个idx表示行索引，后面一个idx为列索引\n",
    "#### 这种用法非常灵活，因此多举几个例子方便理解"
   ]
  },
  {
   "cell_type": "code",
   "execution_count": null,
   "metadata": {
    "pycharm": {
     "name": "#%%\n"
    }
   },
   "outputs": [],
   "source": [
    "#例子1\n",
    "df_s.loc[idx['A'],idx['D':]]\n",
    "#后面的层出现，则前面的层必须出现\n",
    "#df_s.loc[idx['a'],idx['D':]] #报错"
   ]
  },
  {
   "cell_type": "code",
   "execution_count": null,
   "metadata": {
    "pycharm": {
     "name": "#%%\n"
    }
   },
   "outputs": [],
   "source": [
    "#例子2\n",
    "df_s.loc[idx[:'B','b':],:] #举这个例子是为了说明①可以在相应level使用切片②某一个idx可以用:代替表示全选"
   ]
  },
  {
   "cell_type": "code",
   "execution_count": null,
   "metadata": {
    "pycharm": {
     "name": "#%%\n"
    }
   },
   "outputs": [],
   "source": [
    "#例子3\n",
    "df_s.iloc[:,0]>0.6"
   ]
  },
  {
   "cell_type": "code",
   "execution_count": null,
   "metadata": {
    "pycharm": {
     "name": "#%%\n"
    }
   },
   "outputs": [],
   "source": [
    "df_s.loc[idx[:'B',df_s.iloc[:,0]>0.6],:] #这个例子表示相应位置还可以使用布尔索引"
   ]
  },
  {
   "cell_type": "code",
   "execution_count": null,
   "metadata": {
    "pycharm": {
     "name": "#%%\n"
    }
   },
   "outputs": [],
   "source": [
    "#例子4\n",
    "#特别要注意，（b）中的布尔索引是可以索引不对齐的，只需要长度一样，比如下面这个例子\n",
    "df_s.loc[idx[:'B',(df_s.iloc[0]>0.6)[:6]],:]"
   ]
  },
  {
   "cell_type": "code",
   "execution_count": null,
   "metadata": {
    "pycharm": {
     "name": "#%%\n"
    }
   },
   "outputs": [],
   "source": [
    "#例子5\n",
    "df_s.loc[idx[:'B','c':,(df_s.iloc[:,0]>0.6)],:]\n",
    "#idx中层数k1大于df层数k2时，idx前k2个参数若相应位置是元素或者元素切片，则表示相应df层的元素筛选，同时也可以选择用同长度bool序列\n",
    "#idx后面多出来的参数只能选择同bool序列，这样设计的目的是可以将元素筛选和条件筛选同时运用"
   ]
  },
  {
   "cell_type": "code",
   "execution_count": null,
   "metadata": {
    "pycharm": {
     "name": "#%%\n"
    }
   },
   "outputs": [],
   "source": [
    "#例子6\n",
    "df_s.loc[idx[:'B',(df_s.iloc[:,0]>0.6),(df_s.iloc[:,0]>0.6)],:] #这个就不是元素筛选而是条件筛选\n",
    "#df_s.loc[idx[:'B',(df_s.iloc[:,0]>0.6),'c',:]] #报错\n",
    "#df_s.loc[idx[:'c','B',(df_s.iloc[:,0]>0.6),:]] #报错"
   ]
  },
  {
   "cell_type": "markdown",
   "metadata": {
    "pycharm": {
     "name": "#%% md\n"
    }
   },
   "source": [
    "### 4. 索引层的交换\n",
    "#### （a）swaplevel方法（两层交换）"
   ]
  },
  {
   "cell_type": "code",
   "execution_count": null,
   "metadata": {
    "pycharm": {
     "name": "#%%\n"
    }
   },
   "outputs": [],
   "source": [
    "df_using_mul.head()"
   ]
  },
  {
   "cell_type": "code",
   "execution_count": null,
   "metadata": {
    "pycharm": {
     "name": "#%%\n"
    }
   },
   "outputs": [],
   "source": [
    "df_using_mul.swaplevel(i=1,j=0,axis=0).sort_index().head()"
   ]
  },
  {
   "cell_type": "markdown",
   "metadata": {
    "pycharm": {
     "name": "#%% md\n"
    }
   },
   "source": [
    "#### （b）reorder_levels方法（多层交换）"
   ]
  },
  {
   "cell_type": "code",
   "execution_count": null,
   "metadata": {
    "pycharm": {
     "name": "#%%\n"
    }
   },
   "outputs": [],
   "source": [
    "df_muls = df.set_index(['学校','Class','地址'])\n",
    "df_muls.head()"
   ]
  },
  {
   "cell_type": "code",
   "execution_count": null,
   "metadata": {
    "pycharm": {
     "name": "#%%\n"
    }
   },
   "outputs": [],
   "source": [
    "df_muls.reorder_levels([2,0,1],axis=0).sort_index().head()"
   ]
  },
  {
   "cell_type": "code",
   "execution_count": null,
   "metadata": {
    "pycharm": {
     "name": "#%%\n"
    }
   },
   "outputs": [],
   "source": [
    "#如果索引有name，可以直接使用name\n",
    "df_muls.reorder_levels(['地址','学校','Class'],axis=0).sort_index().head()"
   ]
  },
  {
   "cell_type": "markdown",
   "metadata": {
    "pycharm": {
     "name": "#%% md\n"
    }
   },
   "source": [
    "## 三、索引设定\n",
    "### 1. index_col参数\n",
    "#### index_col是read_csv中的一个参数，而不是某一个方法："
   ]
  },
  {
   "cell_type": "code",
   "execution_count": null,
   "metadata": {
    "pycharm": {
     "name": "#%%\n"
    }
   },
   "outputs": [],
   "source": [
    "pd.read_csv('data/table.csv',index_col=['地址','学校']).head()"
   ]
  },
  {
   "cell_type": "markdown",
   "metadata": {
    "pycharm": {
     "name": "#%% md\n"
    }
   },
   "source": [
    "### 2. reindex和reindex_like\n",
    "#### reindex是指重新索引，它的重要特性在于索引对齐，很多时候用于重新排序"
   ]
  },
  {
   "cell_type": "code",
   "execution_count": null,
   "metadata": {
    "pycharm": {
     "name": "#%%\n"
    }
   },
   "outputs": [],
   "source": [
    "df.head()"
   ]
  },
  {
   "cell_type": "code",
   "execution_count": null,
   "metadata": {
    "pycharm": {
     "name": "#%%\n"
    }
   },
   "outputs": [],
   "source": [
    "df.reindex(index=[1101,1203,1206,2402])"
   ]
  },
  {
   "cell_type": "code",
   "execution_count": null,
   "metadata": {
    "pycharm": {
     "name": "#%%\n"
    }
   },
   "outputs": [],
   "source": [
    "df.reindex(columns=['身高','性别','Average']).head()"
   ]
  },
  {
   "cell_type": "markdown",
   "metadata": {
    "pycharm": {
     "name": "#%% md\n"
    }
   },
   "source": [
    "#### 可以选择缺失值的填充方法：fill_value和method（bfill/ffill/nearest），其中method参数必须索引单调"
   ]
  },
  {
   "cell_type": "code",
   "execution_count": null,
   "metadata": {
    "pycharm": {
     "name": "#%%\n"
    }
   },
   "outputs": [],
   "source": [
    "df.reindex(index=[1101,1203,1206,2402],method='bfill')\n",
    "#这里的单调是指df必须索引经过排序，否则报错\n",
    "#bfill表示用所在索引1206的后一个有效行填充，ffill为前一个有效行，nearest是指最近的"
   ]
  },
  {
   "cell_type": "code",
   "execution_count": null,
   "metadata": {
    "pycharm": {
     "name": "#%%\n"
    }
   },
   "outputs": [],
   "source": [
    "df.reindex(index=[1101,1203,1206,2402],method='nearest')\n",
    "#数值上1205比1301更接近1206，因此用前者填充"
   ]
  },
  {
   "cell_type": "markdown",
   "metadata": {
    "pycharm": {
     "name": "#%% md\n"
    }
   },
   "source": [
    "#### reindex_like的作用为生成一个横纵索引完全与参数列表一致的DataFrame，数据使用被调用的表"
   ]
  },
  {
   "cell_type": "code",
   "execution_count": null,
   "metadata": {
    "pycharm": {
     "name": "#%%\n"
    }
   },
   "outputs": [],
   "source": [
    "df_temp = pd.DataFrame({'Weight':np.zeros(5),\n",
    "                        '身高':np.zeros(5),\n",
    "                        'ID':[1101,1104,1103,1106,1102]}).set_index('ID')\n",
    "df_temp.reindex_like(df[0:5][['Weight','身高']])"
   ]
  },
  {
   "cell_type": "markdown",
   "metadata": {
    "pycharm": {
     "name": "#%% md\n"
    }
   },
   "source": [
    "#### 如果df_temp单调还可以使用method参数："
   ]
  },
  {
   "cell_type": "code",
   "execution_count": null,
   "metadata": {
    "pycharm": {
     "name": "#%%\n"
    }
   },
   "outputs": [],
   "source": [
    "df_temp = pd.DataFrame({'Weight':range(5),\n",
    "                        '身高':range(5),\n",
    "                        'ID':[1101,1104,1103,1106,1102]}).set_index('ID').sort_index()\n",
    "df_temp.reindex_like(df[0:5][['Weight','身高']],method='bfill')\n",
    "#可以自行检验这里的1105的值是否是由bfill规则填充"
   ]
  },
  {
   "cell_type": "markdown",
   "metadata": {
    "pycharm": {
     "name": "#%% md\n"
    }
   },
   "source": [
    "### 3. set_index和reset_index\n",
    "#### 先介绍set_index：从字面意思看，就是将某些列作为索引"
   ]
  },
  {
   "cell_type": "markdown",
   "metadata": {
    "pycharm": {
     "name": "#%% md\n"
    }
   },
   "source": [
    "#### 使用表内列作为索引："
   ]
  },
  {
   "cell_type": "code",
   "execution_count": null,
   "metadata": {
    "pycharm": {
     "name": "#%%\n"
    }
   },
   "outputs": [],
   "source": [
    "df.head()"
   ]
  },
  {
   "cell_type": "code",
   "execution_count": null,
   "metadata": {
    "pycharm": {
     "name": "#%%\n"
    }
   },
   "outputs": [],
   "source": [
    "df.set_index('Class').head()"
   ]
  },
  {
   "cell_type": "markdown",
   "metadata": {
    "pycharm": {
     "name": "#%% md\n"
    }
   },
   "source": [
    "#### 利用append参数可以将当前索引维持不变"
   ]
  },
  {
   "cell_type": "code",
   "execution_count": null,
   "metadata": {
    "pycharm": {
     "name": "#%%\n"
    }
   },
   "outputs": [],
   "source": [
    "df.set_index('Class',append=True).head()"
   ]
  },
  {
   "cell_type": "markdown",
   "metadata": {
    "pycharm": {
     "name": "#%% md\n"
    }
   },
   "source": [
    "#### 当使用与表长相同的列作为索引（需要先转化为Series，否则报错）："
   ]
  },
  {
   "cell_type": "code",
   "execution_count": null,
   "metadata": {
    "pycharm": {
     "name": "#%%\n"
    }
   },
   "outputs": [],
   "source": [
    "df.set_index(pd.Series(range(df.shape[0]))).head()"
   ]
  },
  {
   "cell_type": "markdown",
   "metadata": {
    "pycharm": {
     "name": "#%% md\n"
    }
   },
   "source": [
    "#### 可以直接添加多级索引："
   ]
  },
  {
   "cell_type": "code",
   "execution_count": null,
   "metadata": {
    "pycharm": {
     "name": "#%%\n"
    }
   },
   "outputs": [],
   "source": [
    "df.set_index([pd.Series(range(df.shape[0])),pd.Series(np.ones(df.shape[0]))]).head()"
   ]
  },
  {
   "cell_type": "markdown",
   "metadata": {
    "pycharm": {
     "name": "#%% md\n"
    }
   },
   "source": [
    "#### 下面介绍reset_index方法，它的主要功能是将索引重置\n",
    "#### 默认状态直接恢复到自然数索引："
   ]
  },
  {
   "cell_type": "code",
   "execution_count": null,
   "metadata": {
    "pycharm": {
     "name": "#%%\n"
    }
   },
   "outputs": [],
   "source": [
    "df.reset_index().head()"
   ]
  },
  {
   "cell_type": "markdown",
   "metadata": {
    "pycharm": {
     "name": "#%% md\n"
    }
   },
   "source": [
    "#### 用level参数指定哪一层被reset，用col_level参数指定set到哪一层："
   ]
  },
  {
   "cell_type": "code",
   "execution_count": null,
   "metadata": {
    "pycharm": {
     "name": "#%%\n"
    }
   },
   "outputs": [],
   "source": [
    "L1,L2 = ['A','B','C'],['a','b','c']\n",
    "mul_index1 = pd.MultiIndex.from_product([L1,L2],names=('Upper', 'Lower'))\n",
    "L3,L4 = ['D','E','F'],['d','e','f']\n",
    "mul_index2 = pd.MultiIndex.from_product([L3,L4],names=('Big', 'Small'))\n",
    "df_temp = pd.DataFrame(np.random.rand(9,9),index=mul_index1,columns=mul_index2)\n",
    "df_temp.head()"
   ]
  },
  {
   "cell_type": "code",
   "execution_count": null,
   "metadata": {
    "pycharm": {
     "name": "#%%\n"
    }
   },
   "outputs": [],
   "source": [
    "df_temp1 = df_temp.reset_index(level=1,col_level=1)\n",
    "df_temp1.head()"
   ]
  },
  {
   "cell_type": "code",
   "execution_count": null,
   "metadata": {
    "pycharm": {
     "name": "#%%\n"
    }
   },
   "outputs": [],
   "source": [
    "df_temp1.columns\n",
    "#看到的确插入了level2"
   ]
  },
  {
   "cell_type": "code",
   "execution_count": null,
   "metadata": {
    "pycharm": {
     "name": "#%%\n"
    }
   },
   "outputs": [],
   "source": [
    "df_temp1.index\n",
    "#最内层索引被移出"
   ]
  },
  {
   "cell_type": "markdown",
   "metadata": {
    "pycharm": {
     "name": "#%% md\n"
    }
   },
   "source": [
    "### 4. rename_axis和rename\n",
    "#### rename_axis是针对多级索引的方法，作用是修改某一层的索引名，而不是索引标签"
   ]
  },
  {
   "cell_type": "code",
   "execution_count": null,
   "metadata": {
    "pycharm": {
     "name": "#%%\n"
    }
   },
   "outputs": [],
   "source": [
    "df_temp.rename_axis(index={'Lower':'LowerLower'},columns={'Big':'BigBig'})"
   ]
  },
  {
   "cell_type": "markdown",
   "metadata": {
    "pycharm": {
     "name": "#%% md\n"
    }
   },
   "source": [
    "#### rename方法用于修改列或者行索引标签，而不是索引名："
   ]
  },
  {
   "cell_type": "code",
   "execution_count": null,
   "metadata": {
    "pycharm": {
     "name": "#%%\n"
    }
   },
   "outputs": [],
   "source": [
    "df_temp.rename(index={'A':'T'},columns={'e':'changed_e'}).head()"
   ]
  },
  {
   "cell_type": "markdown",
   "metadata": {
    "pycharm": {
     "name": "#%% md\n"
    }
   },
   "source": [
    "## 四、常用索引型函数\n",
    "### 1. where函数\n",
    "#### 当对条件为False的单元进行填充："
   ]
  },
  {
   "cell_type": "code",
   "execution_count": null,
   "metadata": {
    "pycharm": {
     "name": "#%%\n"
    }
   },
   "outputs": [],
   "source": [
    "df.head()"
   ]
  },
  {
   "cell_type": "code",
   "execution_count": null,
   "metadata": {
    "pycharm": {
     "name": "#%%\n"
    }
   },
   "outputs": [],
   "source": [
    "df.where(df['性别']=='M').head()\n",
    "#不满足条件的行全部被设置为NaN"
   ]
  },
  {
   "cell_type": "markdown",
   "metadata": {
    "pycharm": {
     "name": "#%% md\n"
    }
   },
   "source": [
    "#### 通过这种方法筛选结果和[]操作符的结果完全一致："
   ]
  },
  {
   "cell_type": "code",
   "execution_count": null,
   "metadata": {
    "pycharm": {
     "name": "#%%\n"
    }
   },
   "outputs": [],
   "source": [
    "df.where(df['性别']=='M').dropna().head()"
   ]
  },
  {
   "cell_type": "markdown",
   "metadata": {
    "pycharm": {
     "name": "#%% md\n"
    }
   },
   "source": [
    "#### 第一个参数为布尔条件，第二个参数为填充值："
   ]
  },
  {
   "cell_type": "code",
   "execution_count": null,
   "metadata": {
    "pycharm": {
     "name": "#%%\n"
    }
   },
   "outputs": [],
   "source": [
    "df.where(df['性别']=='M',np.random.rand(df.shape[0],df.shape[1])).head()"
   ]
  },
  {
   "cell_type": "markdown",
   "metadata": {
    "pycharm": {
     "name": "#%% md\n"
    }
   },
   "source": [
    "### 2. mask函数\n",
    "#### mask函数与where功能上相反，其余完全一致，即对条件为True的单元进行填充"
   ]
  },
  {
   "cell_type": "code",
   "execution_count": null,
   "metadata": {
    "pycharm": {
     "name": "#%%\n"
    }
   },
   "outputs": [],
   "source": [
    "df.mask(df['性别']=='M').dropna().head()"
   ]
  },
  {
   "cell_type": "code",
   "execution_count": null,
   "metadata": {
    "pycharm": {
     "name": "#%%\n"
    }
   },
   "outputs": [],
   "source": [
    "df.mask(df['性别']=='M',np.random.rand(df.shape[0],df.shape[1])).head()"
   ]
  },
  {
   "cell_type": "markdown",
   "metadata": {
    "pycharm": {
     "name": "#%% md\n"
    }
   },
   "source": [
    "### 3. query函数"
   ]
  },
  {
   "cell_type": "code",
   "execution_count": null,
   "metadata": {
    "pycharm": {
     "name": "#%%\n"
    }
   },
   "outputs": [],
   "source": [
    "df.head()"
   ]
  },
  {
   "cell_type": "markdown",
   "metadata": {
    "pycharm": {
     "name": "#%% md\n"
    }
   },
   "source": [
    "#### query函数中的布尔表达式中，下面的符号都是合法的：行列索引名、字符串、and/not/or/&/|/~/not in/in/==/!=、四则运算符"
   ]
  },
  {
   "cell_type": "code",
   "execution_count": null,
   "metadata": {
    "pycharm": {
     "name": "#%%\n"
    }
   },
   "outputs": [],
   "source": [
    "df.query('(地址 in [\"street_6\",\"street_7\"])&(Weight>(70+10))&(ID in [1303,2304,2402])')"
   ]
  },
  {
   "cell_type": "markdown",
   "metadata": {
    "pycharm": {
     "name": "#%% md\n"
    }
   },
   "source": [
    "## 五、重复元素处理\n",
    "### 1. duplicated方法\n",
    "#### 该方法返回了是否重复的布尔列表"
   ]
  },
  {
   "cell_type": "code",
   "execution_count": null,
   "metadata": {
    "pycharm": {
     "name": "#%%\n"
    }
   },
   "outputs": [],
   "source": [
    "df.duplicated('Class').head()"
   ]
  },
  {
   "cell_type": "markdown",
   "metadata": {
    "pycharm": {
     "name": "#%% md\n"
    }
   },
   "source": [
    "#### 可选参数keep默认为first，即首次出现设为不重复，若为last，则最后一次设为不重复，若为False，则所有重复项为True"
   ]
  },
  {
   "cell_type": "code",
   "execution_count": null,
   "metadata": {
    "pycharm": {
     "name": "#%%\n"
    }
   },
   "outputs": [],
   "source": [
    "df.duplicated('Class',keep='last').tail()"
   ]
  },
  {
   "cell_type": "code",
   "execution_count": null,
   "metadata": {
    "pycharm": {
     "name": "#%%\n"
    }
   },
   "outputs": [],
   "source": [
    "df.duplicated('Class',keep=False).head()"
   ]
  },
  {
   "cell_type": "markdown",
   "metadata": {
    "pycharm": {
     "name": "#%% md\n"
    }
   },
   "source": [
    "### 2. drop_duplicates方法\n",
    "#### 从名字上看出为剔除重复项，这在后面章节中的分组操作中可能是有用的，例如需要保留每组的第一个值："
   ]
  },
  {
   "cell_type": "code",
   "execution_count": null,
   "metadata": {
    "pycharm": {
     "name": "#%%\n"
    }
   },
   "outputs": [],
   "source": [
    "df.drop_duplicates('Class')"
   ]
  },
  {
   "cell_type": "markdown",
   "metadata": {
    "pycharm": {
     "name": "#%% md\n"
    }
   },
   "source": [
    "#### 参数与duplicate函数类似："
   ]
  },
  {
   "cell_type": "code",
   "execution_count": null,
   "metadata": {
    "pycharm": {
     "name": "#%%\n"
    }
   },
   "outputs": [],
   "source": [
    "df.drop_duplicates('Class',keep='last')"
   ]
  },
  {
   "cell_type": "markdown",
   "metadata": {
    "pycharm": {
     "name": "#%% md\n"
    }
   },
   "source": [
    "#### 在传入多列时等价于将多列共同视作一个多级索引，比较重复项："
   ]
  },
  {
   "cell_type": "code",
   "execution_count": null,
   "metadata": {
    "pycharm": {
     "name": "#%%\n"
    }
   },
   "outputs": [],
   "source": [
    "df.drop_duplicates(['学校','Class'])"
   ]
  },
  {
   "cell_type": "markdown",
   "metadata": {
    "pycharm": {
     "name": "#%% md\n"
    }
   },
   "source": [
    "## 六、抽样函数\n",
    "#### 这里的抽样函数指的就是sample函数\n",
    "#### （a）n为样本量"
   ]
  },
  {
   "cell_type": "code",
   "execution_count": null,
   "metadata": {
    "pycharm": {
     "name": "#%%\n"
    }
   },
   "outputs": [],
   "source": [
    "df.sample(n=5)"
   ]
  },
  {
   "cell_type": "markdown",
   "metadata": {
    "pycharm": {
     "name": "#%% md\n"
    }
   },
   "source": [
    "#### （b）frac为抽样比"
   ]
  },
  {
   "cell_type": "code",
   "execution_count": null,
   "metadata": {
    "pycharm": {
     "name": "#%%\n"
    }
   },
   "outputs": [],
   "source": [
    "df.sample(frac=0.05)"
   ]
  },
  {
   "cell_type": "markdown",
   "metadata": {
    "pycharm": {
     "name": "#%% md\n"
    }
   },
   "source": [
    "#### （c）replace为是否放回"
   ]
  },
  {
   "cell_type": "code",
   "execution_count": null,
   "metadata": {
    "pycharm": {
     "name": "#%%\n"
    }
   },
   "outputs": [],
   "source": [
    "df.sample(n=df.shape[0],replace=True).head()"
   ]
  },
  {
   "cell_type": "code",
   "execution_count": null,
   "metadata": {
    "pycharm": {
     "name": "#%%\n"
    }
   },
   "outputs": [],
   "source": [
    "df.sample(n=35,replace=True).index.is_unique"
   ]
  },
  {
   "cell_type": "markdown",
   "metadata": {
    "pycharm": {
     "name": "#%% md\n"
    }
   },
   "source": [
    "#### （d）axis为抽样维度，默认为0，即抽行"
   ]
  },
  {
   "cell_type": "code",
   "execution_count": null,
   "metadata": {
    "pycharm": {
     "name": "#%%\n"
    }
   },
   "outputs": [],
   "source": [
    "df.sample(n=3,axis=1).head()"
   ]
  },
  {
   "cell_type": "markdown",
   "metadata": {
    "pycharm": {
     "name": "#%% md\n"
    }
   },
   "source": [
    "#### （e）weights为样本权重，自动归一化"
   ]
  },
  {
   "cell_type": "code",
   "execution_count": null,
   "metadata": {
    "pycharm": {
     "name": "#%%\n"
    }
   },
   "outputs": [],
   "source": [
    "df.sample(n=3,weights=np.random.rand(df.shape[0])).head()"
   ]
  },
  {
   "cell_type": "code",
   "execution_count": null,
   "metadata": {
    "pycharm": {
     "name": "#%%\n"
    }
   },
   "outputs": [],
   "source": [
    "#以某一列为权重，这在抽样理论中很常见\n",
    "#抽到的概率与数学成绩数值成正比\n",
    "df.sample(n=3,weights=df['数学成绩']).head()"
   ]
  }
 ],
 "metadata": {
  "kernelspec": {
   "display_name": "Python 3.9.7 ('base')",
   "language": "python",
   "name": "python3"
  },
  "language_info": {
   "codemirror_mode": {
    "name": "ipython",
    "version": 3
   },
   "file_extension": ".py",
   "mimetype": "text/x-python",
   "name": "python",
   "nbconvert_exporter": "python",
   "pygments_lexer": "ipython3",
   "version": "3.9.7"
  },
  "vscode": {
   "interpreter": {
    "hash": "68908377ed95d7c3d4e1905f72b5c03e8b8f9a308e79edcfb0aafe2172e16c29"
   }
  }
 },
 "nbformat": 4,
 "nbformat_minor": 4
}