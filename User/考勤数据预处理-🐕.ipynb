{
 "cells": [
  {
   "cell_type": "code",
   "execution_count": 1,
   "metadata": {
    "pycharm": {
     "name": "#%%\n"
    }
   },
   "outputs": [],
   "source": [
    "import pandas as pd\n",
    "import os\n",
    "import re"
   ]
  },
  {
   "cell_type": "code",
   "execution_count": 2,
   "metadata": {
    "pycharm": {
     "name": "#%%\n"
    }
   },
   "outputs": [
    {
     "data": {
      "text/plain": "['2022年5月18日5楼第1节课考勤表.xlsx',\n '2022年5月18日5楼第3节课考勤表.xlsx',\n '2022年5月18日5楼第5节课考勤表.xlsx',\n '2022年5月19日5楼第1节课考勤表.xlsx',\n '2022年5月19日5楼第3节课考勤表.xlsx']"
     },
     "execution_count": 2,
     "metadata": {},
     "output_type": "execute_result"
    }
   ],
   "source": [
    "path = r'./Data/inputData/考勤数据/'\n",
    "files = os.listdir(path)\n",
    "files[:5]"
   ]
  },
  {
   "cell_type": "code",
   "execution_count": 3,
   "metadata": {
    "pycharm": {
     "name": "#%%\n"
    }
   },
   "outputs": [],
   "source": [
    "# 使用正则从文件名中解析出‘日期’、‘几楼’、‘第几节课’\n",
    "def get_data(file_name):\n",
    "    # 构建正则\n",
    "    search_obj = re.search(r'(.*)日(.*)第(.*)考', file_name)\n",
    "\n",
    "    data = {'data':search_obj.group(1) + '日', 'room':search_obj.group(2), 'class_num':search_obj.group(3)}\n",
    "\n",
    "    return data"
   ]
  },
  {
   "cell_type": "code",
   "execution_count": 4,
   "metadata": {
    "pycharm": {
     "name": "#%%\n"
    }
   },
   "outputs": [
    {
     "name": "stderr",
     "output_type": "stream",
     "text": [
      "C:\\Users\\Bing_John\\AppData\\Local\\Temp\\ipykernel_18424\\725322139.py:15: FutureWarning: The frame.append method is deprecated and will be removed from pandas in a future version. Use pandas.concat instead.\n",
      "  result_pd = result_pd.append(excel_df)\n",
      "C:\\Users\\Bing_John\\AppData\\Local\\Temp\\ipykernel_18424\\725322139.py:15: FutureWarning: The frame.append method is deprecated and will be removed from pandas in a future version. Use pandas.concat instead.\n",
      "  result_pd = result_pd.append(excel_df)\n",
      "C:\\Users\\Bing_John\\AppData\\Local\\Temp\\ipykernel_18424\\725322139.py:15: FutureWarning: The frame.append method is deprecated and will be removed from pandas in a future version. Use pandas.concat instead.\n",
      "  result_pd = result_pd.append(excel_df)\n",
      "C:\\Users\\Bing_John\\AppData\\Local\\Temp\\ipykernel_18424\\725322139.py:15: FutureWarning: The frame.append method is deprecated and will be removed from pandas in a future version. Use pandas.concat instead.\n",
      "  result_pd = result_pd.append(excel_df)\n",
      "C:\\Users\\Bing_John\\AppData\\Local\\Temp\\ipykernel_18424\\725322139.py:15: FutureWarning: The frame.append method is deprecated and will be removed from pandas in a future version. Use pandas.concat instead.\n",
      "  result_pd = result_pd.append(excel_df)\n",
      "C:\\Users\\Bing_John\\AppData\\Local\\Temp\\ipykernel_18424\\725322139.py:15: FutureWarning: The frame.append method is deprecated and will be removed from pandas in a future version. Use pandas.concat instead.\n",
      "  result_pd = result_pd.append(excel_df)\n",
      "C:\\Users\\Bing_John\\AppData\\Local\\Temp\\ipykernel_18424\\725322139.py:15: FutureWarning: The frame.append method is deprecated and will be removed from pandas in a future version. Use pandas.concat instead.\n",
      "  result_pd = result_pd.append(excel_df)\n",
      "C:\\Users\\Bing_John\\AppData\\Local\\Temp\\ipykernel_18424\\725322139.py:15: FutureWarning: The frame.append method is deprecated and will be removed from pandas in a future version. Use pandas.concat instead.\n",
      "  result_pd = result_pd.append(excel_df)\n",
      "C:\\Users\\Bing_John\\AppData\\Local\\Temp\\ipykernel_18424\\725322139.py:15: FutureWarning: The frame.append method is deprecated and will be removed from pandas in a future version. Use pandas.concat instead.\n",
      "  result_pd = result_pd.append(excel_df)\n",
      "C:\\Users\\Bing_John\\AppData\\Local\\Temp\\ipykernel_18424\\725322139.py:15: FutureWarning: The frame.append method is deprecated and will be removed from pandas in a future version. Use pandas.concat instead.\n",
      "  result_pd = result_pd.append(excel_df)\n",
      "C:\\Users\\Bing_John\\AppData\\Local\\Temp\\ipykernel_18424\\725322139.py:15: FutureWarning: The frame.append method is deprecated and will be removed from pandas in a future version. Use pandas.concat instead.\n",
      "  result_pd = result_pd.append(excel_df)\n",
      "C:\\Users\\Bing_John\\AppData\\Local\\Temp\\ipykernel_18424\\725322139.py:15: FutureWarning: The frame.append method is deprecated and will be removed from pandas in a future version. Use pandas.concat instead.\n",
      "  result_pd = result_pd.append(excel_df)\n",
      "C:\\Users\\Bing_John\\AppData\\Local\\Temp\\ipykernel_18424\\725322139.py:15: FutureWarning: The frame.append method is deprecated and will be removed from pandas in a future version. Use pandas.concat instead.\n",
      "  result_pd = result_pd.append(excel_df)\n",
      "C:\\Users\\Bing_John\\AppData\\Local\\Temp\\ipykernel_18424\\725322139.py:15: FutureWarning: The frame.append method is deprecated and will be removed from pandas in a future version. Use pandas.concat instead.\n",
      "  result_pd = result_pd.append(excel_df)\n",
      "C:\\Users\\Bing_John\\AppData\\Local\\Temp\\ipykernel_18424\\725322139.py:15: FutureWarning: The frame.append method is deprecated and will be removed from pandas in a future version. Use pandas.concat instead.\n",
      "  result_pd = result_pd.append(excel_df)\n",
      "C:\\Users\\Bing_John\\AppData\\Local\\Temp\\ipykernel_18424\\725322139.py:15: FutureWarning: The frame.append method is deprecated and will be removed from pandas in a future version. Use pandas.concat instead.\n",
      "  result_pd = result_pd.append(excel_df)\n",
      "C:\\Users\\Bing_John\\AppData\\Local\\Temp\\ipykernel_18424\\725322139.py:15: FutureWarning: The frame.append method is deprecated and will be removed from pandas in a future version. Use pandas.concat instead.\n",
      "  result_pd = result_pd.append(excel_df)\n",
      "C:\\Users\\Bing_John\\AppData\\Local\\Temp\\ipykernel_18424\\725322139.py:15: FutureWarning: The frame.append method is deprecated and will be removed from pandas in a future version. Use pandas.concat instead.\n",
      "  result_pd = result_pd.append(excel_df)\n",
      "C:\\Users\\Bing_John\\AppData\\Local\\Temp\\ipykernel_18424\\725322139.py:15: FutureWarning: The frame.append method is deprecated and will be removed from pandas in a future version. Use pandas.concat instead.\n",
      "  result_pd = result_pd.append(excel_df)\n",
      "C:\\Users\\Bing_John\\AppData\\Local\\Temp\\ipykernel_18424\\725322139.py:15: FutureWarning: The frame.append method is deprecated and will be removed from pandas in a future version. Use pandas.concat instead.\n",
      "  result_pd = result_pd.append(excel_df)\n",
      "C:\\Users\\Bing_John\\AppData\\Local\\Temp\\ipykernel_18424\\725322139.py:15: FutureWarning: The frame.append method is deprecated and will be removed from pandas in a future version. Use pandas.concat instead.\n",
      "  result_pd = result_pd.append(excel_df)\n",
      "C:\\Users\\Bing_John\\AppData\\Local\\Temp\\ipykernel_18424\\725322139.py:15: FutureWarning: The frame.append method is deprecated and will be removed from pandas in a future version. Use pandas.concat instead.\n",
      "  result_pd = result_pd.append(excel_df)\n",
      "C:\\Users\\Bing_John\\AppData\\Local\\Temp\\ipykernel_18424\\725322139.py:15: FutureWarning: The frame.append method is deprecated and will be removed from pandas in a future version. Use pandas.concat instead.\n",
      "  result_pd = result_pd.append(excel_df)\n",
      "C:\\Users\\Bing_John\\AppData\\Local\\Temp\\ipykernel_18424\\725322139.py:15: FutureWarning: The frame.append method is deprecated and will be removed from pandas in a future version. Use pandas.concat instead.\n",
      "  result_pd = result_pd.append(excel_df)\n",
      "C:\\Users\\Bing_John\\AppData\\Local\\Temp\\ipykernel_18424\\725322139.py:15: FutureWarning: The frame.append method is deprecated and will be removed from pandas in a future version. Use pandas.concat instead.\n",
      "  result_pd = result_pd.append(excel_df)\n",
      "C:\\Users\\Bing_John\\AppData\\Local\\Temp\\ipykernel_18424\\725322139.py:15: FutureWarning: The frame.append method is deprecated and will be removed from pandas in a future version. Use pandas.concat instead.\n",
      "  result_pd = result_pd.append(excel_df)\n",
      "C:\\Users\\Bing_John\\AppData\\Local\\Temp\\ipykernel_18424\\725322139.py:15: FutureWarning: The frame.append method is deprecated and will be removed from pandas in a future version. Use pandas.concat instead.\n",
      "  result_pd = result_pd.append(excel_df)\n",
      "C:\\Users\\Bing_John\\AppData\\Local\\Temp\\ipykernel_18424\\725322139.py:15: FutureWarning: The frame.append method is deprecated and will be removed from pandas in a future version. Use pandas.concat instead.\n",
      "  result_pd = result_pd.append(excel_df)\n",
      "C:\\Users\\Bing_John\\AppData\\Local\\Temp\\ipykernel_18424\\725322139.py:15: FutureWarning: The frame.append method is deprecated and will be removed from pandas in a future version. Use pandas.concat instead.\n",
      "  result_pd = result_pd.append(excel_df)\n",
      "C:\\Users\\Bing_John\\AppData\\Local\\Temp\\ipykernel_18424\\725322139.py:15: FutureWarning: The frame.append method is deprecated and will be removed from pandas in a future version. Use pandas.concat instead.\n",
      "  result_pd = result_pd.append(excel_df)\n",
      "C:\\Users\\Bing_John\\AppData\\Local\\Temp\\ipykernel_18424\\725322139.py:15: FutureWarning: The frame.append method is deprecated and will be removed from pandas in a future version. Use pandas.concat instead.\n",
      "  result_pd = result_pd.append(excel_df)\n",
      "C:\\Users\\Bing_John\\AppData\\Local\\Temp\\ipykernel_18424\\725322139.py:15: FutureWarning: The frame.append method is deprecated and will be removed from pandas in a future version. Use pandas.concat instead.\n",
      "  result_pd = result_pd.append(excel_df)\n",
      "C:\\Users\\Bing_John\\AppData\\Local\\Temp\\ipykernel_18424\\725322139.py:15: FutureWarning: The frame.append method is deprecated and will be removed from pandas in a future version. Use pandas.concat instead.\n",
      "  result_pd = result_pd.append(excel_df)\n",
      "C:\\Users\\Bing_John\\AppData\\Local\\Temp\\ipykernel_18424\\725322139.py:15: FutureWarning: The frame.append method is deprecated and will be removed from pandas in a future version. Use pandas.concat instead.\n",
      "  result_pd = result_pd.append(excel_df)\n"
     ]
    }
   ],
   "source": [
    "# 创建总的DataFrame：result_df\n",
    "# 遍历每个excel文件，读取成dataframe(excel_df)，然后把“日期”、“几楼”、“第几节课”作为列插入到excel_df\n",
    "# 并将每个excel_ef累加到result_df\n",
    "result_pd = pd.DataFrame()\n",
    "for file in files:\n",
    "    excel_df = pd.read_excel(path + file)\n",
    "    excel_df.rename(columns={'编号': 'id', '名单': 'name', '考勤': 'kq', '说明': 'desc'}, inplace=True)\n",
    "\n",
    "    # excel_df新增列\n",
    "    date = get_data(file)\n",
    "    excel_df['date'] = date['data']\n",
    "    excel_df['room'] = date['room']\n",
    "    excel_df['class_num'] = date['class_num']\n",
    "\n",
    "    result_pd = result_pd.append(excel_df)\n"
   ]
  },
  {
   "cell_type": "code",
   "execution_count": 5,
   "metadata": {
    "pycharm": {
     "name": "#%%\n"
    }
   },
   "outputs": [
    {
     "data": {
      "text/plain": "    id name    kq desc        date room class_num\n10  11  付一鸣  考勤正常  NaN   2022年6月1日   5楼       5节课\n4    5  吕梦丽  考勤正常  NaN  2022年5月20日   5楼       1节课\n2    3  吴俊岳  考勤异常   旷课  2022年5月26日   5楼       4节课\n9   10  王孝天  考勤正常  NaN  2022年5月19日   5楼       3节课\n14  15  张子豪  考勤正常  NaN   2022年6月1日   5楼       5节课\n9   10  王孝天  考勤正常  NaN  2022年6月20日   5楼       1节课\n6    7   张阔  考勤正常  NaN  2022年5月19日   5楼       3节课\n9   10  王孝天  考勤正常  NaN  2022年6月13日   5楼       1节课\n5    6  牛皓冬  考勤正常  NaN  2022年5月20日   5楼       1节课\n15  16   叶平  考勤正常  NaN  2022年5月30日   5楼       1节课",
      "text/html": "<div>\n<style scoped>\n    .dataframe tbody tr th:only-of-type {\n        vertical-align: middle;\n    }\n\n    .dataframe tbody tr th {\n        vertical-align: top;\n    }\n\n    .dataframe thead th {\n        text-align: right;\n    }\n</style>\n<table border=\"1\" class=\"dataframe\">\n  <thead>\n    <tr style=\"text-align: right;\">\n      <th></th>\n      <th>id</th>\n      <th>name</th>\n      <th>kq</th>\n      <th>desc</th>\n      <th>date</th>\n      <th>room</th>\n      <th>class_num</th>\n    </tr>\n  </thead>\n  <tbody>\n    <tr>\n      <th>10</th>\n      <td>11</td>\n      <td>付一鸣</td>\n      <td>考勤正常</td>\n      <td>NaN</td>\n      <td>2022年6月1日</td>\n      <td>5楼</td>\n      <td>5节课</td>\n    </tr>\n    <tr>\n      <th>4</th>\n      <td>5</td>\n      <td>吕梦丽</td>\n      <td>考勤正常</td>\n      <td>NaN</td>\n      <td>2022年5月20日</td>\n      <td>5楼</td>\n      <td>1节课</td>\n    </tr>\n    <tr>\n      <th>2</th>\n      <td>3</td>\n      <td>吴俊岳</td>\n      <td>考勤异常</td>\n      <td>旷课</td>\n      <td>2022年5月26日</td>\n      <td>5楼</td>\n      <td>4节课</td>\n    </tr>\n    <tr>\n      <th>9</th>\n      <td>10</td>\n      <td>王孝天</td>\n      <td>考勤正常</td>\n      <td>NaN</td>\n      <td>2022年5月19日</td>\n      <td>5楼</td>\n      <td>3节课</td>\n    </tr>\n    <tr>\n      <th>14</th>\n      <td>15</td>\n      <td>张子豪</td>\n      <td>考勤正常</td>\n      <td>NaN</td>\n      <td>2022年6月1日</td>\n      <td>5楼</td>\n      <td>5节课</td>\n    </tr>\n    <tr>\n      <th>9</th>\n      <td>10</td>\n      <td>王孝天</td>\n      <td>考勤正常</td>\n      <td>NaN</td>\n      <td>2022年6月20日</td>\n      <td>5楼</td>\n      <td>1节课</td>\n    </tr>\n    <tr>\n      <th>6</th>\n      <td>7</td>\n      <td>张阔</td>\n      <td>考勤正常</td>\n      <td>NaN</td>\n      <td>2022年5月19日</td>\n      <td>5楼</td>\n      <td>3节课</td>\n    </tr>\n    <tr>\n      <th>9</th>\n      <td>10</td>\n      <td>王孝天</td>\n      <td>考勤正常</td>\n      <td>NaN</td>\n      <td>2022年6月13日</td>\n      <td>5楼</td>\n      <td>1节课</td>\n    </tr>\n    <tr>\n      <th>5</th>\n      <td>6</td>\n      <td>牛皓冬</td>\n      <td>考勤正常</td>\n      <td>NaN</td>\n      <td>2022年5月20日</td>\n      <td>5楼</td>\n      <td>1节课</td>\n    </tr>\n    <tr>\n      <th>15</th>\n      <td>16</td>\n      <td>叶平</td>\n      <td>考勤正常</td>\n      <td>NaN</td>\n      <td>2022年5月30日</td>\n      <td>5楼</td>\n      <td>1节课</td>\n    </tr>\n  </tbody>\n</table>\n</div>"
     },
     "execution_count": 5,
     "metadata": {},
     "output_type": "execute_result"
    }
   ],
   "source": [
    "# 随机获取10条数据看看效果\n",
    "result_pd.sample(10)"
   ]
  },
  {
   "cell_type": "code",
   "execution_count": 6,
   "metadata": {
    "pycharm": {
     "name": "#%%\n"
    }
   },
   "outputs": [
    {
     "data": {
      "text/plain": "   id name    kq   desc        date room class_num\n0   1  崔昊元  考勤正常     -1  2022年5月18日   5楼       1节课\n1   2  贾靖程  考勤异常  身体不舒服  2022年5月18日   5楼       1节课\n2   3  吴俊岳  考勤正常     -1  2022年5月18日   5楼       1节课\n3   4  王浩羽  考勤正常     -1  2022年5月18日   5楼       1节课\n4   5  吕梦丽  考勤正常     -1  2022年5月18日   5楼       1节课",
      "text/html": "<div>\n<style scoped>\n    .dataframe tbody tr th:only-of-type {\n        vertical-align: middle;\n    }\n\n    .dataframe tbody tr th {\n        vertical-align: top;\n    }\n\n    .dataframe thead th {\n        text-align: right;\n    }\n</style>\n<table border=\"1\" class=\"dataframe\">\n  <thead>\n    <tr style=\"text-align: right;\">\n      <th></th>\n      <th>id</th>\n      <th>name</th>\n      <th>kq</th>\n      <th>desc</th>\n      <th>date</th>\n      <th>room</th>\n      <th>class_num</th>\n    </tr>\n  </thead>\n  <tbody>\n    <tr>\n      <th>0</th>\n      <td>1</td>\n      <td>崔昊元</td>\n      <td>考勤正常</td>\n      <td>-1</td>\n      <td>2022年5月18日</td>\n      <td>5楼</td>\n      <td>1节课</td>\n    </tr>\n    <tr>\n      <th>1</th>\n      <td>2</td>\n      <td>贾靖程</td>\n      <td>考勤异常</td>\n      <td>身体不舒服</td>\n      <td>2022年5月18日</td>\n      <td>5楼</td>\n      <td>1节课</td>\n    </tr>\n    <tr>\n      <th>2</th>\n      <td>3</td>\n      <td>吴俊岳</td>\n      <td>考勤正常</td>\n      <td>-1</td>\n      <td>2022年5月18日</td>\n      <td>5楼</td>\n      <td>1节课</td>\n    </tr>\n    <tr>\n      <th>3</th>\n      <td>4</td>\n      <td>王浩羽</td>\n      <td>考勤正常</td>\n      <td>-1</td>\n      <td>2022年5月18日</td>\n      <td>5楼</td>\n      <td>1节课</td>\n    </tr>\n    <tr>\n      <th>4</th>\n      <td>5</td>\n      <td>吕梦丽</td>\n      <td>考勤正常</td>\n      <td>-1</td>\n      <td>2022年5月18日</td>\n      <td>5楼</td>\n      <td>1节课</td>\n    </tr>\n  </tbody>\n</table>\n</div>"
     },
     "execution_count": 6,
     "metadata": {},
     "output_type": "execute_result"
    }
   ],
   "source": [
    "# 修改空值\n",
    "result_pd['desc'].fillna(-1, inplace=True)\n",
    "result_pd.head()"
   ]
  },
  {
   "cell_type": "code",
   "execution_count": 7,
   "metadata": {
    "pycharm": {
     "name": "#%%\n"
    }
   },
   "outputs": [],
   "source": [
    "result_pd.to_csv(path + '考勤成绩.csv', index=False)"
   ]
  }
 ],
 "metadata": {
  "kernelspec": {
   "display_name": "Python 3.9.7 ('base')",
   "language": "python",
   "name": "python3"
  },
  "language_info": {
   "codemirror_mode": {
    "name": "ipython",
    "version": 3
   },
   "file_extension": ".py",
   "mimetype": "text/x-python",
   "name": "python",
   "nbconvert_exporter": "python",
   "pygments_lexer": "ipython3",
   "version": "3.9.7"
  },
  "vscode": {
   "interpreter": {
    "hash": "68908377ed95d7c3d4e1905f72b5c03e8b8f9a308e79edcfb0aafe2172e16c29"
   }
  }
 },
 "nbformat": 4,
 "nbformat_minor": 4
}