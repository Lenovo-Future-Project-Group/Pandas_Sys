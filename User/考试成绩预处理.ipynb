{
 "cells": [
  {
   "cell_type": "code",
   "execution_count": 563,
   "metadata": {
    "collapsed": true,
    "pycharm": {
     "name": "#%%\n"
    }
   },
   "outputs": [],
   "source": [
    "import os\n",
    "import re\n",
    "import pandas as pd"
   ]
  },
  {
   "cell_type": "code",
   "execution_count": 564,
   "outputs": [],
   "source": [
    "def merge_xlsx(xlsx_path, xlsx_name):\n",
    "    data = pd.DataFrame()\n",
    "\n",
    "    root = pd.read_excel(xlsx_path[0])\n",
    "\n",
    "    loc = locals()\n",
    "\n",
    "    for name in xlsx_name:\n",
    "        date = get_all_date(name)\n",
    "        for path in xlsx_path:\n",
    "            for temp in [x for x in range(len(xlsx_path))]:\n",
    "                # 通过temp长度创建多个动态调用变量,命名为df0,df1...,值为: pd.read_excel(path)\n",
    "                loc[f'df{temp}'] = pd.read_excel(path)\n",
    "\n",
    "                # 通过temp长度创建多个动态调用变量,命名为df0,df1...,值为: excel_df.rename(columns={'编号': 'id', '名单': 'name', '考勤': 'kq', '说明': 'desc'}, inplace=True)\n",
    "                loc[f'df{temp}'].rename(columns={'编号': 'id', '名单': 'name', '考勤': 'kq', '说明': 'desc'}, inplace=True)\n",
    "\n",
    "                # 通过temp长度创建多个动态调用变量,命名为df0,df1...,值为: 变量[date['subject']] = 变量\n",
    "                loc[f'df{temp}'].index = loc[f'df{temp}']['姓名']\n",
    "\n",
    "                # 通过temp长度创建多个动态调用变量,命名为df0,df1...,值为: data[date['subject']] = 变量['总成绩']\n",
    "                data[date['subject']] = loc[f'df{temp}']['总成绩']\n",
    "\n",
    "                # 通过temp长度创建多个动态调用变量,命名为df0,df1...,值为: data = data.append(变量)\n",
    "                data = data.append(loc[f'df{temp}'])\n",
    "\n",
    "    return data"
   ],
   "metadata": {
    "collapsed": false,
    "pycharm": {
     "name": "#%%\n"
    }
   }
  },
  {
   "cell_type": "code",
   "execution_count": 565,
   "outputs": [],
   "source": [
    "def get_all_xlsx(file_dir, file_type='.xlsx'):\n",
    "\n",
    "    name = []\n",
    "\n",
    "    for file in os.listdir(file_dir):\n",
    "        if os.path.splitext(file)[1] == file_type:\n",
    "            name.append(file)\n",
    "\n",
    "    path = []\n",
    "\n",
    "    for root, dirs, files in os.walk(file_dir):\n",
    "        for file in files:\n",
    "            if os.path.splitext(file)[1] == file_type:\n",
    "                path.append(os.path.join(root, file))\n",
    "\n",
    "    # data = {'file_path': [os.path.join(root, file) for root, dirs, files in os.walk(file_dir) for file in files if os.path.splitext(file)[1] == file_type], 'file_name': [file for file in os.listdir(file_dir) if os.path.splitext(file)[1] == file_type]}\n",
    "\n",
    "    data = {'file_path': path, 'file_name': name}\n",
    "\n",
    "    return data"
   ],
   "metadata": {
    "collapsed": false,
    "pycharm": {
     "name": "#%%\n"
    }
   }
  },
  {
   "cell_type": "code",
   "execution_count": 566,
   "outputs": [],
   "source": [
    "def get_all_date(file_name):\n",
    "\n",
    "    search_obj = re.search(r'(.*)春学期_(.*)班(.*)', file_name)\n",
    "\n",
    "    subject = search_obj.group(3)\n",
    "\n",
    "    search_obj = re.search(r'_(.*)_期末考试成绩', subject)\n",
    "\n",
    "    data = {'subject':search_obj.group(1)}\n",
    "\n",
    "    return data"
   ],
   "metadata": {
    "collapsed": false,
    "pycharm": {
     "name": "#%%\n"
    }
   }
  },
  {
   "cell_type": "code",
   "execution_count": 567,
   "outputs": [
    {
     "name": "stdout",
     "output_type": "stream",
     "text": [
      "../Data/inputData/考试成绩数据/北京市昌平职业学校2021-2022春学期_信息技术系_大数据201-202班_互联网数据采集_期末考试成绩.xlsx\n"
     ]
    }
   ],
   "source": [
    "input_xlsx_path = get_all_xlsx(r'../Data/inputData/考试成绩数据/', '.xlsx')['file_path']\n",
    "input_xlsx_name = get_all_xlsx(r'../Data/inputData/考试成绩数据/', '.xlsx')['file_name']\n",
    "\n",
    "df = merge_xlsx(input_xlsx_path, input_xlsx_name)"
   ],
   "metadata": {
    "collapsed": false,
    "pycharm": {
     "name": "#%%\n"
    }
   }
  },
  {
   "cell_type": "code",
   "execution_count": 568,
   "outputs": [],
   "source": [
    "# df.drop(df.columns[[-1, -2]], axis=1, inplace=True)"
   ],
   "metadata": {
    "collapsed": false,
    "pycharm": {
     "name": "#%%\n"
    }
   }
  },
  {
   "cell_type": "code",
   "execution_count": 569,
   "outputs": [
    {
     "data": {
      "text/plain": "Empty DataFrame\nColumns: []\nIndex: []",
      "text/html": "<div>\n<style scoped>\n    .dataframe tbody tr th:only-of-type {\n        vertical-align: middle;\n    }\n\n    .dataframe tbody tr th {\n        vertical-align: top;\n    }\n\n    .dataframe thead th {\n        text-align: right;\n    }\n</style>\n<table border=\"1\" class=\"dataframe\">\n  <thead>\n    <tr style=\"text-align: right;\">\n      <th></th>\n    </tr>\n  </thead>\n  <tbody>\n  </tbody>\n</table>\n</div>"
     },
     "execution_count": 569,
     "metadata": {},
     "output_type": "execute_result"
    }
   ],
   "source": [
    "df"
   ],
   "metadata": {
    "collapsed": false,
    "pycharm": {
     "name": "#%%\n"
    }
   }
  },
  {
   "cell_type": "code",
   "execution_count": 570,
   "outputs": [],
   "source": [
    "# df.to_csv('../Data/inputData/考试成绩数据/考试成绩数据.csv', encoding='utf_8', index=False)"
   ],
   "metadata": {
    "collapsed": false,
    "pycharm": {
     "name": "#%%\n"
    }
   }
  },
  {
   "cell_type": "code",
   "execution_count": 571,
   "outputs": [],
   "source": [
    "# if __name__ == '__main__':\n",
    "#     test = get_all_xlsx(r'../Data/inputData/考试成绩数据')\n",
    "#     print(test['file_path'][:5], '\\n<!-- -->\\n', test['file_name'][:5])"
   ],
   "metadata": {
    "collapsed": false,
    "pycharm": {
     "name": "#%%\n"
    }
   }
  }
 ],
 "metadata": {
  "kernelspec": {
   "display_name": "Python 3",
   "language": "python",
   "name": "python3"
  },
  "language_info": {
   "codemirror_mode": {
    "name": "ipython",
    "version": 2
   },
   "file_extension": ".py",
   "mimetype": "text/x-python",
   "name": "python",
   "nbconvert_exporter": "python",
   "pygments_lexer": "ipython2",
   "version": "2.7.6"
  }
 },
 "nbformat": 4,
 "nbformat_minor": 0
}