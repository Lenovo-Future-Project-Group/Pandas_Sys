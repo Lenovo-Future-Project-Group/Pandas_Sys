{
 "cells": [
  {
   "cell_type": "code",
   "execution_count": 30,
   "metadata": {
    "collapsed": true,
    "pycharm": {
     "name": "#%%\n"
    }
   },
   "outputs": [],
   "source": [
    "import os\n",
    "import pandas as pd"
   ]
  },
  {
   "cell_type": "code",
   "execution_count": 31,
   "outputs": [],
   "source": [
    "def csv_to_df(csv_file, index_col=None):\n",
    "    data = pd.DataFrame(pd.read_excel(csv_file, index_col=index_col))\n",
    "    return data"
   ],
   "metadata": {
    "collapsed": false,
    "pycharm": {
     "name": "#%%\n"
    }
   }
  },
  {
   "cell_type": "code",
   "execution_count": 32,
   "outputs": [],
   "source": [
    "def merge_xlsx(xlsx_path, xlsx_name):\n",
    "    data = pd.DataFrame()\n",
    "    for file in xlsx_name:\n",
    "        for path in xlsx_path:\n",
    "            excel_df = pd.read_excel(path)\n",
    "            excel_df.rename(columns={'编号': 'id', '名单': 'name', '考勤': 'kq', '说明': 'desc'}, inplace=True)\n",
    "\n",
    "\n",
    "            print(file)\n",
    "\n",
    "            # excel_df新增列\n",
    "            # date = get_all_date(file)\n",
    "            # excel_df['date'] = date['data']\n",
    "            # excel_df['room'] = date['room']\n",
    "            # excel_df['class_num'] = date['class_num']\n",
    "\n",
    "            data = data.append(excel_df)\n",
    "\n",
    "    return data"
   ],
   "metadata": {
    "collapsed": false,
    "pycharm": {
     "name": "#%%\n"
    }
   }
  },
  {
   "cell_type": "code",
   "execution_count": 33,
   "outputs": [],
   "source": [
    "def get_all_xlsx(file_dir, file_type='.xlsx'):\n",
    "    path = []\n",
    "    for root, dirs, files in os.walk(file_dir):\n",
    "        for file in files:\n",
    "            if os.path.splitext(file)[1] == file_type:\n",
    "                path.append(os.path.join(root, file))\n",
    "\n",
    "    data = {'file_path': path, 'file_name': os.listdir(file_dir)}\n",
    "    return data"
   ],
   "metadata": {
    "collapsed": false,
    "pycharm": {
     "name": "#%%\n"
    }
   }
  },
  {
   "cell_type": "code",
   "execution_count": 34,
   "outputs": [
    {
     "name": "stdout",
     "output_type": "stream",
     "text": [
      "北京市昌平职业学校2021-2022春学期_信息技术系_大数据201-202班_互联网数据采集_期末考试成绩.xlsx\n",
      "北京市昌平职业学校2021-2022春学期_信息技术系_大数据201-202班_互联网数据采集_期末考试成绩.xlsx\n",
      "北京市昌平职业学校2021-2022春学期_信息技术系_大数据201-202班_互联网数据采集_期末考试成绩.xlsx\n",
      "北京市昌平职业学校2021-2022春学期_信息技术系_大数据201-202班_互联网数据采集_期末考试成绩.xlsx\n",
      "北京市昌平职业学校2021-2022春学期_信息技术系_大数据201-202班_大数据分析与实现_期末考试成绩.xlsx\n",
      "北京市昌平职业学校2021-2022春学期_信息技术系_大数据201-202班_大数据分析与实现_期末考试成绩.xlsx\n",
      "北京市昌平职业学校2021-2022春学期_信息技术系_大数据201-202班_大数据分析与实现_期末考试成绩.xlsx\n",
      "北京市昌平职业学校2021-2022春学期_信息技术系_大数据201-202班_大数据分析与实现_期末考试成绩.xlsx\n",
      "北京市昌平职业学校2021-2022春学期_信息技术系_大数据201-202班_数据可视化设计与实现_期末考试成绩.xlsx\n"
     ]
    },
    {
     "name": "stderr",
     "output_type": "stream",
     "text": [
      "C:\\Users\\Bing_John\\AppData\\Local\\Temp\\ipykernel_24760\\1150467932.py:17: FutureWarning: The frame.append method is deprecated and will be removed from pandas in a future version. Use pandas.concat instead.\n",
      "  data = data.append(excel_df)\n",
      "C:\\Users\\Bing_John\\AppData\\Local\\Temp\\ipykernel_24760\\1150467932.py:17: FutureWarning: The frame.append method is deprecated and will be removed from pandas in a future version. Use pandas.concat instead.\n",
      "  data = data.append(excel_df)\n",
      "C:\\Users\\Bing_John\\AppData\\Local\\Temp\\ipykernel_24760\\1150467932.py:17: FutureWarning: The frame.append method is deprecated and will be removed from pandas in a future version. Use pandas.concat instead.\n",
      "  data = data.append(excel_df)\n",
      "C:\\Users\\Bing_John\\AppData\\Local\\Temp\\ipykernel_24760\\1150467932.py:17: FutureWarning: The frame.append method is deprecated and will be removed from pandas in a future version. Use pandas.concat instead.\n",
      "  data = data.append(excel_df)\n",
      "C:\\Users\\Bing_John\\AppData\\Local\\Temp\\ipykernel_24760\\1150467932.py:17: FutureWarning: The frame.append method is deprecated and will be removed from pandas in a future version. Use pandas.concat instead.\n",
      "  data = data.append(excel_df)\n",
      "C:\\Users\\Bing_John\\AppData\\Local\\Temp\\ipykernel_24760\\1150467932.py:17: FutureWarning: The frame.append method is deprecated and will be removed from pandas in a future version. Use pandas.concat instead.\n",
      "  data = data.append(excel_df)\n",
      "C:\\Users\\Bing_John\\AppData\\Local\\Temp\\ipykernel_24760\\1150467932.py:17: FutureWarning: The frame.append method is deprecated and will be removed from pandas in a future version. Use pandas.concat instead.\n",
      "  data = data.append(excel_df)\n",
      "C:\\Users\\Bing_John\\AppData\\Local\\Temp\\ipykernel_24760\\1150467932.py:17: FutureWarning: The frame.append method is deprecated and will be removed from pandas in a future version. Use pandas.concat instead.\n",
      "  data = data.append(excel_df)\n",
      "C:\\Users\\Bing_John\\AppData\\Local\\Temp\\ipykernel_24760\\1150467932.py:17: FutureWarning: The frame.append method is deprecated and will be removed from pandas in a future version. Use pandas.concat instead.\n",
      "  data = data.append(excel_df)\n"
     ]
    },
    {
     "name": "stdout",
     "output_type": "stream",
     "text": [
      "北京市昌平职业学校2021-2022春学期_信息技术系_大数据201-202班_数据可视化设计与实现_期末考试成绩.xlsx\n",
      "北京市昌平职业学校2021-2022春学期_信息技术系_大数据201-202班_数据可视化设计与实现_期末考试成绩.xlsx\n",
      "北京市昌平职业学校2021-2022春学期_信息技术系_大数据201-202班_数据可视化设计与实现_期末考试成绩.xlsx\n",
      "北京市昌平职业学校2021-2022春学期_信息技术系_大数据201-202班_职业素养_期末考试成绩_唐大成.xlsx\n",
      "北京市昌平职业学校2021-2022春学期_信息技术系_大数据201-202班_职业素养_期末考试成绩_唐大成.xlsx\n",
      "北京市昌平职业学校2021-2022春学期_信息技术系_大数据201-202班_职业素养_期末考试成绩_唐大成.xlsx\n",
      "北京市昌平职业学校2021-2022春学期_信息技术系_大数据201-202班_职业素养_期末考试成绩_唐大成.xlsx\n"
     ]
    },
    {
     "name": "stderr",
     "output_type": "stream",
     "text": [
      "C:\\Users\\Bing_John\\AppData\\Local\\Temp\\ipykernel_24760\\1150467932.py:17: FutureWarning: The frame.append method is deprecated and will be removed from pandas in a future version. Use pandas.concat instead.\n",
      "  data = data.append(excel_df)\n",
      "C:\\Users\\Bing_John\\AppData\\Local\\Temp\\ipykernel_24760\\1150467932.py:17: FutureWarning: The frame.append method is deprecated and will be removed from pandas in a future version. Use pandas.concat instead.\n",
      "  data = data.append(excel_df)\n",
      "C:\\Users\\Bing_John\\AppData\\Local\\Temp\\ipykernel_24760\\1150467932.py:17: FutureWarning: The frame.append method is deprecated and will be removed from pandas in a future version. Use pandas.concat instead.\n",
      "  data = data.append(excel_df)\n",
      "C:\\Users\\Bing_John\\AppData\\Local\\Temp\\ipykernel_24760\\1150467932.py:17: FutureWarning: The frame.append method is deprecated and will be removed from pandas in a future version. Use pandas.concat instead.\n",
      "  data = data.append(excel_df)\n",
      "C:\\Users\\Bing_John\\AppData\\Local\\Temp\\ipykernel_24760\\1150467932.py:17: FutureWarning: The frame.append method is deprecated and will be removed from pandas in a future version. Use pandas.concat instead.\n",
      "  data = data.append(excel_df)\n",
      "C:\\Users\\Bing_John\\AppData\\Local\\Temp\\ipykernel_24760\\1150467932.py:17: FutureWarning: The frame.append method is deprecated and will be removed from pandas in a future version. Use pandas.concat instead.\n",
      "  data = data.append(excel_df)\n",
      "C:\\Users\\Bing_John\\AppData\\Local\\Temp\\ipykernel_24760\\1150467932.py:17: FutureWarning: The frame.append method is deprecated and will be removed from pandas in a future version. Use pandas.concat instead.\n",
      "  data = data.append(excel_df)\n"
     ]
    }
   ],
   "source": [
    "input_xlsx_path = get_all_xlsx(r'../Data/inputData/考试成绩数据/', '.xlsx')['file_path']\n",
    "input_xlsx_name = get_all_xlsx(r'../Data/inputData/考试成绩数据/', '.xlsx')['file_name']\n",
    "\n",
    "df = merge_xlsx(input_xlsx_path, input_xlsx_name)"
   ],
   "metadata": {
    "collapsed": false,
    "pycharm": {
     "name": "#%%\n"
    }
   }
  },
  {
   "cell_type": "code",
   "execution_count": 35,
   "outputs": [],
   "source": [
    "df.to_csv('../Data/inputData/考试成绩数据/考试成绩数据.csv', encoding='utf_8', index=False)"
   ],
   "metadata": {
    "collapsed": false,
    "pycharm": {
     "name": "#%%\n"
    }
   }
  },
  {
   "cell_type": "code",
   "execution_count": 36,
   "outputs": [],
   "source": [
    "# if __name__ == '__main__':\n",
    "#     test = get_all_xlsx(r'../Data/inputData/考试成绩数据')\n",
    "#     print(test['file_path'][:5], '\\n<!-- -->\\n', test['file_name'][:5])"
   ],
   "metadata": {
    "collapsed": false,
    "pycharm": {
     "name": "#%%\n"
    }
   }
  }
 ],
 "metadata": {
  "kernelspec": {
   "display_name": "Python 3",
   "language": "python",
   "name": "python3"
  },
  "language_info": {
   "codemirror_mode": {
    "name": "ipython",
    "version": 2
   },
   "file_extension": ".py",
   "mimetype": "text/x-python",
   "name": "python",
   "nbconvert_exporter": "python",
   "pygments_lexer": "ipython2",
   "version": "2.7.6"
  }
 },
 "nbformat": 4,
 "nbformat_minor": 0
}