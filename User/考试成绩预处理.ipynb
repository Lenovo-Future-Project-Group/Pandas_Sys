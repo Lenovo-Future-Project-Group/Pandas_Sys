{
 "cells": [
  {
   "cell_type": "code",
   "execution_count": 714,
   "metadata": {
    "collapsed": true,
    "pycharm": {
     "name": "#%%\n"
    }
   },
   "outputs": [],
   "source": [
    "import os\n",
    "import re\n",
    "import pandas as pd"
   ]
  },
  {
   "cell_type": "code",
   "execution_count": 715,
   "outputs": [],
   "source": [
    "def merge_xlsx(xlsx_path, xlsx_name):\n",
    "    data = pd.DataFrame()\n",
    "\n",
    "    root = pd.read_excel(xlsx_path[0])\n",
    "\n",
    "    loc = locals()\n",
    "\n",
    "    for name in xlsx_name:\n",
    "        for path in xlsx_path[1:]:\n",
    "            for temp in [x for x in range(len(xlsx_path))]:\n",
    "\n",
    "                loc[f'df{temp}'] = pd.read_excel(path)\n",
    "\n",
    "                loc[f'df{temp}'].index = root['姓名']\n",
    "\n",
    "                date = get_all_date(name)\n",
    "\n",
    "                data[date['subject']] = loc[f'df{temp}']['总成绩']\n",
    "\n",
    "    return data"
   ],
   "metadata": {
    "collapsed": false,
    "pycharm": {
     "name": "#%%\n"
    }
   }
  },
  {
   "cell_type": "code",
   "execution_count": 716,
   "outputs": [],
   "source": [
    "def get_all_xlsx(file_dir, file_type='.xlsx'):\n",
    "\n",
    "    name = []\n",
    "\n",
    "    for file in os.listdir(file_dir):\n",
    "        if os.path.splitext(file)[1] == file_type:\n",
    "            name.append(file)\n",
    "\n",
    "    path = []\n",
    "\n",
    "    for root, dirs, files in os.walk(file_dir):\n",
    "        for file in files:\n",
    "            if os.path.splitext(file)[1] == file_type:\n",
    "                path.append(os.path.join(root, file))\n",
    "\n",
    "    # data = {'file_path': [os.path.join(root, file) for root, dirs, files in os.walk(file_dir) for file in files if os.path.splitext(file)[1] == file_type], 'file_name': [file for file in os.listdir(file_dir) if os.path.splitext(file)[1] == file_type]}\n",
    "\n",
    "    data = {'file_path': path, 'file_name': name}\n",
    "\n",
    "    return data"
   ],
   "metadata": {
    "collapsed": false,
    "pycharm": {
     "name": "#%%\n"
    }
   }
  },
  {
   "cell_type": "code",
   "execution_count": 717,
   "outputs": [],
   "source": [
    "def get_all_date(file_name):\n",
    "\n",
    "    search_obj = re.search(r'(.*)春学期_(.*)班(.*)', file_name)\n",
    "\n",
    "    subject = search_obj.group(3)\n",
    "\n",
    "    search_obj = re.search(r'_(.*)_期末考试成绩', subject)\n",
    "\n",
    "    data = {'subject':search_obj.group(1)}\n",
    "\n",
    "    return data"
   ],
   "metadata": {
    "collapsed": false,
    "pycharm": {
     "name": "#%%\n"
    }
   }
  },
  {
   "cell_type": "code",
   "execution_count": 718,
   "outputs": [
    {
     "name": "stdout",
     "output_type": "stream",
     "text": [
      "../Data/inputData/考试成绩数据/北京市昌平职业学校2021-2022春学期_信息技术系_大数据201-202班_大数据分析与实现_期末考试成绩.xlsx\n",
      "../Data/inputData/考试成绩数据/北京市昌平职业学校2021-2022春学期_信息技术系_大数据201-202班_数据可视化设计与实现_期末考试成绩.xlsx\n",
      "../Data/inputData/考试成绩数据/北京市昌平职业学校2021-2022春学期_信息技术系_大数据201-202班_职业素养_期末考试成绩_唐大成.xlsx\n",
      "../Data/inputData/考试成绩数据/北京市昌平职业学校2021-2022春学期_信息技术系_大数据201-202班_大数据分析与实现_期末考试成绩.xlsx\n",
      "../Data/inputData/考试成绩数据/北京市昌平职业学校2021-2022春学期_信息技术系_大数据201-202班_数据可视化设计与实现_期末考试成绩.xlsx\n",
      "../Data/inputData/考试成绩数据/北京市昌平职业学校2021-2022春学期_信息技术系_大数据201-202班_职业素养_期末考试成绩_唐大成.xlsx\n",
      "../Data/inputData/考试成绩数据/北京市昌平职业学校2021-2022春学期_信息技术系_大数据201-202班_大数据分析与实现_期末考试成绩.xlsx\n",
      "../Data/inputData/考试成绩数据/北京市昌平职业学校2021-2022春学期_信息技术系_大数据201-202班_数据可视化设计与实现_期末考试成绩.xlsx\n",
      "../Data/inputData/考试成绩数据/北京市昌平职业学校2021-2022春学期_信息技术系_大数据201-202班_职业素养_期末考试成绩_唐大成.xlsx\n",
      "../Data/inputData/考试成绩数据/北京市昌平职业学校2021-2022春学期_信息技术系_大数据201-202班_大数据分析与实现_期末考试成绩.xlsx\n",
      "../Data/inputData/考试成绩数据/北京市昌平职业学校2021-2022春学期_信息技术系_大数据201-202班_数据可视化设计与实现_期末考试成绩.xlsx\n",
      "../Data/inputData/考试成绩数据/北京市昌平职业学校2021-2022春学期_信息技术系_大数据201-202班_职业素养_期末考试成绩_唐大成.xlsx\n"
     ]
    }
   ],
   "source": [
    "input_xlsx_path = get_all_xlsx(r'../Data/inputData/考试成绩数据/', '.xlsx')['file_path']\n",
    "input_xlsx_name = get_all_xlsx(r'../Data/inputData/考试成绩数据/', '.xlsx')['file_name']\n",
    "\n",
    "df = merge_xlsx(input_xlsx_path, input_xlsx_name)"
   ],
   "metadata": {
    "collapsed": false,
    "pycharm": {
     "name": "#%%\n"
    }
   }
  },
  {
   "cell_type": "code",
   "execution_count": 719,
   "outputs": [],
   "source": [
    "# df.drop(df.columns[[-1, -2]], axis=1, inplace=True)"
   ],
   "metadata": {
    "collapsed": false,
    "pycharm": {
     "name": "#%%\n"
    }
   }
  },
  {
   "cell_type": "code",
   "execution_count": 720,
   "outputs": [
    {
     "data": {
      "text/plain": "     互联网数据采集  大数据分析与实现  数据可视化设计与实现  职业素养\n姓名                                      \n白轶臣       21        21          21    21\n曹奥博       85        85          85    85\n陈观绅       71        71          71    71\n陈泳澎       85        85          85    85\n崔昊元       82        82          82    82\n丁小雷       77        77          77    77\n付一鸣       79        79          79    79\n顾同        74        74          74    74\n侯文杰       77        77          77    77\n胡皓筑       60        60          60    60\n黄博勋       82        82          82    82\n黄杉        83        83          83    83\n黄新之       73        73          73    73\n贾靖程       83        83          83    83\n贾旭        79        79          79    79\n蒋文拓       83        83          83    83\n靳馨娴       78        78          78    78\n李博远       77        77          77    77\n李蓉轩       74        74          74    74\n刘嘉琦       89        89          89    89\n刘洋        85        85          85    85\n刘溢        87        87          87    87\n刘子豪       81        81          81    81\n陆毅        87        87          87    87\n吕梦丽       60        60          60    60\n吕铭        70        70          70    70\n墨梓恒       74        74          74    74\n南怀恩       75        75          75    75\n牛皓冬       75        75          75    75\n潘艺涵       82        82          82    82\n苏楠        78        78          78    78\n孙佳奇       60        60          60    60\n孙圆        73        73          73    73\n汪君垚       75        75          75    75\n王浩羽       77        77          77    77\n王嵩        73        73          73    73\n王孝天       79        79          79    79\n吴俊岳       56        56          56    56\n咸鑫晴       82        82          82    82\n邢鹏        83        83          83    83\n闫世旭       82        82          82    82\n杨悦昕       78        78          78    78\n杨智恒       82        82          82    82\n杨梓琦       87        87          87    87\n叶平        63        63          63    63\n张恒        83        83          83    83\n张靖薇       64        64          64    64\n张阔        85        85          85    85\n张睿炫       79        79          79    79\n张欣悦       66        66          66    66\n张子豪       73        73          73    73\n赵彬        84        84          84    84\n赵鑫博       76        76          76    76\n赵梓豪       78        78          78    78\n郑佳睦       72        72          72    72\n周泽阳       71        71          71    71",
      "text/html": "<div>\n<style scoped>\n    .dataframe tbody tr th:only-of-type {\n        vertical-align: middle;\n    }\n\n    .dataframe tbody tr th {\n        vertical-align: top;\n    }\n\n    .dataframe thead th {\n        text-align: right;\n    }\n</style>\n<table border=\"1\" class=\"dataframe\">\n  <thead>\n    <tr style=\"text-align: right;\">\n      <th></th>\n      <th>互联网数据采集</th>\n      <th>大数据分析与实现</th>\n      <th>数据可视化设计与实现</th>\n      <th>职业素养</th>\n    </tr>\n    <tr>\n      <th>姓名</th>\n      <th></th>\n      <th></th>\n      <th></th>\n      <th></th>\n    </tr>\n  </thead>\n  <tbody>\n    <tr>\n      <th>白轶臣</th>\n      <td>21</td>\n      <td>21</td>\n      <td>21</td>\n      <td>21</td>\n    </tr>\n    <tr>\n      <th>曹奥博</th>\n      <td>85</td>\n      <td>85</td>\n      <td>85</td>\n      <td>85</td>\n    </tr>\n    <tr>\n      <th>陈观绅</th>\n      <td>71</td>\n      <td>71</td>\n      <td>71</td>\n      <td>71</td>\n    </tr>\n    <tr>\n      <th>陈泳澎</th>\n      <td>85</td>\n      <td>85</td>\n      <td>85</td>\n      <td>85</td>\n    </tr>\n    <tr>\n      <th>崔昊元</th>\n      <td>82</td>\n      <td>82</td>\n      <td>82</td>\n      <td>82</td>\n    </tr>\n    <tr>\n      <th>丁小雷</th>\n      <td>77</td>\n      <td>77</td>\n      <td>77</td>\n      <td>77</td>\n    </tr>\n    <tr>\n      <th>付一鸣</th>\n      <td>79</td>\n      <td>79</td>\n      <td>79</td>\n      <td>79</td>\n    </tr>\n    <tr>\n      <th>顾同</th>\n      <td>74</td>\n      <td>74</td>\n      <td>74</td>\n      <td>74</td>\n    </tr>\n    <tr>\n      <th>侯文杰</th>\n      <td>77</td>\n      <td>77</td>\n      <td>77</td>\n      <td>77</td>\n    </tr>\n    <tr>\n      <th>胡皓筑</th>\n      <td>60</td>\n      <td>60</td>\n      <td>60</td>\n      <td>60</td>\n    </tr>\n    <tr>\n      <th>黄博勋</th>\n      <td>82</td>\n      <td>82</td>\n      <td>82</td>\n      <td>82</td>\n    </tr>\n    <tr>\n      <th>黄杉</th>\n      <td>83</td>\n      <td>83</td>\n      <td>83</td>\n      <td>83</td>\n    </tr>\n    <tr>\n      <th>黄新之</th>\n      <td>73</td>\n      <td>73</td>\n      <td>73</td>\n      <td>73</td>\n    </tr>\n    <tr>\n      <th>贾靖程</th>\n      <td>83</td>\n      <td>83</td>\n      <td>83</td>\n      <td>83</td>\n    </tr>\n    <tr>\n      <th>贾旭</th>\n      <td>79</td>\n      <td>79</td>\n      <td>79</td>\n      <td>79</td>\n    </tr>\n    <tr>\n      <th>蒋文拓</th>\n      <td>83</td>\n      <td>83</td>\n      <td>83</td>\n      <td>83</td>\n    </tr>\n    <tr>\n      <th>靳馨娴</th>\n      <td>78</td>\n      <td>78</td>\n      <td>78</td>\n      <td>78</td>\n    </tr>\n    <tr>\n      <th>李博远</th>\n      <td>77</td>\n      <td>77</td>\n      <td>77</td>\n      <td>77</td>\n    </tr>\n    <tr>\n      <th>李蓉轩</th>\n      <td>74</td>\n      <td>74</td>\n      <td>74</td>\n      <td>74</td>\n    </tr>\n    <tr>\n      <th>刘嘉琦</th>\n      <td>89</td>\n      <td>89</td>\n      <td>89</td>\n      <td>89</td>\n    </tr>\n    <tr>\n      <th>刘洋</th>\n      <td>85</td>\n      <td>85</td>\n      <td>85</td>\n      <td>85</td>\n    </tr>\n    <tr>\n      <th>刘溢</th>\n      <td>87</td>\n      <td>87</td>\n      <td>87</td>\n      <td>87</td>\n    </tr>\n    <tr>\n      <th>刘子豪</th>\n      <td>81</td>\n      <td>81</td>\n      <td>81</td>\n      <td>81</td>\n    </tr>\n    <tr>\n      <th>陆毅</th>\n      <td>87</td>\n      <td>87</td>\n      <td>87</td>\n      <td>87</td>\n    </tr>\n    <tr>\n      <th>吕梦丽</th>\n      <td>60</td>\n      <td>60</td>\n      <td>60</td>\n      <td>60</td>\n    </tr>\n    <tr>\n      <th>吕铭</th>\n      <td>70</td>\n      <td>70</td>\n      <td>70</td>\n      <td>70</td>\n    </tr>\n    <tr>\n      <th>墨梓恒</th>\n      <td>74</td>\n      <td>74</td>\n      <td>74</td>\n      <td>74</td>\n    </tr>\n    <tr>\n      <th>南怀恩</th>\n      <td>75</td>\n      <td>75</td>\n      <td>75</td>\n      <td>75</td>\n    </tr>\n    <tr>\n      <th>牛皓冬</th>\n      <td>75</td>\n      <td>75</td>\n      <td>75</td>\n      <td>75</td>\n    </tr>\n    <tr>\n      <th>潘艺涵</th>\n      <td>82</td>\n      <td>82</td>\n      <td>82</td>\n      <td>82</td>\n    </tr>\n    <tr>\n      <th>苏楠</th>\n      <td>78</td>\n      <td>78</td>\n      <td>78</td>\n      <td>78</td>\n    </tr>\n    <tr>\n      <th>孙佳奇</th>\n      <td>60</td>\n      <td>60</td>\n      <td>60</td>\n      <td>60</td>\n    </tr>\n    <tr>\n      <th>孙圆</th>\n      <td>73</td>\n      <td>73</td>\n      <td>73</td>\n      <td>73</td>\n    </tr>\n    <tr>\n      <th>汪君垚</th>\n      <td>75</td>\n      <td>75</td>\n      <td>75</td>\n      <td>75</td>\n    </tr>\n    <tr>\n      <th>王浩羽</th>\n      <td>77</td>\n      <td>77</td>\n      <td>77</td>\n      <td>77</td>\n    </tr>\n    <tr>\n      <th>王嵩</th>\n      <td>73</td>\n      <td>73</td>\n      <td>73</td>\n      <td>73</td>\n    </tr>\n    <tr>\n      <th>王孝天</th>\n      <td>79</td>\n      <td>79</td>\n      <td>79</td>\n      <td>79</td>\n    </tr>\n    <tr>\n      <th>吴俊岳</th>\n      <td>56</td>\n      <td>56</td>\n      <td>56</td>\n      <td>56</td>\n    </tr>\n    <tr>\n      <th>咸鑫晴</th>\n      <td>82</td>\n      <td>82</td>\n      <td>82</td>\n      <td>82</td>\n    </tr>\n    <tr>\n      <th>邢鹏</th>\n      <td>83</td>\n      <td>83</td>\n      <td>83</td>\n      <td>83</td>\n    </tr>\n    <tr>\n      <th>闫世旭</th>\n      <td>82</td>\n      <td>82</td>\n      <td>82</td>\n      <td>82</td>\n    </tr>\n    <tr>\n      <th>杨悦昕</th>\n      <td>78</td>\n      <td>78</td>\n      <td>78</td>\n      <td>78</td>\n    </tr>\n    <tr>\n      <th>杨智恒</th>\n      <td>82</td>\n      <td>82</td>\n      <td>82</td>\n      <td>82</td>\n    </tr>\n    <tr>\n      <th>杨梓琦</th>\n      <td>87</td>\n      <td>87</td>\n      <td>87</td>\n      <td>87</td>\n    </tr>\n    <tr>\n      <th>叶平</th>\n      <td>63</td>\n      <td>63</td>\n      <td>63</td>\n      <td>63</td>\n    </tr>\n    <tr>\n      <th>张恒</th>\n      <td>83</td>\n      <td>83</td>\n      <td>83</td>\n      <td>83</td>\n    </tr>\n    <tr>\n      <th>张靖薇</th>\n      <td>64</td>\n      <td>64</td>\n      <td>64</td>\n      <td>64</td>\n    </tr>\n    <tr>\n      <th>张阔</th>\n      <td>85</td>\n      <td>85</td>\n      <td>85</td>\n      <td>85</td>\n    </tr>\n    <tr>\n      <th>张睿炫</th>\n      <td>79</td>\n      <td>79</td>\n      <td>79</td>\n      <td>79</td>\n    </tr>\n    <tr>\n      <th>张欣悦</th>\n      <td>66</td>\n      <td>66</td>\n      <td>66</td>\n      <td>66</td>\n    </tr>\n    <tr>\n      <th>张子豪</th>\n      <td>73</td>\n      <td>73</td>\n      <td>73</td>\n      <td>73</td>\n    </tr>\n    <tr>\n      <th>赵彬</th>\n      <td>84</td>\n      <td>84</td>\n      <td>84</td>\n      <td>84</td>\n    </tr>\n    <tr>\n      <th>赵鑫博</th>\n      <td>76</td>\n      <td>76</td>\n      <td>76</td>\n      <td>76</td>\n    </tr>\n    <tr>\n      <th>赵梓豪</th>\n      <td>78</td>\n      <td>78</td>\n      <td>78</td>\n      <td>78</td>\n    </tr>\n    <tr>\n      <th>郑佳睦</th>\n      <td>72</td>\n      <td>72</td>\n      <td>72</td>\n      <td>72</td>\n    </tr>\n    <tr>\n      <th>周泽阳</th>\n      <td>71</td>\n      <td>71</td>\n      <td>71</td>\n      <td>71</td>\n    </tr>\n  </tbody>\n</table>\n</div>"
     },
     "execution_count": 720,
     "metadata": {},
     "output_type": "execute_result"
    }
   ],
   "source": [
    "df"
   ],
   "metadata": {
    "collapsed": false,
    "pycharm": {
     "name": "#%%\n"
    }
   }
  },
  {
   "cell_type": "code",
   "execution_count": 721,
   "outputs": [],
   "source": [
    "# df.to_csv('../Data/inputData/考试成绩数据/考试成绩数据.csv', encoding='utf_8', index=False)"
   ],
   "metadata": {
    "collapsed": false,
    "pycharm": {
     "name": "#%%\n"
    }
   }
  },
  {
   "cell_type": "code",
   "execution_count": 722,
   "outputs": [],
   "source": [
    "# if __name__ == '__main__':\n",
    "#     test = get_all_xlsx(r'../Data/inputData/考试成绩数据')\n",
    "#     print(test['file_path'][:5], '\\n<!-- -->\\n', test['file_name'][:5])"
   ],
   "metadata": {
    "collapsed": false,
    "pycharm": {
     "name": "#%%\n"
    }
   }
  }
 ],
 "metadata": {
  "kernelspec": {
   "display_name": "Python 3",
   "language": "python",
   "name": "python3"
  },
  "language_info": {
   "codemirror_mode": {
    "name": "ipython",
    "version": 2
   },
   "file_extension": ".py",
   "mimetype": "text/x-python",
   "name": "python",
   "nbconvert_exporter": "python",
   "pygments_lexer": "ipython2",
   "version": "2.7.6"
  }
 },
 "nbformat": 4,
 "nbformat_minor": 0
}