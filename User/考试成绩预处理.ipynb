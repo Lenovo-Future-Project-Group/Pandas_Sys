{
 "cells": [
  {
   "cell_type": "code",
   "execution_count": 92,
   "metadata": {
    "collapsed": true,
    "pycharm": {
     "name": "#%%\n"
    }
   },
   "outputs": [],
   "source": [
    "import os\n",
    "import re\n",
    "import pandas as pd"
   ]
  },
  {
   "cell_type": "code",
   "execution_count": 93,
   "outputs": [],
   "source": [
    "def merge_xlsx(xlsx_path, xlsx_name):\n",
    "    data = pd.DataFrame()\n",
    "\n",
    "    result_name = ''\n",
    "\n",
    "    result_path = ''\n",
    "\n",
    "    for name in xlsx_name:\n",
    "        result_name = get_all_date(name)\n",
    "\n",
    "    for path in xlsx_path:\n",
    "        result_path = path\n",
    "\n",
    "    loc = locals()\n",
    "\n",
    "    for file in xlsx_name:\n",
    "        loc[file.split('.')[0]] = pd.read_excel(result_path)\n",
    "        loc[file.split('.')[0]].index = loc[file.split('.')[0]]['姓名']\n",
    "        data[result_name] = loc[file.split('.')[0]]['总成绩']\n",
    "\n",
    "    return data\n"
   ],
   "metadata": {
    "collapsed": false,
    "pycharm": {
     "name": "#%%\n"
    }
   }
  },
  {
   "cell_type": "code",
   "execution_count": 94,
   "outputs": [],
   "source": [
    "def get_all_xlsx(file_dir, file_type='.xlsx'):\n",
    "\n",
    "    name = []\n",
    "\n",
    "    for file in os.listdir(file_dir):\n",
    "        if os.path.splitext(file)[1] == file_type:\n",
    "            name.append(file)\n",
    "\n",
    "    path = []\n",
    "\n",
    "    for root, dirs, files in os.walk(file_dir):\n",
    "        for file in files:\n",
    "            if os.path.splitext(file)[1] == file_type:\n",
    "                path.append(os.path.join(root, file))\n",
    "\n",
    "    # data = {'file_path': [os.path.join(root, file) for root, dirs, files in os.walk(file_dir) for file in files if os.path.splitext(file)[1] == file_type], 'file_name': [file for file in os.listdir(file_dir) if os.path.splitext(file)[1] == file_type]}\n",
    "\n",
    "    data = {'file_path': path, 'file_name': name}\n",
    "\n",
    "    return data"
   ],
   "metadata": {
    "collapsed": false,
    "pycharm": {
     "name": "#%%\n"
    }
   }
  },
  {
   "cell_type": "code",
   "execution_count": 95,
   "outputs": [],
   "source": [
    "def get_all_date(file_name):\n",
    "\n",
    "    search_obj = re.search(r'(.*)春学期_(.*)班(.*)', file_name)\n",
    "\n",
    "    data = re.search(r'_(.*)_期末考试成绩', search_obj.group(3)).group(1)\n",
    "\n",
    "    return data"
   ],
   "metadata": {
    "collapsed": false,
    "pycharm": {
     "name": "#%%\n"
    }
   }
  },
  {
   "cell_type": "code",
   "execution_count": 96,
   "outputs": [],
   "source": [
    "input_xlsx_path = get_all_xlsx(r'../Data/inputData/考试成绩数据/', '.xlsx')['file_path']\n",
    "input_xlsx_name = get_all_xlsx(r'../Data/inputData/考试成绩数据/', '.xlsx')['file_name']\n",
    "\n",
    "df = merge_xlsx(input_xlsx_path, input_xlsx_name)"
   ],
   "metadata": {
    "collapsed": false,
    "pycharm": {
     "name": "#%%\n"
    }
   }
  },
  {
   "cell_type": "code",
   "execution_count": 97,
   "outputs": [],
   "source": [
    "# df.drop(df.columns[[-1, -2]], axis=1, inplace=True)"
   ],
   "metadata": {
    "collapsed": false,
    "pycharm": {
     "name": "#%%\n"
    }
   }
  },
  {
   "cell_type": "code",
   "execution_count": 98,
   "outputs": [
    {
     "data": {
      "text/plain": "     职业素养\n姓名       \n黄新之    21\n吕梦丽    85\n王孝天    71\n杨悦昕    85\n曹奥博    82\n周泽阳    77\n杨智恒    79\n张靖薇    74\n杨梓琦    77\n张子豪    60\n牛皓冬    82\n刘嘉琦    83\n孙圆     73\n南怀恩    83\n叶平     79\n王浩羽    83\n陈泳澎    78\n汪君垚    77\n吕铭     74\n李蓉轩    89\n付一鸣    85\n李博远    87\n孙佳奇    81\n崔昊元    87\n苏楠     60\n黄博勋    70\n张阔     74\n赵彬     75\n顾同     75\n闫世旭    82\n墨梓恒    78\n张欣悦    60\n郑佳睦    73\n咸鑫晴    75\n潘艺涵    77\n丁小雷    73\n邢鹏     79\n贾旭     56\n胡皓筑    82\n刘子豪    83\n白轶臣    82\n刘溢     78\n张恒     82\n贾靖程    87\n刘洋     63\n黄杉     83\n王嵩     64\n侯文杰    85\n张睿炫    79\n陆毅     66\n赵鑫博    73\n赵梓豪    84\n靳馨娴    76\n陈观绅    78\n蒋文拓    72\n吴俊岳    71",
      "text/html": "<div>\n<style scoped>\n    .dataframe tbody tr th:only-of-type {\n        vertical-align: middle;\n    }\n\n    .dataframe tbody tr th {\n        vertical-align: top;\n    }\n\n    .dataframe thead th {\n        text-align: right;\n    }\n</style>\n<table border=\"1\" class=\"dataframe\">\n  <thead>\n    <tr style=\"text-align: right;\">\n      <th></th>\n      <th>职业素养</th>\n    </tr>\n    <tr>\n      <th>姓名</th>\n      <th></th>\n    </tr>\n  </thead>\n  <tbody>\n    <tr>\n      <th>黄新之</th>\n      <td>21</td>\n    </tr>\n    <tr>\n      <th>吕梦丽</th>\n      <td>85</td>\n    </tr>\n    <tr>\n      <th>王孝天</th>\n      <td>71</td>\n    </tr>\n    <tr>\n      <th>杨悦昕</th>\n      <td>85</td>\n    </tr>\n    <tr>\n      <th>曹奥博</th>\n      <td>82</td>\n    </tr>\n    <tr>\n      <th>周泽阳</th>\n      <td>77</td>\n    </tr>\n    <tr>\n      <th>杨智恒</th>\n      <td>79</td>\n    </tr>\n    <tr>\n      <th>张靖薇</th>\n      <td>74</td>\n    </tr>\n    <tr>\n      <th>杨梓琦</th>\n      <td>77</td>\n    </tr>\n    <tr>\n      <th>张子豪</th>\n      <td>60</td>\n    </tr>\n    <tr>\n      <th>牛皓冬</th>\n      <td>82</td>\n    </tr>\n    <tr>\n      <th>刘嘉琦</th>\n      <td>83</td>\n    </tr>\n    <tr>\n      <th>孙圆</th>\n      <td>73</td>\n    </tr>\n    <tr>\n      <th>南怀恩</th>\n      <td>83</td>\n    </tr>\n    <tr>\n      <th>叶平</th>\n      <td>79</td>\n    </tr>\n    <tr>\n      <th>王浩羽</th>\n      <td>83</td>\n    </tr>\n    <tr>\n      <th>陈泳澎</th>\n      <td>78</td>\n    </tr>\n    <tr>\n      <th>汪君垚</th>\n      <td>77</td>\n    </tr>\n    <tr>\n      <th>吕铭</th>\n      <td>74</td>\n    </tr>\n    <tr>\n      <th>李蓉轩</th>\n      <td>89</td>\n    </tr>\n    <tr>\n      <th>付一鸣</th>\n      <td>85</td>\n    </tr>\n    <tr>\n      <th>李博远</th>\n      <td>87</td>\n    </tr>\n    <tr>\n      <th>孙佳奇</th>\n      <td>81</td>\n    </tr>\n    <tr>\n      <th>崔昊元</th>\n      <td>87</td>\n    </tr>\n    <tr>\n      <th>苏楠</th>\n      <td>60</td>\n    </tr>\n    <tr>\n      <th>黄博勋</th>\n      <td>70</td>\n    </tr>\n    <tr>\n      <th>张阔</th>\n      <td>74</td>\n    </tr>\n    <tr>\n      <th>赵彬</th>\n      <td>75</td>\n    </tr>\n    <tr>\n      <th>顾同</th>\n      <td>75</td>\n    </tr>\n    <tr>\n      <th>闫世旭</th>\n      <td>82</td>\n    </tr>\n    <tr>\n      <th>墨梓恒</th>\n      <td>78</td>\n    </tr>\n    <tr>\n      <th>张欣悦</th>\n      <td>60</td>\n    </tr>\n    <tr>\n      <th>郑佳睦</th>\n      <td>73</td>\n    </tr>\n    <tr>\n      <th>咸鑫晴</th>\n      <td>75</td>\n    </tr>\n    <tr>\n      <th>潘艺涵</th>\n      <td>77</td>\n    </tr>\n    <tr>\n      <th>丁小雷</th>\n      <td>73</td>\n    </tr>\n    <tr>\n      <th>邢鹏</th>\n      <td>79</td>\n    </tr>\n    <tr>\n      <th>贾旭</th>\n      <td>56</td>\n    </tr>\n    <tr>\n      <th>胡皓筑</th>\n      <td>82</td>\n    </tr>\n    <tr>\n      <th>刘子豪</th>\n      <td>83</td>\n    </tr>\n    <tr>\n      <th>白轶臣</th>\n      <td>82</td>\n    </tr>\n    <tr>\n      <th>刘溢</th>\n      <td>78</td>\n    </tr>\n    <tr>\n      <th>张恒</th>\n      <td>82</td>\n    </tr>\n    <tr>\n      <th>贾靖程</th>\n      <td>87</td>\n    </tr>\n    <tr>\n      <th>刘洋</th>\n      <td>63</td>\n    </tr>\n    <tr>\n      <th>黄杉</th>\n      <td>83</td>\n    </tr>\n    <tr>\n      <th>王嵩</th>\n      <td>64</td>\n    </tr>\n    <tr>\n      <th>侯文杰</th>\n      <td>85</td>\n    </tr>\n    <tr>\n      <th>张睿炫</th>\n      <td>79</td>\n    </tr>\n    <tr>\n      <th>陆毅</th>\n      <td>66</td>\n    </tr>\n    <tr>\n      <th>赵鑫博</th>\n      <td>73</td>\n    </tr>\n    <tr>\n      <th>赵梓豪</th>\n      <td>84</td>\n    </tr>\n    <tr>\n      <th>靳馨娴</th>\n      <td>76</td>\n    </tr>\n    <tr>\n      <th>陈观绅</th>\n      <td>78</td>\n    </tr>\n    <tr>\n      <th>蒋文拓</th>\n      <td>72</td>\n    </tr>\n    <tr>\n      <th>吴俊岳</th>\n      <td>71</td>\n    </tr>\n  </tbody>\n</table>\n</div>"
     },
     "execution_count": 98,
     "metadata": {},
     "output_type": "execute_result"
    }
   ],
   "source": [
    "df"
   ],
   "metadata": {
    "collapsed": false,
    "pycharm": {
     "name": "#%%\n"
    }
   }
  },
  {
   "cell_type": "code",
   "execution_count": 99,
   "outputs": [],
   "source": [
    "# df.to_csv('../Data/inputData/考试成绩数据/考试成绩数据.csv', encoding='utf_8', index=False)"
   ],
   "metadata": {
    "collapsed": false,
    "pycharm": {
     "name": "#%%\n"
    }
   }
  },
  {
   "cell_type": "code",
   "execution_count": 100,
   "outputs": [],
   "source": [
    "# if __name__ == '__main__':\n",
    "#     test = get_all_xlsx(r'../Data/inputData/考试成绩数据')\n",
    "#     print(test['file_path'][:5], '\\n<!-- -->\\n', test['file_name'][:5])"
   ],
   "metadata": {
    "collapsed": false,
    "pycharm": {
     "name": "#%%\n"
    }
   }
  }
 ],
 "metadata": {
  "kernelspec": {
   "display_name": "Python 3",
   "language": "python",
   "name": "python3"
  },
  "language_info": {
   "codemirror_mode": {
    "name": "ipython",
    "version": 2
   },
   "file_extension": ".py",
   "mimetype": "text/x-python",
   "name": "python",
   "nbconvert_exporter": "python",
   "pygments_lexer": "ipython2",
   "version": "2.7.6"
  }
 },
 "nbformat": 4,
 "nbformat_minor": 0
}