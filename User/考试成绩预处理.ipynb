{
 "cells": [
  {
   "cell_type": "code",
   "execution_count": 60,
   "metadata": {
    "collapsed": true,
    "pycharm": {
     "name": "#%%\n"
    }
   },
   "outputs": [],
   "source": [
    "import os\n",
    "import pandas as pd"
   ]
  },
  {
   "cell_type": "code",
   "execution_count": 61,
   "outputs": [],
   "source": [
    "def merge_xlsx(xlsx_path, xlsx_name):\n",
    "    data = pd.DataFrame()\n",
    "    for path in xlsx_path:\n",
    "        excel_df = pd.read_excel(path)\n",
    "\n",
    "        data = data.append(excel_df)\n",
    "\n",
    "    return data"
   ],
   "metadata": {
    "collapsed": false,
    "pycharm": {
     "name": "#%%\n"
    }
   }
  },
  {
   "cell_type": "code",
   "execution_count": 62,
   "outputs": [],
   "source": [
    "def get_all_xlsx(file_dir, file_type='.xlsx'):\n",
    "\n",
    "    name = []\n",
    "\n",
    "    for file in os.listdir(file_dir):\n",
    "        if os.path.splitext(file)[1] == file_type:\n",
    "            name.append(file)\n",
    "\n",
    "    path = []\n",
    "\n",
    "    for root, dirs, files in os.walk(file_dir):\n",
    "        for file in files:\n",
    "            if os.path.splitext(file)[1] == file_type:\n",
    "                path.append(os.path.join(root, file))\n",
    "\n",
    "    # data = {'file_path': [os.path.join(root, file) for root, dirs, files in os.walk(file_dir) for file in files if os.path.splitext(file)[1] == file_type], 'file_name': [file for file in os.listdir(file_dir) if os.path.splitext(file)[1] == file_type]}\n",
    "\n",
    "    data = {'file_path': path, 'file_name': name}\n",
    "\n",
    "    return data"
   ],
   "metadata": {
    "collapsed": false,
    "pycharm": {
     "name": "#%%\n"
    }
   }
  },
  {
   "cell_type": "code",
   "execution_count": 63,
   "outputs": [
    {
     "name": "stderr",
     "output_type": "stream",
     "text": [
      "C:\\Users\\Bing_John\\AppData\\Local\\Temp\\ipykernel_33012\\3342372146.py:6: FutureWarning: The frame.append method is deprecated and will be removed from pandas in a future version. Use pandas.concat instead.\n",
      "  data = data.append(excel_df)\n",
      "C:\\Users\\Bing_John\\AppData\\Local\\Temp\\ipykernel_33012\\3342372146.py:6: FutureWarning: The frame.append method is deprecated and will be removed from pandas in a future version. Use pandas.concat instead.\n",
      "  data = data.append(excel_df)\n",
      "C:\\Users\\Bing_John\\AppData\\Local\\Temp\\ipykernel_33012\\3342372146.py:6: FutureWarning: The frame.append method is deprecated and will be removed from pandas in a future version. Use pandas.concat instead.\n",
      "  data = data.append(excel_df)\n",
      "C:\\Users\\Bing_John\\AppData\\Local\\Temp\\ipykernel_33012\\3342372146.py:6: FutureWarning: The frame.append method is deprecated and will be removed from pandas in a future version. Use pandas.concat instead.\n",
      "  data = data.append(excel_df)\n"
     ]
    }
   ],
   "source": [
    "input_xlsx_path = get_all_xlsx(r'../Data/inputData/考试成绩数据/', '.xlsx')['file_path']\n",
    "input_xlsx_name = get_all_xlsx(r'../Data/inputData/考试成绩数据/', '.xlsx')['file_name']\n",
    "\n",
    "df = merge_xlsx(input_xlsx_path, input_xlsx_name)"
   ],
   "metadata": {
    "collapsed": false,
    "pycharm": {
     "name": "#%%\n"
    }
   }
  },
  {
   "cell_type": "code",
   "execution_count": 64,
   "outputs": [
    {
     "data": {
      "text/plain": "    序号   姓名       班级  总成绩   选择题   简单题\n0   41  白轶臣  大数据20-2   66   NaN   NaN\n1    5  曹奥博  大数据20-1   79   NaN   NaN\n2   54  陈观绅  大数据20-2   79   NaN   NaN\n3   17  陈泳澎  大数据20-1   75   NaN   NaN\n4   24  崔昊元  大数据20-1   85   NaN   NaN\n..  ..  ...      ...  ...   ...   ...\n51  52  赵梓豪  大数据20-2   84  54.0  30.0\n52  53  靳馨娴  大数据20-2   76  45.0  31.0\n53  54  陈观绅  大数据20-2   78  42.0  36.0\n54  55  蒋文拓  大数据20-2   72  39.0  33.0\n55  56  吴俊岳  大数据20-2   71  51.0  20.0\n\n[224 rows x 6 columns]",
      "text/html": "<div>\n<style scoped>\n    .dataframe tbody tr th:only-of-type {\n        vertical-align: middle;\n    }\n\n    .dataframe tbody tr th {\n        vertical-align: top;\n    }\n\n    .dataframe thead th {\n        text-align: right;\n    }\n</style>\n<table border=\"1\" class=\"dataframe\">\n  <thead>\n    <tr style=\"text-align: right;\">\n      <th></th>\n      <th>序号</th>\n      <th>姓名</th>\n      <th>班级</th>\n      <th>总成绩</th>\n      <th>选择题</th>\n      <th>简单题</th>\n    </tr>\n  </thead>\n  <tbody>\n    <tr>\n      <th>0</th>\n      <td>41</td>\n      <td>白轶臣</td>\n      <td>大数据20-2</td>\n      <td>66</td>\n      <td>NaN</td>\n      <td>NaN</td>\n    </tr>\n    <tr>\n      <th>1</th>\n      <td>5</td>\n      <td>曹奥博</td>\n      <td>大数据20-1</td>\n      <td>79</td>\n      <td>NaN</td>\n      <td>NaN</td>\n    </tr>\n    <tr>\n      <th>2</th>\n      <td>54</td>\n      <td>陈观绅</td>\n      <td>大数据20-2</td>\n      <td>79</td>\n      <td>NaN</td>\n      <td>NaN</td>\n    </tr>\n    <tr>\n      <th>3</th>\n      <td>17</td>\n      <td>陈泳澎</td>\n      <td>大数据20-1</td>\n      <td>75</td>\n      <td>NaN</td>\n      <td>NaN</td>\n    </tr>\n    <tr>\n      <th>4</th>\n      <td>24</td>\n      <td>崔昊元</td>\n      <td>大数据20-1</td>\n      <td>85</td>\n      <td>NaN</td>\n      <td>NaN</td>\n    </tr>\n    <tr>\n      <th>...</th>\n      <td>...</td>\n      <td>...</td>\n      <td>...</td>\n      <td>...</td>\n      <td>...</td>\n      <td>...</td>\n    </tr>\n    <tr>\n      <th>51</th>\n      <td>52</td>\n      <td>赵梓豪</td>\n      <td>大数据20-2</td>\n      <td>84</td>\n      <td>54.0</td>\n      <td>30.0</td>\n    </tr>\n    <tr>\n      <th>52</th>\n      <td>53</td>\n      <td>靳馨娴</td>\n      <td>大数据20-2</td>\n      <td>76</td>\n      <td>45.0</td>\n      <td>31.0</td>\n    </tr>\n    <tr>\n      <th>53</th>\n      <td>54</td>\n      <td>陈观绅</td>\n      <td>大数据20-2</td>\n      <td>78</td>\n      <td>42.0</td>\n      <td>36.0</td>\n    </tr>\n    <tr>\n      <th>54</th>\n      <td>55</td>\n      <td>蒋文拓</td>\n      <td>大数据20-2</td>\n      <td>72</td>\n      <td>39.0</td>\n      <td>33.0</td>\n    </tr>\n    <tr>\n      <th>55</th>\n      <td>56</td>\n      <td>吴俊岳</td>\n      <td>大数据20-2</td>\n      <td>71</td>\n      <td>51.0</td>\n      <td>20.0</td>\n    </tr>\n  </tbody>\n</table>\n<p>224 rows × 6 columns</p>\n</div>"
     },
     "execution_count": 64,
     "metadata": {},
     "output_type": "execute_result"
    }
   ],
   "source": [
    "df"
   ],
   "metadata": {
    "collapsed": false,
    "pycharm": {
     "name": "#%%\n"
    }
   }
  },
  {
   "cell_type": "markdown",
   "source": [],
   "metadata": {
    "collapsed": false,
    "pycharm": {
     "name": "#%% md\n"
    }
   }
  },
  {
   "cell_type": "code",
   "execution_count": 65,
   "outputs": [],
   "source": [
    "df.drop(['选择题', '简单题'], axis=1, inplace=True)"
   ],
   "metadata": {
    "collapsed": false,
    "pycharm": {
     "name": "#%%\n"
    }
   }
  },
  {
   "cell_type": "code",
   "execution_count": 66,
   "outputs": [],
   "source": [
    "df.to_csv('../Data/inputData/考试成绩数据/考试成绩数据.csv', encoding='utf_8', index=False)"
   ],
   "metadata": {
    "collapsed": false,
    "pycharm": {
     "name": "#%%\n"
    }
   }
  },
  {
   "cell_type": "code",
   "execution_count": 67,
   "outputs": [],
   "source": [
    "# if __name__ == '__main__':\n",
    "#     test = get_all_xlsx(r'../Data/inputData/考试成绩数据')\n",
    "#     print(test['file_path'][:5], '\\n<!-- -->\\n', test['file_name'][:5])"
   ],
   "metadata": {
    "collapsed": false,
    "pycharm": {
     "name": "#%%\n"
    }
   }
  }
 ],
 "metadata": {
  "kernelspec": {
   "display_name": "Python 3",
   "language": "python",
   "name": "python3"
  },
  "language_info": {
   "codemirror_mode": {
    "name": "ipython",
    "version": 2
   },
   "file_extension": ".py",
   "mimetype": "text/x-python",
   "name": "python",
   "nbconvert_exporter": "python",
   "pygments_lexer": "ipython2",
   "version": "2.7.6"
  }
 },
 "nbformat": 4,
 "nbformat_minor": 0
}