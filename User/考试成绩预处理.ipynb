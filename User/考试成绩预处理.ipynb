{
 "cells": [
  {
   "cell_type": "code",
   "execution_count": 15,
   "metadata": {
    "collapsed": true,
    "pycharm": {
     "name": "#%%\n"
    }
   },
   "outputs": [],
   "source": [
    "import os\n",
    "import re\n",
    "import pandas as pd"
   ]
  },
  {
   "cell_type": "code",
   "execution_count": 16,
   "outputs": [],
   "source": [
    "def merge_xlsx(xlsx_path):\n",
    "    data = pd.DataFrame()\n",
    "    loc = locals()\n",
    "    df_temp = None\n",
    "\n",
    "    for temp in [_ for _ in range(len(xlsx_path))]:\n",
    "        df_temp = temp\n",
    "    for path in xlsx_path:\n",
    "        loc[f'df{df_temp}'] = pd.read_excel(path)\n",
    "        loc[f'df{df_temp}'].index = loc[f'df{df_temp}']['姓名']\n",
    "        data[get_all_date(path)] = loc[f'df{df_temp}']['总成绩']\n",
    "    return data"
   ],
   "metadata": {
    "collapsed": false,
    "pycharm": {
     "name": "#%%\n"
    }
   }
  },
  {
   "cell_type": "code",
   "execution_count": 17,
   "outputs": [],
   "source": [
    "def get_all_xlsx(file_dir, file_type='.xlsx'):\n",
    "\n",
    "    data = {'file_path': [os.path.join(root, file) for root, dirs, files in os.walk(file_dir) for file in files if os.path.splitext(file)[1] == file_type], 'file_name': [file for file in os.listdir(file_dir) if os.path.splitext(file)[1] == file_type]}\n",
    "\n",
    "    return data"
   ],
   "metadata": {
    "collapsed": false,
    "pycharm": {
     "name": "#%%\n"
    }
   }
  },
  {
   "cell_type": "code",
   "execution_count": 18,
   "outputs": [],
   "source": [
    "def get_all_date(file_name):\n",
    "\n",
    "    data = re.search(r'_(.*)_期末考试成绩', re.search(r'(.*)春学期_(.*)班(.*)', file_name).group(3)).group(1)\n",
    "\n",
    "    return data"
   ],
   "metadata": {
    "collapsed": false,
    "pycharm": {
     "name": "#%%\n"
    }
   }
  },
  {
   "cell_type": "code",
   "execution_count": 19,
   "outputs": [],
   "source": [
    "df = merge_xlsx(get_all_xlsx(r'../Data/inputData/考试成绩数据/', '.xlsx')['file_path'])"
   ],
   "metadata": {
    "collapsed": false,
    "pycharm": {
     "name": "#%%\n"
    }
   }
  },
  {
   "cell_type": "code",
   "execution_count": 20,
   "outputs": [
    {
     "data": {
      "text/plain": "     互联网数据采集  大数据分析与实现  数据可视化设计与实现  职业素养\n姓名                                      \n白轶臣       66        62          72    82\n曹奥博       79        71          64    82\n陈观绅       79        82          87    78\n陈泳澎       75        75          80    78\n崔昊元       85        74          88    87\n丁小雷       75        64          65    73\n付一鸣       87        84         100    85\n顾同        71        72          88    75\n侯文杰       73        53          75    85\n胡皓筑       62        82          90    82\n黄博勋       81        68          80    70\n黄杉        70        64          68    83\n黄新之       30        34          60    21\n贾靖程       82        64          82    87\n贾旭        22        14          22    56\n蒋文拓       50        79          94    72\n靳馨娴       83        82          80    76\n李博远       87        84          88    87\n李蓉轩       87        86          98    89\n刘嘉琦       70        62          60    83\n刘洋        83        80          84    63\n刘溢        77        78          68    78\n刘子豪       73        82          86    83\n陆毅        32        50          75    66\n吕梦丽       95        78          80    85\n吕铭        75        75          75    74\n墨梓恒       63        54          64    78\n南怀恩       77        62          88    83\n牛皓冬       71        66          77    82\n潘艺涵       62        68          84    77\n苏楠        53        63          72    60\n孙佳奇       73        69          72    81\n孙圆        63        46          65    73\n汪君垚       69        76          92    77\n王浩羽       74        62          86    83\n王嵩        75        60          83    64\n王孝天       98        70          98    71\n吴俊岳       68        62          84    71\n咸鑫晴       73        72          90    75\n邢鹏        78        72          90    79\n闫世旭       72        83          94    82\n杨悦昕       93        80          98    85\n杨智恒       80        70          64    79\n杨梓琦       73        56          60    77\n叶平        83        69          82    79\n张恒        75        76          76    82\n张靖薇       62        62          86    74\n张阔        88        86          85    74\n张睿炫       73        78          84    79\n张欣悦       38        30          46    60\n张子豪       73        56          82    60\n赵彬        67        60          86    75\n赵鑫博       67        66          78    73\n赵梓豪       78        72          78    84\n郑佳睦       84        81          73    73\n周泽阳       34        30          60    77",
      "text/html": "<div>\n<style scoped>\n    .dataframe tbody tr th:only-of-type {\n        vertical-align: middle;\n    }\n\n    .dataframe tbody tr th {\n        vertical-align: top;\n    }\n\n    .dataframe thead th {\n        text-align: right;\n    }\n</style>\n<table border=\"1\" class=\"dataframe\">\n  <thead>\n    <tr style=\"text-align: right;\">\n      <th></th>\n      <th>互联网数据采集</th>\n      <th>大数据分析与实现</th>\n      <th>数据可视化设计与实现</th>\n      <th>职业素养</th>\n    </tr>\n    <tr>\n      <th>姓名</th>\n      <th></th>\n      <th></th>\n      <th></th>\n      <th></th>\n    </tr>\n  </thead>\n  <tbody>\n    <tr>\n      <th>白轶臣</th>\n      <td>66</td>\n      <td>62</td>\n      <td>72</td>\n      <td>82</td>\n    </tr>\n    <tr>\n      <th>曹奥博</th>\n      <td>79</td>\n      <td>71</td>\n      <td>64</td>\n      <td>82</td>\n    </tr>\n    <tr>\n      <th>陈观绅</th>\n      <td>79</td>\n      <td>82</td>\n      <td>87</td>\n      <td>78</td>\n    </tr>\n    <tr>\n      <th>陈泳澎</th>\n      <td>75</td>\n      <td>75</td>\n      <td>80</td>\n      <td>78</td>\n    </tr>\n    <tr>\n      <th>崔昊元</th>\n      <td>85</td>\n      <td>74</td>\n      <td>88</td>\n      <td>87</td>\n    </tr>\n    <tr>\n      <th>丁小雷</th>\n      <td>75</td>\n      <td>64</td>\n      <td>65</td>\n      <td>73</td>\n    </tr>\n    <tr>\n      <th>付一鸣</th>\n      <td>87</td>\n      <td>84</td>\n      <td>100</td>\n      <td>85</td>\n    </tr>\n    <tr>\n      <th>顾同</th>\n      <td>71</td>\n      <td>72</td>\n      <td>88</td>\n      <td>75</td>\n    </tr>\n    <tr>\n      <th>侯文杰</th>\n      <td>73</td>\n      <td>53</td>\n      <td>75</td>\n      <td>85</td>\n    </tr>\n    <tr>\n      <th>胡皓筑</th>\n      <td>62</td>\n      <td>82</td>\n      <td>90</td>\n      <td>82</td>\n    </tr>\n    <tr>\n      <th>黄博勋</th>\n      <td>81</td>\n      <td>68</td>\n      <td>80</td>\n      <td>70</td>\n    </tr>\n    <tr>\n      <th>黄杉</th>\n      <td>70</td>\n      <td>64</td>\n      <td>68</td>\n      <td>83</td>\n    </tr>\n    <tr>\n      <th>黄新之</th>\n      <td>30</td>\n      <td>34</td>\n      <td>60</td>\n      <td>21</td>\n    </tr>\n    <tr>\n      <th>贾靖程</th>\n      <td>82</td>\n      <td>64</td>\n      <td>82</td>\n      <td>87</td>\n    </tr>\n    <tr>\n      <th>贾旭</th>\n      <td>22</td>\n      <td>14</td>\n      <td>22</td>\n      <td>56</td>\n    </tr>\n    <tr>\n      <th>蒋文拓</th>\n      <td>50</td>\n      <td>79</td>\n      <td>94</td>\n      <td>72</td>\n    </tr>\n    <tr>\n      <th>靳馨娴</th>\n      <td>83</td>\n      <td>82</td>\n      <td>80</td>\n      <td>76</td>\n    </tr>\n    <tr>\n      <th>李博远</th>\n      <td>87</td>\n      <td>84</td>\n      <td>88</td>\n      <td>87</td>\n    </tr>\n    <tr>\n      <th>李蓉轩</th>\n      <td>87</td>\n      <td>86</td>\n      <td>98</td>\n      <td>89</td>\n    </tr>\n    <tr>\n      <th>刘嘉琦</th>\n      <td>70</td>\n      <td>62</td>\n      <td>60</td>\n      <td>83</td>\n    </tr>\n    <tr>\n      <th>刘洋</th>\n      <td>83</td>\n      <td>80</td>\n      <td>84</td>\n      <td>63</td>\n    </tr>\n    <tr>\n      <th>刘溢</th>\n      <td>77</td>\n      <td>78</td>\n      <td>68</td>\n      <td>78</td>\n    </tr>\n    <tr>\n      <th>刘子豪</th>\n      <td>73</td>\n      <td>82</td>\n      <td>86</td>\n      <td>83</td>\n    </tr>\n    <tr>\n      <th>陆毅</th>\n      <td>32</td>\n      <td>50</td>\n      <td>75</td>\n      <td>66</td>\n    </tr>\n    <tr>\n      <th>吕梦丽</th>\n      <td>95</td>\n      <td>78</td>\n      <td>80</td>\n      <td>85</td>\n    </tr>\n    <tr>\n      <th>吕铭</th>\n      <td>75</td>\n      <td>75</td>\n      <td>75</td>\n      <td>74</td>\n    </tr>\n    <tr>\n      <th>墨梓恒</th>\n      <td>63</td>\n      <td>54</td>\n      <td>64</td>\n      <td>78</td>\n    </tr>\n    <tr>\n      <th>南怀恩</th>\n      <td>77</td>\n      <td>62</td>\n      <td>88</td>\n      <td>83</td>\n    </tr>\n    <tr>\n      <th>牛皓冬</th>\n      <td>71</td>\n      <td>66</td>\n      <td>77</td>\n      <td>82</td>\n    </tr>\n    <tr>\n      <th>潘艺涵</th>\n      <td>62</td>\n      <td>68</td>\n      <td>84</td>\n      <td>77</td>\n    </tr>\n    <tr>\n      <th>苏楠</th>\n      <td>53</td>\n      <td>63</td>\n      <td>72</td>\n      <td>60</td>\n    </tr>\n    <tr>\n      <th>孙佳奇</th>\n      <td>73</td>\n      <td>69</td>\n      <td>72</td>\n      <td>81</td>\n    </tr>\n    <tr>\n      <th>孙圆</th>\n      <td>63</td>\n      <td>46</td>\n      <td>65</td>\n      <td>73</td>\n    </tr>\n    <tr>\n      <th>汪君垚</th>\n      <td>69</td>\n      <td>76</td>\n      <td>92</td>\n      <td>77</td>\n    </tr>\n    <tr>\n      <th>王浩羽</th>\n      <td>74</td>\n      <td>62</td>\n      <td>86</td>\n      <td>83</td>\n    </tr>\n    <tr>\n      <th>王嵩</th>\n      <td>75</td>\n      <td>60</td>\n      <td>83</td>\n      <td>64</td>\n    </tr>\n    <tr>\n      <th>王孝天</th>\n      <td>98</td>\n      <td>70</td>\n      <td>98</td>\n      <td>71</td>\n    </tr>\n    <tr>\n      <th>吴俊岳</th>\n      <td>68</td>\n      <td>62</td>\n      <td>84</td>\n      <td>71</td>\n    </tr>\n    <tr>\n      <th>咸鑫晴</th>\n      <td>73</td>\n      <td>72</td>\n      <td>90</td>\n      <td>75</td>\n    </tr>\n    <tr>\n      <th>邢鹏</th>\n      <td>78</td>\n      <td>72</td>\n      <td>90</td>\n      <td>79</td>\n    </tr>\n    <tr>\n      <th>闫世旭</th>\n      <td>72</td>\n      <td>83</td>\n      <td>94</td>\n      <td>82</td>\n    </tr>\n    <tr>\n      <th>杨悦昕</th>\n      <td>93</td>\n      <td>80</td>\n      <td>98</td>\n      <td>85</td>\n    </tr>\n    <tr>\n      <th>杨智恒</th>\n      <td>80</td>\n      <td>70</td>\n      <td>64</td>\n      <td>79</td>\n    </tr>\n    <tr>\n      <th>杨梓琦</th>\n      <td>73</td>\n      <td>56</td>\n      <td>60</td>\n      <td>77</td>\n    </tr>\n    <tr>\n      <th>叶平</th>\n      <td>83</td>\n      <td>69</td>\n      <td>82</td>\n      <td>79</td>\n    </tr>\n    <tr>\n      <th>张恒</th>\n      <td>75</td>\n      <td>76</td>\n      <td>76</td>\n      <td>82</td>\n    </tr>\n    <tr>\n      <th>张靖薇</th>\n      <td>62</td>\n      <td>62</td>\n      <td>86</td>\n      <td>74</td>\n    </tr>\n    <tr>\n      <th>张阔</th>\n      <td>88</td>\n      <td>86</td>\n      <td>85</td>\n      <td>74</td>\n    </tr>\n    <tr>\n      <th>张睿炫</th>\n      <td>73</td>\n      <td>78</td>\n      <td>84</td>\n      <td>79</td>\n    </tr>\n    <tr>\n      <th>张欣悦</th>\n      <td>38</td>\n      <td>30</td>\n      <td>46</td>\n      <td>60</td>\n    </tr>\n    <tr>\n      <th>张子豪</th>\n      <td>73</td>\n      <td>56</td>\n      <td>82</td>\n      <td>60</td>\n    </tr>\n    <tr>\n      <th>赵彬</th>\n      <td>67</td>\n      <td>60</td>\n      <td>86</td>\n      <td>75</td>\n    </tr>\n    <tr>\n      <th>赵鑫博</th>\n      <td>67</td>\n      <td>66</td>\n      <td>78</td>\n      <td>73</td>\n    </tr>\n    <tr>\n      <th>赵梓豪</th>\n      <td>78</td>\n      <td>72</td>\n      <td>78</td>\n      <td>84</td>\n    </tr>\n    <tr>\n      <th>郑佳睦</th>\n      <td>84</td>\n      <td>81</td>\n      <td>73</td>\n      <td>73</td>\n    </tr>\n    <tr>\n      <th>周泽阳</th>\n      <td>34</td>\n      <td>30</td>\n      <td>60</td>\n      <td>77</td>\n    </tr>\n  </tbody>\n</table>\n</div>"
     },
     "execution_count": 20,
     "metadata": {},
     "output_type": "execute_result"
    }
   ],
   "source": [
    "df"
   ],
   "metadata": {
    "collapsed": false,
    "pycharm": {
     "name": "#%%\n"
    }
   }
  },
  {
   "cell_type": "code",
   "execution_count": 21,
   "outputs": [],
   "source": [
    "df.to_csv('../Data/inputData/考试成绩数据/考试成绩数据.csv', encoding='utf_8', index=False)"
   ],
   "metadata": {
    "collapsed": false,
    "pycharm": {
     "name": "#%%\n"
    }
   }
  },
  {
   "cell_type": "code",
   "execution_count": 22,
   "outputs": [],
   "source": [
    "# if __name__ == '__main__':\n",
    "#     test = get_all_xlsx(r'../Data/inputData/考试成绩数据')\n",
    "#     print(test['file_path'][:5], '\\n<!-- -->\\n', test['file_name'][:5])"
   ],
   "metadata": {
    "collapsed": false,
    "pycharm": {
     "name": "#%%\n"
    }
   }
  }
 ],
 "metadata": {
  "kernelspec": {
   "display_name": "Python 3",
   "language": "python",
   "name": "python3"
  },
  "language_info": {
   "codemirror_mode": {
    "name": "ipython",
    "version": 2
   },
   "file_extension": ".py",
   "mimetype": "text/x-python",
   "name": "python",
   "nbconvert_exporter": "python",
   "pygments_lexer": "ipython2",
   "version": "2.7.6"
  }
 },
 "nbformat": 4,
 "nbformat_minor": 0
}