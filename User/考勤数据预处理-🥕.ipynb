{
 "cells": [
  {
   "cell_type": "code",
   "execution_count": 40,
   "outputs": [],
   "source": [
    "import os\n",
    "import re\n",
    "import pandas as pd"
   ],
   "metadata": {
    "collapsed": false,
    "pycharm": {
     "name": "#%%\n"
    }
   }
  },
  {
   "cell_type": "code",
   "execution_count": 41,
   "outputs": [],
   "source": [
    "def merge_xlsx(xlsx_path):\n",
    "    data = pd.DataFrame()\n",
    "\n",
    "    for path in xlsx_path:\n",
    "        excel_df = pd.read_excel(path)\n",
    "        excel_df.rename(columns={'编号': 'id', '名单': 'name', '考勤': 'kq', '说明': 'desc'}, inplace=True)\n",
    "\n",
    "        # excel_df新增列\n",
    "        excel_df['date'] =  get_all_date(path)['data']\n",
    "        excel_df['room'] =  get_all_date(path)['room']\n",
    "        excel_df['class_num'] =  get_all_date(path)['class_num']\n",
    "\n",
    "        data = data.append(excel_df)\n",
    "\n",
    "    return data"
   ],
   "metadata": {
    "collapsed": false,
    "pycharm": {
     "name": "#%%\n"
    }
   }
  },
  {
   "cell_type": "code",
   "execution_count": 42,
   "outputs": [],
   "source": [
    "def get_all_xlsx(file_dir, file_type='.xlsx'):\n",
    "\n",
    "    name = []\n",
    "\n",
    "    for file in os.listdir(file_dir):\n",
    "        if os.path.splitext(file)[1] == file_type:\n",
    "            name.append(file)\n",
    "\n",
    "    path = []\n",
    "\n",
    "    for root, dirs, files in os.walk(file_dir):\n",
    "        for file in files:\n",
    "            if os.path.splitext(file)[1] == file_type:\n",
    "                path.append(os.path.join(root, file))\n",
    "\n",
    "    # data = {'file_path': [os.path.join(root, file) for root, dirs, files in os.walk(file_dir) for file in files if os.path.splitext(file)[1] == file_type], 'file_name': [file for file in os.listdir(file_dir) if os.path.splitext(file)[1] == file_type]}\n",
    "\n",
    "    data = {'file_path': path, 'file_name': name}\n",
    "\n",
    "    return data"
   ],
   "metadata": {
    "collapsed": false,
    "pycharm": {
     "name": "#%%\n"
    }
   }
  },
  {
   "cell_type": "code",
   "execution_count": 43,
   "outputs": [
    {
     "data": {
      "text/plain": "{'data': '2022年5月19日', 'room': '5楼', 'class_num': '3节课'}"
     },
     "execution_count": 43,
     "metadata": {},
     "output_type": "execute_result"
    }
   ],
   "source": [
    "def get_all_date(file_name):\n",
    "\n",
    "    search_obj = re.search(r'考勤数据/(.*)日(.*)第(.*)考', file_name)\n",
    "\n",
    "    data = {'data':search_obj.group(1) + '日', 'room':search_obj.group(2), 'class_num':search_obj.group(3)}\n",
    "\n",
    "    return data\n",
    "get_all_date('../Data/inputData/考勤数据/2022年5月19日5楼第3节课考勤表.xlsx')"
   ],
   "metadata": {
    "collapsed": false,
    "pycharm": {
     "name": "#%%\n"
    }
   }
  },
  {
   "cell_type": "code",
   "execution_count": 44,
   "outputs": [
    {
     "name": "stderr",
     "output_type": "stream",
     "text": [
      "C:\\Users\\Bing_John\\AppData\\Local\\Temp\\ipykernel_49560\\1051102727.py:13: FutureWarning: The frame.append method is deprecated and will be removed from pandas in a future version. Use pandas.concat instead.\n",
      "  data = data.append(excel_df)\n",
      "C:\\Users\\Bing_John\\AppData\\Local\\Temp\\ipykernel_49560\\1051102727.py:13: FutureWarning: The frame.append method is deprecated and will be removed from pandas in a future version. Use pandas.concat instead.\n",
      "  data = data.append(excel_df)\n",
      "C:\\Users\\Bing_John\\AppData\\Local\\Temp\\ipykernel_49560\\1051102727.py:13: FutureWarning: The frame.append method is deprecated and will be removed from pandas in a future version. Use pandas.concat instead.\n",
      "  data = data.append(excel_df)\n",
      "C:\\Users\\Bing_John\\AppData\\Local\\Temp\\ipykernel_49560\\1051102727.py:13: FutureWarning: The frame.append method is deprecated and will be removed from pandas in a future version. Use pandas.concat instead.\n",
      "  data = data.append(excel_df)\n",
      "C:\\Users\\Bing_John\\AppData\\Local\\Temp\\ipykernel_49560\\1051102727.py:13: FutureWarning: The frame.append method is deprecated and will be removed from pandas in a future version. Use pandas.concat instead.\n",
      "  data = data.append(excel_df)\n",
      "C:\\Users\\Bing_John\\AppData\\Local\\Temp\\ipykernel_49560\\1051102727.py:13: FutureWarning: The frame.append method is deprecated and will be removed from pandas in a future version. Use pandas.concat instead.\n",
      "  data = data.append(excel_df)\n",
      "C:\\Users\\Bing_John\\AppData\\Local\\Temp\\ipykernel_49560\\1051102727.py:13: FutureWarning: The frame.append method is deprecated and will be removed from pandas in a future version. Use pandas.concat instead.\n",
      "  data = data.append(excel_df)\n",
      "C:\\Users\\Bing_John\\AppData\\Local\\Temp\\ipykernel_49560\\1051102727.py:13: FutureWarning: The frame.append method is deprecated and will be removed from pandas in a future version. Use pandas.concat instead.\n",
      "  data = data.append(excel_df)\n",
      "C:\\Users\\Bing_John\\AppData\\Local\\Temp\\ipykernel_49560\\1051102727.py:13: FutureWarning: The frame.append method is deprecated and will be removed from pandas in a future version. Use pandas.concat instead.\n",
      "  data = data.append(excel_df)\n",
      "C:\\Users\\Bing_John\\AppData\\Local\\Temp\\ipykernel_49560\\1051102727.py:13: FutureWarning: The frame.append method is deprecated and will be removed from pandas in a future version. Use pandas.concat instead.\n",
      "  data = data.append(excel_df)\n",
      "C:\\Users\\Bing_John\\AppData\\Local\\Temp\\ipykernel_49560\\1051102727.py:13: FutureWarning: The frame.append method is deprecated and will be removed from pandas in a future version. Use pandas.concat instead.\n",
      "  data = data.append(excel_df)\n",
      "C:\\Users\\Bing_John\\AppData\\Local\\Temp\\ipykernel_49560\\1051102727.py:13: FutureWarning: The frame.append method is deprecated and will be removed from pandas in a future version. Use pandas.concat instead.\n",
      "  data = data.append(excel_df)\n",
      "C:\\Users\\Bing_John\\AppData\\Local\\Temp\\ipykernel_49560\\1051102727.py:13: FutureWarning: The frame.append method is deprecated and will be removed from pandas in a future version. Use pandas.concat instead.\n",
      "  data = data.append(excel_df)\n",
      "C:\\Users\\Bing_John\\AppData\\Local\\Temp\\ipykernel_49560\\1051102727.py:13: FutureWarning: The frame.append method is deprecated and will be removed from pandas in a future version. Use pandas.concat instead.\n",
      "  data = data.append(excel_df)\n",
      "C:\\Users\\Bing_John\\AppData\\Local\\Temp\\ipykernel_49560\\1051102727.py:13: FutureWarning: The frame.append method is deprecated and will be removed from pandas in a future version. Use pandas.concat instead.\n",
      "  data = data.append(excel_df)\n",
      "C:\\Users\\Bing_John\\AppData\\Local\\Temp\\ipykernel_49560\\1051102727.py:13: FutureWarning: The frame.append method is deprecated and will be removed from pandas in a future version. Use pandas.concat instead.\n",
      "  data = data.append(excel_df)\n",
      "C:\\Users\\Bing_John\\AppData\\Local\\Temp\\ipykernel_49560\\1051102727.py:13: FutureWarning: The frame.append method is deprecated and will be removed from pandas in a future version. Use pandas.concat instead.\n",
      "  data = data.append(excel_df)\n",
      "C:\\Users\\Bing_John\\AppData\\Local\\Temp\\ipykernel_49560\\1051102727.py:13: FutureWarning: The frame.append method is deprecated and will be removed from pandas in a future version. Use pandas.concat instead.\n",
      "  data = data.append(excel_df)\n",
      "C:\\Users\\Bing_John\\AppData\\Local\\Temp\\ipykernel_49560\\1051102727.py:13: FutureWarning: The frame.append method is deprecated and will be removed from pandas in a future version. Use pandas.concat instead.\n",
      "  data = data.append(excel_df)\n",
      "C:\\Users\\Bing_John\\AppData\\Local\\Temp\\ipykernel_49560\\1051102727.py:13: FutureWarning: The frame.append method is deprecated and will be removed from pandas in a future version. Use pandas.concat instead.\n",
      "  data = data.append(excel_df)\n",
      "C:\\Users\\Bing_John\\AppData\\Local\\Temp\\ipykernel_49560\\1051102727.py:13: FutureWarning: The frame.append method is deprecated and will be removed from pandas in a future version. Use pandas.concat instead.\n",
      "  data = data.append(excel_df)\n",
      "C:\\Users\\Bing_John\\AppData\\Local\\Temp\\ipykernel_49560\\1051102727.py:13: FutureWarning: The frame.append method is deprecated and will be removed from pandas in a future version. Use pandas.concat instead.\n",
      "  data = data.append(excel_df)\n",
      "C:\\Users\\Bing_John\\AppData\\Local\\Temp\\ipykernel_49560\\1051102727.py:13: FutureWarning: The frame.append method is deprecated and will be removed from pandas in a future version. Use pandas.concat instead.\n",
      "  data = data.append(excel_df)\n",
      "C:\\Users\\Bing_John\\AppData\\Local\\Temp\\ipykernel_49560\\1051102727.py:13: FutureWarning: The frame.append method is deprecated and will be removed from pandas in a future version. Use pandas.concat instead.\n",
      "  data = data.append(excel_df)\n",
      "C:\\Users\\Bing_John\\AppData\\Local\\Temp\\ipykernel_49560\\1051102727.py:13: FutureWarning: The frame.append method is deprecated and will be removed from pandas in a future version. Use pandas.concat instead.\n",
      "  data = data.append(excel_df)\n",
      "C:\\Users\\Bing_John\\AppData\\Local\\Temp\\ipykernel_49560\\1051102727.py:13: FutureWarning: The frame.append method is deprecated and will be removed from pandas in a future version. Use pandas.concat instead.\n",
      "  data = data.append(excel_df)\n",
      "C:\\Users\\Bing_John\\AppData\\Local\\Temp\\ipykernel_49560\\1051102727.py:13: FutureWarning: The frame.append method is deprecated and will be removed from pandas in a future version. Use pandas.concat instead.\n",
      "  data = data.append(excel_df)\n",
      "C:\\Users\\Bing_John\\AppData\\Local\\Temp\\ipykernel_49560\\1051102727.py:13: FutureWarning: The frame.append method is deprecated and will be removed from pandas in a future version. Use pandas.concat instead.\n",
      "  data = data.append(excel_df)\n",
      "C:\\Users\\Bing_John\\AppData\\Local\\Temp\\ipykernel_49560\\1051102727.py:13: FutureWarning: The frame.append method is deprecated and will be removed from pandas in a future version. Use pandas.concat instead.\n",
      "  data = data.append(excel_df)\n",
      "C:\\Users\\Bing_John\\AppData\\Local\\Temp\\ipykernel_49560\\1051102727.py:13: FutureWarning: The frame.append method is deprecated and will be removed from pandas in a future version. Use pandas.concat instead.\n",
      "  data = data.append(excel_df)\n",
      "C:\\Users\\Bing_John\\AppData\\Local\\Temp\\ipykernel_49560\\1051102727.py:13: FutureWarning: The frame.append method is deprecated and will be removed from pandas in a future version. Use pandas.concat instead.\n",
      "  data = data.append(excel_df)\n",
      "C:\\Users\\Bing_John\\AppData\\Local\\Temp\\ipykernel_49560\\1051102727.py:13: FutureWarning: The frame.append method is deprecated and will be removed from pandas in a future version. Use pandas.concat instead.\n",
      "  data = data.append(excel_df)\n",
      "C:\\Users\\Bing_John\\AppData\\Local\\Temp\\ipykernel_49560\\1051102727.py:13: FutureWarning: The frame.append method is deprecated and will be removed from pandas in a future version. Use pandas.concat instead.\n",
      "  data = data.append(excel_df)\n",
      "C:\\Users\\Bing_John\\AppData\\Local\\Temp\\ipykernel_49560\\1051102727.py:13: FutureWarning: The frame.append method is deprecated and will be removed from pandas in a future version. Use pandas.concat instead.\n",
      "  data = data.append(excel_df)\n"
     ]
    }
   ],
   "source": [
    "df = merge_xlsx(get_all_xlsx(r'../Data/inputData/考勤数据/', '.xlsx')['file_path'])"
   ],
   "metadata": {
    "collapsed": false,
    "pycharm": {
     "name": "#%%\n"
    }
   }
  },
  {
   "cell_type": "code",
   "execution_count": 45,
   "outputs": [
    {
     "data": {
      "text/plain": "    id name    kq   desc        date room class_num\n0    1  崔昊元  考勤正常    NaN  2022年5月18日   5楼       1节课\n1    2  贾靖程  考勤异常  身体不舒服  2022年5月18日   5楼       1节课\n2    3  吴俊岳  考勤正常    NaN  2022年5月18日   5楼       1节课\n3    4  王浩羽  考勤正常    NaN  2022年5月18日   5楼       1节课\n4    5  吕梦丽  考勤正常    NaN  2022年5月18日   5楼       1节课\n..  ..  ...   ...    ...         ...  ...       ...\n11  12  李蓉轩  考勤正常    NaN   2022年6月9日   5楼       5节课\n12  13  陈观绅  考勤正常    NaN   2022年6月9日   5楼       5节课\n13  14  赵鑫博  考勤正常    NaN   2022年6月9日   5楼       5节课\n14  15  张子豪  考勤正常    NaN   2022年6月9日   5楼       5节课\n15  16   叶平  考勤正常    NaN   2022年6月9日   5楼       5节课\n\n[544 rows x 7 columns]",
      "text/html": "<div>\n<style scoped>\n    .dataframe tbody tr th:only-of-type {\n        vertical-align: middle;\n    }\n\n    .dataframe tbody tr th {\n        vertical-align: top;\n    }\n\n    .dataframe thead th {\n        text-align: right;\n    }\n</style>\n<table border=\"1\" class=\"dataframe\">\n  <thead>\n    <tr style=\"text-align: right;\">\n      <th></th>\n      <th>id</th>\n      <th>name</th>\n      <th>kq</th>\n      <th>desc</th>\n      <th>date</th>\n      <th>room</th>\n      <th>class_num</th>\n    </tr>\n  </thead>\n  <tbody>\n    <tr>\n      <th>0</th>\n      <td>1</td>\n      <td>崔昊元</td>\n      <td>考勤正常</td>\n      <td>NaN</td>\n      <td>2022年5月18日</td>\n      <td>5楼</td>\n      <td>1节课</td>\n    </tr>\n    <tr>\n      <th>1</th>\n      <td>2</td>\n      <td>贾靖程</td>\n      <td>考勤异常</td>\n      <td>身体不舒服</td>\n      <td>2022年5月18日</td>\n      <td>5楼</td>\n      <td>1节课</td>\n    </tr>\n    <tr>\n      <th>2</th>\n      <td>3</td>\n      <td>吴俊岳</td>\n      <td>考勤正常</td>\n      <td>NaN</td>\n      <td>2022年5月18日</td>\n      <td>5楼</td>\n      <td>1节课</td>\n    </tr>\n    <tr>\n      <th>3</th>\n      <td>4</td>\n      <td>王浩羽</td>\n      <td>考勤正常</td>\n      <td>NaN</td>\n      <td>2022年5月18日</td>\n      <td>5楼</td>\n      <td>1节课</td>\n    </tr>\n    <tr>\n      <th>4</th>\n      <td>5</td>\n      <td>吕梦丽</td>\n      <td>考勤正常</td>\n      <td>NaN</td>\n      <td>2022年5月18日</td>\n      <td>5楼</td>\n      <td>1节课</td>\n    </tr>\n    <tr>\n      <th>...</th>\n      <td>...</td>\n      <td>...</td>\n      <td>...</td>\n      <td>...</td>\n      <td>...</td>\n      <td>...</td>\n      <td>...</td>\n    </tr>\n    <tr>\n      <th>11</th>\n      <td>12</td>\n      <td>李蓉轩</td>\n      <td>考勤正常</td>\n      <td>NaN</td>\n      <td>2022年6月9日</td>\n      <td>5楼</td>\n      <td>5节课</td>\n    </tr>\n    <tr>\n      <th>12</th>\n      <td>13</td>\n      <td>陈观绅</td>\n      <td>考勤正常</td>\n      <td>NaN</td>\n      <td>2022年6月9日</td>\n      <td>5楼</td>\n      <td>5节课</td>\n    </tr>\n    <tr>\n      <th>13</th>\n      <td>14</td>\n      <td>赵鑫博</td>\n      <td>考勤正常</td>\n      <td>NaN</td>\n      <td>2022年6月9日</td>\n      <td>5楼</td>\n      <td>5节课</td>\n    </tr>\n    <tr>\n      <th>14</th>\n      <td>15</td>\n      <td>张子豪</td>\n      <td>考勤正常</td>\n      <td>NaN</td>\n      <td>2022年6月9日</td>\n      <td>5楼</td>\n      <td>5节课</td>\n    </tr>\n    <tr>\n      <th>15</th>\n      <td>16</td>\n      <td>叶平</td>\n      <td>考勤正常</td>\n      <td>NaN</td>\n      <td>2022年6月9日</td>\n      <td>5楼</td>\n      <td>5节课</td>\n    </tr>\n  </tbody>\n</table>\n<p>544 rows × 7 columns</p>\n</div>"
     },
     "execution_count": 45,
     "metadata": {},
     "output_type": "execute_result"
    }
   ],
   "source": [
    "df"
   ],
   "metadata": {
    "collapsed": false,
    "pycharm": {
     "name": "#%%\n"
    }
   }
  },
  {
   "cell_type": "code",
   "execution_count": 46,
   "outputs": [],
   "source": [
    "df['desc'].fillna(-1, inplace=True)"
   ],
   "metadata": {
    "collapsed": false,
    "pycharm": {
     "name": "#%%\n"
    }
   }
  },
  {
   "cell_type": "code",
   "execution_count": 47,
   "outputs": [],
   "source": [
    "df.to_csv('../Data/inputData/考勤数据/考勤数据.csv', encoding='utf_8', index=False)"
   ],
   "metadata": {
    "collapsed": false,
    "pycharm": {
     "name": "#%%\n"
    }
   }
  },
  {
   "cell_type": "code",
   "execution_count": 48,
   "outputs": [],
   "source": [
    "# if __name__ == '__main__':\n",
    "#     test = get_all_xlsx(r'../Data/inputData/考勤数据', '.xlsx')\n",
    "#     print(test['file_path'][:5], '\\n<!-- -->\\n', test['file_name'][:5])"
   ],
   "metadata": {
    "collapsed": false,
    "pycharm": {
     "name": "#%%\n"
    }
   }
  }
 ],
 "metadata": {
  "kernelspec": {
   "display_name": "Python 3",
   "language": "python",
   "name": "python3"
  },
  "language_info": {
   "codemirror_mode": {
    "name": "ipython",
    "version": 2
   },
   "file_extension": ".py",
   "mimetype": "text/x-python",
   "name": "python",
   "nbconvert_exporter": "python",
   "pygments_lexer": "ipython2",
   "version": "2.7.6"
  }
 },
 "nbformat": 4,
 "nbformat_minor": 0
}