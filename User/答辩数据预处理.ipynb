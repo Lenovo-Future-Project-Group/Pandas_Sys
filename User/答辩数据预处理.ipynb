{
 "cells": [
  {
   "cell_type": "code",
   "execution_count": 21,
   "metadata": {
    "collapsed": true,
    "pycharm": {
     "name": "#%%\n"
    }
   },
   "outputs": [],
   "source": [
    "import os\n",
    "import pandas as pd"
   ]
  },
  {
   "cell_type": "code",
   "execution_count": null,
   "outputs": [],
   "source": [
    "def get_all_xlsx(file_dir, file_type='.xlsx'):\n",
    "\n",
    "    path = []\n",
    "    name = []\n",
    "\n",
    "    for file in os.listdir(file_dir):\n",
    "        if os.path.splitext(file)[1] == file_type:\n",
    "            name.append(file)\n",
    "\n",
    "    for root, dirs, files in os.walk(file_dir):\n",
    "        for file in files:\n",
    "            if os.path.splitext(file)[1] == file_type:\n",
    "                path.append(os.path.join(root, file))\n",
    "\n",
    "    # path = [os.path.join(root, file) for root, dirs, files in os.walk(file_dir) for file in files if os.path.splitext(file)[1] == file_type]\n",
    "    # name = [file for file in os.listdir(file_dir) if os.path.splitext(file)[1] == file_type]\n",
    "\n",
    "    data = {'file_path': path, 'file_name': name}\n",
    "\n",
    "    return data"
   ],
   "metadata": {
    "collapsed": false,
    "pycharm": {
     "name": "#%%\n"
    }
   }
  },
  {
   "cell_type": "code",
   "execution_count": null,
   "outputs": [],
   "source": [
    "def xlsx_to_df(csv_file, index_col=None):\n",
    "    data = pd.DataFrame(pd.read_excel(csv_file, index_col=index_col))\n",
    "    return data"
   ],
   "metadata": {
    "collapsed": false,
    "pycharm": {
     "name": "#%%\n"
    }
   }
  },
  {
   "cell_type": "code",
   "execution_count": 29,
   "outputs": [
    {
     "data": {
      "text/plain": "        组名          学号   姓名  职业形象  答辩礼仪  沟通表达  团队协作  PPT制作  程序逻辑性  项目阐述  思维导图  \\\n0       萝卜  2020630214  王孝天    10     8     9     8      9     18    14    13   \n1       萝卜  2020630124  张子豪    10     7     7     8      9     17    14    13   \n2       萝卜  2020630201  吴俊岳    10     8     7     8      8     16    13    13   \n3       萝卜  2020630103  崔昊元    10     8     8     8      8     16    13    12   \n4      叶原枫  2020630205  吕梦丽    10     8     9     8      8     18    15    12   \n5      叶原枫  2020630128   叶平    10     7     8     8      8     18    14    13   \n6      叶原枫  2020630216   张阔    10     7     7     8      8     17    13    13   \n7      叶原枫  2020630204  王浩羽    10     7     7     8      8     17    12    13   \n8       黑马  2020630222  李蓉轩    10     9    10     8      9     17    15    14   \n9       黑马  2020630126  赵鑫博    10     7     6     8      9     17    14    12   \n10      黑马  2020630209  郑佳睦    10     8     7     8      9     17    14    12   \n11      黑马  2020630228  陈观绅    10     8     8     9      9     18    14    14   \n12  Styles  2020630221  付一鸣    10     8     8     9      9     20    15    15   \n13  Styles  2020630113  牛皓冬    10     8     8     9      8     18    14    15   \n14  Styles  2020630109  贾靖程    10     8     7     9      8     18    14    15   \n15  Styles  2020630115  孙佳奇    10     8     7     9      8     18    12    15   \n16     挑战组  2020630110  李博远    10     8     7     8      9     19    13    15   \n17     挑战组  2020630206  杨悦昕    10     8     8     8     10     19    14    15   \n\n    综合评价  \n0     89  \n1     85  \n2     83  \n3     83  \n4     88  \n5     86  \n6     83  \n7     82  \n8     92  \n9     83  \n10    85  \n11    90  \n12    94  \n13    90  \n14    89  \n15    87  \n16    89  \n17    92  ",
      "text/html": "<div>\n<style scoped>\n    .dataframe tbody tr th:only-of-type {\n        vertical-align: middle;\n    }\n\n    .dataframe tbody tr th {\n        vertical-align: top;\n    }\n\n    .dataframe thead th {\n        text-align: right;\n    }\n</style>\n<table border=\"1\" class=\"dataframe\">\n  <thead>\n    <tr style=\"text-align: right;\">\n      <th></th>\n      <th>组名</th>\n      <th>学号</th>\n      <th>姓名</th>\n      <th>职业形象</th>\n      <th>答辩礼仪</th>\n      <th>沟通表达</th>\n      <th>团队协作</th>\n      <th>PPT制作</th>\n      <th>程序逻辑性</th>\n      <th>项目阐述</th>\n      <th>思维导图</th>\n      <th>综合评价</th>\n    </tr>\n  </thead>\n  <tbody>\n    <tr>\n      <th>0</th>\n      <td>萝卜</td>\n      <td>2020630214</td>\n      <td>王孝天</td>\n      <td>10</td>\n      <td>8</td>\n      <td>9</td>\n      <td>8</td>\n      <td>9</td>\n      <td>18</td>\n      <td>14</td>\n      <td>13</td>\n      <td>89</td>\n    </tr>\n    <tr>\n      <th>1</th>\n      <td>萝卜</td>\n      <td>2020630124</td>\n      <td>张子豪</td>\n      <td>10</td>\n      <td>7</td>\n      <td>7</td>\n      <td>8</td>\n      <td>9</td>\n      <td>17</td>\n      <td>14</td>\n      <td>13</td>\n      <td>85</td>\n    </tr>\n    <tr>\n      <th>2</th>\n      <td>萝卜</td>\n      <td>2020630201</td>\n      <td>吴俊岳</td>\n      <td>10</td>\n      <td>8</td>\n      <td>7</td>\n      <td>8</td>\n      <td>8</td>\n      <td>16</td>\n      <td>13</td>\n      <td>13</td>\n      <td>83</td>\n    </tr>\n    <tr>\n      <th>3</th>\n      <td>萝卜</td>\n      <td>2020630103</td>\n      <td>崔昊元</td>\n      <td>10</td>\n      <td>8</td>\n      <td>8</td>\n      <td>8</td>\n      <td>8</td>\n      <td>16</td>\n      <td>13</td>\n      <td>12</td>\n      <td>83</td>\n    </tr>\n    <tr>\n      <th>4</th>\n      <td>叶原枫</td>\n      <td>2020630205</td>\n      <td>吕梦丽</td>\n      <td>10</td>\n      <td>8</td>\n      <td>9</td>\n      <td>8</td>\n      <td>8</td>\n      <td>18</td>\n      <td>15</td>\n      <td>12</td>\n      <td>88</td>\n    </tr>\n    <tr>\n      <th>5</th>\n      <td>叶原枫</td>\n      <td>2020630128</td>\n      <td>叶平</td>\n      <td>10</td>\n      <td>7</td>\n      <td>8</td>\n      <td>8</td>\n      <td>8</td>\n      <td>18</td>\n      <td>14</td>\n      <td>13</td>\n      <td>86</td>\n    </tr>\n    <tr>\n      <th>6</th>\n      <td>叶原枫</td>\n      <td>2020630216</td>\n      <td>张阔</td>\n      <td>10</td>\n      <td>7</td>\n      <td>7</td>\n      <td>8</td>\n      <td>8</td>\n      <td>17</td>\n      <td>13</td>\n      <td>13</td>\n      <td>83</td>\n    </tr>\n    <tr>\n      <th>7</th>\n      <td>叶原枫</td>\n      <td>2020630204</td>\n      <td>王浩羽</td>\n      <td>10</td>\n      <td>7</td>\n      <td>7</td>\n      <td>8</td>\n      <td>8</td>\n      <td>17</td>\n      <td>12</td>\n      <td>13</td>\n      <td>82</td>\n    </tr>\n    <tr>\n      <th>8</th>\n      <td>黑马</td>\n      <td>2020630222</td>\n      <td>李蓉轩</td>\n      <td>10</td>\n      <td>9</td>\n      <td>10</td>\n      <td>8</td>\n      <td>9</td>\n      <td>17</td>\n      <td>15</td>\n      <td>14</td>\n      <td>92</td>\n    </tr>\n    <tr>\n      <th>9</th>\n      <td>黑马</td>\n      <td>2020630126</td>\n      <td>赵鑫博</td>\n      <td>10</td>\n      <td>7</td>\n      <td>6</td>\n      <td>8</td>\n      <td>9</td>\n      <td>17</td>\n      <td>14</td>\n      <td>12</td>\n      <td>83</td>\n    </tr>\n    <tr>\n      <th>10</th>\n      <td>黑马</td>\n      <td>2020630209</td>\n      <td>郑佳睦</td>\n      <td>10</td>\n      <td>8</td>\n      <td>7</td>\n      <td>8</td>\n      <td>9</td>\n      <td>17</td>\n      <td>14</td>\n      <td>12</td>\n      <td>85</td>\n    </tr>\n    <tr>\n      <th>11</th>\n      <td>黑马</td>\n      <td>2020630228</td>\n      <td>陈观绅</td>\n      <td>10</td>\n      <td>8</td>\n      <td>8</td>\n      <td>9</td>\n      <td>9</td>\n      <td>18</td>\n      <td>14</td>\n      <td>14</td>\n      <td>90</td>\n    </tr>\n    <tr>\n      <th>12</th>\n      <td>Styles</td>\n      <td>2020630221</td>\n      <td>付一鸣</td>\n      <td>10</td>\n      <td>8</td>\n      <td>8</td>\n      <td>9</td>\n      <td>9</td>\n      <td>20</td>\n      <td>15</td>\n      <td>15</td>\n      <td>94</td>\n    </tr>\n    <tr>\n      <th>13</th>\n      <td>Styles</td>\n      <td>2020630113</td>\n      <td>牛皓冬</td>\n      <td>10</td>\n      <td>8</td>\n      <td>8</td>\n      <td>9</td>\n      <td>8</td>\n      <td>18</td>\n      <td>14</td>\n      <td>15</td>\n      <td>90</td>\n    </tr>\n    <tr>\n      <th>14</th>\n      <td>Styles</td>\n      <td>2020630109</td>\n      <td>贾靖程</td>\n      <td>10</td>\n      <td>8</td>\n      <td>7</td>\n      <td>9</td>\n      <td>8</td>\n      <td>18</td>\n      <td>14</td>\n      <td>15</td>\n      <td>89</td>\n    </tr>\n    <tr>\n      <th>15</th>\n      <td>Styles</td>\n      <td>2020630115</td>\n      <td>孙佳奇</td>\n      <td>10</td>\n      <td>8</td>\n      <td>7</td>\n      <td>9</td>\n      <td>8</td>\n      <td>18</td>\n      <td>12</td>\n      <td>15</td>\n      <td>87</td>\n    </tr>\n    <tr>\n      <th>16</th>\n      <td>挑战组</td>\n      <td>2020630110</td>\n      <td>李博远</td>\n      <td>10</td>\n      <td>8</td>\n      <td>7</td>\n      <td>8</td>\n      <td>9</td>\n      <td>19</td>\n      <td>13</td>\n      <td>15</td>\n      <td>89</td>\n    </tr>\n    <tr>\n      <th>17</th>\n      <td>挑战组</td>\n      <td>2020630206</td>\n      <td>杨悦昕</td>\n      <td>10</td>\n      <td>8</td>\n      <td>8</td>\n      <td>8</td>\n      <td>10</td>\n      <td>19</td>\n      <td>14</td>\n      <td>15</td>\n      <td>92</td>\n    </tr>\n  </tbody>\n</table>\n</div>"
     },
     "execution_count": 29,
     "metadata": {},
     "output_type": "execute_result"
    }
   ],
   "source": [
    "df = xlsx_to_df('../Data/inputData/答辩数据/2021-2022学年_昌平职业学校_信息技术系_联想工程师学院_联想未来班项目组_考勤系统学员答辩评价表20220630.xlsx')\n",
    "df"
   ],
   "metadata": {
    "collapsed": false,
    "pycharm": {
     "name": "#%%\n"
    }
   }
  },
  {
   "cell_type": "code",
   "execution_count": 30,
   "outputs": [],
   "source": [
    "# 在第一列插入一列命名data，value为2022-6-29\n",
    "df.insert(0, 'data', '2022-6-29')"
   ],
   "metadata": {
    "collapsed": false,
    "pycharm": {
     "name": "#%%\n"
    }
   }
  },
  {
   "cell_type": "code",
   "execution_count": 31,
   "outputs": [],
   "source": [
    "# 分别将命名重命名为\n",
    "df.rename(columns=\n",
    "{\n",
    "    '组名': 'grout_name',\n",
    "    '学号': 'stu_num',\n",
    "    '姓名': 'stu_name',\n",
    "    '职业形象': 'score_professinnal',\n",
    "    '答辩礼仪': 'score_etiquette',\n",
    "    '沟通表达': 'score_communicate',\n",
    "    '团队协作': 'score_team',\n",
    "    'PPT制作': 'score_PPT',\n",
    "    '程序逻辑性': 'score_logical',\n",
    "    '项目阐述': 'score_project',\n",
    "    '思维导图': 'score_mind',\n",
    "    '综合评价': 'score_total'\n",
    "},\n",
    "    inplace=True)"
   ],
   "metadata": {
    "collapsed": false,
    "pycharm": {
     "name": "#%%\n"
    }
   }
  },
  {
   "cell_type": "code",
   "execution_count": 33,
   "outputs": [],
   "source": [
    "# 导出为csv文件并重命名为答辩数据.csv\n",
    "df.to_csv('../Data/inputData/答辩数据/答辩数据.csv', encoding='utf_8', index=False)"
   ],
   "metadata": {
    "collapsed": false,
    "pycharm": {
     "name": "#%%\n"
    }
   }
  },
  {
   "cell_type": "markdown",
   "source": [],
   "metadata": {
    "collapsed": false,
    "pycharm": {
     "name": "#%% md\n"
    }
   }
  }
 ],
 "metadata": {
  "kernelspec": {
   "display_name": "Python 3",
   "language": "python",
   "name": "python3"
  },
  "language_info": {
   "codemirror_mode": {
    "name": "ipython",
    "version": 2
   },
   "file_extension": ".py",
   "mimetype": "text/x-python",
   "name": "python",
   "nbconvert_exporter": "python",
   "pygments_lexer": "ipython2",
   "version": "2.7.6"
  }
 },
 "nbformat": 4,
 "nbformat_minor": 0
}