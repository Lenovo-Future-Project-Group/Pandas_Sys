{
 "cells": [
  {
   "cell_type": "code",
   "execution_count": 162,
   "outputs": [],
   "source": [
    "import os\n",
    "import re\n",
    "import pandas as pd"
   ],
   "metadata": {
    "collapsed": false,
    "pycharm": {
     "name": "#%%\n"
    }
   }
  },
  {
   "cell_type": "code",
   "execution_count": 163,
   "outputs": [],
   "source": [
    "def get_all_xlsx(file_dir, file_type='.xlsx'):\n",
    "    path = []\n",
    "    naem = []\n",
    "    for root_dir, sub_dir, files in os.walk(file_dir):\n",
    "        for file in files:\n",
    "            if file.endswith(file_type):\n",
    "                file_path = os.path.join(root_dir, file)\n",
    "                path.append(file_path)\n",
    "\n",
    "    file_name = os.listdir(file_dir)\n",
    "    naem.append(file_name)\n",
    "\n",
    "    data = {'file_path': path, 'file_name': naem}\n",
    "\n",
    "    return data"
   ],
   "metadata": {
    "collapsed": false,
    "pycharm": {
     "name": "#%%\n"
    }
   }
  },
  {
   "cell_type": "code",
   "execution_count": 164,
   "outputs": [
    {
     "name": "stdout",
     "output_type": "stream",
     "text": [
      "[['2022年5月18日5楼第1节课考勤表.xlsx', '2022年5月18日5楼第3节课考勤表.xlsx', '2022年5月18日5楼第5节课考勤表.xlsx', '2022年5月19日5楼第1节课考勤表.xlsx', '2022年5月19日5楼第3节课考勤表.xlsx', '2022年5月20日5楼第1节课考勤表.xlsx', '2022年5月20日5楼第3节课考勤表.xlsx', '2022年5月23日5楼第1节课考勤表.xlsx', '2022年5月23日5楼第3节课考勤表.xlsx', '2022年5月24日5楼第1节课考勤表.xlsx', '2022年5月24日5楼第3节课考勤表.xlsx', '2022年5月25日5楼第3节课考勤表.xlsx', '2022年5月26日5楼第4节课考勤表.xlsx', '2022年5月27日5楼第1节课考勤表.xlsx', '2022年5月30日5楼第1节课考勤表.xlsx', '2022年5月31日5楼第3节课考勤表.xlsx', '2022年6月10日5楼第4节课考勤表.xlsx', '2022年6月13日5楼第1节课考勤表.xlsx', '2022年6月14日5楼第1节课考勤表.xlsx', '2022年6月14日5楼第3节课考勤表.xlsx', '2022年6月17日5楼第3节课考勤表.xlsx', '2022年6月1日5楼第5节课考勤表.xlsx', '2022年6月20日5楼第1节课考勤表.xlsx', '2022年6月21日5楼第3节课考勤表.xlsx', '2022年6月22日5楼第1节课考勤表.xlsx', '2022年6月27日5楼第3节课考勤表.xlsx', '2022年6月2日5楼第3节课考勤表.xlsx', '2022年6月2日5楼第5节课考勤表.xlsx', '2022年6月6日5楼第1节课考勤表.xlsx', '2022年6月7日5楼第1节课考勤表.xlsx', '2022年6月7日5楼第3节课考勤表.xlsx', '2022年6月8日5楼第5节课考勤表.xlsx', '2022年6月9日5楼第1节课考勤表.xlsx', '2022年6月9日5楼第5节课考勤表.xlsx', '考勤成绩.csv'], ['2022年5月18日5楼第1节课考勤表.xlsx', '2022年5月18日5楼第3节课考勤表.xlsx', '2022年5月18日5楼第5节课考勤表.xlsx', '2022年5月19日5楼第1节课考勤表.xlsx', '2022年5月19日5楼第3节课考勤表.xlsx', '2022年5月20日5楼第1节课考勤表.xlsx', '2022年5月20日5楼第3节课考勤表.xlsx', '2022年5月23日5楼第1节课考勤表.xlsx', '2022年5月23日5楼第3节课考勤表.xlsx', '2022年5月24日5楼第1节课考勤表.xlsx', '2022年5月24日5楼第3节课考勤表.xlsx', '2022年5月25日5楼第3节课考勤表.xlsx', '2022年5月26日5楼第4节课考勤表.xlsx', '2022年5月27日5楼第1节课考勤表.xlsx', '2022年5月30日5楼第1节课考勤表.xlsx', '2022年5月31日5楼第3节课考勤表.xlsx', '2022年6月10日5楼第4节课考勤表.xlsx', '2022年6月13日5楼第1节课考勤表.xlsx', '2022年6月14日5楼第1节课考勤表.xlsx', '2022年6月14日5楼第3节课考勤表.xlsx', '2022年6月17日5楼第3节课考勤表.xlsx', '2022年6月1日5楼第5节课考勤表.xlsx', '2022年6月20日5楼第1节课考勤表.xlsx', '2022年6月21日5楼第3节课考勤表.xlsx', '2022年6月22日5楼第1节课考勤表.xlsx', '2022年6月27日5楼第3节课考勤表.xlsx', '2022年6月2日5楼第3节课考勤表.xlsx', '2022年6月2日5楼第5节课考勤表.xlsx', '2022年6月6日5楼第1节课考勤表.xlsx', '2022年6月7日5楼第1节课考勤表.xlsx', '2022年6月7日5楼第3节课考勤表.xlsx', '2022年6月8日5楼第5节课考勤表.xlsx', '2022年6月9日5楼第1节课考勤表.xlsx', '2022年6月9日5楼第5节课考勤表.xlsx', '考勤成绩.csv'], ['2022年5月18日5楼第1节课考勤表.xlsx', '2022年5月18日5楼第3节课考勤表.xlsx', '2022年5月18日5楼第5节课考勤表.xlsx', '2022年5月19日5楼第1节课考勤表.xlsx', '2022年5月19日5楼第3节课考勤表.xlsx', '2022年5月20日5楼第1节课考勤表.xlsx', '2022年5月20日5楼第3节课考勤表.xlsx', '2022年5月23日5楼第1节课考勤表.xlsx', '2022年5月23日5楼第3节课考勤表.xlsx', '2022年5月24日5楼第1节课考勤表.xlsx', '2022年5月24日5楼第3节课考勤表.xlsx', '2022年5月25日5楼第3节课考勤表.xlsx', '2022年5月26日5楼第4节课考勤表.xlsx', '2022年5月27日5楼第1节课考勤表.xlsx', '2022年5月30日5楼第1节课考勤表.xlsx', '2022年5月31日5楼第3节课考勤表.xlsx', '2022年6月10日5楼第4节课考勤表.xlsx', '2022年6月13日5楼第1节课考勤表.xlsx', '2022年6月14日5楼第1节课考勤表.xlsx', '2022年6月14日5楼第3节课考勤表.xlsx', '2022年6月17日5楼第3节课考勤表.xlsx', '2022年6月1日5楼第5节课考勤表.xlsx', '2022年6月20日5楼第1节课考勤表.xlsx', '2022年6月21日5楼第3节课考勤表.xlsx', '2022年6月22日5楼第1节课考勤表.xlsx', '2022年6月27日5楼第3节课考勤表.xlsx', '2022年6月2日5楼第3节课考勤表.xlsx', '2022年6月2日5楼第5节课考勤表.xlsx', '2022年6月6日5楼第1节课考勤表.xlsx', '2022年6月7日5楼第1节课考勤表.xlsx', '2022年6月7日5楼第3节课考勤表.xlsx', '2022年6月8日5楼第5节课考勤表.xlsx', '2022年6月9日5楼第1节课考勤表.xlsx', '2022年6月9日5楼第5节课考勤表.xlsx', '考勤成绩.csv'], ['2022年5月18日5楼第1节课考勤表.xlsx', '2022年5月18日5楼第3节课考勤表.xlsx', '2022年5月18日5楼第5节课考勤表.xlsx', '2022年5月19日5楼第1节课考勤表.xlsx', '2022年5月19日5楼第3节课考勤表.xlsx', '2022年5月20日5楼第1节课考勤表.xlsx', '2022年5月20日5楼第3节课考勤表.xlsx', '2022年5月23日5楼第1节课考勤表.xlsx', '2022年5月23日5楼第3节课考勤表.xlsx', '2022年5月24日5楼第1节课考勤表.xlsx', '2022年5月24日5楼第3节课考勤表.xlsx', '2022年5月25日5楼第3节课考勤表.xlsx', '2022年5月26日5楼第4节课考勤表.xlsx', '2022年5月27日5楼第1节课考勤表.xlsx', '2022年5月30日5楼第1节课考勤表.xlsx', '2022年5月31日5楼第3节课考勤表.xlsx', '2022年6月10日5楼第4节课考勤表.xlsx', '2022年6月13日5楼第1节课考勤表.xlsx', '2022年6月14日5楼第1节课考勤表.xlsx', '2022年6月14日5楼第3节课考勤表.xlsx', '2022年6月17日5楼第3节课考勤表.xlsx', '2022年6月1日5楼第5节课考勤表.xlsx', '2022年6月20日5楼第1节课考勤表.xlsx', '2022年6月21日5楼第3节课考勤表.xlsx', '2022年6月22日5楼第1节课考勤表.xlsx', '2022年6月27日5楼第3节课考勤表.xlsx', '2022年6月2日5楼第3节课考勤表.xlsx', '2022年6月2日5楼第5节课考勤表.xlsx', '2022年6月6日5楼第1节课考勤表.xlsx', '2022年6月7日5楼第1节课考勤表.xlsx', '2022年6月7日5楼第3节课考勤表.xlsx', '2022年6月8日5楼第5节课考勤表.xlsx', '2022年6月9日5楼第1节课考勤表.xlsx', '2022年6月9日5楼第5节课考勤表.xlsx', '考勤成绩.csv'], ['2022年5月18日5楼第1节课考勤表.xlsx', '2022年5月18日5楼第3节课考勤表.xlsx', '2022年5月18日5楼第5节课考勤表.xlsx', '2022年5月19日5楼第1节课考勤表.xlsx', '2022年5月19日5楼第3节课考勤表.xlsx', '2022年5月20日5楼第1节课考勤表.xlsx', '2022年5月20日5楼第3节课考勤表.xlsx', '2022年5月23日5楼第1节课考勤表.xlsx', '2022年5月23日5楼第3节课考勤表.xlsx', '2022年5月24日5楼第1节课考勤表.xlsx', '2022年5月24日5楼第3节课考勤表.xlsx', '2022年5月25日5楼第3节课考勤表.xlsx', '2022年5月26日5楼第4节课考勤表.xlsx', '2022年5月27日5楼第1节课考勤表.xlsx', '2022年5月30日5楼第1节课考勤表.xlsx', '2022年5月31日5楼第3节课考勤表.xlsx', '2022年6月10日5楼第4节课考勤表.xlsx', '2022年6月13日5楼第1节课考勤表.xlsx', '2022年6月14日5楼第1节课考勤表.xlsx', '2022年6月14日5楼第3节课考勤表.xlsx', '2022年6月17日5楼第3节课考勤表.xlsx', '2022年6月1日5楼第5节课考勤表.xlsx', '2022年6月20日5楼第1节课考勤表.xlsx', '2022年6月21日5楼第3节课考勤表.xlsx', '2022年6月22日5楼第1节课考勤表.xlsx', '2022年6月27日5楼第3节课考勤表.xlsx', '2022年6月2日5楼第3节课考勤表.xlsx', '2022年6月2日5楼第5节课考勤表.xlsx', '2022年6月6日5楼第1节课考勤表.xlsx', '2022年6月7日5楼第1节课考勤表.xlsx', '2022年6月7日5楼第3节课考勤表.xlsx', '2022年6月8日5楼第5节课考勤表.xlsx', '2022年6月9日5楼第1节课考勤表.xlsx', '2022年6月9日5楼第5节课考勤表.xlsx', '考勤成绩.csv']]\n"
     ]
    }
   ],
   "source": [
    "if __name__ == '__main__':\n",
    "    test = get_all_xlsx(r'./Data/inputData/考勤数据')\n",
    "    print(test['file_name'][:5])"
   ],
   "metadata": {
    "collapsed": false,
    "pycharm": {
     "name": "#%%\n"
    }
   }
  },
  {
   "cell_type": "code",
   "execution_count": 165,
   "outputs": [],
   "source": [
    "def get_all_date(data_xlsl):\n",
    "    stuDate = []\n",
    "    stuRoom = []\n",
    "    stuClassNum = []\n",
    "\n",
    "    for _ in data_xlsl:\n",
    "        xlsx_file_name = re.search(r'\\\\(.*?).xlsx', str(_))\n",
    "\n",
    "        search0bj = re.search(r'(.*)日(.*)第(.*)考', xlsx_file_name.group(1))\n",
    "\n",
    "        try:\n",
    "            stuDate.append(search0bj.group(1) + '日')\n",
    "            stuRoom.append(search0bj.group(2))\n",
    "            stuClassNum.append(search0bj.group(3))\n",
    "        except Exception as e:\n",
    "            print(e)\n",
    "            pass\n",
    "\n",
    "    data = {'stuDate': stuDate, 'stuRoom': stuRoom, 'stuClassNum': stuClassNum}\n",
    "\n",
    "    return data"
   ],
   "metadata": {
    "collapsed": false,
    "pycharm": {
     "name": "#%%\n"
    }
   }
  },
  {
   "cell_type": "code",
   "execution_count": 166,
   "outputs": [],
   "source": [
    "def merge_xlsx(file_dir, save_dir):\n",
    "    li = []\n",
    "    for _ in file_dir:\n",
    "        li.append(pd.read_excel(_))\n",
    "    writer = pd.ExcelWriter(save_dir)\n",
    "    pd.concat(li).to_excel(writer, 'Sheet1', index=False)\n",
    "\n",
    "    writer.save()"
   ],
   "metadata": {
    "collapsed": false,
    "pycharm": {
     "name": "#%%\n"
    }
   }
  },
  {
   "cell_type": "code",
   "execution_count": 167,
   "outputs": [],
   "source": [
    "def csv_to_df(csv_file, index_col=None):\n",
    "    data = pd.DataFrame(pd.read_excel(csv_file, index_col=index_col))\n",
    "    return data"
   ],
   "metadata": {
    "collapsed": false,
    "pycharm": {
     "name": "#%%\n"
    }
   }
  },
  {
   "cell_type": "code",
   "execution_count": 168,
   "outputs": [],
   "source": [
    "# if __name__ == '__main__':\n",
    "# merge_xlsx(get_all_xlsx(r'./Data/inputData/考勤数据'), r'Data/inputData/考勤数据/考勤数据.xlsx')\n",
    "# print('合并完成')"
   ],
   "metadata": {
    "collapsed": false,
    "pycharm": {
     "name": "#%%\n"
    }
   }
  },
  {
   "cell_type": "code",
   "execution_count": 169,
   "outputs": [],
   "source": [
    "# df = csv_to_df(r'./Data/inputData/考勤数据/考勤数据.xlsx')"
   ],
   "metadata": {
    "collapsed": false,
    "pycharm": {
     "name": "#%%\n"
    }
   }
  },
  {
   "cell_type": "code",
   "execution_count": 170,
   "outputs": [],
   "source": [
    "# df.to_csv('./Data/inputData/考勤数据/考勤数据.csv', encoding='utf_8', index=False)"
   ],
   "metadata": {
    "collapsed": false,
    "pycharm": {
     "name": "#%%\n"
    }
   }
  }
 ],
 "metadata": {
  "kernelspec": {
   "display_name": "Python 3",
   "language": "python",
   "name": "python3"
  },
  "language_info": {
   "codemirror_mode": {
    "name": "ipython",
    "version": 2
   },
   "file_extension": ".py",
   "mimetype": "text/x-python",
   "name": "python",
   "nbconvert_exporter": "python",
   "pygments_lexer": "ipython2",
   "version": "2.7.6"
  }
 },
 "nbformat": 4,
 "nbformat_minor": 0
}