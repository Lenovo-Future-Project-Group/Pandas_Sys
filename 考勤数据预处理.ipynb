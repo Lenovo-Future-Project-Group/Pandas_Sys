{
 "cells": [
  {
   "cell_type": "code",
   "execution_count": 1429,
   "outputs": [],
   "source": [
    "import os\n",
    "import re\n",
    "import pandas as pd"
   ],
   "metadata": {
    "collapsed": false,
    "pycharm": {
     "name": "#%%\n"
    }
   }
  },
  {
   "cell_type": "code",
   "execution_count": 1430,
   "outputs": [],
   "source": [
    "def get_all_xlsx(file_dir, file_type='.xlsx'):\n",
    "    data = []\n",
    "    for root_dir, sub_dir, files in os.walk(file_dir):\n",
    "        for file in files:\n",
    "            if file.endswith(file_type):\n",
    "                file_name = os.path.join(root_dir, file)\n",
    "                data.append(file_name)\n",
    "    return data"
   ],
   "metadata": {
    "collapsed": false,
    "pycharm": {
     "name": "#%%\n"
    }
   }
  },
  {
   "cell_type": "code",
   "execution_count": 1431,
   "outputs": [],
   "source": [
    "def get_all_date(data_xlsl):\n",
    "    xlsx_file_name = re.search(r'\\\\(.*?).xlsx', str(data_xlsl)).groups()[0]\n",
    "    print(xlsx_file_name)\n",
    "\n",
    "    search0bj = re.search(r'(.*)日(.*)第(.*)考', xlsx_file_name)\n",
    "\n",
    "    data = \\\n",
    "        {\n",
    "        'stuDate':search0bj.group(1) + '日',\n",
    "        'stuRoom':search0bj.group(2),\n",
    "        'stuClassNum':search0bj.group(3),\n",
    "        }\n",
    "\n",
    "    return data"
   ],
   "metadata": {
    "collapsed": false,
    "pycharm": {
     "name": "#%%\n"
    }
   }
  },
  {
   "cell_type": "code",
   "execution_count": 1432,
   "outputs": [
    {
     "name": "stdout",
     "output_type": "stream",
     "text": [
      "\\2022年5月18日5楼第1节课考勤表\n",
      "stuDate \\2022年5月18日\n",
      "stuRoom 5楼\n",
      "stuClassNum 1节课\n"
     ]
    }
   ],
   "source": [
    "if __name__ == '__main__':\n",
    "    test = get_all_date(get_all_xlsx('./Data/inputData/考勤数据'))\n",
    "    for k, v in test.items():\n",
    "        print(k, v)"
   ],
   "metadata": {
    "collapsed": false,
    "pycharm": {
     "name": "#%%\n"
    }
   }
  },
  {
   "cell_type": "code",
   "execution_count": 1433,
   "outputs": [],
   "source": [
    "def merge_xlsx(file_dir, save_dir):\n",
    "    li = []\n",
    "    for i in file_dir:\n",
    "        li.append(pd.read_excel(i))\n",
    "    writer = pd.ExcelWriter(save_dir)\n",
    "    pd.concat(li).to_excel(writer,'Sheet1',index=False)\n",
    "\n",
    "    writer.save()"
   ],
   "metadata": {
    "collapsed": false,
    "pycharm": {
     "name": "#%%\n"
    }
   }
  },
  {
   "cell_type": "code",
   "execution_count": 1434,
   "outputs": [],
   "source": [
    "def xlsx_to_df(csv_file, index_col=None):\n",
    "    data = pd.DataFrame(pd.read_excel(csv_file, index_col=index_col))\n",
    "    return data"
   ],
   "metadata": {
    "collapsed": false,
    "pycharm": {
     "name": "#%%\n"
    }
   }
  },
  {
   "cell_type": "code",
   "execution_count": 1435,
   "outputs": [],
   "source": [
    "df = xlsx_to_df(r'./Data/inputData/考勤数据/考勤数据.xlsx')"
   ],
   "metadata": {
    "collapsed": false,
    "pycharm": {
     "name": "#%%\n"
    }
   }
  },
  {
   "cell_type": "code",
   "execution_count": 1436,
   "outputs": [],
   "source": [
    "df.to_csv('./Data/inputData/考勤数据/考勤数据.csv', encoding='utf_8', index=False)"
   ],
   "metadata": {
    "collapsed": false,
    "pycharm": {
     "name": "#%%\n"
    }
   }
  }
 ],
 "metadata": {
  "kernelspec": {
   "display_name": "Python 3",
   "language": "python",
   "name": "python3"
  },
  "language_info": {
   "codemirror_mode": {
    "name": "ipython",
    "version": 2
   },
   "file_extension": ".py",
   "mimetype": "text/x-python",
   "name": "python",
   "nbconvert_exporter": "python",
   "pygments_lexer": "ipython2",
   "version": "2.7.6"
  }
 },
 "nbformat": 4,
 "nbformat_minor": 0
}