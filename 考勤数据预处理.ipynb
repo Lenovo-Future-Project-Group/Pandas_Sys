{
 "cells": [
  {
   "cell_type": "code",
   "execution_count": 422,
   "outputs": [],
   "source": [
    "import os\n",
    "import re\n",
    "import pandas as pd"
   ],
   "metadata": {
    "collapsed": false,
    "pycharm": {
     "name": "#%%\n"
    }
   }
  },
  {
   "cell_type": "code",
   "execution_count": 423,
   "outputs": [],
   "source": [
    "def get_all_xlsx(file_dir, file_type='.xlsx'):\n",
    "    data = []\n",
    "    for root_dir, sub_dir, files in os.walk(file_dir):\n",
    "        for file in files:\n",
    "            if file.endswith(file_type):\n",
    "                file_name = os.path.join(root_dir, file)\n",
    "                data.append(file_name)\n",
    "    return data"
   ],
   "metadata": {
    "collapsed": false,
    "pycharm": {
     "name": "#%%\n"
    }
   }
  },
  {
   "cell_type": "code",
   "execution_count": 424,
   "outputs": [],
   "source": [
    "def get_all_date(data_xlsl):\n",
    "\n",
    "    stuDate = []\n",
    "    stuRoom = []\n",
    "    stuClassNum = []\n",
    "\n",
    "    for _ in data_xlsl:\n",
    "        xlsx_file_name = re.search(r'\\\\(.*?).xlsx', str(_))\n",
    "\n",
    "        search0bj = re.search(r'(.*)日(.*)第(.*)考', xlsx_file_name.group(1))\n",
    "\n",
    "        print(search0bj.group(1))\n",
    "\n",
    "        stuDate.append(search0bj.group(1) + '日')\n",
    "        stuRoom.append(search0bj.group(2))\n",
    "        stuClassNum.append(search0bj.group(3))\n",
    "\n",
    "    data = \\\n",
    "        {\n",
    "        'stuDate':stuDate,\n",
    "        'stuRoom':stuRoom,\n",
    "        'stuClassNum':stuClassNum,\n",
    "        }\n",
    "\n",
    "    print(data)\n",
    "\n",
    "    return data"
   ],
   "metadata": {
    "collapsed": false,
    "pycharm": {
     "name": "#%%\n"
    }
   }
  },
  {
   "cell_type": "markdown",
   "source": [],
   "metadata": {
    "collapsed": false,
    "pycharm": {
     "name": "#%% md\n"
    }
   }
  },
  {
   "cell_type": "code",
   "execution_count": 425,
   "outputs": [],
   "source": [
    "def merge_xlsx(file_dir, save_dir):\n",
    "    li = []\n",
    "    for _ in file_dir:\n",
    "        li.append(pd.read_excel(_))\n",
    "    writer = pd.ExcelWriter(save_dir)\n",
    "    pd.concat(li).to_excel(writer,'Sheet1',index=False)\n",
    "\n",
    "    writer.save()"
   ],
   "metadata": {
    "collapsed": false,
    "pycharm": {
     "name": "#%%\n"
    }
   }
  },
  {
   "cell_type": "code",
   "execution_count": 426,
   "outputs": [],
   "source": [
    "def xlsx_to_df(csv_file, index_col=None):\n",
    "    data = pd.DataFrame(pd.read_excel(csv_file, index_col=index_col))\n",
    "    return data"
   ],
   "metadata": {
    "collapsed": false,
    "pycharm": {
     "name": "#%%\n"
    }
   }
  },
  {
   "cell_type": "code",
   "execution_count": 427,
   "outputs": [],
   "source": [
    "# if __name__ == '__main__':\n",
    "    # merge_xlsx(get_all_xlsx(r'./Data/inputData/考勤数据'), r'Data/inputData/考勤数据/考勤数据.xlsx')\n",
    "    # print('合并完成')"
   ],
   "metadata": {
    "collapsed": false,
    "pycharm": {
     "name": "#%%\n"
    }
   }
  },
  {
   "cell_type": "code",
   "execution_count": 428,
   "outputs": [],
   "source": [
    "df = xlsx_to_df(r'./Data/inputData/考勤数据/考勤数据.xlsx')"
   ],
   "metadata": {
    "collapsed": false,
    "pycharm": {
     "name": "#%%\n"
    }
   }
  },
  {
   "cell_type": "code",
   "execution_count": 429,
   "outputs": [
    {
     "name": "stdout",
     "output_type": "stream",
     "text": [
      "2022年5月18\n",
      "2022年5月18\n",
      "2022年5月18\n",
      "2022年5月19\n",
      "2022年5月19\n",
      "2022年5月20\n",
      "2022年5月20\n",
      "2022年5月23\n",
      "2022年5月23\n",
      "2022年5月24\n",
      "2022年5月24\n",
      "2022年5月25\n",
      "2022年5月26\n",
      "2022年5月27\n",
      "2022年5月30\n",
      "2022年5月31\n",
      "2022年6月10\n",
      "2022年6月13\n",
      "2022年6月14\n",
      "2022年6月14\n",
      "2022年6月17\n",
      "2022年6月1\n",
      "2022年6月20\n",
      "2022年6月21\n",
      "2022年6月22\n",
      "2022年6月27\n",
      "2022年6月2\n",
      "2022年6月2\n",
      "2022年6月6\n",
      "2022年6月7\n",
      "2022年6月7\n",
      "2022年6月8\n",
      "2022年6月9\n",
      "2022年6月9\n"
     ]
    },
    {
     "ename": "AttributeError",
     "evalue": "'NoneType' object has no attribute 'group'",
     "output_type": "error",
     "traceback": [
      "\u001B[1;31m---------------------------------------------------------------------------\u001B[0m",
      "\u001B[1;31mAttributeError\u001B[0m                            Traceback (most recent call last)",
      "Cell \u001B[1;32mIn [429], line 3\u001B[0m\n\u001B[0;32m      1\u001B[0m \u001B[38;5;28;01mif\u001B[39;00m \u001B[38;5;18m__name__\u001B[39m \u001B[38;5;241m==\u001B[39m \u001B[38;5;124m'\u001B[39m\u001B[38;5;124m__main__\u001B[39m\u001B[38;5;124m'\u001B[39m:\n\u001B[0;32m      2\u001B[0m     file_data \u001B[38;5;241m=\u001B[39m get_all_xlsx(\u001B[38;5;124m'\u001B[39m\u001B[38;5;124m./Data/inputData/考勤数据\u001B[39m\u001B[38;5;124m'\u001B[39m, \u001B[38;5;124m'\u001B[39m\u001B[38;5;124m.xlsx\u001B[39m\u001B[38;5;124m'\u001B[39m)\n\u001B[1;32m----> 3\u001B[0m     test_data \u001B[38;5;241m=\u001B[39m \u001B[43mget_all_date\u001B[49m\u001B[43m(\u001B[49m\u001B[43mfile_data\u001B[49m\u001B[43m)\u001B[49m\n",
      "Cell \u001B[1;32mIn [424], line 12\u001B[0m, in \u001B[0;36mget_all_date\u001B[1;34m(data_xlsl)\u001B[0m\n\u001B[0;32m      8\u001B[0m xlsx_file_name \u001B[38;5;241m=\u001B[39m re\u001B[38;5;241m.\u001B[39msearch(\u001B[38;5;124mr\u001B[39m\u001B[38;5;124m'\u001B[39m\u001B[38;5;130;01m\\\\\u001B[39;00m\u001B[38;5;124m(.*?).xlsx\u001B[39m\u001B[38;5;124m'\u001B[39m, \u001B[38;5;28mstr\u001B[39m(_))\n\u001B[0;32m     10\u001B[0m search0bj \u001B[38;5;241m=\u001B[39m re\u001B[38;5;241m.\u001B[39msearch(\u001B[38;5;124mr\u001B[39m\u001B[38;5;124m'\u001B[39m\u001B[38;5;124m(.*)日(.*)第(.*)考\u001B[39m\u001B[38;5;124m'\u001B[39m, xlsx_file_name\u001B[38;5;241m.\u001B[39mgroup(\u001B[38;5;241m1\u001B[39m))\n\u001B[1;32m---> 12\u001B[0m \u001B[38;5;28mprint\u001B[39m(\u001B[43msearch0bj\u001B[49m\u001B[38;5;241;43m.\u001B[39;49m\u001B[43mgroup\u001B[49m(\u001B[38;5;241m1\u001B[39m))\n\u001B[0;32m     14\u001B[0m stuDate\u001B[38;5;241m.\u001B[39mappend(search0bj\u001B[38;5;241m.\u001B[39mgroup(\u001B[38;5;241m1\u001B[39m) \u001B[38;5;241m+\u001B[39m \u001B[38;5;124m'\u001B[39m\u001B[38;5;124m日\u001B[39m\u001B[38;5;124m'\u001B[39m)\n\u001B[0;32m     15\u001B[0m stuRoom\u001B[38;5;241m.\u001B[39mappend(search0bj\u001B[38;5;241m.\u001B[39mgroup(\u001B[38;5;241m2\u001B[39m))\n",
      "\u001B[1;31mAttributeError\u001B[0m: 'NoneType' object has no attribute 'group'"
     ]
    }
   ],
   "source": [
    "if __name__ == '__main__':\n",
    "    file_data = get_all_xlsx('./Data/inputData/考勤数据', '.xlsx')\n",
    "    test_data = get_all_date(file_data)\n",
    "    # print(test_data)\n",
    "#     for _ in test:\n",
    "#         for k, v in _.items():\n",
    "#             print(k, v)\n",
    "#         df.insert(4, 'stuDate', test['stuDate'])\n",
    "#\n",
    "# df"
   ],
   "metadata": {
    "collapsed": false,
    "pycharm": {
     "name": "#%%\n"
    }
   }
  },
  {
   "cell_type": "code",
   "execution_count": null,
   "outputs": [],
   "source": [
    "# df.to_csv('./Data/inputData/考勤数据/考勤数据.csv', encoding='utf_8', index=False)"
   ],
   "metadata": {
    "collapsed": false,
    "pycharm": {
     "name": "#%%\n"
    }
   }
  }
 ],
 "metadata": {
  "kernelspec": {
   "display_name": "Python 3",
   "language": "python",
   "name": "python3"
  },
  "language_info": {
   "codemirror_mode": {
    "name": "ipython",
    "version": 2
   },
   "file_extension": ".py",
   "mimetype": "text/x-python",
   "name": "python",
   "nbconvert_exporter": "python",
   "pygments_lexer": "ipython2",
   "version": "2.7.6"
  }
 },
 "nbformat": 4,
 "nbformat_minor": 0
}