{
 "cells": [
  {
   "cell_type": "code",
   "execution_count": 125,
   "outputs": [],
   "source": [
    "import os\n",
    "import re\n",
    "import pandas as pd"
   ],
   "metadata": {
    "collapsed": false,
    "pycharm": {
     "name": "#%%\n"
    }
   }
  },
  {
   "cell_type": "code",
   "execution_count": 117,
   "outputs": [],
   "source": [
    "def get_all_xlsx(file_dir, file_type='.xlsx'):\n",
    "    data = []\n",
    "    for root_dir, sub_dir, files in os.walk(file_dir):\n",
    "        for file in files:\n",
    "            if file.endswith(file_type):\n",
    "                file_name = os.path.join(root_dir, file)\n",
    "                data.append(file_name)\n",
    "    return data"
   ],
   "metadata": {
    "collapsed": false,
    "pycharm": {
     "name": "#%%\n"
    }
   }
  },
  {
   "cell_type": "code",
   "execution_count": 118,
   "outputs": [],
   "source": [
    "def merge_xlsx(file_dir, save_dir):\n",
    "    li = []\n",
    "    for i in file_dir:\n",
    "        li.append(pd.read_excel(i))\n",
    "    writer = pd.ExcelWriter(save_dir)\n",
    "    pd.concat(li).to_excel(writer,'Sheet1',index=False)\n",
    "\n",
    "    writer.save()"
   ],
   "metadata": {
    "collapsed": false,
    "pycharm": {
     "name": "#%%\n"
    }
   }
  },
  {
   "cell_type": "code",
   "execution_count": 145,
   "outputs": [
    {
     "name": "stdout",
     "output_type": "stream",
     "text": [
      "\\2022年5月18日5楼第1节课考勤表\n",
      "\\2022年5月18日5楼第3节课考勤表\n",
      "\\2022年5月18日5楼第5节课考勤表\n",
      "\\2022年5月19日5楼第1节课考勤表\n",
      "\\2022年5月19日5楼第3节课考勤表\n",
      "\\2022年5月20日5楼第1节课考勤表\n",
      "\\2022年5月20日5楼第3节课考勤表\n",
      "\\2022年5月23日5楼第1节课考勤表\n",
      "\\2022年5月23日5楼第3节课考勤表\n",
      "\\2022年5月24日5楼第1节课考勤表\n",
      "\\2022年5月24日5楼第3节课考勤表\n",
      "\\2022年5月25日5楼第3节课考勤表\n",
      "\\2022年5月26日5楼第4节课考勤表\n",
      "\\2022年5月27日5楼第1节课考勤表\n",
      "\\2022年5月30日5楼第1节课考勤表\n",
      "\\2022年5月31日5楼第3节课考勤表\n",
      "\\2022年6月10日5楼第4节课考勤表\n",
      "\\2022年6月13日5楼第1节课考勤表\n",
      "\\2022年6月14日5楼第1节课考勤表\n",
      "\\2022年6月14日5楼第3节课考勤表\n",
      "\\2022年6月17日5楼第3节课考勤表\n",
      "\\2022年6月1日5楼第5节课考勤表\n",
      "\\2022年6月20日5楼第1节课考勤表\n",
      "\\2022年6月21日5楼第3节课考勤表\n",
      "\\2022年6月22日5楼第1节课考勤表\n",
      "\\2022年6月27日5楼第3节课考勤表\n",
      "\\2022年6月2日5楼第3节课考勤表\n",
      "\\2022年6月2日5楼第5节课考勤表\n",
      "\\2022年6月6日5楼第1节课考勤表\n",
      "\\2022年6月7日5楼第1节课考勤表\n",
      "\\2022年6月7日5楼第3节课考勤表\n",
      "\\2022年6月8日5楼第5节课考勤表\n",
      "\\2022年6月9日5楼第1节课考勤表\n",
      "\\2022年6月9日5楼第5节课考勤表\n",
      "\\考勤数据\n"
     ]
    }
   ],
   "source": [
    "if __name__ == '__main__':\n",
    "    data_xlsl = get_all_xlsx('./Data/inputData/考勤数据')\n",
    "    xlsx_file_name = re.findall(r'\\\\(.*?).xlsx', str(data_xlsl))"
   ],
   "metadata": {
    "collapsed": false,
    "pycharm": {
     "name": "#%%\n"
    }
   }
  },
  {
   "cell_type": "code",
   "execution_count": 121,
   "outputs": [],
   "source": [
    "def xlsx_to_df(csv_file, index_col=None):\n",
    "    data = pd.DataFrame(pd.read_excel(csv_file, index_col=index_col))\n",
    "    return data"
   ],
   "metadata": {
    "collapsed": false,
    "pycharm": {
     "name": "#%%\n"
    }
   }
  },
  {
   "cell_type": "code",
   "execution_count": 122,
   "outputs": [],
   "source": [
    "df = xlsx_to_df(r'./Data/inputData/考勤数据/考勤数据.xlsx')"
   ],
   "metadata": {
    "collapsed": false,
    "pycharm": {
     "name": "#%%\n"
    }
   }
  },
  {
   "cell_type": "code",
   "execution_count": 123,
   "outputs": [],
   "source": [
    "df.to_csv('./Data/inputData/考勤数据/考勤数据.csv', encoding='utf_8', index=False)"
   ],
   "metadata": {
    "collapsed": false,
    "pycharm": {
     "name": "#%%\n"
    }
   }
  }
 ],
 "metadata": {
  "kernelspec": {
   "display_name": "Python 3",
   "language": "python",
   "name": "python3"
  },
  "language_info": {
   "codemirror_mode": {
    "name": "ipython",
    "version": 2
   },
   "file_extension": ".py",
   "mimetype": "text/x-python",
   "name": "python",
   "nbconvert_exporter": "python",
   "pygments_lexer": "ipython2",
   "version": "2.7.6"
  }
 },
 "nbformat": 4,
 "nbformat_minor": 0
}