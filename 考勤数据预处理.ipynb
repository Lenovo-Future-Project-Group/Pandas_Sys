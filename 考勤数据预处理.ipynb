{
 "cells": [
  {
   "cell_type": "code",
   "execution_count": 927,
   "outputs": [],
   "source": [
    "import os\n",
    "import re\n",
    "import pandas as pd"
   ],
   "metadata": {
    "collapsed": false,
    "pycharm": {
     "name": "#%%\n"
    }
   }
  },
  {
   "cell_type": "code",
   "execution_count": 928,
   "outputs": [],
   "source": [
    "def get_all_xlsx(file_dir, file_type='.xlsx'):\n",
    "    data = []\n",
    "    for root_dir, sub_dir, files in os.walk(file_dir):\n",
    "        for file in files:\n",
    "            if file.endswith(file_type):\n",
    "                file_name = os.path.join(root_dir, file)\n",
    "                data.append(file_name)\n",
    "    return data"
   ],
   "metadata": {
    "collapsed": false,
    "pycharm": {
     "name": "#%%\n"
    }
   }
  },
  {
   "cell_type": "code",
   "execution_count": 929,
   "outputs": [],
   "source": [
    "def get_all_date(data_xlsl):\n",
    "    xlsx_file_name = re.findall(r'\\\\(.*?).xlsx', str(data_xlsl))[0]\n",
    "    print(xlsx_file_name)\n",
    "\n",
    "    data = \\\n",
    "        {\n",
    "        'stu_date':re.search('(\\d.*?年\\d.*?月\\d.*?日)', xlsx_file_name),\n",
    "        'stu_room':re.search('(\\d.*?楼)', xlsx_file_name),\n",
    "        'stu_class_num':re.search('(\\d.*?节课)', xlsx_file_name)\n",
    "        }\n",
    "\n",
    "    return data"
   ],
   "metadata": {
    "collapsed": false,
    "pycharm": {
     "name": "#%%\n"
    }
   }
  },
  {
   "cell_type": "code",
   "execution_count": 930,
   "outputs": [
    {
     "name": "stdout",
     "output_type": "stream",
     "text": [
      "\\2022年5月18日5楼第1节课考勤表\n",
      "stu_date 2022年5月18日\n",
      "stu_room 2022年5月18日5楼\n",
      "stu_class_num 2022年5月18日5楼第1节课\n"
     ]
    }
   ],
   "source": [
    "if __name__ == '__main__':\n",
    "    test = get_all_date(get_all_xlsx('./Data/inputData/考勤数据'))\n",
    "    for k, v in test.items():\n",
    "        print(k, v.groups()[0])\n"
   ],
   "metadata": {
    "collapsed": false,
    "pycharm": {
     "name": "#%%\n"
    }
   }
  },
  {
   "cell_type": "code",
   "execution_count": 931,
   "outputs": [],
   "source": [
    "def merge_xlsx(file_dir, save_dir):\n",
    "    li = []\n",
    "    for i in file_dir:\n",
    "        li.append(pd.read_excel(i))\n",
    "    writer = pd.ExcelWriter(save_dir)\n",
    "    pd.concat(li).to_excel(writer,'Sheet1',index=False)\n",
    "\n",
    "    writer.save()"
   ],
   "metadata": {
    "collapsed": false,
    "pycharm": {
     "name": "#%%\n"
    }
   }
  },
  {
   "cell_type": "code",
   "execution_count": 932,
   "outputs": [],
   "source": [
    "def xlsx_to_df(csv_file, index_col=None):\n",
    "    data = pd.DataFrame(pd.read_excel(csv_file, index_col=index_col))\n",
    "    return data"
   ],
   "metadata": {
    "collapsed": false,
    "pycharm": {
     "name": "#%%\n"
    }
   }
  },
  {
   "cell_type": "code",
   "execution_count": 933,
   "outputs": [],
   "source": [
    "df = xlsx_to_df(r'./Data/inputData/考勤数据/考勤数据.xlsx')"
   ],
   "metadata": {
    "collapsed": false,
    "pycharm": {
     "name": "#%%\n"
    }
   }
  },
  {
   "cell_type": "code",
   "execution_count": 934,
   "outputs": [],
   "source": [
    "df.to_csv('./Data/inputData/考勤数据/考勤数据.csv', encoding='utf_8', index=False)"
   ],
   "metadata": {
    "collapsed": false,
    "pycharm": {
     "name": "#%%\n"
    }
   }
  }
 ],
 "metadata": {
  "kernelspec": {
   "display_name": "Python 3",
   "language": "python",
   "name": "python3"
  },
  "language_info": {
   "codemirror_mode": {
    "name": "ipython",
    "version": 2
   },
   "file_extension": ".py",
   "mimetype": "text/x-python",
   "name": "python",
   "nbconvert_exporter": "python",
   "pygments_lexer": "ipython2",
   "version": "2.7.6"
  }
 },
 "nbformat": 4,
 "nbformat_minor": 0
}