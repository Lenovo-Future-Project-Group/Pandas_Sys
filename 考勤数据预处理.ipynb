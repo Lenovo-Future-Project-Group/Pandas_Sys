{
 "cells": [
  {
   "cell_type": "code",
   "execution_count": 249,
   "outputs": [],
   "source": [
    "import os\n",
    "import re\n",
    "import pandas as pd"
   ],
   "metadata": {
    "collapsed": false,
    "pycharm": {
     "name": "#%%\n"
    }
   }
  },
  {
   "cell_type": "code",
   "execution_count": 250,
   "outputs": [],
   "source": [
    "def get_all_xlsx(file_dir, file_type='.xlsx'):\n",
    "    data = []\n",
    "    for root_dir, sub_dir, files in os.walk(file_dir):\n",
    "        for file in files:\n",
    "            if file.endswith(file_type):\n",
    "                file_name = os.path.join(root_dir, file)\n",
    "                data.append(file_name)\n",
    "    return data"
   ],
   "metadata": {
    "collapsed": false,
    "pycharm": {
     "name": "#%%\n"
    }
   }
  },
  {
   "cell_type": "code",
   "execution_count": 251,
   "outputs": [],
   "source": [
    "def get_all_date(data_xlsl):\n",
    "\n",
    "    stuDate = []\n",
    "    stuRoom = []\n",
    "    stuClassNum = []\n",
    "\n",
    "    for _ in data_xlsl:\n",
    "        xlsx_file_name = re.search(r'\\\\(.*?).xlsx', str(_))\n",
    "\n",
    "        search0bj = re.search(r'(.*)日(.*)第(.*)考', xlsx_file_name.group(1))\n",
    "\n",
    "        # print(search0bj.group(1)+ '日')\n",
    "\n",
    "        try:\n",
    "            stuDate.append(search0bj.group(1) + '日')\n",
    "            stuRoom.append(search0bj.group(2))\n",
    "            stuClassNum.append(search0bj.group(3))\n",
    "        except Exception as e:\n",
    "            print(e)\n",
    "            pass\n",
    "\n",
    "    data = \\\n",
    "        {\n",
    "        'stuDate':stuDate,\n",
    "        'stuRoom':stuRoom,\n",
    "        'stuClassNum':stuClassNum,\n",
    "        }\n",
    "\n",
    "    return data"
   ],
   "metadata": {
    "collapsed": false,
    "pycharm": {
     "name": "#%%\n"
    }
   }
  },
  {
   "cell_type": "markdown",
   "source": [],
   "metadata": {
    "collapsed": false,
    "pycharm": {
     "name": "#%% md\n"
    }
   }
  },
  {
   "cell_type": "code",
   "execution_count": 252,
   "outputs": [],
   "source": [
    "def merge_xlsx(file_dir, save_dir):\n",
    "    li = []\n",
    "    for _ in file_dir:\n",
    "        li.append(pd.read_excel(_))\n",
    "    writer = pd.ExcelWriter(save_dir)\n",
    "    pd.concat(li).to_excel(writer,'Sheet1',index=False)\n",
    "\n",
    "    writer.save()"
   ],
   "metadata": {
    "collapsed": false,
    "pycharm": {
     "name": "#%%\n"
    }
   }
  },
  {
   "cell_type": "code",
   "execution_count": 253,
   "outputs": [],
   "source": [
    "def xlsx_to_df(csv_file, index_col=None):\n",
    "    data = pd.DataFrame(pd.read_excel(csv_file, index_col=index_col))\n",
    "    return data"
   ],
   "metadata": {
    "collapsed": false,
    "pycharm": {
     "name": "#%%\n"
    }
   }
  },
  {
   "cell_type": "code",
   "execution_count": 254,
   "outputs": [],
   "source": [
    "# if __name__ == '__main__':\n",
    "    # merge_xlsx(get_all_xlsx(r'./Data/inputData/考勤数据'), r'Data/inputData/考勤数据/考勤数据.xlsx')\n",
    "    # print('合并完成')"
   ],
   "metadata": {
    "collapsed": false,
    "pycharm": {
     "name": "#%%\n"
    }
   }
  },
  {
   "cell_type": "code",
   "execution_count": 255,
   "outputs": [],
   "source": [
    "df = xlsx_to_df(r'./Data/inputData/考勤数据/考勤数据.xlsx')"
   ],
   "metadata": {
    "collapsed": false,
    "pycharm": {
     "name": "#%%\n"
    }
   }
  },
  {
   "cell_type": "code",
   "execution_count": 256,
   "outputs": [
    {
     "name": "stdout",
     "output_type": "stream",
     "text": [
      "'NoneType' object has no attribute 'group'\n"
     ]
    },
    {
     "data": {
      "text/plain": "     编号   名单    考勤     说明    stuDate stuRoom stuClassNum\n0     1  崔昊元  考勤正常    NaN  2022年6月9日      5楼         5节课\n1     2  贾靖程  考勤异常  身体不舒服  2022年6月9日      5楼         5节课\n2     3  吴俊岳  考勤正常    NaN  2022年6月9日      5楼         5节课\n3     4  王浩羽  考勤正常    NaN  2022年6月9日      5楼         5节课\n4     5  吕梦丽  考勤正常    NaN  2022年6月9日      5楼         5节课\n..   ..  ...   ...    ...        ...     ...         ...\n539  12  李蓉轩  考勤正常    NaN  2022年6月9日      5楼         5节课\n540  13  陈观绅  考勤正常    NaN  2022年6月9日      5楼         5节课\n541  14  赵鑫博  考勤正常    NaN  2022年6月9日      5楼         5节课\n542  15  张子豪  考勤正常    NaN  2022年6月9日      5楼         5节课\n543  16   叶平  考勤正常    NaN  2022年6月9日      5楼         5节课\n\n[544 rows x 7 columns]",
      "text/html": "<div>\n<style scoped>\n    .dataframe tbody tr th:only-of-type {\n        vertical-align: middle;\n    }\n\n    .dataframe tbody tr th {\n        vertical-align: top;\n    }\n\n    .dataframe thead th {\n        text-align: right;\n    }\n</style>\n<table border=\"1\" class=\"dataframe\">\n  <thead>\n    <tr style=\"text-align: right;\">\n      <th></th>\n      <th>编号</th>\n      <th>名单</th>\n      <th>考勤</th>\n      <th>说明</th>\n      <th>stuDate</th>\n      <th>stuRoom</th>\n      <th>stuClassNum</th>\n    </tr>\n  </thead>\n  <tbody>\n    <tr>\n      <th>0</th>\n      <td>1</td>\n      <td>崔昊元</td>\n      <td>考勤正常</td>\n      <td>NaN</td>\n      <td>2022年6月9日</td>\n      <td>5楼</td>\n      <td>5节课</td>\n    </tr>\n    <tr>\n      <th>1</th>\n      <td>2</td>\n      <td>贾靖程</td>\n      <td>考勤异常</td>\n      <td>身体不舒服</td>\n      <td>2022年6月9日</td>\n      <td>5楼</td>\n      <td>5节课</td>\n    </tr>\n    <tr>\n      <th>2</th>\n      <td>3</td>\n      <td>吴俊岳</td>\n      <td>考勤正常</td>\n      <td>NaN</td>\n      <td>2022年6月9日</td>\n      <td>5楼</td>\n      <td>5节课</td>\n    </tr>\n    <tr>\n      <th>3</th>\n      <td>4</td>\n      <td>王浩羽</td>\n      <td>考勤正常</td>\n      <td>NaN</td>\n      <td>2022年6月9日</td>\n      <td>5楼</td>\n      <td>5节课</td>\n    </tr>\n    <tr>\n      <th>4</th>\n      <td>5</td>\n      <td>吕梦丽</td>\n      <td>考勤正常</td>\n      <td>NaN</td>\n      <td>2022年6月9日</td>\n      <td>5楼</td>\n      <td>5节课</td>\n    </tr>\n    <tr>\n      <th>...</th>\n      <td>...</td>\n      <td>...</td>\n      <td>...</td>\n      <td>...</td>\n      <td>...</td>\n      <td>...</td>\n      <td>...</td>\n    </tr>\n    <tr>\n      <th>539</th>\n      <td>12</td>\n      <td>李蓉轩</td>\n      <td>考勤正常</td>\n      <td>NaN</td>\n      <td>2022年6月9日</td>\n      <td>5楼</td>\n      <td>5节课</td>\n    </tr>\n    <tr>\n      <th>540</th>\n      <td>13</td>\n      <td>陈观绅</td>\n      <td>考勤正常</td>\n      <td>NaN</td>\n      <td>2022年6月9日</td>\n      <td>5楼</td>\n      <td>5节课</td>\n    </tr>\n    <tr>\n      <th>541</th>\n      <td>14</td>\n      <td>赵鑫博</td>\n      <td>考勤正常</td>\n      <td>NaN</td>\n      <td>2022年6月9日</td>\n      <td>5楼</td>\n      <td>5节课</td>\n    </tr>\n    <tr>\n      <th>542</th>\n      <td>15</td>\n      <td>张子豪</td>\n      <td>考勤正常</td>\n      <td>NaN</td>\n      <td>2022年6月9日</td>\n      <td>5楼</td>\n      <td>5节课</td>\n    </tr>\n    <tr>\n      <th>543</th>\n      <td>16</td>\n      <td>叶平</td>\n      <td>考勤正常</td>\n      <td>NaN</td>\n      <td>2022年6月9日</td>\n      <td>5楼</td>\n      <td>5节课</td>\n    </tr>\n  </tbody>\n</table>\n<p>544 rows × 7 columns</p>\n</div>"
     },
     "execution_count": 256,
     "metadata": {},
     "output_type": "execute_result"
    }
   ],
   "source": [
    "if __name__ == '__main__':\n",
    "    file_data = get_all_date(get_all_xlsx('./Data/inputData/考勤数据', '.xlsx'))\n",
    "    # print(file_data)\n",
    "    for k, v in file_data.items():\n",
    "        for i in v:\n",
    "            if k == 'stuDate':\n",
    "                df[k] = [i for _ in df.index]\n",
    "            elif k == 'stuRoom':\n",
    "                df[k] = [i for _ in df.index]\n",
    "            elif k == 'stuClassNum':\n",
    "                df[k] = [i for _ in df.index]\n",
    "            else:\n",
    "                pass\n",
    "\n",
    "\n",
    "df"
   ],
   "metadata": {
    "collapsed": false,
    "pycharm": {
     "name": "#%%\n"
    }
   }
  },
  {
   "cell_type": "code",
   "execution_count": 257,
   "outputs": [],
   "source": [
    "# df.to_csv('./Data/inputData/考勤数据/考勤数据.csv', encoding='utf_8', index=False)"
   ],
   "metadata": {
    "collapsed": false,
    "pycharm": {
     "name": "#%%\n"
    }
   }
  }
 ],
 "metadata": {
  "kernelspec": {
   "display_name": "Python 3",
   "language": "python",
   "name": "python3"
  },
  "language_info": {
   "codemirror_mode": {
    "name": "ipython",
    "version": 2
   },
   "file_extension": ".py",
   "mimetype": "text/x-python",
   "name": "python",
   "nbconvert_exporter": "python",
   "pygments_lexer": "ipython2",
   "version": "2.7.6"
  }
 },
 "nbformat": 4,
 "nbformat_minor": 0
}