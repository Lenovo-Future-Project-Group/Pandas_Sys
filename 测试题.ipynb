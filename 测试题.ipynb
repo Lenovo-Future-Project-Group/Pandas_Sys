{
 "cells": [
  {
   "cell_type": "code",
   "execution_count": 54,
   "metadata": {
    "pycharm": {
     "name": "#%%\n"
    }
   },
   "outputs": [],
   "source": [
    "import pandas as pd\n",
    "import numpy as np\n",
    "import random"
   ]
  },
  {
   "cell_type": "code",
   "execution_count": 55,
   "metadata": {
    "pycharm": {
     "name": "#%%\n"
    }
   },
   "outputs": [],
   "source": [
    "# 2022-9-7测试\n",
    "# 一：\n",
    "# 1. 创建data目录，在data中创建students.csv文件，文件中写入全班同学的编号、姓名、性别、年龄、邮箱、组名\n",
    "# 使用pandas读取此文件，并打印结果\n",
    "# 要求：邮箱是随机出的9位数字+“@qq.com”\n",
    "\n",
    "def random_email(email_ws):\n",
    "    num_info = ''.join(str(i) for i in random.sample(range(0, email_ws), email_ws))\n",
    "    # sample(seq, n) 从序列seq中选择n个随机且独立的元素；randrange([start], stop[, step]) 从指定范围内，按指定基数递增的集合中 获取一个随机数\n",
    "    data = num_info + '@qq.com'\n",
    "    # n个随机且独立的元素；\n",
    "    return data\n",
    "\n",
    "\n",
    "def csv_to_df(csv_file):\n",
    "    csv_data = pd.read_csv(csv_file, low_memory=False)  #防止弹出警告\n",
    "    data = pd.DataFrame(csv_data)\n",
    "    return data\n",
    "\n",
    "\n",
    "df = csv_to_df('Data/students.csv')\n",
    "df['邮箱'] = [random_email(9) for v in df.index]\n",
    "df.to_csv('Data/students.csv', index=False)"
   ]
  },
  {
   "cell_type": "code",
   "execution_count": 55,
   "metadata": {
    "pycharm": {
     "name": "#%%\n"
    }
   },
   "outputs": [],
   "source": []
  },
  {
   "cell_type": "code",
   "execution_count": 56,
   "metadata": {
    "pycharm": {
     "name": "#%%\n"
    }
   },
   "outputs": [
    {
     "name": "stdout",
     "output_type": "stream",
     "text": [
      "1    一组\n",
      "2    二组\n",
      "3    三组\n",
      "4    四组\n",
      "dtype: object\n"
     ]
    }
   ],
   "source": [
    "# 2022-9-13测试\n",
    "# 文件提交命名：组名_姓名_第一周测试2.ipynb\n",
    "# 1.创建一个Series，命名为s1，数值是\"一组\",\"二组\",\"三组\",\"四组\"，索引是1，2，3，4\n",
    "\n",
    "s1 = pd.Series(np.array(['一组', '二组', '三组', '四组']), index=[1, 2, 3, 4])\n",
    "print(s1)"
   ]
  },
  {
   "cell_type": "code",
   "execution_count": 57,
   "metadata": {
    "pycharm": {
     "name": "#%%\n"
    }
   },
   "outputs": [
    {
     "name": "stdout",
     "output_type": "stream",
     "text": [
      "['一组' '二组' '三组' '四组']\n",
      "Int64Index([1, 2, 3, 4], dtype='int64')\n"
     ]
    }
   ],
   "source": [
    "# 2. 打印s1所有的值和索引\n",
    "\n",
    "print(s1.values)\n",
    "print(s1.index)"
   ]
  },
  {
   "cell_type": "code",
   "execution_count": 58,
   "metadata": {
    "pycharm": {
     "name": "#%%\n"
    }
   },
   "outputs": [
    {
     "name": "stdout",
     "output_type": "stream",
     "text": [
      "1    一组\n",
      "3    三组\n",
      "dtype: object\n"
     ]
    }
   ],
   "source": [
    "# 3. 将索引为1，3的数值取出并打印出来\n",
    "\n",
    "print(s1[[1, 3]])"
   ]
  },
  {
   "cell_type": "code",
   "execution_count": 59,
   "metadata": {
    "pycharm": {
     "name": "#%%\n"
    }
   },
   "outputs": [],
   "source": [
    "# 4. 将一到四组的数值分别重命名为\"叶原枫\",\"琼玉\",\"styles\",\"黑马\"\n",
    "\n",
    "s1 = s1.rename({1: '叶原枫', 2: '琼玉', 3: 'styles', 4: '黑马'})"
   ]
  },
  {
   "cell_type": "code",
   "execution_count": 60,
   "metadata": {
    "pycharm": {
     "name": "#%%\n"
    }
   },
   "outputs": [
    {
     "name": "stdout",
     "output_type": "stream",
     "text": [
      "(4,)\n"
     ]
    }
   ],
   "source": [
    "# 5.查看s1的维度\n",
    "\n",
    "print(s1.shape)"
   ]
  },
  {
   "cell_type": "code",
   "execution_count": 61,
   "metadata": {
    "pycharm": {
     "name": "#%%\n"
    }
   },
   "outputs": [],
   "source": [
    "# 二：\n",
    "# 1. 读取data/students.csv文件，创建DataFrame，命名为df\n",
    "\n",
    "df = csv_to_df('Data/students.csv')"
   ]
  },
  {
   "cell_type": "code",
   "execution_count": 62,
   "metadata": {
    "pycharm": {
     "name": "#%%\n"
    }
   },
   "outputs": [
    {
     "name": "stdout",
     "output_type": "stream",
     "text": [
      "   学号   姓名 性别  年龄                邮箱   组名\n",
      "0   0  崔昊元  女  18  176432058@qq.com   萝卜\n",
      "1   1  贾靖程  女  18  520831647@qq.com   黑马\n",
      "2   2  吴俊岳  男  18  204715638@qq.com   萝卜\n",
      "3   3  王浩羽  男  18  728016354@qq.com  叶原枫\n",
      "4   4  吕梦丽  女  18  263574810@qq.com   黑马\n",
      "    学号   姓名 性别  年龄                邮箱     组名\n",
      "12  12  陈观绅  男  18  725801436@qq.com    叶原枫\n",
      "13  13  赵鑫博  男  18  540812376@qq.com     萝卜\n",
      "14  14  张子豪  男  18  803165742@qq.com     萝卜\n",
      "15  15   叶平  男  18  532476018@qq.com  Style\n",
      "16  16  杨悦欣  女  18  378426105@qq.com     黑马\n",
      "17  17  李博远  男  18  736815402@qq.com  Style\n",
      "18  18  张靖薇  女  18  142076583@qq.com     黑马\n"
     ]
    }
   ],
   "source": [
    "# 2. 输出df的前5行和后7行数据\n",
    "\n",
    "print(df.head(5))\n",
    "print(df.tail(7))"
   ]
  },
  {
   "cell_type": "code",
   "execution_count": 63,
   "metadata": {
    "pycharm": {
     "name": "#%%\n"
    }
   },
   "outputs": [
    {
     "name": "stdout",
     "output_type": "stream",
     "text": [
      "    学号   姓名 性别  年龄                邮箱     组名\n",
      "5    5  牛皓冬  男  18  236081745@qq.com  Style\n",
      "6    6   张阔  男  18  147350268@qq.com    叶原枫\n",
      "7    7  孙佳奇  男  18  231605487@qq.com  Style\n",
      "8    8  郑佳睦  男  18  184705362@qq.com    叶原枫\n",
      "9    9  王孝天  男  18  032781654@qq.com     萝卜\n",
      "10  10  付一鸣  男  18  416208573@qq.com  Style\n"
     ]
    }
   ],
   "source": [
    "# 3. 打印第5行～第10行数据\n",
    "\n",
    "print(df[5:10 + 1])"
   ]
  },
  {
   "cell_type": "code",
   "execution_count": 64,
   "metadata": {
    "pycharm": {
     "name": "#%%\n"
    }
   },
   "outputs": [
    {
     "name": "stdout",
     "output_type": "stream",
     "text": [
      "     姓名     组名\n",
      "0   崔昊元     萝卜\n",
      "1   贾靖程     黑马\n",
      "2   吴俊岳     萝卜\n",
      "3   王浩羽    叶原枫\n",
      "4   吕梦丽     黑马\n",
      "5   牛皓冬  Style\n",
      "6    张阔    叶原枫\n",
      "7   孙佳奇  Style\n",
      "8   郑佳睦    叶原枫\n",
      "9   王孝天     萝卜\n",
      "10  付一鸣  Style\n",
      "11  李蓉轩     黑马\n",
      "12  陈观绅    叶原枫\n",
      "13  赵鑫博     萝卜\n",
      "14  张子豪     萝卜\n",
      "15   叶平  Style\n",
      "16  杨悦欣     黑马\n",
      "17  李博远  Style\n",
      "18  张靖薇     黑马\n"
     ]
    }
   ],
   "source": [
    "# 4. 打印\"姓名\",\"组名\"这两列数据\n",
    "\n",
    "print(df[['姓名', '组名']])"
   ]
  },
  {
   "cell_type": "code",
   "execution_count": 65,
   "metadata": {
    "pycharm": {
     "name": "#%%\n"
    }
   },
   "outputs": [
    {
     "name": "stdout",
     "output_type": "stream",
     "text": [
      "Index(['学号', '姓名', '性别', '年龄', '邮箱', '组名'], dtype='object')\n"
     ]
    }
   ],
   "source": [
    "# 5. 打印所有的标题\n",
    "\n",
    "print(df.columns)"
   ]
  },
  {
   "cell_type": "code",
   "execution_count": 66,
   "metadata": {
    "pycharm": {
     "name": "#%%\n"
    }
   },
   "outputs": [
    {
     "name": "stdout",
     "output_type": "stream",
     "text": [
      "(19, 6)\n"
     ]
    }
   ],
   "source": [
    "# 6. 打印df的\"形状\"（几行几列）\n",
    "\n",
    "print(df.shape)"
   ]
  },
  {
   "cell_type": "code",
   "execution_count": 67,
   "metadata": {
    "pycharm": {
     "name": "#%%\n"
    }
   },
   "outputs": [
    {
     "name": "stdout",
     "output_type": "stream",
     "text": [
      "2\n"
     ]
    }
   ],
   "source": [
    "# 7. 打印出df是几维的\n",
    "\n",
    "print(df.ndim)"
   ]
  },
  {
   "cell_type": "code",
   "execution_count": 68,
   "metadata": {
    "pycharm": {
     "name": "#%%\n"
    }
   },
   "outputs": [],
   "source": [
    "# 8. 删除第5行和\"年龄\"列的数据\n",
    "\n",
    "df.drop(5, inplace=False)"
   ]
  },
  {
   "cell_type": "code",
   "execution_count": 69,
   "metadata": {
    "pycharm": {
     "name": "#%%\n"
    }
   },
   "outputs": [
    {
     "name": "stdout",
     "output_type": "stream",
     "text": [
      "Empty DataFrame\n",
      "Columns: [学号, 姓名, 性别, 年龄, 邮箱, 组名]\n",
      "Index: []\n"
     ]
    }
   ],
   "source": [
    "# 9.拓展题：打印组名是“style”的数据\n",
    "\n",
    "print(df[df['组名'] == 'styles'])"
   ]
  }
 ],
 "metadata": {
  "kernelspec": {
   "display_name": "Python 3 (ipykernel)",
   "language": "python",
   "name": "python3"
  },
  "language_info": {
   "codemirror_mode": {
    "name": "ipython",
    "version": 3
   },
   "file_extension": ".py",
   "mimetype": "text/x-python",
   "name": "python",
   "nbconvert_exporter": "python",
   "pygments_lexer": "ipython3",
   "version": "3.10.7"
  },
  "vscode": {
   "interpreter": {
    "hash": "68908377ed95d7c3d4e1905f72b5c03e8b8f9a308e79edcfb0aafe2172e16c29"
   }
  }
 },
 "nbformat": 4,
 "nbformat_minor": 2
}