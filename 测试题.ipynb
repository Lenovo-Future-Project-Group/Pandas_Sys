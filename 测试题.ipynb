{
 "cells": [
  {
   "cell_type": "code",
   "execution_count": 17,
   "metadata": {
    "pycharm": {
     "name": "#%%\n"
    }
   },
   "outputs": [],
   "source": [
    "import pandas as pd\n",
    "import numpy as np\n",
    "import random"
   ]
  },
  {
   "cell_type": "code",
   "execution_count": 18,
   "outputs": [],
   "source": [
    "# 2022-9-7测试\n",
    "# 一：\n",
    "# 1. 创建data目录，在data中创建students.csv文件，文件中写入全班同学的编号、姓名、性别、年龄、邮箱、组名\n",
    "# 使用pandas读取此文件，并打印结果\n",
    "# 要求：邮箱是随机出的9位数字+“@qq.com”\n",
    "\n",
    "def random_email(email_ws):\n",
    "    num_info = ''.join(str(i) for i in random.sample(range(0, email_ws), email_ws))\n",
    "    # sample(seq, n) 从序列seq中选择n个随机且独立的元素；randrange([start], stop[, step]) 从指定范围内，按指定基数递增的集合中 获取一个随机数\n",
    "    data = num_info + '@qq.com'\n",
    "    # n个随机且独立的元素；\n",
    "    return data\n",
    "\n",
    "\n",
    "def csv_to_df(csv_file):\n",
    "    csv_data = pd.read_csv(csv_file, low_memory=False)  #防止弹出警告\n",
    "    data = pd.DataFrame(csv_data)\n",
    "    return data\n",
    "\n",
    "\n",
    "df = csv_to_df('students.csv')\n",
    "df['邮箱'] = [random_email(9) for v in df.index]\n",
    "df.to_csv('students.csv', index=False)"
   ],
   "metadata": {
    "collapsed": false,
    "pycharm": {
     "name": "#%%\n"
    }
   }
  },
  {
   "cell_type": "code",
   "execution_count": 19,
   "metadata": {
    "pycharm": {
     "name": "#%%\n"
    }
   },
   "outputs": [],
   "source": [
    "# 2022-9-13测试\n",
    "# 文件提交命名：组名_姓名_第一周测试2.ipynb\n",
    "# 1.创建一个Series，命名为s1，数值是\"一组\",\"二组\",\"三组\",\"四组\"，索引是1，2，3，4\n"
   ]
  },
  {
   "cell_type": "code",
   "execution_count": 20,
   "metadata": {
    "pycharm": {
     "name": "#%%\n"
    }
   },
   "outputs": [],
   "source": [
    "# 2. 打印s1所有的值和索引"
   ]
  },
  {
   "cell_type": "code",
   "execution_count": 21,
   "metadata": {
    "pycharm": {
     "name": "#%%\n"
    }
   },
   "outputs": [],
   "source": [
    "# 3. 将索引为1，3的数值取出并打印出来\n"
   ]
  },
  {
   "cell_type": "code",
   "execution_count": 22,
   "metadata": {
    "pycharm": {
     "name": "#%%\n"
    }
   },
   "outputs": [],
   "source": [
    "# 4. 将一到四组的数值分别重命名为\"叶原枫\",\"琼玉\",\"styles\",\"黑马\"\n"
   ]
  },
  {
   "cell_type": "code",
   "execution_count": 23,
   "metadata": {
    "pycharm": {
     "name": "#%%\n"
    }
   },
   "outputs": [],
   "source": [
    "# 5.查看s1的维度\n"
   ]
  },
  {
   "cell_type": "code",
   "execution_count": 24,
   "metadata": {
    "pycharm": {
     "name": "#%%\n"
    }
   },
   "outputs": [],
   "source": [
    "# 二：\n",
    "# 1. 读取data/students.csv文件，创建DataFrame，命名为df\n"
   ]
  },
  {
   "cell_type": "code",
   "execution_count": 25,
   "metadata": {
    "pycharm": {
     "name": "#%%\n"
    }
   },
   "outputs": [],
   "source": [
    "# 2. 输出df的前5行和后7行数据\n"
   ]
  },
  {
   "cell_type": "code",
   "execution_count": 26,
   "metadata": {
    "pycharm": {
     "name": "#%%\n"
    }
   },
   "outputs": [],
   "source": [
    "# 3. 打印第5行～第10行数据\n"
   ]
  },
  {
   "cell_type": "code",
   "execution_count": 27,
   "metadata": {
    "pycharm": {
     "name": "#%%\n"
    }
   },
   "outputs": [],
   "source": [
    "# 4. 打印\"姓名\",\"组名\"这两列数据\n"
   ]
  },
  {
   "cell_type": "code",
   "execution_count": 28,
   "metadata": {
    "pycharm": {
     "name": "#%%\n"
    }
   },
   "outputs": [],
   "source": [
    "# 5. 打印所有的标题\n"
   ]
  },
  {
   "cell_type": "code",
   "execution_count": 29,
   "metadata": {
    "pycharm": {
     "name": "#%%\n"
    }
   },
   "outputs": [],
   "source": [
    "# 6. 打印df的\"形状\"（几行几列）\n"
   ]
  },
  {
   "cell_type": "code",
   "execution_count": 30,
   "metadata": {
    "pycharm": {
     "name": "#%%\n"
    }
   },
   "outputs": [],
   "source": [
    "# 7. 打印出df是几维的\n"
   ]
  },
  {
   "cell_type": "code",
   "execution_count": 31,
   "metadata": {
    "pycharm": {
     "name": "#%%\n"
    }
   },
   "outputs": [],
   "source": [
    "# 8. 删除第5行和\"年龄\"列的数据\n"
   ]
  },
  {
   "cell_type": "code",
   "execution_count": 32,
   "metadata": {
    "pycharm": {
     "name": "#%%\n"
    }
   },
   "outputs": [],
   "source": [
    "# 9.拓展题：打印组名是“style”的数据"
   ]
  }
 ],
 "metadata": {
  "kernelspec": {
   "display_name": "Python 3 (ipykernel)",
   "language": "python",
   "name": "python3"
  },
  "language_info": {
   "codemirror_mode": {
    "name": "ipython",
    "version": 3
   },
   "file_extension": ".py",
   "mimetype": "text/x-python",
   "name": "python",
   "nbconvert_exporter": "python",
   "pygments_lexer": "ipython3",
   "version": "3.9.7"
  },
  "vscode": {
   "interpreter": {
    "hash": "68908377ed95d7c3d4e1905f72b5c03e8b8f9a308e79edcfb0aafe2172e16c29"
   }
  }
 },
 "nbformat": 4,
 "nbformat_minor": 2
}