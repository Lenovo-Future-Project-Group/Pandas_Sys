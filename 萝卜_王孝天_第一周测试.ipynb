{
 "cells": [
  {
   "cell_type": "code",
   "execution_count": 104,
   "metadata": {
    "pycharm": {
     "name": "#%%\n"
    }
   },
   "outputs": [],
   "source": [
    "import pandas as pd\n",
    "import numpy as np\n",
    "import random"
   ]
  },
  {
   "cell_type": "code",
   "execution_count": 105,
   "metadata": {
    "pycharm": {
     "name": "#%%\n"
    }
   },
   "outputs": [],
   "source": [
    "# 2022-9-7测试\n",
    "# 一：\n",
    "# 1. 创建data目录，在data中创建students.csv文件，文件中写入全班同学的编号、姓名、性别、年龄、邮箱、组名\n",
    "# 使用pandas读取此文件，并打印结果\n",
    "# 要求：邮箱是随机出的9位数字+“@qq.com”\n",
    "\n",
    "def random_email(email_ws):\n",
    "    num_info = ''.join(str(i) for i in random.sample(range(0, email_ws), email_ws))\n",
    "    # sample(seq, n) 从序列seq中选择n个随机且独立的元素；randrange([start], stop[, step]) 从指定范围内，按指定基数递增的集合中 获取一个随机数\n",
    "    data = num_info + '@qq.com'\n",
    "    # n个随机且独立的元素；\n",
    "    return data\n",
    "\n",
    "\n",
    "def csv_to_df(csv_file):\n",
    "    csv_data = pd.read_csv(csv_file, low_memory=False)  #防止弹出警告\n",
    "    data = pd.DataFrame(csv_data)\n",
    "    return data\n",
    "\n",
    "\n",
    "df = csv_to_df('Data/students.csv')\n",
    "df['邮箱'] = [random_email(9) for v in df.index]\n",
    "df.to_csv('Data/students.csv', index=False)"
   ]
  },
  {
   "cell_type": "code",
   "execution_count": 106,
   "outputs": [
    {
     "data": {
      "text/plain": "{0: {'姓名': '崔昊元', '性别': '女', '年龄': 18, '邮箱': '258431067@qq.com'},\n 1: {'姓名': '贾靖程', '性别': '女', '年龄': 18, '邮箱': '067538124@qq.com'},\n 2: {'姓名': '吴俊岳', '性别': '男', '年龄': 18, '邮箱': '748106352@qq.com'},\n 3: {'姓名': '王浩羽', '性别': '男', '年龄': 18, '邮箱': '806357142@qq.com'},\n 4: {'姓名': '吕梦丽', '性别': '女', '年龄': 18, '邮箱': '508467231@qq.com'},\n 5: {'姓名': '牛皓冬', '性别': '男', '年龄': 18, '邮箱': '431527806@qq.com'},\n 6: {'姓名': '张阔', '性别': '男', '年龄': 18, '邮箱': '412807653@qq.com'},\n 7: {'姓名': '孙佳奇', '性别': '男', '年龄': 18, '邮箱': '324150867@qq.com'},\n 8: {'姓名': '郑佳睦', '性别': '男', '年龄': 18, '邮箱': '637401285@qq.com'},\n 9: {'姓名': '王孝天', '性别': '男', '年龄': 18, '邮箱': '803512467@qq.com'},\n 10: {'姓名': '付一鸣', '性别': '男', '年龄': 18, '邮箱': '345012687@qq.com'},\n 11: {'姓名': '李蓉轩', '性别': '女', '年龄': 18, '邮箱': '412063857@qq.com'},\n 12: {'姓名': '陈观绅', '性别': '男', '年龄': 18, '邮箱': '076825314@qq.com'},\n 13: {'姓名': '赵鑫博', '性别': '男', '年龄': 18, '邮箱': '047261853@qq.com'},\n 14: {'姓名': '张子豪', '性别': '男', '年龄': 18, '邮箱': '684573102@qq.com'},\n 15: {'姓名': '叶平', '性别': '男', '年龄': 18, '邮箱': '185074632@qq.com'},\n 16: {'姓名': '杨悦欣', '性别': '女', '年龄': 18, '邮箱': '204851367@qq.com'},\n 17: {'姓名': '李博远', '性别': '男', '年龄': 18, '邮箱': '041826357@qq.com'},\n 18: {'姓名': '张靖薇', '性别': '女', '年龄': 18, '邮箱': '682437501@qq.com'}}"
     },
     "execution_count": 106,
     "metadata": {},
     "output_type": "execute_result"
    }
   ],
   "source": [
    "dff = df[['学号', '姓名', '性别', '年龄', '邮箱']]\n",
    "dff.set_index(keys='学号', inplace=True)\n",
    "dff = dff.T\n",
    "dic = dff.to_dict()\n",
    "dic"
   ],
   "metadata": {
    "collapsed": false,
    "pycharm": {
     "name": "#%%\n"
    }
   }
  },
  {
   "cell_type": "code",
   "execution_count": 107,
   "metadata": {
    "pycharm": {
     "name": "#%%\n"
    }
   },
   "outputs": [
    {
     "name": "stdout",
     "output_type": "stream",
     "text": [
      "1    一组\n",
      "2    二组\n",
      "3    三组\n",
      "4    四组\n",
      "dtype: object\n"
     ]
    }
   ],
   "source": [
    "# 2022-9-13测试\n",
    "# 文件提交命名：组名_姓名_第一周测试2.ipynb\n",
    "# 1.创建一个Series，命名为s1，数值是\"一组\",\"二组\",\"三组\",\"四组\"，索引是1，2，3，4\n",
    "\n",
    "s1 = pd.Series(np.array(['一组', '二组', '三组', '四组']), index=[1, 2, 3, 4])\n",
    "print(s1)"
   ]
  },
  {
   "cell_type": "code",
   "execution_count": 108,
   "metadata": {
    "pycharm": {
     "name": "#%%\n"
    }
   },
   "outputs": [
    {
     "name": "stdout",
     "output_type": "stream",
     "text": [
      "['一组' '二组' '三组' '四组']\n",
      "Int64Index([1, 2, 3, 4], dtype='int64')\n"
     ]
    }
   ],
   "source": [
    "# 2. 打印s1所有的值和索引\n",
    "\n",
    "print(s1.values)\n",
    "print(s1.index)"
   ]
  },
  {
   "cell_type": "code",
   "execution_count": 109,
   "metadata": {
    "pycharm": {
     "name": "#%%\n"
    }
   },
   "outputs": [
    {
     "name": "stdout",
     "output_type": "stream",
     "text": [
      "1    一组\n",
      "3    三组\n",
      "dtype: object\n"
     ]
    }
   ],
   "source": [
    "# 3. 将索引为1，3的数值取出并打印出来\n",
    "\n",
    "print(s1[[1, 3]])"
   ]
  },
  {
   "cell_type": "code",
   "execution_count": 110,
   "metadata": {
    "pycharm": {
     "name": "#%%\n"
    }
   },
   "outputs": [],
   "source": [
    "# 4. 将一到四组的数值分别重命名为\"叶原枫\",\"琼玉\",\"styles\",\"黑马\"\n",
    "\n",
    "s1 = s1.rename({1: '叶原枫', 2: '琼玉', 3: 'styles', 4: '黑马'})"
   ]
  },
  {
   "cell_type": "code",
   "execution_count": 111,
   "metadata": {
    "pycharm": {
     "name": "#%%\n"
    }
   },
   "outputs": [
    {
     "name": "stdout",
     "output_type": "stream",
     "text": [
      "(4,)\n"
     ]
    }
   ],
   "source": [
    "# 5.查看s1的维度\n",
    "\n",
    "print(s1.shape)"
   ]
  },
  {
   "cell_type": "code",
   "execution_count": 112,
   "metadata": {
    "pycharm": {
     "name": "#%%\n"
    }
   },
   "outputs": [],
   "source": [
    "# 二：\n",
    "# 1. 读取data/students.csv文件，创建DataFrame，命名为df\n",
    "\n",
    "df = csv_to_df('Data/students.csv')"
   ]
  },
  {
   "cell_type": "code",
   "execution_count": 113,
   "metadata": {
    "pycharm": {
     "name": "#%%\n"
    }
   },
   "outputs": [
    {
     "name": "stdout",
     "output_type": "stream",
     "text": [
      "   学号   姓名 性别  年龄                邮箱   组名\n",
      "0   0  崔昊元  女  18  258431067@qq.com   萝卜\n",
      "1   1  贾靖程  女  18  067538124@qq.com   黑马\n",
      "2   2  吴俊岳  男  18  748106352@qq.com   萝卜\n",
      "3   3  王浩羽  男  18  806357142@qq.com  叶原枫\n",
      "4   4  吕梦丽  女  18  508467231@qq.com   黑马\n",
      "    学号   姓名 性别  年龄                邮箱     组名\n",
      "12  12  陈观绅  男  18  076825314@qq.com    叶原枫\n",
      "13  13  赵鑫博  男  18  047261853@qq.com     萝卜\n",
      "14  14  张子豪  男  18  684573102@qq.com     萝卜\n",
      "15  15   叶平  男  18  185074632@qq.com  Style\n",
      "16  16  杨悦欣  女  18  204851367@qq.com     黑马\n",
      "17  17  李博远  男  18  041826357@qq.com  Style\n",
      "18  18  张靖薇  女  18  682437501@qq.com     黑马\n"
     ]
    }
   ],
   "source": [
    "# 2. 输出df的前5行和后7行数据\n",
    "\n",
    "print(df.head(5))\n",
    "print(df.tail(7))"
   ]
  },
  {
   "cell_type": "code",
   "execution_count": 114,
   "metadata": {
    "pycharm": {
     "name": "#%%\n"
    }
   },
   "outputs": [
    {
     "name": "stdout",
     "output_type": "stream",
     "text": [
      "    学号   姓名 性别  年龄                邮箱     组名\n",
      "5    5  牛皓冬  男  18  431527806@qq.com  Style\n",
      "6    6   张阔  男  18  412807653@qq.com    叶原枫\n",
      "7    7  孙佳奇  男  18  324150867@qq.com  Style\n",
      "8    8  郑佳睦  男  18  637401285@qq.com    叶原枫\n",
      "9    9  王孝天  男  18  803512467@qq.com     萝卜\n",
      "10  10  付一鸣  男  18  345012687@qq.com  Style\n"
     ]
    }
   ],
   "source": [
    "# 3. 打印第5行～第10行数据\n",
    "\n",
    "print(df[5:10 + 1])"
   ]
  },
  {
   "cell_type": "code",
   "execution_count": 115,
   "metadata": {
    "pycharm": {
     "name": "#%%\n"
    }
   },
   "outputs": [
    {
     "name": "stdout",
     "output_type": "stream",
     "text": [
      "     姓名     组名\n",
      "0   崔昊元     萝卜\n",
      "1   贾靖程     黑马\n",
      "2   吴俊岳     萝卜\n",
      "3   王浩羽    叶原枫\n",
      "4   吕梦丽     黑马\n",
      "5   牛皓冬  Style\n",
      "6    张阔    叶原枫\n",
      "7   孙佳奇  Style\n",
      "8   郑佳睦    叶原枫\n",
      "9   王孝天     萝卜\n",
      "10  付一鸣  Style\n",
      "11  李蓉轩     黑马\n",
      "12  陈观绅    叶原枫\n",
      "13  赵鑫博     萝卜\n",
      "14  张子豪     萝卜\n",
      "15   叶平  Style\n",
      "16  杨悦欣     黑马\n",
      "17  李博远  Style\n",
      "18  张靖薇     黑马\n"
     ]
    }
   ],
   "source": [
    "# 4. 打印\"姓名\",\"组名\"这两列数据\n",
    "\n",
    "print(df[['姓名', '组名']])"
   ]
  },
  {
   "cell_type": "code",
   "execution_count": 116,
   "metadata": {
    "pycharm": {
     "name": "#%%\n"
    }
   },
   "outputs": [
    {
     "name": "stdout",
     "output_type": "stream",
     "text": [
      "Index(['学号', '姓名', '性别', '年龄', '邮箱', '组名'], dtype='object')\n"
     ]
    }
   ],
   "source": [
    "# 5. 打印所有的标题\n",
    "\n",
    "print(df.columns)"
   ]
  },
  {
   "cell_type": "code",
   "execution_count": 117,
   "metadata": {
    "pycharm": {
     "name": "#%%\n"
    }
   },
   "outputs": [
    {
     "name": "stdout",
     "output_type": "stream",
     "text": [
      "(19, 6)\n"
     ]
    }
   ],
   "source": [
    "# 6. 打印df的\"形状\"（几行几列）\n",
    "\n",
    "print(df.shape)"
   ]
  },
  {
   "cell_type": "code",
   "execution_count": 118,
   "metadata": {
    "pycharm": {
     "name": "#%%\n"
    }
   },
   "outputs": [
    {
     "name": "stdout",
     "output_type": "stream",
     "text": [
      "2\n"
     ]
    }
   ],
   "source": [
    "# 7. 打印出df是几维的\n",
    "\n",
    "print(df.ndim)"
   ]
  },
  {
   "cell_type": "code",
   "execution_count": 119,
   "metadata": {
    "pycharm": {
     "name": "#%%\n"
    }
   },
   "outputs": [
    {
     "data": {
      "text/plain": "    学号   姓名 性别  年龄                邮箱     组名\n0    0  崔昊元  女  18  258431067@qq.com     萝卜\n1    1  贾靖程  女  18  067538124@qq.com     黑马\n2    2  吴俊岳  男  18  748106352@qq.com     萝卜\n3    3  王浩羽  男  18  806357142@qq.com    叶原枫\n4    4  吕梦丽  女  18  508467231@qq.com     黑马\n6    6   张阔  男  18  412807653@qq.com    叶原枫\n7    7  孙佳奇  男  18  324150867@qq.com  Style\n8    8  郑佳睦  男  18  637401285@qq.com    叶原枫\n9    9  王孝天  男  18  803512467@qq.com     萝卜\n10  10  付一鸣  男  18  345012687@qq.com  Style\n11  11  李蓉轩  女  18  412063857@qq.com     黑马\n12  12  陈观绅  男  18  076825314@qq.com    叶原枫\n13  13  赵鑫博  男  18  047261853@qq.com     萝卜\n14  14  张子豪  男  18  684573102@qq.com     萝卜\n15  15   叶平  男  18  185074632@qq.com  Style\n16  16  杨悦欣  女  18  204851367@qq.com     黑马\n17  17  李博远  男  18  041826357@qq.com  Style\n18  18  张靖薇  女  18  682437501@qq.com     黑马",
      "text/html": "<div>\n<style scoped>\n    .dataframe tbody tr th:only-of-type {\n        vertical-align: middle;\n    }\n\n    .dataframe tbody tr th {\n        vertical-align: top;\n    }\n\n    .dataframe thead th {\n        text-align: right;\n    }\n</style>\n<table border=\"1\" class=\"dataframe\">\n  <thead>\n    <tr style=\"text-align: right;\">\n      <th></th>\n      <th>学号</th>\n      <th>姓名</th>\n      <th>性别</th>\n      <th>年龄</th>\n      <th>邮箱</th>\n      <th>组名</th>\n    </tr>\n  </thead>\n  <tbody>\n    <tr>\n      <th>0</th>\n      <td>0</td>\n      <td>崔昊元</td>\n      <td>女</td>\n      <td>18</td>\n      <td>258431067@qq.com</td>\n      <td>萝卜</td>\n    </tr>\n    <tr>\n      <th>1</th>\n      <td>1</td>\n      <td>贾靖程</td>\n      <td>女</td>\n      <td>18</td>\n      <td>067538124@qq.com</td>\n      <td>黑马</td>\n    </tr>\n    <tr>\n      <th>2</th>\n      <td>2</td>\n      <td>吴俊岳</td>\n      <td>男</td>\n      <td>18</td>\n      <td>748106352@qq.com</td>\n      <td>萝卜</td>\n    </tr>\n    <tr>\n      <th>3</th>\n      <td>3</td>\n      <td>王浩羽</td>\n      <td>男</td>\n      <td>18</td>\n      <td>806357142@qq.com</td>\n      <td>叶原枫</td>\n    </tr>\n    <tr>\n      <th>4</th>\n      <td>4</td>\n      <td>吕梦丽</td>\n      <td>女</td>\n      <td>18</td>\n      <td>508467231@qq.com</td>\n      <td>黑马</td>\n    </tr>\n    <tr>\n      <th>6</th>\n      <td>6</td>\n      <td>张阔</td>\n      <td>男</td>\n      <td>18</td>\n      <td>412807653@qq.com</td>\n      <td>叶原枫</td>\n    </tr>\n    <tr>\n      <th>7</th>\n      <td>7</td>\n      <td>孙佳奇</td>\n      <td>男</td>\n      <td>18</td>\n      <td>324150867@qq.com</td>\n      <td>Style</td>\n    </tr>\n    <tr>\n      <th>8</th>\n      <td>8</td>\n      <td>郑佳睦</td>\n      <td>男</td>\n      <td>18</td>\n      <td>637401285@qq.com</td>\n      <td>叶原枫</td>\n    </tr>\n    <tr>\n      <th>9</th>\n      <td>9</td>\n      <td>王孝天</td>\n      <td>男</td>\n      <td>18</td>\n      <td>803512467@qq.com</td>\n      <td>萝卜</td>\n    </tr>\n    <tr>\n      <th>10</th>\n      <td>10</td>\n      <td>付一鸣</td>\n      <td>男</td>\n      <td>18</td>\n      <td>345012687@qq.com</td>\n      <td>Style</td>\n    </tr>\n    <tr>\n      <th>11</th>\n      <td>11</td>\n      <td>李蓉轩</td>\n      <td>女</td>\n      <td>18</td>\n      <td>412063857@qq.com</td>\n      <td>黑马</td>\n    </tr>\n    <tr>\n      <th>12</th>\n      <td>12</td>\n      <td>陈观绅</td>\n      <td>男</td>\n      <td>18</td>\n      <td>076825314@qq.com</td>\n      <td>叶原枫</td>\n    </tr>\n    <tr>\n      <th>13</th>\n      <td>13</td>\n      <td>赵鑫博</td>\n      <td>男</td>\n      <td>18</td>\n      <td>047261853@qq.com</td>\n      <td>萝卜</td>\n    </tr>\n    <tr>\n      <th>14</th>\n      <td>14</td>\n      <td>张子豪</td>\n      <td>男</td>\n      <td>18</td>\n      <td>684573102@qq.com</td>\n      <td>萝卜</td>\n    </tr>\n    <tr>\n      <th>15</th>\n      <td>15</td>\n      <td>叶平</td>\n      <td>男</td>\n      <td>18</td>\n      <td>185074632@qq.com</td>\n      <td>Style</td>\n    </tr>\n    <tr>\n      <th>16</th>\n      <td>16</td>\n      <td>杨悦欣</td>\n      <td>女</td>\n      <td>18</td>\n      <td>204851367@qq.com</td>\n      <td>黑马</td>\n    </tr>\n    <tr>\n      <th>17</th>\n      <td>17</td>\n      <td>李博远</td>\n      <td>男</td>\n      <td>18</td>\n      <td>041826357@qq.com</td>\n      <td>Style</td>\n    </tr>\n    <tr>\n      <th>18</th>\n      <td>18</td>\n      <td>张靖薇</td>\n      <td>女</td>\n      <td>18</td>\n      <td>682437501@qq.com</td>\n      <td>黑马</td>\n    </tr>\n  </tbody>\n</table>\n</div>"
     },
     "execution_count": 119,
     "metadata": {},
     "output_type": "execute_result"
    }
   ],
   "source": [
    "# 8. 删除第5行和\"年龄\"列的数据\n",
    "\n",
    "df.drop(5, inplace=False)"
   ]
  },
  {
   "cell_type": "code",
   "execution_count": 120,
   "metadata": {
    "pycharm": {
     "name": "#%%\n"
    }
   },
   "outputs": [
    {
     "name": "stdout",
     "output_type": "stream",
     "text": [
      "    学号   姓名 性别  年龄                邮箱     组名\n",
      "5    5  牛皓冬  男  18  431527806@qq.com  Style\n",
      "7    7  孙佳奇  男  18  324150867@qq.com  Style\n",
      "10  10  付一鸣  男  18  345012687@qq.com  Style\n",
      "15  15   叶平  男  18  185074632@qq.com  Style\n",
      "17  17  李博远  男  18  041826357@qq.com  Style\n"
     ]
    }
   ],
   "source": [
    "# 9.拓展题：打印组名是“style”的数据\n",
    "\n",
    "print(df[df['组名'] == 'Style'])"
   ]
  }
 ],
 "metadata": {
  "kernelspec": {
   "display_name": "Python 3 (ipykernel)",
   "language": "python",
   "name": "python3"
  },
  "language_info": {
   "codemirror_mode": {
    "name": "ipython",
    "version": 3
   },
   "file_extension": ".py",
   "mimetype": "text/x-python",
   "name": "python",
   "nbconvert_exporter": "python",
   "pygments_lexer": "ipython3",
   "version": "3.10.7"
  },
  "vscode": {
   "interpreter": {
    "hash": "68908377ed95d7c3d4e1905f72b5c03e8b8f9a308e79edcfb0aafe2172e16c29"
   }
  }
 },
 "nbformat": 4,
 "nbformat_minor": 2
}