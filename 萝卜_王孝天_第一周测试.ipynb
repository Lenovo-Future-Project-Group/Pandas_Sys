{
 "cells": [
  {
   "cell_type": "code",
   "execution_count": 117,
   "outputs": [],
   "source": [
    "import numpy as np\n",
    "import pandas as pd"
   ],
   "metadata": {
    "collapsed": false,
    "pycharm": {
     "name": "#%%\n"
    }
   }
  },
  {
   "cell_type": "markdown",
   "source": [
    "### 1. 创建一个Series命名为s1, Value: '一组' '二组' '三组' '四组'"
   ],
   "metadata": {
    "collapsed": false,
    "pycharm": {
     "name": "#%% md\n"
    }
   }
  },
  {
   "cell_type": "code",
   "execution_count": 118,
   "outputs": [],
   "source": [
    "data = np.array(['一组', '二组', '三组', '四组'])\n",
    "s1 = pd.Series(data, index=[1, 2, 3, 4])"
   ],
   "metadata": {
    "collapsed": false,
    "pycharm": {
     "name": "#%%\n"
    }
   }
  },
  {
   "cell_type": "markdown",
   "source": [
    "### 2.打印s1所有的值和索引"
   ],
   "metadata": {
    "collapsed": false,
    "pycharm": {
     "name": "#%% md\n"
    }
   }
  },
  {
   "cell_type": "code",
   "execution_count": 119,
   "outputs": [
    {
     "name": "stdout",
     "output_type": "stream",
     "text": [
      "['一组' '二组' '三组' '四组']\n",
      "Int64Index([1, 2, 3, 4], dtype='int64')\n"
     ]
    }
   ],
   "source": [
    "print(s1.values)\n",
    "print(s1.index)"
   ],
   "metadata": {
    "collapsed": false,
    "pycharm": {
     "name": "#%%\n"
    }
   }
  },
  {
   "cell_type": "markdown",
   "source": [
    "### 3.将索引为 1, 3 的值打印出来"
   ],
   "metadata": {
    "collapsed": false,
    "pycharm": {
     "name": "#%% md\n"
    }
   }
  },
  {
   "cell_type": "code",
   "execution_count": 120,
   "outputs": [
    {
     "name": "stdout",
     "output_type": "stream",
     "text": [
      "1    一组\n",
      "3    三组\n",
      "dtype: object\n"
     ]
    }
   ],
   "source": [
    "print(s1[[1, 3]])"
   ],
   "metadata": {
    "collapsed": false,
    "pycharm": {
     "name": "#%%\n"
    }
   }
  },
  {
   "cell_type": "markdown",
   "source": [
    "### 4.将 Value: '一组' '二组' '三组' '四组' 替换 '叶原枫' '萝卜' 'Stayls' '黑马'"
   ],
   "metadata": {
    "collapsed": false,
    "pycharm": {
     "name": "#%% md\n"
    }
   }
  },
  {
   "cell_type": "code",
   "execution_count": 121,
   "outputs": [
    {
     "name": "stdout",
     "output_type": "stream",
     "text": [
      "1       叶原枫\n",
      "2        萝卜\n",
      "3    Stayls\n",
      "4        黑马\n",
      "dtype: object\n"
     ]
    }
   ],
   "source": [
    "data = np.array(['叶原枫', '萝卜', 'Stayls', '黑马'])\n",
    "s1 = pd.Series(data, index=[1, 2, 3, 4])\n",
    "print(s1)"
   ],
   "metadata": {
    "collapsed": false,
    "pycharm": {
     "name": "#%%\n"
    }
   }
  },
  {
   "cell_type": "markdown",
   "source": [
    "### 5.打印出s1的维度"
   ],
   "metadata": {
    "collapsed": false,
    "pycharm": {
     "name": "#%% md\n"
    }
   }
  },
  {
   "cell_type": "code",
   "execution_count": 122,
   "outputs": [
    {
     "name": "stdout",
     "output_type": "stream",
     "text": [
      "1\n"
     ]
    }
   ],
   "source": [
    "print(s1.ndim)"
   ],
   "metadata": {
    "collapsed": false,
    "pycharm": {
     "name": "#%%\n"
    }
   }
  },
  {
   "cell_type": "markdown",
   "source": [
    "### 6.读取student.csv文件创建DataFrame命名为DF"
   ],
   "metadata": {
    "collapsed": false,
    "pycharm": {
     "name": "#%% md\n"
    }
   }
  },
  {
   "cell_type": "code",
   "execution_count": 123,
   "outputs": [],
   "source": [
    "def csv_to_df(csv_file):\n",
    "    csv = pd.read_csv(csv_file, low_memory=False)  # 防止弹出警告\n",
    "    df = pd.DataFrame(csv)\n",
    "    return df\n",
    "\n",
    "\n",
    "s2 = csv_to_df('data/students.csv')"
   ],
   "metadata": {
    "collapsed": false,
    "pycharm": {
     "name": "#%%\n"
    }
   }
  },
  {
   "cell_type": "markdown",
   "source": [
    "### 7.（1）打印 df 前五行"
   ],
   "metadata": {
    "collapsed": false,
    "pycharm": {
     "name": "#%% md\n"
    }
   }
  },
  {
   "cell_type": "code",
   "execution_count": 124,
   "outputs": [
    {
     "data": {
      "text/plain": "   学号   姓名 性别  年龄                邮箱   组名\n0   0  崔昊元  女  18  183067245@qq.com   萝卜\n1   1  贾靖程  女  18  075428361@qq.com   黑马\n2   2  吴俊岳  男  18  165024837@qq.com   萝卜\n3   3  王浩羽  男  18  874102635@qq.com  叶原枫\n4   4  吕梦丽  女  18  357240816@qq.com   黑马",
      "text/html": "<div>\n<style scoped>\n    .dataframe tbody tr th:only-of-type {\n        vertical-align: middle;\n    }\n\n    .dataframe tbody tr th {\n        vertical-align: top;\n    }\n\n    .dataframe thead th {\n        text-align: right;\n    }\n</style>\n<table border=\"1\" class=\"dataframe\">\n  <thead>\n    <tr style=\"text-align: right;\">\n      <th></th>\n      <th>学号</th>\n      <th>姓名</th>\n      <th>性别</th>\n      <th>年龄</th>\n      <th>邮箱</th>\n      <th>组名</th>\n    </tr>\n  </thead>\n  <tbody>\n    <tr>\n      <th>0</th>\n      <td>0</td>\n      <td>崔昊元</td>\n      <td>女</td>\n      <td>18</td>\n      <td>183067245@qq.com</td>\n      <td>萝卜</td>\n    </tr>\n    <tr>\n      <th>1</th>\n      <td>1</td>\n      <td>贾靖程</td>\n      <td>女</td>\n      <td>18</td>\n      <td>075428361@qq.com</td>\n      <td>黑马</td>\n    </tr>\n    <tr>\n      <th>2</th>\n      <td>2</td>\n      <td>吴俊岳</td>\n      <td>男</td>\n      <td>18</td>\n      <td>165024837@qq.com</td>\n      <td>萝卜</td>\n    </tr>\n    <tr>\n      <th>3</th>\n      <td>3</td>\n      <td>王浩羽</td>\n      <td>男</td>\n      <td>18</td>\n      <td>874102635@qq.com</td>\n      <td>叶原枫</td>\n    </tr>\n    <tr>\n      <th>4</th>\n      <td>4</td>\n      <td>吕梦丽</td>\n      <td>女</td>\n      <td>18</td>\n      <td>357240816@qq.com</td>\n      <td>黑马</td>\n    </tr>\n  </tbody>\n</table>\n</div>"
     },
     "execution_count": 124,
     "metadata": {},
     "output_type": "execute_result"
    }
   ],
   "source": [
    "df5 = s2.head(5)\n",
    "df5"
   ],
   "metadata": {
    "collapsed": false,
    "pycharm": {
     "name": "#%%\n"
    }
   }
  },
  {
   "cell_type": "markdown",
   "source": [
    "### 7.（2）打印 df 后七行"
   ],
   "metadata": {
    "collapsed": false,
    "pycharm": {
     "name": "#%% md\n"
    }
   }
  },
  {
   "cell_type": "code",
   "execution_count": 125,
   "outputs": [
    {
     "data": {
      "text/plain": "    学号   姓名 性别  年龄                邮箱     组名\n12  12  陈观绅  男  18  538627104@qq.com    叶原枫\n13  13  赵鑫博  男  18  027618534@qq.com     萝卜\n14  14  张子豪  男  18  017568342@qq.com     萝卜\n15  15   叶平  男  18  842360157@qq.com  Style\n16  16  杨悦欣  女  18  217308654@qq.com     黑马\n17  17  李博远  男  18  253846107@qq.com  Style\n18  18  张靖薇  女  18  813546270@qq.com     黑马",
      "text/html": "<div>\n<style scoped>\n    .dataframe tbody tr th:only-of-type {\n        vertical-align: middle;\n    }\n\n    .dataframe tbody tr th {\n        vertical-align: top;\n    }\n\n    .dataframe thead th {\n        text-align: right;\n    }\n</style>\n<table border=\"1\" class=\"dataframe\">\n  <thead>\n    <tr style=\"text-align: right;\">\n      <th></th>\n      <th>学号</th>\n      <th>姓名</th>\n      <th>性别</th>\n      <th>年龄</th>\n      <th>邮箱</th>\n      <th>组名</th>\n    </tr>\n  </thead>\n  <tbody>\n    <tr>\n      <th>12</th>\n      <td>12</td>\n      <td>陈观绅</td>\n      <td>男</td>\n      <td>18</td>\n      <td>538627104@qq.com</td>\n      <td>叶原枫</td>\n    </tr>\n    <tr>\n      <th>13</th>\n      <td>13</td>\n      <td>赵鑫博</td>\n      <td>男</td>\n      <td>18</td>\n      <td>027618534@qq.com</td>\n      <td>萝卜</td>\n    </tr>\n    <tr>\n      <th>14</th>\n      <td>14</td>\n      <td>张子豪</td>\n      <td>男</td>\n      <td>18</td>\n      <td>017568342@qq.com</td>\n      <td>萝卜</td>\n    </tr>\n    <tr>\n      <th>15</th>\n      <td>15</td>\n      <td>叶平</td>\n      <td>男</td>\n      <td>18</td>\n      <td>842360157@qq.com</td>\n      <td>Style</td>\n    </tr>\n    <tr>\n      <th>16</th>\n      <td>16</td>\n      <td>杨悦欣</td>\n      <td>女</td>\n      <td>18</td>\n      <td>217308654@qq.com</td>\n      <td>黑马</td>\n    </tr>\n    <tr>\n      <th>17</th>\n      <td>17</td>\n      <td>李博远</td>\n      <td>男</td>\n      <td>18</td>\n      <td>253846107@qq.com</td>\n      <td>Style</td>\n    </tr>\n    <tr>\n      <th>18</th>\n      <td>18</td>\n      <td>张靖薇</td>\n      <td>女</td>\n      <td>18</td>\n      <td>813546270@qq.com</td>\n      <td>黑马</td>\n    </tr>\n  </tbody>\n</table>\n</div>"
     },
     "execution_count": 125,
     "metadata": {},
     "output_type": "execute_result"
    }
   ],
   "source": [
    "df7 = s2.tail(7)\n",
    "df7"
   ],
   "metadata": {
    "collapsed": false,
    "pycharm": {
     "name": "#%%\n"
    }
   }
  },
  {
   "cell_type": "markdown",
   "source": [
    "### 8.打印 df 第五到第十行数据"
   ],
   "metadata": {
    "collapsed": false,
    "pycharm": {
     "name": "#%% md\n"
    }
   }
  },
  {
   "cell_type": "code",
   "execution_count": 126,
   "outputs": [
    {
     "data": {
      "text/plain": "    学号   姓名 性别  年龄                邮箱     组名\n5    5  牛皓冬  男  18  475026318@qq.com  Style\n6    6   张阔  男  18  172643085@qq.com    叶原枫\n7    7  孙佳奇  男  18  124750683@qq.com  Style\n8    8  郑佳睦  男  18  548360172@qq.com    叶原枫\n9    9  王孝天  男  18  680157423@qq.com     萝卜\n10  10  付一鸣  男  18  638124075@qq.com  Style",
      "text/html": "<div>\n<style scoped>\n    .dataframe tbody tr th:only-of-type {\n        vertical-align: middle;\n    }\n\n    .dataframe tbody tr th {\n        vertical-align: top;\n    }\n\n    .dataframe thead th {\n        text-align: right;\n    }\n</style>\n<table border=\"1\" class=\"dataframe\">\n  <thead>\n    <tr style=\"text-align: right;\">\n      <th></th>\n      <th>学号</th>\n      <th>姓名</th>\n      <th>性别</th>\n      <th>年龄</th>\n      <th>邮箱</th>\n      <th>组名</th>\n    </tr>\n  </thead>\n  <tbody>\n    <tr>\n      <th>5</th>\n      <td>5</td>\n      <td>牛皓冬</td>\n      <td>男</td>\n      <td>18</td>\n      <td>475026318@qq.com</td>\n      <td>Style</td>\n    </tr>\n    <tr>\n      <th>6</th>\n      <td>6</td>\n      <td>张阔</td>\n      <td>男</td>\n      <td>18</td>\n      <td>172643085@qq.com</td>\n      <td>叶原枫</td>\n    </tr>\n    <tr>\n      <th>7</th>\n      <td>7</td>\n      <td>孙佳奇</td>\n      <td>男</td>\n      <td>18</td>\n      <td>124750683@qq.com</td>\n      <td>Style</td>\n    </tr>\n    <tr>\n      <th>8</th>\n      <td>8</td>\n      <td>郑佳睦</td>\n      <td>男</td>\n      <td>18</td>\n      <td>548360172@qq.com</td>\n      <td>叶原枫</td>\n    </tr>\n    <tr>\n      <th>9</th>\n      <td>9</td>\n      <td>王孝天</td>\n      <td>男</td>\n      <td>18</td>\n      <td>680157423@qq.com</td>\n      <td>萝卜</td>\n    </tr>\n    <tr>\n      <th>10</th>\n      <td>10</td>\n      <td>付一鸣</td>\n      <td>男</td>\n      <td>18</td>\n      <td>638124075@qq.com</td>\n      <td>Style</td>\n    </tr>\n  </tbody>\n</table>\n</div>"
     },
     "execution_count": 126,
     "metadata": {},
     "output_type": "execute_result"
    }
   ],
   "source": [
    "# 打印 df 第五到第十行数据\n",
    "df = s2[5:11]\n",
    "df"
   ],
   "metadata": {
    "collapsed": false,
    "pycharm": {
     "name": "#%%\n"
    }
   }
  },
  {
   "cell_type": "markdown",
   "source": [
    "### 9.打印 '姓名' '组名' 这两列数据"
   ],
   "metadata": {
    "collapsed": false,
    "pycharm": {
     "name": "#%% md\n"
    }
   }
  },
  {
   "cell_type": "code",
   "execution_count": 127,
   "outputs": [
    {
     "data": {
      "text/plain": "     姓名     组名\n0   崔昊元     萝卜\n1   贾靖程     黑马\n2   吴俊岳     萝卜\n3   王浩羽    叶原枫\n4   吕梦丽     黑马\n5   牛皓冬  Style\n6    张阔    叶原枫\n7   孙佳奇  Style\n8   郑佳睦    叶原枫\n9   王孝天     萝卜\n10  付一鸣  Style\n11  李蓉轩     黑马\n12  陈观绅    叶原枫\n13  赵鑫博     萝卜\n14  张子豪     萝卜\n15   叶平  Style\n16  杨悦欣     黑马\n17  李博远  Style\n18  张靖薇     黑马",
      "text/html": "<div>\n<style scoped>\n    .dataframe tbody tr th:only-of-type {\n        vertical-align: middle;\n    }\n\n    .dataframe tbody tr th {\n        vertical-align: top;\n    }\n\n    .dataframe thead th {\n        text-align: right;\n    }\n</style>\n<table border=\"1\" class=\"dataframe\">\n  <thead>\n    <tr style=\"text-align: right;\">\n      <th></th>\n      <th>姓名</th>\n      <th>组名</th>\n    </tr>\n  </thead>\n  <tbody>\n    <tr>\n      <th>0</th>\n      <td>崔昊元</td>\n      <td>萝卜</td>\n    </tr>\n    <tr>\n      <th>1</th>\n      <td>贾靖程</td>\n      <td>黑马</td>\n    </tr>\n    <tr>\n      <th>2</th>\n      <td>吴俊岳</td>\n      <td>萝卜</td>\n    </tr>\n    <tr>\n      <th>3</th>\n      <td>王浩羽</td>\n      <td>叶原枫</td>\n    </tr>\n    <tr>\n      <th>4</th>\n      <td>吕梦丽</td>\n      <td>黑马</td>\n    </tr>\n    <tr>\n      <th>5</th>\n      <td>牛皓冬</td>\n      <td>Style</td>\n    </tr>\n    <tr>\n      <th>6</th>\n      <td>张阔</td>\n      <td>叶原枫</td>\n    </tr>\n    <tr>\n      <th>7</th>\n      <td>孙佳奇</td>\n      <td>Style</td>\n    </tr>\n    <tr>\n      <th>8</th>\n      <td>郑佳睦</td>\n      <td>叶原枫</td>\n    </tr>\n    <tr>\n      <th>9</th>\n      <td>王孝天</td>\n      <td>萝卜</td>\n    </tr>\n    <tr>\n      <th>10</th>\n      <td>付一鸣</td>\n      <td>Style</td>\n    </tr>\n    <tr>\n      <th>11</th>\n      <td>李蓉轩</td>\n      <td>黑马</td>\n    </tr>\n    <tr>\n      <th>12</th>\n      <td>陈观绅</td>\n      <td>叶原枫</td>\n    </tr>\n    <tr>\n      <th>13</th>\n      <td>赵鑫博</td>\n      <td>萝卜</td>\n    </tr>\n    <tr>\n      <th>14</th>\n      <td>张子豪</td>\n      <td>萝卜</td>\n    </tr>\n    <tr>\n      <th>15</th>\n      <td>叶平</td>\n      <td>Style</td>\n    </tr>\n    <tr>\n      <th>16</th>\n      <td>杨悦欣</td>\n      <td>黑马</td>\n    </tr>\n    <tr>\n      <th>17</th>\n      <td>李博远</td>\n      <td>Style</td>\n    </tr>\n    <tr>\n      <th>18</th>\n      <td>张靖薇</td>\n      <td>黑马</td>\n    </tr>\n  </tbody>\n</table>\n</div>"
     },
     "execution_count": 127,
     "metadata": {},
     "output_type": "execute_result"
    }
   ],
   "source": [
    "# 打印姓名组名这两列数据\n",
    "df = s2[['姓名', '组名']]\n",
    "df"
   ],
   "metadata": {
    "collapsed": false,
    "pycharm": {
     "name": "#%%\n"
    }
   }
  },
  {
   "cell_type": "markdown",
   "source": [
    "### 10.打印所有的标题"
   ],
   "metadata": {
    "collapsed": false,
    "pycharm": {
     "name": "#%% md\n"
    }
   }
  },
  {
   "cell_type": "code",
   "execution_count": 128,
   "outputs": [
    {
     "name": "stdout",
     "output_type": "stream",
     "text": [
      "Index(['学号', '姓名', '性别', '年龄', '邮箱', '组名'], dtype='object')\n"
     ]
    }
   ],
   "source": [
    "# 打印所有的标题\n",
    "df = s2.columns\n",
    "print(df)"
   ],
   "metadata": {
    "collapsed": false,
    "pycharm": {
     "name": "#%%\n"
    }
   }
  },
  {
   "cell_type": "markdown",
   "source": [
    "### 11.打印df的形状(几行几列)"
   ],
   "metadata": {
    "collapsed": false,
    "pycharm": {
     "name": "#%% md\n"
    }
   }
  },
  {
   "cell_type": "code",
   "execution_count": 129,
   "outputs": [
    {
     "name": "stdout",
     "output_type": "stream",
     "text": [
      "(19, 6)\n"
     ]
    }
   ],
   "source": [
    "df = s2.shape\n",
    "print(df)"
   ],
   "metadata": {
    "collapsed": false,
    "pycharm": {
     "name": "#%%\n"
    }
   }
  },
  {
   "cell_type": "markdown",
   "source": [
    "### 12.打印df的维度"
   ],
   "metadata": {
    "collapsed": false,
    "pycharm": {
     "name": "#%% md\n"
    }
   }
  },
  {
   "cell_type": "code",
   "execution_count": 130,
   "outputs": [
    {
     "name": "stdout",
     "output_type": "stream",
     "text": [
      "2\n"
     ]
    }
   ],
   "source": [
    "df = s2.ndim\n",
    "print(df)"
   ],
   "metadata": {
    "collapsed": false,
    "pycharm": {
     "name": "#%%\n"
    }
   }
  },
  {
   "cell_type": "markdown",
   "source": [
    "### 13.删除第五行数据"
   ],
   "metadata": {
    "collapsed": false,
    "pycharm": {
     "name": "#%% md\n"
    }
   }
  },
  {
   "cell_type": "code",
   "execution_count": 131,
   "outputs": [
    {
     "data": {
      "text/plain": "    学号   姓名 性别  年龄                邮箱     组名\n0    0  崔昊元  女  18  183067245@qq.com     萝卜\n1    1  贾靖程  女  18  075428361@qq.com     黑马\n2    2  吴俊岳  男  18  165024837@qq.com     萝卜\n3    3  王浩羽  男  18  874102635@qq.com    叶原枫\n4    4  吕梦丽  女  18  357240816@qq.com     黑马\n6    6   张阔  男  18  172643085@qq.com    叶原枫\n7    7  孙佳奇  男  18  124750683@qq.com  Style\n8    8  郑佳睦  男  18  548360172@qq.com    叶原枫\n9    9  王孝天  男  18  680157423@qq.com     萝卜\n10  10  付一鸣  男  18  638124075@qq.com  Style\n11  11  李蓉轩  女  18  135428760@qq.com     黑马\n12  12  陈观绅  男  18  538627104@qq.com    叶原枫\n13  13  赵鑫博  男  18  027618534@qq.com     萝卜\n14  14  张子豪  男  18  017568342@qq.com     萝卜\n15  15   叶平  男  18  842360157@qq.com  Style\n16  16  杨悦欣  女  18  217308654@qq.com     黑马\n17  17  李博远  男  18  253846107@qq.com  Style\n18  18  张靖薇  女  18  813546270@qq.com     黑马",
      "text/html": "<div>\n<style scoped>\n    .dataframe tbody tr th:only-of-type {\n        vertical-align: middle;\n    }\n\n    .dataframe tbody tr th {\n        vertical-align: top;\n    }\n\n    .dataframe thead th {\n        text-align: right;\n    }\n</style>\n<table border=\"1\" class=\"dataframe\">\n  <thead>\n    <tr style=\"text-align: right;\">\n      <th></th>\n      <th>学号</th>\n      <th>姓名</th>\n      <th>性别</th>\n      <th>年龄</th>\n      <th>邮箱</th>\n      <th>组名</th>\n    </tr>\n  </thead>\n  <tbody>\n    <tr>\n      <th>0</th>\n      <td>0</td>\n      <td>崔昊元</td>\n      <td>女</td>\n      <td>18</td>\n      <td>183067245@qq.com</td>\n      <td>萝卜</td>\n    </tr>\n    <tr>\n      <th>1</th>\n      <td>1</td>\n      <td>贾靖程</td>\n      <td>女</td>\n      <td>18</td>\n      <td>075428361@qq.com</td>\n      <td>黑马</td>\n    </tr>\n    <tr>\n      <th>2</th>\n      <td>2</td>\n      <td>吴俊岳</td>\n      <td>男</td>\n      <td>18</td>\n      <td>165024837@qq.com</td>\n      <td>萝卜</td>\n    </tr>\n    <tr>\n      <th>3</th>\n      <td>3</td>\n      <td>王浩羽</td>\n      <td>男</td>\n      <td>18</td>\n      <td>874102635@qq.com</td>\n      <td>叶原枫</td>\n    </tr>\n    <tr>\n      <th>4</th>\n      <td>4</td>\n      <td>吕梦丽</td>\n      <td>女</td>\n      <td>18</td>\n      <td>357240816@qq.com</td>\n      <td>黑马</td>\n    </tr>\n    <tr>\n      <th>6</th>\n      <td>6</td>\n      <td>张阔</td>\n      <td>男</td>\n      <td>18</td>\n      <td>172643085@qq.com</td>\n      <td>叶原枫</td>\n    </tr>\n    <tr>\n      <th>7</th>\n      <td>7</td>\n      <td>孙佳奇</td>\n      <td>男</td>\n      <td>18</td>\n      <td>124750683@qq.com</td>\n      <td>Style</td>\n    </tr>\n    <tr>\n      <th>8</th>\n      <td>8</td>\n      <td>郑佳睦</td>\n      <td>男</td>\n      <td>18</td>\n      <td>548360172@qq.com</td>\n      <td>叶原枫</td>\n    </tr>\n    <tr>\n      <th>9</th>\n      <td>9</td>\n      <td>王孝天</td>\n      <td>男</td>\n      <td>18</td>\n      <td>680157423@qq.com</td>\n      <td>萝卜</td>\n    </tr>\n    <tr>\n      <th>10</th>\n      <td>10</td>\n      <td>付一鸣</td>\n      <td>男</td>\n      <td>18</td>\n      <td>638124075@qq.com</td>\n      <td>Style</td>\n    </tr>\n    <tr>\n      <th>11</th>\n      <td>11</td>\n      <td>李蓉轩</td>\n      <td>女</td>\n      <td>18</td>\n      <td>135428760@qq.com</td>\n      <td>黑马</td>\n    </tr>\n    <tr>\n      <th>12</th>\n      <td>12</td>\n      <td>陈观绅</td>\n      <td>男</td>\n      <td>18</td>\n      <td>538627104@qq.com</td>\n      <td>叶原枫</td>\n    </tr>\n    <tr>\n      <th>13</th>\n      <td>13</td>\n      <td>赵鑫博</td>\n      <td>男</td>\n      <td>18</td>\n      <td>027618534@qq.com</td>\n      <td>萝卜</td>\n    </tr>\n    <tr>\n      <th>14</th>\n      <td>14</td>\n      <td>张子豪</td>\n      <td>男</td>\n      <td>18</td>\n      <td>017568342@qq.com</td>\n      <td>萝卜</td>\n    </tr>\n    <tr>\n      <th>15</th>\n      <td>15</td>\n      <td>叶平</td>\n      <td>男</td>\n      <td>18</td>\n      <td>842360157@qq.com</td>\n      <td>Style</td>\n    </tr>\n    <tr>\n      <th>16</th>\n      <td>16</td>\n      <td>杨悦欣</td>\n      <td>女</td>\n      <td>18</td>\n      <td>217308654@qq.com</td>\n      <td>黑马</td>\n    </tr>\n    <tr>\n      <th>17</th>\n      <td>17</td>\n      <td>李博远</td>\n      <td>男</td>\n      <td>18</td>\n      <td>253846107@qq.com</td>\n      <td>Style</td>\n    </tr>\n    <tr>\n      <th>18</th>\n      <td>18</td>\n      <td>张靖薇</td>\n      <td>女</td>\n      <td>18</td>\n      <td>813546270@qq.com</td>\n      <td>黑马</td>\n    </tr>\n  </tbody>\n</table>\n</div>"
     },
     "execution_count": 131,
     "metadata": {},
     "output_type": "execute_result"
    }
   ],
   "source": [
    "s2.drop(5, inplace=False)"
   ],
   "metadata": {
    "collapsed": false,
    "pycharm": {
     "name": "#%%\n"
    }
   }
  },
  {
   "cell_type": "markdown",
   "source": [
    "### 14.删除年龄这一列"
   ],
   "metadata": {
    "collapsed": false,
    "pycharm": {
     "name": "#%% md\n"
    }
   }
  },
  {
   "cell_type": "code",
   "execution_count": 132,
   "outputs": [
    {
     "data": {
      "text/plain": "    学号   姓名 性别                邮箱     组名\n0    0  崔昊元  女  183067245@qq.com     萝卜\n1    1  贾靖程  女  075428361@qq.com     黑马\n2    2  吴俊岳  男  165024837@qq.com     萝卜\n3    3  王浩羽  男  874102635@qq.com    叶原枫\n4    4  吕梦丽  女  357240816@qq.com     黑马\n5    5  牛皓冬  男  475026318@qq.com  Style\n6    6   张阔  男  172643085@qq.com    叶原枫\n7    7  孙佳奇  男  124750683@qq.com  Style\n8    8  郑佳睦  男  548360172@qq.com    叶原枫\n9    9  王孝天  男  680157423@qq.com     萝卜\n10  10  付一鸣  男  638124075@qq.com  Style\n11  11  李蓉轩  女  135428760@qq.com     黑马\n12  12  陈观绅  男  538627104@qq.com    叶原枫\n13  13  赵鑫博  男  027618534@qq.com     萝卜\n14  14  张子豪  男  017568342@qq.com     萝卜\n15  15   叶平  男  842360157@qq.com  Style\n16  16  杨悦欣  女  217308654@qq.com     黑马\n17  17  李博远  男  253846107@qq.com  Style\n18  18  张靖薇  女  813546270@qq.com     黑马",
      "text/html": "<div>\n<style scoped>\n    .dataframe tbody tr th:only-of-type {\n        vertical-align: middle;\n    }\n\n    .dataframe tbody tr th {\n        vertical-align: top;\n    }\n\n    .dataframe thead th {\n        text-align: right;\n    }\n</style>\n<table border=\"1\" class=\"dataframe\">\n  <thead>\n    <tr style=\"text-align: right;\">\n      <th></th>\n      <th>学号</th>\n      <th>姓名</th>\n      <th>性别</th>\n      <th>邮箱</th>\n      <th>组名</th>\n    </tr>\n  </thead>\n  <tbody>\n    <tr>\n      <th>0</th>\n      <td>0</td>\n      <td>崔昊元</td>\n      <td>女</td>\n      <td>183067245@qq.com</td>\n      <td>萝卜</td>\n    </tr>\n    <tr>\n      <th>1</th>\n      <td>1</td>\n      <td>贾靖程</td>\n      <td>女</td>\n      <td>075428361@qq.com</td>\n      <td>黑马</td>\n    </tr>\n    <tr>\n      <th>2</th>\n      <td>2</td>\n      <td>吴俊岳</td>\n      <td>男</td>\n      <td>165024837@qq.com</td>\n      <td>萝卜</td>\n    </tr>\n    <tr>\n      <th>3</th>\n      <td>3</td>\n      <td>王浩羽</td>\n      <td>男</td>\n      <td>874102635@qq.com</td>\n      <td>叶原枫</td>\n    </tr>\n    <tr>\n      <th>4</th>\n      <td>4</td>\n      <td>吕梦丽</td>\n      <td>女</td>\n      <td>357240816@qq.com</td>\n      <td>黑马</td>\n    </tr>\n    <tr>\n      <th>5</th>\n      <td>5</td>\n      <td>牛皓冬</td>\n      <td>男</td>\n      <td>475026318@qq.com</td>\n      <td>Style</td>\n    </tr>\n    <tr>\n      <th>6</th>\n      <td>6</td>\n      <td>张阔</td>\n      <td>男</td>\n      <td>172643085@qq.com</td>\n      <td>叶原枫</td>\n    </tr>\n    <tr>\n      <th>7</th>\n      <td>7</td>\n      <td>孙佳奇</td>\n      <td>男</td>\n      <td>124750683@qq.com</td>\n      <td>Style</td>\n    </tr>\n    <tr>\n      <th>8</th>\n      <td>8</td>\n      <td>郑佳睦</td>\n      <td>男</td>\n      <td>548360172@qq.com</td>\n      <td>叶原枫</td>\n    </tr>\n    <tr>\n      <th>9</th>\n      <td>9</td>\n      <td>王孝天</td>\n      <td>男</td>\n      <td>680157423@qq.com</td>\n      <td>萝卜</td>\n    </tr>\n    <tr>\n      <th>10</th>\n      <td>10</td>\n      <td>付一鸣</td>\n      <td>男</td>\n      <td>638124075@qq.com</td>\n      <td>Style</td>\n    </tr>\n    <tr>\n      <th>11</th>\n      <td>11</td>\n      <td>李蓉轩</td>\n      <td>女</td>\n      <td>135428760@qq.com</td>\n      <td>黑马</td>\n    </tr>\n    <tr>\n      <th>12</th>\n      <td>12</td>\n      <td>陈观绅</td>\n      <td>男</td>\n      <td>538627104@qq.com</td>\n      <td>叶原枫</td>\n    </tr>\n    <tr>\n      <th>13</th>\n      <td>13</td>\n      <td>赵鑫博</td>\n      <td>男</td>\n      <td>027618534@qq.com</td>\n      <td>萝卜</td>\n    </tr>\n    <tr>\n      <th>14</th>\n      <td>14</td>\n      <td>张子豪</td>\n      <td>男</td>\n      <td>017568342@qq.com</td>\n      <td>萝卜</td>\n    </tr>\n    <tr>\n      <th>15</th>\n      <td>15</td>\n      <td>叶平</td>\n      <td>男</td>\n      <td>842360157@qq.com</td>\n      <td>Style</td>\n    </tr>\n    <tr>\n      <th>16</th>\n      <td>16</td>\n      <td>杨悦欣</td>\n      <td>女</td>\n      <td>217308654@qq.com</td>\n      <td>黑马</td>\n    </tr>\n    <tr>\n      <th>17</th>\n      <td>17</td>\n      <td>李博远</td>\n      <td>男</td>\n      <td>253846107@qq.com</td>\n      <td>Style</td>\n    </tr>\n    <tr>\n      <th>18</th>\n      <td>18</td>\n      <td>张靖薇</td>\n      <td>女</td>\n      <td>813546270@qq.com</td>\n      <td>黑马</td>\n    </tr>\n  </tbody>\n</table>\n</div>"
     },
     "execution_count": 132,
     "metadata": {},
     "output_type": "execute_result"
    }
   ],
   "source": [
    "s2.drop('年龄', axis=1, inplace=False)"
   ],
   "metadata": {
    "collapsed": false,
    "pycharm": {
     "name": "#%%\n"
    }
   }
  },
  {
   "cell_type": "markdown",
   "source": [
    "### 15.打印组名是Stayls的数据"
   ],
   "metadata": {
    "collapsed": false,
    "pycharm": {
     "name": "#%% md\n"
    }
   }
  },
  {
   "cell_type": "code",
   "execution_count": 134,
   "outputs": [
    {
     "name": "stdout",
     "output_type": "stream",
     "text": [
      "    学号   姓名 性别  年龄                邮箱     组名\n",
      "5    5  牛皓冬  男  18  475026318@qq.com  Style\n",
      "7    7  孙佳奇  男  18  124750683@qq.com  Style\n",
      "10  10  付一鸣  男  18  638124075@qq.com  Style\n",
      "15  15   叶平  男  18  842360157@qq.com  Style\n",
      "17  17  李博远  男  18  253846107@qq.com  Style\n"
     ]
    }
   ],
   "source": [
    "# 打印索引为Stayls的数据\n",
    "df = s2[s2['组名'] == 'Style']\n",
    "print(df)"
   ],
   "metadata": {
    "collapsed": false,
    "pycharm": {
     "name": "#%%\n"
    }
   }
  }
 ],
 "metadata": {
  "kernelspec": {
   "display_name": "Python 3",
   "language": "python",
   "name": "python3"
  },
  "language_info": {
   "codemirror_mode": {
    "name": "ipython",
    "version": 2
   },
   "file_extension": ".py",
   "mimetype": "text/x-python",
   "name": "python",
   "nbconvert_exporter": "python",
   "pygments_lexer": "ipython2",
   "version": "2.7.6"
  }
 },
 "nbformat": 4,
 "nbformat_minor": 0
}