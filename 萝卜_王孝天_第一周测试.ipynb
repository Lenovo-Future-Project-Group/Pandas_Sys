{
 "cells": [
  {
   "cell_type": "code",
   "execution_count": 34,
   "outputs": [],
   "source": [
    "import pandas as pd\n",
    "import numpy as np"
   ],
   "metadata": {
    "collapsed": false,
    "pycharm": {
     "name": "#%%\n"
    }
   }
  },
  {
   "cell_type": "markdown",
   "source": [
    "### 1. 创建一个Series命名为s1, Value: '一组' '二组' '三组' '四组'"
   ],
   "metadata": {
    "collapsed": false,
    "pycharm": {
     "name": "#%% md\n"
    }
   }
  },
  {
   "cell_type": "code",
   "execution_count": 35,
   "outputs": [],
   "source": [
    "data = np.array(['一组', '二组', '三组', '四组'])\n",
    "s1 = pd.Series(data, index=[1, 2, 3, 4])"
   ],
   "metadata": {
    "collapsed": false,
    "pycharm": {
     "name": "#%%\n"
    }
   }
  },
  {
   "cell_type": "markdown",
   "source": [
    "### 2.打印s1所有的值和索引"
   ],
   "metadata": {
    "collapsed": false,
    "pycharm": {
     "name": "#%% md\n"
    }
   }
  },
  {
   "cell_type": "code",
   "execution_count": 36,
   "outputs": [
    {
     "name": "stdout",
     "output_type": "stream",
     "text": [
      "['一组' '二组' '三组' '四组']\n",
      "Int64Index([1, 2, 3, 4], dtype='int64')\n"
     ]
    }
   ],
   "source": [
    "print(s1.values)\n",
    "print(s1.index)"
   ],
   "metadata": {
    "collapsed": false,
    "pycharm": {
     "name": "#%%\n"
    }
   }
  },
  {
   "cell_type": "markdown",
   "source": [
    "### 3.将索引为 1, 3 的值打印出来"
   ],
   "metadata": {
    "collapsed": false,
    "pycharm": {
     "name": "#%% md\n"
    }
   }
  },
  {
   "cell_type": "code",
   "execution_count": 37,
   "outputs": [
    {
     "name": "stdout",
     "output_type": "stream",
     "text": [
      "1    一组\n",
      "3    三组\n",
      "dtype: object\n"
     ]
    }
   ],
   "source": [
    "print(s1[[1, 3]])"
   ],
   "metadata": {
    "collapsed": false,
    "pycharm": {
     "name": "#%%\n"
    }
   }
  },
  {
   "cell_type": "markdown",
   "source": [
    "### 将 Value: '一组' '二组' '三组' '四组' 更换为组名 叶原枫 萝卜 Stayls 黑马"
   ],
   "metadata": {
    "collapsed": false,
    "pycharm": {
     "name": "#%% md\n"
    }
   }
  },
  {
   "cell_type": "code",
   "execution_count": 38,
   "outputs": [
    {
     "name": "stdout",
     "output_type": "stream",
     "text": [
      "1       叶原枫\n",
      "2        萝卜\n",
      "3    Stayls\n",
      "4        黑马\n",
      "dtype: object\n"
     ]
    }
   ],
   "source": [
    "data = np.array(['叶原枫', '萝卜', 'Stayls', '黑马'])\n",
    "s1 = pd.Series(data, index=[1, 2, 3, 4])\n",
    "print(s1)"
   ],
   "metadata": {
    "collapsed": false,
    "pycharm": {
     "name": "#%%\n"
    }
   }
  },
  {
   "cell_type": "markdown",
   "source": [
    "### 打印出s1的维度"
   ],
   "metadata": {
    "collapsed": false,
    "pycharm": {
     "name": "#%% md\n"
    }
   }
  },
  {
   "cell_type": "code",
   "execution_count": 39,
   "outputs": [
    {
     "name": "stdout",
     "output_type": "stream",
     "text": [
      "1\n"
     ]
    }
   ],
   "source": [
    "print(s1.ndim)"
   ],
   "metadata": {
    "collapsed": false,
    "pycharm": {
     "name": "#%%\n"
    }
   }
  },
  {
   "cell_type": "markdown",
   "source": [
    "### 读取student.csv文件创建DataFrame命名为DF"
   ],
   "metadata": {
    "collapsed": false,
    "pycharm": {
     "name": "#%% md\n"
    }
   }
  },
  {
   "cell_type": "code",
   "execution_count": 40,
   "outputs": [
    {
     "name": "stdout",
     "output_type": "stream",
     "text": [
      "D:\\Bing_John\\Code\\Python\\Lenovo-Future-Project-Group-C-Cay-pythonJupyter-Pandas-Procedure\n"
     ]
    }
   ],
   "source": [
    "def csv_to_df(csv_file):\n",
    "    import os\n",
    "    print(os.path.abspath('.'))\n",
    "    csv_data = pd.read_csv(csv_file, low_memory=False)  # 防止弹出警告\n",
    "    df = pd.DataFrame(csv_data)\n",
    "    return df\n",
    "\n",
    "\n",
    "s2 = csv_to_df('data/students.csv')"
   ],
   "metadata": {
    "collapsed": false,
    "pycharm": {
     "name": "#%%\n"
    }
   }
  },
  {
   "cell_type": "markdown",
   "source": [
    "### 打印 df 前五行"
   ],
   "metadata": {
    "collapsed": false,
    "pycharm": {
     "name": "#%% md\n"
    }
   }
  },
  {
   "cell_type": "code",
   "execution_count": 41,
   "outputs": [
    {
     "data": {
      "text/plain": "   序号   姓名 性别  年龄\n0   0  崔昊元  女  18\n1   1  贾靖程  女  18\n2   2  吴俊岳  男  18\n3   3  王浩羽  男  18\n4   4  吕梦丽  女  18",
      "text/html": "<div>\n<style scoped>\n    .dataframe tbody tr th:only-of-type {\n        vertical-align: middle;\n    }\n\n    .dataframe tbody tr th {\n        vertical-align: top;\n    }\n\n    .dataframe thead th {\n        text-align: right;\n    }\n</style>\n<table border=\"1\" class=\"dataframe\">\n  <thead>\n    <tr style=\"text-align: right;\">\n      <th></th>\n      <th>序号</th>\n      <th>姓名</th>\n      <th>性别</th>\n      <th>年龄</th>\n    </tr>\n  </thead>\n  <tbody>\n    <tr>\n      <th>0</th>\n      <td>0</td>\n      <td>崔昊元</td>\n      <td>女</td>\n      <td>18</td>\n    </tr>\n    <tr>\n      <th>1</th>\n      <td>1</td>\n      <td>贾靖程</td>\n      <td>女</td>\n      <td>18</td>\n    </tr>\n    <tr>\n      <th>2</th>\n      <td>2</td>\n      <td>吴俊岳</td>\n      <td>男</td>\n      <td>18</td>\n    </tr>\n    <tr>\n      <th>3</th>\n      <td>3</td>\n      <td>王浩羽</td>\n      <td>男</td>\n      <td>18</td>\n    </tr>\n    <tr>\n      <th>4</th>\n      <td>4</td>\n      <td>吕梦丽</td>\n      <td>女</td>\n      <td>18</td>\n    </tr>\n  </tbody>\n</table>\n</div>"
     },
     "execution_count": 41,
     "metadata": {},
     "output_type": "execute_result"
    }
   ],
   "source": [
    "df5 = s2.head(5)\n",
    "df5"
   ],
   "metadata": {
    "collapsed": false,
    "pycharm": {
     "name": "#%%\n"
    }
   }
  },
  {
   "cell_type": "markdown",
   "source": [
    "### 打印 df 后七行"
   ],
   "metadata": {
    "collapsed": false,
    "pycharm": {
     "name": "#%% md\n"
    }
   }
  },
  {
   "cell_type": "code",
   "execution_count": 42,
   "outputs": [
    {
     "data": {
      "text/plain": "    序号   姓名 性别  年龄\n9    9  王孝天  男  18\n10  10  付一鸣  男  18\n11  11  李蓉轩  女  18\n12  12  陈观绅  男  18\n13  13  赵鑫博  男  18\n14  14  张子豪  男  18\n15  15   叶平  男  18",
      "text/html": "<div>\n<style scoped>\n    .dataframe tbody tr th:only-of-type {\n        vertical-align: middle;\n    }\n\n    .dataframe tbody tr th {\n        vertical-align: top;\n    }\n\n    .dataframe thead th {\n        text-align: right;\n    }\n</style>\n<table border=\"1\" class=\"dataframe\">\n  <thead>\n    <tr style=\"text-align: right;\">\n      <th></th>\n      <th>序号</th>\n      <th>姓名</th>\n      <th>性别</th>\n      <th>年龄</th>\n    </tr>\n  </thead>\n  <tbody>\n    <tr>\n      <th>9</th>\n      <td>9</td>\n      <td>王孝天</td>\n      <td>男</td>\n      <td>18</td>\n    </tr>\n    <tr>\n      <th>10</th>\n      <td>10</td>\n      <td>付一鸣</td>\n      <td>男</td>\n      <td>18</td>\n    </tr>\n    <tr>\n      <th>11</th>\n      <td>11</td>\n      <td>李蓉轩</td>\n      <td>女</td>\n      <td>18</td>\n    </tr>\n    <tr>\n      <th>12</th>\n      <td>12</td>\n      <td>陈观绅</td>\n      <td>男</td>\n      <td>18</td>\n    </tr>\n    <tr>\n      <th>13</th>\n      <td>13</td>\n      <td>赵鑫博</td>\n      <td>男</td>\n      <td>18</td>\n    </tr>\n    <tr>\n      <th>14</th>\n      <td>14</td>\n      <td>张子豪</td>\n      <td>男</td>\n      <td>18</td>\n    </tr>\n    <tr>\n      <th>15</th>\n      <td>15</td>\n      <td>叶平</td>\n      <td>男</td>\n      <td>18</td>\n    </tr>\n  </tbody>\n</table>\n</div>"
     },
     "execution_count": 42,
     "metadata": {},
     "output_type": "execute_result"
    }
   ],
   "source": [
    "df7 = s2.tail(7)\n",
    "df7"
   ],
   "metadata": {
    "collapsed": false,
    "pycharm": {
     "name": "#%%\n"
    }
   }
  }
 ],
 "metadata": {
  "kernelspec": {
   "display_name": "Python 3",
   "language": "python",
   "name": "python3"
  },
  "language_info": {
   "codemirror_mode": {
    "name": "ipython",
    "version": 2
   },
   "file_extension": ".py",
   "mimetype": "text/x-python",
   "name": "python",
   "nbconvert_exporter": "python",
   "pygments_lexer": "ipython2",
   "version": "2.7.6"
  }
 },
 "nbformat": 4,
 "nbformat_minor": 0
}