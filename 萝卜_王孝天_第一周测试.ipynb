{
 "cells": [
  {
   "cell_type": "code",
   "execution_count": 3,
   "metadata": {
    "pycharm": {
     "name": "#%%\n"
    }
   },
   "outputs": [],
   "source": [
    "import numpy as np\n",
    "import pandas as pd"
   ]
  },
  {
   "cell_type": "markdown",
   "metadata": {
    "pycharm": {
     "name": "#%% md\n"
    }
   },
   "source": [
    "### 1. 创建一个Series命名为s1, Value: '一组' '二组' '三组' '四组'"
   ]
  },
  {
   "cell_type": "code",
   "execution_count": 4,
   "metadata": {
    "pycharm": {
     "name": "#%%\n"
    }
   },
   "outputs": [],
   "source": [
    "data = np.array(['一组', '二组', '三组', '四组'])\n",
    "s1 = pd.Series(data, index=[1, 2, 3, 4])\n",
    "\n",
    "# s1 = pd.Series(['一组', '二组', '三组', '四组'], index=[1, 2, 3, 4])"
   ]
  },
  {
   "cell_type": "markdown",
   "metadata": {
    "pycharm": {
     "name": "#%% md\n"
    }
   },
   "source": [
    "### 2.打印s1所有的值和索引"
   ]
  },
  {
   "cell_type": "code",
   "execution_count": 5,
   "metadata": {
    "pycharm": {
     "name": "#%%\n"
    }
   },
   "outputs": [
    {
     "name": "stdout",
     "output_type": "stream",
     "text": [
      "['一组' '二组' '三组' '四组']\n",
      "Int64Index([1, 2, 3, 4], dtype='int64')\n"
     ]
    }
   ],
   "source": [
    "print(s1.values)\n",
    "print(s1.index)\n",
    "data "
   ]
  },
  {
   "cell_type": "markdown",
   "metadata": {
    "pycharm": {
     "name": "#%% md\n"
    }
   },
   "source": [
    "### 3.将索引为 1, 3 的值打印出来"
   ]
  },
  {
   "cell_type": "code",
   "execution_count": 6,
   "metadata": {
    "pycharm": {
     "name": "#%%\n"
    }
   },
   "outputs": [
    {
     "name": "stdout",
     "output_type": "stream",
     "text": [
      "1    一组\n",
      "3    三组\n",
      "dtype: object\n"
     ]
    }
   ],
   "source": [
    "print(s1[[1, 3]])"
   ]
  },
  {
   "cell_type": "markdown",
   "metadata": {
    "pycharm": {
     "name": "#%% md\n"
    }
   },
   "source": [
    "### 4.将 Value: '一组' '二组' '三组' '四组' 替换 '叶原枫' '萝卜' 'Stayls' '黑马'"
   ]
  },
  {
   "cell_type": "code",
   "execution_count": 7,
   "metadata": {
    "pycharm": {
     "name": "#%%\n"
    }
   },
   "outputs": [
    {
     "name": "stdout",
     "output_type": "stream",
     "text": [
      "1       叶原枫\n",
      "2        萝卜\n",
      "3    Stayls\n",
      "4        黑马\n",
      "dtype: object\n"
     ]
    }
   ],
   "source": [
    "data = np.array(['叶原枫', '萝卜', 'Stayls', '黑马'])\n",
    "s1 = pd.Series(data, index=[1, 2, 3, 4])\n",
    "print(s1)"
   ]
  },
  {
   "cell_type": "markdown",
   "metadata": {
    "pycharm": {
     "name": "#%% md\n"
    }
   },
   "source": [
    "### 5.打印出s1的维度"
   ]
  },
  {
   "cell_type": "code",
   "execution_count": 8,
   "metadata": {
    "pycharm": {
     "name": "#%%\n"
    }
   },
   "outputs": [
    {
     "name": "stdout",
     "output_type": "stream",
     "text": [
      "1\n"
     ]
    }
   ],
   "source": [
    "print(s1.ndim)"
   ]
  },
  {
   "cell_type": "markdown",
   "metadata": {
    "pycharm": {
     "name": "#%% md\n"
    }
   },
   "source": [
    "### 6.读取student.csv文件创建DataFrame命名为DF"
   ]
  },
  {
   "cell_type": "code",
   "execution_count": 9,
   "metadata": {
    "pycharm": {
     "name": "#%%\n"
    }
   },
   "outputs": [],
   "source": [
    "def csv_to_df(csv_file):\n",
    "    csv = pd.read_csv(csv_file, low_memory=False)  # 防止弹出警告\n",
    "    csv_df = pd.DataFrame(csv)\n",
    "    return csv_df\n",
    "\n",
    "\n",
    "s2 = csv_to_df('data/students.csv')"
   ]
  },
  {
   "cell_type": "markdown",
   "metadata": {
    "pycharm": {
     "name": "#%% md\n"
    }
   },
   "source": [
    "### 7.（1）打印 df 前五行"
   ]
  },
  {
   "cell_type": "code",
   "execution_count": 10,
   "metadata": {
    "pycharm": {
     "name": "#%%\n"
    }
   },
   "outputs": [
    {
     "data": {
      "text/html": [
       "<div>\n",
       "<style scoped>\n",
       "    .dataframe tbody tr th:only-of-type {\n",
       "        vertical-align: middle;\n",
       "    }\n",
       "\n",
       "    .dataframe tbody tr th {\n",
       "        vertical-align: top;\n",
       "    }\n",
       "\n",
       "    .dataframe thead th {\n",
       "        text-align: right;\n",
       "    }\n",
       "</style>\n",
       "<table border=\"1\" class=\"dataframe\">\n",
       "  <thead>\n",
       "    <tr style=\"text-align: right;\">\n",
       "      <th></th>\n",
       "      <th>学号</th>\n",
       "      <th>姓名</th>\n",
       "      <th>性别</th>\n",
       "      <th>年龄</th>\n",
       "      <th>邮箱</th>\n",
       "      <th>组名</th>\n",
       "    </tr>\n",
       "  </thead>\n",
       "  <tbody>\n",
       "    <tr>\n",
       "      <th>0</th>\n",
       "      <td>0</td>\n",
       "      <td>崔昊元</td>\n",
       "      <td>女</td>\n",
       "      <td>18</td>\n",
       "      <td>182607543@qq.com</td>\n",
       "      <td>萝卜</td>\n",
       "    </tr>\n",
       "    <tr>\n",
       "      <th>1</th>\n",
       "      <td>1</td>\n",
       "      <td>贾靖程</td>\n",
       "      <td>女</td>\n",
       "      <td>18</td>\n",
       "      <td>354817260@qq.com</td>\n",
       "      <td>黑马</td>\n",
       "    </tr>\n",
       "    <tr>\n",
       "      <th>2</th>\n",
       "      <td>2</td>\n",
       "      <td>吴俊岳</td>\n",
       "      <td>男</td>\n",
       "      <td>18</td>\n",
       "      <td>061523784@qq.com</td>\n",
       "      <td>萝卜</td>\n",
       "    </tr>\n",
       "    <tr>\n",
       "      <th>3</th>\n",
       "      <td>3</td>\n",
       "      <td>王浩羽</td>\n",
       "      <td>男</td>\n",
       "      <td>18</td>\n",
       "      <td>362745810@qq.com</td>\n",
       "      <td>叶原枫</td>\n",
       "    </tr>\n",
       "    <tr>\n",
       "      <th>4</th>\n",
       "      <td>4</td>\n",
       "      <td>吕梦丽</td>\n",
       "      <td>女</td>\n",
       "      <td>18</td>\n",
       "      <td>081725634@qq.com</td>\n",
       "      <td>黑马</td>\n",
       "    </tr>\n",
       "  </tbody>\n",
       "</table>\n",
       "</div>"
      ],
      "text/plain": [
       "   学号   姓名 性别  年龄                邮箱   组名\n",
       "0   0  崔昊元  女  18  182607543@qq.com   萝卜\n",
       "1   1  贾靖程  女  18  354817260@qq.com   黑马\n",
       "2   2  吴俊岳  男  18  061523784@qq.com   萝卜\n",
       "3   3  王浩羽  男  18  362745810@qq.com  叶原枫\n",
       "4   4  吕梦丽  女  18  081725634@qq.com   黑马"
      ]
     },
     "execution_count": 10,
     "metadata": {},
     "output_type": "execute_result"
    }
   ],
   "source": [
    "df5 = s2.head(5)\n",
    "df5"
   ]
  },
  {
   "cell_type": "markdown",
   "metadata": {
    "pycharm": {
     "name": "#%% md\n"
    }
   },
   "source": [
    "### 7.（2）打印 df 后七行"
   ]
  },
  {
   "cell_type": "code",
   "execution_count": 11,
   "metadata": {
    "pycharm": {
     "name": "#%%\n"
    }
   },
   "outputs": [
    {
     "data": {
      "text/html": [
       "<div>\n",
       "<style scoped>\n",
       "    .dataframe tbody tr th:only-of-type {\n",
       "        vertical-align: middle;\n",
       "    }\n",
       "\n",
       "    .dataframe tbody tr th {\n",
       "        vertical-align: top;\n",
       "    }\n",
       "\n",
       "    .dataframe thead th {\n",
       "        text-align: right;\n",
       "    }\n",
       "</style>\n",
       "<table border=\"1\" class=\"dataframe\">\n",
       "  <thead>\n",
       "    <tr style=\"text-align: right;\">\n",
       "      <th></th>\n",
       "      <th>学号</th>\n",
       "      <th>姓名</th>\n",
       "      <th>性别</th>\n",
       "      <th>年龄</th>\n",
       "      <th>邮箱</th>\n",
       "      <th>组名</th>\n",
       "    </tr>\n",
       "  </thead>\n",
       "  <tbody>\n",
       "    <tr>\n",
       "      <th>12</th>\n",
       "      <td>12</td>\n",
       "      <td>陈观绅</td>\n",
       "      <td>男</td>\n",
       "      <td>18</td>\n",
       "      <td>625704183@qq.com</td>\n",
       "      <td>叶原枫</td>\n",
       "    </tr>\n",
       "    <tr>\n",
       "      <th>13</th>\n",
       "      <td>13</td>\n",
       "      <td>赵鑫博</td>\n",
       "      <td>男</td>\n",
       "      <td>18</td>\n",
       "      <td>625178043@qq.com</td>\n",
       "      <td>萝卜</td>\n",
       "    </tr>\n",
       "    <tr>\n",
       "      <th>14</th>\n",
       "      <td>14</td>\n",
       "      <td>张子豪</td>\n",
       "      <td>男</td>\n",
       "      <td>18</td>\n",
       "      <td>147653028@qq.com</td>\n",
       "      <td>萝卜</td>\n",
       "    </tr>\n",
       "    <tr>\n",
       "      <th>15</th>\n",
       "      <td>15</td>\n",
       "      <td>叶平</td>\n",
       "      <td>男</td>\n",
       "      <td>18</td>\n",
       "      <td>508731642@qq.com</td>\n",
       "      <td>Style</td>\n",
       "    </tr>\n",
       "    <tr>\n",
       "      <th>16</th>\n",
       "      <td>16</td>\n",
       "      <td>杨悦欣</td>\n",
       "      <td>女</td>\n",
       "      <td>18</td>\n",
       "      <td>810563247@qq.com</td>\n",
       "      <td>黑马</td>\n",
       "    </tr>\n",
       "    <tr>\n",
       "      <th>17</th>\n",
       "      <td>17</td>\n",
       "      <td>李博远</td>\n",
       "      <td>男</td>\n",
       "      <td>18</td>\n",
       "      <td>467015238@qq.com</td>\n",
       "      <td>Style</td>\n",
       "    </tr>\n",
       "    <tr>\n",
       "      <th>18</th>\n",
       "      <td>18</td>\n",
       "      <td>张靖薇</td>\n",
       "      <td>女</td>\n",
       "      <td>18</td>\n",
       "      <td>035214678@qq.com</td>\n",
       "      <td>黑马</td>\n",
       "    </tr>\n",
       "  </tbody>\n",
       "</table>\n",
       "</div>"
      ],
      "text/plain": [
       "    学号   姓名 性别  年龄                邮箱     组名\n",
       "12  12  陈观绅  男  18  625704183@qq.com    叶原枫\n",
       "13  13  赵鑫博  男  18  625178043@qq.com     萝卜\n",
       "14  14  张子豪  男  18  147653028@qq.com     萝卜\n",
       "15  15   叶平  男  18  508731642@qq.com  Style\n",
       "16  16  杨悦欣  女  18  810563247@qq.com     黑马\n",
       "17  17  李博远  男  18  467015238@qq.com  Style\n",
       "18  18  张靖薇  女  18  035214678@qq.com     黑马"
      ]
     },
     "execution_count": 11,
     "metadata": {},
     "output_type": "execute_result"
    }
   ],
   "source": [
    "df7 = s2.tail(7)\n",
    "df7"
   ]
  },
  {
   "cell_type": "markdown",
   "metadata": {
    "pycharm": {
     "name": "#%% md\n"
    }
   },
   "source": [
    "### 8.打印 df 第五到第十行数据"
   ]
  },
  {
   "cell_type": "code",
   "execution_count": 22,
   "metadata": {
    "pycharm": {
     "name": "#%%\n"
    }
   },
   "outputs": [
    {
     "data": {
      "text/html": [
       "<div>\n",
       "<style scoped>\n",
       "    .dataframe tbody tr th:only-of-type {\n",
       "        vertical-align: middle;\n",
       "    }\n",
       "\n",
       "    .dataframe tbody tr th {\n",
       "        vertical-align: top;\n",
       "    }\n",
       "\n",
       "    .dataframe thead th {\n",
       "        text-align: right;\n",
       "    }\n",
       "</style>\n",
       "<table border=\"1\" class=\"dataframe\">\n",
       "  <thead>\n",
       "    <tr style=\"text-align: right;\">\n",
       "      <th></th>\n",
       "      <th>学号</th>\n",
       "      <th>姓名</th>\n",
       "      <th>性别</th>\n",
       "      <th>年龄</th>\n",
       "      <th>邮箱</th>\n",
       "      <th>组名</th>\n",
       "    </tr>\n",
       "  </thead>\n",
       "  <tbody>\n",
       "    <tr>\n",
       "      <th>5</th>\n",
       "      <td>5</td>\n",
       "      <td>牛皓冬</td>\n",
       "      <td>男</td>\n",
       "      <td>18</td>\n",
       "      <td>250813647@qq.com</td>\n",
       "      <td>Style</td>\n",
       "    </tr>\n",
       "    <tr>\n",
       "      <th>6</th>\n",
       "      <td>6</td>\n",
       "      <td>张阔</td>\n",
       "      <td>男</td>\n",
       "      <td>18</td>\n",
       "      <td>175426803@qq.com</td>\n",
       "      <td>叶原枫</td>\n",
       "    </tr>\n",
       "    <tr>\n",
       "      <th>7</th>\n",
       "      <td>7</td>\n",
       "      <td>孙佳奇</td>\n",
       "      <td>男</td>\n",
       "      <td>18</td>\n",
       "      <td>136807245@qq.com</td>\n",
       "      <td>Style</td>\n",
       "    </tr>\n",
       "    <tr>\n",
       "      <th>8</th>\n",
       "      <td>8</td>\n",
       "      <td>郑佳睦</td>\n",
       "      <td>男</td>\n",
       "      <td>18</td>\n",
       "      <td>012785643@qq.com</td>\n",
       "      <td>叶原枫</td>\n",
       "    </tr>\n",
       "    <tr>\n",
       "      <th>9</th>\n",
       "      <td>9</td>\n",
       "      <td>王孝天</td>\n",
       "      <td>男</td>\n",
       "      <td>18</td>\n",
       "      <td>854067321@qq.com</td>\n",
       "      <td>萝卜</td>\n",
       "    </tr>\n",
       "    <tr>\n",
       "      <th>10</th>\n",
       "      <td>10</td>\n",
       "      <td>付一鸣</td>\n",
       "      <td>男</td>\n",
       "      <td>18</td>\n",
       "      <td>360712854@qq.com</td>\n",
       "      <td>Style</td>\n",
       "    </tr>\n",
       "  </tbody>\n",
       "</table>\n",
       "</div>"
      ],
      "text/plain": [
       "    学号   姓名 性别  年龄                邮箱     组名\n",
       "5    5  牛皓冬  男  18  250813647@qq.com  Style\n",
       "6    6   张阔  男  18  175426803@qq.com    叶原枫\n",
       "7    7  孙佳奇  男  18  136807245@qq.com  Style\n",
       "8    8  郑佳睦  男  18  012785643@qq.com    叶原枫\n",
       "9    9  王孝天  男  18  854067321@qq.com     萝卜\n",
       "10  10  付一鸣  男  18  360712854@qq.com  Style"
      ]
     },
     "execution_count": 22,
     "metadata": {},
     "output_type": "execute_result"
    }
   ],
   "source": [
    "# 打印 df 第五到第十行数据\n",
    "df5_10 = s2.iloc[5:10 + 1]\n",
    "df5_10"
   ]
  },
  {
   "cell_type": "markdown",
   "metadata": {
    "pycharm": {
     "name": "#%% md\n"
    }
   },
   "source": [
    "### 9.打印 '姓名' '组名' 这两列数据"
   ]
  },
  {
   "cell_type": "code",
   "execution_count": 13,
   "metadata": {
    "pycharm": {
     "name": "#%%\n"
    }
   },
   "outputs": [
    {
     "data": {
      "text/html": [
       "<div>\n",
       "<style scoped>\n",
       "    .dataframe tbody tr th:only-of-type {\n",
       "        vertical-align: middle;\n",
       "    }\n",
       "\n",
       "    .dataframe tbody tr th {\n",
       "        vertical-align: top;\n",
       "    }\n",
       "\n",
       "    .dataframe thead th {\n",
       "        text-align: right;\n",
       "    }\n",
       "</style>\n",
       "<table border=\"1\" class=\"dataframe\">\n",
       "  <thead>\n",
       "    <tr style=\"text-align: right;\">\n",
       "      <th></th>\n",
       "      <th>姓名</th>\n",
       "      <th>组名</th>\n",
       "    </tr>\n",
       "  </thead>\n",
       "  <tbody>\n",
       "    <tr>\n",
       "      <th>0</th>\n",
       "      <td>崔昊元</td>\n",
       "      <td>萝卜</td>\n",
       "    </tr>\n",
       "    <tr>\n",
       "      <th>1</th>\n",
       "      <td>贾靖程</td>\n",
       "      <td>黑马</td>\n",
       "    </tr>\n",
       "    <tr>\n",
       "      <th>2</th>\n",
       "      <td>吴俊岳</td>\n",
       "      <td>萝卜</td>\n",
       "    </tr>\n",
       "    <tr>\n",
       "      <th>3</th>\n",
       "      <td>王浩羽</td>\n",
       "      <td>叶原枫</td>\n",
       "    </tr>\n",
       "    <tr>\n",
       "      <th>4</th>\n",
       "      <td>吕梦丽</td>\n",
       "      <td>黑马</td>\n",
       "    </tr>\n",
       "    <tr>\n",
       "      <th>5</th>\n",
       "      <td>牛皓冬</td>\n",
       "      <td>Style</td>\n",
       "    </tr>\n",
       "    <tr>\n",
       "      <th>6</th>\n",
       "      <td>张阔</td>\n",
       "      <td>叶原枫</td>\n",
       "    </tr>\n",
       "    <tr>\n",
       "      <th>7</th>\n",
       "      <td>孙佳奇</td>\n",
       "      <td>Style</td>\n",
       "    </tr>\n",
       "    <tr>\n",
       "      <th>8</th>\n",
       "      <td>郑佳睦</td>\n",
       "      <td>叶原枫</td>\n",
       "    </tr>\n",
       "    <tr>\n",
       "      <th>9</th>\n",
       "      <td>王孝天</td>\n",
       "      <td>萝卜</td>\n",
       "    </tr>\n",
       "    <tr>\n",
       "      <th>10</th>\n",
       "      <td>付一鸣</td>\n",
       "      <td>Style</td>\n",
       "    </tr>\n",
       "    <tr>\n",
       "      <th>11</th>\n",
       "      <td>李蓉轩</td>\n",
       "      <td>黑马</td>\n",
       "    </tr>\n",
       "    <tr>\n",
       "      <th>12</th>\n",
       "      <td>陈观绅</td>\n",
       "      <td>叶原枫</td>\n",
       "    </tr>\n",
       "    <tr>\n",
       "      <th>13</th>\n",
       "      <td>赵鑫博</td>\n",
       "      <td>萝卜</td>\n",
       "    </tr>\n",
       "    <tr>\n",
       "      <th>14</th>\n",
       "      <td>张子豪</td>\n",
       "      <td>萝卜</td>\n",
       "    </tr>\n",
       "    <tr>\n",
       "      <th>15</th>\n",
       "      <td>叶平</td>\n",
       "      <td>Style</td>\n",
       "    </tr>\n",
       "    <tr>\n",
       "      <th>16</th>\n",
       "      <td>杨悦欣</td>\n",
       "      <td>黑马</td>\n",
       "    </tr>\n",
       "    <tr>\n",
       "      <th>17</th>\n",
       "      <td>李博远</td>\n",
       "      <td>Style</td>\n",
       "    </tr>\n",
       "    <tr>\n",
       "      <th>18</th>\n",
       "      <td>张靖薇</td>\n",
       "      <td>黑马</td>\n",
       "    </tr>\n",
       "  </tbody>\n",
       "</table>\n",
       "</div>"
      ],
      "text/plain": [
       "     姓名     组名\n",
       "0   崔昊元     萝卜\n",
       "1   贾靖程     黑马\n",
       "2   吴俊岳     萝卜\n",
       "3   王浩羽    叶原枫\n",
       "4   吕梦丽     黑马\n",
       "5   牛皓冬  Style\n",
       "6    张阔    叶原枫\n",
       "7   孙佳奇  Style\n",
       "8   郑佳睦    叶原枫\n",
       "9   王孝天     萝卜\n",
       "10  付一鸣  Style\n",
       "11  李蓉轩     黑马\n",
       "12  陈观绅    叶原枫\n",
       "13  赵鑫博     萝卜\n",
       "14  张子豪     萝卜\n",
       "15   叶平  Style\n",
       "16  杨悦欣     黑马\n",
       "17  李博远  Style\n",
       "18  张靖薇     黑马"
      ]
     },
     "execution_count": 13,
     "metadata": {},
     "output_type": "execute_result"
    }
   ],
   "source": [
    "# 打印姓名组名这两列数据\n",
    "df_name_group = s2[['姓名', '组名']]\n",
    "df_name_group"
   ]
  },
  {
   "cell_type": "markdown",
   "metadata": {
    "pycharm": {
     "name": "#%% md\n"
    }
   },
   "source": [
    "### 10.打印所有的标题"
   ]
  },
  {
   "cell_type": "code",
   "execution_count": 14,
   "metadata": {
    "pycharm": {
     "name": "#%%\n"
    }
   },
   "outputs": [
    {
     "name": "stdout",
     "output_type": "stream",
     "text": [
      "Index(['学号', '姓名', '性别', '年龄', '邮箱', '组名'], dtype='object')\n"
     ]
    }
   ],
   "source": [
    "# 打印所有的标题\n",
    "df_title = s2.columns\n",
    "df_title"
   ]
  },
  {
   "cell_type": "markdown",
   "metadata": {
    "pycharm": {
     "name": "#%% md\n"
    }
   },
   "source": [
    "\n",
    "### 11.打印df的形状(几行几列)"
   ]
  },
  {
   "cell_type": "code",
   "execution_count": 15,
   "metadata": {
    "pycharm": {
     "name": "#%%\n"
    }
   },
   "outputs": [
    {
     "name": "stdout",
     "output_type": "stream",
     "text": [
      "(19, 6)\n"
     ]
    }
   ],
   "source": [
    "df = s2.shape\n",
    "print(df)"
   ]
  },
  {
   "cell_type": "markdown",
   "metadata": {
    "pycharm": {
     "name": "#%% md\n"
    }
   },
   "source": [
    "### 12.打印df的维度"
   ]
  },
  {
   "cell_type": "code",
   "execution_count": 16,
   "metadata": {
    "pycharm": {
     "name": "#%%\n"
    }
   },
   "outputs": [
    {
     "name": "stdout",
     "output_type": "stream",
     "text": [
      "2\n"
     ]
    }
   ],
   "source": [
    "df = s2.ndim\n",
    "print(df)"
   ]
  },
  {
   "cell_type": "markdown",
   "metadata": {
    "pycharm": {
     "name": "#%% md\n"
    }
   },
   "source": [
    "### 13.删除第五行数据"
   ]
  },
  {
   "cell_type": "code",
   "execution_count": 17,
   "metadata": {
    "pycharm": {
     "name": "#%%\n"
    }
   },
   "outputs": [
    {
     "data": {
      "text/html": [
       "<div>\n",
       "<style scoped>\n",
       "    .dataframe tbody tr th:only-of-type {\n",
       "        vertical-align: middle;\n",
       "    }\n",
       "\n",
       "    .dataframe tbody tr th {\n",
       "        vertical-align: top;\n",
       "    }\n",
       "\n",
       "    .dataframe thead th {\n",
       "        text-align: right;\n",
       "    }\n",
       "</style>\n",
       "<table border=\"1\" class=\"dataframe\">\n",
       "  <thead>\n",
       "    <tr style=\"text-align: right;\">\n",
       "      <th></th>\n",
       "      <th>学号</th>\n",
       "      <th>姓名</th>\n",
       "      <th>性别</th>\n",
       "      <th>年龄</th>\n",
       "      <th>邮箱</th>\n",
       "      <th>组名</th>\n",
       "    </tr>\n",
       "  </thead>\n",
       "  <tbody>\n",
       "    <tr>\n",
       "      <th>0</th>\n",
       "      <td>0</td>\n",
       "      <td>崔昊元</td>\n",
       "      <td>女</td>\n",
       "      <td>18</td>\n",
       "      <td>182607543@qq.com</td>\n",
       "      <td>萝卜</td>\n",
       "    </tr>\n",
       "    <tr>\n",
       "      <th>1</th>\n",
       "      <td>1</td>\n",
       "      <td>贾靖程</td>\n",
       "      <td>女</td>\n",
       "      <td>18</td>\n",
       "      <td>354817260@qq.com</td>\n",
       "      <td>黑马</td>\n",
       "    </tr>\n",
       "    <tr>\n",
       "      <th>2</th>\n",
       "      <td>2</td>\n",
       "      <td>吴俊岳</td>\n",
       "      <td>男</td>\n",
       "      <td>18</td>\n",
       "      <td>061523784@qq.com</td>\n",
       "      <td>萝卜</td>\n",
       "    </tr>\n",
       "    <tr>\n",
       "      <th>3</th>\n",
       "      <td>3</td>\n",
       "      <td>王浩羽</td>\n",
       "      <td>男</td>\n",
       "      <td>18</td>\n",
       "      <td>362745810@qq.com</td>\n",
       "      <td>叶原枫</td>\n",
       "    </tr>\n",
       "    <tr>\n",
       "      <th>4</th>\n",
       "      <td>4</td>\n",
       "      <td>吕梦丽</td>\n",
       "      <td>女</td>\n",
       "      <td>18</td>\n",
       "      <td>081725634@qq.com</td>\n",
       "      <td>黑马</td>\n",
       "    </tr>\n",
       "    <tr>\n",
       "      <th>6</th>\n",
       "      <td>6</td>\n",
       "      <td>张阔</td>\n",
       "      <td>男</td>\n",
       "      <td>18</td>\n",
       "      <td>175426803@qq.com</td>\n",
       "      <td>叶原枫</td>\n",
       "    </tr>\n",
       "    <tr>\n",
       "      <th>7</th>\n",
       "      <td>7</td>\n",
       "      <td>孙佳奇</td>\n",
       "      <td>男</td>\n",
       "      <td>18</td>\n",
       "      <td>136807245@qq.com</td>\n",
       "      <td>Style</td>\n",
       "    </tr>\n",
       "    <tr>\n",
       "      <th>8</th>\n",
       "      <td>8</td>\n",
       "      <td>郑佳睦</td>\n",
       "      <td>男</td>\n",
       "      <td>18</td>\n",
       "      <td>012785643@qq.com</td>\n",
       "      <td>叶原枫</td>\n",
       "    </tr>\n",
       "    <tr>\n",
       "      <th>9</th>\n",
       "      <td>9</td>\n",
       "      <td>王孝天</td>\n",
       "      <td>男</td>\n",
       "      <td>18</td>\n",
       "      <td>854067321@qq.com</td>\n",
       "      <td>萝卜</td>\n",
       "    </tr>\n",
       "    <tr>\n",
       "      <th>10</th>\n",
       "      <td>10</td>\n",
       "      <td>付一鸣</td>\n",
       "      <td>男</td>\n",
       "      <td>18</td>\n",
       "      <td>360712854@qq.com</td>\n",
       "      <td>Style</td>\n",
       "    </tr>\n",
       "    <tr>\n",
       "      <th>11</th>\n",
       "      <td>11</td>\n",
       "      <td>李蓉轩</td>\n",
       "      <td>女</td>\n",
       "      <td>18</td>\n",
       "      <td>635148720@qq.com</td>\n",
       "      <td>黑马</td>\n",
       "    </tr>\n",
       "    <tr>\n",
       "      <th>12</th>\n",
       "      <td>12</td>\n",
       "      <td>陈观绅</td>\n",
       "      <td>男</td>\n",
       "      <td>18</td>\n",
       "      <td>625704183@qq.com</td>\n",
       "      <td>叶原枫</td>\n",
       "    </tr>\n",
       "    <tr>\n",
       "      <th>13</th>\n",
       "      <td>13</td>\n",
       "      <td>赵鑫博</td>\n",
       "      <td>男</td>\n",
       "      <td>18</td>\n",
       "      <td>625178043@qq.com</td>\n",
       "      <td>萝卜</td>\n",
       "    </tr>\n",
       "    <tr>\n",
       "      <th>14</th>\n",
       "      <td>14</td>\n",
       "      <td>张子豪</td>\n",
       "      <td>男</td>\n",
       "      <td>18</td>\n",
       "      <td>147653028@qq.com</td>\n",
       "      <td>萝卜</td>\n",
       "    </tr>\n",
       "    <tr>\n",
       "      <th>15</th>\n",
       "      <td>15</td>\n",
       "      <td>叶平</td>\n",
       "      <td>男</td>\n",
       "      <td>18</td>\n",
       "      <td>508731642@qq.com</td>\n",
       "      <td>Style</td>\n",
       "    </tr>\n",
       "    <tr>\n",
       "      <th>16</th>\n",
       "      <td>16</td>\n",
       "      <td>杨悦欣</td>\n",
       "      <td>女</td>\n",
       "      <td>18</td>\n",
       "      <td>810563247@qq.com</td>\n",
       "      <td>黑马</td>\n",
       "    </tr>\n",
       "    <tr>\n",
       "      <th>17</th>\n",
       "      <td>17</td>\n",
       "      <td>李博远</td>\n",
       "      <td>男</td>\n",
       "      <td>18</td>\n",
       "      <td>467015238@qq.com</td>\n",
       "      <td>Style</td>\n",
       "    </tr>\n",
       "    <tr>\n",
       "      <th>18</th>\n",
       "      <td>18</td>\n",
       "      <td>张靖薇</td>\n",
       "      <td>女</td>\n",
       "      <td>18</td>\n",
       "      <td>035214678@qq.com</td>\n",
       "      <td>黑马</td>\n",
       "    </tr>\n",
       "  </tbody>\n",
       "</table>\n",
       "</div>"
      ],
      "text/plain": [
       "    学号   姓名 性别  年龄                邮箱     组名\n",
       "0    0  崔昊元  女  18  182607543@qq.com     萝卜\n",
       "1    1  贾靖程  女  18  354817260@qq.com     黑马\n",
       "2    2  吴俊岳  男  18  061523784@qq.com     萝卜\n",
       "3    3  王浩羽  男  18  362745810@qq.com    叶原枫\n",
       "4    4  吕梦丽  女  18  081725634@qq.com     黑马\n",
       "6    6   张阔  男  18  175426803@qq.com    叶原枫\n",
       "7    7  孙佳奇  男  18  136807245@qq.com  Style\n",
       "8    8  郑佳睦  男  18  012785643@qq.com    叶原枫\n",
       "9    9  王孝天  男  18  854067321@qq.com     萝卜\n",
       "10  10  付一鸣  男  18  360712854@qq.com  Style\n",
       "11  11  李蓉轩  女  18  635148720@qq.com     黑马\n",
       "12  12  陈观绅  男  18  625704183@qq.com    叶原枫\n",
       "13  13  赵鑫博  男  18  625178043@qq.com     萝卜\n",
       "14  14  张子豪  男  18  147653028@qq.com     萝卜\n",
       "15  15   叶平  男  18  508731642@qq.com  Style\n",
       "16  16  杨悦欣  女  18  810563247@qq.com     黑马\n",
       "17  17  李博远  男  18  467015238@qq.com  Style\n",
       "18  18  张靖薇  女  18  035214678@qq.com     黑马"
      ]
     },
     "execution_count": 17,
     "metadata": {},
     "output_type": "execute_result"
    }
   ],
   "source": [
    "s2.drop(5, inplace=False)"
   ]
  },
  {
   "cell_type": "markdown",
   "metadata": {
    "pycharm": {
     "name": "#%% md\n"
    }
   },
   "source": [
    "### 14.删除年龄这一列"
   ]
  },
  {
   "cell_type": "code",
   "execution_count": 18,
   "metadata": {
    "pycharm": {
     "name": "#%%\n"
    }
   },
   "outputs": [
    {
     "data": {
      "text/html": [
       "<div>\n",
       "<style scoped>\n",
       "    .dataframe tbody tr th:only-of-type {\n",
       "        vertical-align: middle;\n",
       "    }\n",
       "\n",
       "    .dataframe tbody tr th {\n",
       "        vertical-align: top;\n",
       "    }\n",
       "\n",
       "    .dataframe thead th {\n",
       "        text-align: right;\n",
       "    }\n",
       "</style>\n",
       "<table border=\"1\" class=\"dataframe\">\n",
       "  <thead>\n",
       "    <tr style=\"text-align: right;\">\n",
       "      <th></th>\n",
       "      <th>学号</th>\n",
       "      <th>姓名</th>\n",
       "      <th>性别</th>\n",
       "      <th>邮箱</th>\n",
       "      <th>组名</th>\n",
       "    </tr>\n",
       "  </thead>\n",
       "  <tbody>\n",
       "    <tr>\n",
       "      <th>0</th>\n",
       "      <td>0</td>\n",
       "      <td>崔昊元</td>\n",
       "      <td>女</td>\n",
       "      <td>182607543@qq.com</td>\n",
       "      <td>萝卜</td>\n",
       "    </tr>\n",
       "    <tr>\n",
       "      <th>1</th>\n",
       "      <td>1</td>\n",
       "      <td>贾靖程</td>\n",
       "      <td>女</td>\n",
       "      <td>354817260@qq.com</td>\n",
       "      <td>黑马</td>\n",
       "    </tr>\n",
       "    <tr>\n",
       "      <th>2</th>\n",
       "      <td>2</td>\n",
       "      <td>吴俊岳</td>\n",
       "      <td>男</td>\n",
       "      <td>061523784@qq.com</td>\n",
       "      <td>萝卜</td>\n",
       "    </tr>\n",
       "    <tr>\n",
       "      <th>3</th>\n",
       "      <td>3</td>\n",
       "      <td>王浩羽</td>\n",
       "      <td>男</td>\n",
       "      <td>362745810@qq.com</td>\n",
       "      <td>叶原枫</td>\n",
       "    </tr>\n",
       "    <tr>\n",
       "      <th>4</th>\n",
       "      <td>4</td>\n",
       "      <td>吕梦丽</td>\n",
       "      <td>女</td>\n",
       "      <td>081725634@qq.com</td>\n",
       "      <td>黑马</td>\n",
       "    </tr>\n",
       "    <tr>\n",
       "      <th>5</th>\n",
       "      <td>5</td>\n",
       "      <td>牛皓冬</td>\n",
       "      <td>男</td>\n",
       "      <td>250813647@qq.com</td>\n",
       "      <td>Style</td>\n",
       "    </tr>\n",
       "    <tr>\n",
       "      <th>6</th>\n",
       "      <td>6</td>\n",
       "      <td>张阔</td>\n",
       "      <td>男</td>\n",
       "      <td>175426803@qq.com</td>\n",
       "      <td>叶原枫</td>\n",
       "    </tr>\n",
       "    <tr>\n",
       "      <th>7</th>\n",
       "      <td>7</td>\n",
       "      <td>孙佳奇</td>\n",
       "      <td>男</td>\n",
       "      <td>136807245@qq.com</td>\n",
       "      <td>Style</td>\n",
       "    </tr>\n",
       "    <tr>\n",
       "      <th>8</th>\n",
       "      <td>8</td>\n",
       "      <td>郑佳睦</td>\n",
       "      <td>男</td>\n",
       "      <td>012785643@qq.com</td>\n",
       "      <td>叶原枫</td>\n",
       "    </tr>\n",
       "    <tr>\n",
       "      <th>9</th>\n",
       "      <td>9</td>\n",
       "      <td>王孝天</td>\n",
       "      <td>男</td>\n",
       "      <td>854067321@qq.com</td>\n",
       "      <td>萝卜</td>\n",
       "    </tr>\n",
       "    <tr>\n",
       "      <th>10</th>\n",
       "      <td>10</td>\n",
       "      <td>付一鸣</td>\n",
       "      <td>男</td>\n",
       "      <td>360712854@qq.com</td>\n",
       "      <td>Style</td>\n",
       "    </tr>\n",
       "    <tr>\n",
       "      <th>11</th>\n",
       "      <td>11</td>\n",
       "      <td>李蓉轩</td>\n",
       "      <td>女</td>\n",
       "      <td>635148720@qq.com</td>\n",
       "      <td>黑马</td>\n",
       "    </tr>\n",
       "    <tr>\n",
       "      <th>12</th>\n",
       "      <td>12</td>\n",
       "      <td>陈观绅</td>\n",
       "      <td>男</td>\n",
       "      <td>625704183@qq.com</td>\n",
       "      <td>叶原枫</td>\n",
       "    </tr>\n",
       "    <tr>\n",
       "      <th>13</th>\n",
       "      <td>13</td>\n",
       "      <td>赵鑫博</td>\n",
       "      <td>男</td>\n",
       "      <td>625178043@qq.com</td>\n",
       "      <td>萝卜</td>\n",
       "    </tr>\n",
       "    <tr>\n",
       "      <th>14</th>\n",
       "      <td>14</td>\n",
       "      <td>张子豪</td>\n",
       "      <td>男</td>\n",
       "      <td>147653028@qq.com</td>\n",
       "      <td>萝卜</td>\n",
       "    </tr>\n",
       "    <tr>\n",
       "      <th>15</th>\n",
       "      <td>15</td>\n",
       "      <td>叶平</td>\n",
       "      <td>男</td>\n",
       "      <td>508731642@qq.com</td>\n",
       "      <td>Style</td>\n",
       "    </tr>\n",
       "    <tr>\n",
       "      <th>16</th>\n",
       "      <td>16</td>\n",
       "      <td>杨悦欣</td>\n",
       "      <td>女</td>\n",
       "      <td>810563247@qq.com</td>\n",
       "      <td>黑马</td>\n",
       "    </tr>\n",
       "    <tr>\n",
       "      <th>17</th>\n",
       "      <td>17</td>\n",
       "      <td>李博远</td>\n",
       "      <td>男</td>\n",
       "      <td>467015238@qq.com</td>\n",
       "      <td>Style</td>\n",
       "    </tr>\n",
       "    <tr>\n",
       "      <th>18</th>\n",
       "      <td>18</td>\n",
       "      <td>张靖薇</td>\n",
       "      <td>女</td>\n",
       "      <td>035214678@qq.com</td>\n",
       "      <td>黑马</td>\n",
       "    </tr>\n",
       "  </tbody>\n",
       "</table>\n",
       "</div>"
      ],
      "text/plain": [
       "    学号   姓名 性别                邮箱     组名\n",
       "0    0  崔昊元  女  182607543@qq.com     萝卜\n",
       "1    1  贾靖程  女  354817260@qq.com     黑马\n",
       "2    2  吴俊岳  男  061523784@qq.com     萝卜\n",
       "3    3  王浩羽  男  362745810@qq.com    叶原枫\n",
       "4    4  吕梦丽  女  081725634@qq.com     黑马\n",
       "5    5  牛皓冬  男  250813647@qq.com  Style\n",
       "6    6   张阔  男  175426803@qq.com    叶原枫\n",
       "7    7  孙佳奇  男  136807245@qq.com  Style\n",
       "8    8  郑佳睦  男  012785643@qq.com    叶原枫\n",
       "9    9  王孝天  男  854067321@qq.com     萝卜\n",
       "10  10  付一鸣  男  360712854@qq.com  Style\n",
       "11  11  李蓉轩  女  635148720@qq.com     黑马\n",
       "12  12  陈观绅  男  625704183@qq.com    叶原枫\n",
       "13  13  赵鑫博  男  625178043@qq.com     萝卜\n",
       "14  14  张子豪  男  147653028@qq.com     萝卜\n",
       "15  15   叶平  男  508731642@qq.com  Style\n",
       "16  16  杨悦欣  女  810563247@qq.com     黑马\n",
       "17  17  李博远  男  467015238@qq.com  Style\n",
       "18  18  张靖薇  女  035214678@qq.com     黑马"
      ]
     },
     "execution_count": 18,
     "metadata": {},
     "output_type": "execute_result"
    }
   ],
   "source": [
    "s2.drop('年龄', axis=1, inplace=False)"
   ]
  },
  {
   "cell_type": "markdown",
   "metadata": {
    "pycharm": {
     "name": "#%% md\n"
    }
   },
   "source": [
    "### 15.打印组名是Stayls的数据"
   ]
  },
  {
   "cell_type": "code",
   "execution_count": 19,
   "metadata": {
    "pycharm": {
     "name": "#%%\n"
    }
   },
   "outputs": [
    {
     "name": "stdout",
     "output_type": "stream",
     "text": [
      "    学号   姓名 性别  年龄                邮箱     组名\n",
      "5    5  牛皓冬  男  18  250813647@qq.com  Style\n",
      "7    7  孙佳奇  男  18  136807245@qq.com  Style\n",
      "10  10  付一鸣  男  18  360712854@qq.com  Style\n",
      "15  15   叶平  男  18  508731642@qq.com  Style\n",
      "17  17  李博远  男  18  467015238@qq.com  Style\n"
     ]
    }
   ],
   "source": [
    "# 打印索引为Stayls的数据\n",
    "df = s2[s2['组名'] == 'Style']\n",
    "print(df)"
   ]
  }
 ],
 "metadata": {
  "kernelspec": {
   "display_name": "Python 3 (ipykernel)",
   "language": "python",
   "name": "python3"
  },
  "language_info": {
   "codemirror_mode": {
    "name": "ipython",
    "version": 3
   },
   "file_extension": ".py",
   "mimetype": "text/x-python",
   "name": "python",
   "nbconvert_exporter": "python",
   "pygments_lexer": "ipython3",
   "version": "3.10.7"
  }
 },
 "nbformat": 4,
 "nbformat_minor": 1
}