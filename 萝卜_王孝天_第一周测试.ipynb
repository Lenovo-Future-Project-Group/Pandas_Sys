{
 "cells": [
  {
   "cell_type": "code",
   "execution_count": 88,
   "outputs": [],
   "source": [
    "import numpy as np\n",
    "import pandas as pd"
   ],
   "metadata": {
    "collapsed": false,
    "pycharm": {
     "name": "#%%\n"
    }
   }
  },
  {
   "cell_type": "markdown",
   "source": [
    "### 1. 创建一个Series命名为s1, Value: '一组' '二组' '三组' '四组'"
   ],
   "metadata": {
    "collapsed": false,
    "pycharm": {
     "name": "#%% md\n"
    }
   }
  },
  {
   "cell_type": "code",
   "execution_count": 89,
   "outputs": [],
   "source": [
    "data = np.array(['一组', '二组', '三组', '四组'])\n",
    "s1 = pd.Series(data, index=[1, 2, 3, 4])"
   ],
   "metadata": {
    "collapsed": false,
    "pycharm": {
     "name": "#%%\n"
    }
   }
  },
  {
   "cell_type": "markdown",
   "source": [
    "### 2.打印s1所有的值和索引"
   ],
   "metadata": {
    "collapsed": false,
    "pycharm": {
     "name": "#%% md\n"
    }
   }
  },
  {
   "cell_type": "code",
   "execution_count": 90,
   "outputs": [
    {
     "name": "stdout",
     "output_type": "stream",
     "text": [
      "['一组' '二组' '三组' '四组']\n",
      "Int64Index([1, 2, 3, 4], dtype='int64')\n"
     ]
    }
   ],
   "source": [
    "print(s1.values)\n",
    "print(s1.index)"
   ],
   "metadata": {
    "collapsed": false,
    "pycharm": {
     "name": "#%%\n"
    }
   }
  },
  {
   "cell_type": "markdown",
   "source": [
    "### 3.将索引为 1, 3 的值打印出来"
   ],
   "metadata": {
    "collapsed": false,
    "pycharm": {
     "name": "#%% md\n"
    }
   }
  },
  {
   "cell_type": "code",
   "execution_count": 91,
   "outputs": [
    {
     "name": "stdout",
     "output_type": "stream",
     "text": [
      "1    一组\n",
      "3    三组\n",
      "dtype: object\n"
     ]
    }
   ],
   "source": [
    "print(s1[[1, 3]])"
   ],
   "metadata": {
    "collapsed": false,
    "pycharm": {
     "name": "#%%\n"
    }
   }
  },
  {
   "cell_type": "markdown",
   "source": [
    "### 4.将 Value: '一组' '二组' '三组' '四组' 替换 '叶原枫' '萝卜' 'Stayls' '黑马'"
   ],
   "metadata": {
    "collapsed": false,
    "pycharm": {
     "name": "#%% md\n"
    }
   }
  },
  {
   "cell_type": "code",
   "execution_count": 92,
   "outputs": [
    {
     "name": "stdout",
     "output_type": "stream",
     "text": [
      "1       叶原枫\n",
      "2        萝卜\n",
      "3    Stayls\n",
      "4        黑马\n",
      "dtype: object\n"
     ]
    }
   ],
   "source": [
    "data = np.array(['叶原枫', '萝卜', 'Stayls', '黑马'])\n",
    "s1 = pd.Series(data, index=[1, 2, 3, 4])\n",
    "print(s1)"
   ],
   "metadata": {
    "collapsed": false,
    "pycharm": {
     "name": "#%%\n"
    }
   }
  },
  {
   "cell_type": "markdown",
   "source": [
    "### 5.打印出s1的维度"
   ],
   "metadata": {
    "collapsed": false,
    "pycharm": {
     "name": "#%% md\n"
    }
   }
  },
  {
   "cell_type": "code",
   "execution_count": 93,
   "outputs": [
    {
     "name": "stdout",
     "output_type": "stream",
     "text": [
      "1\n"
     ]
    }
   ],
   "source": [
    "print(s1.ndim)"
   ],
   "metadata": {
    "collapsed": false,
    "pycharm": {
     "name": "#%%\n"
    }
   }
  },
  {
   "cell_type": "markdown",
   "source": [
    "### 6.读取student.csv文件创建DataFrame命名为DF"
   ],
   "metadata": {
    "collapsed": false,
    "pycharm": {
     "name": "#%% md\n"
    }
   }
  },
  {
   "cell_type": "code",
   "execution_count": 94,
   "outputs": [],
   "source": [
    "def csv_to_df(csv_file):\n",
    "    csv = pd.read_csv(csv_file, low_memory=False)  # 防止弹出警告\n",
    "    df = pd.DataFrame(csv)\n",
    "    return df\n",
    "\n",
    "\n",
    "s2 = csv_to_df('data/students.csv')"
   ],
   "metadata": {
    "collapsed": false,
    "pycharm": {
     "name": "#%%\n"
    }
   }
  },
  {
   "cell_type": "code",
   "execution_count": 94,
   "outputs": [],
   "source": [],
   "metadata": {
    "collapsed": false,
    "pycharm": {
     "name": "#%%\n"
    }
   }
  },
  {
   "cell_type": "markdown",
   "source": [
    "### 7.（1）打印 df 前五行"
   ],
   "metadata": {
    "collapsed": false,
    "pycharm": {
     "name": "#%% md\n"
    }
   }
  },
  {
   "cell_type": "code",
   "execution_count": 95,
   "outputs": [
    {
     "data": {
      "text/plain": "   学号   姓名 性别  年龄                邮箱\n0   0  崔昊元  女  18  873410562@qq.com\n1   1  贾靖程  女  18  782043516@qq.com\n2   2  吴俊岳  男  18  524106783@qq.com\n3   3  王浩羽  男  18  867025341@qq.com\n4   4  吕梦丽  女  18  721548063@qq.com",
      "text/html": "<div>\n<style scoped>\n    .dataframe tbody tr th:only-of-type {\n        vertical-align: middle;\n    }\n\n    .dataframe tbody tr th {\n        vertical-align: top;\n    }\n\n    .dataframe thead th {\n        text-align: right;\n    }\n</style>\n<table border=\"1\" class=\"dataframe\">\n  <thead>\n    <tr style=\"text-align: right;\">\n      <th></th>\n      <th>学号</th>\n      <th>姓名</th>\n      <th>性别</th>\n      <th>年龄</th>\n      <th>邮箱</th>\n    </tr>\n  </thead>\n  <tbody>\n    <tr>\n      <th>0</th>\n      <td>0</td>\n      <td>崔昊元</td>\n      <td>女</td>\n      <td>18</td>\n      <td>873410562@qq.com</td>\n    </tr>\n    <tr>\n      <th>1</th>\n      <td>1</td>\n      <td>贾靖程</td>\n      <td>女</td>\n      <td>18</td>\n      <td>782043516@qq.com</td>\n    </tr>\n    <tr>\n      <th>2</th>\n      <td>2</td>\n      <td>吴俊岳</td>\n      <td>男</td>\n      <td>18</td>\n      <td>524106783@qq.com</td>\n    </tr>\n    <tr>\n      <th>3</th>\n      <td>3</td>\n      <td>王浩羽</td>\n      <td>男</td>\n      <td>18</td>\n      <td>867025341@qq.com</td>\n    </tr>\n    <tr>\n      <th>4</th>\n      <td>4</td>\n      <td>吕梦丽</td>\n      <td>女</td>\n      <td>18</td>\n      <td>721548063@qq.com</td>\n    </tr>\n  </tbody>\n</table>\n</div>"
     },
     "execution_count": 95,
     "metadata": {},
     "output_type": "execute_result"
    }
   ],
   "source": [
    "df5 = s2.head(5)\n",
    "df5"
   ],
   "metadata": {
    "collapsed": false,
    "pycharm": {
     "name": "#%%\n"
    }
   }
  },
  {
   "cell_type": "markdown",
   "source": [
    "### 7.（2）打印 df 后七行"
   ],
   "metadata": {
    "collapsed": false,
    "pycharm": {
     "name": "#%% md\n"
    }
   }
  },
  {
   "cell_type": "code",
   "execution_count": 96,
   "outputs": [
    {
     "data": {
      "text/plain": "    学号   姓名 性别  年龄                邮箱\n9    9  王孝天  男  18  365174802@qq.com\n10  10  付一鸣  男  18  358170246@qq.com\n11  11  李蓉轩  女  18  478123065@qq.com\n12  12  陈观绅  男  18  350127648@qq.com\n13  13  赵鑫博  男  18  437601285@qq.com\n14  14  张子豪  男  18  325016874@qq.com\n15  15   叶平  男  18  467125308@qq.com",
      "text/html": "<div>\n<style scoped>\n    .dataframe tbody tr th:only-of-type {\n        vertical-align: middle;\n    }\n\n    .dataframe tbody tr th {\n        vertical-align: top;\n    }\n\n    .dataframe thead th {\n        text-align: right;\n    }\n</style>\n<table border=\"1\" class=\"dataframe\">\n  <thead>\n    <tr style=\"text-align: right;\">\n      <th></th>\n      <th>学号</th>\n      <th>姓名</th>\n      <th>性别</th>\n      <th>年龄</th>\n      <th>邮箱</th>\n    </tr>\n  </thead>\n  <tbody>\n    <tr>\n      <th>9</th>\n      <td>9</td>\n      <td>王孝天</td>\n      <td>男</td>\n      <td>18</td>\n      <td>365174802@qq.com</td>\n    </tr>\n    <tr>\n      <th>10</th>\n      <td>10</td>\n      <td>付一鸣</td>\n      <td>男</td>\n      <td>18</td>\n      <td>358170246@qq.com</td>\n    </tr>\n    <tr>\n      <th>11</th>\n      <td>11</td>\n      <td>李蓉轩</td>\n      <td>女</td>\n      <td>18</td>\n      <td>478123065@qq.com</td>\n    </tr>\n    <tr>\n      <th>12</th>\n      <td>12</td>\n      <td>陈观绅</td>\n      <td>男</td>\n      <td>18</td>\n      <td>350127648@qq.com</td>\n    </tr>\n    <tr>\n      <th>13</th>\n      <td>13</td>\n      <td>赵鑫博</td>\n      <td>男</td>\n      <td>18</td>\n      <td>437601285@qq.com</td>\n    </tr>\n    <tr>\n      <th>14</th>\n      <td>14</td>\n      <td>张子豪</td>\n      <td>男</td>\n      <td>18</td>\n      <td>325016874@qq.com</td>\n    </tr>\n    <tr>\n      <th>15</th>\n      <td>15</td>\n      <td>叶平</td>\n      <td>男</td>\n      <td>18</td>\n      <td>467125308@qq.com</td>\n    </tr>\n  </tbody>\n</table>\n</div>"
     },
     "execution_count": 96,
     "metadata": {},
     "output_type": "execute_result"
    }
   ],
   "source": [
    "df7 = s2.tail(7)\n",
    "df7"
   ],
   "metadata": {
    "collapsed": false,
    "pycharm": {
     "name": "#%%\n"
    }
   }
  },
  {
   "cell_type": "markdown",
   "source": [
    "### 8.打印 df 第五到第十行数据"
   ],
   "metadata": {
    "collapsed": false,
    "pycharm": {
     "name": "#%% md\n"
    }
   }
  },
  {
   "cell_type": "code",
   "execution_count": 97,
   "outputs": [
    {
     "data": {
      "text/plain": "    学号   姓名 性别  年龄                邮箱\n5    5  牛皓冬  男  18  146827503@qq.com\n6    6   张阔  男  18  641307285@qq.com\n7    7  孙佳奇  男  18  576238104@qq.com\n8    8  郑佳睦  男  18  051643728@qq.com\n9    9  王孝天  男  18  365174802@qq.com\n10  10  付一鸣  男  18  358170246@qq.com",
      "text/html": "<div>\n<style scoped>\n    .dataframe tbody tr th:only-of-type {\n        vertical-align: middle;\n    }\n\n    .dataframe tbody tr th {\n        vertical-align: top;\n    }\n\n    .dataframe thead th {\n        text-align: right;\n    }\n</style>\n<table border=\"1\" class=\"dataframe\">\n  <thead>\n    <tr style=\"text-align: right;\">\n      <th></th>\n      <th>学号</th>\n      <th>姓名</th>\n      <th>性别</th>\n      <th>年龄</th>\n      <th>邮箱</th>\n    </tr>\n  </thead>\n  <tbody>\n    <tr>\n      <th>5</th>\n      <td>5</td>\n      <td>牛皓冬</td>\n      <td>男</td>\n      <td>18</td>\n      <td>146827503@qq.com</td>\n    </tr>\n    <tr>\n      <th>6</th>\n      <td>6</td>\n      <td>张阔</td>\n      <td>男</td>\n      <td>18</td>\n      <td>641307285@qq.com</td>\n    </tr>\n    <tr>\n      <th>7</th>\n      <td>7</td>\n      <td>孙佳奇</td>\n      <td>男</td>\n      <td>18</td>\n      <td>576238104@qq.com</td>\n    </tr>\n    <tr>\n      <th>8</th>\n      <td>8</td>\n      <td>郑佳睦</td>\n      <td>男</td>\n      <td>18</td>\n      <td>051643728@qq.com</td>\n    </tr>\n    <tr>\n      <th>9</th>\n      <td>9</td>\n      <td>王孝天</td>\n      <td>男</td>\n      <td>18</td>\n      <td>365174802@qq.com</td>\n    </tr>\n    <tr>\n      <th>10</th>\n      <td>10</td>\n      <td>付一鸣</td>\n      <td>男</td>\n      <td>18</td>\n      <td>358170246@qq.com</td>\n    </tr>\n  </tbody>\n</table>\n</div>"
     },
     "execution_count": 97,
     "metadata": {},
     "output_type": "execute_result"
    }
   ],
   "source": [
    "# 打印 df 第五到第十行数据\n",
    "df = s2[5:11]\n",
    "df"
   ],
   "metadata": {
    "collapsed": false,
    "pycharm": {
     "name": "#%%\n"
    }
   }
  },
  {
   "cell_type": "markdown",
   "source": [
    "### 9.打印 '姓名' '组名' 这两列数据"
   ],
   "metadata": {
    "collapsed": false,
    "pycharm": {
     "name": "#%% md\n"
    }
   }
  },
  {
   "cell_type": "code",
   "execution_count": 98,
   "outputs": [
    {
     "ename": "KeyError",
     "evalue": "\"['组名'] not in index\"",
     "output_type": "error",
     "traceback": [
      "\u001B[1;31m---------------------------------------------------------------------------\u001B[0m",
      "\u001B[1;31mKeyError\u001B[0m                                  Traceback (most recent call last)",
      "Cell \u001B[1;32mIn [98], line 2\u001B[0m\n\u001B[0;32m      1\u001B[0m \u001B[38;5;66;03m# 打印姓名组名这两列数据\u001B[39;00m\n\u001B[1;32m----> 2\u001B[0m df \u001B[38;5;241m=\u001B[39m \u001B[43ms2\u001B[49m\u001B[43m[\u001B[49m\u001B[43m[\u001B[49m\u001B[38;5;124;43m'\u001B[39;49m\u001B[38;5;124;43m姓名\u001B[39;49m\u001B[38;5;124;43m'\u001B[39;49m\u001B[43m,\u001B[49m\u001B[43m \u001B[49m\u001B[38;5;124;43m'\u001B[39;49m\u001B[38;5;124;43m组名\u001B[39;49m\u001B[38;5;124;43m'\u001B[39;49m\u001B[43m]\u001B[49m\u001B[43m]\u001B[49m\n\u001B[0;32m      3\u001B[0m df\n",
      "File \u001B[1;32mD:\\Bing_John\\AppData\\Local\\Programs\\Python\\Python310\\lib\\site-packages\\pandas\\core\\frame.py:3511\u001B[0m, in \u001B[0;36mDataFrame.__getitem__\u001B[1;34m(self, key)\u001B[0m\n\u001B[0;32m   3509\u001B[0m     \u001B[38;5;28;01mif\u001B[39;00m is_iterator(key):\n\u001B[0;32m   3510\u001B[0m         key \u001B[38;5;241m=\u001B[39m \u001B[38;5;28mlist\u001B[39m(key)\n\u001B[1;32m-> 3511\u001B[0m     indexer \u001B[38;5;241m=\u001B[39m \u001B[38;5;28;43mself\u001B[39;49m\u001B[38;5;241;43m.\u001B[39;49m\u001B[43mcolumns\u001B[49m\u001B[38;5;241;43m.\u001B[39;49m\u001B[43m_get_indexer_strict\u001B[49m\u001B[43m(\u001B[49m\u001B[43mkey\u001B[49m\u001B[43m,\u001B[49m\u001B[43m \u001B[49m\u001B[38;5;124;43m\"\u001B[39;49m\u001B[38;5;124;43mcolumns\u001B[39;49m\u001B[38;5;124;43m\"\u001B[39;49m\u001B[43m)\u001B[49m[\u001B[38;5;241m1\u001B[39m]\n\u001B[0;32m   3513\u001B[0m \u001B[38;5;66;03m# take() does not accept boolean indexers\u001B[39;00m\n\u001B[0;32m   3514\u001B[0m \u001B[38;5;28;01mif\u001B[39;00m \u001B[38;5;28mgetattr\u001B[39m(indexer, \u001B[38;5;124m\"\u001B[39m\u001B[38;5;124mdtype\u001B[39m\u001B[38;5;124m\"\u001B[39m, \u001B[38;5;28;01mNone\u001B[39;00m) \u001B[38;5;241m==\u001B[39m \u001B[38;5;28mbool\u001B[39m:\n",
      "File \u001B[1;32mD:\\Bing_John\\AppData\\Local\\Programs\\Python\\Python310\\lib\\site-packages\\pandas\\core\\indexes\\base.py:5796\u001B[0m, in \u001B[0;36mIndex._get_indexer_strict\u001B[1;34m(self, key, axis_name)\u001B[0m\n\u001B[0;32m   5793\u001B[0m \u001B[38;5;28;01melse\u001B[39;00m:\n\u001B[0;32m   5794\u001B[0m     keyarr, indexer, new_indexer \u001B[38;5;241m=\u001B[39m \u001B[38;5;28mself\u001B[39m\u001B[38;5;241m.\u001B[39m_reindex_non_unique(keyarr)\n\u001B[1;32m-> 5796\u001B[0m \u001B[38;5;28;43mself\u001B[39;49m\u001B[38;5;241;43m.\u001B[39;49m\u001B[43m_raise_if_missing\u001B[49m\u001B[43m(\u001B[49m\u001B[43mkeyarr\u001B[49m\u001B[43m,\u001B[49m\u001B[43m \u001B[49m\u001B[43mindexer\u001B[49m\u001B[43m,\u001B[49m\u001B[43m \u001B[49m\u001B[43maxis_name\u001B[49m\u001B[43m)\u001B[49m\n\u001B[0;32m   5798\u001B[0m keyarr \u001B[38;5;241m=\u001B[39m \u001B[38;5;28mself\u001B[39m\u001B[38;5;241m.\u001B[39mtake(indexer)\n\u001B[0;32m   5799\u001B[0m \u001B[38;5;28;01mif\u001B[39;00m \u001B[38;5;28misinstance\u001B[39m(key, Index):\n\u001B[0;32m   5800\u001B[0m     \u001B[38;5;66;03m# GH 42790 - Preserve name from an Index\u001B[39;00m\n",
      "File \u001B[1;32mD:\\Bing_John\\AppData\\Local\\Programs\\Python\\Python310\\lib\\site-packages\\pandas\\core\\indexes\\base.py:5859\u001B[0m, in \u001B[0;36mIndex._raise_if_missing\u001B[1;34m(self, key, indexer, axis_name)\u001B[0m\n\u001B[0;32m   5856\u001B[0m     \u001B[38;5;28;01mraise\u001B[39;00m \u001B[38;5;167;01mKeyError\u001B[39;00m(\u001B[38;5;124mf\u001B[39m\u001B[38;5;124m\"\u001B[39m\u001B[38;5;124mNone of [\u001B[39m\u001B[38;5;132;01m{\u001B[39;00mkey\u001B[38;5;132;01m}\u001B[39;00m\u001B[38;5;124m] are in the [\u001B[39m\u001B[38;5;132;01m{\u001B[39;00maxis_name\u001B[38;5;132;01m}\u001B[39;00m\u001B[38;5;124m]\u001B[39m\u001B[38;5;124m\"\u001B[39m)\n\u001B[0;32m   5858\u001B[0m not_found \u001B[38;5;241m=\u001B[39m \u001B[38;5;28mlist\u001B[39m(ensure_index(key)[missing_mask\u001B[38;5;241m.\u001B[39mnonzero()[\u001B[38;5;241m0\u001B[39m]]\u001B[38;5;241m.\u001B[39munique())\n\u001B[1;32m-> 5859\u001B[0m \u001B[38;5;28;01mraise\u001B[39;00m \u001B[38;5;167;01mKeyError\u001B[39;00m(\u001B[38;5;124mf\u001B[39m\u001B[38;5;124m\"\u001B[39m\u001B[38;5;132;01m{\u001B[39;00mnot_found\u001B[38;5;132;01m}\u001B[39;00m\u001B[38;5;124m not in index\u001B[39m\u001B[38;5;124m\"\u001B[39m)\n",
      "\u001B[1;31mKeyError\u001B[0m: \"['组名'] not in index\""
     ]
    }
   ],
   "source": [
    "# 打印姓名组名这两列数据\n",
    "df = s2[['姓名', '组名']]\n",
    "df"
   ],
   "metadata": {
    "collapsed": false,
    "pycharm": {
     "name": "#%%\n"
    }
   }
  },
  {
   "cell_type": "markdown",
   "source": [
    "### 10.打印所有的标题"
   ],
   "metadata": {
    "collapsed": false,
    "pycharm": {
     "name": "#%% md\n"
    }
   }
  },
  {
   "cell_type": "code",
   "execution_count": null,
   "outputs": [],
   "source": [
    "# 打印所有的标题\n",
    "df = s2.columns\n",
    "print(df)"
   ],
   "metadata": {
    "collapsed": false,
    "pycharm": {
     "name": "#%%\n"
    }
   }
  },
  {
   "cell_type": "markdown",
   "source": [
    "### 11.打印df的形状(几行几列)"
   ],
   "metadata": {
    "collapsed": false,
    "pycharm": {
     "name": "#%% md\n"
    }
   }
  },
  {
   "cell_type": "code",
   "execution_count": null,
   "outputs": [],
   "source": [
    "df = s2.shape\n",
    "print(df)"
   ],
   "metadata": {
    "collapsed": false,
    "pycharm": {
     "name": "#%%\n"
    }
   }
  },
  {
   "cell_type": "markdown",
   "source": [
    "### 12.打印df的维度"
   ],
   "metadata": {
    "collapsed": false,
    "pycharm": {
     "name": "#%% md\n"
    }
   }
  },
  {
   "cell_type": "code",
   "execution_count": null,
   "outputs": [],
   "source": [
    "df = s2.ndim\n",
    "print(df)"
   ],
   "metadata": {
    "collapsed": false,
    "pycharm": {
     "name": "#%%\n"
    }
   }
  },
  {
   "cell_type": "markdown",
   "source": [
    "### 13.删除第五行数据"
   ],
   "metadata": {
    "collapsed": false,
    "pycharm": {
     "name": "#%% md\n"
    }
   }
  },
  {
   "cell_type": "code",
   "execution_count": 103,
   "outputs": [
    {
     "data": {
      "text/plain": "    学号   姓名 性别  年龄                邮箱\n0    0  崔昊元  女  18  873410562@qq.com\n1    1  贾靖程  女  18  782043516@qq.com\n2    2  吴俊岳  男  18  524106783@qq.com\n3    3  王浩羽  男  18  867025341@qq.com\n4    4  吕梦丽  女  18  721548063@qq.com\n6    6   张阔  男  18  641307285@qq.com\n7    7  孙佳奇  男  18  576238104@qq.com\n8    8  郑佳睦  男  18  051643728@qq.com\n9    9  王孝天  男  18  365174802@qq.com\n10  10  付一鸣  男  18  358170246@qq.com\n11  11  李蓉轩  女  18  478123065@qq.com\n12  12  陈观绅  男  18  350127648@qq.com\n13  13  赵鑫博  男  18  437601285@qq.com\n14  14  张子豪  男  18  325016874@qq.com\n15  15   叶平  男  18  467125308@qq.com",
      "text/html": "<div>\n<style scoped>\n    .dataframe tbody tr th:only-of-type {\n        vertical-align: middle;\n    }\n\n    .dataframe tbody tr th {\n        vertical-align: top;\n    }\n\n    .dataframe thead th {\n        text-align: right;\n    }\n</style>\n<table border=\"1\" class=\"dataframe\">\n  <thead>\n    <tr style=\"text-align: right;\">\n      <th></th>\n      <th>学号</th>\n      <th>姓名</th>\n      <th>性别</th>\n      <th>年龄</th>\n      <th>邮箱</th>\n    </tr>\n  </thead>\n  <tbody>\n    <tr>\n      <th>0</th>\n      <td>0</td>\n      <td>崔昊元</td>\n      <td>女</td>\n      <td>18</td>\n      <td>873410562@qq.com</td>\n    </tr>\n    <tr>\n      <th>1</th>\n      <td>1</td>\n      <td>贾靖程</td>\n      <td>女</td>\n      <td>18</td>\n      <td>782043516@qq.com</td>\n    </tr>\n    <tr>\n      <th>2</th>\n      <td>2</td>\n      <td>吴俊岳</td>\n      <td>男</td>\n      <td>18</td>\n      <td>524106783@qq.com</td>\n    </tr>\n    <tr>\n      <th>3</th>\n      <td>3</td>\n      <td>王浩羽</td>\n      <td>男</td>\n      <td>18</td>\n      <td>867025341@qq.com</td>\n    </tr>\n    <tr>\n      <th>4</th>\n      <td>4</td>\n      <td>吕梦丽</td>\n      <td>女</td>\n      <td>18</td>\n      <td>721548063@qq.com</td>\n    </tr>\n    <tr>\n      <th>6</th>\n      <td>6</td>\n      <td>张阔</td>\n      <td>男</td>\n      <td>18</td>\n      <td>641307285@qq.com</td>\n    </tr>\n    <tr>\n      <th>7</th>\n      <td>7</td>\n      <td>孙佳奇</td>\n      <td>男</td>\n      <td>18</td>\n      <td>576238104@qq.com</td>\n    </tr>\n    <tr>\n      <th>8</th>\n      <td>8</td>\n      <td>郑佳睦</td>\n      <td>男</td>\n      <td>18</td>\n      <td>051643728@qq.com</td>\n    </tr>\n    <tr>\n      <th>9</th>\n      <td>9</td>\n      <td>王孝天</td>\n      <td>男</td>\n      <td>18</td>\n      <td>365174802@qq.com</td>\n    </tr>\n    <tr>\n      <th>10</th>\n      <td>10</td>\n      <td>付一鸣</td>\n      <td>男</td>\n      <td>18</td>\n      <td>358170246@qq.com</td>\n    </tr>\n    <tr>\n      <th>11</th>\n      <td>11</td>\n      <td>李蓉轩</td>\n      <td>女</td>\n      <td>18</td>\n      <td>478123065@qq.com</td>\n    </tr>\n    <tr>\n      <th>12</th>\n      <td>12</td>\n      <td>陈观绅</td>\n      <td>男</td>\n      <td>18</td>\n      <td>350127648@qq.com</td>\n    </tr>\n    <tr>\n      <th>13</th>\n      <td>13</td>\n      <td>赵鑫博</td>\n      <td>男</td>\n      <td>18</td>\n      <td>437601285@qq.com</td>\n    </tr>\n    <tr>\n      <th>14</th>\n      <td>14</td>\n      <td>张子豪</td>\n      <td>男</td>\n      <td>18</td>\n      <td>325016874@qq.com</td>\n    </tr>\n    <tr>\n      <th>15</th>\n      <td>15</td>\n      <td>叶平</td>\n      <td>男</td>\n      <td>18</td>\n      <td>467125308@qq.com</td>\n    </tr>\n  </tbody>\n</table>\n</div>"
     },
     "execution_count": 103,
     "metadata": {},
     "output_type": "execute_result"
    }
   ],
   "source": [
    "s2.drop(5, inplace=False)"
   ],
   "metadata": {
    "collapsed": false,
    "pycharm": {
     "name": "#%%\n"
    }
   }
  },
  {
   "cell_type": "markdown",
   "source": [
    "### 14.删除年龄这一列"
   ],
   "metadata": {
    "collapsed": false,
    "pycharm": {
     "name": "#%% md\n"
    }
   }
  },
  {
   "cell_type": "code",
   "execution_count": 102,
   "outputs": [
    {
     "data": {
      "text/plain": "    学号   姓名 性别                邮箱\n0    0  崔昊元  女  873410562@qq.com\n1    1  贾靖程  女  782043516@qq.com\n2    2  吴俊岳  男  524106783@qq.com\n3    3  王浩羽  男  867025341@qq.com\n4    4  吕梦丽  女  721548063@qq.com\n5    5  牛皓冬  男  146827503@qq.com\n6    6   张阔  男  641307285@qq.com\n7    7  孙佳奇  男  576238104@qq.com\n8    8  郑佳睦  男  051643728@qq.com\n9    9  王孝天  男  365174802@qq.com\n10  10  付一鸣  男  358170246@qq.com\n11  11  李蓉轩  女  478123065@qq.com\n12  12  陈观绅  男  350127648@qq.com\n13  13  赵鑫博  男  437601285@qq.com\n14  14  张子豪  男  325016874@qq.com\n15  15   叶平  男  467125308@qq.com",
      "text/html": "<div>\n<style scoped>\n    .dataframe tbody tr th:only-of-type {\n        vertical-align: middle;\n    }\n\n    .dataframe tbody tr th {\n        vertical-align: top;\n    }\n\n    .dataframe thead th {\n        text-align: right;\n    }\n</style>\n<table border=\"1\" class=\"dataframe\">\n  <thead>\n    <tr style=\"text-align: right;\">\n      <th></th>\n      <th>学号</th>\n      <th>姓名</th>\n      <th>性别</th>\n      <th>邮箱</th>\n    </tr>\n  </thead>\n  <tbody>\n    <tr>\n      <th>0</th>\n      <td>0</td>\n      <td>崔昊元</td>\n      <td>女</td>\n      <td>873410562@qq.com</td>\n    </tr>\n    <tr>\n      <th>1</th>\n      <td>1</td>\n      <td>贾靖程</td>\n      <td>女</td>\n      <td>782043516@qq.com</td>\n    </tr>\n    <tr>\n      <th>2</th>\n      <td>2</td>\n      <td>吴俊岳</td>\n      <td>男</td>\n      <td>524106783@qq.com</td>\n    </tr>\n    <tr>\n      <th>3</th>\n      <td>3</td>\n      <td>王浩羽</td>\n      <td>男</td>\n      <td>867025341@qq.com</td>\n    </tr>\n    <tr>\n      <th>4</th>\n      <td>4</td>\n      <td>吕梦丽</td>\n      <td>女</td>\n      <td>721548063@qq.com</td>\n    </tr>\n    <tr>\n      <th>5</th>\n      <td>5</td>\n      <td>牛皓冬</td>\n      <td>男</td>\n      <td>146827503@qq.com</td>\n    </tr>\n    <tr>\n      <th>6</th>\n      <td>6</td>\n      <td>张阔</td>\n      <td>男</td>\n      <td>641307285@qq.com</td>\n    </tr>\n    <tr>\n      <th>7</th>\n      <td>7</td>\n      <td>孙佳奇</td>\n      <td>男</td>\n      <td>576238104@qq.com</td>\n    </tr>\n    <tr>\n      <th>8</th>\n      <td>8</td>\n      <td>郑佳睦</td>\n      <td>男</td>\n      <td>051643728@qq.com</td>\n    </tr>\n    <tr>\n      <th>9</th>\n      <td>9</td>\n      <td>王孝天</td>\n      <td>男</td>\n      <td>365174802@qq.com</td>\n    </tr>\n    <tr>\n      <th>10</th>\n      <td>10</td>\n      <td>付一鸣</td>\n      <td>男</td>\n      <td>358170246@qq.com</td>\n    </tr>\n    <tr>\n      <th>11</th>\n      <td>11</td>\n      <td>李蓉轩</td>\n      <td>女</td>\n      <td>478123065@qq.com</td>\n    </tr>\n    <tr>\n      <th>12</th>\n      <td>12</td>\n      <td>陈观绅</td>\n      <td>男</td>\n      <td>350127648@qq.com</td>\n    </tr>\n    <tr>\n      <th>13</th>\n      <td>13</td>\n      <td>赵鑫博</td>\n      <td>男</td>\n      <td>437601285@qq.com</td>\n    </tr>\n    <tr>\n      <th>14</th>\n      <td>14</td>\n      <td>张子豪</td>\n      <td>男</td>\n      <td>325016874@qq.com</td>\n    </tr>\n    <tr>\n      <th>15</th>\n      <td>15</td>\n      <td>叶平</td>\n      <td>男</td>\n      <td>467125308@qq.com</td>\n    </tr>\n  </tbody>\n</table>\n</div>"
     },
     "execution_count": 102,
     "metadata": {},
     "output_type": "execute_result"
    }
   ],
   "source": [
    "s2.drop('年龄', axis=1, inplace=False)"
   ],
   "metadata": {
    "collapsed": false,
    "pycharm": {
     "name": "#%%\n"
    }
   }
  },
  {
   "cell_type": "markdown",
   "source": [
    "# 15.打印组名是Stayls的数据"
   ],
   "metadata": {
    "collapsed": false,
    "pycharm": {
     "name": "#%% md\n"
    }
   }
  },
  {
   "cell_type": "code",
   "execution_count": null,
   "outputs": [],
   "source": [
    "# 打印索引为Stayls的数据\n",
    "df = s2[s2['组名'] == 'Stayls']\n",
    "print(df)"
   ],
   "metadata": {
    "collapsed": false,
    "pycharm": {
     "name": "#%%\n"
    }
   }
  }
 ],
 "metadata": {
  "kernelspec": {
   "display_name": "Python 3",
   "language": "python",
   "name": "python3"
  },
  "language_info": {
   "codemirror_mode": {
    "name": "ipython",
    "version": 2
   },
   "file_extension": ".py",
   "mimetype": "text/x-python",
   "name": "python",
   "nbconvert_exporter": "python",
   "pygments_lexer": "ipython2",
   "version": "2.7.6"
  }
 },
 "nbformat": 4,
 "nbformat_minor": 0
}